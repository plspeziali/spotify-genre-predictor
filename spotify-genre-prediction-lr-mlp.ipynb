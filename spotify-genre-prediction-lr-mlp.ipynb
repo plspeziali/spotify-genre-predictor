{
 "cells": [
  {
   "cell_type": "code",
   "execution_count": 1,
   "id": "b3f81694",
   "metadata": {
    "execution": {
     "iopub.execute_input": "2022-08-27T19:20:22.056686Z",
     "iopub.status.busy": "2022-08-27T19:20:22.056289Z",
     "iopub.status.idle": "2022-08-27T19:20:23.024151Z",
     "shell.execute_reply": "2022-08-27T19:20:23.023173Z"
    },
    "papermill": {
     "duration": 0.982915,
     "end_time": "2022-08-27T19:20:23.027882",
     "exception": false,
     "start_time": "2022-08-27T19:20:22.044967",
     "status": "completed"
    },
    "tags": []
   },
   "outputs": [],
   "source": [
    "import pandas as pd\n",
    "import seaborn as sns # for data visualization\n",
    "import matplotlib.pyplot as plt\n",
    "import numpy as np\n",
    "def corr_heatmap(data):\n",
    "    corr_matrix = data.corr()\n",
    "    mask = np.zeros_like(corr_matrix, dtype=bool)\n",
    "    mask[np.triu_indices_from(mask)]= True\n",
    "    f, ax = plt.subplots(figsize=(11, 15)) \n",
    "    heatmap = sns.heatmap(corr_matrix, \n",
    "                          mask = mask,\n",
    "                          square = True,\n",
    "                          linewidths = .5,\n",
    "                          cmap = 'coolwarm',\n",
    "                          cbar_kws = {'shrink': .4, \n",
    "                                    'ticks' : [-1, -.5, 0, 0.5, 1]},\n",
    "                          vmin = -1, \n",
    "                          vmax = 1,\n",
    "                          annot = True,\n",
    "                          annot_kws = {'size': 12})#add the column names as labels\n",
    "    ax.set_yticklabels(corr_matrix.columns, rotation = 0)\n",
    "    ax.set_xticklabels(corr_matrix.columns)\n",
    "    sns.set_style({'xtick.bottom': True}, {'ytick.left': True})\n",
    "    \n",
    "def GridSearch_table_plot(grid_clf, param_name,\n",
    "                          num_results=15,\n",
    "                          negative=True,\n",
    "                          graph=True,\n",
    "                          display_all_params=True):\n",
    "\n",
    "    '''Display grid search results\n",
    "\n",
    "    Arguments\n",
    "    ---------\n",
    "\n",
    "    grid_clf           the estimator resulting from a grid search\n",
    "                       for example: grid_clf = GridSearchCV( ...\n",
    "\n",
    "    param_name         a string with the name of the parameter being tested\n",
    "\n",
    "    num_results        an integer indicating the number of results to display\n",
    "                       Default: 15\n",
    "\n",
    "    negative           boolean: should the sign of the score be reversed?\n",
    "                       scoring = 'neg_log_loss', for instance\n",
    "                       Default: True\n",
    "\n",
    "    graph              boolean: should a graph be produced?\n",
    "                       non-numeric parameters (True/False, None) don't graph well\n",
    "                       Default: True\n",
    "\n",
    "    display_all_params boolean: should we print out all of the parameters, not just the ones searched for?\n",
    "                       Default: True\n",
    "\n",
    "    Usage\n",
    "    -----\n",
    "\n",
    "    GridSearch_table_plot(grid_clf, \"min_samples_leaf\")\n",
    "\n",
    "                          '''\n",
    "    from matplotlib      import pyplot as plt\n",
    "    from IPython.display import display\n",
    "    import pandas as pd\n",
    "\n",
    "    clf = grid_clf.best_estimator_\n",
    "    clf_params = grid_clf.best_params_\n",
    "    if negative:\n",
    "        clf_score = -grid_clf.best_score_\n",
    "    else:\n",
    "        clf_score = grid_clf.best_score_\n",
    "    clf_stdev = grid_clf.cv_results_['std_test_score'][grid_clf.best_index_]\n",
    "    cv_results = grid_clf.cv_results_\n",
    "\n",
    "    print(\"best parameters: {}\".format(clf_params))\n",
    "    print(\"best score:      {:0.5f} (+/-{:0.5f})\".format(clf_score, clf_stdev))\n",
    "    if display_all_params:\n",
    "        import pprint\n",
    "        pprint.pprint(clf.get_params())\n",
    "\n",
    "    # pick out the best results\n",
    "    # =========================\n",
    "    scores_df = pd.DataFrame(cv_results).sort_values(by='rank_test_score')\n",
    "\n",
    "    best_row = scores_df.iloc[0, :]\n",
    "    if negative:\n",
    "        best_mean = -best_row['mean_test_score']\n",
    "    else:\n",
    "        best_mean = best_row['mean_test_score']\n",
    "    best_stdev = best_row['std_test_score']\n",
    "    best_param = best_row['param_' + param_name]\n",
    "\n",
    "    # display the top 'num_results' results\n",
    "    # =====================================\n",
    "    display(pd.DataFrame(cv_results) \\\n",
    "            .sort_values(by='rank_test_score').head(num_results))\n",
    "\n",
    "    # plot the results\n",
    "    # ================\n",
    "    scores_df = scores_df.sort_values(by='param_' + param_name)\n",
    "\n",
    "    if negative:\n",
    "        means = -scores_df['mean_test_score']\n",
    "    else:\n",
    "        means = scores_df['mean_test_score']\n",
    "    stds = scores_df['std_test_score']\n",
    "    params = scores_df['param_' + param_name]\n",
    "\n",
    "    # plot\n",
    "    if graph:\n",
    "        plt.figure(figsize=(8, 8))\n",
    "        plt.errorbar(params, means, yerr=stds)\n",
    "\n",
    "        plt.axhline(y=best_mean + best_stdev, color='red')\n",
    "        plt.axhline(y=best_mean - best_stdev, color='red')\n",
    "        plt.plot(best_param, best_mean, 'or')\n",
    "\n",
    "        plt.title(param_name + \" vs Score\\nBest Score {:0.5f}\".format(clf_score))\n",
    "        plt.xlabel(param_name)\n",
    "        plt.ylabel('Score')\n",
    "        plt.show()"
   ]
  },
  {
   "cell_type": "code",
   "execution_count": 2,
   "id": "78ea686e",
   "metadata": {
    "execution": {
     "iopub.execute_input": "2022-08-27T19:20:23.049012Z",
     "iopub.status.busy": "2022-08-27T19:20:23.048291Z",
     "iopub.status.idle": "2022-08-27T19:20:24.155360Z",
     "shell.execute_reply": "2022-08-27T19:20:24.154797Z"
    },
    "papermill": {
     "duration": 1.11854,
     "end_time": "2022-08-27T19:20:24.157211",
     "exception": false,
     "start_time": "2022-08-27T19:20:23.038671",
     "status": "completed"
    },
    "tags": []
   },
   "outputs": [
    {
     "data": {
      "text/html": [
       "<div>\n",
       "<style scoped>\n",
       "    .dataframe tbody tr th:only-of-type {\n",
       "        vertical-align: middle;\n",
       "    }\n",
       "\n",
       "    .dataframe tbody tr th {\n",
       "        vertical-align: top;\n",
       "    }\n",
       "\n",
       "    .dataframe thead th {\n",
       "        text-align: right;\n",
       "    }\n",
       "</style>\n",
       "<table border=\"1\" class=\"dataframe\">\n",
       "  <thead>\n",
       "    <tr style=\"text-align: right;\">\n",
       "      <th></th>\n",
       "      <th>genre</th>\n",
       "      <th>artist_name</th>\n",
       "      <th>track_name</th>\n",
       "      <th>track_id</th>\n",
       "      <th>popularity</th>\n",
       "      <th>acousticness</th>\n",
       "      <th>danceability</th>\n",
       "      <th>duration_ms</th>\n",
       "      <th>energy</th>\n",
       "      <th>instrumentalness</th>\n",
       "      <th>key</th>\n",
       "      <th>liveness</th>\n",
       "      <th>loudness</th>\n",
       "      <th>mode</th>\n",
       "      <th>speechiness</th>\n",
       "      <th>tempo</th>\n",
       "      <th>time_signature</th>\n",
       "      <th>valence</th>\n",
       "    </tr>\n",
       "  </thead>\n",
       "  <tbody>\n",
       "    <tr>\n",
       "      <th>0</th>\n",
       "      <td>Movie</td>\n",
       "      <td>Henri Salvador</td>\n",
       "      <td>C'est beau de faire un Show</td>\n",
       "      <td>0BRjO6ga9RKCKjfDqeFgWV</td>\n",
       "      <td>0</td>\n",
       "      <td>0.611</td>\n",
       "      <td>0.389</td>\n",
       "      <td>99373</td>\n",
       "      <td>0.910</td>\n",
       "      <td>0.000</td>\n",
       "      <td>C#</td>\n",
       "      <td>0.3460</td>\n",
       "      <td>-1.828</td>\n",
       "      <td>Major</td>\n",
       "      <td>0.0525</td>\n",
       "      <td>166.969</td>\n",
       "      <td>4/4</td>\n",
       "      <td>0.814</td>\n",
       "    </tr>\n",
       "    <tr>\n",
       "      <th>1</th>\n",
       "      <td>Movie</td>\n",
       "      <td>Martin &amp; les fées</td>\n",
       "      <td>Perdu d'avance (par Gad Elmaleh)</td>\n",
       "      <td>0BjC1NfoEOOusryehmNudP</td>\n",
       "      <td>1</td>\n",
       "      <td>0.246</td>\n",
       "      <td>0.590</td>\n",
       "      <td>137373</td>\n",
       "      <td>0.737</td>\n",
       "      <td>0.000</td>\n",
       "      <td>F#</td>\n",
       "      <td>0.1510</td>\n",
       "      <td>-5.559</td>\n",
       "      <td>Minor</td>\n",
       "      <td>0.0868</td>\n",
       "      <td>174.003</td>\n",
       "      <td>4/4</td>\n",
       "      <td>0.816</td>\n",
       "    </tr>\n",
       "    <tr>\n",
       "      <th>2</th>\n",
       "      <td>Movie</td>\n",
       "      <td>Joseph Williams</td>\n",
       "      <td>Don't Let Me Be Lonely Tonight</td>\n",
       "      <td>0CoSDzoNIKCRs124s9uTVy</td>\n",
       "      <td>3</td>\n",
       "      <td>0.952</td>\n",
       "      <td>0.663</td>\n",
       "      <td>170267</td>\n",
       "      <td>0.131</td>\n",
       "      <td>0.000</td>\n",
       "      <td>C</td>\n",
       "      <td>0.1030</td>\n",
       "      <td>-13.879</td>\n",
       "      <td>Minor</td>\n",
       "      <td>0.0362</td>\n",
       "      <td>99.488</td>\n",
       "      <td>5/4</td>\n",
       "      <td>0.368</td>\n",
       "    </tr>\n",
       "    <tr>\n",
       "      <th>3</th>\n",
       "      <td>Movie</td>\n",
       "      <td>Henri Salvador</td>\n",
       "      <td>Dis-moi Monsieur Gordon Cooper</td>\n",
       "      <td>0Gc6TVm52BwZD07Ki6tIvf</td>\n",
       "      <td>0</td>\n",
       "      <td>0.703</td>\n",
       "      <td>0.240</td>\n",
       "      <td>152427</td>\n",
       "      <td>0.326</td>\n",
       "      <td>0.000</td>\n",
       "      <td>C#</td>\n",
       "      <td>0.0985</td>\n",
       "      <td>-12.178</td>\n",
       "      <td>Major</td>\n",
       "      <td>0.0395</td>\n",
       "      <td>171.758</td>\n",
       "      <td>4/4</td>\n",
       "      <td>0.227</td>\n",
       "    </tr>\n",
       "    <tr>\n",
       "      <th>4</th>\n",
       "      <td>Movie</td>\n",
       "      <td>Fabien Nataf</td>\n",
       "      <td>Ouverture</td>\n",
       "      <td>0IuslXpMROHdEPvSl1fTQK</td>\n",
       "      <td>4</td>\n",
       "      <td>0.950</td>\n",
       "      <td>0.331</td>\n",
       "      <td>82625</td>\n",
       "      <td>0.225</td>\n",
       "      <td>0.123</td>\n",
       "      <td>F</td>\n",
       "      <td>0.2020</td>\n",
       "      <td>-21.150</td>\n",
       "      <td>Major</td>\n",
       "      <td>0.0456</td>\n",
       "      <td>140.576</td>\n",
       "      <td>4/4</td>\n",
       "      <td>0.390</td>\n",
       "    </tr>\n",
       "  </tbody>\n",
       "</table>\n",
       "</div>"
      ],
      "text/plain": [
       "   genre        artist_name                        track_name  \\\n",
       "0  Movie     Henri Salvador       C'est beau de faire un Show   \n",
       "1  Movie  Martin & les fées  Perdu d'avance (par Gad Elmaleh)   \n",
       "2  Movie    Joseph Williams    Don't Let Me Be Lonely Tonight   \n",
       "3  Movie     Henri Salvador    Dis-moi Monsieur Gordon Cooper   \n",
       "4  Movie       Fabien Nataf                         Ouverture   \n",
       "\n",
       "                 track_id  popularity  acousticness  danceability  \\\n",
       "0  0BRjO6ga9RKCKjfDqeFgWV           0         0.611         0.389   \n",
       "1  0BjC1NfoEOOusryehmNudP           1         0.246         0.590   \n",
       "2  0CoSDzoNIKCRs124s9uTVy           3         0.952         0.663   \n",
       "3  0Gc6TVm52BwZD07Ki6tIvf           0         0.703         0.240   \n",
       "4  0IuslXpMROHdEPvSl1fTQK           4         0.950         0.331   \n",
       "\n",
       "   duration_ms  energy  instrumentalness key  liveness  loudness   mode  \\\n",
       "0        99373   0.910             0.000  C#    0.3460    -1.828  Major   \n",
       "1       137373   0.737             0.000  F#    0.1510    -5.559  Minor   \n",
       "2       170267   0.131             0.000   C    0.1030   -13.879  Minor   \n",
       "3       152427   0.326             0.000  C#    0.0985   -12.178  Major   \n",
       "4        82625   0.225             0.123   F    0.2020   -21.150  Major   \n",
       "\n",
       "   speechiness    tempo time_signature  valence  \n",
       "0       0.0525  166.969            4/4    0.814  \n",
       "1       0.0868  174.003            4/4    0.816  \n",
       "2       0.0362   99.488            5/4    0.368  \n",
       "3       0.0395  171.758            4/4    0.227  \n",
       "4       0.0456  140.576            4/4    0.390  "
      ]
     },
     "metadata": {},
     "output_type": "display_data"
    }
   ],
   "source": [
    "df = pd.read_csv(\"../input/ultimate-spotify-tracks-db/SpotifyFeatures.csv\")\n",
    "display(df.head())"
   ]
  },
  {
   "cell_type": "code",
   "execution_count": 3,
   "id": "59c999b8",
   "metadata": {
    "execution": {
     "iopub.execute_input": "2022-08-27T19:20:24.175681Z",
     "iopub.status.busy": "2022-08-27T19:20:24.174937Z",
     "iopub.status.idle": "2022-08-27T19:20:24.180167Z",
     "shell.execute_reply": "2022-08-27T19:20:24.179175Z"
    },
    "papermill": {
     "duration": 0.017264,
     "end_time": "2022-08-27T19:20:24.182710",
     "exception": false,
     "start_time": "2022-08-27T19:20:24.165446",
     "status": "completed"
    },
    "tags": []
   },
   "outputs": [
    {
     "name": "stdout",
     "output_type": "stream",
     "text": [
      "Index(['genre', 'artist_name', 'track_name', 'track_id', 'popularity',\n",
      "       'acousticness', 'danceability', 'duration_ms', 'energy',\n",
      "       'instrumentalness', 'key', 'liveness', 'loudness', 'mode',\n",
      "       'speechiness', 'tempo', 'time_signature', 'valence'],\n",
      "      dtype='object')\n"
     ]
    }
   ],
   "source": [
    "# Prints the names of the features\n",
    "print(df.keys())"
   ]
  },
  {
   "cell_type": "code",
   "execution_count": 4,
   "id": "8d781356",
   "metadata": {
    "execution": {
     "iopub.execute_input": "2022-08-27T19:20:24.200994Z",
     "iopub.status.busy": "2022-08-27T19:20:24.200668Z",
     "iopub.status.idle": "2022-08-27T19:20:24.266937Z",
     "shell.execute_reply": "2022-08-27T19:20:24.265627Z"
    },
    "papermill": {
     "duration": 0.07812,
     "end_time": "2022-08-27T19:20:24.269325",
     "exception": false,
     "start_time": "2022-08-27T19:20:24.191205",
     "status": "completed"
    },
    "tags": []
   },
   "outputs": [
    {
     "name": "stdout",
     "output_type": "stream",
     "text": [
      "genre               0\n",
      "artist_name         0\n",
      "track_name          0\n",
      "track_id            0\n",
      "popularity          0\n",
      "acousticness        0\n",
      "danceability        0\n",
      "duration_ms         0\n",
      "energy              0\n",
      "instrumentalness    0\n",
      "key                 0\n",
      "liveness            0\n",
      "loudness            0\n",
      "mode                0\n",
      "speechiness         0\n",
      "tempo               0\n",
      "time_signature      0\n",
      "valence             0\n",
      "dtype: int64\n"
     ]
    }
   ],
   "source": [
    "# Let's check for null values\n",
    "print(pd.isnull(df).sum())"
   ]
  },
  {
   "cell_type": "code",
   "execution_count": 5,
   "id": "fd4ff0aa",
   "metadata": {
    "execution": {
     "iopub.execute_input": "2022-08-27T19:20:24.287323Z",
     "iopub.status.busy": "2022-08-27T19:20:24.287012Z",
     "iopub.status.idle": "2022-08-27T19:20:24.716704Z",
     "shell.execute_reply": "2022-08-27T19:20:24.715406Z"
    },
    "papermill": {
     "duration": 0.440986,
     "end_time": "2022-08-27T19:20:24.718794",
     "exception": false,
     "start_time": "2022-08-27T19:20:24.277808",
     "status": "completed"
    },
    "tags": []
   },
   "outputs": [
    {
     "data": {
      "text/plain": [
       "Text(0.5, 1.0, 'Time Signature Distribution')"
      ]
     },
     "execution_count": 5,
     "metadata": {},
     "output_type": "execute_result"
    },
    {
     "data": {
      "image/png": "[encoded data removed]",
      "text/plain": [
       "<Figure size 432x288 with 1 Axes>"
      ]
     },
     "metadata": {
      "needs_background": "light"
     },
     "output_type": "display_data"
    }
   ],
   "source": [
    "# There are no null values, thus there's no need to perform any kind of operation\n",
    "# in order to handle the missing values\n",
    "sns.histplot(df['time_signature']).set_title('Time Signature Distribution')"
   ]
  },
  {
   "cell_type": "code",
   "execution_count": 6,
   "id": "0709f701",
   "metadata": {
    "execution": {
     "iopub.execute_input": "2022-08-27T19:20:24.737600Z",
     "iopub.status.busy": "2022-08-27T19:20:24.737274Z",
     "iopub.status.idle": "2022-08-27T19:20:25.212858Z",
     "shell.execute_reply": "2022-08-27T19:20:25.212111Z"
    },
    "papermill": {
     "duration": 0.487272,
     "end_time": "2022-08-27T19:20:25.214904",
     "exception": false,
     "start_time": "2022-08-27T19:20:24.727632",
     "status": "completed"
    },
    "tags": []
   },
   "outputs": [
    {
     "name": "stdout",
     "output_type": "stream",
     "text": [
      "Tracks with a 0/4 time signature: 8\n"
     ]
    },
    {
     "data": {
      "text/plain": [
       "Text(0.5, 1.0, 'Time Signature Distribution')"
      ]
     },
     "execution_count": 6,
     "metadata": {},
     "output_type": "execute_result"
    },
    {
     "data": {
      "image/png": "[encoded data removed]",
      "text/plain": [
       "<Figure size 432x288 with 1 Axes>"
      ]
     },
     "metadata": {
      "needs_background": "light"
     },
     "output_type": "display_data"
    }
   ],
   "source": [
    "# The samples in the dataframe where the field 'time_signature' is '1/4'\n",
    "# actually represent songs with mostly a 4/4 time signature, since it is\n",
    "# most likely an error by who created the dataframe we're going to change it\n",
    "# to the '4/4' value\n",
    "df['time_signature'] = df['time_signature'].replace(['1/4'],'4/4')\n",
    "\n",
    "print(\"Tracks with a 0/4 time signature: %s\" % len(df[df['time_signature'] == '0/4']));\n",
    "# Since there are just 8 samples with a '0/4' time signature,\n",
    "# and since it is clearly an error, I'm going to simply delete them\n",
    "df = df[df['time_signature'] != '0/4']\n",
    "\n",
    "sns.histplot(df['time_signature']).set_title('Time Signature Distribution')"
   ]
  },
  {
   "cell_type": "code",
   "execution_count": 7,
   "id": "e4281f9a",
   "metadata": {
    "execution": {
     "iopub.execute_input": "2022-08-27T19:20:25.241229Z",
     "iopub.status.busy": "2022-08-27T19:20:25.240911Z",
     "iopub.status.idle": "2022-08-27T19:20:25.749286Z",
     "shell.execute_reply": "2022-08-27T19:20:25.748043Z"
    },
    "papermill": {
     "duration": 0.523784,
     "end_time": "2022-08-27T19:20:25.751450",
     "exception": false,
     "start_time": "2022-08-27T19:20:25.227666",
     "status": "completed"
    },
    "tags": []
   },
   "outputs": [
    {
     "data": {
      "text/plain": [
       "Text(0.5, 1.0, 'Genre Distribution')"
      ]
     },
     "execution_count": 7,
     "metadata": {},
     "output_type": "execute_result"
    },
    {
     "data": {
      "image/png": "[encoded data removed]",
      "text/plain": [
       "<Figure size 1584x432 with 1 Axes>"
      ]
     },
     "metadata": {
      "needs_background": "light"
     },
     "output_type": "display_data"
    }
   ],
   "source": [
    "plt.figure(figsize=(22, 6))\n",
    "sns.histplot(df['genre']).set_title('Genre Distribution')"
   ]
  },
  {
   "cell_type": "code",
   "execution_count": 8,
   "id": "17f509bf",
   "metadata": {
    "execution": {
     "iopub.execute_input": "2022-08-27T19:20:25.772140Z",
     "iopub.status.busy": "2022-08-27T19:20:25.771793Z",
     "iopub.status.idle": "2022-08-27T19:20:25.983738Z",
     "shell.execute_reply": "2022-08-27T19:20:25.982582Z"
    },
    "papermill": {
     "duration": 0.225051,
     "end_time": "2022-08-27T19:20:25.986122",
     "exception": false,
     "start_time": "2022-08-27T19:20:25.761071",
     "status": "completed"
    },
    "tags": []
   },
   "outputs": [
    {
     "data": {
      "text/html": [
       "<div>\n",
       "<style scoped>\n",
       "    .dataframe tbody tr th:only-of-type {\n",
       "        vertical-align: middle;\n",
       "    }\n",
       "\n",
       "    .dataframe tbody tr th {\n",
       "        vertical-align: top;\n",
       "    }\n",
       "\n",
       "    .dataframe thead th {\n",
       "        text-align: right;\n",
       "    }\n",
       "</style>\n",
       "<table border=\"1\" class=\"dataframe\">\n",
       "  <thead>\n",
       "    <tr style=\"text-align: right;\">\n",
       "      <th></th>\n",
       "      <th>genre</th>\n",
       "      <th>artist_name</th>\n",
       "      <th>track_name</th>\n",
       "      <th>track_id</th>\n",
       "      <th>popularity</th>\n",
       "      <th>acousticness</th>\n",
       "      <th>danceability</th>\n",
       "      <th>duration_ms</th>\n",
       "      <th>energy</th>\n",
       "      <th>instrumentalness</th>\n",
       "      <th>key</th>\n",
       "      <th>liveness</th>\n",
       "      <th>loudness</th>\n",
       "      <th>mode</th>\n",
       "      <th>speechiness</th>\n",
       "      <th>tempo</th>\n",
       "      <th>time_signature</th>\n",
       "      <th>valence</th>\n",
       "    </tr>\n",
       "  </thead>\n",
       "  <tbody>\n",
       "    <tr>\n",
       "      <th>14492</th>\n",
       "      <td>Dance</td>\n",
       "      <td>ZAYN</td>\n",
       "      <td>Still Got Time</td>\n",
       "      <td>000xQL6tZNLJzIrtIgxqSl</td>\n",
       "      <td>70</td>\n",
       "      <td>0.131000</td>\n",
       "      <td>0.748</td>\n",
       "      <td>188491</td>\n",
       "      <td>0.627</td>\n",
       "      <td>0.000000</td>\n",
       "      <td>G</td>\n",
       "      <td>0.0852</td>\n",
       "      <td>-6.029</td>\n",
       "      <td>Major</td>\n",
       "      <td>0.0644</td>\n",
       "      <td>120.963</td>\n",
       "      <td>4/4</td>\n",
       "      <td>0.524</td>\n",
       "    </tr>\n",
       "    <tr>\n",
       "      <th>110840</th>\n",
       "      <td>Pop</td>\n",
       "      <td>ZAYN</td>\n",
       "      <td>Still Got Time</td>\n",
       "      <td>000xQL6tZNLJzIrtIgxqSl</td>\n",
       "      <td>70</td>\n",
       "      <td>0.131000</td>\n",
       "      <td>0.748</td>\n",
       "      <td>188491</td>\n",
       "      <td>0.627</td>\n",
       "      <td>0.000000</td>\n",
       "      <td>G</td>\n",
       "      <td>0.0852</td>\n",
       "      <td>-6.029</td>\n",
       "      <td>Major</td>\n",
       "      <td>0.0644</td>\n",
       "      <td>120.963</td>\n",
       "      <td>4/4</td>\n",
       "      <td>0.524</td>\n",
       "    </tr>\n",
       "    <tr>\n",
       "      <th>96926</th>\n",
       "      <td>Children’s Music</td>\n",
       "      <td>Young Tribe</td>\n",
       "      <td>Kingdom</td>\n",
       "      <td>001gDjxhKGDSx4sMMAgS9R</td>\n",
       "      <td>57</td>\n",
       "      <td>0.034900</td>\n",
       "      <td>0.564</td>\n",
       "      <td>211789</td>\n",
       "      <td>0.808</td>\n",
       "      <td>0.000360</td>\n",
       "      <td>C#</td>\n",
       "      <td>0.3260</td>\n",
       "      <td>-5.825</td>\n",
       "      <td>Major</td>\n",
       "      <td>0.0481</td>\n",
       "      <td>78.439</td>\n",
       "      <td>4/4</td>\n",
       "      <td>0.365</td>\n",
       "    </tr>\n",
       "    <tr>\n",
       "      <th>153533</th>\n",
       "      <td>Rock</td>\n",
       "      <td>Young Tribe</td>\n",
       "      <td>Kingdom</td>\n",
       "      <td>001gDjxhKGDSx4sMMAgS9R</td>\n",
       "      <td>58</td>\n",
       "      <td>0.034900</td>\n",
       "      <td>0.564</td>\n",
       "      <td>211789</td>\n",
       "      <td>0.808</td>\n",
       "      <td>0.000360</td>\n",
       "      <td>C#</td>\n",
       "      <td>0.3260</td>\n",
       "      <td>-5.825</td>\n",
       "      <td>Major</td>\n",
       "      <td>0.0481</td>\n",
       "      <td>78.439</td>\n",
       "      <td>4/4</td>\n",
       "      <td>0.365</td>\n",
       "    </tr>\n",
       "    <tr>\n",
       "      <th>145387</th>\n",
       "      <td>Indie</td>\n",
       "      <td>Alabama Shakes</td>\n",
       "      <td>Gemini</td>\n",
       "      <td>001ifh9Zkyc5DhK7AGQRtK</td>\n",
       "      <td>42</td>\n",
       "      <td>0.447000</td>\n",
       "      <td>0.411</td>\n",
       "      <td>395573</td>\n",
       "      <td>0.422</td>\n",
       "      <td>0.121000</td>\n",
       "      <td>E</td>\n",
       "      <td>0.0742</td>\n",
       "      <td>-5.475</td>\n",
       "      <td>Minor</td>\n",
       "      <td>0.0459</td>\n",
       "      <td>147.465</td>\n",
       "      <td>4/4</td>\n",
       "      <td>0.346</td>\n",
       "    </tr>\n",
       "    <tr>\n",
       "      <th>...</th>\n",
       "      <td>...</td>\n",
       "      <td>...</td>\n",
       "      <td>...</td>\n",
       "      <td>...</td>\n",
       "      <td>...</td>\n",
       "      <td>...</td>\n",
       "      <td>...</td>\n",
       "      <td>...</td>\n",
       "      <td>...</td>\n",
       "      <td>...</td>\n",
       "      <td>...</td>\n",
       "      <td>...</td>\n",
       "      <td>...</td>\n",
       "      <td>...</td>\n",
       "      <td>...</td>\n",
       "      <td>...</td>\n",
       "      <td>...</td>\n",
       "      <td>...</td>\n",
       "    </tr>\n",
       "    <tr>\n",
       "      <th>10340</th>\n",
       "      <td>Alternative</td>\n",
       "      <td>Bay Faction</td>\n",
       "      <td>Beach Book</td>\n",
       "      <td>7zy2ezQByCeFcaDtsxt77o</td>\n",
       "      <td>40</td>\n",
       "      <td>0.063200</td>\n",
       "      <td>0.537</td>\n",
       "      <td>189750</td>\n",
       "      <td>0.474</td>\n",
       "      <td>0.002590</td>\n",
       "      <td>E</td>\n",
       "      <td>0.0917</td>\n",
       "      <td>-7.440</td>\n",
       "      <td>Minor</td>\n",
       "      <td>0.0500</td>\n",
       "      <td>147.310</td>\n",
       "      <td>4/4</td>\n",
       "      <td>0.474</td>\n",
       "    </tr>\n",
       "    <tr>\n",
       "      <th>97007</th>\n",
       "      <td>Children’s Music</td>\n",
       "      <td>Five Finger Death Punch</td>\n",
       "      <td>Dot Your Eyes</td>\n",
       "      <td>7zyJ2g9o0nVOBbDavVveCl</td>\n",
       "      <td>54</td>\n",
       "      <td>0.000508</td>\n",
       "      <td>0.488</td>\n",
       "      <td>195091</td>\n",
       "      <td>0.994</td>\n",
       "      <td>0.000000</td>\n",
       "      <td>C#</td>\n",
       "      <td>0.0623</td>\n",
       "      <td>-3.960</td>\n",
       "      <td>Minor</td>\n",
       "      <td>0.1190</td>\n",
       "      <td>74.011</td>\n",
       "      <td>4/4</td>\n",
       "      <td>0.376</td>\n",
       "    </tr>\n",
       "    <tr>\n",
       "      <th>4751</th>\n",
       "      <td>Alternative</td>\n",
       "      <td>Five Finger Death Punch</td>\n",
       "      <td>Dot Your Eyes</td>\n",
       "      <td>7zyJ2g9o0nVOBbDavVveCl</td>\n",
       "      <td>50</td>\n",
       "      <td>0.000508</td>\n",
       "      <td>0.488</td>\n",
       "      <td>195091</td>\n",
       "      <td>0.994</td>\n",
       "      <td>0.000000</td>\n",
       "      <td>C#</td>\n",
       "      <td>0.0623</td>\n",
       "      <td>-3.960</td>\n",
       "      <td>Minor</td>\n",
       "      <td>0.1190</td>\n",
       "      <td>74.011</td>\n",
       "      <td>4/4</td>\n",
       "      <td>0.376</td>\n",
       "    </tr>\n",
       "    <tr>\n",
       "      <th>100080</th>\n",
       "      <td>Children’s Music</td>\n",
       "      <td>Moonstar88</td>\n",
       "      <td>Migraine</td>\n",
       "      <td>7zzZmpw8L66ZPjH1M6qmOs</td>\n",
       "      <td>67</td>\n",
       "      <td>0.217000</td>\n",
       "      <td>0.664</td>\n",
       "      <td>267960</td>\n",
       "      <td>0.537</td>\n",
       "      <td>0.000003</td>\n",
       "      <td>D</td>\n",
       "      <td>0.1180</td>\n",
       "      <td>-6.000</td>\n",
       "      <td>Major</td>\n",
       "      <td>0.0290</td>\n",
       "      <td>115.049</td>\n",
       "      <td>4/4</td>\n",
       "      <td>0.221</td>\n",
       "    </tr>\n",
       "    <tr>\n",
       "      <th>142703</th>\n",
       "      <td>Indie</td>\n",
       "      <td>Moonstar88</td>\n",
       "      <td>Migraine</td>\n",
       "      <td>7zzZmpw8L66ZPjH1M6qmOs</td>\n",
       "      <td>67</td>\n",
       "      <td>0.217000</td>\n",
       "      <td>0.664</td>\n",
       "      <td>267960</td>\n",
       "      <td>0.537</td>\n",
       "      <td>0.000003</td>\n",
       "      <td>D</td>\n",
       "      <td>0.1180</td>\n",
       "      <td>-6.000</td>\n",
       "      <td>Major</td>\n",
       "      <td>0.0290</td>\n",
       "      <td>115.049</td>\n",
       "      <td>4/4</td>\n",
       "      <td>0.221</td>\n",
       "    </tr>\n",
       "  </tbody>\n",
       "</table>\n",
       "<p>91072 rows × 18 columns</p>\n",
       "</div>"
      ],
      "text/plain": [
       "                   genre              artist_name      track_name  \\\n",
       "14492              Dance                     ZAYN  Still Got Time   \n",
       "110840               Pop                     ZAYN  Still Got Time   \n",
       "96926   Children’s Music              Young Tribe         Kingdom   \n",
       "153533              Rock              Young Tribe         Kingdom   \n",
       "145387             Indie           Alabama Shakes          Gemini   \n",
       "...                  ...                      ...             ...   \n",
       "10340        Alternative              Bay Faction      Beach Book   \n",
       "97007   Children’s Music  Five Finger Death Punch   Dot Your Eyes   \n",
       "4751         Alternative  Five Finger Death Punch   Dot Your Eyes   \n",
       "100080  Children’s Music               Moonstar88        Migraine   \n",
       "142703             Indie               Moonstar88        Migraine   \n",
       "\n",
       "                      track_id  popularity  acousticness  danceability  \\\n",
       "14492   000xQL6tZNLJzIrtIgxqSl          70      0.131000         0.748   \n",
       "110840  000xQL6tZNLJzIrtIgxqSl          70      0.131000         0.748   \n",
       "96926   001gDjxhKGDSx4sMMAgS9R          57      0.034900         0.564   \n",
       "153533  001gDjxhKGDSx4sMMAgS9R          58      0.034900         0.564   \n",
       "145387  001ifh9Zkyc5DhK7AGQRtK          42      0.447000         0.411   \n",
       "...                        ...         ...           ...           ...   \n",
       "10340   7zy2ezQByCeFcaDtsxt77o          40      0.063200         0.537   \n",
       "97007   7zyJ2g9o0nVOBbDavVveCl          54      0.000508         0.488   \n",
       "4751    7zyJ2g9o0nVOBbDavVveCl          50      0.000508         0.488   \n",
       "100080  7zzZmpw8L66ZPjH1M6qmOs          67      0.217000         0.664   \n",
       "142703  7zzZmpw8L66ZPjH1M6qmOs          67      0.217000         0.664   \n",
       "\n",
       "        duration_ms  energy  instrumentalness key  liveness  loudness   mode  \\\n",
       "14492        188491   0.627          0.000000   G    0.0852    -6.029  Major   \n",
       "110840       188491   0.627          0.000000   G    0.0852    -6.029  Major   \n",
       "96926        211789   0.808          0.000360  C#    0.3260    -5.825  Major   \n",
       "153533       211789   0.808          0.000360  C#    0.3260    -5.825  Major   \n",
       "145387       395573   0.422          0.121000   E    0.0742    -5.475  Minor   \n",
       "...             ...     ...               ...  ..       ...       ...    ...   \n",
       "10340        189750   0.474          0.002590   E    0.0917    -7.440  Minor   \n",
       "97007        195091   0.994          0.000000  C#    0.0623    -3.960  Minor   \n",
       "4751         195091   0.994          0.000000  C#    0.0623    -3.960  Minor   \n",
       "100080       267960   0.537          0.000003   D    0.1180    -6.000  Major   \n",
       "142703       267960   0.537          0.000003   D    0.1180    -6.000  Major   \n",
       "\n",
       "        speechiness    tempo time_signature  valence  \n",
       "14492        0.0644  120.963            4/4    0.524  \n",
       "110840       0.0644  120.963            4/4    0.524  \n",
       "96926        0.0481   78.439            4/4    0.365  \n",
       "153533       0.0481   78.439            4/4    0.365  \n",
       "145387       0.0459  147.465            4/4    0.346  \n",
       "...             ...      ...            ...      ...  \n",
       "10340        0.0500  147.310            4/4    0.474  \n",
       "97007        0.1190   74.011            4/4    0.376  \n",
       "4751         0.1190   74.011            4/4    0.376  \n",
       "100080       0.0290  115.049            4/4    0.221  \n",
       "142703       0.0290  115.049            4/4    0.221  \n",
       "\n",
       "[91072 rows x 18 columns]"
      ]
     },
     "execution_count": 8,
     "metadata": {},
     "output_type": "execute_result"
    }
   ],
   "source": [
    "ids = df[\"track_id\"]\n",
    ">>> df[ids.isin(ids[ids.duplicated()])].sort_values(\"track_id\")"
   ]
  },
  {
   "cell_type": "code",
   "execution_count": 9,
   "id": "8e585f28",
   "metadata": {
    "execution": {
     "iopub.execute_input": "2022-08-27T19:20:26.008708Z",
     "iopub.status.busy": "2022-08-27T19:20:26.008346Z",
     "iopub.status.idle": "2022-08-27T19:20:26.179120Z",
     "shell.execute_reply": "2022-08-27T19:20:26.177825Z"
    },
    "papermill": {
     "duration": 0.185082,
     "end_time": "2022-08-27T19:20:26.181540",
     "exception": false,
     "start_time": "2022-08-27T19:20:25.996458",
     "status": "completed"
    },
    "tags": []
   },
   "outputs": [
    {
     "name": "stdout",
     "output_type": "stream",
     "text": [
      "Classical Tracks number: 9256\n",
      "Pop Tracks number: 9385\n",
      "Folk Tracks number: 9299\n",
      "Total Tracks number: 27940\n"
     ]
    },
    {
     "data": {
      "image/png": "[encoded data removed]",
      "text/plain": [
       "<Figure size 432x288 with 1 Axes>"
      ]
     },
     "metadata": {
      "needs_background": "light"
     },
     "output_type": "display_data"
    }
   ],
   "source": [
    "# i'm going to pick the three genres of the Philip Tagg's axiomatic triangle:\n",
    "# Classical, Pop and Folk, as we can see they are pretty balanced\n",
    "\n",
    "taggGenres = ['Classical','Pop','Folk']\n",
    "df = df[df.genre.isin(taggGenres)];\n",
    "sns.histplot(df['genre']).set_title('Genre Distribution')\n",
    "\n",
    "print(\"Classical Tracks number: %s\" % len(df[df['genre'] == 'Classical']));\n",
    "print(\"Pop Tracks number: %s\" % len(df[df['genre'] == 'Pop']));\n",
    "print(\"Folk Tracks number: %s\" % len(df[df['genre'] == 'Folk']));\n",
    "\n",
    "print(\"Total Tracks number: %s\" % len(df));"
   ]
  },
  {
   "cell_type": "code",
   "execution_count": 10,
   "id": "c13252b8",
   "metadata": {
    "execution": {
     "iopub.execute_input": "2022-08-27T19:20:26.208625Z",
     "iopub.status.busy": "2022-08-27T19:20:26.208294Z",
     "iopub.status.idle": "2022-08-27T19:20:26.250477Z",
     "shell.execute_reply": "2022-08-27T19:20:26.249550Z"
    },
    "papermill": {
     "duration": 0.057137,
     "end_time": "2022-08-27T19:20:26.252477",
     "exception": false,
     "start_time": "2022-08-27T19:20:26.195340",
     "status": "completed"
    },
    "tags": []
   },
   "outputs": [
    {
     "data": {
      "text/html": [
       "<div>\n",
       "<style scoped>\n",
       "    .dataframe tbody tr th:only-of-type {\n",
       "        vertical-align: middle;\n",
       "    }\n",
       "\n",
       "    .dataframe tbody tr th {\n",
       "        vertical-align: top;\n",
       "    }\n",
       "\n",
       "    .dataframe thead th {\n",
       "        text-align: right;\n",
       "    }\n",
       "</style>\n",
       "<table border=\"1\" class=\"dataframe\">\n",
       "  <thead>\n",
       "    <tr style=\"text-align: right;\">\n",
       "      <th></th>\n",
       "      <th>genre</th>\n",
       "      <th>artist_name</th>\n",
       "      <th>track_name</th>\n",
       "      <th>track_id</th>\n",
       "      <th>popularity</th>\n",
       "      <th>acousticness</th>\n",
       "      <th>danceability</th>\n",
       "      <th>duration_ms</th>\n",
       "      <th>energy</th>\n",
       "      <th>instrumentalness</th>\n",
       "      <th>key</th>\n",
       "      <th>liveness</th>\n",
       "      <th>loudness</th>\n",
       "      <th>mode</th>\n",
       "      <th>speechiness</th>\n",
       "      <th>tempo</th>\n",
       "      <th>time_signature</th>\n",
       "      <th>valence</th>\n",
       "    </tr>\n",
       "  </thead>\n",
       "  <tbody>\n",
       "    <tr>\n",
       "      <th>40627</th>\n",
       "      <td>Folk</td>\n",
       "      <td>Seals and Crofts</td>\n",
       "      <td>Summer Breeze</td>\n",
       "      <td>01UYpHuzHi4eB9PAbDoPY2</td>\n",
       "      <td>71</td>\n",
       "      <td>0.6110</td>\n",
       "      <td>0.501</td>\n",
       "      <td>203967</td>\n",
       "      <td>0.474</td>\n",
       "      <td>0.029800</td>\n",
       "      <td>F</td>\n",
       "      <td>0.0667</td>\n",
       "      <td>-10.041</td>\n",
       "      <td>Major</td>\n",
       "      <td>0.0386</td>\n",
       "      <td>88.609</td>\n",
       "      <td>4/4</td>\n",
       "      <td>0.350</td>\n",
       "    </tr>\n",
       "    <tr>\n",
       "      <th>111238</th>\n",
       "      <td>Pop</td>\n",
       "      <td>Seals and Crofts</td>\n",
       "      <td>Summer Breeze</td>\n",
       "      <td>01UYpHuzHi4eB9PAbDoPY2</td>\n",
       "      <td>71</td>\n",
       "      <td>0.6110</td>\n",
       "      <td>0.501</td>\n",
       "      <td>203967</td>\n",
       "      <td>0.474</td>\n",
       "      <td>0.029800</td>\n",
       "      <td>F</td>\n",
       "      <td>0.0667</td>\n",
       "      <td>-10.041</td>\n",
       "      <td>Major</td>\n",
       "      <td>0.0386</td>\n",
       "      <td>88.609</td>\n",
       "      <td>4/4</td>\n",
       "      <td>0.350</td>\n",
       "    </tr>\n",
       "    <tr>\n",
       "      <th>41219</th>\n",
       "      <td>Folk</td>\n",
       "      <td>The Zombies</td>\n",
       "      <td>This Will Be Our Year</td>\n",
       "      <td>02KpkaZbiutsR0ucxce4Sh</td>\n",
       "      <td>65</td>\n",
       "      <td>0.6260</td>\n",
       "      <td>0.535</td>\n",
       "      <td>127733</td>\n",
       "      <td>0.424</td>\n",
       "      <td>0.000000</td>\n",
       "      <td>A</td>\n",
       "      <td>0.1910</td>\n",
       "      <td>-7.491</td>\n",
       "      <td>Major</td>\n",
       "      <td>0.0314</td>\n",
       "      <td>97.506</td>\n",
       "      <td>4/4</td>\n",
       "      <td>0.539</td>\n",
       "    </tr>\n",
       "    <tr>\n",
       "      <th>113906</th>\n",
       "      <td>Pop</td>\n",
       "      <td>The Zombies</td>\n",
       "      <td>This Will Be Our Year</td>\n",
       "      <td>02KpkaZbiutsR0ucxce4Sh</td>\n",
       "      <td>65</td>\n",
       "      <td>0.6260</td>\n",
       "      <td>0.535</td>\n",
       "      <td>127733</td>\n",
       "      <td>0.424</td>\n",
       "      <td>0.000000</td>\n",
       "      <td>A</td>\n",
       "      <td>0.1910</td>\n",
       "      <td>-7.491</td>\n",
       "      <td>Major</td>\n",
       "      <td>0.0314</td>\n",
       "      <td>97.506</td>\n",
       "      <td>4/4</td>\n",
       "      <td>0.539</td>\n",
       "    </tr>\n",
       "    <tr>\n",
       "      <th>40666</th>\n",
       "      <td>Folk</td>\n",
       "      <td>Peter Bradley Adams</td>\n",
       "      <td>My Arms Were Always Around You</td>\n",
       "      <td>02a2RQEICEzbdPPYh0aLnJ</td>\n",
       "      <td>68</td>\n",
       "      <td>0.7240</td>\n",
       "      <td>0.643</td>\n",
       "      <td>200800</td>\n",
       "      <td>0.436</td>\n",
       "      <td>0.459000</td>\n",
       "      <td>C#</td>\n",
       "      <td>0.1100</td>\n",
       "      <td>-12.245</td>\n",
       "      <td>Major</td>\n",
       "      <td>0.0273</td>\n",
       "      <td>91.485</td>\n",
       "      <td>4/4</td>\n",
       "      <td>0.422</td>\n",
       "    </tr>\n",
       "    <tr>\n",
       "      <th>...</th>\n",
       "      <td>...</td>\n",
       "      <td>...</td>\n",
       "      <td>...</td>\n",
       "      <td>...</td>\n",
       "      <td>...</td>\n",
       "      <td>...</td>\n",
       "      <td>...</td>\n",
       "      <td>...</td>\n",
       "      <td>...</td>\n",
       "      <td>...</td>\n",
       "      <td>...</td>\n",
       "      <td>...</td>\n",
       "      <td>...</td>\n",
       "      <td>...</td>\n",
       "      <td>...</td>\n",
       "      <td>...</td>\n",
       "      <td>...</td>\n",
       "      <td>...</td>\n",
       "    </tr>\n",
       "    <tr>\n",
       "      <th>112103</th>\n",
       "      <td>Pop</td>\n",
       "      <td>Mat Kearney</td>\n",
       "      <td>Money</td>\n",
       "      <td>7zb2TzZwpXuBJutFIqS6lA</td>\n",
       "      <td>61</td>\n",
       "      <td>0.7100</td>\n",
       "      <td>0.740</td>\n",
       "      <td>149560</td>\n",
       "      <td>0.622</td>\n",
       "      <td>0.000122</td>\n",
       "      <td>C#</td>\n",
       "      <td>0.1800</td>\n",
       "      <td>-5.492</td>\n",
       "      <td>Minor</td>\n",
       "      <td>0.0306</td>\n",
       "      <td>93.985</td>\n",
       "      <td>4/4</td>\n",
       "      <td>0.759</td>\n",
       "    </tr>\n",
       "    <tr>\n",
       "      <th>41122</th>\n",
       "      <td>Folk</td>\n",
       "      <td>Local Natives</td>\n",
       "      <td>When Am I Gonna Lose You</td>\n",
       "      <td>7ze7X8r4fopBs9ZRtwYFOX</td>\n",
       "      <td>59</td>\n",
       "      <td>0.0417</td>\n",
       "      <td>0.452</td>\n",
       "      <td>264213</td>\n",
       "      <td>0.834</td>\n",
       "      <td>0.000360</td>\n",
       "      <td>B</td>\n",
       "      <td>0.1190</td>\n",
       "      <td>-4.657</td>\n",
       "      <td>Major</td>\n",
       "      <td>0.0967</td>\n",
       "      <td>142.088</td>\n",
       "      <td>4/4</td>\n",
       "      <td>0.514</td>\n",
       "    </tr>\n",
       "    <tr>\n",
       "      <th>113662</th>\n",
       "      <td>Pop</td>\n",
       "      <td>Local Natives</td>\n",
       "      <td>When Am I Gonna Lose You</td>\n",
       "      <td>7ze7X8r4fopBs9ZRtwYFOX</td>\n",
       "      <td>59</td>\n",
       "      <td>0.0417</td>\n",
       "      <td>0.452</td>\n",
       "      <td>264213</td>\n",
       "      <td>0.834</td>\n",
       "      <td>0.000360</td>\n",
       "      <td>B</td>\n",
       "      <td>0.1190</td>\n",
       "      <td>-4.657</td>\n",
       "      <td>Major</td>\n",
       "      <td>0.0967</td>\n",
       "      <td>142.088</td>\n",
       "      <td>4/4</td>\n",
       "      <td>0.514</td>\n",
       "    </tr>\n",
       "    <tr>\n",
       "      <th>41038</th>\n",
       "      <td>Folk</td>\n",
       "      <td>Norah Jones</td>\n",
       "      <td>Sunrise</td>\n",
       "      <td>7zkLpY72g6lKQbiHDqri1S</td>\n",
       "      <td>70</td>\n",
       "      <td>0.9410</td>\n",
       "      <td>0.526</td>\n",
       "      <td>200627</td>\n",
       "      <td>0.299</td>\n",
       "      <td>0.097000</td>\n",
       "      <td>G#</td>\n",
       "      <td>0.1060</td>\n",
       "      <td>-13.797</td>\n",
       "      <td>Major</td>\n",
       "      <td>0.0310</td>\n",
       "      <td>156.848</td>\n",
       "      <td>4/4</td>\n",
       "      <td>0.679</td>\n",
       "    </tr>\n",
       "    <tr>\n",
       "      <th>150542</th>\n",
       "      <td>Pop</td>\n",
       "      <td>Norah Jones</td>\n",
       "      <td>Sunrise</td>\n",
       "      <td>7zkLpY72g6lKQbiHDqri1S</td>\n",
       "      <td>70</td>\n",
       "      <td>0.9410</td>\n",
       "      <td>0.526</td>\n",
       "      <td>200627</td>\n",
       "      <td>0.299</td>\n",
       "      <td>0.097000</td>\n",
       "      <td>G#</td>\n",
       "      <td>0.1060</td>\n",
       "      <td>-13.797</td>\n",
       "      <td>Major</td>\n",
       "      <td>0.0310</td>\n",
       "      <td>156.848</td>\n",
       "      <td>4/4</td>\n",
       "      <td>0.679</td>\n",
       "    </tr>\n",
       "  </tbody>\n",
       "</table>\n",
       "<p>1424 rows × 18 columns</p>\n",
       "</div>"
      ],
      "text/plain": [
       "       genre          artist_name                      track_name  \\\n",
       "40627   Folk     Seals and Crofts                   Summer Breeze   \n",
       "111238   Pop     Seals and Crofts                   Summer Breeze   \n",
       "41219   Folk          The Zombies           This Will Be Our Year   \n",
       "113906   Pop          The Zombies           This Will Be Our Year   \n",
       "40666   Folk  Peter Bradley Adams  My Arms Were Always Around You   \n",
       "...      ...                  ...                             ...   \n",
       "112103   Pop          Mat Kearney                           Money   \n",
       "41122   Folk        Local Natives        When Am I Gonna Lose You   \n",
       "113662   Pop        Local Natives        When Am I Gonna Lose You   \n",
       "41038   Folk          Norah Jones                         Sunrise   \n",
       "150542   Pop          Norah Jones                         Sunrise   \n",
       "\n",
       "                      track_id  popularity  acousticness  danceability  \\\n",
       "40627   01UYpHuzHi4eB9PAbDoPY2          71        0.6110         0.501   \n",
       "111238  01UYpHuzHi4eB9PAbDoPY2          71        0.6110         0.501   \n",
       "41219   02KpkaZbiutsR0ucxce4Sh          65        0.6260         0.535   \n",
       "113906  02KpkaZbiutsR0ucxce4Sh          65        0.6260         0.535   \n",
       "40666   02a2RQEICEzbdPPYh0aLnJ          68        0.7240         0.643   \n",
       "...                        ...         ...           ...           ...   \n",
       "112103  7zb2TzZwpXuBJutFIqS6lA          61        0.7100         0.740   \n",
       "41122   7ze7X8r4fopBs9ZRtwYFOX          59        0.0417         0.452   \n",
       "113662  7ze7X8r4fopBs9ZRtwYFOX          59        0.0417         0.452   \n",
       "41038   7zkLpY72g6lKQbiHDqri1S          70        0.9410         0.526   \n",
       "150542  7zkLpY72g6lKQbiHDqri1S          70        0.9410         0.526   \n",
       "\n",
       "        duration_ms  energy  instrumentalness key  liveness  loudness   mode  \\\n",
       "40627        203967   0.474          0.029800   F    0.0667   -10.041  Major   \n",
       "111238       203967   0.474          0.029800   F    0.0667   -10.041  Major   \n",
       "41219        127733   0.424          0.000000   A    0.1910    -7.491  Major   \n",
       "113906       127733   0.424          0.000000   A    0.1910    -7.491  Major   \n",
       "40666        200800   0.436          0.459000  C#    0.1100   -12.245  Major   \n",
       "...             ...     ...               ...  ..       ...       ...    ...   \n",
       "112103       149560   0.622          0.000122  C#    0.1800    -5.492  Minor   \n",
       "41122        264213   0.834          0.000360   B    0.1190    -4.657  Major   \n",
       "113662       264213   0.834          0.000360   B    0.1190    -4.657  Major   \n",
       "41038        200627   0.299          0.097000  G#    0.1060   -13.797  Major   \n",
       "150542       200627   0.299          0.097000  G#    0.1060   -13.797  Major   \n",
       "\n",
       "        speechiness    tempo time_signature  valence  \n",
       "40627        0.0386   88.609            4/4    0.350  \n",
       "111238       0.0386   88.609            4/4    0.350  \n",
       "41219        0.0314   97.506            4/4    0.539  \n",
       "113906       0.0314   97.506            4/4    0.539  \n",
       "40666        0.0273   91.485            4/4    0.422  \n",
       "...             ...      ...            ...      ...  \n",
       "112103       0.0306   93.985            4/4    0.759  \n",
       "41122        0.0967  142.088            4/4    0.514  \n",
       "113662       0.0967  142.088            4/4    0.514  \n",
       "41038        0.0310  156.848            4/4    0.679  \n",
       "150542       0.0310  156.848            4/4    0.679  \n",
       "\n",
       "[1424 rows x 18 columns]"
      ]
     },
     "metadata": {},
     "output_type": "display_data"
    }
   ],
   "source": [
    "ids = df[\"track_id\"]\n",
    ">>> dup_df = df[ids.isin(ids[ids.duplicated()])].sort_values(\"track_id\")\n",
    "display(dup_df)"
   ]
  },
  {
   "cell_type": "code",
   "execution_count": 11,
   "id": "c1de3dfe",
   "metadata": {
    "execution": {
     "iopub.execute_input": "2022-08-27T19:20:26.274589Z",
     "iopub.status.busy": "2022-08-27T19:20:26.274226Z",
     "iopub.status.idle": "2022-08-27T19:20:26.302932Z",
     "shell.execute_reply": "2022-08-27T19:20:26.302024Z"
    },
    "papermill": {
     "duration": 0.042015,
     "end_time": "2022-08-27T19:20:26.305139",
     "exception": false,
     "start_time": "2022-08-27T19:20:26.263124",
     "status": "completed"
    },
    "tags": []
   },
   "outputs": [],
   "source": [
    "# Remove every duplicated track an put them in a separated dataframe\n",
    "df = df.drop_duplicates(subset = [\"track_id\"], keep=False)\n",
    "# Remove duplicates in the only duplicates dataframe and assign half to Pop and half to Folk (Classical doubles, since there are only 4, will be deleted)\n",
    "dup_df = dup_df.drop_duplicates(subset = [\"track_id\"])\n",
    "dup_df = dup_df[dup_df['genre'] != 'Classical']\n",
    "part_50 = dup_df.sample(frac = 0.5)\n",
    "rest_part_50 = dup_df.drop(part_50.index)\n",
    "part_50 = part_50.assign(genre = 'Pop')\n",
    "rest_part_50 = rest_part_50.assign(genre = 'Folk')\n",
    "df = pd.concat([df, part_50, rest_part_50])"
   ]
  },
  {
   "cell_type": "code",
   "execution_count": 12,
   "id": "32f622d7",
   "metadata": {
    "execution": {
     "iopub.execute_input": "2022-08-27T19:20:26.329699Z",
     "iopub.status.busy": "2022-08-27T19:20:26.328912Z",
     "iopub.status.idle": "2022-08-27T19:20:26.349031Z",
     "shell.execute_reply": "2022-08-27T19:20:26.347880Z"
    },
    "papermill": {
     "duration": 0.03512,
     "end_time": "2022-08-27T19:20:26.351294",
     "exception": false,
     "start_time": "2022-08-27T19:20:26.316174",
     "status": "completed"
    },
    "tags": []
   },
   "outputs": [
    {
     "data": {
      "text/html": [
       "<div>\n",
       "<style scoped>\n",
       "    .dataframe tbody tr th:only-of-type {\n",
       "        vertical-align: middle;\n",
       "    }\n",
       "\n",
       "    .dataframe tbody tr th {\n",
       "        vertical-align: top;\n",
       "    }\n",
       "\n",
       "    .dataframe thead th {\n",
       "        text-align: right;\n",
       "    }\n",
       "</style>\n",
       "<table border=\"1\" class=\"dataframe\">\n",
       "  <thead>\n",
       "    <tr style=\"text-align: right;\">\n",
       "      <th></th>\n",
       "      <th>genre</th>\n",
       "      <th>artist_name</th>\n",
       "      <th>track_name</th>\n",
       "      <th>track_id</th>\n",
       "      <th>popularity</th>\n",
       "      <th>acousticness</th>\n",
       "      <th>danceability</th>\n",
       "      <th>duration_ms</th>\n",
       "      <th>energy</th>\n",
       "      <th>instrumentalness</th>\n",
       "      <th>key</th>\n",
       "      <th>liveness</th>\n",
       "      <th>loudness</th>\n",
       "      <th>mode</th>\n",
       "      <th>speechiness</th>\n",
       "      <th>tempo</th>\n",
       "      <th>time_signature</th>\n",
       "      <th>valence</th>\n",
       "    </tr>\n",
       "  </thead>\n",
       "  <tbody>\n",
       "  </tbody>\n",
       "</table>\n",
       "</div>"
      ],
      "text/plain": [
       "Empty DataFrame\n",
       "Columns: [genre, artist_name, track_name, track_id, popularity, acousticness, danceability, duration_ms, energy, instrumentalness, key, liveness, loudness, mode, speechiness, tempo, time_signature, valence]\n",
       "Index: []"
      ]
     },
     "execution_count": 12,
     "metadata": {},
     "output_type": "execute_result"
    }
   ],
   "source": [
    "ids = df[\"track_id\"]\n",
    ">>> df[ids.isin(ids[ids.duplicated()])].sort_values(\"track_id\")"
   ]
  },
  {
   "cell_type": "code",
   "execution_count": 13,
   "id": "1e2bf775",
   "metadata": {
    "execution": {
     "iopub.execute_input": "2022-08-27T19:20:26.374811Z",
     "iopub.status.busy": "2022-08-27T19:20:26.374235Z",
     "iopub.status.idle": "2022-08-27T19:20:26.390796Z",
     "shell.execute_reply": "2022-08-27T19:20:26.389666Z"
    },
    "papermill": {
     "duration": 0.030412,
     "end_time": "2022-08-27T19:20:26.392643",
     "exception": false,
     "start_time": "2022-08-27T19:20:26.362231",
     "status": "completed"
    },
    "tags": []
   },
   "outputs": [
    {
     "name": "stdout",
     "output_type": "stream",
     "text": [
      "Classical Tracks number: 9252\n",
      "Pop Tracks number: 9030\n",
      "Folk Tracks number: 8945\n",
      "Total Tracks number: 27227\n"
     ]
    }
   ],
   "source": [
    "print(\"Classical Tracks number: %s\" % len(df[df['genre'] == 'Classical']));\n",
    "print(\"Pop Tracks number: %s\" % len(df[df['genre'] == 'Pop']));\n",
    "print(\"Folk Tracks number: %s\" % len(df[df['genre'] == 'Folk']));\n",
    "\n",
    "print(\"Total Tracks number: %s\" % len(df));"
   ]
  },
  {
   "cell_type": "code",
   "execution_count": 14,
   "id": "95f06235",
   "metadata": {
    "execution": {
     "iopub.execute_input": "2022-08-27T19:20:26.416279Z",
     "iopub.status.busy": "2022-08-27T19:20:26.415792Z",
     "iopub.status.idle": "2022-08-27T19:20:26.692313Z",
     "shell.execute_reply": "2022-08-27T19:20:26.691284Z"
    },
    "papermill": {
     "duration": 0.29026,
     "end_time": "2022-08-27T19:20:26.694050",
     "exception": false,
     "start_time": "2022-08-27T19:20:26.403790",
     "status": "completed"
    },
    "tags": []
   },
   "outputs": [
    {
     "data": {
      "text/plain": [
       "Text(0.5, 1.0, 'Key usage for every genre')"
      ]
     },
     "execution_count": 14,
     "metadata": {},
     "output_type": "execute_result"
    },
    {
     "data": {
      "image/png": "[encoded data removed]",
      "text/plain": [
       "<Figure size 1584x432 with 1 Axes>"
      ]
     },
     "metadata": {
      "needs_background": "light"
     },
     "output_type": "display_data"
    }
   ],
   "source": [
    "plt.figure(figsize=(22, 6))\n",
    "sns.countplot(x = 'key', hue = 'genre', data = df)\n",
    "plt.title('Key usage for every genre')\n",
    "# This is the distribution of key usage for every genre, I decided at the end to drop this and the mode\n",
    "# features since they don't have much meaning in a genre prediction"
   ]
  },
  {
   "cell_type": "code",
   "execution_count": 15,
   "id": "7457d0fc",
   "metadata": {
    "execution": {
     "iopub.execute_input": "2022-08-27T19:20:26.719408Z",
     "iopub.status.busy": "2022-08-27T19:20:26.719062Z",
     "iopub.status.idle": "2022-08-27T19:20:26.850760Z",
     "shell.execute_reply": "2022-08-27T19:20:26.849490Z"
    },
    "papermill": {
     "duration": 0.147435,
     "end_time": "2022-08-27T19:20:26.853436",
     "exception": false,
     "start_time": "2022-08-27T19:20:26.706001",
     "status": "completed"
    },
    "tags": []
   },
   "outputs": [
    {
     "data": {
      "text/html": [
       "<div>\n",
       "<style scoped>\n",
       "    .dataframe tbody tr th:only-of-type {\n",
       "        vertical-align: middle;\n",
       "    }\n",
       "\n",
       "    .dataframe tbody tr th {\n",
       "        vertical-align: top;\n",
       "    }\n",
       "\n",
       "    .dataframe thead th {\n",
       "        text-align: right;\n",
       "    }\n",
       "</style>\n",
       "<table border=\"1\" class=\"dataframe\">\n",
       "  <thead>\n",
       "    <tr style=\"text-align: right;\">\n",
       "      <th></th>\n",
       "      <th>genre</th>\n",
       "      <th>acousticness</th>\n",
       "      <th>danceability</th>\n",
       "      <th>energy</th>\n",
       "      <th>instrumentalness</th>\n",
       "      <th>liveness</th>\n",
       "      <th>loudness</th>\n",
       "      <th>speechiness</th>\n",
       "      <th>tempo</th>\n",
       "      <th>valence</th>\n",
       "      <th>time_signature_3</th>\n",
       "      <th>time_signature_4</th>\n",
       "      <th>time_signature_5</th>\n",
       "    </tr>\n",
       "  </thead>\n",
       "  <tbody>\n",
       "    <tr>\n",
       "      <th>42050</th>\n",
       "      <td>Folk</td>\n",
       "      <td>0.2780</td>\n",
       "      <td>0.454</td>\n",
       "      <td>0.421</td>\n",
       "      <td>0.000000</td>\n",
       "      <td>0.1410</td>\n",
       "      <td>-4.834</td>\n",
       "      <td>0.0260</td>\n",
       "      <td>87.555</td>\n",
       "      <td>0.383</td>\n",
       "      <td>0</td>\n",
       "      <td>1</td>\n",
       "      <td>0</td>\n",
       "    </tr>\n",
       "    <tr>\n",
       "      <th>127486</th>\n",
       "      <td>Classical</td>\n",
       "      <td>0.9750</td>\n",
       "      <td>0.354</td>\n",
       "      <td>0.135</td>\n",
       "      <td>0.829000</td>\n",
       "      <td>0.1290</td>\n",
       "      <td>-21.559</td>\n",
       "      <td>0.0403</td>\n",
       "      <td>88.561</td>\n",
       "      <td>0.106</td>\n",
       "      <td>0</td>\n",
       "      <td>1</td>\n",
       "      <td>0</td>\n",
       "    </tr>\n",
       "    <tr>\n",
       "      <th>62007</th>\n",
       "      <td>Folk</td>\n",
       "      <td>0.6410</td>\n",
       "      <td>0.660</td>\n",
       "      <td>0.407</td>\n",
       "      <td>0.000012</td>\n",
       "      <td>0.0622</td>\n",
       "      <td>-8.993</td>\n",
       "      <td>0.0613</td>\n",
       "      <td>119.934</td>\n",
       "      <td>0.324</td>\n",
       "      <td>0</td>\n",
       "      <td>1</td>\n",
       "      <td>0</td>\n",
       "    </tr>\n",
       "    <tr>\n",
       "      <th>126068</th>\n",
       "      <td>Classical</td>\n",
       "      <td>0.9590</td>\n",
       "      <td>0.272</td>\n",
       "      <td>0.154</td>\n",
       "      <td>0.000942</td>\n",
       "      <td>0.3020</td>\n",
       "      <td>-22.721</td>\n",
       "      <td>0.0605</td>\n",
       "      <td>179.405</td>\n",
       "      <td>0.176</td>\n",
       "      <td>0</td>\n",
       "      <td>1</td>\n",
       "      <td>0</td>\n",
       "    </tr>\n",
       "    <tr>\n",
       "      <th>109867</th>\n",
       "      <td>Pop</td>\n",
       "      <td>0.0796</td>\n",
       "      <td>0.505</td>\n",
       "      <td>0.680</td>\n",
       "      <td>0.000000</td>\n",
       "      <td>0.0465</td>\n",
       "      <td>-4.990</td>\n",
       "      <td>0.0713</td>\n",
       "      <td>168.021</td>\n",
       "      <td>0.539</td>\n",
       "      <td>1</td>\n",
       "      <td>0</td>\n",
       "      <td>0</td>\n",
       "    </tr>\n",
       "  </tbody>\n",
       "</table>\n",
       "</div>"
      ],
      "text/plain": [
       "            genre  acousticness  danceability  energy  instrumentalness  \\\n",
       "42050        Folk        0.2780         0.454   0.421          0.000000   \n",
       "127486  Classical        0.9750         0.354   0.135          0.829000   \n",
       "62007        Folk        0.6410         0.660   0.407          0.000012   \n",
       "126068  Classical        0.9590         0.272   0.154          0.000942   \n",
       "109867        Pop        0.0796         0.505   0.680          0.000000   \n",
       "\n",
       "        liveness  loudness  speechiness    tempo  valence  time_signature_3  \\\n",
       "42050     0.1410    -4.834       0.0260   87.555    0.383                 0   \n",
       "127486    0.1290   -21.559       0.0403   88.561    0.106                 0   \n",
       "62007     0.0622    -8.993       0.0613  119.934    0.324                 0   \n",
       "126068    0.3020   -22.721       0.0605  179.405    0.176                 0   \n",
       "109867    0.0465    -4.990       0.0713  168.021    0.539                 1   \n",
       "\n",
       "        time_signature_4  time_signature_5  \n",
       "42050                  1                 0  \n",
       "127486                 1                 0  \n",
       "62007                  1                 0  \n",
       "126068                 1                 0  \n",
       "109867                 0                 0  "
      ]
     },
     "metadata": {},
     "output_type": "display_data"
    }
   ],
   "source": [
    "# Let's now remove the unnecessary features\n",
    "new_df = df.drop(['artist_name','track_name','track_id','popularity','key','mode','duration_ms'],axis = 1)\n",
    "# Make a one hot encoding of the time signature\n",
    "new_df.time_signature = new_df.time_signature.map( {'3/4':3 , '4/4':4, '5/4':5} )\n",
    "new_df = pd.get_dummies(data= new_df, columns=['time_signature'])\n",
    "# Shuffle the dataset\n",
    "from sklearn.utils import shuffle\n",
    "new_df = shuffle(new_df)\n",
    "display(new_df.head())"
   ]
  },
  {
   "cell_type": "code",
   "execution_count": 16,
   "id": "336f93ba",
   "metadata": {
    "execution": {
     "iopub.execute_input": "2022-08-27T19:20:26.878655Z",
     "iopub.status.busy": "2022-08-27T19:20:26.878334Z",
     "iopub.status.idle": "2022-08-27T19:20:26.885905Z",
     "shell.execute_reply": "2022-08-27T19:20:26.884792Z"
    },
    "papermill": {
     "duration": 0.02254,
     "end_time": "2022-08-27T19:20:26.887909",
     "exception": false,
     "start_time": "2022-08-27T19:20:26.865369",
     "status": "completed"
    },
    "tags": []
   },
   "outputs": [
    {
     "data": {
      "text/plain": [
       "Index(['acousticness', 'danceability', 'energy', 'instrumentalness',\n",
       "       'liveness', 'loudness', 'speechiness', 'tempo', 'valence',\n",
       "       'time_signature_3', 'time_signature_4', 'time_signature_5'],\n",
       "      dtype='object')"
      ]
     },
     "metadata": {},
     "output_type": "display_data"
    }
   ],
   "source": [
    "features = new_df.keys().drop(['genre']);\n",
    "display(features)"
   ]
  },
  {
   "cell_type": "code",
   "execution_count": 17,
   "id": "02f49707",
   "metadata": {
    "execution": {
     "iopub.execute_input": "2022-08-27T19:20:26.913655Z",
     "iopub.status.busy": "2022-08-27T19:20:26.913305Z",
     "iopub.status.idle": "2022-08-27T19:20:27.049909Z",
     "shell.execute_reply": "2022-08-27T19:20:27.048799Z"
    },
    "papermill": {
     "duration": 0.152262,
     "end_time": "2022-08-27T19:20:27.052094",
     "exception": false,
     "start_time": "2022-08-27T19:20:26.899832",
     "status": "completed"
    },
    "tags": []
   },
   "outputs": [
    {
     "data": {
      "text/html": [
       "<div>\n",
       "<style scoped>\n",
       "    .dataframe tbody tr th:only-of-type {\n",
       "        vertical-align: middle;\n",
       "    }\n",
       "\n",
       "    .dataframe tbody tr th {\n",
       "        vertical-align: top;\n",
       "    }\n",
       "\n",
       "    .dataframe thead th {\n",
       "        text-align: right;\n",
       "    }\n",
       "</style>\n",
       "<table border=\"1\" class=\"dataframe\">\n",
       "  <thead>\n",
       "    <tr style=\"text-align: right;\">\n",
       "      <th></th>\n",
       "      <th>acousticness</th>\n",
       "      <th>danceability</th>\n",
       "      <th>energy</th>\n",
       "      <th>instrumentalness</th>\n",
       "      <th>liveness</th>\n",
       "      <th>loudness</th>\n",
       "      <th>speechiness</th>\n",
       "      <th>tempo</th>\n",
       "      <th>valence</th>\n",
       "      <th>time_signature_3</th>\n",
       "      <th>time_signature_4</th>\n",
       "      <th>time_signature_5</th>\n",
       "    </tr>\n",
       "  </thead>\n",
       "  <tbody>\n",
       "    <tr>\n",
       "      <th>151147</th>\n",
       "      <td>0.0157</td>\n",
       "      <td>0.674</td>\n",
       "      <td>0.8620</td>\n",
       "      <td>0.000427</td>\n",
       "      <td>0.1690</td>\n",
       "      <td>-4.614</td>\n",
       "      <td>0.0253</td>\n",
       "      <td>129.965</td>\n",
       "      <td>0.5000</td>\n",
       "      <td>0</td>\n",
       "      <td>1</td>\n",
       "      <td>0</td>\n",
       "    </tr>\n",
       "    <tr>\n",
       "      <th>124058</th>\n",
       "      <td>0.9490</td>\n",
       "      <td>0.144</td>\n",
       "      <td>0.0307</td>\n",
       "      <td>0.820000</td>\n",
       "      <td>0.0898</td>\n",
       "      <td>-30.109</td>\n",
       "      <td>0.0372</td>\n",
       "      <td>93.727</td>\n",
       "      <td>0.0358</td>\n",
       "      <td>1</td>\n",
       "      <td>0</td>\n",
       "      <td>0</td>\n",
       "    </tr>\n",
       "    <tr>\n",
       "      <th>63481</th>\n",
       "      <td>0.3830</td>\n",
       "      <td>0.556</td>\n",
       "      <td>0.4740</td>\n",
       "      <td>0.000027</td>\n",
       "      <td>0.2100</td>\n",
       "      <td>-13.656</td>\n",
       "      <td>0.0454</td>\n",
       "      <td>138.362</td>\n",
       "      <td>0.5080</td>\n",
       "      <td>0</td>\n",
       "      <td>1</td>\n",
       "      <td>0</td>\n",
       "    </tr>\n",
       "    <tr>\n",
       "      <th>65663</th>\n",
       "      <td>0.2730</td>\n",
       "      <td>0.455</td>\n",
       "      <td>0.5790</td>\n",
       "      <td>0.000000</td>\n",
       "      <td>0.1130</td>\n",
       "      <td>-5.542</td>\n",
       "      <td>0.0361</td>\n",
       "      <td>136.057</td>\n",
       "      <td>0.5060</td>\n",
       "      <td>0</td>\n",
       "      <td>1</td>\n",
       "      <td>0</td>\n",
       "    </tr>\n",
       "    <tr>\n",
       "      <th>127168</th>\n",
       "      <td>0.9220</td>\n",
       "      <td>0.107</td>\n",
       "      <td>0.0404</td>\n",
       "      <td>0.927000</td>\n",
       "      <td>0.1050</td>\n",
       "      <td>-25.179</td>\n",
       "      <td>0.0433</td>\n",
       "      <td>83.107</td>\n",
       "      <td>0.0322</td>\n",
       "      <td>1</td>\n",
       "      <td>0</td>\n",
       "      <td>0</td>\n",
       "    </tr>\n",
       "  </tbody>\n",
       "</table>\n",
       "</div>"
      ],
      "text/plain": [
       "        acousticness  danceability  energy  instrumentalness  liveness  \\\n",
       "151147        0.0157         0.674  0.8620          0.000427    0.1690   \n",
       "124058        0.9490         0.144  0.0307          0.820000    0.0898   \n",
       "63481         0.3830         0.556  0.4740          0.000027    0.2100   \n",
       "65663         0.2730         0.455  0.5790          0.000000    0.1130   \n",
       "127168        0.9220         0.107  0.0404          0.927000    0.1050   \n",
       "\n",
       "        loudness  speechiness    tempo  valence  time_signature_3  \\\n",
       "151147    -4.614       0.0253  129.965   0.5000                 0   \n",
       "124058   -30.109       0.0372   93.727   0.0358                 1   \n",
       "63481    -13.656       0.0454  138.362   0.5080                 0   \n",
       "65663     -5.542       0.0361  136.057   0.5060                 0   \n",
       "127168   -25.179       0.0433   83.107   0.0322                 1   \n",
       "\n",
       "        time_signature_4  time_signature_5  \n",
       "151147                 1                 0  \n",
       "124058                 0                 0  \n",
       "63481                  1                 0  \n",
       "65663                  1                 0  \n",
       "127168                 0                 0  "
      ]
     },
     "metadata": {},
     "output_type": "display_data"
    },
    {
     "data": {
      "text/plain": [
       "151147    1\n",
       "124058    0\n",
       "63481     2\n",
       "65663     2\n",
       "127168    0\n",
       "Name: genre, dtype: int64"
      ]
     },
     "metadata": {},
     "output_type": "display_data"
    }
   ],
   "source": [
    "new_df.genre = new_df.genre.map( {'Classical':0 , 'Pop':1, 'Folk':2} )\n",
    "training1 = new_df.sample(frac = 0.8,random_state = 420)\n",
    "df_test = new_df.drop(training1.index)\n",
    "# Let's divide the label (genre) from the rest of the dataset and divide the dataset in a training and a testing dataset\n",
    "training2 = training1.sample(frac = 0.8,random_state = 420)\n",
    "X_train = training2[features]\n",
    "y_train = training2['genre']\n",
    "X_dev = new_df.drop(training2.index)[features]\n",
    "y_dev = new_df.drop(training2.index)['genre']\n",
    "X_test = new_df.drop(training1.index)[features]\n",
    "y_test = new_df.drop(training1.index)['genre']\n",
    "display(X_train.head())\n",
    "display(y_train.head())\n",
    "\n",
    "# Let's split the training set in training and a validation set\n",
    "from sklearn.model_selection import train_test_split\n",
    "X_train, X_valid, y_train, y_valid = train_test_split(X_train, y_train, test_size = 0.2, random_state = 1)"
   ]
  },
  {
   "cell_type": "code",
   "execution_count": 18,
   "id": "f6519989",
   "metadata": {
    "_kg_hide-input": true,
    "execution": {
     "iopub.execute_input": "2022-08-27T19:20:27.079471Z",
     "iopub.status.busy": "2022-08-27T19:20:27.078857Z",
     "iopub.status.idle": "2022-08-27T19:20:27.109321Z",
     "shell.execute_reply": "2022-08-27T19:20:27.108525Z"
    },
    "papermill": {
     "duration": 0.046914,
     "end_time": "2022-08-27T19:20:27.111569",
     "exception": false,
     "start_time": "2022-08-27T19:20:27.064655",
     "status": "completed"
    },
    "tags": []
   },
   "outputs": [
    {
     "data": {
      "text/html": [
       "<div>\n",
       "<style scoped>\n",
       "    .dataframe tbody tr th:only-of-type {\n",
       "        vertical-align: middle;\n",
       "    }\n",
       "\n",
       "    .dataframe tbody tr th {\n",
       "        vertical-align: top;\n",
       "    }\n",
       "\n",
       "    .dataframe thead th {\n",
       "        text-align: right;\n",
       "    }\n",
       "</style>\n",
       "<table border=\"1\" class=\"dataframe\">\n",
       "  <thead>\n",
       "    <tr style=\"text-align: right;\">\n",
       "      <th></th>\n",
       "      <th>acousticness</th>\n",
       "      <th>danceability</th>\n",
       "      <th>energy</th>\n",
       "      <th>instrumentalness</th>\n",
       "      <th>liveness</th>\n",
       "      <th>loudness</th>\n",
       "      <th>speechiness</th>\n",
       "      <th>tempo</th>\n",
       "      <th>valence</th>\n",
       "      <th>time_signature_3</th>\n",
       "      <th>time_signature_4</th>\n",
       "      <th>time_signature_5</th>\n",
       "    </tr>\n",
       "  </thead>\n",
       "  <tbody>\n",
       "    <tr>\n",
       "      <th>43086</th>\n",
       "      <td>0.185741</td>\n",
       "      <td>0.546958</td>\n",
       "      <td>0.593566</td>\n",
       "      <td>0.325956</td>\n",
       "      <td>0.090537</td>\n",
       "      <td>0.152719</td>\n",
       "      <td>0.018531</td>\n",
       "      <td>0.577223</td>\n",
       "      <td>0.198985</td>\n",
       "      <td>0.0</td>\n",
       "      <td>1.0</td>\n",
       "      <td>0.0</td>\n",
       "    </tr>\n",
       "    <tr>\n",
       "      <th>62059</th>\n",
       "      <td>0.883534</td>\n",
       "      <td>0.405864</td>\n",
       "      <td>0.159033</td>\n",
       "      <td>0.000001</td>\n",
       "      <td>0.091560</td>\n",
       "      <td>0.269854</td>\n",
       "      <td>0.020806</td>\n",
       "      <td>0.715603</td>\n",
       "      <td>0.296447</td>\n",
       "      <td>0.0</td>\n",
       "      <td>1.0</td>\n",
       "      <td>0.0</td>\n",
       "    </tr>\n",
       "    <tr>\n",
       "      <th>64870</th>\n",
       "      <td>0.090861</td>\n",
       "      <td>0.521605</td>\n",
       "      <td>0.695927</td>\n",
       "      <td>0.171026</td>\n",
       "      <td>0.278772</td>\n",
       "      <td>0.173588</td>\n",
       "      <td>0.102731</td>\n",
       "      <td>0.225881</td>\n",
       "      <td>0.681218</td>\n",
       "      <td>0.0</td>\n",
       "      <td>1.0</td>\n",
       "      <td>0.0</td>\n",
       "    </tr>\n",
       "    <tr>\n",
       "      <th>126417</th>\n",
       "      <td>0.975904</td>\n",
       "      <td>0.026014</td>\n",
       "      <td>0.035497</td>\n",
       "      <td>0.975855</td>\n",
       "      <td>0.083376</td>\n",
       "      <td>0.602922</td>\n",
       "      <td>0.016147</td>\n",
       "      <td>0.265265</td>\n",
       "      <td>0.038782</td>\n",
       "      <td>0.0</td>\n",
       "      <td>1.0</td>\n",
       "      <td>0.0</td>\n",
       "    </tr>\n",
       "    <tr>\n",
       "      <th>63957</th>\n",
       "      <td>0.261042</td>\n",
       "      <td>0.668210</td>\n",
       "      <td>0.814345</td>\n",
       "      <td>0.000000</td>\n",
       "      <td>0.090537</td>\n",
       "      <td>0.197241</td>\n",
       "      <td>0.047248</td>\n",
       "      <td>0.753962</td>\n",
       "      <td>0.938071</td>\n",
       "      <td>0.0</td>\n",
       "      <td>1.0</td>\n",
       "      <td>0.0</td>\n",
       "    </tr>\n",
       "  </tbody>\n",
       "</table>\n",
       "</div>"
      ],
      "text/plain": [
       "        acousticness  danceability    energy  instrumentalness  liveness  \\\n",
       "43086       0.185741      0.546958  0.593566          0.325956  0.090537   \n",
       "62059       0.883534      0.405864  0.159033          0.000001  0.091560   \n",
       "64870       0.090861      0.521605  0.695927          0.171026  0.278772   \n",
       "126417      0.975904      0.026014  0.035497          0.975855  0.083376   \n",
       "63957       0.261042      0.668210  0.814345          0.000000  0.090537   \n",
       "\n",
       "        loudness  speechiness     tempo   valence  time_signature_3  \\\n",
       "43086   0.152719     0.018531  0.577223  0.198985               0.0   \n",
       "62059   0.269854     0.020806  0.715603  0.296447               0.0   \n",
       "64870   0.173588     0.102731  0.225881  0.681218               0.0   \n",
       "126417  0.602922     0.016147  0.265265  0.038782               0.0   \n",
       "63957   0.197241     0.047248  0.753962  0.938071               0.0   \n",
       "\n",
       "        time_signature_4  time_signature_5  \n",
       "43086                1.0               0.0  \n",
       "62059                1.0               0.0  \n",
       "64870                1.0               0.0  \n",
       "126417               1.0               0.0  \n",
       "63957                1.0               0.0  "
      ]
     },
     "metadata": {},
     "output_type": "display_data"
    }
   ],
   "source": [
    "# Let's do a MinMaxScaling of the dataset to make all the features in [0,1]\n",
    "from sklearn.preprocessing import MinMaxScaler\n",
    "pd.options.mode.chained_assignment = None  # default='warn'\n",
    "scaler = MinMaxScaler()\n",
    "# Loudness goes from -60 to 0 db, I will convert it to a positive value before normalizing it \n",
    "X_train['loudness'] *= -1\n",
    "X_train = pd.DataFrame(scaler.fit_transform(X_train), index=X_train.index, columns=X_train.columns)\n",
    "display(X_train.head())\n",
    "X_dev['loudness'] *= -1\n",
    "X_dev = pd.DataFrame(scaler.transform(X_dev), index=X_dev.index, columns=X_dev.columns)\n",
    "X_valid['loudness'] *= -1\n",
    "X_valid = pd.DataFrame(scaler.transform(X_valid), index=X_valid.index, columns=X_valid.columns)\n",
    "X_test['loudness'] *= -1\n",
    "X_test = pd.DataFrame(scaler.transform(X_test), index=X_test.index, columns=X_test.columns)"
   ]
  },
  {
   "cell_type": "code",
   "execution_count": 19,
   "id": "12a0bef8",
   "metadata": {
    "execution": {
     "iopub.execute_input": "2022-08-27T19:20:27.138262Z",
     "iopub.status.busy": "2022-08-27T19:20:27.137957Z",
     "iopub.status.idle": "2022-08-27T19:20:27.359952Z",
     "shell.execute_reply": "2022-08-27T19:20:27.358642Z"
    },
    "papermill": {
     "duration": 0.2377,
     "end_time": "2022-08-27T19:20:27.361950",
     "exception": false,
     "start_time": "2022-08-27T19:20:27.124250",
     "status": "completed"
    },
    "tags": []
   },
   "outputs": [
    {
     "data": {
      "image/png": "[encoded data removed]",
      "text/plain": [
       "<Figure size 1584x432 with 1 Axes>"
      ]
     },
     "metadata": {
      "needs_background": "light"
     },
     "output_type": "display_data"
    }
   ],
   "source": [
    "# Let's check the distribution of the various countinuous features\n",
    "plt.figure(figsize=(22, 6))\n",
    "ax = sns.boxplot(data=X_train.drop([\"time_signature_3\",\"time_signature_4\",\"time_signature_5\"], axis=1), palette=\"Set2\")"
   ]
  },
  {
   "cell_type": "code",
   "execution_count": 20,
   "id": "3b0d96e3",
   "metadata": {
    "execution": {
     "iopub.execute_input": "2022-08-27T19:20:27.388196Z",
     "iopub.status.busy": "2022-08-27T19:20:27.387865Z",
     "iopub.status.idle": "2022-08-27T19:20:28.033047Z",
     "shell.execute_reply": "2022-08-27T19:20:28.031664Z"
    },
    "papermill": {
     "duration": 0.660961,
     "end_time": "2022-08-27T19:20:28.035173",
     "exception": false,
     "start_time": "2022-08-27T19:20:27.374212",
     "status": "completed"
    },
    "tags": []
   },
   "outputs": [
    {
     "data": {
      "image/png": "[encoded data removed]",
      "text/plain": [
       "<Figure size 1584x432 with 1 Axes>"
      ]
     },
     "metadata": {
      "needs_background": "light"
     },
     "output_type": "display_data"
    },
    {
     "data": {
      "image/png": "[encoded data removed]",
      "text/plain": [
       "<Figure size 720x720 with 4 Axes>"
      ]
     },
     "metadata": {
      "needs_background": "light"
     },
     "output_type": "display_data"
    }
   ],
   "source": [
    "# We see that liveness, loudness, speechiness and tempo do have some HLPs on the upper values\n",
    "plt.figure(figsize=(22, 6))\n",
    "features_nout = [\"time_signature_3\",\"time_signature_4\",\"time_signature_5\",\"acousticness\",\"danceability\",\"energy\",\"instrumentalness\",\"valence\"]\n",
    "ax = sns.boxplot(data=X_train.drop(features_nout, axis=1), palette=\"Set2\")\n",
    "fig, axes = plt.subplots(4,1, figsize=(10, 10), sharey=False)\n",
    "fig.suptitle('Distribution of some continuous variables')\n",
    "sns.histplot(x= 'liveness', data = X_train, palette = 'Set2', ax = axes[0], bins = 10)\n",
    "axes[0].set_title(\"\")\n",
    "sns.histplot(x= 'loudness', data = X_train, palette = 'Set2', ax = axes[1], bins = 10)\n",
    "axes[1].set_title(\"\")\n",
    "sns.histplot(x= 'speechiness', data = X_train, palette = 'Set2', ax = axes[2], bins = 10)\n",
    "axes[2].set_title(\"\")\n",
    "sns.histplot(x= 'tempo', data = X_train, palette = 'Set2', ax = axes[3], bins = 10)\n",
    "axes[3].set_title(\"\")\n",
    "plt.tight_layout()"
   ]
  },
  {
   "cell_type": "code",
   "execution_count": 21,
   "id": "a935d553",
   "metadata": {
    "execution": {
     "iopub.execute_input": "2022-08-27T19:20:28.063337Z",
     "iopub.status.busy": "2022-08-27T19:20:28.063029Z",
     "iopub.status.idle": "2022-08-27T19:20:28.229762Z",
     "shell.execute_reply": "2022-08-27T19:20:28.228033Z"
    },
    "papermill": {
     "duration": 0.183397,
     "end_time": "2022-08-27T19:20:28.232089",
     "exception": false,
     "start_time": "2022-08-27T19:20:28.048692",
     "status": "completed"
    },
    "tags": []
   },
   "outputs": [
    {
     "name": "stdout",
     "output_type": "stream",
     "text": [
      "Total Tracks number before: 13940\n",
      "Total Tracks number after: 13389\n"
     ]
    },
    {
     "data": {
      "image/png": "[encoded data removed]",
      "text/plain": [
       "<Figure size 1584x432 with 1 Axes>"
      ]
     },
     "metadata": {
      "needs_background": "light"
     },
     "output_type": "display_data"
    }
   ],
   "source": [
    "# removing HLPs\n",
    "print(\"Total Tracks number before: %s\" % len(X_train));\n",
    "X_train['genre'] = y_train\n",
    "threshold = 0.01\n",
    "for col in ['liveness', 'loudness', 'speechiness', 'tempo']:\n",
    "    upper_threshold = X_train[col].quantile(1 - threshold)\n",
    "    X_train = X_train[(X_train[col] <= upper_threshold)]\n",
    "\n",
    "features = new_df.keys().drop(['genre']);\n",
    "y_train = X_train['genre']\n",
    "X_train = X_train[features]\n",
    "    \n",
    "plt.figure(figsize=(22, 6))\n",
    "features_nout = [\"time_signature_3\",\"time_signature_4\",\"time_signature_5\",\"acousticness\",\"danceability\",\"energy\",\"instrumentalness\",\"valence\"]\n",
    "ax = sns.boxplot(data=X_train.drop(features_nout, axis=1), palette=\"Set2\")\n",
    "print(\"Total Tracks number after: %s\" % len(X_train));"
   ]
  },
  {
   "cell_type": "code",
   "execution_count": 22,
   "id": "6f862269",
   "metadata": {
    "execution": {
     "iopub.execute_input": "2022-08-27T19:20:28.263957Z",
     "iopub.status.busy": "2022-08-27T19:20:28.263498Z",
     "iopub.status.idle": "2022-08-27T19:20:28.803487Z",
     "shell.execute_reply": "2022-08-27T19:20:28.802320Z"
    },
    "papermill": {
     "duration": 0.556755,
     "end_time": "2022-08-27T19:20:28.805403",
     "exception": false,
     "start_time": "2022-08-27T19:20:28.248648",
     "status": "completed"
    },
    "tags": []
   },
   "outputs": [
    {
     "data": {
      "image/png": "[encoded data removed]",
      "text/plain": [
       "<Figure size 792x1080 with 2 Axes>"
      ]
     },
     "metadata": {
      "needs_background": "light"
     },
     "output_type": "display_data"
    }
   ],
   "source": [
    "from sklearn.linear_model import LogisticRegression\n",
    "from sklearn.metrics import make_scorer, accuracy_score, roc_auc_score \n",
    "corr_heatmap(X_train.drop([\"time_signature_3\",\"time_signature_4\",\"time_signature_5\"], axis=1))"
   ]
  },
  {
   "cell_type": "code",
   "execution_count": 23,
   "id": "447e994a",
   "metadata": {
    "execution": {
     "iopub.execute_input": "2022-08-27T19:20:28.834917Z",
     "iopub.status.busy": "2022-08-27T19:20:28.834601Z",
     "iopub.status.idle": "2022-08-27T19:20:28.839116Z",
     "shell.execute_reply": "2022-08-27T19:20:28.838584Z"
    },
    "papermill": {
     "duration": 0.021131,
     "end_time": "2022-08-27T19:20:28.840543",
     "exception": false,
     "start_time": "2022-08-27T19:20:28.819412",
     "status": "completed"
    },
    "tags": []
   },
   "outputs": [],
   "source": [
    "# Currently the ‘multinomial’ option is supported only by the ‘lbfgs’, ‘sag’, ‘saga’ and ‘newton-cg’ solvers.\n",
    "# http://scikit-learn.org/stable/modules/generated/sklearn.linear_model.LogisticRegression.html#sklearn.linear_model.LogisticRegression\n",
    "param_grid = [    \n",
    "    {'penalty' : ['l2', 'none'],\n",
    "    'C' : np.logspace(-4, 4, 20),\n",
    "    'solver' : ['lbfgs','newton-cg', 'sag', 'saga'],\n",
    "    'max_iter' : [100, 1000,2500, 5000]\n",
    "    }\n",
    "]"
   ]
  },
  {
   "cell_type": "code",
   "execution_count": 24,
   "id": "275998f1",
   "metadata": {
    "execution": {
     "iopub.execute_input": "2022-08-27T19:20:28.871697Z",
     "iopub.status.busy": "2022-08-27T19:20:28.871005Z",
     "iopub.status.idle": "2022-08-27T19:20:28.875381Z",
     "shell.execute_reply": "2022-08-27T19:20:28.874285Z"
    },
    "papermill": {
     "duration": 0.022193,
     "end_time": "2022-08-27T19:20:28.877400",
     "exception": false,
     "start_time": "2022-08-27T19:20:28.855207",
     "status": "completed"
    },
    "tags": []
   },
   "outputs": [],
   "source": [
    "#from sklearn.model_selection import GridSearchCV\n",
    "#clf = GridSearchCV(LogisticRegression(multi_class = 'multinomial'), param_grid = param_grid, verbose=10, n_jobs=-1, error_score=\"raise\")\n",
    "#best_clf = clf.fit(X_train, y_train)"
   ]
  },
  {
   "cell_type": "code",
   "execution_count": 25,
   "id": "c414dbf0",
   "metadata": {
    "execution": {
     "iopub.execute_input": "2022-08-27T19:20:28.908550Z",
     "iopub.status.busy": "2022-08-27T19:20:28.907951Z",
     "iopub.status.idle": "2022-08-27T19:20:28.911470Z",
     "shell.execute_reply": "2022-08-27T19:20:28.910955Z"
    },
    "papermill": {
     "duration": 0.020674,
     "end_time": "2022-08-27T19:20:28.913110",
     "exception": false,
     "start_time": "2022-08-27T19:20:28.892436",
     "status": "completed"
    },
    "tags": []
   },
   "outputs": [],
   "source": [
    "#print(best_clf.best_estimator_)\n",
    "#print(best_clf.cv_results_)\n",
    "#print (f'Accuracy - : {best_clf.score(X_train, y_train):.3f}')"
   ]
  },
  {
   "cell_type": "code",
   "execution_count": 26,
   "id": "11766183",
   "metadata": {
    "execution": {
     "iopub.execute_input": "2022-08-27T19:20:28.943641Z",
     "iopub.status.busy": "2022-08-27T19:20:28.943002Z",
     "iopub.status.idle": "2022-08-27T19:20:29.588313Z",
     "shell.execute_reply": "2022-08-27T19:20:29.587614Z"
    },
    "papermill": {
     "duration": 0.662767,
     "end_time": "2022-08-27T19:20:29.590200",
     "exception": false,
     "start_time": "2022-08-27T19:20:28.927433",
     "status": "completed"
    },
    "tags": []
   },
   "outputs": [
    {
     "data": {
      "text/plain": [
       "LogisticRegression(C=78.47599703514607, multi_class='multinomial',\n",
       "                   solver='newton-cg')"
      ]
     },
     "execution_count": 26,
     "metadata": {},
     "output_type": "execute_result"
    }
   ],
   "source": [
    "# Thanks to GridSearch we know that the best choice is LogisticRegression(C=78.47599703514607, multi_class='multinomial', solver='newton-cg')\n",
    "model = LogisticRegression(C=78.47599703514607, multi_class='multinomial', solver='newton-cg')\n",
    "model.fit(X_train, y_train)"
   ]
  },
  {
   "cell_type": "code",
   "execution_count": 27,
   "id": "76dffa50",
   "metadata": {
    "execution": {
     "iopub.execute_input": "2022-08-27T19:20:29.631152Z",
     "iopub.status.busy": "2022-08-27T19:20:29.630332Z",
     "iopub.status.idle": "2022-08-27T19:20:29.651419Z",
     "shell.execute_reply": "2022-08-27T19:20:29.649741Z"
    },
    "papermill": {
     "duration": 0.045024,
     "end_time": "2022-08-27T19:20:29.654602",
     "exception": false,
     "start_time": "2022-08-27T19:20:29.609578",
     "status": "completed"
    },
    "tags": []
   },
   "outputs": [
    {
     "name": "stdout",
     "output_type": "stream",
     "text": [
      "              precision    recall  f1-score   support\n",
      "\n",
      "           0       0.91      0.88      0.89      1188\n",
      "           1       0.81      0.81      0.81      1207\n",
      "           2       0.70      0.72      0.71      1091\n",
      "\n",
      "    accuracy                           0.81      3486\n",
      "   macro avg       0.80      0.80      0.80      3486\n",
      "weighted avg       0.81      0.81      0.81      3486\n",
      "\n"
     ]
    }
   ],
   "source": [
    "y_pred = model.predict(X_valid)\n",
    "from sklearn.metrics import classification_report\n",
    "print(classification_report(y_valid, y_pred))"
   ]
  },
  {
   "cell_type": "code",
   "execution_count": 28,
   "id": "78ec3d6c",
   "metadata": {
    "execution": {
     "iopub.execute_input": "2022-08-27T19:20:29.694424Z",
     "iopub.status.busy": "2022-08-27T19:20:29.694110Z",
     "iopub.status.idle": "2022-08-27T19:20:30.258831Z",
     "shell.execute_reply": "2022-08-27T19:20:30.257969Z"
    },
    "papermill": {
     "duration": 0.588237,
     "end_time": "2022-08-27T19:20:30.262385",
     "exception": false,
     "start_time": "2022-08-27T19:20:29.674148",
     "status": "completed"
    },
    "tags": []
   },
   "outputs": [
    {
     "name": "stdout",
     "output_type": "stream",
     "text": [
      "              precision    recall  f1-score   support\n",
      "\n",
      "           0       0.89      0.88      0.88      1188\n",
      "           1       0.79      0.76      0.77      1207\n",
      "           2       0.67      0.69      0.68      1091\n",
      "\n",
      "    accuracy                           0.78      3486\n",
      "   macro avg       0.78      0.78      0.78      3486\n",
      "weighted avg       0.78      0.78      0.78      3486\n",
      "\n"
     ]
    }
   ],
   "source": [
    "# Let's try without loudness\n",
    "X_train_loudness = X_train.drop(['loudness'], axis=1)\n",
    "X_valid_loudness = X_valid.drop(['loudness'], axis=1)\n",
    "lrm_cor = LogisticRegression(C=78.47599703514607, multi_class='multinomial',solver='newton-cg').fit(X_train_loudness, y_train)\n",
    "print(classification_report(y_valid, lrm_cor.predict(X_valid_loudness)))"
   ]
  },
  {
   "cell_type": "code",
   "execution_count": 29,
   "id": "daa9cf8d",
   "metadata": {
    "execution": {
     "iopub.execute_input": "2022-08-27T19:20:30.303608Z",
     "iopub.status.busy": "2022-08-27T19:20:30.303261Z",
     "iopub.status.idle": "2022-08-27T19:20:30.911459Z",
     "shell.execute_reply": "2022-08-27T19:20:30.909841Z"
    },
    "papermill": {
     "duration": 0.631968,
     "end_time": "2022-08-27T19:20:30.914990",
     "exception": false,
     "start_time": "2022-08-27T19:20:30.283022",
     "status": "completed"
    },
    "tags": []
   },
   "outputs": [
    {
     "name": "stdout",
     "output_type": "stream",
     "text": [
      "              precision    recall  f1-score   support\n",
      "\n",
      "           0       0.91      0.88      0.89      1188\n",
      "           1       0.81      0.80      0.80      1207\n",
      "           2       0.70      0.73      0.72      1091\n",
      "\n",
      "    accuracy                           0.81      3486\n",
      "   macro avg       0.81      0.80      0.81      3486\n",
      "weighted avg       0.81      0.81      0.81      3486\n",
      "\n"
     ]
    }
   ],
   "source": [
    "# Let's try without energy\n",
    "X_train_energy = X_train.drop(['energy'], axis=1)\n",
    "X_valid_energy = X_valid.drop(['energy'], axis=1)\n",
    "lrm_cor = LogisticRegression(C=78.47599703514607, multi_class='multinomial',solver='newton-cg').fit(X_train_energy, y_train)\n",
    "print(classification_report(y_valid, lrm_cor.predict(X_valid_energy)))"
   ]
  },
  {
   "cell_type": "code",
   "execution_count": 30,
   "id": "8a539b22",
   "metadata": {
    "execution": {
     "iopub.execute_input": "2022-08-27T19:20:30.959169Z",
     "iopub.status.busy": "2022-08-27T19:20:30.958826Z",
     "iopub.status.idle": "2022-08-27T19:20:31.610171Z",
     "shell.execute_reply": "2022-08-27T19:20:31.608650Z"
    },
    "papermill": {
     "duration": 0.676098,
     "end_time": "2022-08-27T19:20:31.613202",
     "exception": false,
     "start_time": "2022-08-27T19:20:30.937104",
     "status": "completed"
    },
    "tags": []
   },
   "outputs": [
    {
     "name": "stdout",
     "output_type": "stream",
     "text": [
      "              precision    recall  f1-score   support\n",
      "\n",
      "           0       0.91      0.88      0.89      1188\n",
      "           1       0.81      0.80      0.81      1207\n",
      "           2       0.70      0.73      0.71      1091\n",
      "\n",
      "    accuracy                           0.81      3486\n",
      "   macro avg       0.81      0.80      0.80      3486\n",
      "weighted avg       0.81      0.81      0.81      3486\n",
      "\n"
     ]
    }
   ],
   "source": [
    "# Let's try without acousticness\n",
    "X_train_acousticness = X_train.drop(['acousticness'], axis=1)\n",
    "X_valid_acousticness = X_valid.drop(['acousticness'], axis=1)\n",
    "lrm_cor = LogisticRegression(C=78.47599703514607, multi_class='multinomial',solver='newton-cg').fit(X_train_acousticness, y_train)\n",
    "print(classification_report(y_valid, lrm_cor.predict(X_valid_acousticness)))"
   ]
  },
  {
   "cell_type": "code",
   "execution_count": 31,
   "id": "17e48c14",
   "metadata": {
    "execution": {
     "iopub.execute_input": "2022-08-27T19:20:31.655975Z",
     "iopub.status.busy": "2022-08-27T19:20:31.655637Z",
     "iopub.status.idle": "2022-08-27T19:20:32.526557Z",
     "shell.execute_reply": "2022-08-27T19:20:32.524755Z"
    },
    "papermill": {
     "duration": 0.894437,
     "end_time": "2022-08-27T19:20:32.529148",
     "exception": false,
     "start_time": "2022-08-27T19:20:31.634711",
     "status": "completed"
    },
    "tags": []
   },
   "outputs": [
    {
     "name": "stdout",
     "output_type": "stream",
     "text": [
      "              precision    recall  f1-score   support\n",
      "\n",
      "           0       0.92      0.89      0.90      3279\n",
      "           1       0.79      0.80      0.80      3184\n",
      "           2       0.74      0.76      0.75      3338\n",
      "\n",
      "    accuracy                           0.81      9801\n",
      "   macro avg       0.82      0.82      0.82      9801\n",
      "weighted avg       0.82      0.81      0.82      9801\n",
      "\n"
     ]
    }
   ],
   "source": [
    "# The accuracy changes between 0.81 and 0.79 in every situation, I'm going to just keep those features\n",
    "# I will now test the data with X_test and y_test\n",
    "X_train_lr = pd.concat([X_train, X_valid])\n",
    "y_train_lr = pd.concat([y_train, y_valid])\n",
    "X_train_lr, y_train_lr = shuffle(X_train_lr, y_train_lr)\n",
    "model = LogisticRegression(C=78.47599703514607, multi_class='multinomial', solver='newton-cg')\n",
    "model.fit(X_train_lr, y_train_lr)\n",
    "y_pred = model.predict(X_dev)\n",
    "print(classification_report(y_dev, y_pred))"
   ]
  },
  {
   "cell_type": "code",
   "execution_count": 32,
   "id": "159d0410",
   "metadata": {
    "execution": {
     "iopub.execute_input": "2022-08-27T19:20:32.574212Z",
     "iopub.status.busy": "2022-08-27T19:20:32.573875Z",
     "iopub.status.idle": "2022-08-27T19:20:32.637110Z",
     "shell.execute_reply": "2022-08-27T19:20:32.635498Z"
    },
    "papermill": {
     "duration": 0.088611,
     "end_time": "2022-08-27T19:20:32.640302",
     "exception": false,
     "start_time": "2022-08-27T19:20:32.551691",
     "status": "completed"
    },
    "tags": []
   },
   "outputs": [
    {
     "name": "stdout",
     "output_type": "stream",
     "text": [
      "One-vs-One ROC AUC scores:\n",
      "0.935756 (macro),\n",
      "0.935662 (weighted by prevalence)\n",
      "One-vs-Rest ROC AUC scores:\n",
      "0.935688 (macro),\n",
      "0.935463 (weighted by prevalence)\n"
     ]
    }
   ],
   "source": [
    "y_prob = model.predict_proba(X_dev)\n",
    "\n",
    "macro_roc_auc_ovo = roc_auc_score(y_dev, y_prob, multi_class=\"ovo\", average=\"macro\")\n",
    "weighted_roc_auc_ovo = roc_auc_score(\n",
    "    y_dev, y_prob, multi_class=\"ovo\", average=\"weighted\"\n",
    ")\n",
    "macro_roc_auc_ovr = roc_auc_score(y_dev, y_prob, multi_class=\"ovr\", average=\"macro\")\n",
    "weighted_roc_auc_ovr = roc_auc_score(\n",
    "    y_dev, y_prob, multi_class=\"ovr\", average=\"weighted\"\n",
    ")\n",
    "print(\n",
    "    \"One-vs-One ROC AUC scores:\\n{:.6f} (macro),\\n{:.6f} \"\n",
    "    \"(weighted by prevalence)\".format(macro_roc_auc_ovo, weighted_roc_auc_ovo)\n",
    ")\n",
    "print(\n",
    "    \"One-vs-Rest ROC AUC scores:\\n{:.6f} (macro),\\n{:.6f} \"\n",
    "    \"(weighted by prevalence)\".format(macro_roc_auc_ovr, weighted_roc_auc_ovr)\n",
    ")\n",
    "# A macro-average will compute the metric independently for each class and then take the average (hence treating all classes equally),\n",
    "# whereas a micro-average will aggregate the contributions of all classes to compute the average metric."
   ]
  },
  {
   "cell_type": "code",
   "execution_count": 33,
   "id": "89c4e97e",
   "metadata": {
    "execution": {
     "iopub.execute_input": "2022-08-27T19:20:32.682639Z",
     "iopub.status.busy": "2022-08-27T19:20:32.682286Z",
     "iopub.status.idle": "2022-08-27T19:20:32.695244Z",
     "shell.execute_reply": "2022-08-27T19:20:32.694535Z"
    },
    "papermill": {
     "duration": 0.036378,
     "end_time": "2022-08-27T19:20:32.697536",
     "exception": false,
     "start_time": "2022-08-27T19:20:32.661158",
     "status": "completed"
    },
    "tags": []
   },
   "outputs": [],
   "source": [
    "# We see that the accuracy doesn't change much\n",
    "# We'll now try with a Neural Network\n",
    "from sklearn.neural_network import MLPClassifier\n",
    "mlp_gs = MLPClassifier()\n",
    "parameter_space = {\n",
    "    'hidden_layer_sizes': [(100, 100), (100, 100, 100), (100, 100, 100, 100)],\n",
    "    'activation': ['tanh', 'relu'],\n",
    "    'solver': ['sgd','adam'],\n",
    "    'alpha': [0.0001, 0.001, 0.01, 0.1],\n",
    "    'max_iter': [500]\n",
    "}\n",
    "#from sklearn.model_selection import GridSearchCV\n",
    "#from sklearn.metrics import classification_report\n",
    "#clf = GridSearchCV(mlp_gs, parameter_space, n_jobs=-1, cv=5, scoring='accuracy', verbose=10, error_score=\"raise\")\n",
    "#best_clf = clf.fit(X_train, y_train) # X is train samples and t is the corresponding labels\n",
    "\n",
    "# best score achieved during the GridSearchCV\n",
    "#print('GridSearch CV best score : {:.4f}\\n\\n'.format(clf.best_score_))\n",
    "\n",
    "# print parameters that give the best results\n",
    "#print('Parameters that give the best results :','\\n\\n', (clf.best_params_))\n",
    "\n",
    "# print estimator that was chosen by the GridSearch\n",
    "#print('\\n\\nEstimator that was chosen by the search :','\\n\\n', (clf.best_estimator_))\n",
    "\n",
    "# %% [code]\n",
    "# calculate GridSearch CV score on validation set\n",
    "#t_pred = clf.predict(X_valid)\n",
    "\n",
    "#print('Model classification report with GridSearcg CV: \\n', classification_report(y_valid, t_pred))"
   ]
  },
  {
   "cell_type": "code",
   "execution_count": 34,
   "id": "e1802822",
   "metadata": {
    "execution": {
     "iopub.execute_input": "2022-08-27T19:20:32.728485Z",
     "iopub.status.busy": "2022-08-27T19:20:32.728219Z",
     "iopub.status.idle": "2022-08-27T19:20:32.736236Z",
     "shell.execute_reply": "2022-08-27T19:20:32.735634Z"
    },
    "papermill": {
     "duration": 0.025107,
     "end_time": "2022-08-27T19:20:32.737860",
     "exception": false,
     "start_time": "2022-08-27T19:20:32.712753",
     "status": "completed"
    },
    "tags": []
   },
   "outputs": [],
   "source": [
    "# With GridSearch we can see that the estimatore whioch gives the best result is\n",
    "# MLPClassifier(alpha=0.01, hidden_layer_sizes=(100, 100), max_iter=500)\n",
    "# I will now perform a second Grid Search with hyperparameters more similar to the ones just found\n",
    "# and with early stopping in order to be more precise\n",
    "# I will merge train and valid sets and test on the testing set\n",
    "X_train, y_train = shuffle(X_train, y_train)\n",
    "parameter_space = {\n",
    "    'hidden_layer_sizes': [(100, 100), (100, 150), (150, 150)],\n",
    "    'activation': ['relu'],\n",
    "    'solver': ['adam'],\n",
    "    'alpha': [0.01, 0.02, 0.04, 0.08],\n",
    "    'early_stopping': [True, False],\n",
    "    'max_iter': [500]\n",
    "}\n",
    "#from sklearn.model_selection import GridSearchCV\n",
    "#from sklearn.metrics import classification_report\n",
    "#clf = GridSearchCV(mlp_gs, parameter_space, n_jobs=-1, cv=5, scoring='accuracy', verbose=10, error_score=\"raise\")\n",
    "#best_clf = clf.fit(X_train, y_train) # X is train samples and t is the corresponding labels\n",
    "\n",
    "# best score achieved during the GridSearchCV\n",
    "#print('GridSearch CV best score : {:.4f}\\n\\n'.format(clf.best_score_))\n",
    "\n",
    "# print parameters that give the best results\n",
    "#print('Parameters that give the best results :','\\n\\n', (clf.best_params_))\n",
    "\n",
    "# print estimator that was chosen by the GridSearch\n",
    "#print('\\n\\nEstimator that was chosen by the search :','\\n\\n', (clf.best_estimator_))\n",
    "\n",
    "# %% [code]\n",
    "# calculate GridSearch CV score on validation set\n",
    "#t_pred = clf.predict(X_valid)\n",
    "\n",
    "#print('Model classification report with GridSearcg CV: \\n', classification_report(y_valid, t_pred))\n",
    "#GridSearch_table_plot(best_clf, \"hidden_layer_sizes\", negative=False)"
   ]
  },
  {
   "cell_type": "code",
   "execution_count": 35,
   "id": "c1838b00",
   "metadata": {
    "execution": {
     "iopub.execute_input": "2022-08-27T19:20:32.769724Z",
     "iopub.status.busy": "2022-08-27T19:20:32.768349Z",
     "iopub.status.idle": "2022-08-27T19:20:39.228697Z",
     "shell.execute_reply": "2022-08-27T19:20:39.227747Z"
    },
    "papermill": {
     "duration": 6.479094,
     "end_time": "2022-08-27T19:20:39.231402",
     "exception": false,
     "start_time": "2022-08-27T19:20:32.752308",
     "status": "completed"
    },
    "tags": []
   },
   "outputs": [
    {
     "name": "stdout",
     "output_type": "stream",
     "text": [
      "              precision    recall  f1-score   support\n",
      "\n",
      "           0       0.92      0.93      0.92      5749\n",
      "           1       0.85      0.76      0.80      5637\n",
      "           2       0.73      0.80      0.77      5489\n",
      "\n",
      "    accuracy                           0.83     16875\n",
      "   macro avg       0.83      0.83      0.83     16875\n",
      "weighted avg       0.83      0.83      0.83     16875\n",
      "\n"
     ]
    }
   ],
   "source": [
    "# Thanks to GridSearch we know that the best choice is MLPClassifier(alpha=0.01, hidden_layer_sizes=(150, 150), max_iter=500)\n",
    "# However from observing the results we notice that the first result with early stopping doesn't give a very different accuracy result, so for the sake of having\n",
    "# a lower computational cost model I'm going to use that MLPClassifier(alpha=0.01, hidden_layer_sizes=(100, 100), max_iter=500, early_stopping=True)\n",
    "X_train = pd.concat([X_train, X_valid])\n",
    "y_train = pd.concat([y_train, y_valid])\n",
    "X_train, y_train = shuffle(X_train, y_train)\n",
    "clf = MLPClassifier(alpha=0.01, hidden_layer_sizes=(100, 100), max_iter=500, early_stopping=True).fit(X_train.to_numpy(), y_train.to_numpy())\n",
    "y_pred=clf.predict(X_train.to_numpy())\n",
    "print(classification_report(y_train, y_pred))"
   ]
  },
  {
   "cell_type": "code",
   "execution_count": 36,
   "id": "5eed51d4",
   "metadata": {
    "execution": {
     "iopub.execute_input": "2022-08-27T19:20:39.278296Z",
     "iopub.status.busy": "2022-08-27T19:20:39.277950Z",
     "iopub.status.idle": "2022-08-27T19:20:39.328044Z",
     "shell.execute_reply": "2022-08-27T19:20:39.326148Z"
    },
    "papermill": {
     "duration": 0.076682,
     "end_time": "2022-08-27T19:20:39.331036",
     "exception": false,
     "start_time": "2022-08-27T19:20:39.254354",
     "status": "completed"
    },
    "tags": []
   },
   "outputs": [
    {
     "name": "stdout",
     "output_type": "stream",
     "text": [
      "              precision    recall  f1-score   support\n",
      "\n",
      "           0       0.91      0.93      0.92      3279\n",
      "           1       0.84      0.76      0.80      3184\n",
      "           2       0.75      0.81      0.78      3338\n",
      "\n",
      "    accuracy                           0.83      9801\n",
      "   macro avg       0.83      0.83      0.83      9801\n",
      "weighted avg       0.83      0.83      0.83      9801\n",
      "\n"
     ]
    }
   ],
   "source": [
    "y_pred = clf.predict(X_dev.to_numpy())\n",
    "print(classification_report(y_dev, y_pred))"
   ]
  },
  {
   "cell_type": "code",
   "execution_count": 37,
   "id": "e3c2f44c",
   "metadata": {
    "execution": {
     "iopub.execute_input": "2022-08-27T19:20:39.374630Z",
     "iopub.status.busy": "2022-08-27T19:20:39.374269Z",
     "iopub.status.idle": "2022-08-27T19:20:39.453255Z",
     "shell.execute_reply": "2022-08-27T19:20:39.452538Z"
    },
    "papermill": {
     "duration": 0.103329,
     "end_time": "2022-08-27T19:20:39.455393",
     "exception": false,
     "start_time": "2022-08-27T19:20:39.352064",
     "status": "completed"
    },
    "tags": []
   },
   "outputs": [
    {
     "name": "stdout",
     "output_type": "stream",
     "text": [
      "One-vs-One ROC AUC scores:\n",
      "0.944690 (macro),\n",
      "0.944671 (weighted by prevalence)\n",
      "One-vs-Rest ROC AUC scores:\n",
      "0.944736 (macro),\n",
      "0.944586 (weighted by prevalence)\n"
     ]
    }
   ],
   "source": [
    "y_prob = clf.predict_proba(X_dev.to_numpy())\n",
    "\n",
    "macro_roc_auc_ovo = roc_auc_score(y_dev, y_prob, multi_class=\"ovo\", average=\"macro\")\n",
    "weighted_roc_auc_ovo = roc_auc_score(\n",
    "    y_dev, y_prob, multi_class=\"ovo\", average=\"weighted\"\n",
    ")\n",
    "macro_roc_auc_ovr = roc_auc_score(y_dev, y_prob, multi_class=\"ovr\", average=\"macro\")\n",
    "weighted_roc_auc_ovr = roc_auc_score(\n",
    "    y_dev, y_prob, multi_class=\"ovr\", average=\"weighted\"\n",
    ")\n",
    "print(\n",
    "    \"One-vs-One ROC AUC scores:\\n{:.6f} (macro),\\n{:.6f} \"\n",
    "    \"(weighted by prevalence)\".format(macro_roc_auc_ovo, weighted_roc_auc_ovo)\n",
    ")\n",
    "print(\n",
    "    \"One-vs-Rest ROC AUC scores:\\n{:.6f} (macro),\\n{:.6f} \"\n",
    "    \"(weighted by prevalence)\".format(macro_roc_auc_ovr, weighted_roc_auc_ovr)\n",
    ")\n",
    "# A macro-average will compute the metric independently for each class and then take the average (hence treating all classes equally),\n",
    "# whereas a micro-average will aggregate the contributions of all classes to compute the average metric."
   ]
  },
  {
   "cell_type": "code",
   "execution_count": 38,
   "id": "add5fd99",
   "metadata": {
    "execution": {
     "iopub.execute_input": "2022-08-27T19:20:39.499013Z",
     "iopub.status.busy": "2022-08-27T19:20:39.498674Z",
     "iopub.status.idle": "2022-08-27T19:20:39.533096Z",
     "shell.execute_reply": "2022-08-27T19:20:39.532300Z"
    },
    "papermill": {
     "duration": 0.059122,
     "end_time": "2022-08-27T19:20:39.535378",
     "exception": false,
     "start_time": "2022-08-27T19:20:39.476256",
     "status": "completed"
    },
    "tags": []
   },
   "outputs": [
    {
     "name": "stdout",
     "output_type": "stream",
     "text": [
      "              precision    recall  f1-score   support\n",
      "\n",
      "           0       0.92      0.93      0.92      1835\n",
      "           1       0.84      0.74      0.79      1745\n",
      "           2       0.75      0.82      0.78      1865\n",
      "\n",
      "    accuracy                           0.83      5445\n",
      "   macro avg       0.84      0.83      0.83      5445\n",
      "weighted avg       0.83      0.83      0.83      5445\n",
      "\n"
     ]
    }
   ],
   "source": [
    "# The MLPClassifier gives consistently a better result (usually 0.83 for MLP against a usual 0.82 for LR of accuracy)\n",
    "# both on accuracy and on ROC score\n",
    "# So we'll try this last one with the testing set\n",
    "y_pred = clf.predict(X_test.to_numpy())\n",
    "print(classification_report(y_test, y_pred))"
   ]
  }
 ],
 "metadata": {
  "kernelspec": {
   "display_name": "Python 3",
   "language": "python",
   "name": "python3"
  },
  "language_info": {
   "codemirror_mode": {
    "name": "ipython",
    "version": 3
   },
   "file_extension": ".py",
   "mimetype": "text/x-python",
   "name": "python",
   "nbconvert_exporter": "python",
   "pygments_lexer": "ipython3",
   "version": "3.7.12"
  },
  "papermill": {
   "default_parameters": {},
   "duration": 25.772611,
   "end_time": "2022-08-27T19:20:40.277356",
   "environment_variables": {},
   "exception": null,
   "input_path": "__notebook__.ipynb",
   "output_path": "__notebook__.ipynb",
   "parameters": {},
   "start_time": "2022-08-27T19:20:14.504745",
   "version": "2.3.4"
  }
 },
 "nbformat": 4,
 "nbformat_minor": 5
}
