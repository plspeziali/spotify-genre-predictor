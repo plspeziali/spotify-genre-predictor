{
 "cells": [
  {
   "cell_type": "code",
   "execution_count": 1,
   "id": "2edb69be",
   "metadata": {
    "execution": {
     "iopub.execute_input": "2022-07-31T07:17:47.352838Z",
     "iopub.status.busy": "2022-07-31T07:17:47.352328Z",
     "iopub.status.idle": "2022-07-31T07:17:48.577167Z",
     "shell.execute_reply": "2022-07-31T07:17:48.576044Z"
    },
    "papermill": {
     "duration": 1.238119,
     "end_time": "2022-07-31T07:17:48.580451",
     "exception": false,
     "start_time": "2022-07-31T07:17:47.342332",
     "status": "completed"
    },
    "tags": []
   },
   "outputs": [],
   "source": [
    "import pandas as pd\n",
    "import seaborn as sns # for data visualization\n",
    "import matplotlib.pyplot as plt\n",
    "import numpy as np\n",
    "def corr_heatmap(data):\n",
    "    corr_matrix = data.corr()\n",
    "    mask = np.zeros_like(corr_matrix, dtype=bool)\n",
    "    mask[np.triu_indices_from(mask)]= True\n",
    "    f, ax = plt.subplots(figsize=(11, 15)) \n",
    "    heatmap = sns.heatmap(corr_matrix, \n",
    "                          mask = mask,\n",
    "                          square = True,\n",
    "                          linewidths = .5,\n",
    "                          cmap = 'coolwarm',\n",
    "                          cbar_kws = {'shrink': .4, \n",
    "                                    'ticks' : [-1, -.5, 0, 0.5, 1]},\n",
    "                          vmin = -1, \n",
    "                          vmax = 1,\n",
    "                          annot = True,\n",
    "                          annot_kws = {'size': 12})#add the column names as labels\n",
    "    ax.set_yticklabels(corr_matrix.columns, rotation = 0)\n",
    "    ax.set_xticklabels(corr_matrix.columns)\n",
    "    sns.set_style({'xtick.bottom': True}, {'ytick.left': True})"
   ]
  },
  {
   "cell_type": "code",
   "execution_count": 2,
   "id": "5f8a4117",
   "metadata": {
    "execution": {
     "iopub.execute_input": "2022-07-31T07:17:48.599117Z",
     "iopub.status.busy": "2022-07-31T07:17:48.596925Z",
     "iopub.status.idle": "2022-07-31T07:17:50.099639Z",
     "shell.execute_reply": "2022-07-31T07:17:50.098266Z"
    },
    "papermill": {
     "duration": 1.514564,
     "end_time": "2022-07-31T07:17:50.102588",
     "exception": false,
     "start_time": "2022-07-31T07:17:48.588024",
     "status": "completed"
    },
    "tags": []
   },
   "outputs": [
    {
     "data": {
      "text/html": [
       "<div>\n",
       "<style scoped>\n",
       "    .dataframe tbody tr th:only-of-type {\n",
       "        vertical-align: middle;\n",
       "    }\n",
       "\n",
       "    .dataframe tbody tr th {\n",
       "        vertical-align: top;\n",
       "    }\n",
       "\n",
       "    .dataframe thead th {\n",
       "        text-align: right;\n",
       "    }\n",
       "</style>\n",
       "<table border=\"1\" class=\"dataframe\">\n",
       "  <thead>\n",
       "    <tr style=\"text-align: right;\">\n",
       "      <th></th>\n",
       "      <th>genre</th>\n",
       "      <th>artist_name</th>\n",
       "      <th>track_name</th>\n",
       "      <th>track_id</th>\n",
       "      <th>popularity</th>\n",
       "      <th>acousticness</th>\n",
       "      <th>danceability</th>\n",
       "      <th>duration_ms</th>\n",
       "      <th>energy</th>\n",
       "      <th>instrumentalness</th>\n",
       "      <th>key</th>\n",
       "      <th>liveness</th>\n",
       "      <th>loudness</th>\n",
       "      <th>mode</th>\n",
       "      <th>speechiness</th>\n",
       "      <th>tempo</th>\n",
       "      <th>time_signature</th>\n",
       "      <th>valence</th>\n",
       "    </tr>\n",
       "  </thead>\n",
       "  <tbody>\n",
       "    <tr>\n",
       "      <th>0</th>\n",
       "      <td>Movie</td>\n",
       "      <td>Henri Salvador</td>\n",
       "      <td>C'est beau de faire un Show</td>\n",
       "      <td>0BRjO6ga9RKCKjfDqeFgWV</td>\n",
       "      <td>0</td>\n",
       "      <td>0.611</td>\n",
       "      <td>0.389</td>\n",
       "      <td>99373</td>\n",
       "      <td>0.910</td>\n",
       "      <td>0.000</td>\n",
       "      <td>C#</td>\n",
       "      <td>0.3460</td>\n",
       "      <td>-1.828</td>\n",
       "      <td>Major</td>\n",
       "      <td>0.0525</td>\n",
       "      <td>166.969</td>\n",
       "      <td>4/4</td>\n",
       "      <td>0.814</td>\n",
       "    </tr>\n",
       "    <tr>\n",
       "      <th>1</th>\n",
       "      <td>Movie</td>\n",
       "      <td>Martin &amp; les fées</td>\n",
       "      <td>Perdu d'avance (par Gad Elmaleh)</td>\n",
       "      <td>0BjC1NfoEOOusryehmNudP</td>\n",
       "      <td>1</td>\n",
       "      <td>0.246</td>\n",
       "      <td>0.590</td>\n",
       "      <td>137373</td>\n",
       "      <td>0.737</td>\n",
       "      <td>0.000</td>\n",
       "      <td>F#</td>\n",
       "      <td>0.1510</td>\n",
       "      <td>-5.559</td>\n",
       "      <td>Minor</td>\n",
       "      <td>0.0868</td>\n",
       "      <td>174.003</td>\n",
       "      <td>4/4</td>\n",
       "      <td>0.816</td>\n",
       "    </tr>\n",
       "    <tr>\n",
       "      <th>2</th>\n",
       "      <td>Movie</td>\n",
       "      <td>Joseph Williams</td>\n",
       "      <td>Don't Let Me Be Lonely Tonight</td>\n",
       "      <td>0CoSDzoNIKCRs124s9uTVy</td>\n",
       "      <td>3</td>\n",
       "      <td>0.952</td>\n",
       "      <td>0.663</td>\n",
       "      <td>170267</td>\n",
       "      <td>0.131</td>\n",
       "      <td>0.000</td>\n",
       "      <td>C</td>\n",
       "      <td>0.1030</td>\n",
       "      <td>-13.879</td>\n",
       "      <td>Minor</td>\n",
       "      <td>0.0362</td>\n",
       "      <td>99.488</td>\n",
       "      <td>5/4</td>\n",
       "      <td>0.368</td>\n",
       "    </tr>\n",
       "    <tr>\n",
       "      <th>3</th>\n",
       "      <td>Movie</td>\n",
       "      <td>Henri Salvador</td>\n",
       "      <td>Dis-moi Monsieur Gordon Cooper</td>\n",
       "      <td>0Gc6TVm52BwZD07Ki6tIvf</td>\n",
       "      <td>0</td>\n",
       "      <td>0.703</td>\n",
       "      <td>0.240</td>\n",
       "      <td>152427</td>\n",
       "      <td>0.326</td>\n",
       "      <td>0.000</td>\n",
       "      <td>C#</td>\n",
       "      <td>0.0985</td>\n",
       "      <td>-12.178</td>\n",
       "      <td>Major</td>\n",
       "      <td>0.0395</td>\n",
       "      <td>171.758</td>\n",
       "      <td>4/4</td>\n",
       "      <td>0.227</td>\n",
       "    </tr>\n",
       "    <tr>\n",
       "      <th>4</th>\n",
       "      <td>Movie</td>\n",
       "      <td>Fabien Nataf</td>\n",
       "      <td>Ouverture</td>\n",
       "      <td>0IuslXpMROHdEPvSl1fTQK</td>\n",
       "      <td>4</td>\n",
       "      <td>0.950</td>\n",
       "      <td>0.331</td>\n",
       "      <td>82625</td>\n",
       "      <td>0.225</td>\n",
       "      <td>0.123</td>\n",
       "      <td>F</td>\n",
       "      <td>0.2020</td>\n",
       "      <td>-21.150</td>\n",
       "      <td>Major</td>\n",
       "      <td>0.0456</td>\n",
       "      <td>140.576</td>\n",
       "      <td>4/4</td>\n",
       "      <td>0.390</td>\n",
       "    </tr>\n",
       "  </tbody>\n",
       "</table>\n",
       "</div>"
      ],
      "text/plain": [
       "   genre        artist_name                        track_name  \\\n",
       "0  Movie     Henri Salvador       C'est beau de faire un Show   \n",
       "1  Movie  Martin & les fées  Perdu d'avance (par Gad Elmaleh)   \n",
       "2  Movie    Joseph Williams    Don't Let Me Be Lonely Tonight   \n",
       "3  Movie     Henri Salvador    Dis-moi Monsieur Gordon Cooper   \n",
       "4  Movie       Fabien Nataf                         Ouverture   \n",
       "\n",
       "                 track_id  popularity  acousticness  danceability  \\\n",
       "0  0BRjO6ga9RKCKjfDqeFgWV           0         0.611         0.389   \n",
       "1  0BjC1NfoEOOusryehmNudP           1         0.246         0.590   \n",
       "2  0CoSDzoNIKCRs124s9uTVy           3         0.952         0.663   \n",
       "3  0Gc6TVm52BwZD07Ki6tIvf           0         0.703         0.240   \n",
       "4  0IuslXpMROHdEPvSl1fTQK           4         0.950         0.331   \n",
       "\n",
       "   duration_ms  energy  instrumentalness key  liveness  loudness   mode  \\\n",
       "0        99373   0.910             0.000  C#    0.3460    -1.828  Major   \n",
       "1       137373   0.737             0.000  F#    0.1510    -5.559  Minor   \n",
       "2       170267   0.131             0.000   C    0.1030   -13.879  Minor   \n",
       "3       152427   0.326             0.000  C#    0.0985   -12.178  Major   \n",
       "4        82625   0.225             0.123   F    0.2020   -21.150  Major   \n",
       "\n",
       "   speechiness    tempo time_signature  valence  \n",
       "0       0.0525  166.969            4/4    0.814  \n",
       "1       0.0868  174.003            4/4    0.816  \n",
       "2       0.0362   99.488            5/4    0.368  \n",
       "3       0.0395  171.758            4/4    0.227  \n",
       "4       0.0456  140.576            4/4    0.390  "
      ]
     },
     "metadata": {},
     "output_type": "display_data"
    }
   ],
   "source": [
    "df = pd.read_csv(\"../input/ultimate-spotify-tracks-db/SpotifyFeatures.csv\")\n",
    "display(df.head())"
   ]
  },
  {
   "cell_type": "code",
   "execution_count": 3,
   "id": "b45298c8",
   "metadata": {
    "execution": {
     "iopub.execute_input": "2022-07-31T07:17:50.120965Z",
     "iopub.status.busy": "2022-07-31T07:17:50.119858Z",
     "iopub.status.idle": "2022-07-31T07:17:50.127465Z",
     "shell.execute_reply": "2022-07-31T07:17:50.125747Z"
    },
    "papermill": {
     "duration": 0.019902,
     "end_time": "2022-07-31T07:17:50.130388",
     "exception": false,
     "start_time": "2022-07-31T07:17:50.110486",
     "status": "completed"
    },
    "tags": []
   },
   "outputs": [
    {
     "name": "stdout",
     "output_type": "stream",
     "text": [
      "Index(['genre', 'artist_name', 'track_name', 'track_id', 'popularity',\n",
      "       'acousticness', 'danceability', 'duration_ms', 'energy',\n",
      "       'instrumentalness', 'key', 'liveness', 'loudness', 'mode',\n",
      "       'speechiness', 'tempo', 'time_signature', 'valence'],\n",
      "      dtype='object')\n"
     ]
    }
   ],
   "source": [
    "# Prints the names of the features\n",
    "print(df.keys())"
   ]
  },
  {
   "cell_type": "code",
   "execution_count": 4,
   "id": "b65e81c2",
   "metadata": {
    "execution": {
     "iopub.execute_input": "2022-07-31T07:17:50.148482Z",
     "iopub.status.busy": "2022-07-31T07:17:50.148099Z",
     "iopub.status.idle": "2022-07-31T07:17:50.330949Z",
     "shell.execute_reply": "2022-07-31T07:17:50.329891Z"
    },
    "papermill": {
     "duration": 0.194903,
     "end_time": "2022-07-31T07:17:50.333962",
     "exception": false,
     "start_time": "2022-07-31T07:17:50.139059",
     "status": "completed"
    },
    "tags": []
   },
   "outputs": [
    {
     "name": "stdout",
     "output_type": "stream",
     "text": [
      "genre               0\n",
      "artist_name         0\n",
      "track_name          0\n",
      "track_id            0\n",
      "popularity          0\n",
      "acousticness        0\n",
      "danceability        0\n",
      "duration_ms         0\n",
      "energy              0\n",
      "instrumentalness    0\n",
      "key                 0\n",
      "liveness            0\n",
      "loudness            0\n",
      "mode                0\n",
      "speechiness         0\n",
      "tempo               0\n",
      "time_signature      0\n",
      "valence             0\n",
      "dtype: int64\n"
     ]
    }
   ],
   "source": [
    "# Let's check for null values\n",
    "print(pd.isnull(df).sum())"
   ]
  },
  {
   "cell_type": "code",
   "execution_count": 5,
   "id": "a6bbeec8",
   "metadata": {
    "execution": {
     "iopub.execute_input": "2022-07-31T07:17:50.356362Z",
     "iopub.status.busy": "2022-07-31T07:17:50.355963Z",
     "iopub.status.idle": "2022-07-31T07:17:51.094839Z",
     "shell.execute_reply": "2022-07-31T07:17:51.092574Z"
    },
    "papermill": {
     "duration": 0.752335,
     "end_time": "2022-07-31T07:17:51.097561",
     "exception": false,
     "start_time": "2022-07-31T07:17:50.345226",
     "status": "completed"
    },
    "tags": []
   },
   "outputs": [
    {
     "data": {
      "text/plain": [
       "Text(0.5, 1.0, 'Time Signature Distribution')"
      ]
     },
     "execution_count": 5,
     "metadata": {},
     "output_type": "execute_result"
    },
    {
     "data": {
      "image/png": "[encoded data removed]",
      "text/plain": [
       "<Figure size 432x288 with 1 Axes>"
      ]
     },
     "metadata": {
      "needs_background": "light"
     },
     "output_type": "display_data"
    }
   ],
   "source": [
    "# There are no null values, thus there's no need to perform any kind of operation\n",
    "# in order to handle the missing values\n",
    "sns.histplot(df['time_signature']).set_title('Time Signature Distribution')"
   ]
  },
  {
   "cell_type": "code",
   "execution_count": 6,
   "id": "0084161b",
   "metadata": {
    "execution": {
     "iopub.execute_input": "2022-07-31T07:17:51.115920Z",
     "iopub.status.busy": "2022-07-31T07:17:51.115118Z",
     "iopub.status.idle": "2022-07-31T07:17:51.915548Z",
     "shell.execute_reply": "2022-07-31T07:17:51.914623Z"
    },
    "papermill": {
     "duration": 0.812406,
     "end_time": "2022-07-31T07:17:51.918074",
     "exception": false,
     "start_time": "2022-07-31T07:17:51.105668",
     "status": "completed"
    },
    "tags": []
   },
   "outputs": [
    {
     "name": "stdout",
     "output_type": "stream",
     "text": [
      "Tracks with a 0/4 time signature: 8\n"
     ]
    },
    {
     "data": {
      "text/plain": [
       "Text(0.5, 1.0, 'Time Signature Distribution')"
      ]
     },
     "execution_count": 6,
     "metadata": {},
     "output_type": "execute_result"
    },
    {
     "data": {
      "image/png": "[encoded data removed]",
      "text/plain": [
       "<Figure size 432x288 with 1 Axes>"
      ]
     },
     "metadata": {
      "needs_background": "light"
     },
     "output_type": "display_data"
    }
   ],
   "source": [
    "# The samples in the dataframe where the field 'time_signature' is '1/4'\n",
    "# actually represent songs with mostly a 4/4 time signature, since it is\n",
    "# most likely an error by who created the dataframe we're going to change it\n",
    "# to the '4/4' value\n",
    "df['time_signature'] = df['time_signature'].replace(['1/4'],'4/4')\n",
    "\n",
    "print(\"Tracks with a 0/4 time signature: %s\" % len(df[df['time_signature'] == '0/4']));\n",
    "# Since there are just 8 samples with a '0/4' time signature,\n",
    "# and since it is clearly an error, I'm going to simply delete them\n",
    "df = df[df['time_signature'] != '0/4']\n",
    "\n",
    "sns.histplot(df['time_signature']).set_title('Time Signature Distribution')"
   ]
  },
  {
   "cell_type": "code",
   "execution_count": 7,
   "id": "27b76880",
   "metadata": {
    "execution": {
     "iopub.execute_input": "2022-07-31T07:17:51.938631Z",
     "iopub.status.busy": "2022-07-31T07:17:51.938198Z",
     "iopub.status.idle": "2022-07-31T07:17:52.737291Z",
     "shell.execute_reply": "2022-07-31T07:17:52.736180Z"
    },
    "papermill": {
     "duration": 0.812863,
     "end_time": "2022-07-31T07:17:52.740076",
     "exception": false,
     "start_time": "2022-07-31T07:17:51.927213",
     "status": "completed"
    },
    "tags": []
   },
   "outputs": [
    {
     "data": {
      "text/plain": [
       "Text(0.5, 1.0, 'Genre Distribution')"
      ]
     },
     "execution_count": 7,
     "metadata": {},
     "output_type": "execute_result"
    },
    {
     "data": {
      "image/png": "[encoded data removed]",
      "text/plain": [
       "<Figure size 1584x432 with 1 Axes>"
      ]
     },
     "metadata": {
      "needs_background": "light"
     },
     "output_type": "display_data"
    }
   ],
   "source": [
    "plt.figure(figsize=(22, 6))\n",
    "sns.histplot(df['genre']).set_title('Genre Distribution')"
   ]
  },
  {
   "cell_type": "code",
   "execution_count": 8,
   "id": "3ea4b21a",
   "metadata": {
    "execution": {
     "iopub.execute_input": "2022-07-31T07:17:52.760787Z",
     "iopub.status.busy": "2022-07-31T07:17:52.759818Z",
     "iopub.status.idle": "2022-07-31T07:17:53.039258Z",
     "shell.execute_reply": "2022-07-31T07:17:53.037827Z"
    },
    "papermill": {
     "duration": 0.293586,
     "end_time": "2022-07-31T07:17:53.042871",
     "exception": false,
     "start_time": "2022-07-31T07:17:52.749285",
     "status": "completed"
    },
    "tags": []
   },
   "outputs": [
    {
     "name": "stdout",
     "output_type": "stream",
     "text": [
      "Classical Tracks number: 9256\n",
      "Pop Tracks number: 9385\n",
      "Folk Tracks number: 9299\n",
      "Total Tracks number: 27940\n"
     ]
    },
    {
     "data": {
      "image/png": "[encoded data removed]",
      "text/plain": [
       "<Figure size 432x288 with 1 Axes>"
      ]
     },
     "metadata": {
      "needs_background": "light"
     },
     "output_type": "display_data"
    }
   ],
   "source": [
    "# i'm going to pick the three genres of the Philip Tagg's axiomatic triangle:\n",
    "# Classical, Pop and Folk, as we can see they are pretty balanced\n",
    "\n",
    "taggGenres = ['Classical','Pop','Folk']\n",
    "df = df[df.genre.isin(taggGenres)];\n",
    "sns.histplot(df['genre']).set_title('Genre Distribution')\n",
    "\n",
    "print(\"Classical Tracks number: %s\" % len(df[df['genre'] == 'Classical']));\n",
    "print(\"Pop Tracks number: %s\" % len(df[df['genre'] == 'Pop']));\n",
    "print(\"Folk Tracks number: %s\" % len(df[df['genre'] == 'Folk']));\n",
    "\n",
    "print(\"Total Tracks number: %s\" % len(df));"
   ]
  },
  {
   "cell_type": "code",
   "execution_count": 9,
   "id": "ccdd057b",
   "metadata": {
    "execution": {
     "iopub.execute_input": "2022-07-31T07:17:53.063822Z",
     "iopub.status.busy": "2022-07-31T07:17:53.063427Z",
     "iopub.status.idle": "2022-07-31T07:17:53.197673Z",
     "shell.execute_reply": "2022-07-31T07:17:53.196483Z"
    },
    "papermill": {
     "duration": 0.148057,
     "end_time": "2022-07-31T07:17:53.200413",
     "exception": false,
     "start_time": "2022-07-31T07:17:53.052356",
     "status": "completed"
    },
    "tags": []
   },
   "outputs": [
    {
     "data": {
      "text/html": [
       "<div>\n",
       "<style scoped>\n",
       "    .dataframe tbody tr th:only-of-type {\n",
       "        vertical-align: middle;\n",
       "    }\n",
       "\n",
       "    .dataframe tbody tr th {\n",
       "        vertical-align: top;\n",
       "    }\n",
       "\n",
       "    .dataframe thead th {\n",
       "        text-align: right;\n",
       "    }\n",
       "</style>\n",
       "<table border=\"1\" class=\"dataframe\">\n",
       "  <thead>\n",
       "    <tr style=\"text-align: right;\">\n",
       "      <th></th>\n",
       "      <th>genre</th>\n",
       "      <th>acousticness</th>\n",
       "      <th>danceability</th>\n",
       "      <th>energy</th>\n",
       "      <th>instrumentalness</th>\n",
       "      <th>liveness</th>\n",
       "      <th>loudness</th>\n",
       "      <th>speechiness</th>\n",
       "      <th>tempo</th>\n",
       "      <th>time_signature</th>\n",
       "      <th>valence</th>\n",
       "    </tr>\n",
       "  </thead>\n",
       "  <tbody>\n",
       "    <tr>\n",
       "      <th>127947</th>\n",
       "      <td>Classical</td>\n",
       "      <td>0.99000</td>\n",
       "      <td>0.307</td>\n",
       "      <td>0.0495</td>\n",
       "      <td>0.902000</td>\n",
       "      <td>0.0713</td>\n",
       "      <td>-26.673</td>\n",
       "      <td>0.0402</td>\n",
       "      <td>135.213</td>\n",
       "      <td>4/4</td>\n",
       "      <td>0.233</td>\n",
       "    </tr>\n",
       "    <tr>\n",
       "      <th>111974</th>\n",
       "      <td>Pop</td>\n",
       "      <td>0.17900</td>\n",
       "      <td>0.568</td>\n",
       "      <td>0.7320</td>\n",
       "      <td>0.000005</td>\n",
       "      <td>0.4010</td>\n",
       "      <td>-4.896</td>\n",
       "      <td>0.1030</td>\n",
       "      <td>186.048</td>\n",
       "      <td>4/4</td>\n",
       "      <td>0.626</td>\n",
       "    </tr>\n",
       "    <tr>\n",
       "      <th>104724</th>\n",
       "      <td>Classical</td>\n",
       "      <td>0.99000</td>\n",
       "      <td>0.552</td>\n",
       "      <td>0.3700</td>\n",
       "      <td>0.729000</td>\n",
       "      <td>0.1530</td>\n",
       "      <td>-20.085</td>\n",
       "      <td>0.0771</td>\n",
       "      <td>112.917</td>\n",
       "      <td>4/4</td>\n",
       "      <td>0.880</td>\n",
       "    </tr>\n",
       "    <tr>\n",
       "      <th>109266</th>\n",
       "      <td>Pop</td>\n",
       "      <td>0.00217</td>\n",
       "      <td>0.669</td>\n",
       "      <td>0.7110</td>\n",
       "      <td>0.000000</td>\n",
       "      <td>0.4660</td>\n",
       "      <td>-6.758</td>\n",
       "      <td>0.0330</td>\n",
       "      <td>110.010</td>\n",
       "      <td>4/4</td>\n",
       "      <td>0.544</td>\n",
       "    </tr>\n",
       "    <tr>\n",
       "      <th>149285</th>\n",
       "      <td>Pop</td>\n",
       "      <td>0.01240</td>\n",
       "      <td>0.687</td>\n",
       "      <td>0.8290</td>\n",
       "      <td>0.000000</td>\n",
       "      <td>0.1070</td>\n",
       "      <td>-4.204</td>\n",
       "      <td>0.2600</td>\n",
       "      <td>133.854</td>\n",
       "      <td>4/4</td>\n",
       "      <td>0.154</td>\n",
       "    </tr>\n",
       "  </tbody>\n",
       "</table>\n",
       "</div>"
      ],
      "text/plain": [
       "            genre  acousticness  danceability  energy  instrumentalness  \\\n",
       "127947  Classical       0.99000         0.307  0.0495          0.902000   \n",
       "111974        Pop       0.17900         0.568  0.7320          0.000005   \n",
       "104724  Classical       0.99000         0.552  0.3700          0.729000   \n",
       "109266        Pop       0.00217         0.669  0.7110          0.000000   \n",
       "149285        Pop       0.01240         0.687  0.8290          0.000000   \n",
       "\n",
       "        liveness  loudness  speechiness    tempo time_signature  valence  \n",
       "127947    0.0713   -26.673       0.0402  135.213            4/4    0.233  \n",
       "111974    0.4010    -4.896       0.1030  186.048            4/4    0.626  \n",
       "104724    0.1530   -20.085       0.0771  112.917            4/4    0.880  \n",
       "109266    0.4660    -6.758       0.0330  110.010            4/4    0.544  \n",
       "149285    0.1070    -4.204       0.2600  133.854            4/4    0.154  "
      ]
     },
     "metadata": {},
     "output_type": "display_data"
    }
   ],
   "source": [
    "new_df = df.drop(['artist_name','track_name','track_id','popularity','key','mode','duration_ms'],axis = 1)\n",
    "from sklearn.utils import shuffle\n",
    "new_df = shuffle(new_df)\n",
    "display(new_df.head())"
   ]
  },
  {
   "cell_type": "code",
   "execution_count": 10,
   "id": "c1350ee9",
   "metadata": {
    "execution": {
     "iopub.execute_input": "2022-07-31T07:17:53.222393Z",
     "iopub.status.busy": "2022-07-31T07:17:53.221626Z",
     "iopub.status.idle": "2022-07-31T07:17:53.230029Z",
     "shell.execute_reply": "2022-07-31T07:17:53.228838Z"
    },
    "papermill": {
     "duration": 0.022196,
     "end_time": "2022-07-31T07:17:53.232525",
     "exception": false,
     "start_time": "2022-07-31T07:17:53.210329",
     "status": "completed"
    },
    "tags": []
   },
   "outputs": [
    {
     "data": {
      "text/plain": [
       "Index(['acousticness', 'danceability', 'energy', 'instrumentalness',\n",
       "       'liveness', 'loudness', 'speechiness', 'tempo', 'time_signature',\n",
       "       'valence'],\n",
       "      dtype='object')"
      ]
     },
     "metadata": {},
     "output_type": "display_data"
    }
   ],
   "source": [
    "features = new_df.keys().drop(['genre']);\n",
    "display(features)"
   ]
  },
  {
   "cell_type": "code",
   "execution_count": 11,
   "id": "bbda8a34",
   "metadata": {
    "execution": {
     "iopub.execute_input": "2022-07-31T07:17:53.255719Z",
     "iopub.status.busy": "2022-07-31T07:17:53.254525Z",
     "iopub.status.idle": "2022-07-31T07:17:53.309444Z",
     "shell.execute_reply": "2022-07-31T07:17:53.308419Z"
    },
    "papermill": {
     "duration": 0.069163,
     "end_time": "2022-07-31T07:17:53.311588",
     "exception": false,
     "start_time": "2022-07-31T07:17:53.242425",
     "status": "completed"
    },
    "tags": []
   },
   "outputs": [
    {
     "data": {
      "text/html": [
       "<div>\n",
       "<style scoped>\n",
       "    .dataframe tbody tr th:only-of-type {\n",
       "        vertical-align: middle;\n",
       "    }\n",
       "\n",
       "    .dataframe tbody tr th {\n",
       "        vertical-align: top;\n",
       "    }\n",
       "\n",
       "    .dataframe thead th {\n",
       "        text-align: right;\n",
       "    }\n",
       "</style>\n",
       "<table border=\"1\" class=\"dataframe\">\n",
       "  <thead>\n",
       "    <tr style=\"text-align: right;\">\n",
       "      <th></th>\n",
       "      <th>acousticness</th>\n",
       "      <th>danceability</th>\n",
       "      <th>energy</th>\n",
       "      <th>instrumentalness</th>\n",
       "      <th>liveness</th>\n",
       "      <th>loudness</th>\n",
       "      <th>speechiness</th>\n",
       "      <th>tempo</th>\n",
       "      <th>time_signature</th>\n",
       "      <th>valence</th>\n",
       "    </tr>\n",
       "  </thead>\n",
       "  <tbody>\n",
       "    <tr>\n",
       "      <th>43273</th>\n",
       "      <td>0.0836</td>\n",
       "      <td>0.613</td>\n",
       "      <td>0.7160</td>\n",
       "      <td>0.000381</td>\n",
       "      <td>0.1050</td>\n",
       "      <td>-9.365</td>\n",
       "      <td>0.0261</td>\n",
       "      <td>112.588</td>\n",
       "      <td>4</td>\n",
       "      <td>0.5070</td>\n",
       "    </tr>\n",
       "    <tr>\n",
       "      <th>125052</th>\n",
       "      <td>0.9120</td>\n",
       "      <td>0.393</td>\n",
       "      <td>0.3000</td>\n",
       "      <td>0.894000</td>\n",
       "      <td>0.8430</td>\n",
       "      <td>-18.548</td>\n",
       "      <td>0.0417</td>\n",
       "      <td>114.765</td>\n",
       "      <td>4</td>\n",
       "      <td>0.1820</td>\n",
       "    </tr>\n",
       "    <tr>\n",
       "      <th>64032</th>\n",
       "      <td>0.8620</td>\n",
       "      <td>0.364</td>\n",
       "      <td>0.1260</td>\n",
       "      <td>0.000203</td>\n",
       "      <td>0.0969</td>\n",
       "      <td>-18.071</td>\n",
       "      <td>0.0286</td>\n",
       "      <td>90.429</td>\n",
       "      <td>4</td>\n",
       "      <td>0.4300</td>\n",
       "    </tr>\n",
       "    <tr>\n",
       "      <th>129193</th>\n",
       "      <td>0.9840</td>\n",
       "      <td>0.215</td>\n",
       "      <td>0.0688</td>\n",
       "      <td>0.518000</td>\n",
       "      <td>0.1370</td>\n",
       "      <td>-20.354</td>\n",
       "      <td>0.0453</td>\n",
       "      <td>87.014</td>\n",
       "      <td>4</td>\n",
       "      <td>0.0959</td>\n",
       "    </tr>\n",
       "    <tr>\n",
       "      <th>113672</th>\n",
       "      <td>0.2190</td>\n",
       "      <td>0.851</td>\n",
       "      <td>0.4060</td>\n",
       "      <td>0.000006</td>\n",
       "      <td>0.0853</td>\n",
       "      <td>-11.631</td>\n",
       "      <td>0.0661</td>\n",
       "      <td>97.840</td>\n",
       "      <td>4</td>\n",
       "      <td>0.7920</td>\n",
       "    </tr>\n",
       "  </tbody>\n",
       "</table>\n",
       "</div>"
      ],
      "text/plain": [
       "        acousticness  danceability  energy  instrumentalness  liveness  \\\n",
       "43273         0.0836         0.613  0.7160          0.000381    0.1050   \n",
       "125052        0.9120         0.393  0.3000          0.894000    0.8430   \n",
       "64032         0.8620         0.364  0.1260          0.000203    0.0969   \n",
       "129193        0.9840         0.215  0.0688          0.518000    0.1370   \n",
       "113672        0.2190         0.851  0.4060          0.000006    0.0853   \n",
       "\n",
       "        loudness  speechiness    tempo  time_signature  valence  \n",
       "43273     -9.365       0.0261  112.588               4   0.5070  \n",
       "125052   -18.548       0.0417  114.765               4   0.1820  \n",
       "64032    -18.071       0.0286   90.429               4   0.4300  \n",
       "129193   -20.354       0.0453   87.014               4   0.0959  \n",
       "113672   -11.631       0.0661   97.840               4   0.7920  "
      ]
     },
     "metadata": {},
     "output_type": "display_data"
    },
    {
     "data": {
      "text/plain": [
       "43273     2\n",
       "125052    0\n",
       "64032     2\n",
       "129193    0\n",
       "113672    1\n",
       "Name: genre, dtype: int64"
      ]
     },
     "metadata": {},
     "output_type": "display_data"
    }
   ],
   "source": [
    "new_df.genre = new_df.genre.map( {'Classical':0 , 'Pop':1, 'Folk':2} )\n",
    "new_df.time_signature = new_df.time_signature.map( {'3/4':3 , '4/4':4, '5/4':5} )\n",
    "training = new_df.sample(frac = 0.8,random_state = 420)\n",
    "X_train = training[features]\n",
    "y_train = training['genre']\n",
    "X_test = new_df.drop(training.index)[features]\n",
    "y_test = new_df.drop(training.index)['genre']\n",
    "display(X_train.head())\n",
    "display(y_train.head())"
   ]
  },
  {
   "cell_type": "code",
   "execution_count": 12,
   "id": "6fc7fe94",
   "metadata": {
    "execution": {
     "iopub.execute_input": "2022-07-31T07:17:53.334237Z",
     "iopub.status.busy": "2022-07-31T07:17:53.333567Z",
     "iopub.status.idle": "2022-07-31T07:17:53.515477Z",
     "shell.execute_reply": "2022-07-31T07:17:53.514337Z"
    },
    "papermill": {
     "duration": 0.196367,
     "end_time": "2022-07-31T07:17:53.518216",
     "exception": false,
     "start_time": "2022-07-31T07:17:53.321849",
     "status": "completed"
    },
    "tags": []
   },
   "outputs": [],
   "source": [
    "from sklearn.model_selection import train_test_split\n",
    "from sklearn.linear_model import LogisticRegression\n",
    "from sklearn.metrics import make_scorer, accuracy_score, roc_auc_score \n",
    "X_train, X_valid, y_train, y_valid = train_test_split(X_train, y_train, test_size = 0.2, random_state = 420)"
   ]
  },
  {
   "cell_type": "code",
   "execution_count": 13,
   "id": "549edeb6",
   "metadata": {
    "execution": {
     "iopub.execute_input": "2022-07-31T07:17:53.541388Z",
     "iopub.status.busy": "2022-07-31T07:17:53.541014Z",
     "iopub.status.idle": "2022-07-31T07:17:54.120071Z",
     "shell.execute_reply": "2022-07-31T07:17:54.119099Z"
    },
    "papermill": {
     "duration": 0.594172,
     "end_time": "2022-07-31T07:17:54.122884",
     "exception": false,
     "start_time": "2022-07-31T07:17:53.528712",
     "status": "completed"
    },
    "tags": []
   },
   "outputs": [
    {
     "data": {
      "image/png": "[encoded data removed]",
      "text/plain": [
       "<Figure size 792x1080 with 2 Axes>"
      ]
     },
     "metadata": {
      "needs_background": "light"
     },
     "output_type": "display_data"
    }
   ],
   "source": [
    "corr_heatmap(new_df)"
   ]
  },
  {
   "cell_type": "code",
   "execution_count": 14,
   "id": "ab3aa4c4",
   "metadata": {
    "execution": {
     "iopub.execute_input": "2022-07-31T07:17:54.148158Z",
     "iopub.status.busy": "2022-07-31T07:17:54.147777Z",
     "iopub.status.idle": "2022-07-31T07:17:54.153612Z",
     "shell.execute_reply": "2022-07-31T07:17:54.152801Z"
    },
    "papermill": {
     "duration": 0.020897,
     "end_time": "2022-07-31T07:17:54.155728",
     "exception": false,
     "start_time": "2022-07-31T07:17:54.134831",
     "status": "completed"
    },
    "tags": []
   },
   "outputs": [],
   "source": [
    "# Currently the ‘multinomial’ option is supported only by the ‘lbfgs’, ‘sag’, ‘saga’ and ‘newton-cg’ solvers.\n",
    "# http://scikit-learn.org/stable/modules/generated/sklearn.linear_model.LogisticRegression.html#sklearn.linear_model.LogisticRegression\n",
    "param_grid = [    \n",
    "    {'penalty' : ['l2', 'none'],\n",
    "    'C' : np.logspace(-4, 4, 20),\n",
    "    'solver' : ['lbfgs','newton-cg', 'sag', 'saga'],\n",
    "    'max_iter' : [100, 1000,2500, 5000]\n",
    "    }\n",
    "]"
   ]
  },
  {
   "cell_type": "code",
   "execution_count": 15,
   "id": "9a246b50",
   "metadata": {
    "execution": {
     "iopub.execute_input": "2022-07-31T07:17:54.181193Z",
     "iopub.status.busy": "2022-07-31T07:17:54.180500Z",
     "iopub.status.idle": "2022-07-31T07:17:54.184507Z",
     "shell.execute_reply": "2022-07-31T07:17:54.183723Z"
    },
    "papermill": {
     "duration": 0.018878,
     "end_time": "2022-07-31T07:17:54.186520",
     "exception": false,
     "start_time": "2022-07-31T07:17:54.167642",
     "status": "completed"
    },
    "tags": []
   },
   "outputs": [],
   "source": [
    "#from sklearn.model_selection import GridSearchCV\n",
    "#clf = GridSearchCV(LogisticRegression(multi_class = 'multinomial'), param_grid = param_grid, verbose=10, n_jobs=-1, error_score=\"raise\")\n",
    "#best_clf = clf.fit(X_train, y_train)"
   ]
  },
  {
   "cell_type": "code",
   "execution_count": 16,
   "id": "d09e6373",
   "metadata": {
    "execution": {
     "iopub.execute_input": "2022-07-31T07:17:54.212112Z",
     "iopub.status.busy": "2022-07-31T07:17:54.211375Z",
     "iopub.status.idle": "2022-07-31T07:17:54.215272Z",
     "shell.execute_reply": "2022-07-31T07:17:54.214528Z"
    },
    "papermill": {
     "duration": 0.019244,
     "end_time": "2022-07-31T07:17:54.217400",
     "exception": false,
     "start_time": "2022-07-31T07:17:54.198156",
     "status": "completed"
    },
    "tags": []
   },
   "outputs": [],
   "source": [
    "#print(best_clf.best_estimator_)\n",
    "#print(best_clf.cv_results_)\n",
    "#print (f'Accuracy - : {best_clf.score(X_train, y_train):.3f}')\n",
    "# Thanks to GridSearch we know that the best choice is LogisticRegression(C=11.288378916846883, multi_class='multinomial',solver='newton-cg')"
   ]
  },
  {
   "cell_type": "code",
   "execution_count": 17,
   "id": "f1bae184",
   "metadata": {
    "execution": {
     "iopub.execute_input": "2022-07-31T07:17:54.242208Z",
     "iopub.status.busy": "2022-07-31T07:17:54.241526Z",
     "iopub.status.idle": "2022-07-31T07:17:57.194552Z",
     "shell.execute_reply": "2022-07-31T07:17:57.193416Z"
    },
    "papermill": {
     "duration": 2.969011,
     "end_time": "2022-07-31T07:17:57.197816",
     "exception": false,
     "start_time": "2022-07-31T07:17:54.228805",
     "status": "completed"
    },
    "tags": []
   },
   "outputs": [
    {
     "data": {
      "text/plain": [
       "LogisticRegression(C=11.288378916846883, multi_class='multinomial',\n",
       "                   solver='newton-cg')"
      ]
     },
     "execution_count": 17,
     "metadata": {},
     "output_type": "execute_result"
    }
   ],
   "source": [
    "model = LogisticRegression(C=11.288378916846883, multi_class='multinomial',solver='newton-cg')\n",
    "model.fit(X_train, y_train)"
   ]
  },
  {
   "cell_type": "code",
   "execution_count": 18,
   "id": "add57858",
   "metadata": {
    "execution": {
     "iopub.execute_input": "2022-07-31T07:17:57.242430Z",
     "iopub.status.busy": "2022-07-31T07:17:57.241865Z",
     "iopub.status.idle": "2022-07-31T07:17:57.279705Z",
     "shell.execute_reply": "2022-07-31T07:17:57.277271Z"
    },
    "papermill": {
     "duration": 0.06532,
     "end_time": "2022-07-31T07:17:57.284152",
     "exception": false,
     "start_time": "2022-07-31T07:17:57.218832",
     "status": "completed"
    },
    "tags": []
   },
   "outputs": [
    {
     "name": "stdout",
     "output_type": "stream",
     "text": [
      "              precision    recall  f1-score   support\n",
      "\n",
      "           0       0.90      0.90      0.90      1488\n",
      "           1       0.79      0.79      0.79      1518\n",
      "           2       0.72      0.72      0.72      1465\n",
      "\n",
      "    accuracy                           0.80      4471\n",
      "   macro avg       0.80      0.80      0.80      4471\n",
      "weighted avg       0.80      0.80      0.80      4471\n",
      "\n"
     ]
    }
   ],
   "source": [
    "y_pred = model.predict(X_valid)\n",
    "from sklearn.metrics import classification_report\n",
    "print(classification_report(y_valid, y_pred))"
   ]
  },
  {
   "cell_type": "code",
   "execution_count": 19,
   "id": "a848e1fc",
   "metadata": {
    "execution": {
     "iopub.execute_input": "2022-07-31T07:17:57.319928Z",
     "iopub.status.busy": "2022-07-31T07:17:57.318796Z",
     "iopub.status.idle": "2022-07-31T07:18:01.335582Z",
     "shell.execute_reply": "2022-07-31T07:18:01.334376Z"
    },
    "papermill": {
     "duration": 4.035855,
     "end_time": "2022-07-31T07:18:01.341831",
     "exception": false,
     "start_time": "2022-07-31T07:17:57.305976",
     "status": "completed"
    },
    "tags": []
   },
   "outputs": [
    {
     "name": "stdout",
     "output_type": "stream",
     "text": [
      "              precision    recall  f1-score   support\n",
      "\n",
      "           0       0.90      0.88      0.89      1823\n",
      "           1       0.76      0.75      0.76      1909\n",
      "           2       0.69      0.72      0.70      1856\n",
      "\n",
      "    accuracy                           0.78      5588\n",
      "   macro avg       0.78      0.78      0.78      5588\n",
      "weighted avg       0.78      0.78      0.78      5588\n",
      "\n"
     ]
    }
   ],
   "source": [
    "X_train, X_valid, y_train, y_valid = train_test_split(new_df.drop(columns=['genre', 'loudness']),new_df['genre'], test_size=0.2, random_state=1)\n",
    "lrm_cor = LogisticRegression(C=11.288378916846883, multi_class='multinomial',solver='newton-cg').fit(X_train, y_train)\n",
    "print(classification_report(y_valid, lrm_cor.predict(X_valid)))"
   ]
  },
  {
   "cell_type": "code",
   "execution_count": 20,
   "id": "f04d08d7",
   "metadata": {
    "execution": {
     "iopub.execute_input": "2022-07-31T07:18:01.387333Z",
     "iopub.status.busy": "2022-07-31T07:18:01.386786Z",
     "iopub.status.idle": "2022-07-31T07:18:05.416568Z",
     "shell.execute_reply": "2022-07-31T07:18:05.415324Z"
    },
    "papermill": {
     "duration": 4.060148,
     "end_time": "2022-07-31T07:18:05.423752",
     "exception": false,
     "start_time": "2022-07-31T07:18:01.363604",
     "status": "completed"
    },
    "tags": []
   },
   "outputs": [
    {
     "name": "stdout",
     "output_type": "stream",
     "text": [
      "              precision    recall  f1-score   support\n",
      "\n",
      "           0       0.92      0.88      0.90      1823\n",
      "           1       0.79      0.80      0.79      1909\n",
      "           2       0.73      0.75      0.74      1856\n",
      "\n",
      "    accuracy                           0.81      5588\n",
      "   macro avg       0.81      0.81      0.81      5588\n",
      "weighted avg       0.81      0.81      0.81      5588\n",
      "\n"
     ]
    }
   ],
   "source": [
    "X_train, X_valid, y_train, y_valid = train_test_split(new_df.drop(columns=['genre', 'energy']),new_df['genre'], test_size=0.2, random_state=1)\n",
    "lrm_cor = LogisticRegression(C=11.288378916846883, multi_class='multinomial',solver='newton-cg').fit(X_train, y_train)\n",
    "print(classification_report(y_valid, lrm_cor.predict(X_valid)))"
   ]
  },
  {
   "cell_type": "code",
   "execution_count": 21,
   "id": "3b3c892d",
   "metadata": {
    "execution": {
     "iopub.execute_input": "2022-07-31T07:18:05.473526Z",
     "iopub.status.busy": "2022-07-31T07:18:05.472916Z",
     "iopub.status.idle": "2022-07-31T07:18:09.988479Z",
     "shell.execute_reply": "2022-07-31T07:18:09.987322Z"
    },
    "papermill": {
     "duration": 4.546688,
     "end_time": "2022-07-31T07:18:09.994195",
     "exception": false,
     "start_time": "2022-07-31T07:18:05.447507",
     "status": "completed"
    },
    "tags": []
   },
   "outputs": [
    {
     "name": "stdout",
     "output_type": "stream",
     "text": [
      "              precision    recall  f1-score   support\n",
      "\n",
      "           0       0.92      0.88      0.90      1823\n",
      "           1       0.79      0.80      0.80      1909\n",
      "           2       0.72      0.75      0.73      1856\n",
      "\n",
      "    accuracy                           0.81      5588\n",
      "   macro avg       0.81      0.81      0.81      5588\n",
      "weighted avg       0.81      0.81      0.81      5588\n",
      "\n"
     ]
    }
   ],
   "source": [
    "X_train, X_valid, y_train, y_valid = train_test_split(new_df.drop(columns=['genre', 'acousticness']),new_df['genre'], test_size=0.2, random_state=1)\n",
    "lrm_cor = LogisticRegression(C=11.288378916846883, multi_class='multinomial',solver='newton-cg').fit(X_train, y_train)\n",
    "print(classification_report(y_valid, lrm_cor.predict(X_valid)))"
   ]
  },
  {
   "cell_type": "code",
   "execution_count": 22,
   "id": "3641e831",
   "metadata": {
    "execution": {
     "iopub.execute_input": "2022-07-31T07:18:10.042116Z",
     "iopub.status.busy": "2022-07-31T07:18:10.041526Z",
     "iopub.status.idle": "2022-07-31T07:18:10.080339Z",
     "shell.execute_reply": "2022-07-31T07:18:10.079473Z"
    },
    "papermill": {
     "duration": 0.065547,
     "end_time": "2022-07-31T07:18:10.082832",
     "exception": false,
     "start_time": "2022-07-31T07:18:10.017285",
     "status": "completed"
    },
    "tags": []
   },
   "outputs": [
    {
     "name": "stdout",
     "output_type": "stream",
     "text": [
      "              precision    recall  f1-score   support\n",
      "\n",
      "           0       0.92      0.88      0.90      1871\n",
      "           1       0.79      0.79      0.79      1923\n",
      "           2       0.70      0.73      0.71      1794\n",
      "\n",
      "    accuracy                           0.80      5588\n",
      "   macro avg       0.80      0.80      0.80      5588\n",
      "weighted avg       0.81      0.80      0.80      5588\n",
      "\n"
     ]
    }
   ],
   "source": [
    "# Since the accuracy is at its highest even when all the features are there, I won't remove any of them\n",
    "# I will now test the data with X_test and y_test\n",
    "y_pred = model.predict(X_test)\n",
    "print(classification_report(y_test, y_pred))"
   ]
  },
  {
   "cell_type": "code",
   "execution_count": 23,
   "id": "970fd541",
   "metadata": {
    "execution": {
     "iopub.execute_input": "2022-07-31T07:18:10.109414Z",
     "iopub.status.busy": "2022-07-31T07:18:10.108683Z",
     "iopub.status.idle": "2022-07-31T07:18:10.113745Z",
     "shell.execute_reply": "2022-07-31T07:18:10.112915Z"
    },
    "papermill": {
     "duration": 0.021106,
     "end_time": "2022-07-31T07:18:10.115988",
     "exception": false,
     "start_time": "2022-07-31T07:18:10.094882",
     "status": "completed"
    },
    "tags": []
   },
   "outputs": [],
   "source": [
    "# We see that the accuracy doesn't change\n",
    "# We'll now try to get best results with a Neural Network\n",
    "#from sklearn.neural_network import MLPClassifier\n",
    "#from sklearn.model_selection import GridSearchCV\n",
    "#parameters = {'solver': ['lbfgs'], 'max_iter': [1000,1100,1200,1300,1400,1500,1600,1700,1800,1900,2000 ], 'alpha': 10.0 ** -np.arange(1, 10), 'hidden_layer_sizes':np.arange(10, 15), 'random_state':[0,1,2,3,4,5,6,7,8,9]}\n",
    "#clf = GridSearchCV(MLPClassifier(), parameters, n_jobs=-1, verbose=10, error_score=\"raise\")\n",
    "#best_clf = clf.fit(X_train, y_train)"
   ]
  },
  {
   "cell_type": "code",
   "execution_count": 24,
   "id": "dd5e03f2",
   "metadata": {
    "execution": {
     "iopub.execute_input": "2022-07-31T07:18:10.142565Z",
     "iopub.status.busy": "2022-07-31T07:18:10.141684Z",
     "iopub.status.idle": "2022-07-31T07:18:10.146579Z",
     "shell.execute_reply": "2022-07-31T07:18:10.145569Z"
    },
    "papermill": {
     "duration": 0.020712,
     "end_time": "2022-07-31T07:18:10.148798",
     "exception": false,
     "start_time": "2022-07-31T07:18:10.128086",
     "status": "completed"
    },
    "tags": []
   },
   "outputs": [],
   "source": [
    "#print(best_clf.best_estimator_)\n",
    "#print(best_clf.cv_results_)\n",
    "#print (f'Accuracy - : {best_clf.score(X_train, y_train):.3f}')"
   ]
  },
  {
   "cell_type": "code",
   "execution_count": null,
   "id": "60b5d0c9",
   "metadata": {
    "papermill": {
     "duration": 0.011637,
     "end_time": "2022-07-31T07:18:10.172479",
     "exception": false,
     "start_time": "2022-07-31T07:18:10.160842",
     "status": "completed"
    },
    "tags": []
   },
   "outputs": [],
   "source": []
  }
 ],
 "metadata": {
  "kernelspec": {
   "display_name": "Python 3",
   "language": "python",
   "name": "python3"
  },
  "language_info": {
   "codemirror_mode": {
    "name": "ipython",
    "version": 3
   },
   "file_extension": ".py",
   "mimetype": "text/x-python",
   "name": "python",
   "nbconvert_exporter": "python",
   "pygments_lexer": "ipython3",
   "version": "3.7.12"
  },
  "papermill": {
   "default_parameters": {},
   "duration": 33.827212,
   "end_time": "2022-07-31T07:18:10.905867",
   "environment_variables": {},
   "exception": null,
   "input_path": "__notebook__.ipynb",
   "output_path": "__notebook__.ipynb",
   "parameters": {},
   "start_time": "2022-07-31T07:17:37.078655",
   "version": "2.3.4"
  }
 },
 "nbformat": 4,
 "nbformat_minor": 5
}
