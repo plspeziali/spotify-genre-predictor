{
 "cells": [
  {
   "cell_type": "code",
   "execution_count": 1,
   "id": "5b5345f7",
   "metadata": {
    "execution": {
     "iopub.execute_input": "2022-08-16T15:15:08.000665Z",
     "iopub.status.busy": "2022-08-16T15:15:07.999697Z",
     "iopub.status.idle": "2022-08-16T15:15:09.198986Z",
     "shell.execute_reply": "2022-08-16T15:15:09.197573Z"
    },
    "papermill": {
     "duration": 1.214148,
     "end_time": "2022-08-16T15:15:09.202100",
     "exception": false,
     "start_time": "2022-08-16T15:15:07.987952",
     "status": "completed"
    },
    "tags": []
   },
   "outputs": [],
   "source": [
    "import pandas as pd\n",
    "import seaborn as sns # for data visualization\n",
    "import matplotlib.pyplot as plt\n",
    "import numpy as np\n",
    "def corr_heatmap(data):\n",
    "    corr_matrix = data.corr()\n",
    "    mask = np.zeros_like(corr_matrix, dtype=bool)\n",
    "    mask[np.triu_indices_from(mask)]= True\n",
    "    f, ax = plt.subplots(figsize=(11, 15)) \n",
    "    heatmap = sns.heatmap(corr_matrix, \n",
    "                          mask = mask,\n",
    "                          square = True,\n",
    "                          linewidths = .5,\n",
    "                          cmap = 'coolwarm',\n",
    "                          cbar_kws = {'shrink': .4, \n",
    "                                    'ticks' : [-1, -.5, 0, 0.5, 1]},\n",
    "                          vmin = -1, \n",
    "                          vmax = 1,\n",
    "                          annot = True,\n",
    "                          annot_kws = {'size': 12})#add the column names as labels\n",
    "    ax.set_yticklabels(corr_matrix.columns, rotation = 0)\n",
    "    ax.set_xticklabels(corr_matrix.columns)\n",
    "    sns.set_style({'xtick.bottom': True}, {'ytick.left': True})"
   ]
  },
  {
   "cell_type": "code",
   "execution_count": 2,
   "id": "bc03a24e",
   "metadata": {
    "execution": {
     "iopub.execute_input": "2022-08-16T15:15:09.221156Z",
     "iopub.status.busy": "2022-08-16T15:15:09.220723Z",
     "iopub.status.idle": "2022-08-16T15:15:10.592817Z",
     "shell.execute_reply": "2022-08-16T15:15:10.591716Z"
    },
    "papermill": {
     "duration": 1.384396,
     "end_time": "2022-08-16T15:15:10.595319",
     "exception": false,
     "start_time": "2022-08-16T15:15:09.210923",
     "status": "completed"
    },
    "tags": []
   },
   "outputs": [
    {
     "data": {
      "text/html": [
       "<div>\n",
       "<style scoped>\n",
       "    .dataframe tbody tr th:only-of-type {\n",
       "        vertical-align: middle;\n",
       "    }\n",
       "\n",
       "    .dataframe tbody tr th {\n",
       "        vertical-align: top;\n",
       "    }\n",
       "\n",
       "    .dataframe thead th {\n",
       "        text-align: right;\n",
       "    }\n",
       "</style>\n",
       "<table border=\"1\" class=\"dataframe\">\n",
       "  <thead>\n",
       "    <tr style=\"text-align: right;\">\n",
       "      <th></th>\n",
       "      <th>genre</th>\n",
       "      <th>artist_name</th>\n",
       "      <th>track_name</th>\n",
       "      <th>track_id</th>\n",
       "      <th>popularity</th>\n",
       "      <th>acousticness</th>\n",
       "      <th>danceability</th>\n",
       "      <th>duration_ms</th>\n",
       "      <th>energy</th>\n",
       "      <th>instrumentalness</th>\n",
       "      <th>key</th>\n",
       "      <th>liveness</th>\n",
       "      <th>loudness</th>\n",
       "      <th>mode</th>\n",
       "      <th>speechiness</th>\n",
       "      <th>tempo</th>\n",
       "      <th>time_signature</th>\n",
       "      <th>valence</th>\n",
       "    </tr>\n",
       "  </thead>\n",
       "  <tbody>\n",
       "    <tr>\n",
       "      <th>0</th>\n",
       "      <td>Movie</td>\n",
       "      <td>Henri Salvador</td>\n",
       "      <td>C'est beau de faire un Show</td>\n",
       "      <td>0BRjO6ga9RKCKjfDqeFgWV</td>\n",
       "      <td>0</td>\n",
       "      <td>0.611</td>\n",
       "      <td>0.389</td>\n",
       "      <td>99373</td>\n",
       "      <td>0.910</td>\n",
       "      <td>0.000</td>\n",
       "      <td>C#</td>\n",
       "      <td>0.3460</td>\n",
       "      <td>-1.828</td>\n",
       "      <td>Major</td>\n",
       "      <td>0.0525</td>\n",
       "      <td>166.969</td>\n",
       "      <td>4/4</td>\n",
       "      <td>0.814</td>\n",
       "    </tr>\n",
       "    <tr>\n",
       "      <th>1</th>\n",
       "      <td>Movie</td>\n",
       "      <td>Martin &amp; les fées</td>\n",
       "      <td>Perdu d'avance (par Gad Elmaleh)</td>\n",
       "      <td>0BjC1NfoEOOusryehmNudP</td>\n",
       "      <td>1</td>\n",
       "      <td>0.246</td>\n",
       "      <td>0.590</td>\n",
       "      <td>137373</td>\n",
       "      <td>0.737</td>\n",
       "      <td>0.000</td>\n",
       "      <td>F#</td>\n",
       "      <td>0.1510</td>\n",
       "      <td>-5.559</td>\n",
       "      <td>Minor</td>\n",
       "      <td>0.0868</td>\n",
       "      <td>174.003</td>\n",
       "      <td>4/4</td>\n",
       "      <td>0.816</td>\n",
       "    </tr>\n",
       "    <tr>\n",
       "      <th>2</th>\n",
       "      <td>Movie</td>\n",
       "      <td>Joseph Williams</td>\n",
       "      <td>Don't Let Me Be Lonely Tonight</td>\n",
       "      <td>0CoSDzoNIKCRs124s9uTVy</td>\n",
       "      <td>3</td>\n",
       "      <td>0.952</td>\n",
       "      <td>0.663</td>\n",
       "      <td>170267</td>\n",
       "      <td>0.131</td>\n",
       "      <td>0.000</td>\n",
       "      <td>C</td>\n",
       "      <td>0.1030</td>\n",
       "      <td>-13.879</td>\n",
       "      <td>Minor</td>\n",
       "      <td>0.0362</td>\n",
       "      <td>99.488</td>\n",
       "      <td>5/4</td>\n",
       "      <td>0.368</td>\n",
       "    </tr>\n",
       "    <tr>\n",
       "      <th>3</th>\n",
       "      <td>Movie</td>\n",
       "      <td>Henri Salvador</td>\n",
       "      <td>Dis-moi Monsieur Gordon Cooper</td>\n",
       "      <td>0Gc6TVm52BwZD07Ki6tIvf</td>\n",
       "      <td>0</td>\n",
       "      <td>0.703</td>\n",
       "      <td>0.240</td>\n",
       "      <td>152427</td>\n",
       "      <td>0.326</td>\n",
       "      <td>0.000</td>\n",
       "      <td>C#</td>\n",
       "      <td>0.0985</td>\n",
       "      <td>-12.178</td>\n",
       "      <td>Major</td>\n",
       "      <td>0.0395</td>\n",
       "      <td>171.758</td>\n",
       "      <td>4/4</td>\n",
       "      <td>0.227</td>\n",
       "    </tr>\n",
       "    <tr>\n",
       "      <th>4</th>\n",
       "      <td>Movie</td>\n",
       "      <td>Fabien Nataf</td>\n",
       "      <td>Ouverture</td>\n",
       "      <td>0IuslXpMROHdEPvSl1fTQK</td>\n",
       "      <td>4</td>\n",
       "      <td>0.950</td>\n",
       "      <td>0.331</td>\n",
       "      <td>82625</td>\n",
       "      <td>0.225</td>\n",
       "      <td>0.123</td>\n",
       "      <td>F</td>\n",
       "      <td>0.2020</td>\n",
       "      <td>-21.150</td>\n",
       "      <td>Major</td>\n",
       "      <td>0.0456</td>\n",
       "      <td>140.576</td>\n",
       "      <td>4/4</td>\n",
       "      <td>0.390</td>\n",
       "    </tr>\n",
       "  </tbody>\n",
       "</table>\n",
       "</div>"
      ],
      "text/plain": [
       "   genre        artist_name                        track_name  \\\n",
       "0  Movie     Henri Salvador       C'est beau de faire un Show   \n",
       "1  Movie  Martin & les fées  Perdu d'avance (par Gad Elmaleh)   \n",
       "2  Movie    Joseph Williams    Don't Let Me Be Lonely Tonight   \n",
       "3  Movie     Henri Salvador    Dis-moi Monsieur Gordon Cooper   \n",
       "4  Movie       Fabien Nataf                         Ouverture   \n",
       "\n",
       "                 track_id  popularity  acousticness  danceability  \\\n",
       "0  0BRjO6ga9RKCKjfDqeFgWV           0         0.611         0.389   \n",
       "1  0BjC1NfoEOOusryehmNudP           1         0.246         0.590   \n",
       "2  0CoSDzoNIKCRs124s9uTVy           3         0.952         0.663   \n",
       "3  0Gc6TVm52BwZD07Ki6tIvf           0         0.703         0.240   \n",
       "4  0IuslXpMROHdEPvSl1fTQK           4         0.950         0.331   \n",
       "\n",
       "   duration_ms  energy  instrumentalness key  liveness  loudness   mode  \\\n",
       "0        99373   0.910             0.000  C#    0.3460    -1.828  Major   \n",
       "1       137373   0.737             0.000  F#    0.1510    -5.559  Minor   \n",
       "2       170267   0.131             0.000   C    0.1030   -13.879  Minor   \n",
       "3       152427   0.326             0.000  C#    0.0985   -12.178  Major   \n",
       "4        82625   0.225             0.123   F    0.2020   -21.150  Major   \n",
       "\n",
       "   speechiness    tempo time_signature  valence  \n",
       "0       0.0525  166.969            4/4    0.814  \n",
       "1       0.0868  174.003            4/4    0.816  \n",
       "2       0.0362   99.488            5/4    0.368  \n",
       "3       0.0395  171.758            4/4    0.227  \n",
       "4       0.0456  140.576            4/4    0.390  "
      ]
     },
     "metadata": {},
     "output_type": "display_data"
    }
   ],
   "source": [
    "df = pd.read_csv(\"../input/ultimate-spotify-tracks-db/SpotifyFeatures.csv\")\n",
    "display(df.head())"
   ]
  },
  {
   "cell_type": "code",
   "execution_count": 3,
   "id": "f71f86fb",
   "metadata": {
    "execution": {
     "iopub.execute_input": "2022-08-16T15:15:10.614790Z",
     "iopub.status.busy": "2022-08-16T15:15:10.614354Z",
     "iopub.status.idle": "2022-08-16T15:15:10.622622Z",
     "shell.execute_reply": "2022-08-16T15:15:10.620153Z"
    },
    "papermill": {
     "duration": 0.023072,
     "end_time": "2022-08-16T15:15:10.627046",
     "exception": false,
     "start_time": "2022-08-16T15:15:10.603974",
     "status": "completed"
    },
    "tags": []
   },
   "outputs": [
    {
     "name": "stdout",
     "output_type": "stream",
     "text": [
      "Index(['genre', 'artist_name', 'track_name', 'track_id', 'popularity',\n",
      "       'acousticness', 'danceability', 'duration_ms', 'energy',\n",
      "       'instrumentalness', 'key', 'liveness', 'loudness', 'mode',\n",
      "       'speechiness', 'tempo', 'time_signature', 'valence'],\n",
      "      dtype='object')\n"
     ]
    }
   ],
   "source": [
    "# Prints the names of the features\n",
    "print(df.keys())"
   ]
  },
  {
   "cell_type": "code",
   "execution_count": 4,
   "id": "f4563107",
   "metadata": {
    "execution": {
     "iopub.execute_input": "2022-08-16T15:15:10.646705Z",
     "iopub.status.busy": "2022-08-16T15:15:10.645448Z",
     "iopub.status.idle": "2022-08-16T15:15:10.728183Z",
     "shell.execute_reply": "2022-08-16T15:15:10.726508Z"
    },
    "papermill": {
     "duration": 0.095796,
     "end_time": "2022-08-16T15:15:10.731555",
     "exception": false,
     "start_time": "2022-08-16T15:15:10.635759",
     "status": "completed"
    },
    "tags": []
   },
   "outputs": [
    {
     "name": "stdout",
     "output_type": "stream",
     "text": [
      "genre               0\n",
      "artist_name         0\n",
      "track_name          0\n",
      "track_id            0\n",
      "popularity          0\n",
      "acousticness        0\n",
      "danceability        0\n",
      "duration_ms         0\n",
      "energy              0\n",
      "instrumentalness    0\n",
      "key                 0\n",
      "liveness            0\n",
      "loudness            0\n",
      "mode                0\n",
      "speechiness         0\n",
      "tempo               0\n",
      "time_signature      0\n",
      "valence             0\n",
      "dtype: int64\n"
     ]
    }
   ],
   "source": [
    "# Let's check for null values\n",
    "print(pd.isnull(df).sum())"
   ]
  },
  {
   "cell_type": "code",
   "execution_count": 5,
   "id": "3ad9ff3b",
   "metadata": {
    "execution": {
     "iopub.execute_input": "2022-08-16T15:15:10.751348Z",
     "iopub.status.busy": "2022-08-16T15:15:10.750541Z",
     "iopub.status.idle": "2022-08-16T15:15:11.319005Z",
     "shell.execute_reply": "2022-08-16T15:15:11.317934Z"
    },
    "papermill": {
     "duration": 0.581389,
     "end_time": "2022-08-16T15:15:11.322035",
     "exception": false,
     "start_time": "2022-08-16T15:15:10.740646",
     "status": "completed"
    },
    "tags": []
   },
   "outputs": [
    {
     "data": {
      "text/plain": [
       "Text(0.5, 1.0, 'Time Signature Distribution')"
      ]
     },
     "execution_count": 5,
     "metadata": {},
     "output_type": "execute_result"
    },
    {
     "data": {
      "image/png": "[encoded data removed]",
      "text/plain": [
       "<Figure size 432x288 with 1 Axes>"
      ]
     },
     "metadata": {
      "needs_background": "light"
     },
     "output_type": "display_data"
    }
   ],
   "source": [
    "# There are no null values, thus there's no need to perform any kind of operation\n",
    "# in order to handle the missing values\n",
    "sns.histplot(df['time_signature']).set_title('Time Signature Distribution')"
   ]
  },
  {
   "cell_type": "code",
   "execution_count": 6,
   "id": "3fbf2429",
   "metadata": {
    "execution": {
     "iopub.execute_input": "2022-08-16T15:15:11.341479Z",
     "iopub.status.busy": "2022-08-16T15:15:11.341043Z",
     "iopub.status.idle": "2022-08-16T15:15:11.951972Z",
     "shell.execute_reply": "2022-08-16T15:15:11.950679Z"
    },
    "papermill": {
     "duration": 0.624088,
     "end_time": "2022-08-16T15:15:11.955017",
     "exception": false,
     "start_time": "2022-08-16T15:15:11.330929",
     "status": "completed"
    },
    "tags": []
   },
   "outputs": [
    {
     "name": "stdout",
     "output_type": "stream",
     "text": [
      "Tracks with a 0/4 time signature: 8\n"
     ]
    },
    {
     "data": {
      "text/plain": [
       "Text(0.5, 1.0, 'Time Signature Distribution')"
      ]
     },
     "execution_count": 6,
     "metadata": {},
     "output_type": "execute_result"
    },
    {
     "data": {
      "image/png": "[encoded data removed]",
      "text/plain": [
       "<Figure size 432x288 with 1 Axes>"
      ]
     },
     "metadata": {
      "needs_background": "light"
     },
     "output_type": "display_data"
    }
   ],
   "source": [
    "# The samples in the dataframe where the field 'time_signature' is '1/4'\n",
    "# actually represent songs with mostly a 4/4 time signature, since it is\n",
    "# most likely an error by who created the dataframe we're going to change it\n",
    "# to the '4/4' value\n",
    "df['time_signature'] = df['time_signature'].replace(['1/4'],'4/4')\n",
    "\n",
    "print(\"Tracks with a 0/4 time signature: %s\" % len(df[df['time_signature'] == '0/4']));\n",
    "# Since there are just 8 samples with a '0/4' time signature,\n",
    "# and since it is clearly an error, I'm going to simply delete them\n",
    "df = df[df['time_signature'] != '0/4']\n",
    "\n",
    "sns.histplot(df['time_signature']).set_title('Time Signature Distribution')"
   ]
  },
  {
   "cell_type": "code",
   "execution_count": 7,
   "id": "b8c0bd54",
   "metadata": {
    "execution": {
     "iopub.execute_input": "2022-08-16T15:15:11.976161Z",
     "iopub.status.busy": "2022-08-16T15:15:11.975716Z",
     "iopub.status.idle": "2022-08-16T15:15:12.642371Z",
     "shell.execute_reply": "2022-08-16T15:15:12.641395Z"
    },
    "papermill": {
     "duration": 0.679868,
     "end_time": "2022-08-16T15:15:12.644888",
     "exception": false,
     "start_time": "2022-08-16T15:15:11.965020",
     "status": "completed"
    },
    "tags": []
   },
   "outputs": [
    {
     "data": {
      "text/plain": [
       "Text(0.5, 1.0, 'Genre Distribution')"
      ]
     },
     "execution_count": 7,
     "metadata": {},
     "output_type": "execute_result"
    },
    {
     "data": {
      "image/png": "[encoded data removed]",
      "text/plain": [
       "<Figure size 1584x432 with 1 Axes>"
      ]
     },
     "metadata": {
      "needs_background": "light"
     },
     "output_type": "display_data"
    }
   ],
   "source": [
    "plt.figure(figsize=(22, 6))\n",
    "sns.histplot(df['genre']).set_title('Genre Distribution')"
   ]
  },
  {
   "cell_type": "code",
   "execution_count": 8,
   "id": "671a271b",
   "metadata": {
    "execution": {
     "iopub.execute_input": "2022-08-16T15:15:12.668165Z",
     "iopub.status.busy": "2022-08-16T15:15:12.667186Z",
     "iopub.status.idle": "2022-08-16T15:15:12.912883Z",
     "shell.execute_reply": "2022-08-16T15:15:12.911549Z"
    },
    "papermill": {
     "duration": 0.259519,
     "end_time": "2022-08-16T15:15:12.915428",
     "exception": false,
     "start_time": "2022-08-16T15:15:12.655909",
     "status": "completed"
    },
    "tags": []
   },
   "outputs": [
    {
     "name": "stdout",
     "output_type": "stream",
     "text": [
      "Classical Tracks number: 9256\n",
      "Pop Tracks number: 9385\n",
      "Folk Tracks number: 9299\n",
      "Total Tracks number: 27940\n"
     ]
    },
    {
     "data": {
      "image/png": "[encoded data removed]",
      "text/plain": [
       "<Figure size 432x288 with 1 Axes>"
      ]
     },
     "metadata": {
      "needs_background": "light"
     },
     "output_type": "display_data"
    }
   ],
   "source": [
    "# i'm going to pick the three genres of the Philip Tagg's axiomatic triangle:\n",
    "# Classical, Pop and Folk, as we can see they are pretty balanced\n",
    "\n",
    "taggGenres = ['Classical','Pop','Folk']\n",
    "df = df[df.genre.isin(taggGenres)];\n",
    "sns.histplot(df['genre']).set_title('Genre Distribution')\n",
    "\n",
    "print(\"Classical Tracks number: %s\" % len(df[df['genre'] == 'Classical']));\n",
    "print(\"Pop Tracks number: %s\" % len(df[df['genre'] == 'Pop']));\n",
    "print(\"Folk Tracks number: %s\" % len(df[df['genre'] == 'Folk']));\n",
    "\n",
    "print(\"Total Tracks number: %s\" % len(df));"
   ]
  },
  {
   "cell_type": "code",
   "execution_count": 9,
   "id": "eea2e98b",
   "metadata": {
    "execution": {
     "iopub.execute_input": "2022-08-16T15:15:12.937812Z",
     "iopub.status.busy": "2022-08-16T15:15:12.937116Z",
     "iopub.status.idle": "2022-08-16T15:15:13.322802Z",
     "shell.execute_reply": "2022-08-16T15:15:13.321608Z"
    },
    "papermill": {
     "duration": 0.399667,
     "end_time": "2022-08-16T15:15:13.325250",
     "exception": false,
     "start_time": "2022-08-16T15:15:12.925583",
     "status": "completed"
    },
    "tags": []
   },
   "outputs": [
    {
     "data": {
      "text/plain": [
       "Text(0.5, 1.0, 'Key usage for every genre')"
      ]
     },
     "execution_count": 9,
     "metadata": {},
     "output_type": "execute_result"
    },
    {
     "data": {
      "image/png": "[encoded data removed]",
      "text/plain": [
       "<Figure size 1584x432 with 1 Axes>"
      ]
     },
     "metadata": {
      "needs_background": "light"
     },
     "output_type": "display_data"
    }
   ],
   "source": [
    "plt.figure(figsize=(22, 6))\n",
    "sns.countplot(x = 'key', hue = 'genre', data = df)\n",
    "plt.title('Key usage for every genre')\n",
    "# This is the distribution of key usage for every genre, I decided at the end to drop this and the mode\n",
    "# features since they don't have much meaning in a genre prediction"
   ]
  },
  {
   "cell_type": "code",
   "execution_count": 10,
   "id": "943f98f3",
   "metadata": {
    "execution": {
     "iopub.execute_input": "2022-08-16T15:15:13.349589Z",
     "iopub.status.busy": "2022-08-16T15:15:13.348737Z",
     "iopub.status.idle": "2022-08-16T15:15:13.485826Z",
     "shell.execute_reply": "2022-08-16T15:15:13.484603Z"
    },
    "papermill": {
     "duration": 0.152179,
     "end_time": "2022-08-16T15:15:13.488290",
     "exception": false,
     "start_time": "2022-08-16T15:15:13.336111",
     "status": "completed"
    },
    "tags": []
   },
   "outputs": [
    {
     "data": {
      "text/html": [
       "<div>\n",
       "<style scoped>\n",
       "    .dataframe tbody tr th:only-of-type {\n",
       "        vertical-align: middle;\n",
       "    }\n",
       "\n",
       "    .dataframe tbody tr th {\n",
       "        vertical-align: top;\n",
       "    }\n",
       "\n",
       "    .dataframe thead th {\n",
       "        text-align: right;\n",
       "    }\n",
       "</style>\n",
       "<table border=\"1\" class=\"dataframe\">\n",
       "  <thead>\n",
       "    <tr style=\"text-align: right;\">\n",
       "      <th></th>\n",
       "      <th>genre</th>\n",
       "      <th>acousticness</th>\n",
       "      <th>danceability</th>\n",
       "      <th>energy</th>\n",
       "      <th>instrumentalness</th>\n",
       "      <th>liveness</th>\n",
       "      <th>loudness</th>\n",
       "      <th>speechiness</th>\n",
       "      <th>tempo</th>\n",
       "      <th>valence</th>\n",
       "      <th>time_signature_3</th>\n",
       "      <th>time_signature_4</th>\n",
       "      <th>time_signature_5</th>\n",
       "    </tr>\n",
       "  </thead>\n",
       "  <tbody>\n",
       "    <tr>\n",
       "      <th>63650</th>\n",
       "      <td>Folk</td>\n",
       "      <td>0.5370</td>\n",
       "      <td>0.694</td>\n",
       "      <td>0.578</td>\n",
       "      <td>0.000000</td>\n",
       "      <td>0.107</td>\n",
       "      <td>-6.650</td>\n",
       "      <td>0.0288</td>\n",
       "      <td>108.273</td>\n",
       "      <td>0.881</td>\n",
       "      <td>0</td>\n",
       "      <td>1</td>\n",
       "      <td>0</td>\n",
       "    </tr>\n",
       "    <tr>\n",
       "      <th>149192</th>\n",
       "      <td>Pop</td>\n",
       "      <td>0.0135</td>\n",
       "      <td>0.550</td>\n",
       "      <td>0.779</td>\n",
       "      <td>0.000000</td>\n",
       "      <td>0.333</td>\n",
       "      <td>-3.841</td>\n",
       "      <td>0.2110</td>\n",
       "      <td>150.069</td>\n",
       "      <td>0.315</td>\n",
       "      <td>0</td>\n",
       "      <td>1</td>\n",
       "      <td>0</td>\n",
       "    </tr>\n",
       "    <tr>\n",
       "      <th>108823</th>\n",
       "      <td>Pop</td>\n",
       "      <td>0.2410</td>\n",
       "      <td>0.755</td>\n",
       "      <td>0.594</td>\n",
       "      <td>0.000000</td>\n",
       "      <td>0.107</td>\n",
       "      <td>-5.906</td>\n",
       "      <td>0.2160</td>\n",
       "      <td>178.929</td>\n",
       "      <td>0.237</td>\n",
       "      <td>0</td>\n",
       "      <td>1</td>\n",
       "      <td>0</td>\n",
       "    </tr>\n",
       "    <tr>\n",
       "      <th>44276</th>\n",
       "      <td>Folk</td>\n",
       "      <td>0.1380</td>\n",
       "      <td>0.458</td>\n",
       "      <td>0.825</td>\n",
       "      <td>0.880000</td>\n",
       "      <td>0.116</td>\n",
       "      <td>-6.301</td>\n",
       "      <td>0.0367</td>\n",
       "      <td>145.997</td>\n",
       "      <td>0.522</td>\n",
       "      <td>0</td>\n",
       "      <td>1</td>\n",
       "      <td>0</td>\n",
       "    </tr>\n",
       "    <tr>\n",
       "      <th>41947</th>\n",
       "      <td>Folk</td>\n",
       "      <td>0.9450</td>\n",
       "      <td>0.547</td>\n",
       "      <td>0.325</td>\n",
       "      <td>0.000003</td>\n",
       "      <td>0.073</td>\n",
       "      <td>-8.080</td>\n",
       "      <td>0.0307</td>\n",
       "      <td>129.524</td>\n",
       "      <td>0.218</td>\n",
       "      <td>0</td>\n",
       "      <td>1</td>\n",
       "      <td>0</td>\n",
       "    </tr>\n",
       "  </tbody>\n",
       "</table>\n",
       "</div>"
      ],
      "text/plain": [
       "       genre  acousticness  danceability  energy  instrumentalness  liveness  \\\n",
       "63650   Folk        0.5370         0.694   0.578          0.000000     0.107   \n",
       "149192   Pop        0.0135         0.550   0.779          0.000000     0.333   \n",
       "108823   Pop        0.2410         0.755   0.594          0.000000     0.107   \n",
       "44276   Folk        0.1380         0.458   0.825          0.880000     0.116   \n",
       "41947   Folk        0.9450         0.547   0.325          0.000003     0.073   \n",
       "\n",
       "        loudness  speechiness    tempo  valence  time_signature_3  \\\n",
       "63650     -6.650       0.0288  108.273    0.881                 0   \n",
       "149192    -3.841       0.2110  150.069    0.315                 0   \n",
       "108823    -5.906       0.2160  178.929    0.237                 0   \n",
       "44276     -6.301       0.0367  145.997    0.522                 0   \n",
       "41947     -8.080       0.0307  129.524    0.218                 0   \n",
       "\n",
       "        time_signature_4  time_signature_5  \n",
       "63650                  1                 0  \n",
       "149192                 1                 0  \n",
       "108823                 1                 0  \n",
       "44276                  1                 0  \n",
       "41947                  1                 0  "
      ]
     },
     "metadata": {},
     "output_type": "display_data"
    }
   ],
   "source": [
    "# Let's now remove the unnecessary features\n",
    "new_df = df.drop(['artist_name','track_name','track_id','popularity','key','mode','duration_ms'],axis = 1)\n",
    "# Make a one hot encoding of the time signature\n",
    "new_df.time_signature = new_df.time_signature.map( {'3/4':3 , '4/4':4, '5/4':5} )\n",
    "new_df = pd.get_dummies(data= new_df, columns=['time_signature'])\n",
    "# Shuffle the dataset\n",
    "from sklearn.utils import shuffle\n",
    "new_df = shuffle(new_df)\n",
    "display(new_df.head())"
   ]
  },
  {
   "cell_type": "code",
   "execution_count": 11,
   "id": "0ccd78f2",
   "metadata": {
    "execution": {
     "iopub.execute_input": "2022-08-16T15:15:13.512270Z",
     "iopub.status.busy": "2022-08-16T15:15:13.511432Z",
     "iopub.status.idle": "2022-08-16T15:15:13.519948Z",
     "shell.execute_reply": "2022-08-16T15:15:13.518993Z"
    },
    "papermill": {
     "duration": 0.022841,
     "end_time": "2022-08-16T15:15:13.522078",
     "exception": false,
     "start_time": "2022-08-16T15:15:13.499237",
     "status": "completed"
    },
    "tags": []
   },
   "outputs": [
    {
     "data": {
      "text/plain": [
       "Index(['acousticness', 'danceability', 'energy', 'instrumentalness',\n",
       "       'liveness', 'loudness', 'speechiness', 'tempo', 'valence',\n",
       "       'time_signature_3', 'time_signature_4', 'time_signature_5'],\n",
       "      dtype='object')"
      ]
     },
     "metadata": {},
     "output_type": "display_data"
    }
   ],
   "source": [
    "features = new_df.keys().drop(['genre']);\n",
    "display(features)"
   ]
  },
  {
   "cell_type": "code",
   "execution_count": 12,
   "id": "387a2e73",
   "metadata": {
    "execution": {
     "iopub.execute_input": "2022-08-16T15:15:13.546437Z",
     "iopub.status.busy": "2022-08-16T15:15:13.545985Z",
     "iopub.status.idle": "2022-08-16T15:15:13.592131Z",
     "shell.execute_reply": "2022-08-16T15:15:13.590921Z"
    },
    "papermill": {
     "duration": 0.061694,
     "end_time": "2022-08-16T15:15:13.594610",
     "exception": false,
     "start_time": "2022-08-16T15:15:13.532916",
     "status": "completed"
    },
    "tags": []
   },
   "outputs": [
    {
     "data": {
      "text/html": [
       "<div>\n",
       "<style scoped>\n",
       "    .dataframe tbody tr th:only-of-type {\n",
       "        vertical-align: middle;\n",
       "    }\n",
       "\n",
       "    .dataframe tbody tr th {\n",
       "        vertical-align: top;\n",
       "    }\n",
       "\n",
       "    .dataframe thead th {\n",
       "        text-align: right;\n",
       "    }\n",
       "</style>\n",
       "<table border=\"1\" class=\"dataframe\">\n",
       "  <thead>\n",
       "    <tr style=\"text-align: right;\">\n",
       "      <th></th>\n",
       "      <th>acousticness</th>\n",
       "      <th>danceability</th>\n",
       "      <th>energy</th>\n",
       "      <th>instrumentalness</th>\n",
       "      <th>liveness</th>\n",
       "      <th>loudness</th>\n",
       "      <th>speechiness</th>\n",
       "      <th>tempo</th>\n",
       "      <th>valence</th>\n",
       "      <th>time_signature_3</th>\n",
       "      <th>time_signature_4</th>\n",
       "      <th>time_signature_5</th>\n",
       "    </tr>\n",
       "  </thead>\n",
       "  <tbody>\n",
       "    <tr>\n",
       "      <th>111323</th>\n",
       "      <td>0.09570</td>\n",
       "      <td>0.550</td>\n",
       "      <td>0.8740</td>\n",
       "      <td>0.000000</td>\n",
       "      <td>0.0618</td>\n",
       "      <td>-3.954</td>\n",
       "      <td>0.1360</td>\n",
       "      <td>117.926</td>\n",
       "      <td>0.476</td>\n",
       "      <td>0</td>\n",
       "      <td>1</td>\n",
       "      <td>0</td>\n",
       "    </tr>\n",
       "    <tr>\n",
       "      <th>130329</th>\n",
       "      <td>0.99100</td>\n",
       "      <td>0.232</td>\n",
       "      <td>0.0506</td>\n",
       "      <td>0.645000</td>\n",
       "      <td>0.1030</td>\n",
       "      <td>-22.120</td>\n",
       "      <td>0.0477</td>\n",
       "      <td>66.255</td>\n",
       "      <td>0.310</td>\n",
       "      <td>1</td>\n",
       "      <td>0</td>\n",
       "      <td>0</td>\n",
       "    </tr>\n",
       "    <tr>\n",
       "      <th>42472</th>\n",
       "      <td>0.10700</td>\n",
       "      <td>0.506</td>\n",
       "      <td>0.8270</td>\n",
       "      <td>0.000002</td>\n",
       "      <td>0.1610</td>\n",
       "      <td>-6.356</td>\n",
       "      <td>0.0366</td>\n",
       "      <td>101.869</td>\n",
       "      <td>0.571</td>\n",
       "      <td>0</td>\n",
       "      <td>1</td>\n",
       "      <td>0</td>\n",
       "    </tr>\n",
       "    <tr>\n",
       "      <th>110362</th>\n",
       "      <td>0.66100</td>\n",
       "      <td>0.727</td>\n",
       "      <td>0.6490</td>\n",
       "      <td>0.000000</td>\n",
       "      <td>0.1110</td>\n",
       "      <td>-5.356</td>\n",
       "      <td>0.0338</td>\n",
       "      <td>129.992</td>\n",
       "      <td>0.669</td>\n",
       "      <td>0</td>\n",
       "      <td>1</td>\n",
       "      <td>0</td>\n",
       "    </tr>\n",
       "    <tr>\n",
       "      <th>150749</th>\n",
       "      <td>0.00893</td>\n",
       "      <td>0.835</td>\n",
       "      <td>0.7830</td>\n",
       "      <td>0.000000</td>\n",
       "      <td>0.1570</td>\n",
       "      <td>-6.854</td>\n",
       "      <td>0.0920</td>\n",
       "      <td>137.969</td>\n",
       "      <td>0.650</td>\n",
       "      <td>0</td>\n",
       "      <td>1</td>\n",
       "      <td>0</td>\n",
       "    </tr>\n",
       "  </tbody>\n",
       "</table>\n",
       "</div>"
      ],
      "text/plain": [
       "        acousticness  danceability  energy  instrumentalness  liveness  \\\n",
       "111323       0.09570         0.550  0.8740          0.000000    0.0618   \n",
       "130329       0.99100         0.232  0.0506          0.645000    0.1030   \n",
       "42472        0.10700         0.506  0.8270          0.000002    0.1610   \n",
       "110362       0.66100         0.727  0.6490          0.000000    0.1110   \n",
       "150749       0.00893         0.835  0.7830          0.000000    0.1570   \n",
       "\n",
       "        loudness  speechiness    tempo  valence  time_signature_3  \\\n",
       "111323    -3.954       0.1360  117.926    0.476                 0   \n",
       "130329   -22.120       0.0477   66.255    0.310                 1   \n",
       "42472     -6.356       0.0366  101.869    0.571                 0   \n",
       "110362    -5.356       0.0338  129.992    0.669                 0   \n",
       "150749    -6.854       0.0920  137.969    0.650                 0   \n",
       "\n",
       "        time_signature_4  time_signature_5  \n",
       "111323                 1                 0  \n",
       "130329                 0                 0  \n",
       "42472                  1                 0  \n",
       "110362                 1                 0  \n",
       "150749                 1                 0  "
      ]
     },
     "metadata": {},
     "output_type": "display_data"
    },
    {
     "data": {
      "text/plain": [
       "111323    1\n",
       "130329    0\n",
       "42472     2\n",
       "110362    1\n",
       "150749    1\n",
       "Name: genre, dtype: int64"
      ]
     },
     "metadata": {},
     "output_type": "display_data"
    }
   ],
   "source": [
    "# Let's divide the label (genre) from the rest of the dataset and divide the dataset in a training and a testing dataset\n",
    "new_df.genre = new_df.genre.map( {'Classical':0 , 'Pop':1, 'Folk':2} )\n",
    "training = new_df.sample(frac = 0.8,random_state = 420)\n",
    "X_train = training[features]\n",
    "y_train = training['genre']\n",
    "X_test = new_df.drop(training.index)[features]\n",
    "y_test = new_df.drop(training.index)['genre']\n",
    "display(X_train.head())\n",
    "display(y_train.head())"
   ]
  },
  {
   "cell_type": "code",
   "execution_count": 13,
   "id": "c77f9bb1",
   "metadata": {
    "_kg_hide-input": true,
    "execution": {
     "iopub.execute_input": "2022-08-16T15:15:13.619795Z",
     "iopub.status.busy": "2022-08-16T15:15:13.619387Z",
     "iopub.status.idle": "2022-08-16T15:15:13.695523Z",
     "shell.execute_reply": "2022-08-16T15:15:13.694256Z"
    },
    "papermill": {
     "duration": 0.091785,
     "end_time": "2022-08-16T15:15:13.698261",
     "exception": false,
     "start_time": "2022-08-16T15:15:13.606476",
     "status": "completed"
    },
    "tags": []
   },
   "outputs": [
    {
     "data": {
      "text/html": [
       "<div>\n",
       "<style scoped>\n",
       "    .dataframe tbody tr th:only-of-type {\n",
       "        vertical-align: middle;\n",
       "    }\n",
       "\n",
       "    .dataframe tbody tr th {\n",
       "        vertical-align: top;\n",
       "    }\n",
       "\n",
       "    .dataframe thead th {\n",
       "        text-align: right;\n",
       "    }\n",
       "</style>\n",
       "<table border=\"1\" class=\"dataframe\">\n",
       "  <thead>\n",
       "    <tr style=\"text-align: right;\">\n",
       "      <th></th>\n",
       "      <th>acousticness</th>\n",
       "      <th>danceability</th>\n",
       "      <th>energy</th>\n",
       "      <th>instrumentalness</th>\n",
       "      <th>liveness</th>\n",
       "      <th>loudness</th>\n",
       "      <th>speechiness</th>\n",
       "      <th>tempo</th>\n",
       "      <th>valence</th>\n",
       "      <th>time_signature_3</th>\n",
       "      <th>time_signature_4</th>\n",
       "      <th>time_signature_5</th>\n",
       "    </tr>\n",
       "  </thead>\n",
       "  <tbody>\n",
       "    <tr>\n",
       "      <th>111323</th>\n",
       "      <td>0.096083</td>\n",
       "      <td>0.538782</td>\n",
       "      <td>0.876627</td>\n",
       "      <td>0.000000</td>\n",
       "      <td>0.042251</td>\n",
       "      <td>0.095452</td>\n",
       "      <td>0.123320</td>\n",
       "      <td>0.413237</td>\n",
       "      <td>0.483249</td>\n",
       "      <td>0.0</td>\n",
       "      <td>1.0</td>\n",
       "      <td>0.0</td>\n",
       "    </tr>\n",
       "    <tr>\n",
       "      <th>130329</th>\n",
       "      <td>0.994980</td>\n",
       "      <td>0.190403</td>\n",
       "      <td>0.050733</td>\n",
       "      <td>0.648893</td>\n",
       "      <td>0.084399</td>\n",
       "      <td>0.473391</td>\n",
       "      <td>0.027633</td>\n",
       "      <td>0.158186</td>\n",
       "      <td>0.314721</td>\n",
       "      <td>1.0</td>\n",
       "      <td>0.0</td>\n",
       "      <td>0.0</td>\n",
       "    </tr>\n",
       "    <tr>\n",
       "      <th>42472</th>\n",
       "      <td>0.107429</td>\n",
       "      <td>0.490578</td>\n",
       "      <td>0.829485</td>\n",
       "      <td>0.000002</td>\n",
       "      <td>0.143734</td>\n",
       "      <td>0.145425</td>\n",
       "      <td>0.015605</td>\n",
       "      <td>0.333978</td>\n",
       "      <td>0.579695</td>\n",
       "      <td>0.0</td>\n",
       "      <td>1.0</td>\n",
       "      <td>0.0</td>\n",
       "    </tr>\n",
       "    <tr>\n",
       "      <th>110362</th>\n",
       "      <td>0.663654</td>\n",
       "      <td>0.732691</td>\n",
       "      <td>0.650946</td>\n",
       "      <td>0.000000</td>\n",
       "      <td>0.092583</td>\n",
       "      <td>0.124620</td>\n",
       "      <td>0.012570</td>\n",
       "      <td>0.472795</td>\n",
       "      <td>0.679188</td>\n",
       "      <td>0.0</td>\n",
       "      <td>1.0</td>\n",
       "      <td>0.0</td>\n",
       "    </tr>\n",
       "    <tr>\n",
       "      <th>150749</th>\n",
       "      <td>0.008965</td>\n",
       "      <td>0.851008</td>\n",
       "      <td>0.785352</td>\n",
       "      <td>0.000000</td>\n",
       "      <td>0.139642</td>\n",
       "      <td>0.155786</td>\n",
       "      <td>0.075639</td>\n",
       "      <td>0.512170</td>\n",
       "      <td>0.659898</td>\n",
       "      <td>0.0</td>\n",
       "      <td>1.0</td>\n",
       "      <td>0.0</td>\n",
       "    </tr>\n",
       "  </tbody>\n",
       "</table>\n",
       "</div>"
      ],
      "text/plain": [
       "        acousticness  danceability    energy  instrumentalness  liveness  \\\n",
       "111323      0.096083      0.538782  0.876627          0.000000  0.042251   \n",
       "130329      0.994980      0.190403  0.050733          0.648893  0.084399   \n",
       "42472       0.107429      0.490578  0.829485          0.000002  0.143734   \n",
       "110362      0.663654      0.732691  0.650946          0.000000  0.092583   \n",
       "150749      0.008965      0.851008  0.785352          0.000000  0.139642   \n",
       "\n",
       "        loudness  speechiness     tempo   valence  time_signature_3  \\\n",
       "111323  0.095452     0.123320  0.413237  0.483249               0.0   \n",
       "130329  0.473391     0.027633  0.158186  0.314721               1.0   \n",
       "42472   0.145425     0.015605  0.333978  0.579695               0.0   \n",
       "110362  0.124620     0.012570  0.472795  0.679188               0.0   \n",
       "150749  0.155786     0.075639  0.512170  0.659898               0.0   \n",
       "\n",
       "        time_signature_4  time_signature_5  \n",
       "111323               1.0               0.0  \n",
       "130329               0.0               0.0  \n",
       "42472                1.0               0.0  \n",
       "110362               1.0               0.0  \n",
       "150749               1.0               0.0  "
      ]
     },
     "metadata": {},
     "output_type": "display_data"
    },
    {
     "data": {
      "text/html": [
       "<div>\n",
       "<style scoped>\n",
       "    .dataframe tbody tr th:only-of-type {\n",
       "        vertical-align: middle;\n",
       "    }\n",
       "\n",
       "    .dataframe tbody tr th {\n",
       "        vertical-align: top;\n",
       "    }\n",
       "\n",
       "    .dataframe thead th {\n",
       "        text-align: right;\n",
       "    }\n",
       "</style>\n",
       "<table border=\"1\" class=\"dataframe\">\n",
       "  <thead>\n",
       "    <tr style=\"text-align: right;\">\n",
       "      <th></th>\n",
       "      <th>acousticness</th>\n",
       "      <th>danceability</th>\n",
       "      <th>energy</th>\n",
       "      <th>instrumentalness</th>\n",
       "      <th>liveness</th>\n",
       "      <th>loudness</th>\n",
       "      <th>speechiness</th>\n",
       "      <th>tempo</th>\n",
       "      <th>valence</th>\n",
       "      <th>time_signature_3</th>\n",
       "      <th>time_signature_4</th>\n",
       "      <th>time_signature_5</th>\n",
       "    </tr>\n",
       "  </thead>\n",
       "  <tbody>\n",
       "    <tr>\n",
       "      <th>63650</th>\n",
       "      <td>0.539156</td>\n",
       "      <td>0.696538</td>\n",
       "      <td>0.579731</td>\n",
       "      <td>0.000000</td>\n",
       "      <td>0.088491</td>\n",
       "      <td>0.151542</td>\n",
       "      <td>0.007152</td>\n",
       "      <td>0.365589</td>\n",
       "      <td>0.894416</td>\n",
       "      <td>0.0</td>\n",
       "      <td>1.0</td>\n",
       "      <td>0.0</td>\n",
       "    </tr>\n",
       "    <tr>\n",
       "      <th>123287</th>\n",
       "      <td>0.994980</td>\n",
       "      <td>0.178352</td>\n",
       "      <td>0.058356</td>\n",
       "      <td>0.915493</td>\n",
       "      <td>0.140665</td>\n",
       "      <td>0.571173</td>\n",
       "      <td>0.015388</td>\n",
       "      <td>0.128806</td>\n",
       "      <td>0.040609</td>\n",
       "      <td>1.0</td>\n",
       "      <td>0.0</td>\n",
       "      <td>0.0</td>\n",
       "    </tr>\n",
       "    <tr>\n",
       "      <th>128376</th>\n",
       "      <td>0.947791</td>\n",
       "      <td>0.280237</td>\n",
       "      <td>0.299885</td>\n",
       "      <td>0.907445</td>\n",
       "      <td>0.080409</td>\n",
       "      <td>0.350060</td>\n",
       "      <td>0.025358</td>\n",
       "      <td>0.199387</td>\n",
       "      <td>0.065787</td>\n",
       "      <td>0.0</td>\n",
       "      <td>1.0</td>\n",
       "      <td>0.0</td>\n",
       "    </tr>\n",
       "    <tr>\n",
       "      <th>151412</th>\n",
       "      <td>0.273091</td>\n",
       "      <td>0.768843</td>\n",
       "      <td>0.617846</td>\n",
       "      <td>0.000000</td>\n",
       "      <td>0.129412</td>\n",
       "      <td>0.146881</td>\n",
       "      <td>0.012029</td>\n",
       "      <td>0.364399</td>\n",
       "      <td>0.368528</td>\n",
       "      <td>0.0</td>\n",
       "      <td>1.0</td>\n",
       "      <td>0.0</td>\n",
       "    </tr>\n",
       "    <tr>\n",
       "      <th>109856</th>\n",
       "      <td>0.057529</td>\n",
       "      <td>0.611087</td>\n",
       "      <td>0.813437</td>\n",
       "      <td>0.000016</td>\n",
       "      <td>0.036931</td>\n",
       "      <td>0.113136</td>\n",
       "      <td>0.043780</td>\n",
       "      <td>0.620566</td>\n",
       "      <td>0.926904</td>\n",
       "      <td>0.0</td>\n",
       "      <td>1.0</td>\n",
       "      <td>0.0</td>\n",
       "    </tr>\n",
       "  </tbody>\n",
       "</table>\n",
       "</div>"
      ],
      "text/plain": [
       "        acousticness  danceability    energy  instrumentalness  liveness  \\\n",
       "63650       0.539156      0.696538  0.579731          0.000000  0.088491   \n",
       "123287      0.994980      0.178352  0.058356          0.915493  0.140665   \n",
       "128376      0.947791      0.280237  0.299885          0.907445  0.080409   \n",
       "151412      0.273091      0.768843  0.617846          0.000000  0.129412   \n",
       "109856      0.057529      0.611087  0.813437          0.000016  0.036931   \n",
       "\n",
       "        loudness  speechiness     tempo   valence  time_signature_3  \\\n",
       "63650   0.151542     0.007152  0.365589  0.894416               0.0   \n",
       "123287  0.571173     0.015388  0.128806  0.040609               1.0   \n",
       "128376  0.350060     0.025358  0.199387  0.065787               0.0   \n",
       "151412  0.146881     0.012029  0.364399  0.368528               0.0   \n",
       "109856  0.113136     0.043780  0.620566  0.926904               0.0   \n",
       "\n",
       "        time_signature_4  time_signature_5  \n",
       "63650                1.0               0.0  \n",
       "123287               0.0               0.0  \n",
       "128376               1.0               0.0  \n",
       "151412               1.0               0.0  \n",
       "109856               1.0               0.0  "
      ]
     },
     "metadata": {},
     "output_type": "display_data"
    }
   ],
   "source": [
    "# Let's do a MinMaxScaling of the dataset to make all the features in [0,1]\n",
    "from sklearn.preprocessing import MinMaxScaler\n",
    "pd.options.mode.chained_assignment = None  # default='warn'\n",
    "scaler = MinMaxScaler()\n",
    "# Loudness goes from -60 to 0 db, I will convert it to a positive value before normalizing it \n",
    "X_train['loudness'] *= -1\n",
    "X_train = pd.DataFrame(scaler.fit_transform(X_train), index=X_train.index, columns=X_train.columns)\n",
    "display(X_train.head())\n",
    "X_test['loudness'] *= -1\n",
    "X_test = pd.DataFrame(scaler.transform(X_test), index=X_test.index, columns=X_test.columns)\n",
    "display(X_test.head())"
   ]
  },
  {
   "cell_type": "code",
   "execution_count": 14,
   "id": "040149b3",
   "metadata": {
    "execution": {
     "iopub.execute_input": "2022-08-16T15:15:13.724071Z",
     "iopub.status.busy": "2022-08-16T15:15:13.723691Z",
     "iopub.status.idle": "2022-08-16T15:15:14.051503Z",
     "shell.execute_reply": "2022-08-16T15:15:14.050248Z"
    },
    "papermill": {
     "duration": 0.343797,
     "end_time": "2022-08-16T15:15:14.053978",
     "exception": false,
     "start_time": "2022-08-16T15:15:13.710181",
     "status": "completed"
    },
    "tags": []
   },
   "outputs": [
    {
     "data": {
      "image/png": "[encoded data removed]",
      "text/plain": [
       "<Figure size 1584x432 with 1 Axes>"
      ]
     },
     "metadata": {
      "needs_background": "light"
     },
     "output_type": "display_data"
    }
   ],
   "source": [
    "# Let's check the distribution of the various countinuous features\n",
    "plt.figure(figsize=(22, 6))\n",
    "ax = sns.boxplot(data=X_train.drop([\"time_signature_3\",\"time_signature_4\",\"time_signature_5\"], axis=1), palette=\"Set2\")"
   ]
  },
  {
   "cell_type": "code",
   "execution_count": 15,
   "id": "017cf481",
   "metadata": {
    "execution": {
     "iopub.execute_input": "2022-08-16T15:15:14.081444Z",
     "iopub.status.busy": "2022-08-16T15:15:14.080626Z",
     "iopub.status.idle": "2022-08-16T15:15:15.006757Z",
     "shell.execute_reply": "2022-08-16T15:15:15.005308Z"
    },
    "papermill": {
     "duration": 0.943034,
     "end_time": "2022-08-16T15:15:15.009582",
     "exception": false,
     "start_time": "2022-08-16T15:15:14.066548",
     "status": "completed"
    },
    "tags": []
   },
   "outputs": [
    {
     "data": {
      "image/png": "[encoded data removed]",
      "text/plain": [
       "<Figure size 1584x432 with 1 Axes>"
      ]
     },
     "metadata": {
      "needs_background": "light"
     },
     "output_type": "display_data"
    },
    {
     "data": {
      "image/png": "[encoded data removed]",
      "text/plain": [
       "<Figure size 720x720 with 4 Axes>"
      ]
     },
     "metadata": {
      "needs_background": "light"
     },
     "output_type": "display_data"
    }
   ],
   "source": [
    "# We see that liveness, loudness, speechiness and tempo do have some outliers on the upper values\n",
    "plt.figure(figsize=(22, 6))\n",
    "features_nout = [\"time_signature_3\",\"time_signature_4\",\"time_signature_5\",\"acousticness\",\"danceability\",\"energy\",\"instrumentalness\",\"valence\"]\n",
    "ax = sns.boxplot(data=X_train.drop(features_nout, axis=1), palette=\"Set2\")\n",
    "fig, axes = plt.subplots(4,1, figsize=(10, 10), sharey=False)\n",
    "fig.suptitle('Distribution of some continuous variables')\n",
    "sns.histplot(x= 'liveness', data = X_train, palette = 'Set2', ax = axes[0], bins = 10)\n",
    "axes[0].set_title(\"\")\n",
    "sns.histplot(x= 'loudness', data = X_train, palette = 'Set2', ax = axes[1], bins = 10)\n",
    "axes[1].set_title(\"\")\n",
    "sns.histplot(x= 'speechiness', data = X_train, palette = 'Set2', ax = axes[2], bins = 10)\n",
    "axes[2].set_title(\"\")\n",
    "sns.histplot(x= 'tempo', data = X_train, palette = 'Set2', ax = axes[3], bins = 10)\n",
    "axes[3].set_title(\"\")\n",
    "plt.tight_layout()"
   ]
  },
  {
   "cell_type": "code",
   "execution_count": 16,
   "id": "d9c6f310",
   "metadata": {
    "execution": {
     "iopub.execute_input": "2022-08-16T15:15:15.038987Z",
     "iopub.status.busy": "2022-08-16T15:15:15.038577Z",
     "iopub.status.idle": "2022-08-16T15:15:15.297941Z",
     "shell.execute_reply": "2022-08-16T15:15:15.296712Z"
    },
    "papermill": {
     "duration": 0.277431,
     "end_time": "2022-08-16T15:15:15.300447",
     "exception": false,
     "start_time": "2022-08-16T15:15:15.023016",
     "status": "completed"
    },
    "tags": []
   },
   "outputs": [
    {
     "data": {
      "image/png": "[encoded data removed]",
      "text/plain": [
       "<Figure size 1584x432 with 1 Axes>"
      ]
     },
     "metadata": {
      "needs_background": "light"
     },
     "output_type": "display_data"
    }
   ],
   "source": [
    "# removing outliers\n",
    "X_train['genre'] = y_train\n",
    "threshold = 0.01\n",
    "for col in ['liveness', 'loudness', 'speechiness', 'tempo']:\n",
    "    upper_threshold = X_train[col].quantile(1 - threshold)\n",
    "    X_train = X_train[(X_train[col] <= upper_threshold)]\n",
    "\n",
    "features = new_df.keys().drop(['genre']);\n",
    "y_train = X_train['genre']\n",
    "X_train = X_train[features]\n",
    "    \n",
    "plt.figure(figsize=(22, 6))\n",
    "features_nout = [\"time_signature_3\",\"time_signature_4\",\"time_signature_5\",\"acousticness\",\"danceability\",\"energy\",\"instrumentalness\",\"valence\"]\n",
    "ax = sns.boxplot(data=X_train.drop(features_nout, axis=1), palette=\"Set2\")"
   ]
  },
  {
   "cell_type": "code",
   "execution_count": 17,
   "id": "a7289760",
   "metadata": {
    "execution": {
     "iopub.execute_input": "2022-08-16T15:15:15.330027Z",
     "iopub.status.busy": "2022-08-16T15:15:15.328975Z",
     "iopub.status.idle": "2022-08-16T15:15:15.603559Z",
     "shell.execute_reply": "2022-08-16T15:15:15.602449Z"
    },
    "papermill": {
     "duration": 0.292157,
     "end_time": "2022-08-16T15:15:15.606364",
     "exception": false,
     "start_time": "2022-08-16T15:15:15.314207",
     "status": "completed"
    },
    "tags": []
   },
   "outputs": [],
   "source": [
    "# Let's split the training set in training and a development set (here called validation)\n",
    "from sklearn.model_selection import train_test_split\n",
    "from sklearn.linear_model import LogisticRegression\n",
    "from sklearn.metrics import make_scorer, accuracy_score, roc_auc_score \n",
    "X_train, X_valid, y_train, y_valid = train_test_split(X_train, y_train, test_size = 0.2, random_state = 1)"
   ]
  },
  {
   "cell_type": "code",
   "execution_count": 18,
   "id": "5ec40e28",
   "metadata": {
    "execution": {
     "iopub.execute_input": "2022-08-16T15:15:15.635397Z",
     "iopub.status.busy": "2022-08-16T15:15:15.634920Z",
     "iopub.status.idle": "2022-08-16T15:15:16.105815Z",
     "shell.execute_reply": "2022-08-16T15:15:16.104415Z"
    },
    "papermill": {
     "duration": 0.48852,
     "end_time": "2022-08-16T15:15:16.108433",
     "exception": false,
     "start_time": "2022-08-16T15:15:15.619913",
     "status": "completed"
    },
    "tags": []
   },
   "outputs": [
    {
     "data": {
      "image/png": "[encoded data removed]",
      "text/plain": [
       "<Figure size 792x1080 with 2 Axes>"
      ]
     },
     "metadata": {
      "needs_background": "light"
     },
     "output_type": "display_data"
    }
   ],
   "source": [
    "corr_heatmap(X_train.drop([\"time_signature_3\",\"time_signature_4\",\"time_signature_5\"], axis=1))"
   ]
  },
  {
   "cell_type": "code",
   "execution_count": 19,
   "id": "c6b3a5f6",
   "metadata": {
    "execution": {
     "iopub.execute_input": "2022-08-16T15:15:16.141644Z",
     "iopub.status.busy": "2022-08-16T15:15:16.140824Z",
     "iopub.status.idle": "2022-08-16T15:15:16.148865Z",
     "shell.execute_reply": "2022-08-16T15:15:16.147603Z"
    },
    "papermill": {
     "duration": 0.028028,
     "end_time": "2022-08-16T15:15:16.151258",
     "exception": false,
     "start_time": "2022-08-16T15:15:16.123230",
     "status": "completed"
    },
    "tags": []
   },
   "outputs": [],
   "source": [
    "# Currently the ‘multinomial’ option is supported only by the ‘lbfgs’, ‘sag’, ‘saga’ and ‘newton-cg’ solvers.\n",
    "# http://scikit-learn.org/stable/modules/generated/sklearn.linear_model.LogisticRegression.html#sklearn.linear_model.LogisticRegression\n",
    "param_grid = [    \n",
    "    {'penalty' : ['l2', 'none'],\n",
    "    'C' : np.logspace(-4, 4, 20),\n",
    "    'solver' : ['lbfgs','newton-cg', 'sag', 'saga'],\n",
    "    'max_iter' : [100, 1000,2500, 5000]\n",
    "    }\n",
    "]"
   ]
  },
  {
   "cell_type": "code",
   "execution_count": 20,
   "id": "4b3ee187",
   "metadata": {
    "execution": {
     "iopub.execute_input": "2022-08-16T15:15:16.182291Z",
     "iopub.status.busy": "2022-08-16T15:15:16.181597Z",
     "iopub.status.idle": "2022-08-16T15:15:16.186550Z",
     "shell.execute_reply": "2022-08-16T15:15:16.185662Z"
    },
    "papermill": {
     "duration": 0.023257,
     "end_time": "2022-08-16T15:15:16.188890",
     "exception": false,
     "start_time": "2022-08-16T15:15:16.165633",
     "status": "completed"
    },
    "tags": []
   },
   "outputs": [],
   "source": [
    "#from sklearn.model_selection import GridSearchCV\n",
    "#clf = GridSearchCV(LogisticRegression(multi_class = 'multinomial'), param_grid = param_grid, verbose=10, n_jobs=-1, error_score=\"raise\")\n",
    "#best_clf = clf.fit(X_train, y_train)"
   ]
  },
  {
   "cell_type": "code",
   "execution_count": 21,
   "id": "72db9fcf",
   "metadata": {
    "execution": {
     "iopub.execute_input": "2022-08-16T15:15:16.219560Z",
     "iopub.status.busy": "2022-08-16T15:15:16.219104Z",
     "iopub.status.idle": "2022-08-16T15:15:16.223920Z",
     "shell.execute_reply": "2022-08-16T15:15:16.222547Z"
    },
    "papermill": {
     "duration": 0.023322,
     "end_time": "2022-08-16T15:15:16.226328",
     "exception": false,
     "start_time": "2022-08-16T15:15:16.203006",
     "status": "completed"
    },
    "tags": []
   },
   "outputs": [],
   "source": [
    "#print(best_clf.best_estimator_)\n",
    "#print(best_clf.cv_results_)\n",
    "#print (f'Accuracy - : {best_clf.score(X_train, y_train):.3f}')"
   ]
  },
  {
   "cell_type": "code",
   "execution_count": 22,
   "id": "69767cf7",
   "metadata": {
    "execution": {
     "iopub.execute_input": "2022-08-16T15:15:16.257564Z",
     "iopub.status.busy": "2022-08-16T15:15:16.256869Z",
     "iopub.status.idle": "2022-08-16T15:15:17.417632Z",
     "shell.execute_reply": "2022-08-16T15:15:17.416395Z"
    },
    "papermill": {
     "duration": 1.179752,
     "end_time": "2022-08-16T15:15:17.420761",
     "exception": false,
     "start_time": "2022-08-16T15:15:16.241009",
     "status": "completed"
    },
    "tags": []
   },
   "outputs": [
    {
     "data": {
      "text/plain": [
       "LogisticRegression(C=78.47599703514607, multi_class='multinomial',\n",
       "                   solver='newton-cg')"
      ]
     },
     "execution_count": 22,
     "metadata": {},
     "output_type": "execute_result"
    }
   ],
   "source": [
    "# Thanks to GridSearch we know that the best choice is LogisticRegression(C=78.47599703514607, multi_class='multinomial', solver='newton-cg')\n",
    "model = LogisticRegression(C=78.47599703514607, multi_class='multinomial', solver='newton-cg')\n",
    "model.fit(X_train, y_train)"
   ]
  },
  {
   "cell_type": "code",
   "execution_count": 23,
   "id": "ccd67173",
   "metadata": {
    "execution": {
     "iopub.execute_input": "2022-08-16T15:15:17.470309Z",
     "iopub.status.busy": "2022-08-16T15:15:17.469708Z",
     "iopub.status.idle": "2022-08-16T15:15:17.505666Z",
     "shell.execute_reply": "2022-08-16T15:15:17.503422Z"
    },
    "papermill": {
     "duration": 0.065667,
     "end_time": "2022-08-16T15:15:17.509787",
     "exception": false,
     "start_time": "2022-08-16T15:15:17.444120",
     "status": "completed"
    },
    "tags": []
   },
   "outputs": [
    {
     "name": "stdout",
     "output_type": "stream",
     "text": [
      "              precision    recall  f1-score   support\n",
      "\n",
      "           0       0.90      0.88      0.89      1410\n",
      "           1       0.79      0.76      0.77      1404\n",
      "           2       0.71      0.76      0.74      1480\n",
      "\n",
      "    accuracy                           0.80      4294\n",
      "   macro avg       0.80      0.80      0.80      4294\n",
      "weighted avg       0.80      0.80      0.80      4294\n",
      "\n"
     ]
    }
   ],
   "source": [
    "y_pred = model.predict(X_valid)\n",
    "from sklearn.metrics import classification_report\n",
    "print(classification_report(y_valid, y_pred))"
   ]
  },
  {
   "cell_type": "code",
   "execution_count": 24,
   "id": "37446f3c",
   "metadata": {
    "execution": {
     "iopub.execute_input": "2022-08-16T15:15:17.548730Z",
     "iopub.status.busy": "2022-08-16T15:15:17.548310Z",
     "iopub.status.idle": "2022-08-16T15:15:18.664174Z",
     "shell.execute_reply": "2022-08-16T15:15:18.662821Z"
    },
    "papermill": {
     "duration": 1.135673,
     "end_time": "2022-08-16T15:15:18.668295",
     "exception": false,
     "start_time": "2022-08-16T15:15:17.532622",
     "status": "completed"
    },
    "tags": []
   },
   "outputs": [
    {
     "name": "stdout",
     "output_type": "stream",
     "text": [
      "              precision    recall  f1-score   support\n",
      "\n",
      "           0       0.88      0.88      0.88      1410\n",
      "           1       0.75      0.72      0.73      1404\n",
      "           2       0.68      0.71      0.70      1480\n",
      "\n",
      "    accuracy                           0.77      4294\n",
      "   macro avg       0.77      0.77      0.77      4294\n",
      "weighted avg       0.77      0.77      0.77      4294\n",
      "\n"
     ]
    }
   ],
   "source": [
    "# Let's try without loudness\n",
    "X_train_loudness = X_train.drop(['loudness'], axis=1)\n",
    "X_valid_loudness = X_valid.drop(['loudness'], axis=1)\n",
    "lrm_cor = LogisticRegression(C=78.47599703514607, multi_class='multinomial',solver='newton-cg').fit(X_train_loudness, y_train)\n",
    "print(classification_report(y_valid, lrm_cor.predict(X_valid_loudness)))"
   ]
  },
  {
   "cell_type": "code",
   "execution_count": 25,
   "id": "5e4b7536",
   "metadata": {
    "execution": {
     "iopub.execute_input": "2022-08-16T15:15:18.719290Z",
     "iopub.status.busy": "2022-08-16T15:15:18.718740Z",
     "iopub.status.idle": "2022-08-16T15:15:19.962038Z",
     "shell.execute_reply": "2022-08-16T15:15:19.959721Z"
    },
    "papermill": {
     "duration": 1.273244,
     "end_time": "2022-08-16T15:15:19.966904",
     "exception": false,
     "start_time": "2022-08-16T15:15:18.693660",
     "status": "completed"
    },
    "tags": []
   },
   "outputs": [
    {
     "name": "stdout",
     "output_type": "stream",
     "text": [
      "              precision    recall  f1-score   support\n",
      "\n",
      "           0       0.91      0.89      0.90      1410\n",
      "           1       0.79      0.76      0.78      1404\n",
      "           2       0.72      0.77      0.75      1480\n",
      "\n",
      "    accuracy                           0.81      4294\n",
      "   macro avg       0.81      0.81      0.81      4294\n",
      "weighted avg       0.81      0.81      0.81      4294\n",
      "\n"
     ]
    }
   ],
   "source": [
    "# Let's try without energy\n",
    "X_train_energy = X_train.drop(['energy'], axis=1)\n",
    "X_valid_energy = X_valid.drop(['energy'], axis=1)\n",
    "lrm_cor = LogisticRegression(C=78.47599703514607, multi_class='multinomial',solver='newton-cg').fit(X_train_energy, y_train)\n",
    "print(classification_report(y_valid, lrm_cor.predict(X_valid_energy)))"
   ]
  },
  {
   "cell_type": "code",
   "execution_count": 26,
   "id": "ec990d3c",
   "metadata": {
    "execution": {
     "iopub.execute_input": "2022-08-16T15:15:20.018901Z",
     "iopub.status.busy": "2022-08-16T15:15:20.018322Z",
     "iopub.status.idle": "2022-08-16T15:15:21.221797Z",
     "shell.execute_reply": "2022-08-16T15:15:21.220394Z"
    },
    "papermill": {
     "duration": 1.234149,
     "end_time": "2022-08-16T15:15:21.225891",
     "exception": false,
     "start_time": "2022-08-16T15:15:19.991742",
     "status": "completed"
    },
    "tags": []
   },
   "outputs": [
    {
     "name": "stdout",
     "output_type": "stream",
     "text": [
      "              precision    recall  f1-score   support\n",
      "\n",
      "           0       0.91      0.88      0.89      1410\n",
      "           1       0.79      0.75      0.77      1404\n",
      "           2       0.71      0.76      0.74      1480\n",
      "\n",
      "    accuracy                           0.80      4294\n",
      "   macro avg       0.80      0.80      0.80      4294\n",
      "weighted avg       0.80      0.80      0.80      4294\n",
      "\n"
     ]
    }
   ],
   "source": [
    "# Let's try without acousticness\n",
    "X_train_acousticness = X_train.drop(['acousticness'], axis=1)\n",
    "X_valid_acousticness = X_valid.drop(['acousticness'], axis=1)\n",
    "lrm_cor = LogisticRegression(C=78.47599703514607, multi_class='multinomial',solver='newton-cg').fit(X_train_acousticness, y_train)\n",
    "print(classification_report(y_valid, lrm_cor.predict(X_valid_acousticness)))"
   ]
  },
  {
   "cell_type": "code",
   "execution_count": 27,
   "id": "ff3d19db",
   "metadata": {
    "execution": {
     "iopub.execute_input": "2022-08-16T15:15:21.277319Z",
     "iopub.status.busy": "2022-08-16T15:15:21.276706Z",
     "iopub.status.idle": "2022-08-16T15:15:22.771388Z",
     "shell.execute_reply": "2022-08-16T15:15:22.769087Z"
    },
    "papermill": {
     "duration": 1.525215,
     "end_time": "2022-08-16T15:15:22.775739",
     "exception": false,
     "start_time": "2022-08-16T15:15:21.250524",
     "status": "completed"
    },
    "tags": []
   },
   "outputs": [
    {
     "name": "stdout",
     "output_type": "stream",
     "text": [
      "              precision    recall  f1-score   support\n",
      "\n",
      "           0       0.91      0.88      0.89      1877\n",
      "           1       0.79      0.78      0.79      1918\n",
      "           2       0.69      0.73      0.71      1793\n",
      "\n",
      "    accuracy                           0.80      5588\n",
      "   macro avg       0.80      0.80      0.80      5588\n",
      "weighted avg       0.80      0.80      0.80      5588\n",
      "\n"
     ]
    }
   ],
   "source": [
    "# The accuracy changes between 0.81 and 0.79 in every situation, I'm going to just keep those features\n",
    "# I will now test the data with X_test and y_test\n",
    "X_train = pd.concat([X_train, X_valid])\n",
    "y_train = pd.concat([y_train, y_valid])\n",
    "X_train, y_train = shuffle(X_train, y_train)\n",
    "model = LogisticRegression(C=78.47599703514607, multi_class='multinomial', solver='newton-cg')\n",
    "model.fit(X_train, y_train)\n",
    "y_pred = model.predict(X_test)\n",
    "print(classification_report(y_test, y_pred))"
   ]
  },
  {
   "cell_type": "code",
   "execution_count": 28,
   "id": "5bd13919",
   "metadata": {
    "execution": {
     "iopub.execute_input": "2022-08-16T15:15:22.827969Z",
     "iopub.status.busy": "2022-08-16T15:15:22.827386Z",
     "iopub.status.idle": "2022-08-16T15:15:22.857298Z",
     "shell.execute_reply": "2022-08-16T15:15:22.855896Z"
    },
    "papermill": {
     "duration": 0.06032,
     "end_time": "2022-08-16T15:15:22.861548",
     "exception": false,
     "start_time": "2022-08-16T15:15:22.801228",
     "status": "completed"
    },
    "tags": []
   },
   "outputs": [],
   "source": [
    "# We see that the accuracy doesn't change much\n",
    "# We'll now try to get to the same result with a Neural Network\n",
    "from sklearn.neural_network import MLPClassifier\n",
    "X_train, X_valid, y_train, y_valid = train_test_split(X_train, y_train, test_size = 0.2, random_state = 1)\n",
    "mlp_gs = MLPClassifier()\n",
    "parameter_space = {\n",
    "    'hidden_layer_sizes': [(100, 100), (100, 100, 100), (100, 100, 100, 100)],\n",
    "    'activation': ['tanh', 'relu'],\n",
    "    'solver': ['sgd','adam'],\n",
    "    'alpha': [0.0001, 0.001, 0.01, 0.1],\n",
    "    'max_iter': [500]\n",
    "}\n",
    "#from sklearn.model_selection import GridSearchCV\n",
    "#from sklearn.metrics import classification_report\n",
    "#clf = GridSearchCV(mlp_gs, parameter_space, n_jobs=-1, cv=5, scoring='accuracy', verbose=10, error_score=\"raise\")\n",
    "#clf.fit(X_train, y_train) # X is train samples and t is the corresponding labels\n",
    "\n",
    "# best score achieved during the GridSearchCV\n",
    "#print('GridSearch CV best score : {:.4f}\\n\\n'.format(clf.best_score_))\n",
    "\n",
    "# print parameters that give the best results\n",
    "#print('Parameters that give the best results :','\\n\\n', (clf.best_params_))\n",
    "\n",
    "# print estimator that was chosen by the GridSearch\n",
    "#print('\\n\\nEstimator that was chosen by the search :','\\n\\n', (clf.best_estimator_))\n",
    "\n",
    "# %% [code]\n",
    "# calculate GridSearch CV score on test set\n",
    "#t_pred = clf.predict(X_valid)\n",
    "\n",
    "#print('Model classification report with GridSearcg CV: \\n', classification_report(y_valid, t_pred))"
   ]
  },
  {
   "cell_type": "code",
   "execution_count": 29,
   "id": "a7c0a50b",
   "metadata": {
    "execution": {
     "iopub.execute_input": "2022-08-16T15:15:22.893450Z",
     "iopub.status.busy": "2022-08-16T15:15:22.892719Z",
     "iopub.status.idle": "2022-08-16T15:15:22.905469Z",
     "shell.execute_reply": "2022-08-16T15:15:22.904410Z"
    },
    "papermill": {
     "duration": 0.031753,
     "end_time": "2022-08-16T15:15:22.908041",
     "exception": false,
     "start_time": "2022-08-16T15:15:22.876288",
     "status": "completed"
    },
    "tags": []
   },
   "outputs": [],
   "source": [
    "# With GridSearch we can see that the estimatore whioch gives the best result is\n",
    "# MLPClassifier(alpha=0.01, hidden_layer_sizes=(100, 100), max_iter=500)\n",
    "# I will now perform a second Grid Search with hyperparameters more similar to the ones just found\n",
    "# and with early stopping in order to be more precise\n",
    "# I will merge train and valid sets and test on the testing set\n",
    "X_train = pd.concat([X_train, X_valid])\n",
    "y_train = pd.concat([y_train, y_valid])\n",
    "X_train, y_train = shuffle(X_train, y_train)\n",
    "parameter_space = {\n",
    "    'hidden_layer_sizes': [(100, 100), (100, 150), (150, 150)],\n",
    "    'activation': ['relu'],\n",
    "    'solver': ['adam'],\n",
    "    'alpha': [0.01, 0.02, 0.04, 0.08],\n",
    "    'early_stopping': [True, False],\n",
    "    'max_iter': [500]\n",
    "}\n",
    "#from sklearn.model_selection import GridSearchCV\n",
    "#from sklearn.metrics import classification_report\n",
    "#clf = GridSearchCV(mlp_gs, parameter_space, n_jobs=-1, cv=5, scoring='accuracy', verbose=10, error_score=\"raise\")\n",
    "#clf.fit(X_train, y_train) # X is train samples and t is the corresponding labels\n",
    "\n",
    "# best score achieved during the GridSearchCV\n",
    "#print('GridSearch CV best score : {:.4f}\\n\\n'.format(clf.best_score_))\n",
    "\n",
    "# print parameters that give the best results\n",
    "#print('Parameters that give the best results :','\\n\\n', (clf.best_params_))\n",
    "\n",
    "# print estimator that was chosen by the GridSearch\n",
    "#print('\\n\\nEstimator that was chosen by the search :','\\n\\n', (clf.best_estimator_))\n",
    "\n",
    "# %% [code]\n",
    "# calculate GridSearch CV score on test set\n",
    "#t_pred = clf.predict(X_test)\n",
    "\n",
    "#print('Model classification report with GridSearcg CV: \\n', classification_report(y_test, t_pred))"
   ]
  },
  {
   "cell_type": "code",
   "execution_count": 30,
   "id": "23d5fbeb",
   "metadata": {
    "execution": {
     "iopub.execute_input": "2022-08-16T15:15:22.939485Z",
     "iopub.status.busy": "2022-08-16T15:15:22.939017Z",
     "iopub.status.idle": "2022-08-16T15:20:19.350962Z",
     "shell.execute_reply": "2022-08-16T15:20:19.349443Z"
    },
    "papermill": {
     "duration": 296.431945,
     "end_time": "2022-08-16T15:20:19.354800",
     "exception": false,
     "start_time": "2022-08-16T15:15:22.922855",
     "status": "completed"
    },
    "tags": []
   },
   "outputs": [],
   "source": [
    "# Thanks to GridSearch we know that the best choice is MLPClassifier(alpha=0.01, hidden_layer_sizes=(150, 150), max_iter=500)\n",
    "clf = MLPClassifier(alpha=0.01, hidden_layer_sizes=(150, 150), max_iter=500).fit(X_train, y_train)\n",
    "y_pred=clf.predict(X_train)"
   ]
  },
  {
   "cell_type": "code",
   "execution_count": 31,
   "id": "ee75c0f5",
   "metadata": {
    "execution": {
     "iopub.execute_input": "2022-08-16T15:20:19.406560Z",
     "iopub.status.busy": "2022-08-16T15:20:19.405967Z",
     "iopub.status.idle": "2022-08-16T15:20:19.587935Z",
     "shell.execute_reply": "2022-08-16T15:20:19.585791Z"
    },
    "papermill": {
     "duration": 0.212154,
     "end_time": "2022-08-16T15:20:19.592167",
     "exception": false,
     "start_time": "2022-08-16T15:20:19.380013",
     "status": "completed"
    },
    "tags": []
   },
   "outputs": [
    {
     "name": "stdout",
     "output_type": "stream",
     "text": [
      "              precision    recall  f1-score   support\n",
      "\n",
      "           0       0.93      0.91      0.92      1877\n",
      "           1       0.80      0.79      0.80      1918\n",
      "           2       0.73      0.75      0.74      1793\n",
      "\n",
      "    accuracy                           0.82      5588\n",
      "   macro avg       0.82      0.82      0.82      5588\n",
      "weighted avg       0.82      0.82      0.82      5588\n",
      "\n"
     ]
    }
   ],
   "source": [
    "y_pred = clf.predict(X_test)\n",
    "print(classification_report(y_test, y_pred))"
   ]
  }
 ],
 "metadata": {
  "kernelspec": {
   "display_name": "Python 3",
   "language": "python",
   "name": "python3"
  },
  "language_info": {
   "codemirror_mode": {
    "name": "ipython",
    "version": 3
   },
   "file_extension": ".py",
   "mimetype": "text/x-python",
   "name": "python",
   "nbconvert_exporter": "python",
   "pygments_lexer": "ipython3",
   "version": "3.7.12"
  },
  "papermill": {
   "default_parameters": {},
   "duration": 322.778493,
   "end_time": "2022-08-16T15:20:20.448422",
   "environment_variables": {},
   "exception": null,
   "input_path": "__notebook__.ipynb",
   "output_path": "__notebook__.ipynb",
   "parameters": {},
   "start_time": "2022-08-16T15:14:57.669929",
   "version": "2.3.4"
  }
 },
 "nbformat": 4,
 "nbformat_minor": 5
}
