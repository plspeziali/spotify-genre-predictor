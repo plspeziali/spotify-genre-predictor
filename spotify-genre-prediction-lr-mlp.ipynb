{
 "cells": [
  {
   "cell_type": "code",
   "execution_count": 1,
   "id": "2bace4db",
   "metadata": {
    "execution": {
     "iopub.execute_input": "2022-08-18T10:03:16.066200Z",
     "iopub.status.busy": "2022-08-18T10:03:16.065349Z",
     "iopub.status.idle": "2022-08-18T10:03:17.276796Z",
     "shell.execute_reply": "2022-08-18T10:03:17.275655Z"
    },
    "papermill": {
     "duration": 1.226748,
     "end_time": "2022-08-18T10:03:17.279788",
     "exception": false,
     "start_time": "2022-08-18T10:03:16.053040",
     "status": "completed"
    },
    "tags": []
   },
   "outputs": [],
   "source": [
    "import pandas as pd\n",
    "import seaborn as sns # for data visualization\n",
    "import matplotlib.pyplot as plt\n",
    "import numpy as np\n",
    "def corr_heatmap(data):\n",
    "    corr_matrix = data.corr()\n",
    "    mask = np.zeros_like(corr_matrix, dtype=bool)\n",
    "    mask[np.triu_indices_from(mask)]= True\n",
    "    f, ax = plt.subplots(figsize=(11, 15)) \n",
    "    heatmap = sns.heatmap(corr_matrix, \n",
    "                          mask = mask,\n",
    "                          square = True,\n",
    "                          linewidths = .5,\n",
    "                          cmap = 'coolwarm',\n",
    "                          cbar_kws = {'shrink': .4, \n",
    "                                    'ticks' : [-1, -.5, 0, 0.5, 1]},\n",
    "                          vmin = -1, \n",
    "                          vmax = 1,\n",
    "                          annot = True,\n",
    "                          annot_kws = {'size': 12})#add the column names as labels\n",
    "    ax.set_yticklabels(corr_matrix.columns, rotation = 0)\n",
    "    ax.set_xticklabels(corr_matrix.columns)\n",
    "    sns.set_style({'xtick.bottom': True}, {'ytick.left': True})\n",
    "    \n",
    "def GridSearch_table_plot(grid_clf, param_name,\n",
    "                          num_results=15,\n",
    "                          negative=True,\n",
    "                          graph=True,\n",
    "                          display_all_params=True):\n",
    "\n",
    "    '''Display grid search results\n",
    "\n",
    "    Arguments\n",
    "    ---------\n",
    "\n",
    "    grid_clf           the estimator resulting from a grid search\n",
    "                       for example: grid_clf = GridSearchCV( ...\n",
    "\n",
    "    param_name         a string with the name of the parameter being tested\n",
    "\n",
    "    num_results        an integer indicating the number of results to display\n",
    "                       Default: 15\n",
    "\n",
    "    negative           boolean: should the sign of the score be reversed?\n",
    "                       scoring = 'neg_log_loss', for instance\n",
    "                       Default: True\n",
    "\n",
    "    graph              boolean: should a graph be produced?\n",
    "                       non-numeric parameters (True/False, None) don't graph well\n",
    "                       Default: True\n",
    "\n",
    "    display_all_params boolean: should we print out all of the parameters, not just the ones searched for?\n",
    "                       Default: True\n",
    "\n",
    "    Usage\n",
    "    -----\n",
    "\n",
    "    GridSearch_table_plot(grid_clf, \"min_samples_leaf\")\n",
    "\n",
    "                          '''\n",
    "    from matplotlib      import pyplot as plt\n",
    "    from IPython.display import display\n",
    "    import pandas as pd\n",
    "\n",
    "    clf = grid_clf.best_estimator_\n",
    "    clf_params = grid_clf.best_params_\n",
    "    if negative:\n",
    "        clf_score = -grid_clf.best_score_\n",
    "    else:\n",
    "        clf_score = grid_clf.best_score_\n",
    "    clf_stdev = grid_clf.cv_results_['std_test_score'][grid_clf.best_index_]\n",
    "    cv_results = grid_clf.cv_results_\n",
    "\n",
    "    print(\"best parameters: {}\".format(clf_params))\n",
    "    print(\"best score:      {:0.5f} (+/-{:0.5f})\".format(clf_score, clf_stdev))\n",
    "    if display_all_params:\n",
    "        import pprint\n",
    "        pprint.pprint(clf.get_params())\n",
    "\n",
    "    # pick out the best results\n",
    "    # =========================\n",
    "    scores_df = pd.DataFrame(cv_results).sort_values(by='rank_test_score')\n",
    "\n",
    "    best_row = scores_df.iloc[0, :]\n",
    "    if negative:\n",
    "        best_mean = -best_row['mean_test_score']\n",
    "    else:\n",
    "        best_mean = best_row['mean_test_score']\n",
    "    best_stdev = best_row['std_test_score']\n",
    "    best_param = best_row['param_' + param_name]\n",
    "\n",
    "    # display the top 'num_results' results\n",
    "    # =====================================\n",
    "    display(pd.DataFrame(cv_results) \\\n",
    "            .sort_values(by='rank_test_score').head(num_results))\n",
    "\n",
    "    # plot the results\n",
    "    # ================\n",
    "    scores_df = scores_df.sort_values(by='param_' + param_name)\n",
    "\n",
    "    if negative:\n",
    "        means = -scores_df['mean_test_score']\n",
    "    else:\n",
    "        means = scores_df['mean_test_score']\n",
    "    stds = scores_df['std_test_score']\n",
    "    params = scores_df['param_' + param_name]\n",
    "\n",
    "    # plot\n",
    "    if graph:\n",
    "        plt.figure(figsize=(8, 8))\n",
    "        plt.errorbar(params, means, yerr=stds)\n",
    "\n",
    "        plt.axhline(y=best_mean + best_stdev, color='red')\n",
    "        plt.axhline(y=best_mean - best_stdev, color='red')\n",
    "        plt.plot(best_param, best_mean, 'or')\n",
    "\n",
    "        plt.title(param_name + \" vs Score\\nBest Score {:0.5f}\".format(clf_score))\n",
    "        plt.xlabel(param_name)\n",
    "        plt.ylabel('Score')\n",
    "        plt.show()"
   ]
  },
  {
   "cell_type": "code",
   "execution_count": 2,
   "id": "6e3faf0c",
   "metadata": {
    "execution": {
     "iopub.execute_input": "2022-08-18T10:03:17.299919Z",
     "iopub.status.busy": "2022-08-18T10:03:17.299540Z",
     "iopub.status.idle": "2022-08-18T10:03:18.984689Z",
     "shell.execute_reply": "2022-08-18T10:03:18.983536Z"
    },
    "papermill": {
     "duration": 1.698497,
     "end_time": "2022-08-18T10:03:18.987798",
     "exception": false,
     "start_time": "2022-08-18T10:03:17.289301",
     "status": "completed"
    },
    "tags": []
   },
   "outputs": [
    {
     "data": {
      "text/html": [
       "<div>\n",
       "<style scoped>\n",
       "    .dataframe tbody tr th:only-of-type {\n",
       "        vertical-align: middle;\n",
       "    }\n",
       "\n",
       "    .dataframe tbody tr th {\n",
       "        vertical-align: top;\n",
       "    }\n",
       "\n",
       "    .dataframe thead th {\n",
       "        text-align: right;\n",
       "    }\n",
       "</style>\n",
       "<table border=\"1\" class=\"dataframe\">\n",
       "  <thead>\n",
       "    <tr style=\"text-align: right;\">\n",
       "      <th></th>\n",
       "      <th>genre</th>\n",
       "      <th>artist_name</th>\n",
       "      <th>track_name</th>\n",
       "      <th>track_id</th>\n",
       "      <th>popularity</th>\n",
       "      <th>acousticness</th>\n",
       "      <th>danceability</th>\n",
       "      <th>duration_ms</th>\n",
       "      <th>energy</th>\n",
       "      <th>instrumentalness</th>\n",
       "      <th>key</th>\n",
       "      <th>liveness</th>\n",
       "      <th>loudness</th>\n",
       "      <th>mode</th>\n",
       "      <th>speechiness</th>\n",
       "      <th>tempo</th>\n",
       "      <th>time_signature</th>\n",
       "      <th>valence</th>\n",
       "    </tr>\n",
       "  </thead>\n",
       "  <tbody>\n",
       "    <tr>\n",
       "      <th>0</th>\n",
       "      <td>Movie</td>\n",
       "      <td>Henri Salvador</td>\n",
       "      <td>C'est beau de faire un Show</td>\n",
       "      <td>0BRjO6ga9RKCKjfDqeFgWV</td>\n",
       "      <td>0</td>\n",
       "      <td>0.611</td>\n",
       "      <td>0.389</td>\n",
       "      <td>99373</td>\n",
       "      <td>0.910</td>\n",
       "      <td>0.000</td>\n",
       "      <td>C#</td>\n",
       "      <td>0.3460</td>\n",
       "      <td>-1.828</td>\n",
       "      <td>Major</td>\n",
       "      <td>0.0525</td>\n",
       "      <td>166.969</td>\n",
       "      <td>4/4</td>\n",
       "      <td>0.814</td>\n",
       "    </tr>\n",
       "    <tr>\n",
       "      <th>1</th>\n",
       "      <td>Movie</td>\n",
       "      <td>Martin &amp; les fées</td>\n",
       "      <td>Perdu d'avance (par Gad Elmaleh)</td>\n",
       "      <td>0BjC1NfoEOOusryehmNudP</td>\n",
       "      <td>1</td>\n",
       "      <td>0.246</td>\n",
       "      <td>0.590</td>\n",
       "      <td>137373</td>\n",
       "      <td>0.737</td>\n",
       "      <td>0.000</td>\n",
       "      <td>F#</td>\n",
       "      <td>0.1510</td>\n",
       "      <td>-5.559</td>\n",
       "      <td>Minor</td>\n",
       "      <td>0.0868</td>\n",
       "      <td>174.003</td>\n",
       "      <td>4/4</td>\n",
       "      <td>0.816</td>\n",
       "    </tr>\n",
       "    <tr>\n",
       "      <th>2</th>\n",
       "      <td>Movie</td>\n",
       "      <td>Joseph Williams</td>\n",
       "      <td>Don't Let Me Be Lonely Tonight</td>\n",
       "      <td>0CoSDzoNIKCRs124s9uTVy</td>\n",
       "      <td>3</td>\n",
       "      <td>0.952</td>\n",
       "      <td>0.663</td>\n",
       "      <td>170267</td>\n",
       "      <td>0.131</td>\n",
       "      <td>0.000</td>\n",
       "      <td>C</td>\n",
       "      <td>0.1030</td>\n",
       "      <td>-13.879</td>\n",
       "      <td>Minor</td>\n",
       "      <td>0.0362</td>\n",
       "      <td>99.488</td>\n",
       "      <td>5/4</td>\n",
       "      <td>0.368</td>\n",
       "    </tr>\n",
       "    <tr>\n",
       "      <th>3</th>\n",
       "      <td>Movie</td>\n",
       "      <td>Henri Salvador</td>\n",
       "      <td>Dis-moi Monsieur Gordon Cooper</td>\n",
       "      <td>0Gc6TVm52BwZD07Ki6tIvf</td>\n",
       "      <td>0</td>\n",
       "      <td>0.703</td>\n",
       "      <td>0.240</td>\n",
       "      <td>152427</td>\n",
       "      <td>0.326</td>\n",
       "      <td>0.000</td>\n",
       "      <td>C#</td>\n",
       "      <td>0.0985</td>\n",
       "      <td>-12.178</td>\n",
       "      <td>Major</td>\n",
       "      <td>0.0395</td>\n",
       "      <td>171.758</td>\n",
       "      <td>4/4</td>\n",
       "      <td>0.227</td>\n",
       "    </tr>\n",
       "    <tr>\n",
       "      <th>4</th>\n",
       "      <td>Movie</td>\n",
       "      <td>Fabien Nataf</td>\n",
       "      <td>Ouverture</td>\n",
       "      <td>0IuslXpMROHdEPvSl1fTQK</td>\n",
       "      <td>4</td>\n",
       "      <td>0.950</td>\n",
       "      <td>0.331</td>\n",
       "      <td>82625</td>\n",
       "      <td>0.225</td>\n",
       "      <td>0.123</td>\n",
       "      <td>F</td>\n",
       "      <td>0.2020</td>\n",
       "      <td>-21.150</td>\n",
       "      <td>Major</td>\n",
       "      <td>0.0456</td>\n",
       "      <td>140.576</td>\n",
       "      <td>4/4</td>\n",
       "      <td>0.390</td>\n",
       "    </tr>\n",
       "  </tbody>\n",
       "</table>\n",
       "</div>"
      ],
      "text/plain": [
       "   genre        artist_name                        track_name  \\\n",
       "0  Movie     Henri Salvador       C'est beau de faire un Show   \n",
       "1  Movie  Martin & les fées  Perdu d'avance (par Gad Elmaleh)   \n",
       "2  Movie    Joseph Williams    Don't Let Me Be Lonely Tonight   \n",
       "3  Movie     Henri Salvador    Dis-moi Monsieur Gordon Cooper   \n",
       "4  Movie       Fabien Nataf                         Ouverture   \n",
       "\n",
       "                 track_id  popularity  acousticness  danceability  \\\n",
       "0  0BRjO6ga9RKCKjfDqeFgWV           0         0.611         0.389   \n",
       "1  0BjC1NfoEOOusryehmNudP           1         0.246         0.590   \n",
       "2  0CoSDzoNIKCRs124s9uTVy           3         0.952         0.663   \n",
       "3  0Gc6TVm52BwZD07Ki6tIvf           0         0.703         0.240   \n",
       "4  0IuslXpMROHdEPvSl1fTQK           4         0.950         0.331   \n",
       "\n",
       "   duration_ms  energy  instrumentalness key  liveness  loudness   mode  \\\n",
       "0        99373   0.910             0.000  C#    0.3460    -1.828  Major   \n",
       "1       137373   0.737             0.000  F#    0.1510    -5.559  Minor   \n",
       "2       170267   0.131             0.000   C    0.1030   -13.879  Minor   \n",
       "3       152427   0.326             0.000  C#    0.0985   -12.178  Major   \n",
       "4        82625   0.225             0.123   F    0.2020   -21.150  Major   \n",
       "\n",
       "   speechiness    tempo time_signature  valence  \n",
       "0       0.0525  166.969            4/4    0.814  \n",
       "1       0.0868  174.003            4/4    0.816  \n",
       "2       0.0362   99.488            5/4    0.368  \n",
       "3       0.0395  171.758            4/4    0.227  \n",
       "4       0.0456  140.576            4/4    0.390  "
      ]
     },
     "metadata": {},
     "output_type": "display_data"
    }
   ],
   "source": [
    "df = pd.read_csv(\"../input/ultimate-spotify-tracks-db/SpotifyFeatures.csv\")\n",
    "display(df.head())"
   ]
  },
  {
   "cell_type": "code",
   "execution_count": 3,
   "id": "9ad11200",
   "metadata": {
    "execution": {
     "iopub.execute_input": "2022-08-18T10:03:19.008170Z",
     "iopub.status.busy": "2022-08-18T10:03:19.007749Z",
     "iopub.status.idle": "2022-08-18T10:03:19.013516Z",
     "shell.execute_reply": "2022-08-18T10:03:19.012360Z"
    },
    "papermill": {
     "duration": 0.020368,
     "end_time": "2022-08-18T10:03:19.017486",
     "exception": false,
     "start_time": "2022-08-18T10:03:18.997118",
     "status": "completed"
    },
    "tags": []
   },
   "outputs": [
    {
     "name": "stdout",
     "output_type": "stream",
     "text": [
      "Index(['genre', 'artist_name', 'track_name', 'track_id', 'popularity',\n",
      "       'acousticness', 'danceability', 'duration_ms', 'energy',\n",
      "       'instrumentalness', 'key', 'liveness', 'loudness', 'mode',\n",
      "       'speechiness', 'tempo', 'time_signature', 'valence'],\n",
      "      dtype='object')\n"
     ]
    }
   ],
   "source": [
    "# Prints the names of the features\n",
    "print(df.keys())"
   ]
  },
  {
   "cell_type": "code",
   "execution_count": 4,
   "id": "e44fbc90",
   "metadata": {
    "execution": {
     "iopub.execute_input": "2022-08-18T10:03:19.039360Z",
     "iopub.status.busy": "2022-08-18T10:03:19.038922Z",
     "iopub.status.idle": "2022-08-18T10:03:19.121599Z",
     "shell.execute_reply": "2022-08-18T10:03:19.119839Z"
    },
    "papermill": {
     "duration": 0.096312,
     "end_time": "2022-08-18T10:03:19.124466",
     "exception": false,
     "start_time": "2022-08-18T10:03:19.028154",
     "status": "completed"
    },
    "tags": []
   },
   "outputs": [
    {
     "name": "stdout",
     "output_type": "stream",
     "text": [
      "genre               0\n",
      "artist_name         0\n",
      "track_name          0\n",
      "track_id            0\n",
      "popularity          0\n",
      "acousticness        0\n",
      "danceability        0\n",
      "duration_ms         0\n",
      "energy              0\n",
      "instrumentalness    0\n",
      "key                 0\n",
      "liveness            0\n",
      "loudness            0\n",
      "mode                0\n",
      "speechiness         0\n",
      "tempo               0\n",
      "time_signature      0\n",
      "valence             0\n",
      "dtype: int64\n"
     ]
    }
   ],
   "source": [
    "# Let's check for null values\n",
    "print(pd.isnull(df).sum())"
   ]
  },
  {
   "cell_type": "code",
   "execution_count": 5,
   "id": "3e35584f",
   "metadata": {
    "execution": {
     "iopub.execute_input": "2022-08-18T10:03:19.145663Z",
     "iopub.status.busy": "2022-08-18T10:03:19.145231Z",
     "iopub.status.idle": "2022-08-18T10:03:19.719631Z",
     "shell.execute_reply": "2022-08-18T10:03:19.718380Z"
    },
    "papermill": {
     "duration": 0.588101,
     "end_time": "2022-08-18T10:03:19.722309",
     "exception": false,
     "start_time": "2022-08-18T10:03:19.134208",
     "status": "completed"
    },
    "tags": []
   },
   "outputs": [
    {
     "data": {
      "text/plain": [
       "Text(0.5, 1.0, 'Time Signature Distribution')"
      ]
     },
     "execution_count": 5,
     "metadata": {},
     "output_type": "execute_result"
    },
    {
     "data": {
      "image/png": "[encoded data removed]",
      "text/plain": [
       "<Figure size 432x288 with 1 Axes>"
      ]
     },
     "metadata": {
      "needs_background": "light"
     },
     "output_type": "display_data"
    }
   ],
   "source": [
    "# There are no null values, thus there's no need to perform any kind of operation\n",
    "# in order to handle the missing values\n",
    "sns.histplot(df['time_signature']).set_title('Time Signature Distribution')"
   ]
  },
  {
   "cell_type": "code",
   "execution_count": 6,
   "id": "f82ae841",
   "metadata": {
    "execution": {
     "iopub.execute_input": "2022-08-18T10:03:19.745717Z",
     "iopub.status.busy": "2022-08-18T10:03:19.744463Z",
     "iopub.status.idle": "2022-08-18T10:03:20.365066Z",
     "shell.execute_reply": "2022-08-18T10:03:20.363830Z"
    },
    "papermill": {
     "duration": 0.634806,
     "end_time": "2022-08-18T10:03:20.367852",
     "exception": false,
     "start_time": "2022-08-18T10:03:19.733046",
     "status": "completed"
    },
    "tags": []
   },
   "outputs": [
    {
     "name": "stdout",
     "output_type": "stream",
     "text": [
      "Tracks with a 0/4 time signature: 8\n"
     ]
    },
    {
     "data": {
      "text/plain": [
       "Text(0.5, 1.0, 'Time Signature Distribution')"
      ]
     },
     "execution_count": 6,
     "metadata": {},
     "output_type": "execute_result"
    },
    {
     "data": {
      "image/png": "[encoded data removed]",
      "text/plain": [
       "<Figure size 432x288 with 1 Axes>"
      ]
     },
     "metadata": {
      "needs_background": "light"
     },
     "output_type": "display_data"
    }
   ],
   "source": [
    "# The samples in the dataframe where the field 'time_signature' is '1/4'\n",
    "# actually represent songs with mostly a 4/4 time signature, since it is\n",
    "# most likely an error by who created the dataframe we're going to change it\n",
    "# to the '4/4' value\n",
    "df['time_signature'] = df['time_signature'].replace(['1/4'],'4/4')\n",
    "\n",
    "print(\"Tracks with a 0/4 time signature: %s\" % len(df[df['time_signature'] == '0/4']));\n",
    "# Since there are just 8 samples with a '0/4' time signature,\n",
    "# and since it is clearly an error, I'm going to simply delete them\n",
    "df = df[df['time_signature'] != '0/4']\n",
    "\n",
    "sns.histplot(df['time_signature']).set_title('Time Signature Distribution')"
   ]
  },
  {
   "cell_type": "code",
   "execution_count": 7,
   "id": "3b1bcf77",
   "metadata": {
    "execution": {
     "iopub.execute_input": "2022-08-18T10:03:20.391223Z",
     "iopub.status.busy": "2022-08-18T10:03:20.390181Z",
     "iopub.status.idle": "2022-08-18T10:03:21.057772Z",
     "shell.execute_reply": "2022-08-18T10:03:21.056094Z"
    },
    "papermill": {
     "duration": 0.682553,
     "end_time": "2022-08-18T10:03:21.060854",
     "exception": false,
     "start_time": "2022-08-18T10:03:20.378301",
     "status": "completed"
    },
    "tags": []
   },
   "outputs": [
    {
     "data": {
      "text/plain": [
       "Text(0.5, 1.0, 'Genre Distribution')"
      ]
     },
     "execution_count": 7,
     "metadata": {},
     "output_type": "execute_result"
    },
    {
     "data": {
      "image/png": "[encoded data removed]",
      "text/plain": [
       "<Figure size 1584x432 with 1 Axes>"
      ]
     },
     "metadata": {
      "needs_background": "light"
     },
     "output_type": "display_data"
    }
   ],
   "source": [
    "plt.figure(figsize=(22, 6))\n",
    "sns.histplot(df['genre']).set_title('Genre Distribution')"
   ]
  },
  {
   "cell_type": "code",
   "execution_count": 8,
   "id": "d7bfb729",
   "metadata": {
    "execution": {
     "iopub.execute_input": "2022-08-18T10:03:21.087963Z",
     "iopub.status.busy": "2022-08-18T10:03:21.087375Z",
     "iopub.status.idle": "2022-08-18T10:03:21.366516Z",
     "shell.execute_reply": "2022-08-18T10:03:21.365694Z"
    },
    "papermill": {
     "duration": 0.294864,
     "end_time": "2022-08-18T10:03:21.368681",
     "exception": false,
     "start_time": "2022-08-18T10:03:21.073817",
     "status": "completed"
    },
    "tags": []
   },
   "outputs": [
    {
     "data": {
      "text/html": [
       "<div>\n",
       "<style scoped>\n",
       "    .dataframe tbody tr th:only-of-type {\n",
       "        vertical-align: middle;\n",
       "    }\n",
       "\n",
       "    .dataframe tbody tr th {\n",
       "        vertical-align: top;\n",
       "    }\n",
       "\n",
       "    .dataframe thead th {\n",
       "        text-align: right;\n",
       "    }\n",
       "</style>\n",
       "<table border=\"1\" class=\"dataframe\">\n",
       "  <thead>\n",
       "    <tr style=\"text-align: right;\">\n",
       "      <th></th>\n",
       "      <th>genre</th>\n",
       "      <th>artist_name</th>\n",
       "      <th>track_name</th>\n",
       "      <th>track_id</th>\n",
       "      <th>popularity</th>\n",
       "      <th>acousticness</th>\n",
       "      <th>danceability</th>\n",
       "      <th>duration_ms</th>\n",
       "      <th>energy</th>\n",
       "      <th>instrumentalness</th>\n",
       "      <th>key</th>\n",
       "      <th>liveness</th>\n",
       "      <th>loudness</th>\n",
       "      <th>mode</th>\n",
       "      <th>speechiness</th>\n",
       "      <th>tempo</th>\n",
       "      <th>time_signature</th>\n",
       "      <th>valence</th>\n",
       "    </tr>\n",
       "  </thead>\n",
       "  <tbody>\n",
       "    <tr>\n",
       "      <th>14492</th>\n",
       "      <td>Dance</td>\n",
       "      <td>ZAYN</td>\n",
       "      <td>Still Got Time</td>\n",
       "      <td>000xQL6tZNLJzIrtIgxqSl</td>\n",
       "      <td>70</td>\n",
       "      <td>0.131000</td>\n",
       "      <td>0.748</td>\n",
       "      <td>188491</td>\n",
       "      <td>0.627</td>\n",
       "      <td>0.000000</td>\n",
       "      <td>G</td>\n",
       "      <td>0.0852</td>\n",
       "      <td>-6.029</td>\n",
       "      <td>Major</td>\n",
       "      <td>0.0644</td>\n",
       "      <td>120.963</td>\n",
       "      <td>4/4</td>\n",
       "      <td>0.524</td>\n",
       "    </tr>\n",
       "    <tr>\n",
       "      <th>110840</th>\n",
       "      <td>Pop</td>\n",
       "      <td>ZAYN</td>\n",
       "      <td>Still Got Time</td>\n",
       "      <td>000xQL6tZNLJzIrtIgxqSl</td>\n",
       "      <td>70</td>\n",
       "      <td>0.131000</td>\n",
       "      <td>0.748</td>\n",
       "      <td>188491</td>\n",
       "      <td>0.627</td>\n",
       "      <td>0.000000</td>\n",
       "      <td>G</td>\n",
       "      <td>0.0852</td>\n",
       "      <td>-6.029</td>\n",
       "      <td>Major</td>\n",
       "      <td>0.0644</td>\n",
       "      <td>120.963</td>\n",
       "      <td>4/4</td>\n",
       "      <td>0.524</td>\n",
       "    </tr>\n",
       "    <tr>\n",
       "      <th>96926</th>\n",
       "      <td>Children’s Music</td>\n",
       "      <td>Young Tribe</td>\n",
       "      <td>Kingdom</td>\n",
       "      <td>001gDjxhKGDSx4sMMAgS9R</td>\n",
       "      <td>57</td>\n",
       "      <td>0.034900</td>\n",
       "      <td>0.564</td>\n",
       "      <td>211789</td>\n",
       "      <td>0.808</td>\n",
       "      <td>0.000360</td>\n",
       "      <td>C#</td>\n",
       "      <td>0.3260</td>\n",
       "      <td>-5.825</td>\n",
       "      <td>Major</td>\n",
       "      <td>0.0481</td>\n",
       "      <td>78.439</td>\n",
       "      <td>4/4</td>\n",
       "      <td>0.365</td>\n",
       "    </tr>\n",
       "    <tr>\n",
       "      <th>153533</th>\n",
       "      <td>Rock</td>\n",
       "      <td>Young Tribe</td>\n",
       "      <td>Kingdom</td>\n",
       "      <td>001gDjxhKGDSx4sMMAgS9R</td>\n",
       "      <td>58</td>\n",
       "      <td>0.034900</td>\n",
       "      <td>0.564</td>\n",
       "      <td>211789</td>\n",
       "      <td>0.808</td>\n",
       "      <td>0.000360</td>\n",
       "      <td>C#</td>\n",
       "      <td>0.3260</td>\n",
       "      <td>-5.825</td>\n",
       "      <td>Major</td>\n",
       "      <td>0.0481</td>\n",
       "      <td>78.439</td>\n",
       "      <td>4/4</td>\n",
       "      <td>0.365</td>\n",
       "    </tr>\n",
       "    <tr>\n",
       "      <th>145387</th>\n",
       "      <td>Indie</td>\n",
       "      <td>Alabama Shakes</td>\n",
       "      <td>Gemini</td>\n",
       "      <td>001ifh9Zkyc5DhK7AGQRtK</td>\n",
       "      <td>42</td>\n",
       "      <td>0.447000</td>\n",
       "      <td>0.411</td>\n",
       "      <td>395573</td>\n",
       "      <td>0.422</td>\n",
       "      <td>0.121000</td>\n",
       "      <td>E</td>\n",
       "      <td>0.0742</td>\n",
       "      <td>-5.475</td>\n",
       "      <td>Minor</td>\n",
       "      <td>0.0459</td>\n",
       "      <td>147.465</td>\n",
       "      <td>4/4</td>\n",
       "      <td>0.346</td>\n",
       "    </tr>\n",
       "    <tr>\n",
       "      <th>...</th>\n",
       "      <td>...</td>\n",
       "      <td>...</td>\n",
       "      <td>...</td>\n",
       "      <td>...</td>\n",
       "      <td>...</td>\n",
       "      <td>...</td>\n",
       "      <td>...</td>\n",
       "      <td>...</td>\n",
       "      <td>...</td>\n",
       "      <td>...</td>\n",
       "      <td>...</td>\n",
       "      <td>...</td>\n",
       "      <td>...</td>\n",
       "      <td>...</td>\n",
       "      <td>...</td>\n",
       "      <td>...</td>\n",
       "      <td>...</td>\n",
       "      <td>...</td>\n",
       "    </tr>\n",
       "    <tr>\n",
       "      <th>10340</th>\n",
       "      <td>Alternative</td>\n",
       "      <td>Bay Faction</td>\n",
       "      <td>Beach Book</td>\n",
       "      <td>7zy2ezQByCeFcaDtsxt77o</td>\n",
       "      <td>40</td>\n",
       "      <td>0.063200</td>\n",
       "      <td>0.537</td>\n",
       "      <td>189750</td>\n",
       "      <td>0.474</td>\n",
       "      <td>0.002590</td>\n",
       "      <td>E</td>\n",
       "      <td>0.0917</td>\n",
       "      <td>-7.440</td>\n",
       "      <td>Minor</td>\n",
       "      <td>0.0500</td>\n",
       "      <td>147.310</td>\n",
       "      <td>4/4</td>\n",
       "      <td>0.474</td>\n",
       "    </tr>\n",
       "    <tr>\n",
       "      <th>97007</th>\n",
       "      <td>Children’s Music</td>\n",
       "      <td>Five Finger Death Punch</td>\n",
       "      <td>Dot Your Eyes</td>\n",
       "      <td>7zyJ2g9o0nVOBbDavVveCl</td>\n",
       "      <td>54</td>\n",
       "      <td>0.000508</td>\n",
       "      <td>0.488</td>\n",
       "      <td>195091</td>\n",
       "      <td>0.994</td>\n",
       "      <td>0.000000</td>\n",
       "      <td>C#</td>\n",
       "      <td>0.0623</td>\n",
       "      <td>-3.960</td>\n",
       "      <td>Minor</td>\n",
       "      <td>0.1190</td>\n",
       "      <td>74.011</td>\n",
       "      <td>4/4</td>\n",
       "      <td>0.376</td>\n",
       "    </tr>\n",
       "    <tr>\n",
       "      <th>4751</th>\n",
       "      <td>Alternative</td>\n",
       "      <td>Five Finger Death Punch</td>\n",
       "      <td>Dot Your Eyes</td>\n",
       "      <td>7zyJ2g9o0nVOBbDavVveCl</td>\n",
       "      <td>50</td>\n",
       "      <td>0.000508</td>\n",
       "      <td>0.488</td>\n",
       "      <td>195091</td>\n",
       "      <td>0.994</td>\n",
       "      <td>0.000000</td>\n",
       "      <td>C#</td>\n",
       "      <td>0.0623</td>\n",
       "      <td>-3.960</td>\n",
       "      <td>Minor</td>\n",
       "      <td>0.1190</td>\n",
       "      <td>74.011</td>\n",
       "      <td>4/4</td>\n",
       "      <td>0.376</td>\n",
       "    </tr>\n",
       "    <tr>\n",
       "      <th>100080</th>\n",
       "      <td>Children’s Music</td>\n",
       "      <td>Moonstar88</td>\n",
       "      <td>Migraine</td>\n",
       "      <td>7zzZmpw8L66ZPjH1M6qmOs</td>\n",
       "      <td>67</td>\n",
       "      <td>0.217000</td>\n",
       "      <td>0.664</td>\n",
       "      <td>267960</td>\n",
       "      <td>0.537</td>\n",
       "      <td>0.000003</td>\n",
       "      <td>D</td>\n",
       "      <td>0.1180</td>\n",
       "      <td>-6.000</td>\n",
       "      <td>Major</td>\n",
       "      <td>0.0290</td>\n",
       "      <td>115.049</td>\n",
       "      <td>4/4</td>\n",
       "      <td>0.221</td>\n",
       "    </tr>\n",
       "    <tr>\n",
       "      <th>142703</th>\n",
       "      <td>Indie</td>\n",
       "      <td>Moonstar88</td>\n",
       "      <td>Migraine</td>\n",
       "      <td>7zzZmpw8L66ZPjH1M6qmOs</td>\n",
       "      <td>67</td>\n",
       "      <td>0.217000</td>\n",
       "      <td>0.664</td>\n",
       "      <td>267960</td>\n",
       "      <td>0.537</td>\n",
       "      <td>0.000003</td>\n",
       "      <td>D</td>\n",
       "      <td>0.1180</td>\n",
       "      <td>-6.000</td>\n",
       "      <td>Major</td>\n",
       "      <td>0.0290</td>\n",
       "      <td>115.049</td>\n",
       "      <td>4/4</td>\n",
       "      <td>0.221</td>\n",
       "    </tr>\n",
       "  </tbody>\n",
       "</table>\n",
       "<p>91072 rows × 18 columns</p>\n",
       "</div>"
      ],
      "text/plain": [
       "                   genre              artist_name      track_name  \\\n",
       "14492              Dance                     ZAYN  Still Got Time   \n",
       "110840               Pop                     ZAYN  Still Got Time   \n",
       "96926   Children’s Music              Young Tribe         Kingdom   \n",
       "153533              Rock              Young Tribe         Kingdom   \n",
       "145387             Indie           Alabama Shakes          Gemini   \n",
       "...                  ...                      ...             ...   \n",
       "10340        Alternative              Bay Faction      Beach Book   \n",
       "97007   Children’s Music  Five Finger Death Punch   Dot Your Eyes   \n",
       "4751         Alternative  Five Finger Death Punch   Dot Your Eyes   \n",
       "100080  Children’s Music               Moonstar88        Migraine   \n",
       "142703             Indie               Moonstar88        Migraine   \n",
       "\n",
       "                      track_id  popularity  acousticness  danceability  \\\n",
       "14492   000xQL6tZNLJzIrtIgxqSl          70      0.131000         0.748   \n",
       "110840  000xQL6tZNLJzIrtIgxqSl          70      0.131000         0.748   \n",
       "96926   001gDjxhKGDSx4sMMAgS9R          57      0.034900         0.564   \n",
       "153533  001gDjxhKGDSx4sMMAgS9R          58      0.034900         0.564   \n",
       "145387  001ifh9Zkyc5DhK7AGQRtK          42      0.447000         0.411   \n",
       "...                        ...         ...           ...           ...   \n",
       "10340   7zy2ezQByCeFcaDtsxt77o          40      0.063200         0.537   \n",
       "97007   7zyJ2g9o0nVOBbDavVveCl          54      0.000508         0.488   \n",
       "4751    7zyJ2g9o0nVOBbDavVveCl          50      0.000508         0.488   \n",
       "100080  7zzZmpw8L66ZPjH1M6qmOs          67      0.217000         0.664   \n",
       "142703  7zzZmpw8L66ZPjH1M6qmOs          67      0.217000         0.664   \n",
       "\n",
       "        duration_ms  energy  instrumentalness key  liveness  loudness   mode  \\\n",
       "14492        188491   0.627          0.000000   G    0.0852    -6.029  Major   \n",
       "110840       188491   0.627          0.000000   G    0.0852    -6.029  Major   \n",
       "96926        211789   0.808          0.000360  C#    0.3260    -5.825  Major   \n",
       "153533       211789   0.808          0.000360  C#    0.3260    -5.825  Major   \n",
       "145387       395573   0.422          0.121000   E    0.0742    -5.475  Minor   \n",
       "...             ...     ...               ...  ..       ...       ...    ...   \n",
       "10340        189750   0.474          0.002590   E    0.0917    -7.440  Minor   \n",
       "97007        195091   0.994          0.000000  C#    0.0623    -3.960  Minor   \n",
       "4751         195091   0.994          0.000000  C#    0.0623    -3.960  Minor   \n",
       "100080       267960   0.537          0.000003   D    0.1180    -6.000  Major   \n",
       "142703       267960   0.537          0.000003   D    0.1180    -6.000  Major   \n",
       "\n",
       "        speechiness    tempo time_signature  valence  \n",
       "14492        0.0644  120.963            4/4    0.524  \n",
       "110840       0.0644  120.963            4/4    0.524  \n",
       "96926        0.0481   78.439            4/4    0.365  \n",
       "153533       0.0481   78.439            4/4    0.365  \n",
       "145387       0.0459  147.465            4/4    0.346  \n",
       "...             ...      ...            ...      ...  \n",
       "10340        0.0500  147.310            4/4    0.474  \n",
       "97007        0.1190   74.011            4/4    0.376  \n",
       "4751         0.1190   74.011            4/4    0.376  \n",
       "100080       0.0290  115.049            4/4    0.221  \n",
       "142703       0.0290  115.049            4/4    0.221  \n",
       "\n",
       "[91072 rows x 18 columns]"
      ]
     },
     "execution_count": 8,
     "metadata": {},
     "output_type": "execute_result"
    }
   ],
   "source": [
    "ids = df[\"track_id\"]\n",
    ">>> df[ids.isin(ids[ids.duplicated()])].sort_values(\"track_id\")"
   ]
  },
  {
   "cell_type": "code",
   "execution_count": 9,
   "id": "b022093a",
   "metadata": {
    "execution": {
     "iopub.execute_input": "2022-08-18T10:03:21.394121Z",
     "iopub.status.busy": "2022-08-18T10:03:21.393253Z",
     "iopub.status.idle": "2022-08-18T10:03:21.651764Z",
     "shell.execute_reply": "2022-08-18T10:03:21.650035Z"
    },
    "papermill": {
     "duration": 0.274054,
     "end_time": "2022-08-18T10:03:21.654467",
     "exception": false,
     "start_time": "2022-08-18T10:03:21.380413",
     "status": "completed"
    },
    "tags": []
   },
   "outputs": [
    {
     "name": "stdout",
     "output_type": "stream",
     "text": [
      "Classical Tracks number: 9256\n",
      "Pop Tracks number: 9385\n",
      "Folk Tracks number: 9299\n",
      "Total Tracks number: 27940\n"
     ]
    },
    {
     "data": {
      "image/png": "[encoded data removed]",
      "text/plain": [
       "<Figure size 432x288 with 1 Axes>"
      ]
     },
     "metadata": {
      "needs_background": "light"
     },
     "output_type": "display_data"
    }
   ],
   "source": [
    "# i'm going to pick the three genres of the Philip Tagg's axiomatic triangle:\n",
    "# Classical, Pop and Folk, as we can see they are pretty balanced\n",
    "\n",
    "taggGenres = ['Classical','Pop','Folk']\n",
    "df = df[df.genre.isin(taggGenres)];\n",
    "sns.histplot(df['genre']).set_title('Genre Distribution')\n",
    "\n",
    "print(\"Classical Tracks number: %s\" % len(df[df['genre'] == 'Classical']));\n",
    "print(\"Pop Tracks number: %s\" % len(df[df['genre'] == 'Pop']));\n",
    "print(\"Folk Tracks number: %s\" % len(df[df['genre'] == 'Folk']));\n",
    "\n",
    "print(\"Total Tracks number: %s\" % len(df));"
   ]
  },
  {
   "cell_type": "code",
   "execution_count": 10,
   "id": "ec5dc77c",
   "metadata": {
    "execution": {
     "iopub.execute_input": "2022-08-18T10:03:21.680570Z",
     "iopub.status.busy": "2022-08-18T10:03:21.679772Z",
     "iopub.status.idle": "2022-08-18T10:03:21.730034Z",
     "shell.execute_reply": "2022-08-18T10:03:21.728804Z"
    },
    "papermill": {
     "duration": 0.066399,
     "end_time": "2022-08-18T10:03:21.732814",
     "exception": false,
     "start_time": "2022-08-18T10:03:21.666415",
     "status": "completed"
    },
    "tags": []
   },
   "outputs": [
    {
     "data": {
      "text/html": [
       "<div>\n",
       "<style scoped>\n",
       "    .dataframe tbody tr th:only-of-type {\n",
       "        vertical-align: middle;\n",
       "    }\n",
       "\n",
       "    .dataframe tbody tr th {\n",
       "        vertical-align: top;\n",
       "    }\n",
       "\n",
       "    .dataframe thead th {\n",
       "        text-align: right;\n",
       "    }\n",
       "</style>\n",
       "<table border=\"1\" class=\"dataframe\">\n",
       "  <thead>\n",
       "    <tr style=\"text-align: right;\">\n",
       "      <th></th>\n",
       "      <th>genre</th>\n",
       "      <th>artist_name</th>\n",
       "      <th>track_name</th>\n",
       "      <th>track_id</th>\n",
       "      <th>popularity</th>\n",
       "      <th>acousticness</th>\n",
       "      <th>danceability</th>\n",
       "      <th>duration_ms</th>\n",
       "      <th>energy</th>\n",
       "      <th>instrumentalness</th>\n",
       "      <th>key</th>\n",
       "      <th>liveness</th>\n",
       "      <th>loudness</th>\n",
       "      <th>mode</th>\n",
       "      <th>speechiness</th>\n",
       "      <th>tempo</th>\n",
       "      <th>time_signature</th>\n",
       "      <th>valence</th>\n",
       "    </tr>\n",
       "  </thead>\n",
       "  <tbody>\n",
       "    <tr>\n",
       "      <th>40627</th>\n",
       "      <td>Folk</td>\n",
       "      <td>Seals and Crofts</td>\n",
       "      <td>Summer Breeze</td>\n",
       "      <td>01UYpHuzHi4eB9PAbDoPY2</td>\n",
       "      <td>71</td>\n",
       "      <td>0.6110</td>\n",
       "      <td>0.501</td>\n",
       "      <td>203967</td>\n",
       "      <td>0.474</td>\n",
       "      <td>0.029800</td>\n",
       "      <td>F</td>\n",
       "      <td>0.0667</td>\n",
       "      <td>-10.041</td>\n",
       "      <td>Major</td>\n",
       "      <td>0.0386</td>\n",
       "      <td>88.609</td>\n",
       "      <td>4/4</td>\n",
       "      <td>0.350</td>\n",
       "    </tr>\n",
       "    <tr>\n",
       "      <th>111238</th>\n",
       "      <td>Pop</td>\n",
       "      <td>Seals and Crofts</td>\n",
       "      <td>Summer Breeze</td>\n",
       "      <td>01UYpHuzHi4eB9PAbDoPY2</td>\n",
       "      <td>71</td>\n",
       "      <td>0.6110</td>\n",
       "      <td>0.501</td>\n",
       "      <td>203967</td>\n",
       "      <td>0.474</td>\n",
       "      <td>0.029800</td>\n",
       "      <td>F</td>\n",
       "      <td>0.0667</td>\n",
       "      <td>-10.041</td>\n",
       "      <td>Major</td>\n",
       "      <td>0.0386</td>\n",
       "      <td>88.609</td>\n",
       "      <td>4/4</td>\n",
       "      <td>0.350</td>\n",
       "    </tr>\n",
       "    <tr>\n",
       "      <th>41219</th>\n",
       "      <td>Folk</td>\n",
       "      <td>The Zombies</td>\n",
       "      <td>This Will Be Our Year</td>\n",
       "      <td>02KpkaZbiutsR0ucxce4Sh</td>\n",
       "      <td>65</td>\n",
       "      <td>0.6260</td>\n",
       "      <td>0.535</td>\n",
       "      <td>127733</td>\n",
       "      <td>0.424</td>\n",
       "      <td>0.000000</td>\n",
       "      <td>A</td>\n",
       "      <td>0.1910</td>\n",
       "      <td>-7.491</td>\n",
       "      <td>Major</td>\n",
       "      <td>0.0314</td>\n",
       "      <td>97.506</td>\n",
       "      <td>4/4</td>\n",
       "      <td>0.539</td>\n",
       "    </tr>\n",
       "    <tr>\n",
       "      <th>113906</th>\n",
       "      <td>Pop</td>\n",
       "      <td>The Zombies</td>\n",
       "      <td>This Will Be Our Year</td>\n",
       "      <td>02KpkaZbiutsR0ucxce4Sh</td>\n",
       "      <td>65</td>\n",
       "      <td>0.6260</td>\n",
       "      <td>0.535</td>\n",
       "      <td>127733</td>\n",
       "      <td>0.424</td>\n",
       "      <td>0.000000</td>\n",
       "      <td>A</td>\n",
       "      <td>0.1910</td>\n",
       "      <td>-7.491</td>\n",
       "      <td>Major</td>\n",
       "      <td>0.0314</td>\n",
       "      <td>97.506</td>\n",
       "      <td>4/4</td>\n",
       "      <td>0.539</td>\n",
       "    </tr>\n",
       "    <tr>\n",
       "      <th>40666</th>\n",
       "      <td>Folk</td>\n",
       "      <td>Peter Bradley Adams</td>\n",
       "      <td>My Arms Were Always Around You</td>\n",
       "      <td>02a2RQEICEzbdPPYh0aLnJ</td>\n",
       "      <td>68</td>\n",
       "      <td>0.7240</td>\n",
       "      <td>0.643</td>\n",
       "      <td>200800</td>\n",
       "      <td>0.436</td>\n",
       "      <td>0.459000</td>\n",
       "      <td>C#</td>\n",
       "      <td>0.1100</td>\n",
       "      <td>-12.245</td>\n",
       "      <td>Major</td>\n",
       "      <td>0.0273</td>\n",
       "      <td>91.485</td>\n",
       "      <td>4/4</td>\n",
       "      <td>0.422</td>\n",
       "    </tr>\n",
       "    <tr>\n",
       "      <th>...</th>\n",
       "      <td>...</td>\n",
       "      <td>...</td>\n",
       "      <td>...</td>\n",
       "      <td>...</td>\n",
       "      <td>...</td>\n",
       "      <td>...</td>\n",
       "      <td>...</td>\n",
       "      <td>...</td>\n",
       "      <td>...</td>\n",
       "      <td>...</td>\n",
       "      <td>...</td>\n",
       "      <td>...</td>\n",
       "      <td>...</td>\n",
       "      <td>...</td>\n",
       "      <td>...</td>\n",
       "      <td>...</td>\n",
       "      <td>...</td>\n",
       "      <td>...</td>\n",
       "    </tr>\n",
       "    <tr>\n",
       "      <th>112103</th>\n",
       "      <td>Pop</td>\n",
       "      <td>Mat Kearney</td>\n",
       "      <td>Money</td>\n",
       "      <td>7zb2TzZwpXuBJutFIqS6lA</td>\n",
       "      <td>61</td>\n",
       "      <td>0.7100</td>\n",
       "      <td>0.740</td>\n",
       "      <td>149560</td>\n",
       "      <td>0.622</td>\n",
       "      <td>0.000122</td>\n",
       "      <td>C#</td>\n",
       "      <td>0.1800</td>\n",
       "      <td>-5.492</td>\n",
       "      <td>Minor</td>\n",
       "      <td>0.0306</td>\n",
       "      <td>93.985</td>\n",
       "      <td>4/4</td>\n",
       "      <td>0.759</td>\n",
       "    </tr>\n",
       "    <tr>\n",
       "      <th>41122</th>\n",
       "      <td>Folk</td>\n",
       "      <td>Local Natives</td>\n",
       "      <td>When Am I Gonna Lose You</td>\n",
       "      <td>7ze7X8r4fopBs9ZRtwYFOX</td>\n",
       "      <td>59</td>\n",
       "      <td>0.0417</td>\n",
       "      <td>0.452</td>\n",
       "      <td>264213</td>\n",
       "      <td>0.834</td>\n",
       "      <td>0.000360</td>\n",
       "      <td>B</td>\n",
       "      <td>0.1190</td>\n",
       "      <td>-4.657</td>\n",
       "      <td>Major</td>\n",
       "      <td>0.0967</td>\n",
       "      <td>142.088</td>\n",
       "      <td>4/4</td>\n",
       "      <td>0.514</td>\n",
       "    </tr>\n",
       "    <tr>\n",
       "      <th>113662</th>\n",
       "      <td>Pop</td>\n",
       "      <td>Local Natives</td>\n",
       "      <td>When Am I Gonna Lose You</td>\n",
       "      <td>7ze7X8r4fopBs9ZRtwYFOX</td>\n",
       "      <td>59</td>\n",
       "      <td>0.0417</td>\n",
       "      <td>0.452</td>\n",
       "      <td>264213</td>\n",
       "      <td>0.834</td>\n",
       "      <td>0.000360</td>\n",
       "      <td>B</td>\n",
       "      <td>0.1190</td>\n",
       "      <td>-4.657</td>\n",
       "      <td>Major</td>\n",
       "      <td>0.0967</td>\n",
       "      <td>142.088</td>\n",
       "      <td>4/4</td>\n",
       "      <td>0.514</td>\n",
       "    </tr>\n",
       "    <tr>\n",
       "      <th>41038</th>\n",
       "      <td>Folk</td>\n",
       "      <td>Norah Jones</td>\n",
       "      <td>Sunrise</td>\n",
       "      <td>7zkLpY72g6lKQbiHDqri1S</td>\n",
       "      <td>70</td>\n",
       "      <td>0.9410</td>\n",
       "      <td>0.526</td>\n",
       "      <td>200627</td>\n",
       "      <td>0.299</td>\n",
       "      <td>0.097000</td>\n",
       "      <td>G#</td>\n",
       "      <td>0.1060</td>\n",
       "      <td>-13.797</td>\n",
       "      <td>Major</td>\n",
       "      <td>0.0310</td>\n",
       "      <td>156.848</td>\n",
       "      <td>4/4</td>\n",
       "      <td>0.679</td>\n",
       "    </tr>\n",
       "    <tr>\n",
       "      <th>150542</th>\n",
       "      <td>Pop</td>\n",
       "      <td>Norah Jones</td>\n",
       "      <td>Sunrise</td>\n",
       "      <td>7zkLpY72g6lKQbiHDqri1S</td>\n",
       "      <td>70</td>\n",
       "      <td>0.9410</td>\n",
       "      <td>0.526</td>\n",
       "      <td>200627</td>\n",
       "      <td>0.299</td>\n",
       "      <td>0.097000</td>\n",
       "      <td>G#</td>\n",
       "      <td>0.1060</td>\n",
       "      <td>-13.797</td>\n",
       "      <td>Major</td>\n",
       "      <td>0.0310</td>\n",
       "      <td>156.848</td>\n",
       "      <td>4/4</td>\n",
       "      <td>0.679</td>\n",
       "    </tr>\n",
       "  </tbody>\n",
       "</table>\n",
       "<p>1424 rows × 18 columns</p>\n",
       "</div>"
      ],
      "text/plain": [
       "       genre          artist_name                      track_name  \\\n",
       "40627   Folk     Seals and Crofts                   Summer Breeze   \n",
       "111238   Pop     Seals and Crofts                   Summer Breeze   \n",
       "41219   Folk          The Zombies           This Will Be Our Year   \n",
       "113906   Pop          The Zombies           This Will Be Our Year   \n",
       "40666   Folk  Peter Bradley Adams  My Arms Were Always Around You   \n",
       "...      ...                  ...                             ...   \n",
       "112103   Pop          Mat Kearney                           Money   \n",
       "41122   Folk        Local Natives        When Am I Gonna Lose You   \n",
       "113662   Pop        Local Natives        When Am I Gonna Lose You   \n",
       "41038   Folk          Norah Jones                         Sunrise   \n",
       "150542   Pop          Norah Jones                         Sunrise   \n",
       "\n",
       "                      track_id  popularity  acousticness  danceability  \\\n",
       "40627   01UYpHuzHi4eB9PAbDoPY2          71        0.6110         0.501   \n",
       "111238  01UYpHuzHi4eB9PAbDoPY2          71        0.6110         0.501   \n",
       "41219   02KpkaZbiutsR0ucxce4Sh          65        0.6260         0.535   \n",
       "113906  02KpkaZbiutsR0ucxce4Sh          65        0.6260         0.535   \n",
       "40666   02a2RQEICEzbdPPYh0aLnJ          68        0.7240         0.643   \n",
       "...                        ...         ...           ...           ...   \n",
       "112103  7zb2TzZwpXuBJutFIqS6lA          61        0.7100         0.740   \n",
       "41122   7ze7X8r4fopBs9ZRtwYFOX          59        0.0417         0.452   \n",
       "113662  7ze7X8r4fopBs9ZRtwYFOX          59        0.0417         0.452   \n",
       "41038   7zkLpY72g6lKQbiHDqri1S          70        0.9410         0.526   \n",
       "150542  7zkLpY72g6lKQbiHDqri1S          70        0.9410         0.526   \n",
       "\n",
       "        duration_ms  energy  instrumentalness key  liveness  loudness   mode  \\\n",
       "40627        203967   0.474          0.029800   F    0.0667   -10.041  Major   \n",
       "111238       203967   0.474          0.029800   F    0.0667   -10.041  Major   \n",
       "41219        127733   0.424          0.000000   A    0.1910    -7.491  Major   \n",
       "113906       127733   0.424          0.000000   A    0.1910    -7.491  Major   \n",
       "40666        200800   0.436          0.459000  C#    0.1100   -12.245  Major   \n",
       "...             ...     ...               ...  ..       ...       ...    ...   \n",
       "112103       149560   0.622          0.000122  C#    0.1800    -5.492  Minor   \n",
       "41122        264213   0.834          0.000360   B    0.1190    -4.657  Major   \n",
       "113662       264213   0.834          0.000360   B    0.1190    -4.657  Major   \n",
       "41038        200627   0.299          0.097000  G#    0.1060   -13.797  Major   \n",
       "150542       200627   0.299          0.097000  G#    0.1060   -13.797  Major   \n",
       "\n",
       "        speechiness    tempo time_signature  valence  \n",
       "40627        0.0386   88.609            4/4    0.350  \n",
       "111238       0.0386   88.609            4/4    0.350  \n",
       "41219        0.0314   97.506            4/4    0.539  \n",
       "113906       0.0314   97.506            4/4    0.539  \n",
       "40666        0.0273   91.485            4/4    0.422  \n",
       "...             ...      ...            ...      ...  \n",
       "112103       0.0306   93.985            4/4    0.759  \n",
       "41122        0.0967  142.088            4/4    0.514  \n",
       "113662       0.0967  142.088            4/4    0.514  \n",
       "41038        0.0310  156.848            4/4    0.679  \n",
       "150542       0.0310  156.848            4/4    0.679  \n",
       "\n",
       "[1424 rows x 18 columns]"
      ]
     },
     "metadata": {},
     "output_type": "display_data"
    }
   ],
   "source": [
    "ids = df[\"track_id\"]\n",
    ">>> dup_df = df[ids.isin(ids[ids.duplicated()])].sort_values(\"track_id\")\n",
    "display(dup_df)"
   ]
  },
  {
   "cell_type": "code",
   "execution_count": 11,
   "id": "53d12820",
   "metadata": {
    "execution": {
     "iopub.execute_input": "2022-08-18T10:03:21.760598Z",
     "iopub.status.busy": "2022-08-18T10:03:21.759432Z",
     "iopub.status.idle": "2022-08-18T10:03:21.795637Z",
     "shell.execute_reply": "2022-08-18T10:03:21.794404Z"
    },
    "papermill": {
     "duration": 0.053259,
     "end_time": "2022-08-18T10:03:21.798605",
     "exception": false,
     "start_time": "2022-08-18T10:03:21.745346",
     "status": "completed"
    },
    "tags": []
   },
   "outputs": [],
   "source": [
    "# Remove every track which is duplicated\n",
    "df = df.drop_duplicates(subset = [\"track_id\"], keep=False)\n",
    "# Remove duplicates in the only duplicates dataframe and assign half to Pop and half to Folk\n",
    "dup_df = dup_df.drop_duplicates(subset = [\"track_id\"])\n",
    "part_50 = dup_df.sample(frac = 0.5)\n",
    "rest_part_50 = dup_df.drop(part_50.index)\n",
    "part_50 = part_50.assign(genre = 'Pop')\n",
    "rest_part_50 = rest_part_50.assign(genre = 'Folk')\n",
    "df = pd.concat([df, part_50, rest_part_50])"
   ]
  },
  {
   "cell_type": "code",
   "execution_count": 12,
   "id": "e2bfb972",
   "metadata": {
    "execution": {
     "iopub.execute_input": "2022-08-18T10:03:21.825749Z",
     "iopub.status.busy": "2022-08-18T10:03:21.825054Z",
     "iopub.status.idle": "2022-08-18T10:03:21.849424Z",
     "shell.execute_reply": "2022-08-18T10:03:21.848174Z"
    },
    "papermill": {
     "duration": 0.041046,
     "end_time": "2022-08-18T10:03:21.852303",
     "exception": false,
     "start_time": "2022-08-18T10:03:21.811257",
     "status": "completed"
    },
    "tags": []
   },
   "outputs": [
    {
     "data": {
      "text/html": [
       "<div>\n",
       "<style scoped>\n",
       "    .dataframe tbody tr th:only-of-type {\n",
       "        vertical-align: middle;\n",
       "    }\n",
       "\n",
       "    .dataframe tbody tr th {\n",
       "        vertical-align: top;\n",
       "    }\n",
       "\n",
       "    .dataframe thead th {\n",
       "        text-align: right;\n",
       "    }\n",
       "</style>\n",
       "<table border=\"1\" class=\"dataframe\">\n",
       "  <thead>\n",
       "    <tr style=\"text-align: right;\">\n",
       "      <th></th>\n",
       "      <th>genre</th>\n",
       "      <th>artist_name</th>\n",
       "      <th>track_name</th>\n",
       "      <th>track_id</th>\n",
       "      <th>popularity</th>\n",
       "      <th>acousticness</th>\n",
       "      <th>danceability</th>\n",
       "      <th>duration_ms</th>\n",
       "      <th>energy</th>\n",
       "      <th>instrumentalness</th>\n",
       "      <th>key</th>\n",
       "      <th>liveness</th>\n",
       "      <th>loudness</th>\n",
       "      <th>mode</th>\n",
       "      <th>speechiness</th>\n",
       "      <th>tempo</th>\n",
       "      <th>time_signature</th>\n",
       "      <th>valence</th>\n",
       "    </tr>\n",
       "  </thead>\n",
       "  <tbody>\n",
       "  </tbody>\n",
       "</table>\n",
       "</div>"
      ],
      "text/plain": [
       "Empty DataFrame\n",
       "Columns: [genre, artist_name, track_name, track_id, popularity, acousticness, danceability, duration_ms, energy, instrumentalness, key, liveness, loudness, mode, speechiness, tempo, time_signature, valence]\n",
       "Index: []"
      ]
     },
     "execution_count": 12,
     "metadata": {},
     "output_type": "execute_result"
    }
   ],
   "source": [
    "ids = df[\"track_id\"]\n",
    ">>> df[ids.isin(ids[ids.duplicated()])].sort_values(\"track_id\")"
   ]
  },
  {
   "cell_type": "code",
   "execution_count": 13,
   "id": "9e5897fd",
   "metadata": {
    "execution": {
     "iopub.execute_input": "2022-08-18T10:03:21.880455Z",
     "iopub.status.busy": "2022-08-18T10:03:21.879618Z",
     "iopub.status.idle": "2022-08-18T10:03:21.901146Z",
     "shell.execute_reply": "2022-08-18T10:03:21.899692Z"
    },
    "papermill": {
     "duration": 0.039004,
     "end_time": "2022-08-18T10:03:21.903833",
     "exception": false,
     "start_time": "2022-08-18T10:03:21.864829",
     "status": "completed"
    },
    "tags": []
   },
   "outputs": [
    {
     "name": "stdout",
     "output_type": "stream",
     "text": [
      "Classical Tracks number: 9252\n",
      "Pop Tracks number: 9030\n",
      "Folk Tracks number: 8946\n",
      "Total Tracks number: 27228\n"
     ]
    }
   ],
   "source": [
    "print(\"Classical Tracks number: %s\" % len(df[df['genre'] == 'Classical']));\n",
    "print(\"Pop Tracks number: %s\" % len(df[df['genre'] == 'Pop']));\n",
    "print(\"Folk Tracks number: %s\" % len(df[df['genre'] == 'Folk']));\n",
    "\n",
    "print(\"Total Tracks number: %s\" % len(df));"
   ]
  },
  {
   "cell_type": "code",
   "execution_count": 14,
   "id": "a09e2647",
   "metadata": {
    "execution": {
     "iopub.execute_input": "2022-08-18T10:03:21.931420Z",
     "iopub.status.busy": "2022-08-18T10:03:21.930531Z",
     "iopub.status.idle": "2022-08-18T10:03:22.335202Z",
     "shell.execute_reply": "2022-08-18T10:03:22.333924Z"
    },
    "papermill": {
     "duration": 0.421728,
     "end_time": "2022-08-18T10:03:22.338033",
     "exception": false,
     "start_time": "2022-08-18T10:03:21.916305",
     "status": "completed"
    },
    "tags": []
   },
   "outputs": [
    {
     "data": {
      "text/plain": [
       "Text(0.5, 1.0, 'Key usage for every genre')"
      ]
     },
     "execution_count": 14,
     "metadata": {},
     "output_type": "execute_result"
    },
    {
     "data": {
      "image/png": "[encoded data removed]",
      "text/plain": [
       "<Figure size 1584x432 with 1 Axes>"
      ]
     },
     "metadata": {
      "needs_background": "light"
     },
     "output_type": "display_data"
    }
   ],
   "source": [
    "plt.figure(figsize=(22, 6))\n",
    "sns.countplot(x = 'key', hue = 'genre', data = df)\n",
    "plt.title('Key usage for every genre')\n",
    "# This is the distribution of key usage for every genre, I decided at the end to drop this and the mode\n",
    "# features since they don't have much meaning in a genre prediction"
   ]
  },
  {
   "cell_type": "code",
   "execution_count": 15,
   "id": "4bc0cccb",
   "metadata": {
    "execution": {
     "iopub.execute_input": "2022-08-18T10:03:22.366637Z",
     "iopub.status.busy": "2022-08-18T10:03:22.365914Z",
     "iopub.status.idle": "2022-08-18T10:03:22.505434Z",
     "shell.execute_reply": "2022-08-18T10:03:22.504426Z"
    },
    "papermill": {
     "duration": 0.156876,
     "end_time": "2022-08-18T10:03:22.508127",
     "exception": false,
     "start_time": "2022-08-18T10:03:22.351251",
     "status": "completed"
    },
    "tags": []
   },
   "outputs": [
    {
     "data": {
      "text/html": [
       "<div>\n",
       "<style scoped>\n",
       "    .dataframe tbody tr th:only-of-type {\n",
       "        vertical-align: middle;\n",
       "    }\n",
       "\n",
       "    .dataframe tbody tr th {\n",
       "        vertical-align: top;\n",
       "    }\n",
       "\n",
       "    .dataframe thead th {\n",
       "        text-align: right;\n",
       "    }\n",
       "</style>\n",
       "<table border=\"1\" class=\"dataframe\">\n",
       "  <thead>\n",
       "    <tr style=\"text-align: right;\">\n",
       "      <th></th>\n",
       "      <th>genre</th>\n",
       "      <th>acousticness</th>\n",
       "      <th>danceability</th>\n",
       "      <th>energy</th>\n",
       "      <th>instrumentalness</th>\n",
       "      <th>liveness</th>\n",
       "      <th>loudness</th>\n",
       "      <th>speechiness</th>\n",
       "      <th>tempo</th>\n",
       "      <th>valence</th>\n",
       "      <th>time_signature_3</th>\n",
       "      <th>time_signature_4</th>\n",
       "      <th>time_signature_5</th>\n",
       "    </tr>\n",
       "  </thead>\n",
       "  <tbody>\n",
       "    <tr>\n",
       "      <th>126796</th>\n",
       "      <td>Classical</td>\n",
       "      <td>0.992</td>\n",
       "      <td>0.294</td>\n",
       "      <td>0.00625</td>\n",
       "      <td>0.827000</td>\n",
       "      <td>0.1330</td>\n",
       "      <td>-29.636</td>\n",
       "      <td>0.0575</td>\n",
       "      <td>66.553</td>\n",
       "      <td>0.0545</td>\n",
       "      <td>0</td>\n",
       "      <td>0</td>\n",
       "      <td>1</td>\n",
       "    </tr>\n",
       "    <tr>\n",
       "      <th>64335</th>\n",
       "      <td>Folk</td>\n",
       "      <td>0.450</td>\n",
       "      <td>0.740</td>\n",
       "      <td>0.46700</td>\n",
       "      <td>0.000005</td>\n",
       "      <td>0.0968</td>\n",
       "      <td>-6.828</td>\n",
       "      <td>0.0325</td>\n",
       "      <td>134.033</td>\n",
       "      <td>0.3520</td>\n",
       "      <td>0</td>\n",
       "      <td>1</td>\n",
       "      <td>0</td>\n",
       "    </tr>\n",
       "    <tr>\n",
       "      <th>130317</th>\n",
       "      <td>Classical</td>\n",
       "      <td>0.984</td>\n",
       "      <td>0.363</td>\n",
       "      <td>0.03800</td>\n",
       "      <td>0.899000</td>\n",
       "      <td>0.0533</td>\n",
       "      <td>-36.400</td>\n",
       "      <td>0.0329</td>\n",
       "      <td>105.890</td>\n",
       "      <td>0.2680</td>\n",
       "      <td>0</td>\n",
       "      <td>1</td>\n",
       "      <td>0</td>\n",
       "    </tr>\n",
       "    <tr>\n",
       "      <th>40626</th>\n",
       "      <td>Folk</td>\n",
       "      <td>0.600</td>\n",
       "      <td>0.334</td>\n",
       "      <td>0.47200</td>\n",
       "      <td>0.000004</td>\n",
       "      <td>0.3170</td>\n",
       "      <td>-8.792</td>\n",
       "      <td>0.0277</td>\n",
       "      <td>179.167</td>\n",
       "      <td>0.4310</td>\n",
       "      <td>1</td>\n",
       "      <td>0</td>\n",
       "      <td>0</td>\n",
       "    </tr>\n",
       "    <tr>\n",
       "      <th>63006</th>\n",
       "      <td>Folk</td>\n",
       "      <td>0.933</td>\n",
       "      <td>0.465</td>\n",
       "      <td>0.17900</td>\n",
       "      <td>0.001270</td>\n",
       "      <td>0.1140</td>\n",
       "      <td>-13.524</td>\n",
       "      <td>0.0338</td>\n",
       "      <td>128.742</td>\n",
       "      <td>0.2190</td>\n",
       "      <td>1</td>\n",
       "      <td>0</td>\n",
       "      <td>0</td>\n",
       "    </tr>\n",
       "  </tbody>\n",
       "</table>\n",
       "</div>"
      ],
      "text/plain": [
       "            genre  acousticness  danceability   energy  instrumentalness  \\\n",
       "126796  Classical         0.992         0.294  0.00625          0.827000   \n",
       "64335        Folk         0.450         0.740  0.46700          0.000005   \n",
       "130317  Classical         0.984         0.363  0.03800          0.899000   \n",
       "40626        Folk         0.600         0.334  0.47200          0.000004   \n",
       "63006        Folk         0.933         0.465  0.17900          0.001270   \n",
       "\n",
       "        liveness  loudness  speechiness    tempo  valence  time_signature_3  \\\n",
       "126796    0.1330   -29.636       0.0575   66.553   0.0545                 0   \n",
       "64335     0.0968    -6.828       0.0325  134.033   0.3520                 0   \n",
       "130317    0.0533   -36.400       0.0329  105.890   0.2680                 0   \n",
       "40626     0.3170    -8.792       0.0277  179.167   0.4310                 1   \n",
       "63006     0.1140   -13.524       0.0338  128.742   0.2190                 1   \n",
       "\n",
       "        time_signature_4  time_signature_5  \n",
       "126796                 0                 1  \n",
       "64335                  1                 0  \n",
       "130317                 1                 0  \n",
       "40626                  0                 0  \n",
       "63006                  0                 0  "
      ]
     },
     "metadata": {},
     "output_type": "display_data"
    }
   ],
   "source": [
    "# Let's now remove the unnecessary features\n",
    "new_df = df.drop(['artist_name','track_name','track_id','popularity','key','mode','duration_ms'],axis = 1)\n",
    "# Make a one hot encoding of the time signature\n",
    "new_df.time_signature = new_df.time_signature.map( {'3/4':3 , '4/4':4, '5/4':5} )\n",
    "new_df = pd.get_dummies(data= new_df, columns=['time_signature'])\n",
    "# Shuffle the dataset\n",
    "from sklearn.utils import shuffle\n",
    "new_df = shuffle(new_df)\n",
    "display(new_df.head())"
   ]
  },
  {
   "cell_type": "code",
   "execution_count": 16,
   "id": "29c1b0a8",
   "metadata": {
    "execution": {
     "iopub.execute_input": "2022-08-18T10:03:22.536497Z",
     "iopub.status.busy": "2022-08-18T10:03:22.535969Z",
     "iopub.status.idle": "2022-08-18T10:03:22.542851Z",
     "shell.execute_reply": "2022-08-18T10:03:22.542039Z"
    },
    "papermill": {
     "duration": 0.023509,
     "end_time": "2022-08-18T10:03:22.544975",
     "exception": false,
     "start_time": "2022-08-18T10:03:22.521466",
     "status": "completed"
    },
    "tags": []
   },
   "outputs": [
    {
     "data": {
      "text/plain": [
       "Index(['acousticness', 'danceability', 'energy', 'instrumentalness',\n",
       "       'liveness', 'loudness', 'speechiness', 'tempo', 'valence',\n",
       "       'time_signature_3', 'time_signature_4', 'time_signature_5'],\n",
       "      dtype='object')"
      ]
     },
     "metadata": {},
     "output_type": "display_data"
    }
   ],
   "source": [
    "features = new_df.keys().drop(['genre']);\n",
    "display(features)"
   ]
  },
  {
   "cell_type": "code",
   "execution_count": 17,
   "id": "116abcef",
   "metadata": {
    "execution": {
     "iopub.execute_input": "2022-08-18T10:03:22.572703Z",
     "iopub.status.busy": "2022-08-18T10:03:22.572300Z",
     "iopub.status.idle": "2022-08-18T10:03:22.619215Z",
     "shell.execute_reply": "2022-08-18T10:03:22.618064Z"
    },
    "papermill": {
     "duration": 0.063706,
     "end_time": "2022-08-18T10:03:22.621746",
     "exception": false,
     "start_time": "2022-08-18T10:03:22.558040",
     "status": "completed"
    },
    "tags": []
   },
   "outputs": [
    {
     "data": {
      "text/html": [
       "<div>\n",
       "<style scoped>\n",
       "    .dataframe tbody tr th:only-of-type {\n",
       "        vertical-align: middle;\n",
       "    }\n",
       "\n",
       "    .dataframe tbody tr th {\n",
       "        vertical-align: top;\n",
       "    }\n",
       "\n",
       "    .dataframe thead th {\n",
       "        text-align: right;\n",
       "    }\n",
       "</style>\n",
       "<table border=\"1\" class=\"dataframe\">\n",
       "  <thead>\n",
       "    <tr style=\"text-align: right;\">\n",
       "      <th></th>\n",
       "      <th>acousticness</th>\n",
       "      <th>danceability</th>\n",
       "      <th>energy</th>\n",
       "      <th>instrumentalness</th>\n",
       "      <th>liveness</th>\n",
       "      <th>loudness</th>\n",
       "      <th>speechiness</th>\n",
       "      <th>tempo</th>\n",
       "      <th>valence</th>\n",
       "      <th>time_signature_3</th>\n",
       "      <th>time_signature_4</th>\n",
       "      <th>time_signature_5</th>\n",
       "    </tr>\n",
       "  </thead>\n",
       "  <tbody>\n",
       "    <tr>\n",
       "      <th>128588</th>\n",
       "      <td>0.3460</td>\n",
       "      <td>0.0742</td>\n",
       "      <td>0.219</td>\n",
       "      <td>0.874000</td>\n",
       "      <td>0.1570</td>\n",
       "      <td>-17.794</td>\n",
       "      <td>0.0385</td>\n",
       "      <td>76.742</td>\n",
       "      <td>0.0359</td>\n",
       "      <td>1</td>\n",
       "      <td>0</td>\n",
       "      <td>0</td>\n",
       "    </tr>\n",
       "    <tr>\n",
       "      <th>126393</th>\n",
       "      <td>0.9340</td>\n",
       "      <td>0.1870</td>\n",
       "      <td>0.182</td>\n",
       "      <td>0.392000</td>\n",
       "      <td>0.1110</td>\n",
       "      <td>-15.519</td>\n",
       "      <td>0.0439</td>\n",
       "      <td>92.731</td>\n",
       "      <td>0.0856</td>\n",
       "      <td>0</td>\n",
       "      <td>1</td>\n",
       "      <td>0</td>\n",
       "    </tr>\n",
       "    <tr>\n",
       "      <th>43076</th>\n",
       "      <td>0.9260</td>\n",
       "      <td>0.6150</td>\n",
       "      <td>0.114</td>\n",
       "      <td>0.000004</td>\n",
       "      <td>0.1660</td>\n",
       "      <td>-17.285</td>\n",
       "      <td>0.0357</td>\n",
       "      <td>101.189</td>\n",
       "      <td>0.4010</td>\n",
       "      <td>0</td>\n",
       "      <td>1</td>\n",
       "      <td>0</td>\n",
       "    </tr>\n",
       "    <tr>\n",
       "      <th>108698</th>\n",
       "      <td>0.0599</td>\n",
       "      <td>0.6540</td>\n",
       "      <td>0.528</td>\n",
       "      <td>0.000071</td>\n",
       "      <td>0.0975</td>\n",
       "      <td>-6.224</td>\n",
       "      <td>0.0412</td>\n",
       "      <td>82.014</td>\n",
       "      <td>0.3760</td>\n",
       "      <td>0</td>\n",
       "      <td>1</td>\n",
       "      <td>0</td>\n",
       "    </tr>\n",
       "    <tr>\n",
       "      <th>104112</th>\n",
       "      <td>0.9330</td>\n",
       "      <td>0.4150</td>\n",
       "      <td>0.137</td>\n",
       "      <td>0.001840</td>\n",
       "      <td>0.5090</td>\n",
       "      <td>-17.273</td>\n",
       "      <td>0.0486</td>\n",
       "      <td>76.363</td>\n",
       "      <td>0.1680</td>\n",
       "      <td>0</td>\n",
       "      <td>1</td>\n",
       "      <td>0</td>\n",
       "    </tr>\n",
       "  </tbody>\n",
       "</table>\n",
       "</div>"
      ],
      "text/plain": [
       "        acousticness  danceability  energy  instrumentalness  liveness  \\\n",
       "128588        0.3460        0.0742   0.219          0.874000    0.1570   \n",
       "126393        0.9340        0.1870   0.182          0.392000    0.1110   \n",
       "43076         0.9260        0.6150   0.114          0.000004    0.1660   \n",
       "108698        0.0599        0.6540   0.528          0.000071    0.0975   \n",
       "104112        0.9330        0.4150   0.137          0.001840    0.5090   \n",
       "\n",
       "        loudness  speechiness    tempo  valence  time_signature_3  \\\n",
       "128588   -17.794       0.0385   76.742   0.0359                 1   \n",
       "126393   -15.519       0.0439   92.731   0.0856                 0   \n",
       "43076    -17.285       0.0357  101.189   0.4010                 0   \n",
       "108698    -6.224       0.0412   82.014   0.3760                 0   \n",
       "104112   -17.273       0.0486   76.363   0.1680                 0   \n",
       "\n",
       "        time_signature_4  time_signature_5  \n",
       "128588                 0                 0  \n",
       "126393                 1                 0  \n",
       "43076                  1                 0  \n",
       "108698                 1                 0  \n",
       "104112                 1                 0  "
      ]
     },
     "metadata": {},
     "output_type": "display_data"
    },
    {
     "data": {
      "text/plain": [
       "128588    0\n",
       "126393    0\n",
       "43076     2\n",
       "108698    1\n",
       "104112    0\n",
       "Name: genre, dtype: int64"
      ]
     },
     "metadata": {},
     "output_type": "display_data"
    }
   ],
   "source": [
    "# Let's divide the label (genre) from the rest of the dataset and divide the dataset in a training and a testing dataset\n",
    "new_df.genre = new_df.genre.map( {'Classical':0 , 'Pop':1, 'Folk':2} )\n",
    "training = new_df.sample(frac = 0.8,random_state = 420)\n",
    "X_train = training[features]\n",
    "y_train = training['genre']\n",
    "X_test = new_df.drop(training.index)[features]\n",
    "y_test = new_df.drop(training.index)['genre']\n",
    "display(X_train.head())\n",
    "display(y_train.head())"
   ]
  },
  {
   "cell_type": "code",
   "execution_count": 18,
   "id": "64c06826",
   "metadata": {
    "_kg_hide-input": true,
    "execution": {
     "iopub.execute_input": "2022-08-18T10:03:22.651114Z",
     "iopub.status.busy": "2022-08-18T10:03:22.650336Z",
     "iopub.status.idle": "2022-08-18T10:03:22.734245Z",
     "shell.execute_reply": "2022-08-18T10:03:22.732877Z"
    },
    "papermill": {
     "duration": 0.101472,
     "end_time": "2022-08-18T10:03:22.736845",
     "exception": false,
     "start_time": "2022-08-18T10:03:22.635373",
     "status": "completed"
    },
    "tags": []
   },
   "outputs": [
    {
     "data": {
      "text/html": [
       "<div>\n",
       "<style scoped>\n",
       "    .dataframe tbody tr th:only-of-type {\n",
       "        vertical-align: middle;\n",
       "    }\n",
       "\n",
       "    .dataframe tbody tr th {\n",
       "        vertical-align: top;\n",
       "    }\n",
       "\n",
       "    .dataframe thead th {\n",
       "        text-align: right;\n",
       "    }\n",
       "</style>\n",
       "<table border=\"1\" class=\"dataframe\">\n",
       "  <thead>\n",
       "    <tr style=\"text-align: right;\">\n",
       "      <th></th>\n",
       "      <th>acousticness</th>\n",
       "      <th>danceability</th>\n",
       "      <th>energy</th>\n",
       "      <th>instrumentalness</th>\n",
       "      <th>liveness</th>\n",
       "      <th>loudness</th>\n",
       "      <th>speechiness</th>\n",
       "      <th>tempo</th>\n",
       "      <th>valence</th>\n",
       "      <th>time_signature_3</th>\n",
       "      <th>time_signature_4</th>\n",
       "      <th>time_signature_5</th>\n",
       "    </tr>\n",
       "  </thead>\n",
       "  <tbody>\n",
       "    <tr>\n",
       "      <th>128588</th>\n",
       "      <td>0.347389</td>\n",
       "      <td>0.017528</td>\n",
       "      <td>0.219423</td>\n",
       "      <td>0.879276</td>\n",
       "      <td>0.143846</td>\n",
       "      <td>0.382062</td>\n",
       "      <td>0.017664</td>\n",
       "      <td>0.209950</td>\n",
       "      <td>0.036447</td>\n",
       "      <td>1.0</td>\n",
       "      <td>0.0</td>\n",
       "      <td>0.0</td>\n",
       "    </tr>\n",
       "    <tr>\n",
       "      <th>126393</th>\n",
       "      <td>0.937751</td>\n",
       "      <td>0.141104</td>\n",
       "      <td>0.182348</td>\n",
       "      <td>0.394366</td>\n",
       "      <td>0.097017</td>\n",
       "      <td>0.334895</td>\n",
       "      <td>0.023515</td>\n",
       "      <td>0.288873</td>\n",
       "      <td>0.086904</td>\n",
       "      <td>0.0</td>\n",
       "      <td>1.0</td>\n",
       "      <td>0.0</td>\n",
       "    </tr>\n",
       "    <tr>\n",
       "      <th>43076</th>\n",
       "      <td>0.929719</td>\n",
       "      <td>0.609991</td>\n",
       "      <td>0.114210</td>\n",
       "      <td>0.000004</td>\n",
       "      <td>0.153008</td>\n",
       "      <td>0.371509</td>\n",
       "      <td>0.014629</td>\n",
       "      <td>0.330622</td>\n",
       "      <td>0.407107</td>\n",
       "      <td>0.0</td>\n",
       "      <td>1.0</td>\n",
       "      <td>0.0</td>\n",
       "    </tr>\n",
       "    <tr>\n",
       "      <th>108698</th>\n",
       "      <td>0.060139</td>\n",
       "      <td>0.652717</td>\n",
       "      <td>0.529049</td>\n",
       "      <td>0.000072</td>\n",
       "      <td>0.083274</td>\n",
       "      <td>0.142185</td>\n",
       "      <td>0.020590</td>\n",
       "      <td>0.235973</td>\n",
       "      <td>0.381726</td>\n",
       "      <td>0.0</td>\n",
       "      <td>1.0</td>\n",
       "      <td>0.0</td>\n",
       "    </tr>\n",
       "    <tr>\n",
       "      <th>104112</th>\n",
       "      <td>0.936747</td>\n",
       "      <td>0.390885</td>\n",
       "      <td>0.137257</td>\n",
       "      <td>0.001851</td>\n",
       "      <td>0.502189</td>\n",
       "      <td>0.371260</td>\n",
       "      <td>0.028609</td>\n",
       "      <td>0.208079</td>\n",
       "      <td>0.170558</td>\n",
       "      <td>0.0</td>\n",
       "      <td>1.0</td>\n",
       "      <td>0.0</td>\n",
       "    </tr>\n",
       "  </tbody>\n",
       "</table>\n",
       "</div>"
      ],
      "text/plain": [
       "        acousticness  danceability    energy  instrumentalness  liveness  \\\n",
       "128588      0.347389      0.017528  0.219423          0.879276  0.143846   \n",
       "126393      0.937751      0.141104  0.182348          0.394366  0.097017   \n",
       "43076       0.929719      0.609991  0.114210          0.000004  0.153008   \n",
       "108698      0.060139      0.652717  0.529049          0.000072  0.083274   \n",
       "104112      0.936747      0.390885  0.137257          0.001851  0.502189   \n",
       "\n",
       "        loudness  speechiness     tempo   valence  time_signature_3  \\\n",
       "128588  0.382062     0.017664  0.209950  0.036447               1.0   \n",
       "126393  0.334895     0.023515  0.288873  0.086904               0.0   \n",
       "43076   0.371509     0.014629  0.330622  0.407107               0.0   \n",
       "108698  0.142185     0.020590  0.235973  0.381726               0.0   \n",
       "104112  0.371260     0.028609  0.208079  0.170558               0.0   \n",
       "\n",
       "        time_signature_4  time_signature_5  \n",
       "128588               0.0               0.0  \n",
       "126393               1.0               0.0  \n",
       "43076                1.0               0.0  \n",
       "108698               1.0               0.0  \n",
       "104112               1.0               0.0  "
      ]
     },
     "metadata": {},
     "output_type": "display_data"
    },
    {
     "data": {
      "text/html": [
       "<div>\n",
       "<style scoped>\n",
       "    .dataframe tbody tr th:only-of-type {\n",
       "        vertical-align: middle;\n",
       "    }\n",
       "\n",
       "    .dataframe tbody tr th {\n",
       "        vertical-align: top;\n",
       "    }\n",
       "\n",
       "    .dataframe thead th {\n",
       "        text-align: right;\n",
       "    }\n",
       "</style>\n",
       "<table border=\"1\" class=\"dataframe\">\n",
       "  <thead>\n",
       "    <tr style=\"text-align: right;\">\n",
       "      <th></th>\n",
       "      <th>acousticness</th>\n",
       "      <th>danceability</th>\n",
       "      <th>energy</th>\n",
       "      <th>instrumentalness</th>\n",
       "      <th>liveness</th>\n",
       "      <th>loudness</th>\n",
       "      <th>speechiness</th>\n",
       "      <th>tempo</th>\n",
       "      <th>valence</th>\n",
       "      <th>time_signature_3</th>\n",
       "      <th>time_signature_4</th>\n",
       "      <th>time_signature_5</th>\n",
       "    </tr>\n",
       "  </thead>\n",
       "  <tbody>\n",
       "    <tr>\n",
       "      <th>126796</th>\n",
       "      <td>0.995984</td>\n",
       "      <td>0.258326</td>\n",
       "      <td>0.006242</td>\n",
       "      <td>0.831992</td>\n",
       "      <td>0.119414</td>\n",
       "      <td>0.627579</td>\n",
       "      <td>0.038253</td>\n",
       "      <td>0.159657</td>\n",
       "      <td>0.055330</td>\n",
       "      <td>0.0</td>\n",
       "      <td>0.0</td>\n",
       "      <td>1.0</td>\n",
       "    </tr>\n",
       "    <tr>\n",
       "      <th>126739</th>\n",
       "      <td>0.867470</td>\n",
       "      <td>0.140009</td>\n",
       "      <td>0.389767</td>\n",
       "      <td>0.001489</td>\n",
       "      <td>0.141810</td>\n",
       "      <td>0.129517</td>\n",
       "      <td>0.011812</td>\n",
       "      <td>0.526292</td>\n",
       "      <td>0.219289</td>\n",
       "      <td>0.0</td>\n",
       "      <td>0.0</td>\n",
       "      <td>1.0</td>\n",
       "    </tr>\n",
       "    <tr>\n",
       "      <th>109834</th>\n",
       "      <td>0.014657</td>\n",
       "      <td>0.837862</td>\n",
       "      <td>0.769534</td>\n",
       "      <td>0.000001</td>\n",
       "      <td>0.113306</td>\n",
       "      <td>0.141895</td>\n",
       "      <td>0.064694</td>\n",
       "      <td>0.398897</td>\n",
       "      <td>0.219289</td>\n",
       "      <td>0.0</td>\n",
       "      <td>1.0</td>\n",
       "      <td>0.0</td>\n",
       "    </tr>\n",
       "    <tr>\n",
       "      <th>127163</th>\n",
       "      <td>0.956827</td>\n",
       "      <td>0.142200</td>\n",
       "      <td>0.102186</td>\n",
       "      <td>0.000000</td>\n",
       "      <td>0.173369</td>\n",
       "      <td>0.388883</td>\n",
       "      <td>0.011595</td>\n",
       "      <td>0.267485</td>\n",
       "      <td>0.155330</td>\n",
       "      <td>1.0</td>\n",
       "      <td>0.0</td>\n",
       "      <td>0.0</td>\n",
       "    </tr>\n",
       "    <tr>\n",
       "      <th>126417</th>\n",
       "      <td>0.975904</td>\n",
       "      <td>0.027607</td>\n",
       "      <td>0.035952</td>\n",
       "      <td>0.975855</td>\n",
       "      <td>0.087855</td>\n",
       "      <td>0.606701</td>\n",
       "      <td>0.016147</td>\n",
       "      <td>0.235904</td>\n",
       "      <td>0.038782</td>\n",
       "      <td>0.0</td>\n",
       "      <td>1.0</td>\n",
       "      <td>0.0</td>\n",
       "    </tr>\n",
       "  </tbody>\n",
       "</table>\n",
       "</div>"
      ],
      "text/plain": [
       "        acousticness  danceability    energy  instrumentalness  liveness  \\\n",
       "126796      0.995984      0.258326  0.006242          0.831992  0.119414   \n",
       "126739      0.867470      0.140009  0.389767          0.001489  0.141810   \n",
       "109834      0.014657      0.837862  0.769534          0.000001  0.113306   \n",
       "127163      0.956827      0.142200  0.102186          0.000000  0.173369   \n",
       "126417      0.975904      0.027607  0.035952          0.975855  0.087855   \n",
       "\n",
       "        loudness  speechiness     tempo   valence  time_signature_3  \\\n",
       "126796  0.627579     0.038253  0.159657  0.055330               0.0   \n",
       "126739  0.129517     0.011812  0.526292  0.219289               0.0   \n",
       "109834  0.141895     0.064694  0.398897  0.219289               0.0   \n",
       "127163  0.388883     0.011595  0.267485  0.155330               1.0   \n",
       "126417  0.606701     0.016147  0.235904  0.038782               0.0   \n",
       "\n",
       "        time_signature_4  time_signature_5  \n",
       "126796               0.0               1.0  \n",
       "126739               0.0               1.0  \n",
       "109834               1.0               0.0  \n",
       "127163               0.0               0.0  \n",
       "126417               1.0               0.0  "
      ]
     },
     "metadata": {},
     "output_type": "display_data"
    }
   ],
   "source": [
    "# Let's do a MinMaxScaling of the dataset to make all the features in [0,1]\n",
    "from sklearn.preprocessing import MinMaxScaler\n",
    "pd.options.mode.chained_assignment = None  # default='warn'\n",
    "scaler = MinMaxScaler()\n",
    "# Loudness goes from -60 to 0 db, I will convert it to a positive value before normalizing it \n",
    "X_train['loudness'] *= -1\n",
    "X_train = pd.DataFrame(scaler.fit_transform(X_train), index=X_train.index, columns=X_train.columns)\n",
    "display(X_train.head())\n",
    "X_test['loudness'] *= -1\n",
    "X_test = pd.DataFrame(scaler.transform(X_test), index=X_test.index, columns=X_test.columns)\n",
    "display(X_test.head())"
   ]
  },
  {
   "cell_type": "code",
   "execution_count": 19,
   "id": "fde66021",
   "metadata": {
    "execution": {
     "iopub.execute_input": "2022-08-18T10:03:22.766910Z",
     "iopub.status.busy": "2022-08-18T10:03:22.766517Z",
     "iopub.status.idle": "2022-08-18T10:03:23.108537Z",
     "shell.execute_reply": "2022-08-18T10:03:23.107370Z"
    },
    "papermill": {
     "duration": 0.360186,
     "end_time": "2022-08-18T10:03:23.111060",
     "exception": false,
     "start_time": "2022-08-18T10:03:22.750874",
     "status": "completed"
    },
    "tags": []
   },
   "outputs": [
    {
     "data": {
      "image/png": "[encoded data removed]",
      "text/plain": [
       "<Figure size 1584x432 with 1 Axes>"
      ]
     },
     "metadata": {
      "needs_background": "light"
     },
     "output_type": "display_data"
    }
   ],
   "source": [
    "# Let's check the distribution of the various countinuous features\n",
    "plt.figure(figsize=(22, 6))\n",
    "ax = sns.boxplot(data=X_train.drop([\"time_signature_3\",\"time_signature_4\",\"time_signature_5\"], axis=1), palette=\"Set2\")"
   ]
  },
  {
   "cell_type": "code",
   "execution_count": 20,
   "id": "d206c8c9",
   "metadata": {
    "execution": {
     "iopub.execute_input": "2022-08-18T10:03:23.142271Z",
     "iopub.status.busy": "2022-08-18T10:03:23.141471Z",
     "iopub.status.idle": "2022-08-18T10:03:24.143182Z",
     "shell.execute_reply": "2022-08-18T10:03:24.141752Z"
    },
    "papermill": {
     "duration": 1.020258,
     "end_time": "2022-08-18T10:03:24.145752",
     "exception": false,
     "start_time": "2022-08-18T10:03:23.125494",
     "status": "completed"
    },
    "tags": []
   },
   "outputs": [
    {
     "data": {
      "image/png": "[encoded data removed]",
      "text/plain": [
       "<Figure size 1584x432 with 1 Axes>"
      ]
     },
     "metadata": {
      "needs_background": "light"
     },
     "output_type": "display_data"
    },
    {
     "data": {
      "image/png": "[encoded data removed]",
      "text/plain": [
       "<Figure size 720x720 with 4 Axes>"
      ]
     },
     "metadata": {
      "needs_background": "light"
     },
     "output_type": "display_data"
    }
   ],
   "source": [
    "# We see that liveness, loudness, speechiness and tempo do have some HLPs on the upper values\n",
    "plt.figure(figsize=(22, 6))\n",
    "features_nout = [\"time_signature_3\",\"time_signature_4\",\"time_signature_5\",\"acousticness\",\"danceability\",\"energy\",\"instrumentalness\",\"valence\"]\n",
    "ax = sns.boxplot(data=X_train.drop(features_nout, axis=1), palette=\"Set2\")\n",
    "fig, axes = plt.subplots(4,1, figsize=(10, 10), sharey=False)\n",
    "fig.suptitle('Distribution of some continuous variables')\n",
    "sns.histplot(x= 'liveness', data = X_train, palette = 'Set2', ax = axes[0], bins = 10)\n",
    "axes[0].set_title(\"\")\n",
    "sns.histplot(x= 'loudness', data = X_train, palette = 'Set2', ax = axes[1], bins = 10)\n",
    "axes[1].set_title(\"\")\n",
    "sns.histplot(x= 'speechiness', data = X_train, palette = 'Set2', ax = axes[2], bins = 10)\n",
    "axes[2].set_title(\"\")\n",
    "sns.histplot(x= 'tempo', data = X_train, palette = 'Set2', ax = axes[3], bins = 10)\n",
    "axes[3].set_title(\"\")\n",
    "plt.tight_layout()"
   ]
  },
  {
   "cell_type": "code",
   "execution_count": 21,
   "id": "1841231e",
   "metadata": {
    "execution": {
     "iopub.execute_input": "2022-08-18T10:03:24.179969Z",
     "iopub.status.busy": "2022-08-18T10:03:24.179549Z",
     "iopub.status.idle": "2022-08-18T10:03:24.474216Z",
     "shell.execute_reply": "2022-08-18T10:03:24.472801Z"
    },
    "papermill": {
     "duration": 0.315117,
     "end_time": "2022-08-18T10:03:24.477210",
     "exception": false,
     "start_time": "2022-08-18T10:03:24.162093",
     "status": "completed"
    },
    "tags": []
   },
   "outputs": [
    {
     "name": "stdout",
     "output_type": "stream",
     "text": [
      "Total Tracks number before: 21782\n",
      "Total Tracks number after: 20923\n"
     ]
    },
    {
     "data": {
      "image/png": "[encoded data removed]",
      "text/plain": [
       "<Figure size 1584x432 with 1 Axes>"
      ]
     },
     "metadata": {
      "needs_background": "light"
     },
     "output_type": "display_data"
    }
   ],
   "source": [
    "# removing HLPs\n",
    "print(\"Total Tracks number before: %s\" % len(X_train));\n",
    "X_train['genre'] = y_train\n",
    "threshold = 0.01\n",
    "for col in ['liveness', 'loudness', 'speechiness', 'tempo']:\n",
    "    upper_threshold = X_train[col].quantile(1 - threshold)\n",
    "    X_train = X_train[(X_train[col] <= upper_threshold)]\n",
    "\n",
    "features = new_df.keys().drop(['genre']);\n",
    "y_train = X_train['genre']\n",
    "X_train = X_train[features]\n",
    "    \n",
    "plt.figure(figsize=(22, 6))\n",
    "features_nout = [\"time_signature_3\",\"time_signature_4\",\"time_signature_5\",\"acousticness\",\"danceability\",\"energy\",\"instrumentalness\",\"valence\"]\n",
    "ax = sns.boxplot(data=X_train.drop(features_nout, axis=1), palette=\"Set2\")\n",
    "print(\"Total Tracks number after: %s\" % len(X_train));"
   ]
  },
  {
   "cell_type": "code",
   "execution_count": 22,
   "id": "ec4b9374",
   "metadata": {
    "execution": {
     "iopub.execute_input": "2022-08-18T10:03:24.511783Z",
     "iopub.status.busy": "2022-08-18T10:03:24.511353Z",
     "iopub.status.idle": "2022-08-18T10:03:24.806078Z",
     "shell.execute_reply": "2022-08-18T10:03:24.804894Z"
    },
    "papermill": {
     "duration": 0.315599,
     "end_time": "2022-08-18T10:03:24.809168",
     "exception": false,
     "start_time": "2022-08-18T10:03:24.493569",
     "status": "completed"
    },
    "tags": []
   },
   "outputs": [],
   "source": [
    "# Let's split the training set in training and a development set (here called validation)\n",
    "from sklearn.model_selection import train_test_split\n",
    "from sklearn.linear_model import LogisticRegression\n",
    "from sklearn.metrics import make_scorer, accuracy_score, roc_auc_score \n",
    "X_train, X_valid, y_train, y_valid = train_test_split(X_train, y_train, test_size = 0.2, random_state = 1)"
   ]
  },
  {
   "cell_type": "code",
   "execution_count": 23,
   "id": "2a6beba0",
   "metadata": {
    "execution": {
     "iopub.execute_input": "2022-08-18T10:03:24.842615Z",
     "iopub.status.busy": "2022-08-18T10:03:24.841954Z",
     "iopub.status.idle": "2022-08-18T10:03:25.328588Z",
     "shell.execute_reply": "2022-08-18T10:03:25.327373Z"
    },
    "papermill": {
     "duration": 0.506417,
     "end_time": "2022-08-18T10:03:25.331277",
     "exception": false,
     "start_time": "2022-08-18T10:03:24.824860",
     "status": "completed"
    },
    "tags": []
   },
   "outputs": [
    {
     "data": {
      "image/png": "[encoded data removed]",
      "text/plain": [
       "<Figure size 792x1080 with 2 Axes>"
      ]
     },
     "metadata": {
      "needs_background": "light"
     },
     "output_type": "display_data"
    }
   ],
   "source": [
    "corr_heatmap(X_train.drop([\"time_signature_3\",\"time_signature_4\",\"time_signature_5\"], axis=1))"
   ]
  },
  {
   "cell_type": "code",
   "execution_count": 24,
   "id": "34ccab1a",
   "metadata": {
    "execution": {
     "iopub.execute_input": "2022-08-18T10:03:25.366986Z",
     "iopub.status.busy": "2022-08-18T10:03:25.365955Z",
     "iopub.status.idle": "2022-08-18T10:03:25.371933Z",
     "shell.execute_reply": "2022-08-18T10:03:25.371098Z"
    },
    "papermill": {
     "duration": 0.026651,
     "end_time": "2022-08-18T10:03:25.374479",
     "exception": false,
     "start_time": "2022-08-18T10:03:25.347828",
     "status": "completed"
    },
    "tags": []
   },
   "outputs": [],
   "source": [
    "# Currently the ‘multinomial’ option is supported only by the ‘lbfgs’, ‘sag’, ‘saga’ and ‘newton-cg’ solvers.\n",
    "# http://scikit-learn.org/stable/modules/generated/sklearn.linear_model.LogisticRegression.html#sklearn.linear_model.LogisticRegression\n",
    "param_grid = [    \n",
    "    {'penalty' : ['l2', 'none'],\n",
    "    'C' : np.logspace(-4, 4, 20),\n",
    "    'solver' : ['lbfgs','newton-cg', 'sag', 'saga'],\n",
    "    'max_iter' : [100, 1000,2500, 5000]\n",
    "    }\n",
    "]"
   ]
  },
  {
   "cell_type": "code",
   "execution_count": 25,
   "id": "6b2fafb0",
   "metadata": {
    "execution": {
     "iopub.execute_input": "2022-08-18T10:03:25.410055Z",
     "iopub.status.busy": "2022-08-18T10:03:25.409295Z",
     "iopub.status.idle": "2022-08-18T10:03:25.413457Z",
     "shell.execute_reply": "2022-08-18T10:03:25.412485Z"
    },
    "papermill": {
     "duration": 0.024416,
     "end_time": "2022-08-18T10:03:25.415620",
     "exception": false,
     "start_time": "2022-08-18T10:03:25.391204",
     "status": "completed"
    },
    "tags": []
   },
   "outputs": [],
   "source": [
    "#from sklearn.model_selection import GridSearchCV\n",
    "#clf = GridSearchCV(LogisticRegression(multi_class = 'multinomial'), param_grid = param_grid, verbose=10, n_jobs=-1, error_score=\"raise\")\n",
    "#best_clf = clf.fit(X_train, y_train)"
   ]
  },
  {
   "cell_type": "code",
   "execution_count": 26,
   "id": "9e9a2d91",
   "metadata": {
    "execution": {
     "iopub.execute_input": "2022-08-18T10:03:25.450662Z",
     "iopub.status.busy": "2022-08-18T10:03:25.449940Z",
     "iopub.status.idle": "2022-08-18T10:03:25.453762Z",
     "shell.execute_reply": "2022-08-18T10:03:25.453016Z"
    },
    "papermill": {
     "duration": 0.023916,
     "end_time": "2022-08-18T10:03:25.456048",
     "exception": false,
     "start_time": "2022-08-18T10:03:25.432132",
     "status": "completed"
    },
    "tags": []
   },
   "outputs": [],
   "source": [
    "#print(best_clf.best_estimator_)\n",
    "#print(best_clf.cv_results_)\n",
    "#print (f'Accuracy - : {best_clf.score(X_train, y_train):.3f}')"
   ]
  },
  {
   "cell_type": "code",
   "execution_count": 27,
   "id": "9584bd94",
   "metadata": {
    "execution": {
     "iopub.execute_input": "2022-08-18T10:03:25.490738Z",
     "iopub.status.busy": "2022-08-18T10:03:25.490312Z",
     "iopub.status.idle": "2022-08-18T10:03:27.377679Z",
     "shell.execute_reply": "2022-08-18T10:03:27.376075Z"
    },
    "papermill": {
     "duration": 1.909342,
     "end_time": "2022-08-18T10:03:27.381889",
     "exception": false,
     "start_time": "2022-08-18T10:03:25.472547",
     "status": "completed"
    },
    "tags": []
   },
   "outputs": [
    {
     "data": {
      "text/plain": [
       "LogisticRegression(C=78.47599703514607, multi_class='multinomial',\n",
       "                   solver='newton-cg')"
      ]
     },
     "execution_count": 27,
     "metadata": {},
     "output_type": "execute_result"
    }
   ],
   "source": [
    "# Thanks to GridSearch we know that the best choice is LogisticRegression(C=78.47599703514607, multi_class='multinomial', solver='newton-cg')\n",
    "model = LogisticRegression(C=78.47599703514607, multi_class='multinomial', solver='newton-cg')\n",
    "model.fit(X_train, y_train)"
   ]
  },
  {
   "cell_type": "code",
   "execution_count": 28,
   "id": "842fe2ff",
   "metadata": {
    "execution": {
     "iopub.execute_input": "2022-08-18T10:03:27.465364Z",
     "iopub.status.busy": "2022-08-18T10:03:27.464655Z",
     "iopub.status.idle": "2022-08-18T10:03:27.496074Z",
     "shell.execute_reply": "2022-08-18T10:03:27.494805Z"
    },
    "papermill": {
     "duration": 0.076277,
     "end_time": "2022-08-18T10:03:27.498788",
     "exception": false,
     "start_time": "2022-08-18T10:03:27.422511",
     "status": "completed"
    },
    "tags": []
   },
   "outputs": [
    {
     "name": "stdout",
     "output_type": "stream",
     "text": [
      "              precision    recall  f1-score   support\n",
      "\n",
      "           0       0.92      0.89      0.91      1398\n",
      "           1       0.79      0.81      0.80      1402\n",
      "           2       0.74      0.74      0.74      1385\n",
      "\n",
      "    accuracy                           0.82      4185\n",
      "   macro avg       0.82      0.82      0.82      4185\n",
      "weighted avg       0.82      0.82      0.82      4185\n",
      "\n"
     ]
    }
   ],
   "source": [
    "y_pred = model.predict(X_valid)\n",
    "from sklearn.metrics import classification_report\n",
    "print(classification_report(y_valid, y_pred))"
   ]
  },
  {
   "cell_type": "code",
   "execution_count": 29,
   "id": "dd29e384",
   "metadata": {
    "execution": {
     "iopub.execute_input": "2022-08-18T10:03:27.534983Z",
     "iopub.status.busy": "2022-08-18T10:03:27.533814Z",
     "iopub.status.idle": "2022-08-18T10:03:28.947467Z",
     "shell.execute_reply": "2022-08-18T10:03:28.946285Z"
    },
    "papermill": {
     "duration": 1.43616,
     "end_time": "2022-08-18T10:03:28.951534",
     "exception": false,
     "start_time": "2022-08-18T10:03:27.515374",
     "status": "completed"
    },
    "tags": []
   },
   "outputs": [
    {
     "name": "stdout",
     "output_type": "stream",
     "text": [
      "              precision    recall  f1-score   support\n",
      "\n",
      "           0       0.90      0.89      0.90      1398\n",
      "           1       0.77      0.76      0.76      1402\n",
      "           2       0.70      0.73      0.71      1385\n",
      "\n",
      "    accuracy                           0.79      4185\n",
      "   macro avg       0.79      0.79      0.79      4185\n",
      "weighted avg       0.79      0.79      0.79      4185\n",
      "\n"
     ]
    }
   ],
   "source": [
    "# Let's try without loudness\n",
    "X_train_loudness = X_train.drop(['loudness'], axis=1)\n",
    "X_valid_loudness = X_valid.drop(['loudness'], axis=1)\n",
    "lrm_cor = LogisticRegression(C=78.47599703514607, multi_class='multinomial',solver='newton-cg').fit(X_train_loudness, y_train)\n",
    "print(classification_report(y_valid, lrm_cor.predict(X_valid_loudness)))"
   ]
  },
  {
   "cell_type": "code",
   "execution_count": 30,
   "id": "53850551",
   "metadata": {
    "execution": {
     "iopub.execute_input": "2022-08-18T10:03:29.036813Z",
     "iopub.status.busy": "2022-08-18T10:03:29.036098Z",
     "iopub.status.idle": "2022-08-18T10:03:30.409658Z",
     "shell.execute_reply": "2022-08-18T10:03:30.407817Z"
    },
    "papermill": {
     "duration": 1.420366,
     "end_time": "2022-08-18T10:03:30.412819",
     "exception": false,
     "start_time": "2022-08-18T10:03:28.992453",
     "status": "completed"
    },
    "tags": []
   },
   "outputs": [
    {
     "name": "stdout",
     "output_type": "stream",
     "text": [
      "              precision    recall  f1-score   support\n",
      "\n",
      "           0       0.92      0.89      0.90      1398\n",
      "           1       0.79      0.80      0.79      1402\n",
      "           2       0.73      0.75      0.74      1385\n",
      "\n",
      "    accuracy                           0.81      4185\n",
      "   macro avg       0.81      0.81      0.81      4185\n",
      "weighted avg       0.81      0.81      0.81      4185\n",
      "\n"
     ]
    }
   ],
   "source": [
    "# Let's try without energy\n",
    "X_train_energy = X_train.drop(['energy'], axis=1)\n",
    "X_valid_energy = X_valid.drop(['energy'], axis=1)\n",
    "lrm_cor = LogisticRegression(C=78.47599703514607, multi_class='multinomial',solver='newton-cg').fit(X_train_energy, y_train)\n",
    "print(classification_report(y_valid, lrm_cor.predict(X_valid_energy)))"
   ]
  },
  {
   "cell_type": "code",
   "execution_count": 31,
   "id": "eeaa6fc4",
   "metadata": {
    "execution": {
     "iopub.execute_input": "2022-08-18T10:03:30.499404Z",
     "iopub.status.busy": "2022-08-18T10:03:30.498714Z",
     "iopub.status.idle": "2022-08-18T10:03:31.877529Z",
     "shell.execute_reply": "2022-08-18T10:03:31.875886Z"
    },
    "papermill": {
     "duration": 1.430834,
     "end_time": "2022-08-18T10:03:31.885587",
     "exception": false,
     "start_time": "2022-08-18T10:03:30.454753",
     "status": "completed"
    },
    "tags": []
   },
   "outputs": [
    {
     "name": "stdout",
     "output_type": "stream",
     "text": [
      "              precision    recall  f1-score   support\n",
      "\n",
      "           0       0.92      0.89      0.90      1398\n",
      "           1       0.79      0.80      0.80      1402\n",
      "           2       0.73      0.75      0.74      1385\n",
      "\n",
      "    accuracy                           0.81      4185\n",
      "   macro avg       0.81      0.81      0.81      4185\n",
      "weighted avg       0.81      0.81      0.81      4185\n",
      "\n"
     ]
    }
   ],
   "source": [
    "# Let's try without acousticness\n",
    "X_train_acousticness = X_train.drop(['acousticness'], axis=1)\n",
    "X_valid_acousticness = X_valid.drop(['acousticness'], axis=1)\n",
    "lrm_cor = LogisticRegression(C=78.47599703514607, multi_class='multinomial',solver='newton-cg').fit(X_train_acousticness, y_train)\n",
    "print(classification_report(y_valid, lrm_cor.predict(X_valid_acousticness)))"
   ]
  },
  {
   "cell_type": "code",
   "execution_count": 32,
   "id": "b31197c3",
   "metadata": {
    "execution": {
     "iopub.execute_input": "2022-08-18T10:03:31.972322Z",
     "iopub.status.busy": "2022-08-18T10:03:31.971160Z",
     "iopub.status.idle": "2022-08-18T10:03:33.896234Z",
     "shell.execute_reply": "2022-08-18T10:03:33.894994Z"
    },
    "papermill": {
     "duration": 1.972287,
     "end_time": "2022-08-18T10:03:33.900399",
     "exception": false,
     "start_time": "2022-08-18T10:03:31.928112",
     "status": "completed"
    },
    "tags": []
   },
   "outputs": [
    {
     "name": "stdout",
     "output_type": "stream",
     "text": [
      "              precision    recall  f1-score   support\n",
      "\n",
      "           0       0.90      0.89      0.90      1833\n",
      "           1       0.79      0.81      0.80      1791\n",
      "           2       0.74      0.74      0.74      1822\n",
      "\n",
      "    accuracy                           0.81      5446\n",
      "   macro avg       0.81      0.81      0.81      5446\n",
      "weighted avg       0.81      0.81      0.81      5446\n",
      "\n"
     ]
    }
   ],
   "source": [
    "# The accuracy changes between 0.81 and 0.79 in every situation, I'm going to just keep those features\n",
    "# I will now test the data with X_test and y_test\n",
    "X_train = pd.concat([X_train, X_valid])\n",
    "y_train = pd.concat([y_train, y_valid])\n",
    "X_train, y_train = shuffle(X_train, y_train)\n",
    "model = LogisticRegression(C=78.47599703514607, multi_class='multinomial', solver='newton-cg')\n",
    "model.fit(X_train, y_train)\n",
    "y_pred = model.predict(X_test)\n",
    "print(classification_report(y_test, y_pred))"
   ]
  },
  {
   "cell_type": "code",
   "execution_count": 33,
   "id": "c44c0c99",
   "metadata": {
    "execution": {
     "iopub.execute_input": "2022-08-18T10:03:33.986825Z",
     "iopub.status.busy": "2022-08-18T10:03:33.986420Z",
     "iopub.status.idle": "2022-08-18T10:03:34.006789Z",
     "shell.execute_reply": "2022-08-18T10:03:34.005763Z"
    },
    "papermill": {
     "duration": 0.066361,
     "end_time": "2022-08-18T10:03:34.009317",
     "exception": false,
     "start_time": "2022-08-18T10:03:33.942956",
     "status": "completed"
    },
    "tags": []
   },
   "outputs": [],
   "source": [
    "# We see that the accuracy doesn't change much\n",
    "# We'll now try to get to the same result with a Neural Network\n",
    "from sklearn.neural_network import MLPClassifier\n",
    "X_train, X_valid, y_train, y_valid = train_test_split(X_train, y_train, test_size = 0.2, random_state = 1)\n",
    "mlp_gs = MLPClassifier()\n",
    "parameter_space = {\n",
    "    'hidden_layer_sizes': [(100, 100), (100, 100, 100), (100, 100, 100, 100)],\n",
    "    'activation': ['tanh', 'relu'],\n",
    "    'solver': ['sgd','adam'],\n",
    "    'alpha': [0.0001, 0.001, 0.01, 0.1],\n",
    "    'max_iter': [500]\n",
    "}\n",
    "#from sklearn.model_selection import GridSearchCV\n",
    "#from sklearn.metrics import classification_report\n",
    "#clf = GridSearchCV(mlp_gs, parameter_space, n_jobs=-1, cv=5, scoring='accuracy', verbose=10, error_score=\"raise\")\n",
    "#best_clf = clf.fit(X_train, y_train) # X is train samples and t is the corresponding labels\n",
    "\n",
    "# best score achieved during the GridSearchCV\n",
    "#print('GridSearch CV best score : {:.4f}\\n\\n'.format(clf.best_score_))\n",
    "\n",
    "# print parameters that give the best results\n",
    "#print('Parameters that give the best results :','\\n\\n', (clf.best_params_))\n",
    "\n",
    "# print estimator that was chosen by the GridSearch\n",
    "#print('\\n\\nEstimator that was chosen by the search :','\\n\\n', (clf.best_estimator_))\n",
    "\n",
    "# %% [code]\n",
    "# calculate GridSearch CV score on test set\n",
    "#t_pred = clf.predict(X_valid)\n",
    "\n",
    "#print('Model classification report with GridSearcg CV: \\n', classification_report(y_valid, t_pred))"
   ]
  },
  {
   "cell_type": "code",
   "execution_count": 34,
   "id": "45c76470",
   "metadata": {
    "execution": {
     "iopub.execute_input": "2022-08-18T10:03:34.046332Z",
     "iopub.status.busy": "2022-08-18T10:03:34.045584Z",
     "iopub.status.idle": "2022-08-18T10:03:34.057711Z",
     "shell.execute_reply": "2022-08-18T10:03:34.056656Z"
    },
    "papermill": {
     "duration": 0.033629,
     "end_time": "2022-08-18T10:03:34.060330",
     "exception": false,
     "start_time": "2022-08-18T10:03:34.026701",
     "status": "completed"
    },
    "tags": []
   },
   "outputs": [],
   "source": [
    "# With GridSearch we can see that the estimatore whioch gives the best result is\n",
    "# MLPClassifier(alpha=0.01, hidden_layer_sizes=(100, 100), max_iter=500)\n",
    "# I will now perform a second Grid Search with hyperparameters more similar to the ones just found\n",
    "# and with early stopping in order to be more precise\n",
    "# I will merge train and valid sets and test on the testing set\n",
    "X_train = pd.concat([X_train, X_valid])\n",
    "y_train = pd.concat([y_train, y_valid])\n",
    "X_train, y_train = shuffle(X_train, y_train)\n",
    "parameter_space = {\n",
    "    'hidden_layer_sizes': [(100, 100), (100, 150), (150, 150)],\n",
    "    'activation': ['relu'],\n",
    "    'solver': ['adam'],\n",
    "    'alpha': [0.01, 0.02, 0.04, 0.08],\n",
    "    'early_stopping': [True, False],\n",
    "    'max_iter': [500]\n",
    "}\n",
    "#from sklearn.model_selection import GridSearchCV\n",
    "#from sklearn.metrics import classification_report\n",
    "#clf = GridSearchCV(mlp_gs, parameter_space, n_jobs=-1, cv=5, scoring='accuracy', verbose=10, error_score=\"raise\")\n",
    "#best_clf = clf.fit(X_train, y_train) # X is train samples and t is the corresponding labels\n",
    "\n",
    "# best score achieved during the GridSearchCV\n",
    "#print('GridSearch CV best score : {:.4f}\\n\\n'.format(clf.best_score_))\n",
    "\n",
    "# print parameters that give the best results\n",
    "#print('Parameters that give the best results :','\\n\\n', (clf.best_params_))\n",
    "\n",
    "# print estimator that was chosen by the GridSearch\n",
    "#print('\\n\\nEstimator that was chosen by the search :','\\n\\n', (clf.best_estimator_))\n",
    "\n",
    "# %% [code]\n",
    "# calculate GridSearch CV score on test set\n",
    "#t_pred = clf.predict(X_test)\n",
    "\n",
    "#print('Model classification report with GridSearcg CV: \\n', classification_report(y_test, t_pred))\n",
    "#GridSearch_table_plot(best_clf, \"hidden_layer_sizes\", negative=False)"
   ]
  },
  {
   "cell_type": "code",
   "execution_count": 35,
   "id": "74269861",
   "metadata": {
    "execution": {
     "iopub.execute_input": "2022-08-18T10:03:34.096122Z",
     "iopub.status.busy": "2022-08-18T10:03:34.095400Z",
     "iopub.status.idle": "2022-08-18T10:03:49.716153Z",
     "shell.execute_reply": "2022-08-18T10:03:49.714299Z"
    },
    "papermill": {
     "duration": 15.644053,
     "end_time": "2022-08-18T10:03:49.721379",
     "exception": false,
     "start_time": "2022-08-18T10:03:34.077326",
     "status": "completed"
    },
    "tags": []
   },
   "outputs": [],
   "source": [
    "# Thanks to GridSearch we know that the best choice is MLPClassifier(alpha=0.01, hidden_layer_sizes=(150, 150), max_iter=500)\n",
    "# However from observing the results we notice that the first result with early stopping doesn't give a very different accuracy result, so for the sake of having\n",
    "# a lower computational cost model I'm going to use that MLPClassifier(alpha=0.01, hidden_layer_sizes=(100, 100), max_iter=500, early_stopping=True)\n",
    "clf = MLPClassifier(alpha=0.01, hidden_layer_sizes=(100, 100), max_iter=500, early_stopping=True).fit(X_train.to_numpy(), y_train.to_numpy())\n",
    "y_pred=clf.predict(X_train.to_numpy())"
   ]
  },
  {
   "cell_type": "code",
   "execution_count": 36,
   "id": "f7437e8f",
   "metadata": {
    "execution": {
     "iopub.execute_input": "2022-08-18T10:03:49.840878Z",
     "iopub.status.busy": "2022-08-18T10:03:49.840409Z",
     "iopub.status.idle": "2022-08-18T10:03:49.939860Z",
     "shell.execute_reply": "2022-08-18T10:03:49.937816Z"
    },
    "papermill": {
     "duration": 0.164221,
     "end_time": "2022-08-18T10:03:49.959996",
     "exception": false,
     "start_time": "2022-08-18T10:03:49.795775",
     "status": "completed"
    },
    "tags": []
   },
   "outputs": [
    {
     "name": "stdout",
     "output_type": "stream",
     "text": [
      "              precision    recall  f1-score   support\n",
      "\n",
      "           0       0.92      0.92      0.92      1833\n",
      "           1       0.81      0.83      0.82      1791\n",
      "           2       0.77      0.76      0.76      1822\n",
      "\n",
      "    accuracy                           0.83      5446\n",
      "   macro avg       0.83      0.83      0.83      5446\n",
      "weighted avg       0.83      0.83      0.83      5446\n",
      "\n"
     ]
    }
   ],
   "source": [
    "y_pred = clf.predict(X_test.to_numpy())\n",
    "print(classification_report(y_test, y_pred))"
   ]
  }
 ],
 "metadata": {
  "kernelspec": {
   "display_name": "Python 3",
   "language": "python",
   "name": "python3"
  },
  "language_info": {
   "codemirror_mode": {
    "name": "ipython",
    "version": 3
   },
   "file_extension": ".py",
   "mimetype": "text/x-python",
   "name": "python",
   "nbconvert_exporter": "python",
   "pygments_lexer": "ipython3",
   "version": "3.7.12"
  },
  "papermill": {
   "default_parameters": {},
   "duration": 44.235173,
   "end_time": "2022-08-18T10:03:50.922588",
   "environment_variables": {},
   "exception": null,
   "input_path": "__notebook__.ipynb",
   "output_path": "__notebook__.ipynb",
   "parameters": {},
   "start_time": "2022-08-18T10:03:06.687415",
   "version": "2.3.4"
  }
 },
 "nbformat": 4,
 "nbformat_minor": 5
}
