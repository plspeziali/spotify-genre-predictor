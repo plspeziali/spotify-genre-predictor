{
 "cells": [
  {
   "cell_type": "code",
   "execution_count": 1,
   "id": "a144909e",
   "metadata": {
    "execution": {
     "iopub.execute_input": "2022-08-13T21:15:40.723944Z",
     "iopub.status.busy": "2022-08-13T21:15:40.723408Z",
     "iopub.status.idle": "2022-08-13T21:15:41.843992Z",
     "shell.execute_reply": "2022-08-13T21:15:41.842697Z"
    },
    "papermill": {
     "duration": 1.133967,
     "end_time": "2022-08-13T21:15:41.846926",
     "exception": false,
     "start_time": "2022-08-13T21:15:40.712959",
     "status": "completed"
    },
    "tags": []
   },
   "outputs": [],
   "source": [
    "import pandas as pd\n",
    "import seaborn as sns # for data visualization\n",
    "import matplotlib.pyplot as plt\n",
    "import numpy as np\n",
    "def corr_heatmap(data):\n",
    "    corr_matrix = data.corr()\n",
    "    mask = np.zeros_like(corr_matrix, dtype=bool)\n",
    "    mask[np.triu_indices_from(mask)]= True\n",
    "    f, ax = plt.subplots(figsize=(11, 15)) \n",
    "    heatmap = sns.heatmap(corr_matrix, \n",
    "                          mask = mask,\n",
    "                          square = True,\n",
    "                          linewidths = .5,\n",
    "                          cmap = 'coolwarm',\n",
    "                          cbar_kws = {'shrink': .4, \n",
    "                                    'ticks' : [-1, -.5, 0, 0.5, 1]},\n",
    "                          vmin = -1, \n",
    "                          vmax = 1,\n",
    "                          annot = True,\n",
    "                          annot_kws = {'size': 12})#add the column names as labels\n",
    "    ax.set_yticklabels(corr_matrix.columns, rotation = 0)\n",
    "    ax.set_xticklabels(corr_matrix.columns)\n",
    "    sns.set_style({'xtick.bottom': True}, {'ytick.left': True})"
   ]
  },
  {
   "cell_type": "code",
   "execution_count": 2,
   "id": "0ee21920",
   "metadata": {
    "execution": {
     "iopub.execute_input": "2022-08-13T21:15:41.864331Z",
     "iopub.status.busy": "2022-08-13T21:15:41.863860Z",
     "iopub.status.idle": "2022-08-13T21:15:43.536907Z",
     "shell.execute_reply": "2022-08-13T21:15:43.535632Z"
    },
    "papermill": {
     "duration": 1.684566,
     "end_time": "2022-08-13T21:15:43.539269",
     "exception": false,
     "start_time": "2022-08-13T21:15:41.854703",
     "status": "completed"
    },
    "tags": []
   },
   "outputs": [
    {
     "data": {
      "text/html": [
       "<div>\n",
       "<style scoped>\n",
       "    .dataframe tbody tr th:only-of-type {\n",
       "        vertical-align: middle;\n",
       "    }\n",
       "\n",
       "    .dataframe tbody tr th {\n",
       "        vertical-align: top;\n",
       "    }\n",
       "\n",
       "    .dataframe thead th {\n",
       "        text-align: right;\n",
       "    }\n",
       "</style>\n",
       "<table border=\"1\" class=\"dataframe\">\n",
       "  <thead>\n",
       "    <tr style=\"text-align: right;\">\n",
       "      <th></th>\n",
       "      <th>genre</th>\n",
       "      <th>artist_name</th>\n",
       "      <th>track_name</th>\n",
       "      <th>track_id</th>\n",
       "      <th>popularity</th>\n",
       "      <th>acousticness</th>\n",
       "      <th>danceability</th>\n",
       "      <th>duration_ms</th>\n",
       "      <th>energy</th>\n",
       "      <th>instrumentalness</th>\n",
       "      <th>key</th>\n",
       "      <th>liveness</th>\n",
       "      <th>loudness</th>\n",
       "      <th>mode</th>\n",
       "      <th>speechiness</th>\n",
       "      <th>tempo</th>\n",
       "      <th>time_signature</th>\n",
       "      <th>valence</th>\n",
       "    </tr>\n",
       "  </thead>\n",
       "  <tbody>\n",
       "    <tr>\n",
       "      <th>0</th>\n",
       "      <td>Movie</td>\n",
       "      <td>Henri Salvador</td>\n",
       "      <td>C'est beau de faire un Show</td>\n",
       "      <td>0BRjO6ga9RKCKjfDqeFgWV</td>\n",
       "      <td>0</td>\n",
       "      <td>0.611</td>\n",
       "      <td>0.389</td>\n",
       "      <td>99373</td>\n",
       "      <td>0.910</td>\n",
       "      <td>0.000</td>\n",
       "      <td>C#</td>\n",
       "      <td>0.3460</td>\n",
       "      <td>-1.828</td>\n",
       "      <td>Major</td>\n",
       "      <td>0.0525</td>\n",
       "      <td>166.969</td>\n",
       "      <td>4/4</td>\n",
       "      <td>0.814</td>\n",
       "    </tr>\n",
       "    <tr>\n",
       "      <th>1</th>\n",
       "      <td>Movie</td>\n",
       "      <td>Martin &amp; les fées</td>\n",
       "      <td>Perdu d'avance (par Gad Elmaleh)</td>\n",
       "      <td>0BjC1NfoEOOusryehmNudP</td>\n",
       "      <td>1</td>\n",
       "      <td>0.246</td>\n",
       "      <td>0.590</td>\n",
       "      <td>137373</td>\n",
       "      <td>0.737</td>\n",
       "      <td>0.000</td>\n",
       "      <td>F#</td>\n",
       "      <td>0.1510</td>\n",
       "      <td>-5.559</td>\n",
       "      <td>Minor</td>\n",
       "      <td>0.0868</td>\n",
       "      <td>174.003</td>\n",
       "      <td>4/4</td>\n",
       "      <td>0.816</td>\n",
       "    </tr>\n",
       "    <tr>\n",
       "      <th>2</th>\n",
       "      <td>Movie</td>\n",
       "      <td>Joseph Williams</td>\n",
       "      <td>Don't Let Me Be Lonely Tonight</td>\n",
       "      <td>0CoSDzoNIKCRs124s9uTVy</td>\n",
       "      <td>3</td>\n",
       "      <td>0.952</td>\n",
       "      <td>0.663</td>\n",
       "      <td>170267</td>\n",
       "      <td>0.131</td>\n",
       "      <td>0.000</td>\n",
       "      <td>C</td>\n",
       "      <td>0.1030</td>\n",
       "      <td>-13.879</td>\n",
       "      <td>Minor</td>\n",
       "      <td>0.0362</td>\n",
       "      <td>99.488</td>\n",
       "      <td>5/4</td>\n",
       "      <td>0.368</td>\n",
       "    </tr>\n",
       "    <tr>\n",
       "      <th>3</th>\n",
       "      <td>Movie</td>\n",
       "      <td>Henri Salvador</td>\n",
       "      <td>Dis-moi Monsieur Gordon Cooper</td>\n",
       "      <td>0Gc6TVm52BwZD07Ki6tIvf</td>\n",
       "      <td>0</td>\n",
       "      <td>0.703</td>\n",
       "      <td>0.240</td>\n",
       "      <td>152427</td>\n",
       "      <td>0.326</td>\n",
       "      <td>0.000</td>\n",
       "      <td>C#</td>\n",
       "      <td>0.0985</td>\n",
       "      <td>-12.178</td>\n",
       "      <td>Major</td>\n",
       "      <td>0.0395</td>\n",
       "      <td>171.758</td>\n",
       "      <td>4/4</td>\n",
       "      <td>0.227</td>\n",
       "    </tr>\n",
       "    <tr>\n",
       "      <th>4</th>\n",
       "      <td>Movie</td>\n",
       "      <td>Fabien Nataf</td>\n",
       "      <td>Ouverture</td>\n",
       "      <td>0IuslXpMROHdEPvSl1fTQK</td>\n",
       "      <td>4</td>\n",
       "      <td>0.950</td>\n",
       "      <td>0.331</td>\n",
       "      <td>82625</td>\n",
       "      <td>0.225</td>\n",
       "      <td>0.123</td>\n",
       "      <td>F</td>\n",
       "      <td>0.2020</td>\n",
       "      <td>-21.150</td>\n",
       "      <td>Major</td>\n",
       "      <td>0.0456</td>\n",
       "      <td>140.576</td>\n",
       "      <td>4/4</td>\n",
       "      <td>0.390</td>\n",
       "    </tr>\n",
       "  </tbody>\n",
       "</table>\n",
       "</div>"
      ],
      "text/plain": [
       "   genre        artist_name                        track_name  \\\n",
       "0  Movie     Henri Salvador       C'est beau de faire un Show   \n",
       "1  Movie  Martin & les fées  Perdu d'avance (par Gad Elmaleh)   \n",
       "2  Movie    Joseph Williams    Don't Let Me Be Lonely Tonight   \n",
       "3  Movie     Henri Salvador    Dis-moi Monsieur Gordon Cooper   \n",
       "4  Movie       Fabien Nataf                         Ouverture   \n",
       "\n",
       "                 track_id  popularity  acousticness  danceability  \\\n",
       "0  0BRjO6ga9RKCKjfDqeFgWV           0         0.611         0.389   \n",
       "1  0BjC1NfoEOOusryehmNudP           1         0.246         0.590   \n",
       "2  0CoSDzoNIKCRs124s9uTVy           3         0.952         0.663   \n",
       "3  0Gc6TVm52BwZD07Ki6tIvf           0         0.703         0.240   \n",
       "4  0IuslXpMROHdEPvSl1fTQK           4         0.950         0.331   \n",
       "\n",
       "   duration_ms  energy  instrumentalness key  liveness  loudness   mode  \\\n",
       "0        99373   0.910             0.000  C#    0.3460    -1.828  Major   \n",
       "1       137373   0.737             0.000  F#    0.1510    -5.559  Minor   \n",
       "2       170267   0.131             0.000   C    0.1030   -13.879  Minor   \n",
       "3       152427   0.326             0.000  C#    0.0985   -12.178  Major   \n",
       "4        82625   0.225             0.123   F    0.2020   -21.150  Major   \n",
       "\n",
       "   speechiness    tempo time_signature  valence  \n",
       "0       0.0525  166.969            4/4    0.814  \n",
       "1       0.0868  174.003            4/4    0.816  \n",
       "2       0.0362   99.488            5/4    0.368  \n",
       "3       0.0395  171.758            4/4    0.227  \n",
       "4       0.0456  140.576            4/4    0.390  "
      ]
     },
     "metadata": {},
     "output_type": "display_data"
    }
   ],
   "source": [
    "df = pd.read_csv(\"../input/ultimate-spotify-tracks-db/SpotifyFeatures.csv\")\n",
    "display(df.head())"
   ]
  },
  {
   "cell_type": "code",
   "execution_count": 3,
   "id": "abe1de11",
   "metadata": {
    "execution": {
     "iopub.execute_input": "2022-08-13T21:15:43.557686Z",
     "iopub.status.busy": "2022-08-13T21:15:43.556525Z",
     "iopub.status.idle": "2022-08-13T21:15:43.562898Z",
     "shell.execute_reply": "2022-08-13T21:15:43.561463Z"
    },
    "papermill": {
     "duration": 0.018072,
     "end_time": "2022-08-13T21:15:43.565414",
     "exception": false,
     "start_time": "2022-08-13T21:15:43.547342",
     "status": "completed"
    },
    "tags": []
   },
   "outputs": [
    {
     "name": "stdout",
     "output_type": "stream",
     "text": [
      "Index(['genre', 'artist_name', 'track_name', 'track_id', 'popularity',\n",
      "       'acousticness', 'danceability', 'duration_ms', 'energy',\n",
      "       'instrumentalness', 'key', 'liveness', 'loudness', 'mode',\n",
      "       'speechiness', 'tempo', 'time_signature', 'valence'],\n",
      "      dtype='object')\n"
     ]
    }
   ],
   "source": [
    "# Prints the names of the features\n",
    "print(df.keys())"
   ]
  },
  {
   "cell_type": "code",
   "execution_count": 4,
   "id": "12189a78",
   "metadata": {
    "execution": {
     "iopub.execute_input": "2022-08-13T21:15:43.584055Z",
     "iopub.status.busy": "2022-08-13T21:15:43.582659Z",
     "iopub.status.idle": "2022-08-13T21:15:43.666770Z",
     "shell.execute_reply": "2022-08-13T21:15:43.665192Z"
    },
    "papermill": {
     "duration": 0.096718,
     "end_time": "2022-08-13T21:15:43.669915",
     "exception": false,
     "start_time": "2022-08-13T21:15:43.573197",
     "status": "completed"
    },
    "tags": []
   },
   "outputs": [
    {
     "name": "stdout",
     "output_type": "stream",
     "text": [
      "genre               0\n",
      "artist_name         0\n",
      "track_name          0\n",
      "track_id            0\n",
      "popularity          0\n",
      "acousticness        0\n",
      "danceability        0\n",
      "duration_ms         0\n",
      "energy              0\n",
      "instrumentalness    0\n",
      "key                 0\n",
      "liveness            0\n",
      "loudness            0\n",
      "mode                0\n",
      "speechiness         0\n",
      "tempo               0\n",
      "time_signature      0\n",
      "valence             0\n",
      "dtype: int64\n"
     ]
    }
   ],
   "source": [
    "# Let's check for null values\n",
    "print(pd.isnull(df).sum())"
   ]
  },
  {
   "cell_type": "code",
   "execution_count": 5,
   "id": "e1c8573a",
   "metadata": {
    "execution": {
     "iopub.execute_input": "2022-08-13T21:15:43.687394Z",
     "iopub.status.busy": "2022-08-13T21:15:43.686940Z",
     "iopub.status.idle": "2022-08-13T21:15:44.268177Z",
     "shell.execute_reply": "2022-08-13T21:15:44.266552Z"
    },
    "papermill": {
     "duration": 0.59302,
     "end_time": "2022-08-13T21:15:44.270713",
     "exception": false,
     "start_time": "2022-08-13T21:15:43.677693",
     "status": "completed"
    },
    "tags": []
   },
   "outputs": [
    {
     "data": {
      "text/plain": [
       "Text(0.5, 1.0, 'Time Signature Distribution')"
      ]
     },
     "execution_count": 5,
     "metadata": {},
     "output_type": "execute_result"
    },
    {
     "data": {
      "image/png": "[encoded data removed]",
      "text/plain": [
       "<Figure size 432x288 with 1 Axes>"
      ]
     },
     "metadata": {
      "needs_background": "light"
     },
     "output_type": "display_data"
    }
   ],
   "source": [
    "# There are no null values, thus there's no need to perform any kind of operation\n",
    "# in order to handle the missing values\n",
    "sns.histplot(df['time_signature']).set_title('Time Signature Distribution')"
   ]
  },
  {
   "cell_type": "code",
   "execution_count": 6,
   "id": "21921613",
   "metadata": {
    "execution": {
     "iopub.execute_input": "2022-08-13T21:15:44.288962Z",
     "iopub.status.busy": "2022-08-13T21:15:44.288552Z",
     "iopub.status.idle": "2022-08-13T21:15:44.916594Z",
     "shell.execute_reply": "2022-08-13T21:15:44.915480Z"
    },
    "papermill": {
     "duration": 0.640348,
     "end_time": "2022-08-13T21:15:44.919256",
     "exception": false,
     "start_time": "2022-08-13T21:15:44.278908",
     "status": "completed"
    },
    "tags": []
   },
   "outputs": [
    {
     "name": "stdout",
     "output_type": "stream",
     "text": [
      "Tracks with a 0/4 time signature: 8\n"
     ]
    },
    {
     "data": {
      "text/plain": [
       "Text(0.5, 1.0, 'Time Signature Distribution')"
      ]
     },
     "execution_count": 6,
     "metadata": {},
     "output_type": "execute_result"
    },
    {
     "data": {
      "image/png": "[encoded data removed]",
      "text/plain": [
       "<Figure size 432x288 with 1 Axes>"
      ]
     },
     "metadata": {
      "needs_background": "light"
     },
     "output_type": "display_data"
    }
   ],
   "source": [
    "# The samples in the dataframe where the field 'time_signature' is '1/4'\n",
    "# actually represent songs with mostly a 4/4 time signature, since it is\n",
    "# most likely an error by who created the dataframe we're going to change it\n",
    "# to the '4/4' value\n",
    "df['time_signature'] = df['time_signature'].replace(['1/4'],'4/4')\n",
    "\n",
    "print(\"Tracks with a 0/4 time signature: %s\" % len(df[df['time_signature'] == '0/4']));\n",
    "# Since there are just 8 samples with a '0/4' time signature,\n",
    "# and since it is clearly an error, I'm going to simply delete them\n",
    "df = df[df['time_signature'] != '0/4']\n",
    "\n",
    "sns.histplot(df['time_signature']).set_title('Time Signature Distribution')"
   ]
  },
  {
   "cell_type": "code",
   "execution_count": 7,
   "id": "60bc55e3",
   "metadata": {
    "execution": {
     "iopub.execute_input": "2022-08-13T21:15:44.939161Z",
     "iopub.status.busy": "2022-08-13T21:15:44.938665Z",
     "iopub.status.idle": "2022-08-13T21:15:45.619930Z",
     "shell.execute_reply": "2022-08-13T21:15:45.618711Z"
    },
    "papermill": {
     "duration": 0.694164,
     "end_time": "2022-08-13T21:15:45.622353",
     "exception": false,
     "start_time": "2022-08-13T21:15:44.928189",
     "status": "completed"
    },
    "tags": []
   },
   "outputs": [
    {
     "data": {
      "text/plain": [
       "Text(0.5, 1.0, 'Genre Distribution')"
      ]
     },
     "execution_count": 7,
     "metadata": {},
     "output_type": "execute_result"
    },
    {
     "data": {
      "image/png": "[encoded data removed]",
      "text/plain": [
       "<Figure size 1584x432 with 1 Axes>"
      ]
     },
     "metadata": {
      "needs_background": "light"
     },
     "output_type": "display_data"
    }
   ],
   "source": [
    "plt.figure(figsize=(22, 6))\n",
    "sns.histplot(df['genre']).set_title('Genre Distribution')"
   ]
  },
  {
   "cell_type": "code",
   "execution_count": 8,
   "id": "32a1e9ca",
   "metadata": {
    "execution": {
     "iopub.execute_input": "2022-08-13T21:15:45.644231Z",
     "iopub.status.busy": "2022-08-13T21:15:45.642802Z",
     "iopub.status.idle": "2022-08-13T21:15:45.915708Z",
     "shell.execute_reply": "2022-08-13T21:15:45.914040Z"
    },
    "papermill": {
     "duration": 0.286673,
     "end_time": "2022-08-13T21:15:45.918378",
     "exception": false,
     "start_time": "2022-08-13T21:15:45.631705",
     "status": "completed"
    },
    "tags": []
   },
   "outputs": [
    {
     "name": "stdout",
     "output_type": "stream",
     "text": [
      "Classical Tracks number: 9256\n",
      "Pop Tracks number: 9385\n",
      "Folk Tracks number: 9299\n",
      "Total Tracks number: 27940\n"
     ]
    },
    {
     "data": {
      "image/png": "[encoded data removed]",
      "text/plain": [
       "<Figure size 432x288 with 1 Axes>"
      ]
     },
     "metadata": {
      "needs_background": "light"
     },
     "output_type": "display_data"
    }
   ],
   "source": [
    "# i'm going to pick the three genres of the Philip Tagg's axiomatic triangle:\n",
    "# Classical, Pop and Folk, as we can see they are pretty balanced\n",
    "\n",
    "taggGenres = ['Classical','Pop','Folk']\n",
    "df = df[df.genre.isin(taggGenres)];\n",
    "sns.histplot(df['genre']).set_title('Genre Distribution')\n",
    "\n",
    "print(\"Classical Tracks number: %s\" % len(df[df['genre'] == 'Classical']));\n",
    "print(\"Pop Tracks number: %s\" % len(df[df['genre'] == 'Pop']));\n",
    "print(\"Folk Tracks number: %s\" % len(df[df['genre'] == 'Folk']));\n",
    "\n",
    "print(\"Total Tracks number: %s\" % len(df));"
   ]
  },
  {
   "cell_type": "code",
   "execution_count": 9,
   "id": "8f2751b2",
   "metadata": {
    "execution": {
     "iopub.execute_input": "2022-08-13T21:15:45.941485Z",
     "iopub.status.busy": "2022-08-13T21:15:45.941009Z",
     "iopub.status.idle": "2022-08-13T21:15:46.353527Z",
     "shell.execute_reply": "2022-08-13T21:15:46.352002Z"
    },
    "papermill": {
     "duration": 0.427709,
     "end_time": "2022-08-13T21:15:46.356275",
     "exception": false,
     "start_time": "2022-08-13T21:15:45.928566",
     "status": "completed"
    },
    "tags": []
   },
   "outputs": [
    {
     "data": {
      "text/plain": [
       "Text(0.5, 1.0, 'Key usage for every genre')"
      ]
     },
     "execution_count": 9,
     "metadata": {},
     "output_type": "execute_result"
    },
    {
     "data": {
      "image/png": "[encoded data removed]",
      "text/plain": [
       "<Figure size 1584x432 with 1 Axes>"
      ]
     },
     "metadata": {
      "needs_background": "light"
     },
     "output_type": "display_data"
    }
   ],
   "source": [
    "plt.figure(figsize=(22, 6))\n",
    "sns.countplot(x = 'key', hue = 'genre', data = df)\n",
    "plt.title('Key usage for every genre')\n",
    "# This is the distribution of key usage for every genre, I decided at the end to drop this an the mode\n",
    "# features since they don't have much meaning in a genre prediction"
   ]
  },
  {
   "cell_type": "code",
   "execution_count": 10,
   "id": "a458a763",
   "metadata": {
    "execution": {
     "iopub.execute_input": "2022-08-13T21:15:46.380104Z",
     "iopub.status.busy": "2022-08-13T21:15:46.378882Z",
     "iopub.status.idle": "2022-08-13T21:15:46.523713Z",
     "shell.execute_reply": "2022-08-13T21:15:46.522598Z"
    },
    "papermill": {
     "duration": 0.15929,
     "end_time": "2022-08-13T21:15:46.526651",
     "exception": false,
     "start_time": "2022-08-13T21:15:46.367361",
     "status": "completed"
    },
    "tags": []
   },
   "outputs": [
    {
     "data": {
      "text/html": [
       "<div>\n",
       "<style scoped>\n",
       "    .dataframe tbody tr th:only-of-type {\n",
       "        vertical-align: middle;\n",
       "    }\n",
       "\n",
       "    .dataframe tbody tr th {\n",
       "        vertical-align: top;\n",
       "    }\n",
       "\n",
       "    .dataframe thead th {\n",
       "        text-align: right;\n",
       "    }\n",
       "</style>\n",
       "<table border=\"1\" class=\"dataframe\">\n",
       "  <thead>\n",
       "    <tr style=\"text-align: right;\">\n",
       "      <th></th>\n",
       "      <th>genre</th>\n",
       "      <th>acousticness</th>\n",
       "      <th>danceability</th>\n",
       "      <th>energy</th>\n",
       "      <th>instrumentalness</th>\n",
       "      <th>liveness</th>\n",
       "      <th>loudness</th>\n",
       "      <th>speechiness</th>\n",
       "      <th>tempo</th>\n",
       "      <th>valence</th>\n",
       "      <th>time_signature_3</th>\n",
       "      <th>time_signature_4</th>\n",
       "      <th>time_signature_5</th>\n",
       "    </tr>\n",
       "  </thead>\n",
       "  <tbody>\n",
       "    <tr>\n",
       "      <th>109604</th>\n",
       "      <td>Pop</td>\n",
       "      <td>0.0104</td>\n",
       "      <td>0.548</td>\n",
       "      <td>0.816</td>\n",
       "      <td>0.054300</td>\n",
       "      <td>0.1520</td>\n",
       "      <td>-4.478</td>\n",
       "      <td>0.0499</td>\n",
       "      <td>174.993</td>\n",
       "      <td>0.8570</td>\n",
       "      <td>0</td>\n",
       "      <td>1</td>\n",
       "      <td>0</td>\n",
       "    </tr>\n",
       "    <tr>\n",
       "      <th>43145</th>\n",
       "      <td>Folk</td>\n",
       "      <td>0.7520</td>\n",
       "      <td>0.685</td>\n",
       "      <td>0.199</td>\n",
       "      <td>0.006550</td>\n",
       "      <td>0.1160</td>\n",
       "      <td>-12.977</td>\n",
       "      <td>0.0422</td>\n",
       "      <td>122.085</td>\n",
       "      <td>0.0744</td>\n",
       "      <td>0</td>\n",
       "      <td>1</td>\n",
       "      <td>0</td>\n",
       "    </tr>\n",
       "    <tr>\n",
       "      <th>63845</th>\n",
       "      <td>Folk</td>\n",
       "      <td>0.4530</td>\n",
       "      <td>0.477</td>\n",
       "      <td>0.214</td>\n",
       "      <td>0.000057</td>\n",
       "      <td>0.1420</td>\n",
       "      <td>-17.826</td>\n",
       "      <td>0.0275</td>\n",
       "      <td>105.084</td>\n",
       "      <td>0.3420</td>\n",
       "      <td>1</td>\n",
       "      <td>0</td>\n",
       "      <td>0</td>\n",
       "    </tr>\n",
       "    <tr>\n",
       "      <th>41288</th>\n",
       "      <td>Folk</td>\n",
       "      <td>0.4280</td>\n",
       "      <td>0.603</td>\n",
       "      <td>0.494</td>\n",
       "      <td>0.000171</td>\n",
       "      <td>0.0894</td>\n",
       "      <td>-10.270</td>\n",
       "      <td>0.0301</td>\n",
       "      <td>147.814</td>\n",
       "      <td>0.7290</td>\n",
       "      <td>0</td>\n",
       "      <td>1</td>\n",
       "      <td>0</td>\n",
       "    </tr>\n",
       "    <tr>\n",
       "      <th>108974</th>\n",
       "      <td>Pop</td>\n",
       "      <td>0.3020</td>\n",
       "      <td>0.733</td>\n",
       "      <td>0.477</td>\n",
       "      <td>0.000003</td>\n",
       "      <td>0.0579</td>\n",
       "      <td>-6.737</td>\n",
       "      <td>0.0687</td>\n",
       "      <td>62.507</td>\n",
       "      <td>0.5450</td>\n",
       "      <td>0</td>\n",
       "      <td>1</td>\n",
       "      <td>0</td>\n",
       "    </tr>\n",
       "  </tbody>\n",
       "</table>\n",
       "</div>"
      ],
      "text/plain": [
       "       genre  acousticness  danceability  energy  instrumentalness  liveness  \\\n",
       "109604   Pop        0.0104         0.548   0.816          0.054300    0.1520   \n",
       "43145   Folk        0.7520         0.685   0.199          0.006550    0.1160   \n",
       "63845   Folk        0.4530         0.477   0.214          0.000057    0.1420   \n",
       "41288   Folk        0.4280         0.603   0.494          0.000171    0.0894   \n",
       "108974   Pop        0.3020         0.733   0.477          0.000003    0.0579   \n",
       "\n",
       "        loudness  speechiness    tempo  valence  time_signature_3  \\\n",
       "109604    -4.478       0.0499  174.993   0.8570                 0   \n",
       "43145    -12.977       0.0422  122.085   0.0744                 0   \n",
       "63845    -17.826       0.0275  105.084   0.3420                 1   \n",
       "41288    -10.270       0.0301  147.814   0.7290                 0   \n",
       "108974    -6.737       0.0687   62.507   0.5450                 0   \n",
       "\n",
       "        time_signature_4  time_signature_5  \n",
       "109604                 1                 0  \n",
       "43145                  1                 0  \n",
       "63845                  0                 0  \n",
       "41288                  1                 0  \n",
       "108974                 1                 0  "
      ]
     },
     "metadata": {},
     "output_type": "display_data"
    }
   ],
   "source": [
    "new_df = df.drop(['artist_name','track_name','track_id','popularity','key','mode','duration_ms'],axis = 1)\n",
    "new_df.time_signature = new_df.time_signature.map( {'3/4':3 , '4/4':4, '5/4':5} )\n",
    "new_df = pd.get_dummies(data= new_df, columns=['time_signature'])\n",
    "from sklearn.utils import shuffle\n",
    "new_df = shuffle(new_df)\n",
    "display(new_df.head())"
   ]
  },
  {
   "cell_type": "code",
   "execution_count": 11,
   "id": "819ebca4",
   "metadata": {
    "execution": {
     "iopub.execute_input": "2022-08-13T21:15:46.550442Z",
     "iopub.status.busy": "2022-08-13T21:15:46.549131Z",
     "iopub.status.idle": "2022-08-13T21:15:46.557352Z",
     "shell.execute_reply": "2022-08-13T21:15:46.556227Z"
    },
    "papermill": {
     "duration": 0.022824,
     "end_time": "2022-08-13T21:15:46.559839",
     "exception": false,
     "start_time": "2022-08-13T21:15:46.537015",
     "status": "completed"
    },
    "tags": []
   },
   "outputs": [
    {
     "data": {
      "text/plain": [
       "Index(['acousticness', 'danceability', 'energy', 'instrumentalness',\n",
       "       'liveness', 'loudness', 'speechiness', 'tempo', 'valence',\n",
       "       'time_signature_3', 'time_signature_4', 'time_signature_5'],\n",
       "      dtype='object')"
      ]
     },
     "metadata": {},
     "output_type": "display_data"
    }
   ],
   "source": [
    "features = new_df.keys().drop(['genre']);\n",
    "display(features)"
   ]
  },
  {
   "cell_type": "code",
   "execution_count": 12,
   "id": "8fa7f31c",
   "metadata": {
    "execution": {
     "iopub.execute_input": "2022-08-13T21:15:46.582836Z",
     "iopub.status.busy": "2022-08-13T21:15:46.582395Z",
     "iopub.status.idle": "2022-08-13T21:15:46.631100Z",
     "shell.execute_reply": "2022-08-13T21:15:46.630006Z"
    },
    "papermill": {
     "duration": 0.063243,
     "end_time": "2022-08-13T21:15:46.633517",
     "exception": false,
     "start_time": "2022-08-13T21:15:46.570274",
     "status": "completed"
    },
    "tags": []
   },
   "outputs": [
    {
     "data": {
      "text/html": [
       "<div>\n",
       "<style scoped>\n",
       "    .dataframe tbody tr th:only-of-type {\n",
       "        vertical-align: middle;\n",
       "    }\n",
       "\n",
       "    .dataframe tbody tr th {\n",
       "        vertical-align: top;\n",
       "    }\n",
       "\n",
       "    .dataframe thead th {\n",
       "        text-align: right;\n",
       "    }\n",
       "</style>\n",
       "<table border=\"1\" class=\"dataframe\">\n",
       "  <thead>\n",
       "    <tr style=\"text-align: right;\">\n",
       "      <th></th>\n",
       "      <th>acousticness</th>\n",
       "      <th>danceability</th>\n",
       "      <th>energy</th>\n",
       "      <th>instrumentalness</th>\n",
       "      <th>liveness</th>\n",
       "      <th>loudness</th>\n",
       "      <th>speechiness</th>\n",
       "      <th>tempo</th>\n",
       "      <th>valence</th>\n",
       "      <th>time_signature_3</th>\n",
       "      <th>time_signature_4</th>\n",
       "      <th>time_signature_5</th>\n",
       "    </tr>\n",
       "  </thead>\n",
       "  <tbody>\n",
       "    <tr>\n",
       "      <th>127334</th>\n",
       "      <td>0.99300</td>\n",
       "      <td>0.195</td>\n",
       "      <td>0.0122</td>\n",
       "      <td>0.933</td>\n",
       "      <td>0.0675</td>\n",
       "      <td>-27.461</td>\n",
       "      <td>0.0365</td>\n",
       "      <td>70.134</td>\n",
       "      <td>0.0629</td>\n",
       "      <td>0</td>\n",
       "      <td>1</td>\n",
       "      <td>0</td>\n",
       "    </tr>\n",
       "    <tr>\n",
       "      <th>42723</th>\n",
       "      <td>0.24200</td>\n",
       "      <td>0.509</td>\n",
       "      <td>0.4690</td>\n",
       "      <td>0.151</td>\n",
       "      <td>0.1100</td>\n",
       "      <td>-7.103</td>\n",
       "      <td>0.0336</td>\n",
       "      <td>122.441</td>\n",
       "      <td>0.6200</td>\n",
       "      <td>0</td>\n",
       "      <td>1</td>\n",
       "      <td>0</td>\n",
       "    </tr>\n",
       "    <tr>\n",
       "      <th>112692</th>\n",
       "      <td>0.00432</td>\n",
       "      <td>0.731</td>\n",
       "      <td>0.7250</td>\n",
       "      <td>0.000</td>\n",
       "      <td>0.0556</td>\n",
       "      <td>-5.210</td>\n",
       "      <td>0.2490</td>\n",
       "      <td>149.963</td>\n",
       "      <td>0.3510</td>\n",
       "      <td>0</td>\n",
       "      <td>1</td>\n",
       "      <td>0</td>\n",
       "    </tr>\n",
       "    <tr>\n",
       "      <th>110016</th>\n",
       "      <td>0.06460</td>\n",
       "      <td>0.640</td>\n",
       "      <td>0.6020</td>\n",
       "      <td>0.000</td>\n",
       "      <td>0.3750</td>\n",
       "      <td>-7.902</td>\n",
       "      <td>0.0299</td>\n",
       "      <td>111.870</td>\n",
       "      <td>0.9510</td>\n",
       "      <td>0</td>\n",
       "      <td>1</td>\n",
       "      <td>0</td>\n",
       "    </tr>\n",
       "    <tr>\n",
       "      <th>66078</th>\n",
       "      <td>0.58500</td>\n",
       "      <td>0.331</td>\n",
       "      <td>0.3200</td>\n",
       "      <td>0.000</td>\n",
       "      <td>0.0812</td>\n",
       "      <td>-8.191</td>\n",
       "      <td>0.0355</td>\n",
       "      <td>89.906</td>\n",
       "      <td>0.2500</td>\n",
       "      <td>0</td>\n",
       "      <td>1</td>\n",
       "      <td>0</td>\n",
       "    </tr>\n",
       "  </tbody>\n",
       "</table>\n",
       "</div>"
      ],
      "text/plain": [
       "        acousticness  danceability  energy  instrumentalness  liveness  \\\n",
       "127334       0.99300         0.195  0.0122             0.933    0.0675   \n",
       "42723        0.24200         0.509  0.4690             0.151    0.1100   \n",
       "112692       0.00432         0.731  0.7250             0.000    0.0556   \n",
       "110016       0.06460         0.640  0.6020             0.000    0.3750   \n",
       "66078        0.58500         0.331  0.3200             0.000    0.0812   \n",
       "\n",
       "        loudness  speechiness    tempo  valence  time_signature_3  \\\n",
       "127334   -27.461       0.0365   70.134   0.0629                 0   \n",
       "42723     -7.103       0.0336  122.441   0.6200                 0   \n",
       "112692    -5.210       0.2490  149.963   0.3510                 0   \n",
       "110016    -7.902       0.0299  111.870   0.9510                 0   \n",
       "66078     -8.191       0.0355   89.906   0.2500                 0   \n",
       "\n",
       "        time_signature_4  time_signature_5  \n",
       "127334                 1                 0  \n",
       "42723                  1                 0  \n",
       "112692                 1                 0  \n",
       "110016                 1                 0  \n",
       "66078                  1                 0  "
      ]
     },
     "metadata": {},
     "output_type": "display_data"
    },
    {
     "data": {
      "text/plain": [
       "127334    0\n",
       "42723     2\n",
       "112692    1\n",
       "110016    1\n",
       "66078     2\n",
       "Name: genre, dtype: int64"
      ]
     },
     "metadata": {},
     "output_type": "display_data"
    }
   ],
   "source": [
    "new_df.genre = new_df.genre.map( {'Classical':0 , 'Pop':1, 'Folk':2} )\n",
    "training = new_df.sample(frac = 0.8,random_state = 420)\n",
    "X_train = training[features]\n",
    "y_train = training['genre']\n",
    "X_test = new_df.drop(training.index)[features]\n",
    "y_test = new_df.drop(training.index)['genre']\n",
    "display(X_train.head())\n",
    "display(y_train.head())"
   ]
  },
  {
   "cell_type": "code",
   "execution_count": 13,
   "id": "59e7b938",
   "metadata": {
    "_kg_hide-input": true,
    "execution": {
     "iopub.execute_input": "2022-08-13T21:15:46.657664Z",
     "iopub.status.busy": "2022-08-13T21:15:46.657205Z",
     "iopub.status.idle": "2022-08-13T21:15:46.736296Z",
     "shell.execute_reply": "2022-08-13T21:15:46.734960Z"
    },
    "papermill": {
     "duration": 0.094362,
     "end_time": "2022-08-13T21:15:46.738790",
     "exception": false,
     "start_time": "2022-08-13T21:15:46.644428",
     "status": "completed"
    },
    "tags": []
   },
   "outputs": [
    {
     "data": {
      "text/html": [
       "<div>\n",
       "<style scoped>\n",
       "    .dataframe tbody tr th:only-of-type {\n",
       "        vertical-align: middle;\n",
       "    }\n",
       "\n",
       "    .dataframe tbody tr th {\n",
       "        vertical-align: top;\n",
       "    }\n",
       "\n",
       "    .dataframe thead th {\n",
       "        text-align: right;\n",
       "    }\n",
       "</style>\n",
       "<table border=\"1\" class=\"dataframe\">\n",
       "  <thead>\n",
       "    <tr style=\"text-align: right;\">\n",
       "      <th></th>\n",
       "      <th>acousticness</th>\n",
       "      <th>danceability</th>\n",
       "      <th>energy</th>\n",
       "      <th>instrumentalness</th>\n",
       "      <th>liveness</th>\n",
       "      <th>loudness</th>\n",
       "      <th>speechiness</th>\n",
       "      <th>tempo</th>\n",
       "      <th>valence</th>\n",
       "      <th>time_signature_3</th>\n",
       "      <th>time_signature_4</th>\n",
       "      <th>time_signature_5</th>\n",
       "    </tr>\n",
       "  </thead>\n",
       "  <tbody>\n",
       "    <tr>\n",
       "      <th>127334</th>\n",
       "      <td>0.996988</td>\n",
       "      <td>0.149869</td>\n",
       "      <td>0.012217</td>\n",
       "      <td>0.939577</td>\n",
       "      <td>0.048082</td>\n",
       "      <td>0.582485</td>\n",
       "      <td>0.015496</td>\n",
       "      <td>0.177333</td>\n",
       "      <td>0.063471</td>\n",
       "      <td>0.0</td>\n",
       "      <td>1.0</td>\n",
       "      <td>0.0</td>\n",
       "    </tr>\n",
       "    <tr>\n",
       "      <th>42723</th>\n",
       "      <td>0.242971</td>\n",
       "      <td>0.493865</td>\n",
       "      <td>0.470400</td>\n",
       "      <td>0.152064</td>\n",
       "      <td>0.091560</td>\n",
       "      <td>0.160409</td>\n",
       "      <td>0.012354</td>\n",
       "      <td>0.435523</td>\n",
       "      <td>0.625631</td>\n",
       "      <td>0.0</td>\n",
       "      <td>1.0</td>\n",
       "      <td>0.0</td>\n",
       "    </tr>\n",
       "    <tr>\n",
       "      <th>112692</th>\n",
       "      <td>0.004336</td>\n",
       "      <td>0.737073</td>\n",
       "      <td>0.727176</td>\n",
       "      <td>0.000000</td>\n",
       "      <td>0.035908</td>\n",
       "      <td>0.121162</td>\n",
       "      <td>0.245774</td>\n",
       "      <td>0.571373</td>\n",
       "      <td>0.354188</td>\n",
       "      <td>0.0</td>\n",
       "      <td>1.0</td>\n",
       "      <td>0.0</td>\n",
       "    </tr>\n",
       "    <tr>\n",
       "      <th>110016</th>\n",
       "      <td>0.064858</td>\n",
       "      <td>0.637379</td>\n",
       "      <td>0.603803</td>\n",
       "      <td>0.000000</td>\n",
       "      <td>0.362660</td>\n",
       "      <td>0.176974</td>\n",
       "      <td>0.008344</td>\n",
       "      <td>0.383344</td>\n",
       "      <td>0.959637</td>\n",
       "      <td>0.0</td>\n",
       "      <td>1.0</td>\n",
       "      <td>0.0</td>\n",
       "    </tr>\n",
       "    <tr>\n",
       "      <th>66078</th>\n",
       "      <td>0.587349</td>\n",
       "      <td>0.298861</td>\n",
       "      <td>0.320949</td>\n",
       "      <td>0.000000</td>\n",
       "      <td>0.062097</td>\n",
       "      <td>0.182966</td>\n",
       "      <td>0.014413</td>\n",
       "      <td>0.274928</td>\n",
       "      <td>0.252270</td>\n",
       "      <td>0.0</td>\n",
       "      <td>1.0</td>\n",
       "      <td>0.0</td>\n",
       "    </tr>\n",
       "  </tbody>\n",
       "</table>\n",
       "</div>"
      ],
      "text/plain": [
       "        acousticness  danceability    energy  instrumentalness  liveness  \\\n",
       "127334      0.996988      0.149869  0.012217          0.939577  0.048082   \n",
       "42723       0.242971      0.493865  0.470400          0.152064  0.091560   \n",
       "112692      0.004336      0.737073  0.727176          0.000000  0.035908   \n",
       "110016      0.064858      0.637379  0.603803          0.000000  0.362660   \n",
       "66078       0.587349      0.298861  0.320949          0.000000  0.062097   \n",
       "\n",
       "        loudness  speechiness     tempo   valence  time_signature_3  \\\n",
       "127334  0.582485     0.015496  0.177333  0.063471               0.0   \n",
       "42723   0.160409     0.012354  0.435523  0.625631               0.0   \n",
       "112692  0.121162     0.245774  0.571373  0.354188               0.0   \n",
       "110016  0.176974     0.008344  0.383344  0.959637               0.0   \n",
       "66078   0.182966     0.014413  0.274928  0.252270               0.0   \n",
       "\n",
       "        time_signature_4  time_signature_5  \n",
       "127334               1.0               0.0  \n",
       "42723                1.0               0.0  \n",
       "112692               1.0               0.0  \n",
       "110016               1.0               0.0  \n",
       "66078                1.0               0.0  "
      ]
     },
     "metadata": {},
     "output_type": "display_data"
    },
    {
     "data": {
      "text/html": [
       "<div>\n",
       "<style scoped>\n",
       "    .dataframe tbody tr th:only-of-type {\n",
       "        vertical-align: middle;\n",
       "    }\n",
       "\n",
       "    .dataframe tbody tr th {\n",
       "        vertical-align: top;\n",
       "    }\n",
       "\n",
       "    .dataframe thead th {\n",
       "        text-align: right;\n",
       "    }\n",
       "</style>\n",
       "<table border=\"1\" class=\"dataframe\">\n",
       "  <thead>\n",
       "    <tr style=\"text-align: right;\">\n",
       "      <th></th>\n",
       "      <th>acousticness</th>\n",
       "      <th>danceability</th>\n",
       "      <th>energy</th>\n",
       "      <th>instrumentalness</th>\n",
       "      <th>liveness</th>\n",
       "      <th>loudness</th>\n",
       "      <th>speechiness</th>\n",
       "      <th>tempo</th>\n",
       "      <th>valence</th>\n",
       "      <th>time_signature_3</th>\n",
       "      <th>time_signature_4</th>\n",
       "      <th>time_signature_5</th>\n",
       "    </tr>\n",
       "  </thead>\n",
       "  <tbody>\n",
       "    <tr>\n",
       "      <th>109604</th>\n",
       "      <td>0.010440</td>\n",
       "      <td>0.538275</td>\n",
       "      <td>0.817528</td>\n",
       "      <td>0.054628</td>\n",
       "      <td>0.140327</td>\n",
       "      <td>0.105814</td>\n",
       "      <td>0.031733</td>\n",
       "      <td>0.759653</td>\n",
       "      <td>0.876530</td>\n",
       "      <td>0.0</td>\n",
       "      <td>1.0</td>\n",
       "      <td>0.0</td>\n",
       "    </tr>\n",
       "    <tr>\n",
       "      <th>126891</th>\n",
       "      <td>0.827309</td>\n",
       "      <td>0.264332</td>\n",
       "      <td>0.218978</td>\n",
       "      <td>0.375252</td>\n",
       "      <td>0.118707</td>\n",
       "      <td>0.379749</td>\n",
       "      <td>0.028618</td>\n",
       "      <td>0.562027</td>\n",
       "      <td>0.082662</td>\n",
       "      <td>0.0</td>\n",
       "      <td>1.0</td>\n",
       "      <td>0.0</td>\n",
       "    </tr>\n",
       "    <tr>\n",
       "      <th>123965</th>\n",
       "      <td>0.990964</td>\n",
       "      <td>0.041644</td>\n",
       "      <td>0.039513</td>\n",
       "      <td>0.802817</td>\n",
       "      <td>0.072377</td>\n",
       "      <td>0.562212</td>\n",
       "      <td>0.025733</td>\n",
       "      <td>0.294024</td>\n",
       "      <td>0.020195</td>\n",
       "      <td>0.0</td>\n",
       "      <td>1.0</td>\n",
       "      <td>0.0</td>\n",
       "    </tr>\n",
       "    <tr>\n",
       "      <th>124212</th>\n",
       "      <td>0.992972</td>\n",
       "      <td>0.298575</td>\n",
       "      <td>0.108692</td>\n",
       "      <td>0.834004</td>\n",
       "      <td>0.079996</td>\n",
       "      <td>0.362866</td>\n",
       "      <td>0.024579</td>\n",
       "      <td>0.214099</td>\n",
       "      <td>0.115831</td>\n",
       "      <td>0.0</td>\n",
       "      <td>1.0</td>\n",
       "      <td>0.0</td>\n",
       "    </tr>\n",
       "    <tr>\n",
       "      <th>125243</th>\n",
       "      <td>0.909638</td>\n",
       "      <td>0.122943</td>\n",
       "      <td>0.058964</td>\n",
       "      <td>0.877264</td>\n",
       "      <td>0.235046</td>\n",
       "      <td>0.534234</td>\n",
       "      <td>0.013039</td>\n",
       "      <td>0.240732</td>\n",
       "      <td>0.108507</td>\n",
       "      <td>0.0</td>\n",
       "      <td>1.0</td>\n",
       "      <td>0.0</td>\n",
       "    </tr>\n",
       "  </tbody>\n",
       "</table>\n",
       "</div>"
      ],
      "text/plain": [
       "        acousticness  danceability    energy  instrumentalness  liveness  \\\n",
       "109604      0.010440      0.538275  0.817528          0.054628  0.140327   \n",
       "126891      0.827309      0.264332  0.218978          0.375252  0.118707   \n",
       "123965      0.990964      0.041644  0.039513          0.802817  0.072377   \n",
       "124212      0.992972      0.298575  0.108692          0.834004  0.079996   \n",
       "125243      0.909638      0.122943  0.058964          0.877264  0.235046   \n",
       "\n",
       "        loudness  speechiness     tempo   valence  time_signature_3  \\\n",
       "109604  0.105814     0.031733  0.759653  0.876530               0.0   \n",
       "126891  0.379749     0.028618  0.562027  0.082662               0.0   \n",
       "123965  0.562212     0.025733  0.294024  0.020195               0.0   \n",
       "124212  0.362866     0.024579  0.214099  0.115831               0.0   \n",
       "125243  0.534234     0.013039  0.240732  0.108507               0.0   \n",
       "\n",
       "        time_signature_4  time_signature_5  \n",
       "109604               1.0               0.0  \n",
       "126891               1.0               0.0  \n",
       "123965               1.0               0.0  \n",
       "124212               1.0               0.0  \n",
       "125243               1.0               0.0  "
      ]
     },
     "metadata": {},
     "output_type": "display_data"
    }
   ],
   "source": [
    "from sklearn.preprocessing import MinMaxScaler\n",
    "pd.options.mode.chained_assignment = None  # default='warn'\n",
    "scaler = MinMaxScaler()\n",
    "# Loudness goes from -60 to 0 db, I will convert it to a positive value before normalizing it \n",
    "X_train['loudness'] *= -1\n",
    "X_train = pd.DataFrame(scaler.fit_transform(X_train), index=X_train.index, columns=X_train.columns)\n",
    "display(X_train.head())\n",
    "X_test['loudness'] *= -1\n",
    "X_test = pd.DataFrame(scaler.fit_transform(X_test), index=X_test.index, columns=X_test.columns)\n",
    "display(X_test.head())"
   ]
  },
  {
   "cell_type": "code",
   "execution_count": 14,
   "id": "3b76ecc1",
   "metadata": {
    "execution": {
     "iopub.execute_input": "2022-08-13T21:15:46.763785Z",
     "iopub.status.busy": "2022-08-13T21:15:46.763346Z",
     "iopub.status.idle": "2022-08-13T21:15:46.900005Z",
     "shell.execute_reply": "2022-08-13T21:15:46.898730Z"
    },
    "papermill": {
     "duration": 0.152505,
     "end_time": "2022-08-13T21:15:46.902738",
     "exception": false,
     "start_time": "2022-08-13T21:15:46.750233",
     "status": "completed"
    },
    "tags": []
   },
   "outputs": [],
   "source": [
    "from sklearn.model_selection import train_test_split\n",
    "from sklearn.linear_model import LogisticRegression\n",
    "from sklearn.metrics import make_scorer, accuracy_score, roc_auc_score \n",
    "X_train, X_valid, y_train, y_valid = train_test_split(X_train, y_train, test_size = 0.2, random_state = 1)"
   ]
  },
  {
   "cell_type": "code",
   "execution_count": 15,
   "id": "5ddf38fa",
   "metadata": {
    "execution": {
     "iopub.execute_input": "2022-08-13T21:15:46.927697Z",
     "iopub.status.busy": "2022-08-13T21:15:46.927251Z",
     "iopub.status.idle": "2022-08-13T21:15:47.591724Z",
     "shell.execute_reply": "2022-08-13T21:15:47.590363Z"
    },
    "papermill": {
     "duration": 0.680366,
     "end_time": "2022-08-13T21:15:47.594469",
     "exception": false,
     "start_time": "2022-08-13T21:15:46.914103",
     "status": "completed"
    },
    "tags": []
   },
   "outputs": [
    {
     "data": {
      "image/png": "[encoded data removed]",
      "text/plain": [
       "<Figure size 792x1080 with 2 Axes>"
      ]
     },
     "metadata": {
      "needs_background": "light"
     },
     "output_type": "display_data"
    }
   ],
   "source": [
    "corr_heatmap(X_train)"
   ]
  },
  {
   "cell_type": "code",
   "execution_count": 16,
   "id": "db3d8325",
   "metadata": {
    "execution": {
     "iopub.execute_input": "2022-08-13T21:15:47.622510Z",
     "iopub.status.busy": "2022-08-13T21:15:47.622050Z",
     "iopub.status.idle": "2022-08-13T21:15:47.629081Z",
     "shell.execute_reply": "2022-08-13T21:15:47.628163Z"
    },
    "papermill": {
     "duration": 0.02427,
     "end_time": "2022-08-13T21:15:47.631490",
     "exception": false,
     "start_time": "2022-08-13T21:15:47.607220",
     "status": "completed"
    },
    "tags": []
   },
   "outputs": [],
   "source": [
    "# Currently the ‘multinomial’ option is supported only by the ‘lbfgs’, ‘sag’, ‘saga’ and ‘newton-cg’ solvers.\n",
    "# http://scikit-learn.org/stable/modules/generated/sklearn.linear_model.LogisticRegression.html#sklearn.linear_model.LogisticRegression\n",
    "param_grid = [    \n",
    "    {'penalty' : ['l2', 'none'],\n",
    "    'C' : np.logspace(-4, 4, 20),\n",
    "    'solver' : ['lbfgs','newton-cg', 'sag', 'saga'],\n",
    "    'max_iter' : [100, 1000,2500, 5000]\n",
    "    }\n",
    "]"
   ]
  },
  {
   "cell_type": "code",
   "execution_count": 17,
   "id": "de9ed68f",
   "metadata": {
    "execution": {
     "iopub.execute_input": "2022-08-13T21:15:47.658971Z",
     "iopub.status.busy": "2022-08-13T21:15:47.658113Z",
     "iopub.status.idle": "2022-08-13T21:15:47.663019Z",
     "shell.execute_reply": "2022-08-13T21:15:47.662204Z"
    },
    "papermill": {
     "duration": 0.021518,
     "end_time": "2022-08-13T21:15:47.665522",
     "exception": false,
     "start_time": "2022-08-13T21:15:47.644004",
     "status": "completed"
    },
    "tags": []
   },
   "outputs": [],
   "source": [
    "#from sklearn.model_selection import GridSearchCV\n",
    "#clf = GridSearchCV(LogisticRegression(multi_class = 'multinomial'), param_grid = param_grid, verbose=10, n_jobs=-1, error_score=\"raise\")\n",
    "#best_clf = clf.fit(X_train, y_train)"
   ]
  },
  {
   "cell_type": "code",
   "execution_count": 18,
   "id": "0c6fa0bf",
   "metadata": {
    "execution": {
     "iopub.execute_input": "2022-08-13T21:15:47.693605Z",
     "iopub.status.busy": "2022-08-13T21:15:47.692551Z",
     "iopub.status.idle": "2022-08-13T21:15:47.698052Z",
     "shell.execute_reply": "2022-08-13T21:15:47.697130Z"
    },
    "papermill": {
     "duration": 0.022665,
     "end_time": "2022-08-13T21:15:47.700498",
     "exception": false,
     "start_time": "2022-08-13T21:15:47.677833",
     "status": "completed"
    },
    "tags": []
   },
   "outputs": [],
   "source": [
    "#print(best_clf.best_estimator_)\n",
    "#print(best_clf.cv_results_)\n",
    "#print (f'Accuracy - : {best_clf.score(X_train, y_train):.3f}')"
   ]
  },
  {
   "cell_type": "code",
   "execution_count": 19,
   "id": "477694ec",
   "metadata": {
    "execution": {
     "iopub.execute_input": "2022-08-13T21:15:47.736306Z",
     "iopub.status.busy": "2022-08-13T21:15:47.735420Z",
     "iopub.status.idle": "2022-08-13T21:15:50.120774Z",
     "shell.execute_reply": "2022-08-13T21:15:50.119099Z"
    },
    "papermill": {
     "duration": 2.406344,
     "end_time": "2022-08-13T21:15:50.125381",
     "exception": false,
     "start_time": "2022-08-13T21:15:47.719037",
     "status": "completed"
    },
    "tags": []
   },
   "outputs": [
    {
     "data": {
      "text/plain": [
       "LogisticRegression(C=11.288378916846883, multi_class='multinomial',\n",
       "                   solver='newton-cg')"
      ]
     },
     "execution_count": 19,
     "metadata": {},
     "output_type": "execute_result"
    }
   ],
   "source": [
    "# Thanks to GridSearch we know that the best choice is LogisticRegression(C=11.288378916846883, multi_class='multinomial',solver='newton-cg')\n",
    "model = LogisticRegression(C=11.288378916846883, multi_class='multinomial',solver='newton-cg')\n",
    "model.fit(X_train, y_train)"
   ]
  },
  {
   "cell_type": "code",
   "execution_count": 20,
   "id": "18989372",
   "metadata": {
    "execution": {
     "iopub.execute_input": "2022-08-13T21:15:50.195258Z",
     "iopub.status.busy": "2022-08-13T21:15:50.194369Z",
     "iopub.status.idle": "2022-08-13T21:15:50.234049Z",
     "shell.execute_reply": "2022-08-13T21:15:50.232609Z"
    },
    "papermill": {
     "duration": 0.077326,
     "end_time": "2022-08-13T21:15:50.236916",
     "exception": false,
     "start_time": "2022-08-13T21:15:50.159590",
     "status": "completed"
    },
    "tags": []
   },
   "outputs": [
    {
     "name": "stdout",
     "output_type": "stream",
     "text": [
      "              precision    recall  f1-score   support\n",
      "\n",
      "           0       0.93      0.87      0.90      1529\n",
      "           1       0.79      0.80      0.80      1466\n",
      "           2       0.72      0.75      0.73      1476\n",
      "\n",
      "    accuracy                           0.81      4471\n",
      "   macro avg       0.81      0.81      0.81      4471\n",
      "weighted avg       0.81      0.81      0.81      4471\n",
      "\n"
     ]
    }
   ],
   "source": [
    "y_pred = model.predict(X_valid)\n",
    "from sklearn.metrics import classification_report\n",
    "print(classification_report(y_valid, y_pred))"
   ]
  },
  {
   "cell_type": "code",
   "execution_count": 21,
   "id": "6b864f79",
   "metadata": {
    "execution": {
     "iopub.execute_input": "2022-08-13T21:15:50.265357Z",
     "iopub.status.busy": "2022-08-13T21:15:50.264276Z",
     "iopub.status.idle": "2022-08-13T21:15:51.806921Z",
     "shell.execute_reply": "2022-08-13T21:15:51.805216Z"
    },
    "papermill": {
     "duration": 1.562175,
     "end_time": "2022-08-13T21:15:51.811932",
     "exception": false,
     "start_time": "2022-08-13T21:15:50.249757",
     "status": "completed"
    },
    "tags": []
   },
   "outputs": [
    {
     "name": "stdout",
     "output_type": "stream",
     "text": [
      "              precision    recall  f1-score   support\n",
      "\n",
      "           0       0.91      0.88      0.89      1529\n",
      "           1       0.76      0.75      0.76      1466\n",
      "           2       0.70      0.73      0.71      1476\n",
      "\n",
      "    accuracy                           0.79      4471\n",
      "   macro avg       0.79      0.79      0.79      4471\n",
      "weighted avg       0.79      0.79      0.79      4471\n",
      "\n"
     ]
    }
   ],
   "source": [
    "X_train_loudness = X_train.drop(['loudness'], axis=1)\n",
    "X_valid_loudness = X_valid.drop(['loudness'], axis=1)\n",
    "lrm_cor = LogisticRegression(C=11.288378916846883, multi_class='multinomial',solver='newton-cg').fit(X_train_loudness, y_train)\n",
    "print(classification_report(y_valid, lrm_cor.predict(X_valid_loudness)))"
   ]
  },
  {
   "cell_type": "code",
   "execution_count": 22,
   "id": "6f8b3754",
   "metadata": {
    "execution": {
     "iopub.execute_input": "2022-08-13T21:15:51.879617Z",
     "iopub.status.busy": "2022-08-13T21:15:51.878839Z",
     "iopub.status.idle": "2022-08-13T21:15:53.381703Z",
     "shell.execute_reply": "2022-08-13T21:15:53.380438Z"
    },
    "papermill": {
     "duration": 1.542853,
     "end_time": "2022-08-13T21:15:53.387450",
     "exception": false,
     "start_time": "2022-08-13T21:15:51.844597",
     "status": "completed"
    },
    "tags": []
   },
   "outputs": [
    {
     "name": "stdout",
     "output_type": "stream",
     "text": [
      "              precision    recall  f1-score   support\n",
      "\n",
      "           0       0.93      0.88      0.91      1529\n",
      "           1       0.79      0.80      0.79      1466\n",
      "           2       0.73      0.76      0.74      1476\n",
      "\n",
      "    accuracy                           0.81      4471\n",
      "   macro avg       0.82      0.81      0.81      4471\n",
      "weighted avg       0.82      0.81      0.82      4471\n",
      "\n"
     ]
    }
   ],
   "source": [
    "X_train_energy = X_train.drop(['energy'], axis=1)\n",
    "X_valid_energy = X_valid.drop(['energy'], axis=1)\n",
    "lrm_cor = LogisticRegression(C=11.288378916846883, multi_class='multinomial',solver='newton-cg').fit(X_train_energy, y_train)\n",
    "print(classification_report(y_valid, lrm_cor.predict(X_valid_energy)))"
   ]
  },
  {
   "cell_type": "code",
   "execution_count": 23,
   "id": "82d2759e",
   "metadata": {
    "execution": {
     "iopub.execute_input": "2022-08-13T21:15:53.458409Z",
     "iopub.status.busy": "2022-08-13T21:15:53.457518Z",
     "iopub.status.idle": "2022-08-13T21:15:54.925119Z",
     "shell.execute_reply": "2022-08-13T21:15:54.923895Z"
    },
    "papermill": {
     "duration": 1.509214,
     "end_time": "2022-08-13T21:15:54.931618",
     "exception": false,
     "start_time": "2022-08-13T21:15:53.422404",
     "status": "completed"
    },
    "tags": []
   },
   "outputs": [
    {
     "name": "stdout",
     "output_type": "stream",
     "text": [
      "              precision    recall  f1-score   support\n",
      "\n",
      "           0       0.93      0.87      0.90      1529\n",
      "           1       0.79      0.80      0.79      1466\n",
      "           2       0.72      0.75      0.73      1476\n",
      "\n",
      "    accuracy                           0.81      4471\n",
      "   macro avg       0.81      0.81      0.81      4471\n",
      "weighted avg       0.81      0.81      0.81      4471\n",
      "\n"
     ]
    }
   ],
   "source": [
    "X_train_acousticness = X_train.drop(['acousticness'], axis=1)\n",
    "X_valid_acousticness = X_valid.drop(['acousticness'], axis=1)\n",
    "lrm_cor = LogisticRegression(C=11.288378916846883, multi_class='multinomial',solver='newton-cg').fit(X_train_acousticness, y_train)\n",
    "print(classification_report(y_valid, lrm_cor.predict(X_valid_acousticness)))"
   ]
  },
  {
   "cell_type": "code",
   "execution_count": 24,
   "id": "00ed2841",
   "metadata": {
    "execution": {
     "iopub.execute_input": "2022-08-13T21:15:55.000330Z",
     "iopub.status.busy": "2022-08-13T21:15:54.999432Z",
     "iopub.status.idle": "2022-08-13T21:15:55.032128Z",
     "shell.execute_reply": "2022-08-13T21:15:55.030516Z"
    },
    "papermill": {
     "duration": 0.070331,
     "end_time": "2022-08-13T21:15:55.035068",
     "exception": false,
     "start_time": "2022-08-13T21:15:54.964737",
     "status": "completed"
    },
    "tags": []
   },
   "outputs": [
    {
     "name": "stdout",
     "output_type": "stream",
     "text": [
      "              precision    recall  f1-score   support\n",
      "\n",
      "           0       0.91      0.88      0.89      1845\n",
      "           1       0.77      0.81      0.79      1897\n",
      "           2       0.72      0.71      0.72      1846\n",
      "\n",
      "    accuracy                           0.80      5588\n",
      "   macro avg       0.80      0.80      0.80      5588\n",
      "weighted avg       0.80      0.80      0.80      5588\n",
      "\n"
     ]
    }
   ],
   "source": [
    "# The accuracy changes between 0.81 and 0.79 in every situation, I'm going to just keep those features\n",
    "# I will now test the data with X_test and y_test\n",
    "y_pred = model.predict(X_test)\n",
    "print(classification_report(y_test, y_pred))"
   ]
  },
  {
   "cell_type": "code",
   "execution_count": 25,
   "id": "c1533102",
   "metadata": {
    "execution": {
     "iopub.execute_input": "2022-08-13T21:15:55.063992Z",
     "iopub.status.busy": "2022-08-13T21:15:55.063546Z",
     "iopub.status.idle": "2022-08-13T21:15:55.079451Z",
     "shell.execute_reply": "2022-08-13T21:15:55.078045Z"
    },
    "papermill": {
     "duration": 0.03352,
     "end_time": "2022-08-13T21:15:55.082184",
     "exception": false,
     "start_time": "2022-08-13T21:15:55.048664",
     "status": "completed"
    },
    "tags": []
   },
   "outputs": [],
   "source": [
    "# We see that the accuracy doesn't change much\n",
    "# We'll now try to get best results with a Neural Network\n",
    "from sklearn.neural_network import MLPClassifier\n",
    "\n",
    "#mlp_gs = MLPClassifier()\n",
    "parameter_space = {\n",
    "    'hidden_layer_sizes': [(100, 100), (100, 100, 100), (100, 100, 100, 100)],\n",
    "    'activation': ['tanh', 'relu'],\n",
    "    'solver': ['sgd','adam'],\n",
    "    'alpha': [0.0001, 0.001, 0.01, 0.1],\n",
    "}\n",
    "#from sklearn.model_selection import GridSearchCV\n",
    "#from sklearn.metrics import classification_report\n",
    "#clf = GridSearchCV(mlp_gs, parameter_space, n_jobs=-1, cv=5, scoring='accuracy', verbose=10, error_score=\"raise\")\n",
    "#clf.fit(X_train, y_train) # X is train samples and t is the corresponding labels\n",
    "\n",
    "# best score achieved during the GridSearchCV\n",
    "#print('GridSearch CV best score : {:.4f}\\n\\n'.format(clf.best_score_))\n",
    "\n",
    "# print parameters that give the best results\n",
    "#print('Parameters that give the best results :','\\n\\n', (clf.best_params_))\n",
    "\n",
    "# print estimator that was chosen by the GridSearch\n",
    "#print('\\n\\nEstimator that was chosen by the search :','\\n\\n', (clf.best_estimator_))\n",
    "\n",
    "# %% [code]\n",
    "# calculate GridSearch CV score on test set\n",
    "#t_pred = clf.predict(X_valid)\n",
    "\n",
    "#print('Model classification report with GridSearcg CV: \\n', classification_report(y_valid, t_pred))"
   ]
  },
  {
   "cell_type": "code",
   "execution_count": 26,
   "id": "2419530d",
   "metadata": {
    "execution": {
     "iopub.execute_input": "2022-08-13T21:15:55.111129Z",
     "iopub.status.busy": "2022-08-13T21:15:55.109965Z",
     "iopub.status.idle": "2022-08-13T21:15:55.124847Z",
     "shell.execute_reply": "2022-08-13T21:15:55.123546Z"
    },
    "papermill": {
     "duration": 0.031932,
     "end_time": "2022-08-13T21:15:55.127556",
     "exception": false,
     "start_time": "2022-08-13T21:15:55.095624",
     "status": "completed"
    },
    "tags": []
   },
   "outputs": [],
   "source": [
    "# With GridSearch we can see that the estimatore whioch gives the best result is\n",
    "# MLPClassifier(activation='tanh', alpha=0.001, hidden_layer_sizes=(100, 100, 100, 100))\n",
    "# I will now perform a second Grid Search with hyperparameters more similar to the ones just found\n",
    "# and with early stopping in order to be more precise\n",
    "# I will merge train and valid sets and test on the testing set\n",
    "X_train = pd.concat([X_train, X_valid])\n",
    "y_train = pd.concat([y_train, y_valid])\n",
    "X_train, y_train = shuffle(X_train, y_train)\n",
    "parameter_space = {\n",
    "    'hidden_layer_sizes': [(100, 100, 100, 100), (100, 150, 200, 250), (100, 200, 300, 400)],\n",
    "    'activation': ['tanh'],\n",
    "    'solver': ['adam'],\n",
    "    'alpha': [0.0001, 0.0002, 0.0004, 0.0008],\n",
    "    'early_stopping': [True, False]\n",
    "}\n",
    "#from sklearn.model_selection import GridSearchCV\n",
    "#from sklearn.metrics import classification_report\n",
    "#clf = GridSearchCV(mlp_gs, parameter_space, n_jobs=-1, cv=5, scoring='accuracy', verbose=10, error_score=\"raise\")\n",
    "#clf.fit(X_train, y_train) # X is train samples and t is the corresponding labels\n",
    "\n",
    "# best score achieved during the GridSearchCV\n",
    "#print('GridSearch CV best score : {:.4f}\\n\\n'.format(clf.best_score_))\n",
    "\n",
    "# print parameters that give the best results\n",
    "#print('Parameters that give the best results :','\\n\\n', (clf.best_params_))\n",
    "\n",
    "# print estimator that was chosen by the GridSearch\n",
    "#print('\\n\\nEstimator that was chosen by the search :','\\n\\n', (clf.best_estimator_))\n",
    "\n",
    "# %% [code]\n",
    "# calculate GridSearch CV score on test set\n",
    "#t_pred = clf.predict(X_test)\n",
    "\n",
    "#print('Model classification report with GridSearcg CV: \\n', classification_report(y_test, t_pred))"
   ]
  },
  {
   "cell_type": "code",
   "execution_count": 27,
   "id": "9c3af226",
   "metadata": {
    "execution": {
     "iopub.execute_input": "2022-08-13T21:15:55.156449Z",
     "iopub.status.busy": "2022-08-13T21:15:55.155520Z",
     "iopub.status.idle": "2022-08-13T21:22:56.236021Z",
     "shell.execute_reply": "2022-08-13T21:22:56.233873Z"
    },
    "papermill": {
     "duration": 421.099697,
     "end_time": "2022-08-13T21:22:56.240765",
     "exception": false,
     "start_time": "2022-08-13T21:15:55.141068",
     "status": "completed"
    },
    "tags": []
   },
   "outputs": [
    {
     "name": "stderr",
     "output_type": "stream",
     "text": [
      "/opt/conda/lib/python3.7/site-packages/sklearn/neural_network/_multilayer_perceptron.py:696: ConvergenceWarning: Stochastic Optimizer: Maximum iterations (200) reached and the optimization hasn't converged yet.\n",
      "  ConvergenceWarning,\n"
     ]
    }
   ],
   "source": [
    "# Thanks to GridSearch we know that the best choice is MLPClassifier(activation='tanh', alpha=0.0008, hidden_layer_sizes=(100, 150, 200, 250)).fit(X_train, y_train)\n",
    "clf = MLPClassifier(activation='tanh', alpha=0.0008, hidden_layer_sizes=(100, 150, 200, 250)).fit(X_train, y_train)\n",
    "y_pred=clf.predict(X_train)"
   ]
  },
  {
   "cell_type": "code",
   "execution_count": 28,
   "id": "33910d07",
   "metadata": {
    "execution": {
     "iopub.execute_input": "2022-08-13T21:22:56.309961Z",
     "iopub.status.busy": "2022-08-13T21:22:56.309252Z",
     "iopub.status.idle": "2022-08-13T21:22:56.666468Z",
     "shell.execute_reply": "2022-08-13T21:22:56.664708Z"
    },
    "papermill": {
     "duration": 0.39735,
     "end_time": "2022-08-13T21:22:56.671626",
     "exception": false,
     "start_time": "2022-08-13T21:22:56.274276",
     "status": "completed"
    },
    "tags": []
   },
   "outputs": [
    {
     "name": "stdout",
     "output_type": "stream",
     "text": [
      "              precision    recall  f1-score   support\n",
      "\n",
      "           0       0.92      0.90      0.91      1845\n",
      "           1       0.73      0.76      0.74      1897\n",
      "           2       0.68      0.66      0.67      1846\n",
      "\n",
      "    accuracy                           0.77      5588\n",
      "   macro avg       0.77      0.77      0.77      5588\n",
      "weighted avg       0.77      0.77      0.77      5588\n",
      "\n"
     ]
    }
   ],
   "source": [
    "y_pred = clf.predict(X_test)\n",
    "print(classification_report(y_test, y_pred))"
   ]
  },
  {
   "cell_type": "code",
   "execution_count": null,
   "id": "079c1d8f",
   "metadata": {
    "papermill": {
     "duration": 0.039106,
     "end_time": "2022-08-13T21:22:56.745720",
     "exception": false,
     "start_time": "2022-08-13T21:22:56.706614",
     "status": "completed"
    },
    "tags": []
   },
   "outputs": [],
   "source": []
  }
 ],
 "metadata": {
  "kernelspec": {
   "display_name": "Python 3",
   "language": "python",
   "name": "python3"
  },
  "language_info": {
   "codemirror_mode": {
    "name": "ipython",
    "version": 3
   },
   "file_extension": ".py",
   "mimetype": "text/x-python",
   "name": "python",
   "nbconvert_exporter": "python",
   "pygments_lexer": "ipython3",
   "version": "3.7.12"
  },
  "papermill": {
   "default_parameters": {},
   "duration": 447.531527,
   "end_time": "2022-08-13T21:22:57.693231",
   "environment_variables": {},
   "exception": null,
   "input_path": "__notebook__.ipynb",
   "output_path": "__notebook__.ipynb",
   "parameters": {},
   "start_time": "2022-08-13T21:15:30.161704",
   "version": "2.3.4"
  }
 },
 "nbformat": 4,
 "nbformat_minor": 5
}
