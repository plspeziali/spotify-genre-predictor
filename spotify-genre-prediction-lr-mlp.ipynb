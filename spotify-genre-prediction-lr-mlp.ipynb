{
 "cells": [
  {
   "cell_type": "code",
   "execution_count": 1,
   "id": "a87291a2",
   "metadata": {
    "execution": {
     "iopub.execute_input": "2022-08-25T20:08:38.640553Z",
     "iopub.status.busy": "2022-08-25T20:08:38.640030Z",
     "iopub.status.idle": "2022-08-25T20:08:39.824499Z",
     "shell.execute_reply": "2022-08-25T20:08:39.823227Z"
    },
    "papermill": {
     "duration": 1.200454,
     "end_time": "2022-08-25T20:08:39.827374",
     "exception": false,
     "start_time": "2022-08-25T20:08:38.626920",
     "status": "completed"
    },
    "tags": []
   },
   "outputs": [],
   "source": [
    "import pandas as pd\n",
    "import seaborn as sns # for data visualization\n",
    "import matplotlib.pyplot as plt\n",
    "import numpy as np\n",
    "def corr_heatmap(data):\n",
    "    corr_matrix = data.corr()\n",
    "    mask = np.zeros_like(corr_matrix, dtype=bool)\n",
    "    mask[np.triu_indices_from(mask)]= True\n",
    "    f, ax = plt.subplots(figsize=(11, 15)) \n",
    "    heatmap = sns.heatmap(corr_matrix, \n",
    "                          mask = mask,\n",
    "                          square = True,\n",
    "                          linewidths = .5,\n",
    "                          cmap = 'coolwarm',\n",
    "                          cbar_kws = {'shrink': .4, \n",
    "                                    'ticks' : [-1, -.5, 0, 0.5, 1]},\n",
    "                          vmin = -1, \n",
    "                          vmax = 1,\n",
    "                          annot = True,\n",
    "                          annot_kws = {'size': 12})#add the column names as labels\n",
    "    ax.set_yticklabels(corr_matrix.columns, rotation = 0)\n",
    "    ax.set_xticklabels(corr_matrix.columns)\n",
    "    sns.set_style({'xtick.bottom': True}, {'ytick.left': True})\n",
    "    \n",
    "def GridSearch_table_plot(grid_clf, param_name,\n",
    "                          num_results=15,\n",
    "                          negative=True,\n",
    "                          graph=True,\n",
    "                          display_all_params=True):\n",
    "\n",
    "    '''Display grid search results\n",
    "\n",
    "    Arguments\n",
    "    ---------\n",
    "\n",
    "    grid_clf           the estimator resulting from a grid search\n",
    "                       for example: grid_clf = GridSearchCV( ...\n",
    "\n",
    "    param_name         a string with the name of the parameter being tested\n",
    "\n",
    "    num_results        an integer indicating the number of results to display\n",
    "                       Default: 15\n",
    "\n",
    "    negative           boolean: should the sign of the score be reversed?\n",
    "                       scoring = 'neg_log_loss', for instance\n",
    "                       Default: True\n",
    "\n",
    "    graph              boolean: should a graph be produced?\n",
    "                       non-numeric parameters (True/False, None) don't graph well\n",
    "                       Default: True\n",
    "\n",
    "    display_all_params boolean: should we print out all of the parameters, not just the ones searched for?\n",
    "                       Default: True\n",
    "\n",
    "    Usage\n",
    "    -----\n",
    "\n",
    "    GridSearch_table_plot(grid_clf, \"min_samples_leaf\")\n",
    "\n",
    "                          '''\n",
    "    from matplotlib      import pyplot as plt\n",
    "    from IPython.display import display\n",
    "    import pandas as pd\n",
    "\n",
    "    clf = grid_clf.best_estimator_\n",
    "    clf_params = grid_clf.best_params_\n",
    "    if negative:\n",
    "        clf_score = -grid_clf.best_score_\n",
    "    else:\n",
    "        clf_score = grid_clf.best_score_\n",
    "    clf_stdev = grid_clf.cv_results_['std_test_score'][grid_clf.best_index_]\n",
    "    cv_results = grid_clf.cv_results_\n",
    "\n",
    "    print(\"best parameters: {}\".format(clf_params))\n",
    "    print(\"best score:      {:0.5f} (+/-{:0.5f})\".format(clf_score, clf_stdev))\n",
    "    if display_all_params:\n",
    "        import pprint\n",
    "        pprint.pprint(clf.get_params())\n",
    "\n",
    "    # pick out the best results\n",
    "    # =========================\n",
    "    scores_df = pd.DataFrame(cv_results).sort_values(by='rank_test_score')\n",
    "\n",
    "    best_row = scores_df.iloc[0, :]\n",
    "    if negative:\n",
    "        best_mean = -best_row['mean_test_score']\n",
    "    else:\n",
    "        best_mean = best_row['mean_test_score']\n",
    "    best_stdev = best_row['std_test_score']\n",
    "    best_param = best_row['param_' + param_name]\n",
    "\n",
    "    # display the top 'num_results' results\n",
    "    # =====================================\n",
    "    display(pd.DataFrame(cv_results) \\\n",
    "            .sort_values(by='rank_test_score').head(num_results))\n",
    "\n",
    "    # plot the results\n",
    "    # ================\n",
    "    scores_df = scores_df.sort_values(by='param_' + param_name)\n",
    "\n",
    "    if negative:\n",
    "        means = -scores_df['mean_test_score']\n",
    "    else:\n",
    "        means = scores_df['mean_test_score']\n",
    "    stds = scores_df['std_test_score']\n",
    "    params = scores_df['param_' + param_name]\n",
    "\n",
    "    # plot\n",
    "    if graph:\n",
    "        plt.figure(figsize=(8, 8))\n",
    "        plt.errorbar(params, means, yerr=stds)\n",
    "\n",
    "        plt.axhline(y=best_mean + best_stdev, color='red')\n",
    "        plt.axhline(y=best_mean - best_stdev, color='red')\n",
    "        plt.plot(best_param, best_mean, 'or')\n",
    "\n",
    "        plt.title(param_name + \" vs Score\\nBest Score {:0.5f}\".format(clf_score))\n",
    "        plt.xlabel(param_name)\n",
    "        plt.ylabel('Score')\n",
    "        plt.show()"
   ]
  },
  {
   "cell_type": "code",
   "execution_count": 2,
   "id": "b0bb8781",
   "metadata": {
    "execution": {
     "iopub.execute_input": "2022-08-25T20:08:39.847457Z",
     "iopub.status.busy": "2022-08-25T20:08:39.847011Z",
     "iopub.status.idle": "2022-08-25T20:08:41.304817Z",
     "shell.execute_reply": "2022-08-25T20:08:41.303233Z"
    },
    "papermill": {
     "duration": 1.471628,
     "end_time": "2022-08-25T20:08:41.308405",
     "exception": false,
     "start_time": "2022-08-25T20:08:39.836777",
     "status": "completed"
    },
    "tags": []
   },
   "outputs": [
    {
     "data": {
      "text/html": [
       "<div>\n",
       "<style scoped>\n",
       "    .dataframe tbody tr th:only-of-type {\n",
       "        vertical-align: middle;\n",
       "    }\n",
       "\n",
       "    .dataframe tbody tr th {\n",
       "        vertical-align: top;\n",
       "    }\n",
       "\n",
       "    .dataframe thead th {\n",
       "        text-align: right;\n",
       "    }\n",
       "</style>\n",
       "<table border=\"1\" class=\"dataframe\">\n",
       "  <thead>\n",
       "    <tr style=\"text-align: right;\">\n",
       "      <th></th>\n",
       "      <th>genre</th>\n",
       "      <th>artist_name</th>\n",
       "      <th>track_name</th>\n",
       "      <th>track_id</th>\n",
       "      <th>popularity</th>\n",
       "      <th>acousticness</th>\n",
       "      <th>danceability</th>\n",
       "      <th>duration_ms</th>\n",
       "      <th>energy</th>\n",
       "      <th>instrumentalness</th>\n",
       "      <th>key</th>\n",
       "      <th>liveness</th>\n",
       "      <th>loudness</th>\n",
       "      <th>mode</th>\n",
       "      <th>speechiness</th>\n",
       "      <th>tempo</th>\n",
       "      <th>time_signature</th>\n",
       "      <th>valence</th>\n",
       "    </tr>\n",
       "  </thead>\n",
       "  <tbody>\n",
       "    <tr>\n",
       "      <th>0</th>\n",
       "      <td>Movie</td>\n",
       "      <td>Henri Salvador</td>\n",
       "      <td>C'est beau de faire un Show</td>\n",
       "      <td>0BRjO6ga9RKCKjfDqeFgWV</td>\n",
       "      <td>0</td>\n",
       "      <td>0.611</td>\n",
       "      <td>0.389</td>\n",
       "      <td>99373</td>\n",
       "      <td>0.910</td>\n",
       "      <td>0.000</td>\n",
       "      <td>C#</td>\n",
       "      <td>0.3460</td>\n",
       "      <td>-1.828</td>\n",
       "      <td>Major</td>\n",
       "      <td>0.0525</td>\n",
       "      <td>166.969</td>\n",
       "      <td>4/4</td>\n",
       "      <td>0.814</td>\n",
       "    </tr>\n",
       "    <tr>\n",
       "      <th>1</th>\n",
       "      <td>Movie</td>\n",
       "      <td>Martin &amp; les fées</td>\n",
       "      <td>Perdu d'avance (par Gad Elmaleh)</td>\n",
       "      <td>0BjC1NfoEOOusryehmNudP</td>\n",
       "      <td>1</td>\n",
       "      <td>0.246</td>\n",
       "      <td>0.590</td>\n",
       "      <td>137373</td>\n",
       "      <td>0.737</td>\n",
       "      <td>0.000</td>\n",
       "      <td>F#</td>\n",
       "      <td>0.1510</td>\n",
       "      <td>-5.559</td>\n",
       "      <td>Minor</td>\n",
       "      <td>0.0868</td>\n",
       "      <td>174.003</td>\n",
       "      <td>4/4</td>\n",
       "      <td>0.816</td>\n",
       "    </tr>\n",
       "    <tr>\n",
       "      <th>2</th>\n",
       "      <td>Movie</td>\n",
       "      <td>Joseph Williams</td>\n",
       "      <td>Don't Let Me Be Lonely Tonight</td>\n",
       "      <td>0CoSDzoNIKCRs124s9uTVy</td>\n",
       "      <td>3</td>\n",
       "      <td>0.952</td>\n",
       "      <td>0.663</td>\n",
       "      <td>170267</td>\n",
       "      <td>0.131</td>\n",
       "      <td>0.000</td>\n",
       "      <td>C</td>\n",
       "      <td>0.1030</td>\n",
       "      <td>-13.879</td>\n",
       "      <td>Minor</td>\n",
       "      <td>0.0362</td>\n",
       "      <td>99.488</td>\n",
       "      <td>5/4</td>\n",
       "      <td>0.368</td>\n",
       "    </tr>\n",
       "    <tr>\n",
       "      <th>3</th>\n",
       "      <td>Movie</td>\n",
       "      <td>Henri Salvador</td>\n",
       "      <td>Dis-moi Monsieur Gordon Cooper</td>\n",
       "      <td>0Gc6TVm52BwZD07Ki6tIvf</td>\n",
       "      <td>0</td>\n",
       "      <td>0.703</td>\n",
       "      <td>0.240</td>\n",
       "      <td>152427</td>\n",
       "      <td>0.326</td>\n",
       "      <td>0.000</td>\n",
       "      <td>C#</td>\n",
       "      <td>0.0985</td>\n",
       "      <td>-12.178</td>\n",
       "      <td>Major</td>\n",
       "      <td>0.0395</td>\n",
       "      <td>171.758</td>\n",
       "      <td>4/4</td>\n",
       "      <td>0.227</td>\n",
       "    </tr>\n",
       "    <tr>\n",
       "      <th>4</th>\n",
       "      <td>Movie</td>\n",
       "      <td>Fabien Nataf</td>\n",
       "      <td>Ouverture</td>\n",
       "      <td>0IuslXpMROHdEPvSl1fTQK</td>\n",
       "      <td>4</td>\n",
       "      <td>0.950</td>\n",
       "      <td>0.331</td>\n",
       "      <td>82625</td>\n",
       "      <td>0.225</td>\n",
       "      <td>0.123</td>\n",
       "      <td>F</td>\n",
       "      <td>0.2020</td>\n",
       "      <td>-21.150</td>\n",
       "      <td>Major</td>\n",
       "      <td>0.0456</td>\n",
       "      <td>140.576</td>\n",
       "      <td>4/4</td>\n",
       "      <td>0.390</td>\n",
       "    </tr>\n",
       "  </tbody>\n",
       "</table>\n",
       "</div>"
      ],
      "text/plain": [
       "   genre        artist_name                        track_name  \\\n",
       "0  Movie     Henri Salvador       C'est beau de faire un Show   \n",
       "1  Movie  Martin & les fées  Perdu d'avance (par Gad Elmaleh)   \n",
       "2  Movie    Joseph Williams    Don't Let Me Be Lonely Tonight   \n",
       "3  Movie     Henri Salvador    Dis-moi Monsieur Gordon Cooper   \n",
       "4  Movie       Fabien Nataf                         Ouverture   \n",
       "\n",
       "                 track_id  popularity  acousticness  danceability  \\\n",
       "0  0BRjO6ga9RKCKjfDqeFgWV           0         0.611         0.389   \n",
       "1  0BjC1NfoEOOusryehmNudP           1         0.246         0.590   \n",
       "2  0CoSDzoNIKCRs124s9uTVy           3         0.952         0.663   \n",
       "3  0Gc6TVm52BwZD07Ki6tIvf           0         0.703         0.240   \n",
       "4  0IuslXpMROHdEPvSl1fTQK           4         0.950         0.331   \n",
       "\n",
       "   duration_ms  energy  instrumentalness key  liveness  loudness   mode  \\\n",
       "0        99373   0.910             0.000  C#    0.3460    -1.828  Major   \n",
       "1       137373   0.737             0.000  F#    0.1510    -5.559  Minor   \n",
       "2       170267   0.131             0.000   C    0.1030   -13.879  Minor   \n",
       "3       152427   0.326             0.000  C#    0.0985   -12.178  Major   \n",
       "4        82625   0.225             0.123   F    0.2020   -21.150  Major   \n",
       "\n",
       "   speechiness    tempo time_signature  valence  \n",
       "0       0.0525  166.969            4/4    0.814  \n",
       "1       0.0868  174.003            4/4    0.816  \n",
       "2       0.0362   99.488            5/4    0.368  \n",
       "3       0.0395  171.758            4/4    0.227  \n",
       "4       0.0456  140.576            4/4    0.390  "
      ]
     },
     "metadata": {},
     "output_type": "display_data"
    }
   ],
   "source": [
    "df = pd.read_csv(\"../input/ultimate-spotify-tracks-db/SpotifyFeatures.csv\")\n",
    "display(df.head())"
   ]
  },
  {
   "cell_type": "code",
   "execution_count": 3,
   "id": "b683bc19",
   "metadata": {
    "execution": {
     "iopub.execute_input": "2022-08-25T20:08:41.331558Z",
     "iopub.status.busy": "2022-08-25T20:08:41.330239Z",
     "iopub.status.idle": "2022-08-25T20:08:41.338158Z",
     "shell.execute_reply": "2022-08-25T20:08:41.336718Z"
    },
    "papermill": {
     "duration": 0.022686,
     "end_time": "2022-08-25T20:08:41.341387",
     "exception": false,
     "start_time": "2022-08-25T20:08:41.318701",
     "status": "completed"
    },
    "tags": []
   },
   "outputs": [
    {
     "name": "stdout",
     "output_type": "stream",
     "text": [
      "Index(['genre', 'artist_name', 'track_name', 'track_id', 'popularity',\n",
      "       'acousticness', 'danceability', 'duration_ms', 'energy',\n",
      "       'instrumentalness', 'key', 'liveness', 'loudness', 'mode',\n",
      "       'speechiness', 'tempo', 'time_signature', 'valence'],\n",
      "      dtype='object')\n"
     ]
    }
   ],
   "source": [
    "# Prints the names of the features\n",
    "print(df.keys())"
   ]
  },
  {
   "cell_type": "code",
   "execution_count": 4,
   "id": "a24093d6",
   "metadata": {
    "execution": {
     "iopub.execute_input": "2022-08-25T20:08:41.364716Z",
     "iopub.status.busy": "2022-08-25T20:08:41.364294Z",
     "iopub.status.idle": "2022-08-25T20:08:41.446186Z",
     "shell.execute_reply": "2022-08-25T20:08:41.444452Z"
    },
    "papermill": {
     "duration": 0.098949,
     "end_time": "2022-08-25T20:08:41.451455",
     "exception": false,
     "start_time": "2022-08-25T20:08:41.352506",
     "status": "completed"
    },
    "tags": []
   },
   "outputs": [
    {
     "name": "stdout",
     "output_type": "stream",
     "text": [
      "genre               0\n",
      "artist_name         0\n",
      "track_name          0\n",
      "track_id            0\n",
      "popularity          0\n",
      "acousticness        0\n",
      "danceability        0\n",
      "duration_ms         0\n",
      "energy              0\n",
      "instrumentalness    0\n",
      "key                 0\n",
      "liveness            0\n",
      "loudness            0\n",
      "mode                0\n",
      "speechiness         0\n",
      "tempo               0\n",
      "time_signature      0\n",
      "valence             0\n",
      "dtype: int64\n"
     ]
    }
   ],
   "source": [
    "# Let's check for null values\n",
    "print(pd.isnull(df).sum())"
   ]
  },
  {
   "cell_type": "code",
   "execution_count": 5,
   "id": "0c32c286",
   "metadata": {
    "execution": {
     "iopub.execute_input": "2022-08-25T20:08:41.476021Z",
     "iopub.status.busy": "2022-08-25T20:08:41.475269Z",
     "iopub.status.idle": "2022-08-25T20:08:42.010948Z",
     "shell.execute_reply": "2022-08-25T20:08:42.009705Z"
    },
    "papermill": {
     "duration": 0.550775,
     "end_time": "2022-08-25T20:08:42.013642",
     "exception": false,
     "start_time": "2022-08-25T20:08:41.462867",
     "status": "completed"
    },
    "tags": []
   },
   "outputs": [
    {
     "data": {
      "text/plain": [
       "Text(0.5, 1.0, 'Time Signature Distribution')"
      ]
     },
     "execution_count": 5,
     "metadata": {},
     "output_type": "execute_result"
    },
    {
     "data": {
      "image/png": "[encoded data removed]",
      "text/plain": [
       "<Figure size 432x288 with 1 Axes>"
      ]
     },
     "metadata": {
      "needs_background": "light"
     },
     "output_type": "display_data"
    }
   ],
   "source": [
    "# There are no null values, thus there's no need to perform any kind of operation\n",
    "# in order to handle the missing values\n",
    "sns.histplot(df['time_signature']).set_title('Time Signature Distribution')"
   ]
  },
  {
   "cell_type": "code",
   "execution_count": 6,
   "id": "6a618a67",
   "metadata": {
    "execution": {
     "iopub.execute_input": "2022-08-25T20:08:42.036058Z",
     "iopub.status.busy": "2022-08-25T20:08:42.035623Z",
     "iopub.status.idle": "2022-08-25T20:08:42.601853Z",
     "shell.execute_reply": "2022-08-25T20:08:42.600703Z"
    },
    "papermill": {
     "duration": 0.580531,
     "end_time": "2022-08-25T20:08:42.604558",
     "exception": false,
     "start_time": "2022-08-25T20:08:42.024027",
     "status": "completed"
    },
    "tags": []
   },
   "outputs": [
    {
     "name": "stdout",
     "output_type": "stream",
     "text": [
      "Tracks with a 0/4 time signature: 8\n"
     ]
    },
    {
     "data": {
      "text/plain": [
       "Text(0.5, 1.0, 'Time Signature Distribution')"
      ]
     },
     "execution_count": 6,
     "metadata": {},
     "output_type": "execute_result"
    },
    {
     "data": {
      "image/png": "[encoded data removed]",
      "text/plain": [
       "<Figure size 432x288 with 1 Axes>"
      ]
     },
     "metadata": {
      "needs_background": "light"
     },
     "output_type": "display_data"
    }
   ],
   "source": [
    "# The samples in the dataframe where the field 'time_signature' is '1/4'\n",
    "# actually represent songs with mostly a 4/4 time signature, since it is\n",
    "# most likely an error by who created the dataframe we're going to change it\n",
    "# to the '4/4' value\n",
    "df['time_signature'] = df['time_signature'].replace(['1/4'],'4/4')\n",
    "\n",
    "print(\"Tracks with a 0/4 time signature: %s\" % len(df[df['time_signature'] == '0/4']));\n",
    "# Since there are just 8 samples with a '0/4' time signature,\n",
    "# and since it is clearly an error, I'm going to simply delete them\n",
    "df = df[df['time_signature'] != '0/4']\n",
    "\n",
    "sns.histplot(df['time_signature']).set_title('Time Signature Distribution')"
   ]
  },
  {
   "cell_type": "code",
   "execution_count": 7,
   "id": "607c784a",
   "metadata": {
    "execution": {
     "iopub.execute_input": "2022-08-25T20:08:42.628384Z",
     "iopub.status.busy": "2022-08-25T20:08:42.627377Z",
     "iopub.status.idle": "2022-08-25T20:08:43.303188Z",
     "shell.execute_reply": "2022-08-25T20:08:43.301625Z"
    },
    "papermill": {
     "duration": 0.690408,
     "end_time": "2022-08-25T20:08:43.305781",
     "exception": false,
     "start_time": "2022-08-25T20:08:42.615373",
     "status": "completed"
    },
    "tags": []
   },
   "outputs": [
    {
     "data": {
      "text/plain": [
       "Text(0.5, 1.0, 'Genre Distribution')"
      ]
     },
     "execution_count": 7,
     "metadata": {},
     "output_type": "execute_result"
    },
    {
     "data": {
      "image/png": "[encoded data removed]",
      "text/plain": [
       "<Figure size 1584x432 with 1 Axes>"
      ]
     },
     "metadata": {
      "needs_background": "light"
     },
     "output_type": "display_data"
    }
   ],
   "source": [
    "plt.figure(figsize=(22, 6))\n",
    "sns.histplot(df['genre']).set_title('Genre Distribution')"
   ]
  },
  {
   "cell_type": "code",
   "execution_count": 8,
   "id": "0b850f2d",
   "metadata": {
    "execution": {
     "iopub.execute_input": "2022-08-25T20:08:43.331611Z",
     "iopub.status.busy": "2022-08-25T20:08:43.330948Z",
     "iopub.status.idle": "2022-08-25T20:08:43.602891Z",
     "shell.execute_reply": "2022-08-25T20:08:43.601684Z"
    },
    "papermill": {
     "duration": 0.286988,
     "end_time": "2022-08-25T20:08:43.605531",
     "exception": false,
     "start_time": "2022-08-25T20:08:43.318543",
     "status": "completed"
    },
    "tags": []
   },
   "outputs": [
    {
     "data": {
      "text/html": [
       "<div>\n",
       "<style scoped>\n",
       "    .dataframe tbody tr th:only-of-type {\n",
       "        vertical-align: middle;\n",
       "    }\n",
       "\n",
       "    .dataframe tbody tr th {\n",
       "        vertical-align: top;\n",
       "    }\n",
       "\n",
       "    .dataframe thead th {\n",
       "        text-align: right;\n",
       "    }\n",
       "</style>\n",
       "<table border=\"1\" class=\"dataframe\">\n",
       "  <thead>\n",
       "    <tr style=\"text-align: right;\">\n",
       "      <th></th>\n",
       "      <th>genre</th>\n",
       "      <th>artist_name</th>\n",
       "      <th>track_name</th>\n",
       "      <th>track_id</th>\n",
       "      <th>popularity</th>\n",
       "      <th>acousticness</th>\n",
       "      <th>danceability</th>\n",
       "      <th>duration_ms</th>\n",
       "      <th>energy</th>\n",
       "      <th>instrumentalness</th>\n",
       "      <th>key</th>\n",
       "      <th>liveness</th>\n",
       "      <th>loudness</th>\n",
       "      <th>mode</th>\n",
       "      <th>speechiness</th>\n",
       "      <th>tempo</th>\n",
       "      <th>time_signature</th>\n",
       "      <th>valence</th>\n",
       "    </tr>\n",
       "  </thead>\n",
       "  <tbody>\n",
       "    <tr>\n",
       "      <th>14492</th>\n",
       "      <td>Dance</td>\n",
       "      <td>ZAYN</td>\n",
       "      <td>Still Got Time</td>\n",
       "      <td>000xQL6tZNLJzIrtIgxqSl</td>\n",
       "      <td>70</td>\n",
       "      <td>0.131000</td>\n",
       "      <td>0.748</td>\n",
       "      <td>188491</td>\n",
       "      <td>0.627</td>\n",
       "      <td>0.000000</td>\n",
       "      <td>G</td>\n",
       "      <td>0.0852</td>\n",
       "      <td>-6.029</td>\n",
       "      <td>Major</td>\n",
       "      <td>0.0644</td>\n",
       "      <td>120.963</td>\n",
       "      <td>4/4</td>\n",
       "      <td>0.524</td>\n",
       "    </tr>\n",
       "    <tr>\n",
       "      <th>110840</th>\n",
       "      <td>Pop</td>\n",
       "      <td>ZAYN</td>\n",
       "      <td>Still Got Time</td>\n",
       "      <td>000xQL6tZNLJzIrtIgxqSl</td>\n",
       "      <td>70</td>\n",
       "      <td>0.131000</td>\n",
       "      <td>0.748</td>\n",
       "      <td>188491</td>\n",
       "      <td>0.627</td>\n",
       "      <td>0.000000</td>\n",
       "      <td>G</td>\n",
       "      <td>0.0852</td>\n",
       "      <td>-6.029</td>\n",
       "      <td>Major</td>\n",
       "      <td>0.0644</td>\n",
       "      <td>120.963</td>\n",
       "      <td>4/4</td>\n",
       "      <td>0.524</td>\n",
       "    </tr>\n",
       "    <tr>\n",
       "      <th>96926</th>\n",
       "      <td>Children’s Music</td>\n",
       "      <td>Young Tribe</td>\n",
       "      <td>Kingdom</td>\n",
       "      <td>001gDjxhKGDSx4sMMAgS9R</td>\n",
       "      <td>57</td>\n",
       "      <td>0.034900</td>\n",
       "      <td>0.564</td>\n",
       "      <td>211789</td>\n",
       "      <td>0.808</td>\n",
       "      <td>0.000360</td>\n",
       "      <td>C#</td>\n",
       "      <td>0.3260</td>\n",
       "      <td>-5.825</td>\n",
       "      <td>Major</td>\n",
       "      <td>0.0481</td>\n",
       "      <td>78.439</td>\n",
       "      <td>4/4</td>\n",
       "      <td>0.365</td>\n",
       "    </tr>\n",
       "    <tr>\n",
       "      <th>153533</th>\n",
       "      <td>Rock</td>\n",
       "      <td>Young Tribe</td>\n",
       "      <td>Kingdom</td>\n",
       "      <td>001gDjxhKGDSx4sMMAgS9R</td>\n",
       "      <td>58</td>\n",
       "      <td>0.034900</td>\n",
       "      <td>0.564</td>\n",
       "      <td>211789</td>\n",
       "      <td>0.808</td>\n",
       "      <td>0.000360</td>\n",
       "      <td>C#</td>\n",
       "      <td>0.3260</td>\n",
       "      <td>-5.825</td>\n",
       "      <td>Major</td>\n",
       "      <td>0.0481</td>\n",
       "      <td>78.439</td>\n",
       "      <td>4/4</td>\n",
       "      <td>0.365</td>\n",
       "    </tr>\n",
       "    <tr>\n",
       "      <th>145387</th>\n",
       "      <td>Indie</td>\n",
       "      <td>Alabama Shakes</td>\n",
       "      <td>Gemini</td>\n",
       "      <td>001ifh9Zkyc5DhK7AGQRtK</td>\n",
       "      <td>42</td>\n",
       "      <td>0.447000</td>\n",
       "      <td>0.411</td>\n",
       "      <td>395573</td>\n",
       "      <td>0.422</td>\n",
       "      <td>0.121000</td>\n",
       "      <td>E</td>\n",
       "      <td>0.0742</td>\n",
       "      <td>-5.475</td>\n",
       "      <td>Minor</td>\n",
       "      <td>0.0459</td>\n",
       "      <td>147.465</td>\n",
       "      <td>4/4</td>\n",
       "      <td>0.346</td>\n",
       "    </tr>\n",
       "    <tr>\n",
       "      <th>...</th>\n",
       "      <td>...</td>\n",
       "      <td>...</td>\n",
       "      <td>...</td>\n",
       "      <td>...</td>\n",
       "      <td>...</td>\n",
       "      <td>...</td>\n",
       "      <td>...</td>\n",
       "      <td>...</td>\n",
       "      <td>...</td>\n",
       "      <td>...</td>\n",
       "      <td>...</td>\n",
       "      <td>...</td>\n",
       "      <td>...</td>\n",
       "      <td>...</td>\n",
       "      <td>...</td>\n",
       "      <td>...</td>\n",
       "      <td>...</td>\n",
       "      <td>...</td>\n",
       "    </tr>\n",
       "    <tr>\n",
       "      <th>10340</th>\n",
       "      <td>Alternative</td>\n",
       "      <td>Bay Faction</td>\n",
       "      <td>Beach Book</td>\n",
       "      <td>7zy2ezQByCeFcaDtsxt77o</td>\n",
       "      <td>40</td>\n",
       "      <td>0.063200</td>\n",
       "      <td>0.537</td>\n",
       "      <td>189750</td>\n",
       "      <td>0.474</td>\n",
       "      <td>0.002590</td>\n",
       "      <td>E</td>\n",
       "      <td>0.0917</td>\n",
       "      <td>-7.440</td>\n",
       "      <td>Minor</td>\n",
       "      <td>0.0500</td>\n",
       "      <td>147.310</td>\n",
       "      <td>4/4</td>\n",
       "      <td>0.474</td>\n",
       "    </tr>\n",
       "    <tr>\n",
       "      <th>97007</th>\n",
       "      <td>Children’s Music</td>\n",
       "      <td>Five Finger Death Punch</td>\n",
       "      <td>Dot Your Eyes</td>\n",
       "      <td>7zyJ2g9o0nVOBbDavVveCl</td>\n",
       "      <td>54</td>\n",
       "      <td>0.000508</td>\n",
       "      <td>0.488</td>\n",
       "      <td>195091</td>\n",
       "      <td>0.994</td>\n",
       "      <td>0.000000</td>\n",
       "      <td>C#</td>\n",
       "      <td>0.0623</td>\n",
       "      <td>-3.960</td>\n",
       "      <td>Minor</td>\n",
       "      <td>0.1190</td>\n",
       "      <td>74.011</td>\n",
       "      <td>4/4</td>\n",
       "      <td>0.376</td>\n",
       "    </tr>\n",
       "    <tr>\n",
       "      <th>4751</th>\n",
       "      <td>Alternative</td>\n",
       "      <td>Five Finger Death Punch</td>\n",
       "      <td>Dot Your Eyes</td>\n",
       "      <td>7zyJ2g9o0nVOBbDavVveCl</td>\n",
       "      <td>50</td>\n",
       "      <td>0.000508</td>\n",
       "      <td>0.488</td>\n",
       "      <td>195091</td>\n",
       "      <td>0.994</td>\n",
       "      <td>0.000000</td>\n",
       "      <td>C#</td>\n",
       "      <td>0.0623</td>\n",
       "      <td>-3.960</td>\n",
       "      <td>Minor</td>\n",
       "      <td>0.1190</td>\n",
       "      <td>74.011</td>\n",
       "      <td>4/4</td>\n",
       "      <td>0.376</td>\n",
       "    </tr>\n",
       "    <tr>\n",
       "      <th>100080</th>\n",
       "      <td>Children’s Music</td>\n",
       "      <td>Moonstar88</td>\n",
       "      <td>Migraine</td>\n",
       "      <td>7zzZmpw8L66ZPjH1M6qmOs</td>\n",
       "      <td>67</td>\n",
       "      <td>0.217000</td>\n",
       "      <td>0.664</td>\n",
       "      <td>267960</td>\n",
       "      <td>0.537</td>\n",
       "      <td>0.000003</td>\n",
       "      <td>D</td>\n",
       "      <td>0.1180</td>\n",
       "      <td>-6.000</td>\n",
       "      <td>Major</td>\n",
       "      <td>0.0290</td>\n",
       "      <td>115.049</td>\n",
       "      <td>4/4</td>\n",
       "      <td>0.221</td>\n",
       "    </tr>\n",
       "    <tr>\n",
       "      <th>142703</th>\n",
       "      <td>Indie</td>\n",
       "      <td>Moonstar88</td>\n",
       "      <td>Migraine</td>\n",
       "      <td>7zzZmpw8L66ZPjH1M6qmOs</td>\n",
       "      <td>67</td>\n",
       "      <td>0.217000</td>\n",
       "      <td>0.664</td>\n",
       "      <td>267960</td>\n",
       "      <td>0.537</td>\n",
       "      <td>0.000003</td>\n",
       "      <td>D</td>\n",
       "      <td>0.1180</td>\n",
       "      <td>-6.000</td>\n",
       "      <td>Major</td>\n",
       "      <td>0.0290</td>\n",
       "      <td>115.049</td>\n",
       "      <td>4/4</td>\n",
       "      <td>0.221</td>\n",
       "    </tr>\n",
       "  </tbody>\n",
       "</table>\n",
       "<p>91072 rows × 18 columns</p>\n",
       "</div>"
      ],
      "text/plain": [
       "                   genre              artist_name      track_name  \\\n",
       "14492              Dance                     ZAYN  Still Got Time   \n",
       "110840               Pop                     ZAYN  Still Got Time   \n",
       "96926   Children’s Music              Young Tribe         Kingdom   \n",
       "153533              Rock              Young Tribe         Kingdom   \n",
       "145387             Indie           Alabama Shakes          Gemini   \n",
       "...                  ...                      ...             ...   \n",
       "10340        Alternative              Bay Faction      Beach Book   \n",
       "97007   Children’s Music  Five Finger Death Punch   Dot Your Eyes   \n",
       "4751         Alternative  Five Finger Death Punch   Dot Your Eyes   \n",
       "100080  Children’s Music               Moonstar88        Migraine   \n",
       "142703             Indie               Moonstar88        Migraine   \n",
       "\n",
       "                      track_id  popularity  acousticness  danceability  \\\n",
       "14492   000xQL6tZNLJzIrtIgxqSl          70      0.131000         0.748   \n",
       "110840  000xQL6tZNLJzIrtIgxqSl          70      0.131000         0.748   \n",
       "96926   001gDjxhKGDSx4sMMAgS9R          57      0.034900         0.564   \n",
       "153533  001gDjxhKGDSx4sMMAgS9R          58      0.034900         0.564   \n",
       "145387  001ifh9Zkyc5DhK7AGQRtK          42      0.447000         0.411   \n",
       "...                        ...         ...           ...           ...   \n",
       "10340   7zy2ezQByCeFcaDtsxt77o          40      0.063200         0.537   \n",
       "97007   7zyJ2g9o0nVOBbDavVveCl          54      0.000508         0.488   \n",
       "4751    7zyJ2g9o0nVOBbDavVveCl          50      0.000508         0.488   \n",
       "100080  7zzZmpw8L66ZPjH1M6qmOs          67      0.217000         0.664   \n",
       "142703  7zzZmpw8L66ZPjH1M6qmOs          67      0.217000         0.664   \n",
       "\n",
       "        duration_ms  energy  instrumentalness key  liveness  loudness   mode  \\\n",
       "14492        188491   0.627          0.000000   G    0.0852    -6.029  Major   \n",
       "110840       188491   0.627          0.000000   G    0.0852    -6.029  Major   \n",
       "96926        211789   0.808          0.000360  C#    0.3260    -5.825  Major   \n",
       "153533       211789   0.808          0.000360  C#    0.3260    -5.825  Major   \n",
       "145387       395573   0.422          0.121000   E    0.0742    -5.475  Minor   \n",
       "...             ...     ...               ...  ..       ...       ...    ...   \n",
       "10340        189750   0.474          0.002590   E    0.0917    -7.440  Minor   \n",
       "97007        195091   0.994          0.000000  C#    0.0623    -3.960  Minor   \n",
       "4751         195091   0.994          0.000000  C#    0.0623    -3.960  Minor   \n",
       "100080       267960   0.537          0.000003   D    0.1180    -6.000  Major   \n",
       "142703       267960   0.537          0.000003   D    0.1180    -6.000  Major   \n",
       "\n",
       "        speechiness    tempo time_signature  valence  \n",
       "14492        0.0644  120.963            4/4    0.524  \n",
       "110840       0.0644  120.963            4/4    0.524  \n",
       "96926        0.0481   78.439            4/4    0.365  \n",
       "153533       0.0481   78.439            4/4    0.365  \n",
       "145387       0.0459  147.465            4/4    0.346  \n",
       "...             ...      ...            ...      ...  \n",
       "10340        0.0500  147.310            4/4    0.474  \n",
       "97007        0.1190   74.011            4/4    0.376  \n",
       "4751         0.1190   74.011            4/4    0.376  \n",
       "100080       0.0290  115.049            4/4    0.221  \n",
       "142703       0.0290  115.049            4/4    0.221  \n",
       "\n",
       "[91072 rows x 18 columns]"
      ]
     },
     "execution_count": 8,
     "metadata": {},
     "output_type": "execute_result"
    }
   ],
   "source": [
    "ids = df[\"track_id\"]\n",
    ">>> df[ids.isin(ids[ids.duplicated()])].sort_values(\"track_id\")"
   ]
  },
  {
   "cell_type": "code",
   "execution_count": 9,
   "id": "13b1df39",
   "metadata": {
    "execution": {
     "iopub.execute_input": "2022-08-25T20:08:43.630167Z",
     "iopub.status.busy": "2022-08-25T20:08:43.629792Z",
     "iopub.status.idle": "2022-08-25T20:08:43.881531Z",
     "shell.execute_reply": "2022-08-25T20:08:43.880128Z"
    },
    "papermill": {
     "duration": 0.266951,
     "end_time": "2022-08-25T20:08:43.883911",
     "exception": false,
     "start_time": "2022-08-25T20:08:43.616960",
     "status": "completed"
    },
    "tags": []
   },
   "outputs": [
    {
     "name": "stdout",
     "output_type": "stream",
     "text": [
      "Classical Tracks number: 9256\n",
      "Pop Tracks number: 9385\n",
      "Folk Tracks number: 9299\n",
      "Total Tracks number: 27940\n"
     ]
    },
    {
     "data": {
      "image/png": "[encoded data removed]",
      "text/plain": [
       "<Figure size 432x288 with 1 Axes>"
      ]
     },
     "metadata": {
      "needs_background": "light"
     },
     "output_type": "display_data"
    }
   ],
   "source": [
    "# i'm going to pick the three genres of the Philip Tagg's axiomatic triangle:\n",
    "# Classical, Pop and Folk, as we can see they are pretty balanced\n",
    "\n",
    "taggGenres = ['Classical','Pop','Folk']\n",
    "df = df[df.genre.isin(taggGenres)];\n",
    "sns.histplot(df['genre']).set_title('Genre Distribution')\n",
    "\n",
    "print(\"Classical Tracks number: %s\" % len(df[df['genre'] == 'Classical']));\n",
    "print(\"Pop Tracks number: %s\" % len(df[df['genre'] == 'Pop']));\n",
    "print(\"Folk Tracks number: %s\" % len(df[df['genre'] == 'Folk']));\n",
    "\n",
    "print(\"Total Tracks number: %s\" % len(df));"
   ]
  },
  {
   "cell_type": "code",
   "execution_count": 10,
   "id": "aa46370b",
   "metadata": {
    "execution": {
     "iopub.execute_input": "2022-08-25T20:08:43.910827Z",
     "iopub.status.busy": "2022-08-25T20:08:43.910413Z",
     "iopub.status.idle": "2022-08-25T20:08:43.959804Z",
     "shell.execute_reply": "2022-08-25T20:08:43.958717Z"
    },
    "papermill": {
     "duration": 0.065844,
     "end_time": "2022-08-25T20:08:43.962119",
     "exception": false,
     "start_time": "2022-08-25T20:08:43.896275",
     "status": "completed"
    },
    "tags": []
   },
   "outputs": [
    {
     "data": {
      "text/html": [
       "<div>\n",
       "<style scoped>\n",
       "    .dataframe tbody tr th:only-of-type {\n",
       "        vertical-align: middle;\n",
       "    }\n",
       "\n",
       "    .dataframe tbody tr th {\n",
       "        vertical-align: top;\n",
       "    }\n",
       "\n",
       "    .dataframe thead th {\n",
       "        text-align: right;\n",
       "    }\n",
       "</style>\n",
       "<table border=\"1\" class=\"dataframe\">\n",
       "  <thead>\n",
       "    <tr style=\"text-align: right;\">\n",
       "      <th></th>\n",
       "      <th>genre</th>\n",
       "      <th>artist_name</th>\n",
       "      <th>track_name</th>\n",
       "      <th>track_id</th>\n",
       "      <th>popularity</th>\n",
       "      <th>acousticness</th>\n",
       "      <th>danceability</th>\n",
       "      <th>duration_ms</th>\n",
       "      <th>energy</th>\n",
       "      <th>instrumentalness</th>\n",
       "      <th>key</th>\n",
       "      <th>liveness</th>\n",
       "      <th>loudness</th>\n",
       "      <th>mode</th>\n",
       "      <th>speechiness</th>\n",
       "      <th>tempo</th>\n",
       "      <th>time_signature</th>\n",
       "      <th>valence</th>\n",
       "    </tr>\n",
       "  </thead>\n",
       "  <tbody>\n",
       "    <tr>\n",
       "      <th>40627</th>\n",
       "      <td>Folk</td>\n",
       "      <td>Seals and Crofts</td>\n",
       "      <td>Summer Breeze</td>\n",
       "      <td>01UYpHuzHi4eB9PAbDoPY2</td>\n",
       "      <td>71</td>\n",
       "      <td>0.6110</td>\n",
       "      <td>0.501</td>\n",
       "      <td>203967</td>\n",
       "      <td>0.474</td>\n",
       "      <td>0.029800</td>\n",
       "      <td>F</td>\n",
       "      <td>0.0667</td>\n",
       "      <td>-10.041</td>\n",
       "      <td>Major</td>\n",
       "      <td>0.0386</td>\n",
       "      <td>88.609</td>\n",
       "      <td>4/4</td>\n",
       "      <td>0.350</td>\n",
       "    </tr>\n",
       "    <tr>\n",
       "      <th>111238</th>\n",
       "      <td>Pop</td>\n",
       "      <td>Seals and Crofts</td>\n",
       "      <td>Summer Breeze</td>\n",
       "      <td>01UYpHuzHi4eB9PAbDoPY2</td>\n",
       "      <td>71</td>\n",
       "      <td>0.6110</td>\n",
       "      <td>0.501</td>\n",
       "      <td>203967</td>\n",
       "      <td>0.474</td>\n",
       "      <td>0.029800</td>\n",
       "      <td>F</td>\n",
       "      <td>0.0667</td>\n",
       "      <td>-10.041</td>\n",
       "      <td>Major</td>\n",
       "      <td>0.0386</td>\n",
       "      <td>88.609</td>\n",
       "      <td>4/4</td>\n",
       "      <td>0.350</td>\n",
       "    </tr>\n",
       "    <tr>\n",
       "      <th>41219</th>\n",
       "      <td>Folk</td>\n",
       "      <td>The Zombies</td>\n",
       "      <td>This Will Be Our Year</td>\n",
       "      <td>02KpkaZbiutsR0ucxce4Sh</td>\n",
       "      <td>65</td>\n",
       "      <td>0.6260</td>\n",
       "      <td>0.535</td>\n",
       "      <td>127733</td>\n",
       "      <td>0.424</td>\n",
       "      <td>0.000000</td>\n",
       "      <td>A</td>\n",
       "      <td>0.1910</td>\n",
       "      <td>-7.491</td>\n",
       "      <td>Major</td>\n",
       "      <td>0.0314</td>\n",
       "      <td>97.506</td>\n",
       "      <td>4/4</td>\n",
       "      <td>0.539</td>\n",
       "    </tr>\n",
       "    <tr>\n",
       "      <th>113906</th>\n",
       "      <td>Pop</td>\n",
       "      <td>The Zombies</td>\n",
       "      <td>This Will Be Our Year</td>\n",
       "      <td>02KpkaZbiutsR0ucxce4Sh</td>\n",
       "      <td>65</td>\n",
       "      <td>0.6260</td>\n",
       "      <td>0.535</td>\n",
       "      <td>127733</td>\n",
       "      <td>0.424</td>\n",
       "      <td>0.000000</td>\n",
       "      <td>A</td>\n",
       "      <td>0.1910</td>\n",
       "      <td>-7.491</td>\n",
       "      <td>Major</td>\n",
       "      <td>0.0314</td>\n",
       "      <td>97.506</td>\n",
       "      <td>4/4</td>\n",
       "      <td>0.539</td>\n",
       "    </tr>\n",
       "    <tr>\n",
       "      <th>40666</th>\n",
       "      <td>Folk</td>\n",
       "      <td>Peter Bradley Adams</td>\n",
       "      <td>My Arms Were Always Around You</td>\n",
       "      <td>02a2RQEICEzbdPPYh0aLnJ</td>\n",
       "      <td>68</td>\n",
       "      <td>0.7240</td>\n",
       "      <td>0.643</td>\n",
       "      <td>200800</td>\n",
       "      <td>0.436</td>\n",
       "      <td>0.459000</td>\n",
       "      <td>C#</td>\n",
       "      <td>0.1100</td>\n",
       "      <td>-12.245</td>\n",
       "      <td>Major</td>\n",
       "      <td>0.0273</td>\n",
       "      <td>91.485</td>\n",
       "      <td>4/4</td>\n",
       "      <td>0.422</td>\n",
       "    </tr>\n",
       "    <tr>\n",
       "      <th>...</th>\n",
       "      <td>...</td>\n",
       "      <td>...</td>\n",
       "      <td>...</td>\n",
       "      <td>...</td>\n",
       "      <td>...</td>\n",
       "      <td>...</td>\n",
       "      <td>...</td>\n",
       "      <td>...</td>\n",
       "      <td>...</td>\n",
       "      <td>...</td>\n",
       "      <td>...</td>\n",
       "      <td>...</td>\n",
       "      <td>...</td>\n",
       "      <td>...</td>\n",
       "      <td>...</td>\n",
       "      <td>...</td>\n",
       "      <td>...</td>\n",
       "      <td>...</td>\n",
       "    </tr>\n",
       "    <tr>\n",
       "      <th>112103</th>\n",
       "      <td>Pop</td>\n",
       "      <td>Mat Kearney</td>\n",
       "      <td>Money</td>\n",
       "      <td>7zb2TzZwpXuBJutFIqS6lA</td>\n",
       "      <td>61</td>\n",
       "      <td>0.7100</td>\n",
       "      <td>0.740</td>\n",
       "      <td>149560</td>\n",
       "      <td>0.622</td>\n",
       "      <td>0.000122</td>\n",
       "      <td>C#</td>\n",
       "      <td>0.1800</td>\n",
       "      <td>-5.492</td>\n",
       "      <td>Minor</td>\n",
       "      <td>0.0306</td>\n",
       "      <td>93.985</td>\n",
       "      <td>4/4</td>\n",
       "      <td>0.759</td>\n",
       "    </tr>\n",
       "    <tr>\n",
       "      <th>41122</th>\n",
       "      <td>Folk</td>\n",
       "      <td>Local Natives</td>\n",
       "      <td>When Am I Gonna Lose You</td>\n",
       "      <td>7ze7X8r4fopBs9ZRtwYFOX</td>\n",
       "      <td>59</td>\n",
       "      <td>0.0417</td>\n",
       "      <td>0.452</td>\n",
       "      <td>264213</td>\n",
       "      <td>0.834</td>\n",
       "      <td>0.000360</td>\n",
       "      <td>B</td>\n",
       "      <td>0.1190</td>\n",
       "      <td>-4.657</td>\n",
       "      <td>Major</td>\n",
       "      <td>0.0967</td>\n",
       "      <td>142.088</td>\n",
       "      <td>4/4</td>\n",
       "      <td>0.514</td>\n",
       "    </tr>\n",
       "    <tr>\n",
       "      <th>113662</th>\n",
       "      <td>Pop</td>\n",
       "      <td>Local Natives</td>\n",
       "      <td>When Am I Gonna Lose You</td>\n",
       "      <td>7ze7X8r4fopBs9ZRtwYFOX</td>\n",
       "      <td>59</td>\n",
       "      <td>0.0417</td>\n",
       "      <td>0.452</td>\n",
       "      <td>264213</td>\n",
       "      <td>0.834</td>\n",
       "      <td>0.000360</td>\n",
       "      <td>B</td>\n",
       "      <td>0.1190</td>\n",
       "      <td>-4.657</td>\n",
       "      <td>Major</td>\n",
       "      <td>0.0967</td>\n",
       "      <td>142.088</td>\n",
       "      <td>4/4</td>\n",
       "      <td>0.514</td>\n",
       "    </tr>\n",
       "    <tr>\n",
       "      <th>41038</th>\n",
       "      <td>Folk</td>\n",
       "      <td>Norah Jones</td>\n",
       "      <td>Sunrise</td>\n",
       "      <td>7zkLpY72g6lKQbiHDqri1S</td>\n",
       "      <td>70</td>\n",
       "      <td>0.9410</td>\n",
       "      <td>0.526</td>\n",
       "      <td>200627</td>\n",
       "      <td>0.299</td>\n",
       "      <td>0.097000</td>\n",
       "      <td>G#</td>\n",
       "      <td>0.1060</td>\n",
       "      <td>-13.797</td>\n",
       "      <td>Major</td>\n",
       "      <td>0.0310</td>\n",
       "      <td>156.848</td>\n",
       "      <td>4/4</td>\n",
       "      <td>0.679</td>\n",
       "    </tr>\n",
       "    <tr>\n",
       "      <th>150542</th>\n",
       "      <td>Pop</td>\n",
       "      <td>Norah Jones</td>\n",
       "      <td>Sunrise</td>\n",
       "      <td>7zkLpY72g6lKQbiHDqri1S</td>\n",
       "      <td>70</td>\n",
       "      <td>0.9410</td>\n",
       "      <td>0.526</td>\n",
       "      <td>200627</td>\n",
       "      <td>0.299</td>\n",
       "      <td>0.097000</td>\n",
       "      <td>G#</td>\n",
       "      <td>0.1060</td>\n",
       "      <td>-13.797</td>\n",
       "      <td>Major</td>\n",
       "      <td>0.0310</td>\n",
       "      <td>156.848</td>\n",
       "      <td>4/4</td>\n",
       "      <td>0.679</td>\n",
       "    </tr>\n",
       "  </tbody>\n",
       "</table>\n",
       "<p>1424 rows × 18 columns</p>\n",
       "</div>"
      ],
      "text/plain": [
       "       genre          artist_name                      track_name  \\\n",
       "40627   Folk     Seals and Crofts                   Summer Breeze   \n",
       "111238   Pop     Seals and Crofts                   Summer Breeze   \n",
       "41219   Folk          The Zombies           This Will Be Our Year   \n",
       "113906   Pop          The Zombies           This Will Be Our Year   \n",
       "40666   Folk  Peter Bradley Adams  My Arms Were Always Around You   \n",
       "...      ...                  ...                             ...   \n",
       "112103   Pop          Mat Kearney                           Money   \n",
       "41122   Folk        Local Natives        When Am I Gonna Lose You   \n",
       "113662   Pop        Local Natives        When Am I Gonna Lose You   \n",
       "41038   Folk          Norah Jones                         Sunrise   \n",
       "150542   Pop          Norah Jones                         Sunrise   \n",
       "\n",
       "                      track_id  popularity  acousticness  danceability  \\\n",
       "40627   01UYpHuzHi4eB9PAbDoPY2          71        0.6110         0.501   \n",
       "111238  01UYpHuzHi4eB9PAbDoPY2          71        0.6110         0.501   \n",
       "41219   02KpkaZbiutsR0ucxce4Sh          65        0.6260         0.535   \n",
       "113906  02KpkaZbiutsR0ucxce4Sh          65        0.6260         0.535   \n",
       "40666   02a2RQEICEzbdPPYh0aLnJ          68        0.7240         0.643   \n",
       "...                        ...         ...           ...           ...   \n",
       "112103  7zb2TzZwpXuBJutFIqS6lA          61        0.7100         0.740   \n",
       "41122   7ze7X8r4fopBs9ZRtwYFOX          59        0.0417         0.452   \n",
       "113662  7ze7X8r4fopBs9ZRtwYFOX          59        0.0417         0.452   \n",
       "41038   7zkLpY72g6lKQbiHDqri1S          70        0.9410         0.526   \n",
       "150542  7zkLpY72g6lKQbiHDqri1S          70        0.9410         0.526   \n",
       "\n",
       "        duration_ms  energy  instrumentalness key  liveness  loudness   mode  \\\n",
       "40627        203967   0.474          0.029800   F    0.0667   -10.041  Major   \n",
       "111238       203967   0.474          0.029800   F    0.0667   -10.041  Major   \n",
       "41219        127733   0.424          0.000000   A    0.1910    -7.491  Major   \n",
       "113906       127733   0.424          0.000000   A    0.1910    -7.491  Major   \n",
       "40666        200800   0.436          0.459000  C#    0.1100   -12.245  Major   \n",
       "...             ...     ...               ...  ..       ...       ...    ...   \n",
       "112103       149560   0.622          0.000122  C#    0.1800    -5.492  Minor   \n",
       "41122        264213   0.834          0.000360   B    0.1190    -4.657  Major   \n",
       "113662       264213   0.834          0.000360   B    0.1190    -4.657  Major   \n",
       "41038        200627   0.299          0.097000  G#    0.1060   -13.797  Major   \n",
       "150542       200627   0.299          0.097000  G#    0.1060   -13.797  Major   \n",
       "\n",
       "        speechiness    tempo time_signature  valence  \n",
       "40627        0.0386   88.609            4/4    0.350  \n",
       "111238       0.0386   88.609            4/4    0.350  \n",
       "41219        0.0314   97.506            4/4    0.539  \n",
       "113906       0.0314   97.506            4/4    0.539  \n",
       "40666        0.0273   91.485            4/4    0.422  \n",
       "...             ...      ...            ...      ...  \n",
       "112103       0.0306   93.985            4/4    0.759  \n",
       "41122        0.0967  142.088            4/4    0.514  \n",
       "113662       0.0967  142.088            4/4    0.514  \n",
       "41038        0.0310  156.848            4/4    0.679  \n",
       "150542       0.0310  156.848            4/4    0.679  \n",
       "\n",
       "[1424 rows x 18 columns]"
      ]
     },
     "metadata": {},
     "output_type": "display_data"
    }
   ],
   "source": [
    "ids = df[\"track_id\"]\n",
    ">>> dup_df = df[ids.isin(ids[ids.duplicated()])].sort_values(\"track_id\")\n",
    "display(dup_df)"
   ]
  },
  {
   "cell_type": "code",
   "execution_count": 11,
   "id": "be2c5879",
   "metadata": {
    "execution": {
     "iopub.execute_input": "2022-08-25T20:08:43.988688Z",
     "iopub.status.busy": "2022-08-25T20:08:43.988291Z",
     "iopub.status.idle": "2022-08-25T20:08:44.024577Z",
     "shell.execute_reply": "2022-08-25T20:08:44.023415Z"
    },
    "papermill": {
     "duration": 0.052947,
     "end_time": "2022-08-25T20:08:44.027472",
     "exception": false,
     "start_time": "2022-08-25T20:08:43.974525",
     "status": "completed"
    },
    "tags": []
   },
   "outputs": [],
   "source": [
    "# Remove every track which is duplicated\n",
    "df = df.drop_duplicates(subset = [\"track_id\"], keep=False)\n",
    "# Remove duplicates in the only duplicates dataframe and assign half to Pop and half to Folk\n",
    "dup_df = dup_df.drop_duplicates(subset = [\"track_id\"])\n",
    "dup_df = dup_df[dup_df['genre'] != 'Classical']\n",
    "part_50 = dup_df.sample(frac = 0.5)\n",
    "rest_part_50 = dup_df.drop(part_50.index)\n",
    "part_50 = part_50.assign(genre = 'Pop')\n",
    "rest_part_50 = rest_part_50.assign(genre = 'Folk')\n",
    "df = pd.concat([df, part_50, rest_part_50])"
   ]
  },
  {
   "cell_type": "code",
   "execution_count": 12,
   "id": "d1b3bc44",
   "metadata": {
    "execution": {
     "iopub.execute_input": "2022-08-25T20:08:44.054613Z",
     "iopub.status.busy": "2022-08-25T20:08:44.053737Z",
     "iopub.status.idle": "2022-08-25T20:08:44.075745Z",
     "shell.execute_reply": "2022-08-25T20:08:44.074871Z"
    },
    "papermill": {
     "duration": 0.038095,
     "end_time": "2022-08-25T20:08:44.077970",
     "exception": false,
     "start_time": "2022-08-25T20:08:44.039875",
     "status": "completed"
    },
    "tags": []
   },
   "outputs": [
    {
     "data": {
      "text/html": [
       "<div>\n",
       "<style scoped>\n",
       "    .dataframe tbody tr th:only-of-type {\n",
       "        vertical-align: middle;\n",
       "    }\n",
       "\n",
       "    .dataframe tbody tr th {\n",
       "        vertical-align: top;\n",
       "    }\n",
       "\n",
       "    .dataframe thead th {\n",
       "        text-align: right;\n",
       "    }\n",
       "</style>\n",
       "<table border=\"1\" class=\"dataframe\">\n",
       "  <thead>\n",
       "    <tr style=\"text-align: right;\">\n",
       "      <th></th>\n",
       "      <th>genre</th>\n",
       "      <th>artist_name</th>\n",
       "      <th>track_name</th>\n",
       "      <th>track_id</th>\n",
       "      <th>popularity</th>\n",
       "      <th>acousticness</th>\n",
       "      <th>danceability</th>\n",
       "      <th>duration_ms</th>\n",
       "      <th>energy</th>\n",
       "      <th>instrumentalness</th>\n",
       "      <th>key</th>\n",
       "      <th>liveness</th>\n",
       "      <th>loudness</th>\n",
       "      <th>mode</th>\n",
       "      <th>speechiness</th>\n",
       "      <th>tempo</th>\n",
       "      <th>time_signature</th>\n",
       "      <th>valence</th>\n",
       "    </tr>\n",
       "  </thead>\n",
       "  <tbody>\n",
       "  </tbody>\n",
       "</table>\n",
       "</div>"
      ],
      "text/plain": [
       "Empty DataFrame\n",
       "Columns: [genre, artist_name, track_name, track_id, popularity, acousticness, danceability, duration_ms, energy, instrumentalness, key, liveness, loudness, mode, speechiness, tempo, time_signature, valence]\n",
       "Index: []"
      ]
     },
     "execution_count": 12,
     "metadata": {},
     "output_type": "execute_result"
    }
   ],
   "source": [
    "ids = df[\"track_id\"]\n",
    ">>> df[ids.isin(ids[ids.duplicated()])].sort_values(\"track_id\")"
   ]
  },
  {
   "cell_type": "code",
   "execution_count": 13,
   "id": "c18ea1fb",
   "metadata": {
    "execution": {
     "iopub.execute_input": "2022-08-25T20:08:44.105459Z",
     "iopub.status.busy": "2022-08-25T20:08:44.104859Z",
     "iopub.status.idle": "2022-08-25T20:08:44.123357Z",
     "shell.execute_reply": "2022-08-25T20:08:44.122527Z"
    },
    "papermill": {
     "duration": 0.035763,
     "end_time": "2022-08-25T20:08:44.126769",
     "exception": false,
     "start_time": "2022-08-25T20:08:44.091006",
     "status": "completed"
    },
    "tags": []
   },
   "outputs": [
    {
     "name": "stdout",
     "output_type": "stream",
     "text": [
      "Classical Tracks number: 9252\n",
      "Pop Tracks number: 9030\n",
      "Folk Tracks number: 8945\n",
      "Total Tracks number: 27227\n"
     ]
    }
   ],
   "source": [
    "print(\"Classical Tracks number: %s\" % len(df[df['genre'] == 'Classical']));\n",
    "print(\"Pop Tracks number: %s\" % len(df[df['genre'] == 'Pop']));\n",
    "print(\"Folk Tracks number: %s\" % len(df[df['genre'] == 'Folk']));\n",
    "\n",
    "print(\"Total Tracks number: %s\" % len(df));"
   ]
  },
  {
   "cell_type": "code",
   "execution_count": 14,
   "id": "0d2fedd8",
   "metadata": {
    "execution": {
     "iopub.execute_input": "2022-08-25T20:08:44.155527Z",
     "iopub.status.busy": "2022-08-25T20:08:44.154867Z",
     "iopub.status.idle": "2022-08-25T20:08:44.562544Z",
     "shell.execute_reply": "2022-08-25T20:08:44.561251Z"
    },
    "papermill": {
     "duration": 0.424404,
     "end_time": "2022-08-25T20:08:44.565237",
     "exception": false,
     "start_time": "2022-08-25T20:08:44.140833",
     "status": "completed"
    },
    "tags": []
   },
   "outputs": [
    {
     "data": {
      "text/plain": [
       "Text(0.5, 1.0, 'Key usage for every genre')"
      ]
     },
     "execution_count": 14,
     "metadata": {},
     "output_type": "execute_result"
    },
    {
     "data": {
      "image/png": "[encoded data removed]",
      "text/plain": [
       "<Figure size 1584x432 with 1 Axes>"
      ]
     },
     "metadata": {
      "needs_background": "light"
     },
     "output_type": "display_data"
    }
   ],
   "source": [
    "plt.figure(figsize=(22, 6))\n",
    "sns.countplot(x = 'key', hue = 'genre', data = df)\n",
    "plt.title('Key usage for every genre')\n",
    "# This is the distribution of key usage for every genre, I decided at the end to drop this and the mode\n",
    "# features since they don't have much meaning in a genre prediction"
   ]
  },
  {
   "cell_type": "code",
   "execution_count": 15,
   "id": "43328712",
   "metadata": {
    "execution": {
     "iopub.execute_input": "2022-08-25T20:08:44.594028Z",
     "iopub.status.busy": "2022-08-25T20:08:44.593640Z",
     "iopub.status.idle": "2022-08-25T20:08:44.755007Z",
     "shell.execute_reply": "2022-08-25T20:08:44.753709Z"
    },
    "papermill": {
     "duration": 0.178728,
     "end_time": "2022-08-25T20:08:44.757438",
     "exception": false,
     "start_time": "2022-08-25T20:08:44.578710",
     "status": "completed"
    },
    "tags": []
   },
   "outputs": [
    {
     "data": {
      "text/html": [
       "<div>\n",
       "<style scoped>\n",
       "    .dataframe tbody tr th:only-of-type {\n",
       "        vertical-align: middle;\n",
       "    }\n",
       "\n",
       "    .dataframe tbody tr th {\n",
       "        vertical-align: top;\n",
       "    }\n",
       "\n",
       "    .dataframe thead th {\n",
       "        text-align: right;\n",
       "    }\n",
       "</style>\n",
       "<table border=\"1\" class=\"dataframe\">\n",
       "  <thead>\n",
       "    <tr style=\"text-align: right;\">\n",
       "      <th></th>\n",
       "      <th>genre</th>\n",
       "      <th>acousticness</th>\n",
       "      <th>danceability</th>\n",
       "      <th>energy</th>\n",
       "      <th>instrumentalness</th>\n",
       "      <th>liveness</th>\n",
       "      <th>loudness</th>\n",
       "      <th>speechiness</th>\n",
       "      <th>tempo</th>\n",
       "      <th>valence</th>\n",
       "      <th>time_signature_3</th>\n",
       "      <th>time_signature_4</th>\n",
       "      <th>time_signature_5</th>\n",
       "    </tr>\n",
       "  </thead>\n",
       "  <tbody>\n",
       "    <tr>\n",
       "      <th>62591</th>\n",
       "      <td>Folk</td>\n",
       "      <td>0.004380</td>\n",
       "      <td>0.528</td>\n",
       "      <td>0.908</td>\n",
       "      <td>0.000524</td>\n",
       "      <td>0.3350</td>\n",
       "      <td>-5.609</td>\n",
       "      <td>0.0608</td>\n",
       "      <td>121.491</td>\n",
       "      <td>0.477</td>\n",
       "      <td>0</td>\n",
       "      <td>1</td>\n",
       "      <td>0</td>\n",
       "    </tr>\n",
       "    <tr>\n",
       "      <th>151477</th>\n",
       "      <td>Pop</td>\n",
       "      <td>0.001530</td>\n",
       "      <td>0.638</td>\n",
       "      <td>0.642</td>\n",
       "      <td>0.000004</td>\n",
       "      <td>0.0826</td>\n",
       "      <td>-4.422</td>\n",
       "      <td>0.0639</td>\n",
       "      <td>165.984</td>\n",
       "      <td>0.676</td>\n",
       "      <td>0</td>\n",
       "      <td>1</td>\n",
       "      <td>0</td>\n",
       "    </tr>\n",
       "    <tr>\n",
       "      <th>40602</th>\n",
       "      <td>Folk</td>\n",
       "      <td>0.824000</td>\n",
       "      <td>0.629</td>\n",
       "      <td>0.208</td>\n",
       "      <td>0.000004</td>\n",
       "      <td>0.1070</td>\n",
       "      <td>-16.225</td>\n",
       "      <td>0.0324</td>\n",
       "      <td>96.609</td>\n",
       "      <td>0.685</td>\n",
       "      <td>0</td>\n",
       "      <td>1</td>\n",
       "      <td>0</td>\n",
       "    </tr>\n",
       "    <tr>\n",
       "      <th>151328</th>\n",
       "      <td>Pop</td>\n",
       "      <td>0.952000</td>\n",
       "      <td>0.576</td>\n",
       "      <td>0.121</td>\n",
       "      <td>0.001110</td>\n",
       "      <td>0.1000</td>\n",
       "      <td>-17.343</td>\n",
       "      <td>0.0360</td>\n",
       "      <td>116.826</td>\n",
       "      <td>0.063</td>\n",
       "      <td>0</td>\n",
       "      <td>1</td>\n",
       "      <td>0</td>\n",
       "    </tr>\n",
       "    <tr>\n",
       "      <th>62401</th>\n",
       "      <td>Folk</td>\n",
       "      <td>0.000182</td>\n",
       "      <td>0.356</td>\n",
       "      <td>0.822</td>\n",
       "      <td>0.000146</td>\n",
       "      <td>0.3000</td>\n",
       "      <td>-7.246</td>\n",
       "      <td>0.0323</td>\n",
       "      <td>155.041</td>\n",
       "      <td>0.561</td>\n",
       "      <td>0</td>\n",
       "      <td>1</td>\n",
       "      <td>0</td>\n",
       "    </tr>\n",
       "  </tbody>\n",
       "</table>\n",
       "</div>"
      ],
      "text/plain": [
       "       genre  acousticness  danceability  energy  instrumentalness  liveness  \\\n",
       "62591   Folk      0.004380         0.528   0.908          0.000524    0.3350   \n",
       "151477   Pop      0.001530         0.638   0.642          0.000004    0.0826   \n",
       "40602   Folk      0.824000         0.629   0.208          0.000004    0.1070   \n",
       "151328   Pop      0.952000         0.576   0.121          0.001110    0.1000   \n",
       "62401   Folk      0.000182         0.356   0.822          0.000146    0.3000   \n",
       "\n",
       "        loudness  speechiness    tempo  valence  time_signature_3  \\\n",
       "62591     -5.609       0.0608  121.491    0.477                 0   \n",
       "151477    -4.422       0.0639  165.984    0.676                 0   \n",
       "40602    -16.225       0.0324   96.609    0.685                 0   \n",
       "151328   -17.343       0.0360  116.826    0.063                 0   \n",
       "62401     -7.246       0.0323  155.041    0.561                 0   \n",
       "\n",
       "        time_signature_4  time_signature_5  \n",
       "62591                  1                 0  \n",
       "151477                 1                 0  \n",
       "40602                  1                 0  \n",
       "151328                 1                 0  \n",
       "62401                  1                 0  "
      ]
     },
     "metadata": {},
     "output_type": "display_data"
    }
   ],
   "source": [
    "# Let's now remove the unnecessary features\n",
    "new_df = df.drop(['artist_name','track_name','track_id','popularity','key','mode','duration_ms'],axis = 1)\n",
    "# Make a one hot encoding of the time signature\n",
    "new_df.time_signature = new_df.time_signature.map( {'3/4':3 , '4/4':4, '5/4':5} )\n",
    "new_df = pd.get_dummies(data= new_df, columns=['time_signature'])\n",
    "# Shuffle the dataset\n",
    "from sklearn.utils import shuffle\n",
    "new_df = shuffle(new_df)\n",
    "display(new_df.head())"
   ]
  },
  {
   "cell_type": "code",
   "execution_count": 16,
   "id": "d4ae3f57",
   "metadata": {
    "execution": {
     "iopub.execute_input": "2022-08-25T20:08:44.786634Z",
     "iopub.status.busy": "2022-08-25T20:08:44.786222Z",
     "iopub.status.idle": "2022-08-25T20:08:44.794120Z",
     "shell.execute_reply": "2022-08-25T20:08:44.793057Z"
    },
    "papermill": {
     "duration": 0.025327,
     "end_time": "2022-08-25T20:08:44.796510",
     "exception": false,
     "start_time": "2022-08-25T20:08:44.771183",
     "status": "completed"
    },
    "tags": []
   },
   "outputs": [
    {
     "data": {
      "text/plain": [
       "Index(['acousticness', 'danceability', 'energy', 'instrumentalness',\n",
       "       'liveness', 'loudness', 'speechiness', 'tempo', 'valence',\n",
       "       'time_signature_3', 'time_signature_4', 'time_signature_5'],\n",
       "      dtype='object')"
      ]
     },
     "metadata": {},
     "output_type": "display_data"
    }
   ],
   "source": [
    "features = new_df.keys().drop(['genre']);\n",
    "display(features)"
   ]
  },
  {
   "cell_type": "code",
   "execution_count": 17,
   "id": "20b96dc1",
   "metadata": {
    "execution": {
     "iopub.execute_input": "2022-08-25T20:08:44.824659Z",
     "iopub.status.busy": "2022-08-25T20:08:44.824243Z",
     "iopub.status.idle": "2022-08-25T20:08:44.989479Z",
     "shell.execute_reply": "2022-08-25T20:08:44.988313Z"
    },
    "papermill": {
     "duration": 0.182412,
     "end_time": "2022-08-25T20:08:44.992246",
     "exception": false,
     "start_time": "2022-08-25T20:08:44.809834",
     "status": "completed"
    },
    "tags": []
   },
   "outputs": [
    {
     "data": {
      "text/html": [
       "<div>\n",
       "<style scoped>\n",
       "    .dataframe tbody tr th:only-of-type {\n",
       "        vertical-align: middle;\n",
       "    }\n",
       "\n",
       "    .dataframe tbody tr th {\n",
       "        vertical-align: top;\n",
       "    }\n",
       "\n",
       "    .dataframe thead th {\n",
       "        text-align: right;\n",
       "    }\n",
       "</style>\n",
       "<table border=\"1\" class=\"dataframe\">\n",
       "  <thead>\n",
       "    <tr style=\"text-align: right;\">\n",
       "      <th></th>\n",
       "      <th>acousticness</th>\n",
       "      <th>danceability</th>\n",
       "      <th>energy</th>\n",
       "      <th>instrumentalness</th>\n",
       "      <th>liveness</th>\n",
       "      <th>loudness</th>\n",
       "      <th>speechiness</th>\n",
       "      <th>tempo</th>\n",
       "      <th>valence</th>\n",
       "      <th>time_signature_3</th>\n",
       "      <th>time_signature_4</th>\n",
       "      <th>time_signature_5</th>\n",
       "    </tr>\n",
       "  </thead>\n",
       "  <tbody>\n",
       "    <tr>\n",
       "      <th>41599</th>\n",
       "      <td>0.00387</td>\n",
       "      <td>0.523</td>\n",
       "      <td>0.833</td>\n",
       "      <td>0.000339</td>\n",
       "      <td>0.0841</td>\n",
       "      <td>-4.374</td>\n",
       "      <td>0.0405</td>\n",
       "      <td>115.975</td>\n",
       "      <td>0.4820</td>\n",
       "      <td>0</td>\n",
       "      <td>1</td>\n",
       "      <td>0</td>\n",
       "    </tr>\n",
       "    <tr>\n",
       "      <th>41267</th>\n",
       "      <td>0.84200</td>\n",
       "      <td>0.218</td>\n",
       "      <td>0.243</td>\n",
       "      <td>0.768000</td>\n",
       "      <td>0.1090</td>\n",
       "      <td>-11.173</td>\n",
       "      <td>0.0299</td>\n",
       "      <td>155.306</td>\n",
       "      <td>0.0708</td>\n",
       "      <td>1</td>\n",
       "      <td>0</td>\n",
       "      <td>0</td>\n",
       "    </tr>\n",
       "    <tr>\n",
       "      <th>61965</th>\n",
       "      <td>0.31100</td>\n",
       "      <td>0.461</td>\n",
       "      <td>0.747</td>\n",
       "      <td>0.023000</td>\n",
       "      <td>0.0985</td>\n",
       "      <td>-5.880</td>\n",
       "      <td>0.0759</td>\n",
       "      <td>139.974</td>\n",
       "      <td>0.3180</td>\n",
       "      <td>0</td>\n",
       "      <td>1</td>\n",
       "      <td>0</td>\n",
       "    </tr>\n",
       "    <tr>\n",
       "      <th>62490</th>\n",
       "      <td>0.72200</td>\n",
       "      <td>0.391</td>\n",
       "      <td>0.392</td>\n",
       "      <td>0.000099</td>\n",
       "      <td>0.0983</td>\n",
       "      <td>-14.783</td>\n",
       "      <td>0.0330</td>\n",
       "      <td>144.014</td>\n",
       "      <td>0.1550</td>\n",
       "      <td>0</td>\n",
       "      <td>1</td>\n",
       "      <td>0</td>\n",
       "    </tr>\n",
       "    <tr>\n",
       "      <th>112214</th>\n",
       "      <td>0.10300</td>\n",
       "      <td>0.741</td>\n",
       "      <td>0.671</td>\n",
       "      <td>0.000239</td>\n",
       "      <td>0.0585</td>\n",
       "      <td>-6.805</td>\n",
       "      <td>0.0338</td>\n",
       "      <td>114.031</td>\n",
       "      <td>0.8080</td>\n",
       "      <td>0</td>\n",
       "      <td>1</td>\n",
       "      <td>0</td>\n",
       "    </tr>\n",
       "  </tbody>\n",
       "</table>\n",
       "</div>"
      ],
      "text/plain": [
       "        acousticness  danceability  energy  instrumentalness  liveness  \\\n",
       "41599        0.00387         0.523   0.833          0.000339    0.0841   \n",
       "41267        0.84200         0.218   0.243          0.768000    0.1090   \n",
       "61965        0.31100         0.461   0.747          0.023000    0.0985   \n",
       "62490        0.72200         0.391   0.392          0.000099    0.0983   \n",
       "112214       0.10300         0.741   0.671          0.000239    0.0585   \n",
       "\n",
       "        loudness  speechiness    tempo  valence  time_signature_3  \\\n",
       "41599     -4.374       0.0405  115.975   0.4820                 0   \n",
       "41267    -11.173       0.0299  155.306   0.0708                 1   \n",
       "61965     -5.880       0.0759  139.974   0.3180                 0   \n",
       "62490    -14.783       0.0330  144.014   0.1550                 0   \n",
       "112214    -6.805       0.0338  114.031   0.8080                 0   \n",
       "\n",
       "        time_signature_4  time_signature_5  \n",
       "41599                  1                 0  \n",
       "41267                  0                 0  \n",
       "61965                  1                 0  \n",
       "62490                  1                 0  \n",
       "112214                 1                 0  "
      ]
     },
     "metadata": {},
     "output_type": "display_data"
    },
    {
     "data": {
      "text/plain": [
       "41599     2\n",
       "41267     2\n",
       "61965     2\n",
       "62490     2\n",
       "112214    1\n",
       "Name: genre, dtype: int64"
      ]
     },
     "metadata": {},
     "output_type": "display_data"
    }
   ],
   "source": [
    "new_df.genre = new_df.genre.map( {'Classical':0 , 'Pop':1, 'Folk':2} )\n",
    "training1 = new_df.sample(frac = 0.8,random_state = 420)\n",
    "df_test = new_df.drop(training1.index)\n",
    "# Let's divide the label (genre) from the rest of the dataset and divide the dataset in a training and a testing dataset\n",
    "training2 = training1.sample(frac = 0.8,random_state = 420)\n",
    "X_train = training2[features]\n",
    "y_train = training2['genre']\n",
    "X_dev = new_df.drop(training2.index)[features]\n",
    "y_dev = new_df.drop(training2.index)['genre']\n",
    "X_test = new_df.drop(training1.index)[features]\n",
    "y_test = new_df.drop(training1.index)['genre']\n",
    "display(X_train.head())\n",
    "display(y_train.head())\n",
    "\n",
    "# Let's split the training set in training and a validation set\n",
    "from sklearn.model_selection import train_test_split\n",
    "X_train, X_valid, y_train, y_valid = train_test_split(X_train, y_train, test_size = 0.2, random_state = 1)"
   ]
  },
  {
   "cell_type": "code",
   "execution_count": 18,
   "id": "2bf61247",
   "metadata": {
    "_kg_hide-input": true,
    "execution": {
     "iopub.execute_input": "2022-08-25T20:08:45.021699Z",
     "iopub.status.busy": "2022-08-25T20:08:45.021313Z",
     "iopub.status.idle": "2022-08-25T20:08:45.056528Z",
     "shell.execute_reply": "2022-08-25T20:08:45.055517Z"
    },
    "papermill": {
     "duration": 0.053239,
     "end_time": "2022-08-25T20:08:45.059382",
     "exception": false,
     "start_time": "2022-08-25T20:08:45.006143",
     "status": "completed"
    },
    "tags": []
   },
   "outputs": [
    {
     "data": {
      "text/html": [
       "<div>\n",
       "<style scoped>\n",
       "    .dataframe tbody tr th:only-of-type {\n",
       "        vertical-align: middle;\n",
       "    }\n",
       "\n",
       "    .dataframe tbody tr th {\n",
       "        vertical-align: top;\n",
       "    }\n",
       "\n",
       "    .dataframe thead th {\n",
       "        text-align: right;\n",
       "    }\n",
       "</style>\n",
       "<table border=\"1\" class=\"dataframe\">\n",
       "  <thead>\n",
       "    <tr style=\"text-align: right;\">\n",
       "      <th></th>\n",
       "      <th>acousticness</th>\n",
       "      <th>danceability</th>\n",
       "      <th>energy</th>\n",
       "      <th>instrumentalness</th>\n",
       "      <th>liveness</th>\n",
       "      <th>loudness</th>\n",
       "      <th>speechiness</th>\n",
       "      <th>tempo</th>\n",
       "      <th>valence</th>\n",
       "      <th>time_signature_3</th>\n",
       "      <th>time_signature_4</th>\n",
       "      <th>time_signature_5</th>\n",
       "    </tr>\n",
       "  </thead>\n",
       "  <tbody>\n",
       "    <tr>\n",
       "      <th>44484</th>\n",
       "      <td>0.000604</td>\n",
       "      <td>0.428917</td>\n",
       "      <td>0.953907</td>\n",
       "      <td>0.001466</td>\n",
       "      <td>0.090537</td>\n",
       "      <td>0.085232</td>\n",
       "      <td>0.067028</td>\n",
       "      <td>0.664205</td>\n",
       "      <td>0.493441</td>\n",
       "      <td>0.0</td>\n",
       "      <td>1.0</td>\n",
       "      <td>0.0</td>\n",
       "    </tr>\n",
       "    <tr>\n",
       "      <th>152062</th>\n",
       "      <td>0.014356</td>\n",
       "      <td>0.631382</td>\n",
       "      <td>0.894787</td>\n",
       "      <td>0.000005</td>\n",
       "      <td>0.054834</td>\n",
       "      <td>0.138370</td>\n",
       "      <td>0.026765</td>\n",
       "      <td>0.647472</td>\n",
       "      <td>0.780020</td>\n",
       "      <td>0.0</td>\n",
       "      <td>1.0</td>\n",
       "      <td>0.0</td>\n",
       "    </tr>\n",
       "    <tr>\n",
       "      <th>41809</th>\n",
       "      <td>0.002589</td>\n",
       "      <td>0.226452</td>\n",
       "      <td>0.611215</td>\n",
       "      <td>0.000000</td>\n",
       "      <td>0.065678</td>\n",
       "      <td>0.114818</td>\n",
       "      <td>0.010844</td>\n",
       "      <td>0.384649</td>\n",
       "      <td>0.153380</td>\n",
       "      <td>0.0</td>\n",
       "      <td>1.0</td>\n",
       "      <td>0.0</td>\n",
       "    </tr>\n",
       "    <tr>\n",
       "      <th>112417</th>\n",
       "      <td>0.002057</td>\n",
       "      <td>0.399208</td>\n",
       "      <td>0.791579</td>\n",
       "      <td>0.000312</td>\n",
       "      <td>0.130435</td>\n",
       "      <td>0.142247</td>\n",
       "      <td>0.036456</td>\n",
       "      <td>0.714973</td>\n",
       "      <td>0.281534</td>\n",
       "      <td>0.0</td>\n",
       "      <td>1.0</td>\n",
       "      <td>0.0</td>\n",
       "    </tr>\n",
       "    <tr>\n",
       "      <th>130158</th>\n",
       "      <td>0.000004</td>\n",
       "      <td>0.439921</td>\n",
       "      <td>0.983968</td>\n",
       "      <td>0.877654</td>\n",
       "      <td>0.176471</td>\n",
       "      <td>0.123401</td>\n",
       "      <td>0.080757</td>\n",
       "      <td>0.620873</td>\n",
       "      <td>0.346115</td>\n",
       "      <td>0.0</td>\n",
       "      <td>1.0</td>\n",
       "      <td>0.0</td>\n",
       "    </tr>\n",
       "  </tbody>\n",
       "</table>\n",
       "</div>"
      ],
      "text/plain": [
       "        acousticness  danceability    energy  instrumentalness  liveness  \\\n",
       "44484       0.000604      0.428917  0.953907          0.001466  0.090537   \n",
       "152062      0.014356      0.631382  0.894787          0.000005  0.054834   \n",
       "41809       0.002589      0.226452  0.611215          0.000000  0.065678   \n",
       "112417      0.002057      0.399208  0.791579          0.000312  0.130435   \n",
       "130158      0.000004      0.439921  0.983968          0.877654  0.176471   \n",
       "\n",
       "        loudness  speechiness     tempo   valence  time_signature_3  \\\n",
       "44484   0.085232     0.067028  0.664205  0.493441               0.0   \n",
       "152062  0.138370     0.026765  0.647472  0.780020               0.0   \n",
       "41809   0.114818     0.010844  0.384649  0.153380               0.0   \n",
       "112417  0.142247     0.036456  0.714973  0.281534               0.0   \n",
       "130158  0.123401     0.080757  0.620873  0.346115               0.0   \n",
       "\n",
       "        time_signature_4  time_signature_5  \n",
       "44484                1.0               0.0  \n",
       "152062               1.0               0.0  \n",
       "41809                1.0               0.0  \n",
       "112417               1.0               0.0  \n",
       "130158               1.0               0.0  "
      ]
     },
     "metadata": {},
     "output_type": "display_data"
    }
   ],
   "source": [
    "# Let's do a MinMaxScaling of the dataset to make all the features in [0,1]\n",
    "from sklearn.preprocessing import MinMaxScaler\n",
    "pd.options.mode.chained_assignment = None  # default='warn'\n",
    "scaler = MinMaxScaler()\n",
    "# Loudness goes from -60 to 0 db, I will convert it to a positive value before normalizing it \n",
    "X_train['loudness'] *= -1\n",
    "X_train = pd.DataFrame(scaler.fit_transform(X_train), index=X_train.index, columns=X_train.columns)\n",
    "display(X_train.head())\n",
    "X_dev['loudness'] *= -1\n",
    "X_dev = pd.DataFrame(scaler.transform(X_dev), index=X_dev.index, columns=X_dev.columns)\n",
    "X_valid['loudness'] *= -1\n",
    "X_valid = pd.DataFrame(scaler.transform(X_valid), index=X_valid.index, columns=X_valid.columns)\n",
    "X_test['loudness'] *= -1\n",
    "X_test = pd.DataFrame(scaler.transform(X_test), index=X_test.index, columns=X_test.columns)"
   ]
  },
  {
   "cell_type": "code",
   "execution_count": 19,
   "id": "cbd308a3",
   "metadata": {
    "execution": {
     "iopub.execute_input": "2022-08-25T20:08:45.089111Z",
     "iopub.status.busy": "2022-08-25T20:08:45.088700Z",
     "iopub.status.idle": "2022-08-25T20:08:45.419220Z",
     "shell.execute_reply": "2022-08-25T20:08:45.418057Z"
    },
    "papermill": {
     "duration": 0.348272,
     "end_time": "2022-08-25T20:08:45.421782",
     "exception": false,
     "start_time": "2022-08-25T20:08:45.073510",
     "status": "completed"
    },
    "tags": []
   },
   "outputs": [
    {
     "data": {
      "image/png": "[encoded data removed]",
      "text/plain": [
       "<Figure size 1584x432 with 1 Axes>"
      ]
     },
     "metadata": {
      "needs_background": "light"
     },
     "output_type": "display_data"
    }
   ],
   "source": [
    "# Let's check the distribution of the various countinuous features\n",
    "plt.figure(figsize=(22, 6))\n",
    "ax = sns.boxplot(data=X_train.drop([\"time_signature_3\",\"time_signature_4\",\"time_signature_5\"], axis=1), palette=\"Set2\")"
   ]
  },
  {
   "cell_type": "code",
   "execution_count": 20,
   "id": "7d7310ae",
   "metadata": {
    "execution": {
     "iopub.execute_input": "2022-08-25T20:08:45.452058Z",
     "iopub.status.busy": "2022-08-25T20:08:45.451689Z",
     "iopub.status.idle": "2022-08-25T20:08:46.442856Z",
     "shell.execute_reply": "2022-08-25T20:08:46.441284Z"
    },
    "papermill": {
     "duration": 1.009739,
     "end_time": "2022-08-25T20:08:46.445666",
     "exception": false,
     "start_time": "2022-08-25T20:08:45.435927",
     "status": "completed"
    },
    "tags": []
   },
   "outputs": [
    {
     "data": {
      "image/png": "[encoded data removed]",
      "text/plain": [
       "<Figure size 1584x432 with 1 Axes>"
      ]
     },
     "metadata": {
      "needs_background": "light"
     },
     "output_type": "display_data"
    },
    {
     "data": {
      "image/png": "[encoded data removed]",
      "text/plain": [
       "<Figure size 720x720 with 4 Axes>"
      ]
     },
     "metadata": {
      "needs_background": "light"
     },
     "output_type": "display_data"
    }
   ],
   "source": [
    "# We see that liveness, loudness, speechiness and tempo do have some HLPs on the upper values\n",
    "plt.figure(figsize=(22, 6))\n",
    "features_nout = [\"time_signature_3\",\"time_signature_4\",\"time_signature_5\",\"acousticness\",\"danceability\",\"energy\",\"instrumentalness\",\"valence\"]\n",
    "ax = sns.boxplot(data=X_train.drop(features_nout, axis=1), palette=\"Set2\")\n",
    "fig, axes = plt.subplots(4,1, figsize=(10, 10), sharey=False)\n",
    "fig.suptitle('Distribution of some continuous variables')\n",
    "sns.histplot(x= 'liveness', data = X_train, palette = 'Set2', ax = axes[0], bins = 10)\n",
    "axes[0].set_title(\"\")\n",
    "sns.histplot(x= 'loudness', data = X_train, palette = 'Set2', ax = axes[1], bins = 10)\n",
    "axes[1].set_title(\"\")\n",
    "sns.histplot(x= 'speechiness', data = X_train, palette = 'Set2', ax = axes[2], bins = 10)\n",
    "axes[2].set_title(\"\")\n",
    "sns.histplot(x= 'tempo', data = X_train, palette = 'Set2', ax = axes[3], bins = 10)\n",
    "axes[3].set_title(\"\")\n",
    "plt.tight_layout()"
   ]
  },
  {
   "cell_type": "code",
   "execution_count": 21,
   "id": "384117ff",
   "metadata": {
    "execution": {
     "iopub.execute_input": "2022-08-25T20:08:46.478942Z",
     "iopub.status.busy": "2022-08-25T20:08:46.477697Z",
     "iopub.status.idle": "2022-08-25T20:08:46.483703Z",
     "shell.execute_reply": "2022-08-25T20:08:46.482422Z"
    },
    "papermill": {
     "duration": 0.024957,
     "end_time": "2022-08-25T20:08:46.486084",
     "exception": false,
     "start_time": "2022-08-25T20:08:46.461127",
     "status": "completed"
    },
    "tags": []
   },
   "outputs": [],
   "source": [
    "# removing HLPs\n",
    "#print(\"Total Tracks number before: %s\" % len(X_train));\n",
    "#X_train['genre'] = y_train\n",
    "#threshold = 0.01\n",
    "#for col in ['liveness', 'loudness', 'speechiness', 'tempo']:\n",
    "#    upper_threshold = X_train[col].quantile(1 - threshold)\n",
    "#    X_train = X_train[(X_train[col] <= upper_threshold)]\n",
    "\n",
    "#features = new_df.keys().drop(['genre']);\n",
    "#y_train = X_train['genre']\n",
    "#X_train = X_train[features]\n",
    "    \n",
    "#plt.figure(figsize=(22, 6))\n",
    "#features_nout = [\"time_signature_3\",\"time_signature_4\",\"time_signature_5\",\"acousticness\",\"danceability\",\"energy\",\"instrumentalness\",\"valence\"]\n",
    "#ax = sns.boxplot(data=X_train.drop(features_nout, axis=1), palette=\"Set2\")\n",
    "#print(\"Total Tracks number after: %s\" % len(X_train));"
   ]
  },
  {
   "cell_type": "code",
   "execution_count": 22,
   "id": "670ccf2b",
   "metadata": {
    "execution": {
     "iopub.execute_input": "2022-08-25T20:08:46.518790Z",
     "iopub.status.busy": "2022-08-25T20:08:46.518196Z",
     "iopub.status.idle": "2022-08-25T20:08:47.288556Z",
     "shell.execute_reply": "2022-08-25T20:08:47.287380Z"
    },
    "papermill": {
     "duration": 0.789394,
     "end_time": "2022-08-25T20:08:47.290817",
     "exception": false,
     "start_time": "2022-08-25T20:08:46.501423",
     "status": "completed"
    },
    "tags": []
   },
   "outputs": [
    {
     "data": {
      "image/png": "[encoded data removed]",
      "text/plain": [
       "<Figure size 792x1080 with 2 Axes>"
      ]
     },
     "metadata": {
      "needs_background": "light"
     },
     "output_type": "display_data"
    }
   ],
   "source": [
    "from sklearn.linear_model import LogisticRegression\n",
    "from sklearn.metrics import make_scorer, accuracy_score, roc_auc_score \n",
    "corr_heatmap(X_train.drop([\"time_signature_3\",\"time_signature_4\",\"time_signature_5\"], axis=1))"
   ]
  },
  {
   "cell_type": "code",
   "execution_count": 23,
   "id": "d004c250",
   "metadata": {
    "execution": {
     "iopub.execute_input": "2022-08-25T20:08:47.326093Z",
     "iopub.status.busy": "2022-08-25T20:08:47.325081Z",
     "iopub.status.idle": "2022-08-25T20:08:47.331597Z",
     "shell.execute_reply": "2022-08-25T20:08:47.330720Z"
    },
    "papermill": {
     "duration": 0.02667,
     "end_time": "2022-08-25T20:08:47.333940",
     "exception": false,
     "start_time": "2022-08-25T20:08:47.307270",
     "status": "completed"
    },
    "tags": []
   },
   "outputs": [],
   "source": [
    "# Currently the ‘multinomial’ option is supported only by the ‘lbfgs’, ‘sag’, ‘saga’ and ‘newton-cg’ solvers.\n",
    "# http://scikit-learn.org/stable/modules/generated/sklearn.linear_model.LogisticRegression.html#sklearn.linear_model.LogisticRegression\n",
    "param_grid = [    \n",
    "    {'penalty' : ['l2', 'none'],\n",
    "    'C' : np.logspace(-4, 4, 20),\n",
    "    'solver' : ['lbfgs','newton-cg', 'sag', 'saga'],\n",
    "    'max_iter' : [100, 1000,2500, 5000]\n",
    "    }\n",
    "]"
   ]
  },
  {
   "cell_type": "code",
   "execution_count": 24,
   "id": "1a16b8e8",
   "metadata": {
    "execution": {
     "iopub.execute_input": "2022-08-25T20:08:47.369203Z",
     "iopub.status.busy": "2022-08-25T20:08:47.368500Z",
     "iopub.status.idle": "2022-08-25T20:08:47.373144Z",
     "shell.execute_reply": "2022-08-25T20:08:47.372419Z"
    },
    "papermill": {
     "duration": 0.025615,
     "end_time": "2022-08-25T20:08:47.375509",
     "exception": false,
     "start_time": "2022-08-25T20:08:47.349894",
     "status": "completed"
    },
    "tags": []
   },
   "outputs": [],
   "source": [
    "#from sklearn.model_selection import GridSearchCV\n",
    "#clf = GridSearchCV(LogisticRegression(multi_class = 'multinomial'), param_grid = param_grid, verbose=10, n_jobs=-1, error_score=\"raise\")\n",
    "#best_clf = clf.fit(X_train, y_train)"
   ]
  },
  {
   "cell_type": "code",
   "execution_count": 25,
   "id": "e7a18c8e",
   "metadata": {
    "execution": {
     "iopub.execute_input": "2022-08-25T20:08:47.409320Z",
     "iopub.status.busy": "2022-08-25T20:08:47.408491Z",
     "iopub.status.idle": "2022-08-25T20:08:47.413414Z",
     "shell.execute_reply": "2022-08-25T20:08:47.412099Z"
    },
    "papermill": {
     "duration": 0.024511,
     "end_time": "2022-08-25T20:08:47.415882",
     "exception": false,
     "start_time": "2022-08-25T20:08:47.391371",
     "status": "completed"
    },
    "tags": []
   },
   "outputs": [],
   "source": [
    "#print(best_clf.best_estimator_)\n",
    "#print(best_clf.cv_results_)\n",
    "#print (f'Accuracy - : {best_clf.score(X_train, y_train):.3f}')"
   ]
  },
  {
   "cell_type": "code",
   "execution_count": 26,
   "id": "85c10610",
   "metadata": {
    "execution": {
     "iopub.execute_input": "2022-08-25T20:08:47.449489Z",
     "iopub.status.busy": "2022-08-25T20:08:47.449082Z",
     "iopub.status.idle": "2022-08-25T20:08:48.423300Z",
     "shell.execute_reply": "2022-08-25T20:08:48.421711Z"
    },
    "papermill": {
     "duration": 0.995943,
     "end_time": "2022-08-25T20:08:48.427650",
     "exception": false,
     "start_time": "2022-08-25T20:08:47.431707",
     "status": "completed"
    },
    "tags": []
   },
   "outputs": [
    {
     "data": {
      "text/plain": [
       "LogisticRegression(C=78.47599703514607, multi_class='multinomial',\n",
       "                   solver='newton-cg')"
      ]
     },
     "execution_count": 26,
     "metadata": {},
     "output_type": "execute_result"
    }
   ],
   "source": [
    "# Thanks to GridSearch we know that the best choice is LogisticRegression(C=78.47599703514607, multi_class='multinomial', solver='newton-cg')\n",
    "model = LogisticRegression(C=78.47599703514607, multi_class='multinomial', solver='newton-cg')\n",
    "model.fit(X_train, y_train)"
   ]
  },
  {
   "cell_type": "code",
   "execution_count": 27,
   "id": "8afc63ec",
   "metadata": {
    "execution": {
     "iopub.execute_input": "2022-08-25T20:08:48.510726Z",
     "iopub.status.busy": "2022-08-25T20:08:48.510031Z",
     "iopub.status.idle": "2022-08-25T20:08:48.543219Z",
     "shell.execute_reply": "2022-08-25T20:08:48.541689Z"
    },
    "papermill": {
     "duration": 0.078552,
     "end_time": "2022-08-25T20:08:48.546276",
     "exception": false,
     "start_time": "2022-08-25T20:08:48.467724",
     "status": "completed"
    },
    "tags": []
   },
   "outputs": [
    {
     "name": "stdout",
     "output_type": "stream",
     "text": [
      "              precision    recall  f1-score   support\n",
      "\n",
      "           0       0.92      0.89      0.90      1162\n",
      "           1       0.79      0.81      0.80      1151\n",
      "           2       0.74      0.75      0.75      1173\n",
      "\n",
      "    accuracy                           0.82      3486\n",
      "   macro avg       0.82      0.82      0.82      3486\n",
      "weighted avg       0.82      0.82      0.82      3486\n",
      "\n"
     ]
    }
   ],
   "source": [
    "y_pred = model.predict(X_valid)\n",
    "from sklearn.metrics import classification_report\n",
    "print(classification_report(y_valid, y_pred))"
   ]
  },
  {
   "cell_type": "code",
   "execution_count": 28,
   "id": "59b08dbe",
   "metadata": {
    "execution": {
     "iopub.execute_input": "2022-08-25T20:08:48.580936Z",
     "iopub.status.busy": "2022-08-25T20:08:48.580143Z",
     "iopub.status.idle": "2022-08-25T20:08:49.803395Z",
     "shell.execute_reply": "2022-08-25T20:08:49.802074Z"
    },
    "papermill": {
     "duration": 1.247188,
     "end_time": "2022-08-25T20:08:49.809766",
     "exception": false,
     "start_time": "2022-08-25T20:08:48.562578",
     "status": "completed"
    },
    "tags": []
   },
   "outputs": [
    {
     "name": "stdout",
     "output_type": "stream",
     "text": [
      "              precision    recall  f1-score   support\n",
      "\n",
      "           0       0.89      0.88      0.89      1162\n",
      "           1       0.76      0.76      0.76      1151\n",
      "           2       0.71      0.72      0.71      1173\n",
      "\n",
      "    accuracy                           0.79      3486\n",
      "   macro avg       0.79      0.79      0.79      3486\n",
      "weighted avg       0.79      0.79      0.79      3486\n",
      "\n"
     ]
    }
   ],
   "source": [
    "# Let's try without loudness\n",
    "X_train_loudness = X_train.drop(['loudness'], axis=1)\n",
    "X_valid_loudness = X_valid.drop(['loudness'], axis=1)\n",
    "lrm_cor = LogisticRegression(C=78.47599703514607, multi_class='multinomial',solver='newton-cg').fit(X_train_loudness, y_train)\n",
    "print(classification_report(y_valid, lrm_cor.predict(X_valid_loudness)))"
   ]
  },
  {
   "cell_type": "code",
   "execution_count": 29,
   "id": "ea1b256e",
   "metadata": {
    "execution": {
     "iopub.execute_input": "2022-08-25T20:08:49.898582Z",
     "iopub.status.busy": "2022-08-25T20:08:49.898156Z",
     "iopub.status.idle": "2022-08-25T20:08:51.064681Z",
     "shell.execute_reply": "2022-08-25T20:08:51.063076Z"
    },
    "papermill": {
     "duration": 1.217773,
     "end_time": "2022-08-25T20:08:51.069149",
     "exception": false,
     "start_time": "2022-08-25T20:08:49.851376",
     "status": "completed"
    },
    "tags": []
   },
   "outputs": [
    {
     "name": "stdout",
     "output_type": "stream",
     "text": [
      "              precision    recall  f1-score   support\n",
      "\n",
      "           0       0.92      0.89      0.91      1162\n",
      "           1       0.79      0.80      0.79      1151\n",
      "           2       0.75      0.76      0.75      1173\n",
      "\n",
      "    accuracy                           0.82      3486\n",
      "   macro avg       0.82      0.82      0.82      3486\n",
      "weighted avg       0.82      0.82      0.82      3486\n",
      "\n"
     ]
    }
   ],
   "source": [
    "# Let's try without energy\n",
    "X_train_energy = X_train.drop(['energy'], axis=1)\n",
    "X_valid_energy = X_valid.drop(['energy'], axis=1)\n",
    "lrm_cor = LogisticRegression(C=78.47599703514607, multi_class='multinomial',solver='newton-cg').fit(X_train_energy, y_train)\n",
    "print(classification_report(y_valid, lrm_cor.predict(X_valid_energy)))"
   ]
  },
  {
   "cell_type": "code",
   "execution_count": 30,
   "id": "f17fa392",
   "metadata": {
    "execution": {
     "iopub.execute_input": "2022-08-25T20:08:51.153097Z",
     "iopub.status.busy": "2022-08-25T20:08:51.152422Z",
     "iopub.status.idle": "2022-08-25T20:08:52.325044Z",
     "shell.execute_reply": "2022-08-25T20:08:52.323451Z"
    },
    "papermill": {
     "duration": 1.220882,
     "end_time": "2022-08-25T20:08:52.330315",
     "exception": false,
     "start_time": "2022-08-25T20:08:51.109433",
     "status": "completed"
    },
    "tags": []
   },
   "outputs": [
    {
     "name": "stdout",
     "output_type": "stream",
     "text": [
      "              precision    recall  f1-score   support\n",
      "\n",
      "           0       0.93      0.88      0.90      1162\n",
      "           1       0.79      0.80      0.80      1151\n",
      "           2       0.73      0.75      0.74      1173\n",
      "\n",
      "    accuracy                           0.81      3486\n",
      "   macro avg       0.82      0.81      0.81      3486\n",
      "weighted avg       0.82      0.81      0.81      3486\n",
      "\n"
     ]
    }
   ],
   "source": [
    "# Let's try without acousticness\n",
    "X_train_acousticness = X_train.drop(['acousticness'], axis=1)\n",
    "X_valid_acousticness = X_valid.drop(['acousticness'], axis=1)\n",
    "lrm_cor = LogisticRegression(C=78.47599703514607, multi_class='multinomial',solver='newton-cg').fit(X_train_acousticness, y_train)\n",
    "print(classification_report(y_valid, lrm_cor.predict(X_valid_acousticness)))"
   ]
  },
  {
   "cell_type": "code",
   "execution_count": 31,
   "id": "cbac3fc0",
   "metadata": {
    "execution": {
     "iopub.execute_input": "2022-08-25T20:08:52.416129Z",
     "iopub.status.busy": "2022-08-25T20:08:52.415429Z",
     "iopub.status.idle": "2022-08-25T20:08:54.038239Z",
     "shell.execute_reply": "2022-08-25T20:08:54.037008Z"
    },
    "papermill": {
     "duration": 1.672223,
     "end_time": "2022-08-25T20:08:54.044685",
     "exception": false,
     "start_time": "2022-08-25T20:08:52.372462",
     "status": "completed"
    },
    "tags": []
   },
   "outputs": [
    {
     "name": "stdout",
     "output_type": "stream",
     "text": [
      "              precision    recall  f1-score   support\n",
      "\n",
      "           0       0.92      0.88      0.90      3328\n",
      "           1       0.78      0.82      0.80      3208\n",
      "           2       0.74      0.73      0.73      3265\n",
      "\n",
      "    accuracy                           0.81      9801\n",
      "   macro avg       0.81      0.81      0.81      9801\n",
      "weighted avg       0.81      0.81      0.81      9801\n",
      "\n"
     ]
    }
   ],
   "source": [
    "# The accuracy changes between 0.81 and 0.79 in every situation, I'm going to just keep those features\n",
    "# I will now test the data with X_test and y_test\n",
    "X_train_lr = pd.concat([X_train, X_valid])\n",
    "y_train_lr = pd.concat([y_train, y_valid])\n",
    "X_train_lr, y_train_lr = shuffle(X_train_lr, y_train_lr)\n",
    "model = LogisticRegression(C=78.47599703514607, multi_class='multinomial', solver='newton-cg')\n",
    "model.fit(X_train_lr, y_train_lr)\n",
    "y_pred = model.predict(X_dev)\n",
    "print(classification_report(y_dev, y_pred))"
   ]
  },
  {
   "cell_type": "code",
   "execution_count": 32,
   "id": "dd343377",
   "metadata": {
    "execution": {
     "iopub.execute_input": "2022-08-25T20:08:54.123623Z",
     "iopub.status.busy": "2022-08-25T20:08:54.123195Z",
     "iopub.status.idle": "2022-08-25T20:08:54.137892Z",
     "shell.execute_reply": "2022-08-25T20:08:54.136772Z"
    },
    "papermill": {
     "duration": 0.055024,
     "end_time": "2022-08-25T20:08:54.140631",
     "exception": false,
     "start_time": "2022-08-25T20:08:54.085607",
     "status": "completed"
    },
    "tags": []
   },
   "outputs": [],
   "source": [
    "# We see that the accuracy doesn't change much\n",
    "# We'll now try to get to the same result with a Neural Network\n",
    "from sklearn.neural_network import MLPClassifier\n",
    "mlp_gs = MLPClassifier()\n",
    "parameter_space = {\n",
    "    'hidden_layer_sizes': [(100, 100), (100, 100, 100), (100, 100, 100, 100)],\n",
    "    'activation': ['tanh', 'relu'],\n",
    "    'solver': ['sgd','adam'],\n",
    "    'alpha': [0.0001, 0.001, 0.01, 0.1],\n",
    "    'max_iter': [500]\n",
    "}\n",
    "#from sklearn.model_selection import GridSearchCV\n",
    "#from sklearn.metrics import classification_report\n",
    "#clf = GridSearchCV(mlp_gs, parameter_space, n_jobs=-1, cv=5, scoring='accuracy', verbose=10, error_score=\"raise\")\n",
    "#best_clf = clf.fit(X_train, y_train) # X is train samples and t is the corresponding labels\n",
    "\n",
    "# best score achieved during the GridSearchCV\n",
    "#print('GridSearch CV best score : {:.4f}\\n\\n'.format(clf.best_score_))\n",
    "\n",
    "# print parameters that give the best results\n",
    "#print('Parameters that give the best results :','\\n\\n', (clf.best_params_))\n",
    "\n",
    "# print estimator that was chosen by the GridSearch\n",
    "#print('\\n\\nEstimator that was chosen by the search :','\\n\\n', (clf.best_estimator_))\n",
    "\n",
    "# %% [code]\n",
    "# calculate GridSearch CV score on validation set\n",
    "#t_pred = clf.predict(X_valid)\n",
    "\n",
    "#print('Model classification report with GridSearcg CV: \\n', classification_report(y_valid, t_pred))"
   ]
  },
  {
   "cell_type": "code",
   "execution_count": 33,
   "id": "dad4b323",
   "metadata": {
    "execution": {
     "iopub.execute_input": "2022-08-25T20:08:54.175717Z",
     "iopub.status.busy": "2022-08-25T20:08:54.174927Z",
     "iopub.status.idle": "2022-08-25T20:08:54.186864Z",
     "shell.execute_reply": "2022-08-25T20:08:54.185734Z"
    },
    "papermill": {
     "duration": 0.032254,
     "end_time": "2022-08-25T20:08:54.189277",
     "exception": false,
     "start_time": "2022-08-25T20:08:54.157023",
     "status": "completed"
    },
    "tags": []
   },
   "outputs": [],
   "source": [
    "# With GridSearch we can see that the estimatore whioch gives the best result is\n",
    "# MLPClassifier(alpha=0.01, hidden_layer_sizes=(100, 100), max_iter=500)\n",
    "# I will now perform a second Grid Search with hyperparameters more similar to the ones just found\n",
    "# and with early stopping in order to be more precise\n",
    "# I will merge train and valid sets and test on the testing set\n",
    "X_train = pd.concat([X_train, X_valid])\n",
    "y_train = pd.concat([y_train, y_valid])\n",
    "X_train, y_train = shuffle(X_train, y_train)\n",
    "parameter_space = {\n",
    "    'hidden_layer_sizes': [(100, 100), (100, 150), (150, 150)],\n",
    "    'activation': ['relu'],\n",
    "    'solver': ['adam'],\n",
    "    'alpha': [0.01, 0.02, 0.04, 0.08],\n",
    "    'early_stopping': [True, False],\n",
    "    'max_iter': [500]\n",
    "}\n",
    "#from sklearn.model_selection import GridSearchCV\n",
    "#from sklearn.metrics import classification_report\n",
    "#clf = GridSearchCV(mlp_gs, parameter_space, n_jobs=-1, cv=5, scoring='accuracy', verbose=10, error_score=\"raise\")\n",
    "#best_clf = clf.fit(X_train, y_train) # X is train samples and t is the corresponding labels\n",
    "\n",
    "# best score achieved during the GridSearchCV\n",
    "#print('GridSearch CV best score : {:.4f}\\n\\n'.format(clf.best_score_))\n",
    "\n",
    "# print parameters that give the best results\n",
    "#print('Parameters that give the best results :','\\n\\n', (clf.best_params_))\n",
    "\n",
    "# print estimator that was chosen by the GridSearch\n",
    "#print('\\n\\nEstimator that was chosen by the search :','\\n\\n', (clf.best_estimator_))\n",
    "\n",
    "# %% [code]\n",
    "# calculate GridSearch CV score on validation set\n",
    "#t_pred = clf.predict(X_valid)\n",
    "\n",
    "#print('Model classification report with GridSearcg CV: \\n', classification_report(y_valid, t_pred))\n",
    "#GridSearch_table_plot(best_clf, \"hidden_layer_sizes\", negative=False)"
   ]
  },
  {
   "cell_type": "code",
   "execution_count": 34,
   "id": "c1221a2e",
   "metadata": {
    "execution": {
     "iopub.execute_input": "2022-08-25T20:08:54.224306Z",
     "iopub.status.busy": "2022-08-25T20:08:54.223588Z",
     "iopub.status.idle": "2022-08-25T20:09:08.121125Z",
     "shell.execute_reply": "2022-08-25T20:09:08.119574Z"
    },
    "papermill": {
     "duration": 13.919809,
     "end_time": "2022-08-25T20:09:08.125487",
     "exception": false,
     "start_time": "2022-08-25T20:08:54.205678",
     "status": "completed"
    },
    "tags": []
   },
   "outputs": [],
   "source": [
    "# Thanks to GridSearch we know that the best choice is MLPClassifier(alpha=0.01, hidden_layer_sizes=(150, 150), max_iter=500)\n",
    "# However from observing the results we notice that the first result with early stopping doesn't give a very different accuracy result, so for the sake of having\n",
    "# a lower computational cost model I'm going to use that MLPClassifier(alpha=0.01, hidden_layer_sizes=(100, 100), max_iter=500, early_stopping=True)\n",
    "clf = MLPClassifier(alpha=0.01, hidden_layer_sizes=(100, 100), max_iter=500, early_stopping=True).fit(X_train.to_numpy(), y_train.to_numpy())\n",
    "y_pred=clf.predict(X_train.to_numpy())"
   ]
  },
  {
   "cell_type": "code",
   "execution_count": 35,
   "id": "d2cbd849",
   "metadata": {
    "execution": {
     "iopub.execute_input": "2022-08-25T20:09:08.207966Z",
     "iopub.status.busy": "2022-08-25T20:09:08.207274Z",
     "iopub.status.idle": "2022-08-25T20:09:08.288713Z",
     "shell.execute_reply": "2022-08-25T20:09:08.287170Z"
    },
    "papermill": {
     "duration": 0.128109,
     "end_time": "2022-08-25T20:09:08.293514",
     "exception": false,
     "start_time": "2022-08-25T20:09:08.165405",
     "status": "completed"
    },
    "tags": []
   },
   "outputs": [
    {
     "name": "stdout",
     "output_type": "stream",
     "text": [
      "              precision    recall  f1-score   support\n",
      "\n",
      "           0       0.94      0.90      0.92      3328\n",
      "           1       0.82      0.79      0.80      3208\n",
      "           2       0.74      0.80      0.76      3265\n",
      "\n",
      "    accuracy                           0.83      9801\n",
      "   macro avg       0.83      0.83      0.83      9801\n",
      "weighted avg       0.83      0.83      0.83      9801\n",
      "\n"
     ]
    }
   ],
   "source": [
    "y_pred = clf.predict(X_dev.to_numpy())\n",
    "print(classification_report(y_dev, y_pred))"
   ]
  },
  {
   "cell_type": "code",
   "execution_count": 36,
   "id": "808f2e6e",
   "metadata": {
    "execution": {
     "iopub.execute_input": "2022-08-25T20:09:08.371232Z",
     "iopub.status.busy": "2022-08-25T20:09:08.370724Z",
     "iopub.status.idle": "2022-08-25T20:09:08.491092Z",
     "shell.execute_reply": "2022-08-25T20:09:08.489339Z"
    },
    "papermill": {
     "duration": 0.160738,
     "end_time": "2022-08-25T20:09:08.495285",
     "exception": false,
     "start_time": "2022-08-25T20:09:08.334547",
     "status": "completed"
    },
    "tags": []
   },
   "outputs": [
    {
     "name": "stdout",
     "output_type": "stream",
     "text": [
      "              precision    recall  f1-score   support\n",
      "\n",
      "           0       0.95      0.90      0.92      5924\n",
      "           1       0.83      0.79      0.81      5822\n",
      "           2       0.73      0.81      0.77      5680\n",
      "\n",
      "    accuracy                           0.83     17426\n",
      "   macro avg       0.84      0.83      0.83     17426\n",
      "weighted avg       0.84      0.83      0.84     17426\n",
      "\n"
     ]
    }
   ],
   "source": [
    "# The MLPClassifier gives consistently a better result (usually 0.83 for MLP against a usual 0.82 for LR of accuracy)\n",
    "# So we'll try this last one with the testing set\n",
    "y_pred = clf.predict(X_train.to_numpy())\n",
    "print(classification_report(y_train, y_pred))"
   ]
  }
 ],
 "metadata": {
  "kernelspec": {
   "display_name": "Python 3",
   "language": "python",
   "name": "python3"
  },
  "language_info": {
   "codemirror_mode": {
    "name": "ipython",
    "version": 3
   },
   "file_extension": ".py",
   "mimetype": "text/x-python",
   "name": "python",
   "nbconvert_exporter": "python",
   "pygments_lexer": "ipython3",
   "version": "3.7.12"
  },
  "papermill": {
   "default_parameters": {},
   "duration": 40.377063,
   "end_time": "2022-08-25T20:09:09.361267",
   "environment_variables": {},
   "exception": null,
   "input_path": "__notebook__.ipynb",
   "output_path": "__notebook__.ipynb",
   "parameters": {},
   "start_time": "2022-08-25T20:08:28.984204",
   "version": "2.3.4"
  }
 },
 "nbformat": 4,
 "nbformat_minor": 5
}
