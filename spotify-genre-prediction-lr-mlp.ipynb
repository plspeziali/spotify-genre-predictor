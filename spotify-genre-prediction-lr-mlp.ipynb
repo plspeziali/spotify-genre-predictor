{
 "cells": [
  {
   "cell_type": "code",
   "execution_count": 1,
   "id": "54ad39b7",
   "metadata": {
    "execution": {
     "iopub.execute_input": "2022-09-07T08:45:35.042971Z",
     "iopub.status.busy": "2022-09-07T08:45:35.041948Z",
     "iopub.status.idle": "2022-09-07T08:45:36.188586Z",
     "shell.execute_reply": "2022-09-07T08:45:36.187063Z"
    },
    "papermill": {
     "duration": 1.162881,
     "end_time": "2022-09-07T08:45:36.191442",
     "exception": false,
     "start_time": "2022-09-07T08:45:35.028561",
     "status": "completed"
    },
    "tags": []
   },
   "outputs": [],
   "source": [
    "import pandas as pd\n",
    "import seaborn as sns # for data visualization\n",
    "import matplotlib.pyplot as plt\n",
    "import numpy as np\n",
    "def corr_heatmap(data):\n",
    "    corr_matrix = data.corr()\n",
    "    mask = np.zeros_like(corr_matrix, dtype=bool)\n",
    "    mask[np.triu_indices_from(mask)]= True\n",
    "    f, ax = plt.subplots(figsize=(11, 15)) \n",
    "    heatmap = sns.heatmap(corr_matrix, \n",
    "                          mask = mask,\n",
    "                          square = True,\n",
    "                          linewidths = .5,\n",
    "                          cmap = 'coolwarm',\n",
    "                          cbar_kws = {'shrink': .4, \n",
    "                                    'ticks' : [-1, -.5, 0, 0.5, 1]},\n",
    "                          vmin = -1, \n",
    "                          vmax = 1,\n",
    "                          annot = True,\n",
    "                          annot_kws = {'size': 12})#add the column names as labels\n",
    "    ax.set_yticklabels(corr_matrix.columns, rotation = 0)\n",
    "    ax.set_xticklabels(corr_matrix.columns)\n",
    "    sns.set_style({'xtick.bottom': True}, {'ytick.left': True})\n",
    "    \n",
    "def GridSearch_table_plot(grid_clf, param_name,\n",
    "                          num_results=15,\n",
    "                          negative=True,\n",
    "                          graph=True,\n",
    "                          display_all_params=True):\n",
    "\n",
    "    '''Display grid search results\n",
    "\n",
    "    Arguments\n",
    "    ---------\n",
    "\n",
    "    grid_clf           the estimator resulting from a grid search\n",
    "                       for example: grid_clf = GridSearchCV( ...\n",
    "\n",
    "    param_name         a string with the name of the parameter being tested\n",
    "\n",
    "    num_results        an integer indicating the number of results to display\n",
    "                       Default: 15\n",
    "\n",
    "    negative           boolean: should the sign of the score be reversed?\n",
    "                       scoring = 'neg_log_loss', for instance\n",
    "                       Default: True\n",
    "\n",
    "    graph              boolean: should a graph be produced?\n",
    "                       non-numeric parameters (True/False, None) don't graph well\n",
    "                       Default: True\n",
    "\n",
    "    display_all_params boolean: should we print out all of the parameters, not just the ones searched for?\n",
    "                       Default: True\n",
    "\n",
    "    Usage\n",
    "    -----\n",
    "\n",
    "    GridSearch_table_plot(grid_clf, \"min_samples_leaf\")\n",
    "\n",
    "                          '''\n",
    "    from matplotlib      import pyplot as plt\n",
    "    from IPython.display import display\n",
    "    import pandas as pd\n",
    "\n",
    "    clf = grid_clf.best_estimator_\n",
    "    clf_params = grid_clf.best_params_\n",
    "    if negative:\n",
    "        clf_score = -grid_clf.best_score_\n",
    "    else:\n",
    "        clf_score = grid_clf.best_score_\n",
    "    clf_stdev = grid_clf.cv_results_['std_test_score'][grid_clf.best_index_]\n",
    "    cv_results = grid_clf.cv_results_\n",
    "\n",
    "    print(\"best parameters: {}\".format(clf_params))\n",
    "    print(\"best score:      {:0.5f} (+/-{:0.5f})\".format(clf_score, clf_stdev))\n",
    "    if display_all_params:\n",
    "        import pprint\n",
    "        pprint.pprint(clf.get_params())\n",
    "\n",
    "    # pick out the best results\n",
    "    # =========================\n",
    "    scores_df = pd.DataFrame(cv_results).sort_values(by='rank_test_score')\n",
    "\n",
    "    best_row = scores_df.iloc[0, :]\n",
    "    if negative:\n",
    "        best_mean = -best_row['mean_test_score']\n",
    "    else:\n",
    "        best_mean = best_row['mean_test_score']\n",
    "    best_stdev = best_row['std_test_score']\n",
    "    best_param = best_row['param_' + param_name]\n",
    "\n",
    "    # display the top 'num_results' results\n",
    "    # =====================================\n",
    "    display(pd.DataFrame(cv_results) \\\n",
    "            .sort_values(by='rank_test_score').head(num_results))\n",
    "\n",
    "    # plot the results\n",
    "    # ================\n",
    "    scores_df = scores_df.sort_values(by='param_' + param_name)\n",
    "\n",
    "    if negative:\n",
    "        means = -scores_df['mean_test_score']\n",
    "    else:\n",
    "        means = scores_df['mean_test_score']\n",
    "    stds = scores_df['std_test_score']\n",
    "    params = scores_df['param_' + param_name]\n",
    "\n",
    "    # plot\n",
    "    if graph:\n",
    "        plt.figure(figsize=(8, 8))\n",
    "        plt.errorbar(params, means, yerr=stds)\n",
    "\n",
    "        plt.axhline(y=best_mean + best_stdev, color='red')\n",
    "        plt.axhline(y=best_mean - best_stdev, color='red')\n",
    "        plt.plot(best_param, best_mean, 'or')\n",
    "\n",
    "        plt.title(param_name + \" vs Score\\nBest Score {:0.5f}\".format(clf_score))\n",
    "        plt.xlabel(param_name)\n",
    "        plt.ylabel('Score')\n",
    "        plt.show()"
   ]
  },
  {
   "cell_type": "code",
   "execution_count": 2,
   "id": "19ca5d98",
   "metadata": {
    "execution": {
     "iopub.execute_input": "2022-09-07T08:45:36.213532Z",
     "iopub.status.busy": "2022-09-07T08:45:36.212537Z",
     "iopub.status.idle": "2022-09-07T08:45:37.501044Z",
     "shell.execute_reply": "2022-09-07T08:45:37.499819Z"
    },
    "papermill": {
     "duration": 1.301997,
     "end_time": "2022-09-07T08:45:37.503629",
     "exception": false,
     "start_time": "2022-09-07T08:45:36.201632",
     "status": "completed"
    },
    "tags": []
   },
   "outputs": [
    {
     "data": {
      "text/html": [
       "<div>\n",
       "<style scoped>\n",
       "    .dataframe tbody tr th:only-of-type {\n",
       "        vertical-align: middle;\n",
       "    }\n",
       "\n",
       "    .dataframe tbody tr th {\n",
       "        vertical-align: top;\n",
       "    }\n",
       "\n",
       "    .dataframe thead th {\n",
       "        text-align: right;\n",
       "    }\n",
       "</style>\n",
       "<table border=\"1\" class=\"dataframe\">\n",
       "  <thead>\n",
       "    <tr style=\"text-align: right;\">\n",
       "      <th></th>\n",
       "      <th>genre</th>\n",
       "      <th>artist_name</th>\n",
       "      <th>track_name</th>\n",
       "      <th>track_id</th>\n",
       "      <th>popularity</th>\n",
       "      <th>acousticness</th>\n",
       "      <th>danceability</th>\n",
       "      <th>duration_ms</th>\n",
       "      <th>energy</th>\n",
       "      <th>instrumentalness</th>\n",
       "      <th>key</th>\n",
       "      <th>liveness</th>\n",
       "      <th>loudness</th>\n",
       "      <th>mode</th>\n",
       "      <th>speechiness</th>\n",
       "      <th>tempo</th>\n",
       "      <th>time_signature</th>\n",
       "      <th>valence</th>\n",
       "    </tr>\n",
       "  </thead>\n",
       "  <tbody>\n",
       "    <tr>\n",
       "      <th>0</th>\n",
       "      <td>Movie</td>\n",
       "      <td>Henri Salvador</td>\n",
       "      <td>C'est beau de faire un Show</td>\n",
       "      <td>0BRjO6ga9RKCKjfDqeFgWV</td>\n",
       "      <td>0</td>\n",
       "      <td>0.611</td>\n",
       "      <td>0.389</td>\n",
       "      <td>99373</td>\n",
       "      <td>0.910</td>\n",
       "      <td>0.000</td>\n",
       "      <td>C#</td>\n",
       "      <td>0.3460</td>\n",
       "      <td>-1.828</td>\n",
       "      <td>Major</td>\n",
       "      <td>0.0525</td>\n",
       "      <td>166.969</td>\n",
       "      <td>4/4</td>\n",
       "      <td>0.814</td>\n",
       "    </tr>\n",
       "    <tr>\n",
       "      <th>1</th>\n",
       "      <td>Movie</td>\n",
       "      <td>Martin &amp; les fées</td>\n",
       "      <td>Perdu d'avance (par Gad Elmaleh)</td>\n",
       "      <td>0BjC1NfoEOOusryehmNudP</td>\n",
       "      <td>1</td>\n",
       "      <td>0.246</td>\n",
       "      <td>0.590</td>\n",
       "      <td>137373</td>\n",
       "      <td>0.737</td>\n",
       "      <td>0.000</td>\n",
       "      <td>F#</td>\n",
       "      <td>0.1510</td>\n",
       "      <td>-5.559</td>\n",
       "      <td>Minor</td>\n",
       "      <td>0.0868</td>\n",
       "      <td>174.003</td>\n",
       "      <td>4/4</td>\n",
       "      <td>0.816</td>\n",
       "    </tr>\n",
       "    <tr>\n",
       "      <th>2</th>\n",
       "      <td>Movie</td>\n",
       "      <td>Joseph Williams</td>\n",
       "      <td>Don't Let Me Be Lonely Tonight</td>\n",
       "      <td>0CoSDzoNIKCRs124s9uTVy</td>\n",
       "      <td>3</td>\n",
       "      <td>0.952</td>\n",
       "      <td>0.663</td>\n",
       "      <td>170267</td>\n",
       "      <td>0.131</td>\n",
       "      <td>0.000</td>\n",
       "      <td>C</td>\n",
       "      <td>0.1030</td>\n",
       "      <td>-13.879</td>\n",
       "      <td>Minor</td>\n",
       "      <td>0.0362</td>\n",
       "      <td>99.488</td>\n",
       "      <td>5/4</td>\n",
       "      <td>0.368</td>\n",
       "    </tr>\n",
       "    <tr>\n",
       "      <th>3</th>\n",
       "      <td>Movie</td>\n",
       "      <td>Henri Salvador</td>\n",
       "      <td>Dis-moi Monsieur Gordon Cooper</td>\n",
       "      <td>0Gc6TVm52BwZD07Ki6tIvf</td>\n",
       "      <td>0</td>\n",
       "      <td>0.703</td>\n",
       "      <td>0.240</td>\n",
       "      <td>152427</td>\n",
       "      <td>0.326</td>\n",
       "      <td>0.000</td>\n",
       "      <td>C#</td>\n",
       "      <td>0.0985</td>\n",
       "      <td>-12.178</td>\n",
       "      <td>Major</td>\n",
       "      <td>0.0395</td>\n",
       "      <td>171.758</td>\n",
       "      <td>4/4</td>\n",
       "      <td>0.227</td>\n",
       "    </tr>\n",
       "    <tr>\n",
       "      <th>4</th>\n",
       "      <td>Movie</td>\n",
       "      <td>Fabien Nataf</td>\n",
       "      <td>Ouverture</td>\n",
       "      <td>0IuslXpMROHdEPvSl1fTQK</td>\n",
       "      <td>4</td>\n",
       "      <td>0.950</td>\n",
       "      <td>0.331</td>\n",
       "      <td>82625</td>\n",
       "      <td>0.225</td>\n",
       "      <td>0.123</td>\n",
       "      <td>F</td>\n",
       "      <td>0.2020</td>\n",
       "      <td>-21.150</td>\n",
       "      <td>Major</td>\n",
       "      <td>0.0456</td>\n",
       "      <td>140.576</td>\n",
       "      <td>4/4</td>\n",
       "      <td>0.390</td>\n",
       "    </tr>\n",
       "  </tbody>\n",
       "</table>\n",
       "</div>"
      ],
      "text/plain": [
       "   genre        artist_name                        track_name  \\\n",
       "0  Movie     Henri Salvador       C'est beau de faire un Show   \n",
       "1  Movie  Martin & les fées  Perdu d'avance (par Gad Elmaleh)   \n",
       "2  Movie    Joseph Williams    Don't Let Me Be Lonely Tonight   \n",
       "3  Movie     Henri Salvador    Dis-moi Monsieur Gordon Cooper   \n",
       "4  Movie       Fabien Nataf                         Ouverture   \n",
       "\n",
       "                 track_id  popularity  acousticness  danceability  \\\n",
       "0  0BRjO6ga9RKCKjfDqeFgWV           0         0.611         0.389   \n",
       "1  0BjC1NfoEOOusryehmNudP           1         0.246         0.590   \n",
       "2  0CoSDzoNIKCRs124s9uTVy           3         0.952         0.663   \n",
       "3  0Gc6TVm52BwZD07Ki6tIvf           0         0.703         0.240   \n",
       "4  0IuslXpMROHdEPvSl1fTQK           4         0.950         0.331   \n",
       "\n",
       "   duration_ms  energy  instrumentalness key  liveness  loudness   mode  \\\n",
       "0        99373   0.910             0.000  C#    0.3460    -1.828  Major   \n",
       "1       137373   0.737             0.000  F#    0.1510    -5.559  Minor   \n",
       "2       170267   0.131             0.000   C    0.1030   -13.879  Minor   \n",
       "3       152427   0.326             0.000  C#    0.0985   -12.178  Major   \n",
       "4        82625   0.225             0.123   F    0.2020   -21.150  Major   \n",
       "\n",
       "   speechiness    tempo time_signature  valence  \n",
       "0       0.0525  166.969            4/4    0.814  \n",
       "1       0.0868  174.003            4/4    0.816  \n",
       "2       0.0362   99.488            5/4    0.368  \n",
       "3       0.0395  171.758            4/4    0.227  \n",
       "4       0.0456  140.576            4/4    0.390  "
      ]
     },
     "metadata": {},
     "output_type": "display_data"
    }
   ],
   "source": [
    "df = pd.read_csv(\"../input/ultimate-spotify-tracks-db/SpotifyFeatures.csv\")\n",
    "display(df.head())"
   ]
  },
  {
   "cell_type": "code",
   "execution_count": 3,
   "id": "556dd9de",
   "metadata": {
    "execution": {
     "iopub.execute_input": "2022-09-07T08:45:37.526282Z",
     "iopub.status.busy": "2022-09-07T08:45:37.525849Z",
     "iopub.status.idle": "2022-09-07T08:45:37.531993Z",
     "shell.execute_reply": "2022-09-07T08:45:37.530866Z"
    },
    "papermill": {
     "duration": 0.020469,
     "end_time": "2022-09-07T08:45:37.534593",
     "exception": false,
     "start_time": "2022-09-07T08:45:37.514124",
     "status": "completed"
    },
    "tags": []
   },
   "outputs": [
    {
     "name": "stdout",
     "output_type": "stream",
     "text": [
      "Index(['genre', 'artist_name', 'track_name', 'track_id', 'popularity',\n",
      "       'acousticness', 'danceability', 'duration_ms', 'energy',\n",
      "       'instrumentalness', 'key', 'liveness', 'loudness', 'mode',\n",
      "       'speechiness', 'tempo', 'time_signature', 'valence'],\n",
      "      dtype='object')\n"
     ]
    }
   ],
   "source": [
    "# Prints the names of the features\n",
    "print(df.keys())"
   ]
  },
  {
   "cell_type": "code",
   "execution_count": 4,
   "id": "ce8e6206",
   "metadata": {
    "execution": {
     "iopub.execute_input": "2022-09-07T08:45:37.556818Z",
     "iopub.status.busy": "2022-09-07T08:45:37.556378Z",
     "iopub.status.idle": "2022-09-07T08:45:37.636728Z",
     "shell.execute_reply": "2022-09-07T08:45:37.635557Z"
    },
    "papermill": {
     "duration": 0.0942,
     "end_time": "2022-09-07T08:45:37.639167",
     "exception": false,
     "start_time": "2022-09-07T08:45:37.544967",
     "status": "completed"
    },
    "tags": []
   },
   "outputs": [
    {
     "name": "stdout",
     "output_type": "stream",
     "text": [
      "genre               0\n",
      "artist_name         0\n",
      "track_name          0\n",
      "track_id            0\n",
      "popularity          0\n",
      "acousticness        0\n",
      "danceability        0\n",
      "duration_ms         0\n",
      "energy              0\n",
      "instrumentalness    0\n",
      "key                 0\n",
      "liveness            0\n",
      "loudness            0\n",
      "mode                0\n",
      "speechiness         0\n",
      "tempo               0\n",
      "time_signature      0\n",
      "valence             0\n",
      "dtype: int64\n"
     ]
    }
   ],
   "source": [
    "# Let's check for null values\n",
    "print(pd.isnull(df).sum())"
   ]
  },
  {
   "cell_type": "code",
   "execution_count": 5,
   "id": "50be5e2e",
   "metadata": {
    "execution": {
     "iopub.execute_input": "2022-09-07T08:45:37.661587Z",
     "iopub.status.busy": "2022-09-07T08:45:37.661130Z",
     "iopub.status.idle": "2022-09-07T08:45:38.228057Z",
     "shell.execute_reply": "2022-09-07T08:45:38.226756Z"
    },
    "papermill": {
     "duration": 0.581199,
     "end_time": "2022-09-07T08:45:38.230816",
     "exception": false,
     "start_time": "2022-09-07T08:45:37.649617",
     "status": "completed"
    },
    "tags": []
   },
   "outputs": [
    {
     "data": {
      "text/plain": [
       "Text(0.5, 1.0, 'Time Signature Distribution')"
      ]
     },
     "execution_count": 5,
     "metadata": {},
     "output_type": "execute_result"
    },
    {
     "data": {
      "image/png": "[encoded data removed]",
      "text/plain": [
       "<Figure size 432x288 with 1 Axes>"
      ]
     },
     "metadata": {
      "needs_background": "light"
     },
     "output_type": "display_data"
    }
   ],
   "source": [
    "# There are no null values, thus there's no need to perform any kind of operation\n",
    "# in order to handle the missing values\n",
    "sns.histplot(df['time_signature']).set_title('Time Signature Distribution')"
   ]
  },
  {
   "cell_type": "code",
   "execution_count": 6,
   "id": "eb1a4127",
   "metadata": {
    "execution": {
     "iopub.execute_input": "2022-09-07T08:45:38.256260Z",
     "iopub.status.busy": "2022-09-07T08:45:38.255840Z",
     "iopub.status.idle": "2022-09-07T08:45:38.865711Z",
     "shell.execute_reply": "2022-09-07T08:45:38.864670Z"
    },
    "papermill": {
     "duration": 0.625803,
     "end_time": "2022-09-07T08:45:38.868102",
     "exception": false,
     "start_time": "2022-09-07T08:45:38.242299",
     "status": "completed"
    },
    "tags": []
   },
   "outputs": [
    {
     "name": "stdout",
     "output_type": "stream",
     "text": [
      "Tracks with a 0/4 time signature: 8\n"
     ]
    },
    {
     "data": {
      "text/plain": [
       "Text(0.5, 1.0, 'Time Signature Distribution')"
      ]
     },
     "execution_count": 6,
     "metadata": {},
     "output_type": "execute_result"
    },
    {
     "data": {
      "image/png": "[encoded data removed]",
      "text/plain": [
       "<Figure size 432x288 with 1 Axes>"
      ]
     },
     "metadata": {
      "needs_background": "light"
     },
     "output_type": "display_data"
    }
   ],
   "source": [
    "# The samples in the dataframe where the field 'time_signature' is '1/4'\n",
    "# actually represent songs with mostly a 4/4 time signature, since it is\n",
    "# most likely an error by who created the dataframe we're going to change it\n",
    "# to the '4/4' value\n",
    "df['time_signature'] = df['time_signature'].replace(['1/4'],'4/4')\n",
    "\n",
    "print(\"Tracks with a 0/4 time signature: %s\" % len(df[df['time_signature'] == '0/4']));\n",
    "# Since there are just 8 samples with a '0/4' time signature,\n",
    "# and since it is clearly an error, I'm going to simply delete them\n",
    "df = df[df['time_signature'] != '0/4']\n",
    "\n",
    "sns.histplot(df['time_signature']).set_title('Time Signature Distribution')"
   ]
  },
  {
   "cell_type": "code",
   "execution_count": 7,
   "id": "ae40d7e1",
   "metadata": {
    "execution": {
     "iopub.execute_input": "2022-09-07T08:45:38.891916Z",
     "iopub.status.busy": "2022-09-07T08:45:38.891551Z",
     "iopub.status.idle": "2022-09-07T08:45:39.557035Z",
     "shell.execute_reply": "2022-09-07T08:45:39.556081Z"
    },
    "papermill": {
     "duration": 0.68003,
     "end_time": "2022-09-07T08:45:39.559448",
     "exception": false,
     "start_time": "2022-09-07T08:45:38.879418",
     "status": "completed"
    },
    "tags": []
   },
   "outputs": [
    {
     "data": {
      "text/plain": [
       "Text(0.5, 1.0, 'Genre Distribution')"
      ]
     },
     "execution_count": 7,
     "metadata": {},
     "output_type": "execute_result"
    },
    {
     "data": {
      "image/png": "[encoded data removed]",
      "text/plain": [
       "<Figure size 1584x432 with 1 Axes>"
      ]
     },
     "metadata": {
      "needs_background": "light"
     },
     "output_type": "display_data"
    }
   ],
   "source": [
    "plt.figure(figsize=(22, 6))\n",
    "sns.histplot(df['genre']).set_title('Genre Distribution')"
   ]
  },
  {
   "cell_type": "code",
   "execution_count": 8,
   "id": "4c7ce6db",
   "metadata": {
    "execution": {
     "iopub.execute_input": "2022-09-07T08:45:39.585538Z",
     "iopub.status.busy": "2022-09-07T08:45:39.584506Z",
     "iopub.status.idle": "2022-09-07T08:45:39.846174Z",
     "shell.execute_reply": "2022-09-07T08:45:39.845074Z"
    },
    "papermill": {
     "duration": 0.276989,
     "end_time": "2022-09-07T08:45:39.848591",
     "exception": false,
     "start_time": "2022-09-07T08:45:39.571602",
     "status": "completed"
    },
    "tags": []
   },
   "outputs": [
    {
     "data": {
      "text/html": [
       "<div>\n",
       "<style scoped>\n",
       "    .dataframe tbody tr th:only-of-type {\n",
       "        vertical-align: middle;\n",
       "    }\n",
       "\n",
       "    .dataframe tbody tr th {\n",
       "        vertical-align: top;\n",
       "    }\n",
       "\n",
       "    .dataframe thead th {\n",
       "        text-align: right;\n",
       "    }\n",
       "</style>\n",
       "<table border=\"1\" class=\"dataframe\">\n",
       "  <thead>\n",
       "    <tr style=\"text-align: right;\">\n",
       "      <th></th>\n",
       "      <th>genre</th>\n",
       "      <th>artist_name</th>\n",
       "      <th>track_name</th>\n",
       "      <th>track_id</th>\n",
       "      <th>popularity</th>\n",
       "      <th>acousticness</th>\n",
       "      <th>danceability</th>\n",
       "      <th>duration_ms</th>\n",
       "      <th>energy</th>\n",
       "      <th>instrumentalness</th>\n",
       "      <th>key</th>\n",
       "      <th>liveness</th>\n",
       "      <th>loudness</th>\n",
       "      <th>mode</th>\n",
       "      <th>speechiness</th>\n",
       "      <th>tempo</th>\n",
       "      <th>time_signature</th>\n",
       "      <th>valence</th>\n",
       "    </tr>\n",
       "  </thead>\n",
       "  <tbody>\n",
       "    <tr>\n",
       "      <th>14492</th>\n",
       "      <td>Dance</td>\n",
       "      <td>ZAYN</td>\n",
       "      <td>Still Got Time</td>\n",
       "      <td>000xQL6tZNLJzIrtIgxqSl</td>\n",
       "      <td>70</td>\n",
       "      <td>0.131000</td>\n",
       "      <td>0.748</td>\n",
       "      <td>188491</td>\n",
       "      <td>0.627</td>\n",
       "      <td>0.000000</td>\n",
       "      <td>G</td>\n",
       "      <td>0.0852</td>\n",
       "      <td>-6.029</td>\n",
       "      <td>Major</td>\n",
       "      <td>0.0644</td>\n",
       "      <td>120.963</td>\n",
       "      <td>4/4</td>\n",
       "      <td>0.524</td>\n",
       "    </tr>\n",
       "    <tr>\n",
       "      <th>110840</th>\n",
       "      <td>Pop</td>\n",
       "      <td>ZAYN</td>\n",
       "      <td>Still Got Time</td>\n",
       "      <td>000xQL6tZNLJzIrtIgxqSl</td>\n",
       "      <td>70</td>\n",
       "      <td>0.131000</td>\n",
       "      <td>0.748</td>\n",
       "      <td>188491</td>\n",
       "      <td>0.627</td>\n",
       "      <td>0.000000</td>\n",
       "      <td>G</td>\n",
       "      <td>0.0852</td>\n",
       "      <td>-6.029</td>\n",
       "      <td>Major</td>\n",
       "      <td>0.0644</td>\n",
       "      <td>120.963</td>\n",
       "      <td>4/4</td>\n",
       "      <td>0.524</td>\n",
       "    </tr>\n",
       "    <tr>\n",
       "      <th>96926</th>\n",
       "      <td>Children’s Music</td>\n",
       "      <td>Young Tribe</td>\n",
       "      <td>Kingdom</td>\n",
       "      <td>001gDjxhKGDSx4sMMAgS9R</td>\n",
       "      <td>57</td>\n",
       "      <td>0.034900</td>\n",
       "      <td>0.564</td>\n",
       "      <td>211789</td>\n",
       "      <td>0.808</td>\n",
       "      <td>0.000360</td>\n",
       "      <td>C#</td>\n",
       "      <td>0.3260</td>\n",
       "      <td>-5.825</td>\n",
       "      <td>Major</td>\n",
       "      <td>0.0481</td>\n",
       "      <td>78.439</td>\n",
       "      <td>4/4</td>\n",
       "      <td>0.365</td>\n",
       "    </tr>\n",
       "    <tr>\n",
       "      <th>153533</th>\n",
       "      <td>Rock</td>\n",
       "      <td>Young Tribe</td>\n",
       "      <td>Kingdom</td>\n",
       "      <td>001gDjxhKGDSx4sMMAgS9R</td>\n",
       "      <td>58</td>\n",
       "      <td>0.034900</td>\n",
       "      <td>0.564</td>\n",
       "      <td>211789</td>\n",
       "      <td>0.808</td>\n",
       "      <td>0.000360</td>\n",
       "      <td>C#</td>\n",
       "      <td>0.3260</td>\n",
       "      <td>-5.825</td>\n",
       "      <td>Major</td>\n",
       "      <td>0.0481</td>\n",
       "      <td>78.439</td>\n",
       "      <td>4/4</td>\n",
       "      <td>0.365</td>\n",
       "    </tr>\n",
       "    <tr>\n",
       "      <th>145387</th>\n",
       "      <td>Indie</td>\n",
       "      <td>Alabama Shakes</td>\n",
       "      <td>Gemini</td>\n",
       "      <td>001ifh9Zkyc5DhK7AGQRtK</td>\n",
       "      <td>42</td>\n",
       "      <td>0.447000</td>\n",
       "      <td>0.411</td>\n",
       "      <td>395573</td>\n",
       "      <td>0.422</td>\n",
       "      <td>0.121000</td>\n",
       "      <td>E</td>\n",
       "      <td>0.0742</td>\n",
       "      <td>-5.475</td>\n",
       "      <td>Minor</td>\n",
       "      <td>0.0459</td>\n",
       "      <td>147.465</td>\n",
       "      <td>4/4</td>\n",
       "      <td>0.346</td>\n",
       "    </tr>\n",
       "    <tr>\n",
       "      <th>...</th>\n",
       "      <td>...</td>\n",
       "      <td>...</td>\n",
       "      <td>...</td>\n",
       "      <td>...</td>\n",
       "      <td>...</td>\n",
       "      <td>...</td>\n",
       "      <td>...</td>\n",
       "      <td>...</td>\n",
       "      <td>...</td>\n",
       "      <td>...</td>\n",
       "      <td>...</td>\n",
       "      <td>...</td>\n",
       "      <td>...</td>\n",
       "      <td>...</td>\n",
       "      <td>...</td>\n",
       "      <td>...</td>\n",
       "      <td>...</td>\n",
       "      <td>...</td>\n",
       "    </tr>\n",
       "    <tr>\n",
       "      <th>10340</th>\n",
       "      <td>Alternative</td>\n",
       "      <td>Bay Faction</td>\n",
       "      <td>Beach Book</td>\n",
       "      <td>7zy2ezQByCeFcaDtsxt77o</td>\n",
       "      <td>40</td>\n",
       "      <td>0.063200</td>\n",
       "      <td>0.537</td>\n",
       "      <td>189750</td>\n",
       "      <td>0.474</td>\n",
       "      <td>0.002590</td>\n",
       "      <td>E</td>\n",
       "      <td>0.0917</td>\n",
       "      <td>-7.440</td>\n",
       "      <td>Minor</td>\n",
       "      <td>0.0500</td>\n",
       "      <td>147.310</td>\n",
       "      <td>4/4</td>\n",
       "      <td>0.474</td>\n",
       "    </tr>\n",
       "    <tr>\n",
       "      <th>97007</th>\n",
       "      <td>Children’s Music</td>\n",
       "      <td>Five Finger Death Punch</td>\n",
       "      <td>Dot Your Eyes</td>\n",
       "      <td>7zyJ2g9o0nVOBbDavVveCl</td>\n",
       "      <td>54</td>\n",
       "      <td>0.000508</td>\n",
       "      <td>0.488</td>\n",
       "      <td>195091</td>\n",
       "      <td>0.994</td>\n",
       "      <td>0.000000</td>\n",
       "      <td>C#</td>\n",
       "      <td>0.0623</td>\n",
       "      <td>-3.960</td>\n",
       "      <td>Minor</td>\n",
       "      <td>0.1190</td>\n",
       "      <td>74.011</td>\n",
       "      <td>4/4</td>\n",
       "      <td>0.376</td>\n",
       "    </tr>\n",
       "    <tr>\n",
       "      <th>4751</th>\n",
       "      <td>Alternative</td>\n",
       "      <td>Five Finger Death Punch</td>\n",
       "      <td>Dot Your Eyes</td>\n",
       "      <td>7zyJ2g9o0nVOBbDavVveCl</td>\n",
       "      <td>50</td>\n",
       "      <td>0.000508</td>\n",
       "      <td>0.488</td>\n",
       "      <td>195091</td>\n",
       "      <td>0.994</td>\n",
       "      <td>0.000000</td>\n",
       "      <td>C#</td>\n",
       "      <td>0.0623</td>\n",
       "      <td>-3.960</td>\n",
       "      <td>Minor</td>\n",
       "      <td>0.1190</td>\n",
       "      <td>74.011</td>\n",
       "      <td>4/4</td>\n",
       "      <td>0.376</td>\n",
       "    </tr>\n",
       "    <tr>\n",
       "      <th>100080</th>\n",
       "      <td>Children’s Music</td>\n",
       "      <td>Moonstar88</td>\n",
       "      <td>Migraine</td>\n",
       "      <td>7zzZmpw8L66ZPjH1M6qmOs</td>\n",
       "      <td>67</td>\n",
       "      <td>0.217000</td>\n",
       "      <td>0.664</td>\n",
       "      <td>267960</td>\n",
       "      <td>0.537</td>\n",
       "      <td>0.000003</td>\n",
       "      <td>D</td>\n",
       "      <td>0.1180</td>\n",
       "      <td>-6.000</td>\n",
       "      <td>Major</td>\n",
       "      <td>0.0290</td>\n",
       "      <td>115.049</td>\n",
       "      <td>4/4</td>\n",
       "      <td>0.221</td>\n",
       "    </tr>\n",
       "    <tr>\n",
       "      <th>142703</th>\n",
       "      <td>Indie</td>\n",
       "      <td>Moonstar88</td>\n",
       "      <td>Migraine</td>\n",
       "      <td>7zzZmpw8L66ZPjH1M6qmOs</td>\n",
       "      <td>67</td>\n",
       "      <td>0.217000</td>\n",
       "      <td>0.664</td>\n",
       "      <td>267960</td>\n",
       "      <td>0.537</td>\n",
       "      <td>0.000003</td>\n",
       "      <td>D</td>\n",
       "      <td>0.1180</td>\n",
       "      <td>-6.000</td>\n",
       "      <td>Major</td>\n",
       "      <td>0.0290</td>\n",
       "      <td>115.049</td>\n",
       "      <td>4/4</td>\n",
       "      <td>0.221</td>\n",
       "    </tr>\n",
       "  </tbody>\n",
       "</table>\n",
       "<p>91072 rows × 18 columns</p>\n",
       "</div>"
      ],
      "text/plain": [
       "                   genre              artist_name      track_name  \\\n",
       "14492              Dance                     ZAYN  Still Got Time   \n",
       "110840               Pop                     ZAYN  Still Got Time   \n",
       "96926   Children’s Music              Young Tribe         Kingdom   \n",
       "153533              Rock              Young Tribe         Kingdom   \n",
       "145387             Indie           Alabama Shakes          Gemini   \n",
       "...                  ...                      ...             ...   \n",
       "10340        Alternative              Bay Faction      Beach Book   \n",
       "97007   Children’s Music  Five Finger Death Punch   Dot Your Eyes   \n",
       "4751         Alternative  Five Finger Death Punch   Dot Your Eyes   \n",
       "100080  Children’s Music               Moonstar88        Migraine   \n",
       "142703             Indie               Moonstar88        Migraine   \n",
       "\n",
       "                      track_id  popularity  acousticness  danceability  \\\n",
       "14492   000xQL6tZNLJzIrtIgxqSl          70      0.131000         0.748   \n",
       "110840  000xQL6tZNLJzIrtIgxqSl          70      0.131000         0.748   \n",
       "96926   001gDjxhKGDSx4sMMAgS9R          57      0.034900         0.564   \n",
       "153533  001gDjxhKGDSx4sMMAgS9R          58      0.034900         0.564   \n",
       "145387  001ifh9Zkyc5DhK7AGQRtK          42      0.447000         0.411   \n",
       "...                        ...         ...           ...           ...   \n",
       "10340   7zy2ezQByCeFcaDtsxt77o          40      0.063200         0.537   \n",
       "97007   7zyJ2g9o0nVOBbDavVveCl          54      0.000508         0.488   \n",
       "4751    7zyJ2g9o0nVOBbDavVveCl          50      0.000508         0.488   \n",
       "100080  7zzZmpw8L66ZPjH1M6qmOs          67      0.217000         0.664   \n",
       "142703  7zzZmpw8L66ZPjH1M6qmOs          67      0.217000         0.664   \n",
       "\n",
       "        duration_ms  energy  instrumentalness key  liveness  loudness   mode  \\\n",
       "14492        188491   0.627          0.000000   G    0.0852    -6.029  Major   \n",
       "110840       188491   0.627          0.000000   G    0.0852    -6.029  Major   \n",
       "96926        211789   0.808          0.000360  C#    0.3260    -5.825  Major   \n",
       "153533       211789   0.808          0.000360  C#    0.3260    -5.825  Major   \n",
       "145387       395573   0.422          0.121000   E    0.0742    -5.475  Minor   \n",
       "...             ...     ...               ...  ..       ...       ...    ...   \n",
       "10340        189750   0.474          0.002590   E    0.0917    -7.440  Minor   \n",
       "97007        195091   0.994          0.000000  C#    0.0623    -3.960  Minor   \n",
       "4751         195091   0.994          0.000000  C#    0.0623    -3.960  Minor   \n",
       "100080       267960   0.537          0.000003   D    0.1180    -6.000  Major   \n",
       "142703       267960   0.537          0.000003   D    0.1180    -6.000  Major   \n",
       "\n",
       "        speechiness    tempo time_signature  valence  \n",
       "14492        0.0644  120.963            4/4    0.524  \n",
       "110840       0.0644  120.963            4/4    0.524  \n",
       "96926        0.0481   78.439            4/4    0.365  \n",
       "153533       0.0481   78.439            4/4    0.365  \n",
       "145387       0.0459  147.465            4/4    0.346  \n",
       "...             ...      ...            ...      ...  \n",
       "10340        0.0500  147.310            4/4    0.474  \n",
       "97007        0.1190   74.011            4/4    0.376  \n",
       "4751         0.1190   74.011            4/4    0.376  \n",
       "100080       0.0290  115.049            4/4    0.221  \n",
       "142703       0.0290  115.049            4/4    0.221  \n",
       "\n",
       "[91072 rows x 18 columns]"
      ]
     },
     "execution_count": 8,
     "metadata": {},
     "output_type": "execute_result"
    }
   ],
   "source": [
    "ids = df[\"track_id\"]\n",
    ">>> df[ids.isin(ids[ids.duplicated()])].sort_values(\"track_id\")"
   ]
  },
  {
   "cell_type": "code",
   "execution_count": 9,
   "id": "d5928043",
   "metadata": {
    "execution": {
     "iopub.execute_input": "2022-09-07T08:45:39.874451Z",
     "iopub.status.busy": "2022-09-07T08:45:39.874043Z",
     "iopub.status.idle": "2022-09-07T08:45:40.126103Z",
     "shell.execute_reply": "2022-09-07T08:45:40.124582Z"
    },
    "papermill": {
     "duration": 0.268102,
     "end_time": "2022-09-07T08:45:40.128806",
     "exception": false,
     "start_time": "2022-09-07T08:45:39.860704",
     "status": "completed"
    },
    "tags": []
   },
   "outputs": [
    {
     "name": "stdout",
     "output_type": "stream",
     "text": [
      "Classical Tracks number: 9256\n",
      "Pop Tracks number: 9385\n",
      "Folk Tracks number: 9299\n",
      "Total Tracks number: 27940\n"
     ]
    },
    {
     "data": {
      "image/png": "[encoded data removed]",
      "text/plain": [
       "<Figure size 432x288 with 1 Axes>"
      ]
     },
     "metadata": {
      "needs_background": "light"
     },
     "output_type": "display_data"
    }
   ],
   "source": [
    "# i'm going to pick the three genres of the Philip Tagg's axiomatic triangle:\n",
    "# Classical, Pop and Folk, as we can see they are pretty balanced\n",
    "\n",
    "taggGenres = ['Classical','Pop','Folk']\n",
    "df = df[df.genre.isin(taggGenres)];\n",
    "sns.histplot(df['genre']).set_title('Genre Distribution')\n",
    "\n",
    "print(\"Classical Tracks number: %s\" % len(df[df['genre'] == 'Classical']));\n",
    "print(\"Pop Tracks number: %s\" % len(df[df['genre'] == 'Pop']));\n",
    "print(\"Folk Tracks number: %s\" % len(df[df['genre'] == 'Folk']));\n",
    "\n",
    "print(\"Total Tracks number: %s\" % len(df));"
   ]
  },
  {
   "cell_type": "code",
   "execution_count": 10,
   "id": "7b89a2fb",
   "metadata": {
    "execution": {
     "iopub.execute_input": "2022-09-07T08:45:40.157036Z",
     "iopub.status.busy": "2022-09-07T08:45:40.156416Z",
     "iopub.status.idle": "2022-09-07T08:45:40.206689Z",
     "shell.execute_reply": "2022-09-07T08:45:40.205431Z"
    },
    "papermill": {
     "duration": 0.067433,
     "end_time": "2022-09-07T08:45:40.209043",
     "exception": false,
     "start_time": "2022-09-07T08:45:40.141610",
     "status": "completed"
    },
    "tags": []
   },
   "outputs": [
    {
     "data": {
      "text/html": [
       "<div>\n",
       "<style scoped>\n",
       "    .dataframe tbody tr th:only-of-type {\n",
       "        vertical-align: middle;\n",
       "    }\n",
       "\n",
       "    .dataframe tbody tr th {\n",
       "        vertical-align: top;\n",
       "    }\n",
       "\n",
       "    .dataframe thead th {\n",
       "        text-align: right;\n",
       "    }\n",
       "</style>\n",
       "<table border=\"1\" class=\"dataframe\">\n",
       "  <thead>\n",
       "    <tr style=\"text-align: right;\">\n",
       "      <th></th>\n",
       "      <th>genre</th>\n",
       "      <th>artist_name</th>\n",
       "      <th>track_name</th>\n",
       "      <th>track_id</th>\n",
       "      <th>popularity</th>\n",
       "      <th>acousticness</th>\n",
       "      <th>danceability</th>\n",
       "      <th>duration_ms</th>\n",
       "      <th>energy</th>\n",
       "      <th>instrumentalness</th>\n",
       "      <th>key</th>\n",
       "      <th>liveness</th>\n",
       "      <th>loudness</th>\n",
       "      <th>mode</th>\n",
       "      <th>speechiness</th>\n",
       "      <th>tempo</th>\n",
       "      <th>time_signature</th>\n",
       "      <th>valence</th>\n",
       "    </tr>\n",
       "  </thead>\n",
       "  <tbody>\n",
       "    <tr>\n",
       "      <th>40627</th>\n",
       "      <td>Folk</td>\n",
       "      <td>Seals and Crofts</td>\n",
       "      <td>Summer Breeze</td>\n",
       "      <td>01UYpHuzHi4eB9PAbDoPY2</td>\n",
       "      <td>71</td>\n",
       "      <td>0.6110</td>\n",
       "      <td>0.501</td>\n",
       "      <td>203967</td>\n",
       "      <td>0.474</td>\n",
       "      <td>0.029800</td>\n",
       "      <td>F</td>\n",
       "      <td>0.0667</td>\n",
       "      <td>-10.041</td>\n",
       "      <td>Major</td>\n",
       "      <td>0.0386</td>\n",
       "      <td>88.609</td>\n",
       "      <td>4/4</td>\n",
       "      <td>0.350</td>\n",
       "    </tr>\n",
       "    <tr>\n",
       "      <th>111238</th>\n",
       "      <td>Pop</td>\n",
       "      <td>Seals and Crofts</td>\n",
       "      <td>Summer Breeze</td>\n",
       "      <td>01UYpHuzHi4eB9PAbDoPY2</td>\n",
       "      <td>71</td>\n",
       "      <td>0.6110</td>\n",
       "      <td>0.501</td>\n",
       "      <td>203967</td>\n",
       "      <td>0.474</td>\n",
       "      <td>0.029800</td>\n",
       "      <td>F</td>\n",
       "      <td>0.0667</td>\n",
       "      <td>-10.041</td>\n",
       "      <td>Major</td>\n",
       "      <td>0.0386</td>\n",
       "      <td>88.609</td>\n",
       "      <td>4/4</td>\n",
       "      <td>0.350</td>\n",
       "    </tr>\n",
       "    <tr>\n",
       "      <th>41219</th>\n",
       "      <td>Folk</td>\n",
       "      <td>The Zombies</td>\n",
       "      <td>This Will Be Our Year</td>\n",
       "      <td>02KpkaZbiutsR0ucxce4Sh</td>\n",
       "      <td>65</td>\n",
       "      <td>0.6260</td>\n",
       "      <td>0.535</td>\n",
       "      <td>127733</td>\n",
       "      <td>0.424</td>\n",
       "      <td>0.000000</td>\n",
       "      <td>A</td>\n",
       "      <td>0.1910</td>\n",
       "      <td>-7.491</td>\n",
       "      <td>Major</td>\n",
       "      <td>0.0314</td>\n",
       "      <td>97.506</td>\n",
       "      <td>4/4</td>\n",
       "      <td>0.539</td>\n",
       "    </tr>\n",
       "    <tr>\n",
       "      <th>113906</th>\n",
       "      <td>Pop</td>\n",
       "      <td>The Zombies</td>\n",
       "      <td>This Will Be Our Year</td>\n",
       "      <td>02KpkaZbiutsR0ucxce4Sh</td>\n",
       "      <td>65</td>\n",
       "      <td>0.6260</td>\n",
       "      <td>0.535</td>\n",
       "      <td>127733</td>\n",
       "      <td>0.424</td>\n",
       "      <td>0.000000</td>\n",
       "      <td>A</td>\n",
       "      <td>0.1910</td>\n",
       "      <td>-7.491</td>\n",
       "      <td>Major</td>\n",
       "      <td>0.0314</td>\n",
       "      <td>97.506</td>\n",
       "      <td>4/4</td>\n",
       "      <td>0.539</td>\n",
       "    </tr>\n",
       "    <tr>\n",
       "      <th>40666</th>\n",
       "      <td>Folk</td>\n",
       "      <td>Peter Bradley Adams</td>\n",
       "      <td>My Arms Were Always Around You</td>\n",
       "      <td>02a2RQEICEzbdPPYh0aLnJ</td>\n",
       "      <td>68</td>\n",
       "      <td>0.7240</td>\n",
       "      <td>0.643</td>\n",
       "      <td>200800</td>\n",
       "      <td>0.436</td>\n",
       "      <td>0.459000</td>\n",
       "      <td>C#</td>\n",
       "      <td>0.1100</td>\n",
       "      <td>-12.245</td>\n",
       "      <td>Major</td>\n",
       "      <td>0.0273</td>\n",
       "      <td>91.485</td>\n",
       "      <td>4/4</td>\n",
       "      <td>0.422</td>\n",
       "    </tr>\n",
       "    <tr>\n",
       "      <th>...</th>\n",
       "      <td>...</td>\n",
       "      <td>...</td>\n",
       "      <td>...</td>\n",
       "      <td>...</td>\n",
       "      <td>...</td>\n",
       "      <td>...</td>\n",
       "      <td>...</td>\n",
       "      <td>...</td>\n",
       "      <td>...</td>\n",
       "      <td>...</td>\n",
       "      <td>...</td>\n",
       "      <td>...</td>\n",
       "      <td>...</td>\n",
       "      <td>...</td>\n",
       "      <td>...</td>\n",
       "      <td>...</td>\n",
       "      <td>...</td>\n",
       "      <td>...</td>\n",
       "    </tr>\n",
       "    <tr>\n",
       "      <th>112103</th>\n",
       "      <td>Pop</td>\n",
       "      <td>Mat Kearney</td>\n",
       "      <td>Money</td>\n",
       "      <td>7zb2TzZwpXuBJutFIqS6lA</td>\n",
       "      <td>61</td>\n",
       "      <td>0.7100</td>\n",
       "      <td>0.740</td>\n",
       "      <td>149560</td>\n",
       "      <td>0.622</td>\n",
       "      <td>0.000122</td>\n",
       "      <td>C#</td>\n",
       "      <td>0.1800</td>\n",
       "      <td>-5.492</td>\n",
       "      <td>Minor</td>\n",
       "      <td>0.0306</td>\n",
       "      <td>93.985</td>\n",
       "      <td>4/4</td>\n",
       "      <td>0.759</td>\n",
       "    </tr>\n",
       "    <tr>\n",
       "      <th>41122</th>\n",
       "      <td>Folk</td>\n",
       "      <td>Local Natives</td>\n",
       "      <td>When Am I Gonna Lose You</td>\n",
       "      <td>7ze7X8r4fopBs9ZRtwYFOX</td>\n",
       "      <td>59</td>\n",
       "      <td>0.0417</td>\n",
       "      <td>0.452</td>\n",
       "      <td>264213</td>\n",
       "      <td>0.834</td>\n",
       "      <td>0.000360</td>\n",
       "      <td>B</td>\n",
       "      <td>0.1190</td>\n",
       "      <td>-4.657</td>\n",
       "      <td>Major</td>\n",
       "      <td>0.0967</td>\n",
       "      <td>142.088</td>\n",
       "      <td>4/4</td>\n",
       "      <td>0.514</td>\n",
       "    </tr>\n",
       "    <tr>\n",
       "      <th>113662</th>\n",
       "      <td>Pop</td>\n",
       "      <td>Local Natives</td>\n",
       "      <td>When Am I Gonna Lose You</td>\n",
       "      <td>7ze7X8r4fopBs9ZRtwYFOX</td>\n",
       "      <td>59</td>\n",
       "      <td>0.0417</td>\n",
       "      <td>0.452</td>\n",
       "      <td>264213</td>\n",
       "      <td>0.834</td>\n",
       "      <td>0.000360</td>\n",
       "      <td>B</td>\n",
       "      <td>0.1190</td>\n",
       "      <td>-4.657</td>\n",
       "      <td>Major</td>\n",
       "      <td>0.0967</td>\n",
       "      <td>142.088</td>\n",
       "      <td>4/4</td>\n",
       "      <td>0.514</td>\n",
       "    </tr>\n",
       "    <tr>\n",
       "      <th>41038</th>\n",
       "      <td>Folk</td>\n",
       "      <td>Norah Jones</td>\n",
       "      <td>Sunrise</td>\n",
       "      <td>7zkLpY72g6lKQbiHDqri1S</td>\n",
       "      <td>70</td>\n",
       "      <td>0.9410</td>\n",
       "      <td>0.526</td>\n",
       "      <td>200627</td>\n",
       "      <td>0.299</td>\n",
       "      <td>0.097000</td>\n",
       "      <td>G#</td>\n",
       "      <td>0.1060</td>\n",
       "      <td>-13.797</td>\n",
       "      <td>Major</td>\n",
       "      <td>0.0310</td>\n",
       "      <td>156.848</td>\n",
       "      <td>4/4</td>\n",
       "      <td>0.679</td>\n",
       "    </tr>\n",
       "    <tr>\n",
       "      <th>150542</th>\n",
       "      <td>Pop</td>\n",
       "      <td>Norah Jones</td>\n",
       "      <td>Sunrise</td>\n",
       "      <td>7zkLpY72g6lKQbiHDqri1S</td>\n",
       "      <td>70</td>\n",
       "      <td>0.9410</td>\n",
       "      <td>0.526</td>\n",
       "      <td>200627</td>\n",
       "      <td>0.299</td>\n",
       "      <td>0.097000</td>\n",
       "      <td>G#</td>\n",
       "      <td>0.1060</td>\n",
       "      <td>-13.797</td>\n",
       "      <td>Major</td>\n",
       "      <td>0.0310</td>\n",
       "      <td>156.848</td>\n",
       "      <td>4/4</td>\n",
       "      <td>0.679</td>\n",
       "    </tr>\n",
       "  </tbody>\n",
       "</table>\n",
       "<p>1424 rows × 18 columns</p>\n",
       "</div>"
      ],
      "text/plain": [
       "       genre          artist_name                      track_name  \\\n",
       "40627   Folk     Seals and Crofts                   Summer Breeze   \n",
       "111238   Pop     Seals and Crofts                   Summer Breeze   \n",
       "41219   Folk          The Zombies           This Will Be Our Year   \n",
       "113906   Pop          The Zombies           This Will Be Our Year   \n",
       "40666   Folk  Peter Bradley Adams  My Arms Were Always Around You   \n",
       "...      ...                  ...                             ...   \n",
       "112103   Pop          Mat Kearney                           Money   \n",
       "41122   Folk        Local Natives        When Am I Gonna Lose You   \n",
       "113662   Pop        Local Natives        When Am I Gonna Lose You   \n",
       "41038   Folk          Norah Jones                         Sunrise   \n",
       "150542   Pop          Norah Jones                         Sunrise   \n",
       "\n",
       "                      track_id  popularity  acousticness  danceability  \\\n",
       "40627   01UYpHuzHi4eB9PAbDoPY2          71        0.6110         0.501   \n",
       "111238  01UYpHuzHi4eB9PAbDoPY2          71        0.6110         0.501   \n",
       "41219   02KpkaZbiutsR0ucxce4Sh          65        0.6260         0.535   \n",
       "113906  02KpkaZbiutsR0ucxce4Sh          65        0.6260         0.535   \n",
       "40666   02a2RQEICEzbdPPYh0aLnJ          68        0.7240         0.643   \n",
       "...                        ...         ...           ...           ...   \n",
       "112103  7zb2TzZwpXuBJutFIqS6lA          61        0.7100         0.740   \n",
       "41122   7ze7X8r4fopBs9ZRtwYFOX          59        0.0417         0.452   \n",
       "113662  7ze7X8r4fopBs9ZRtwYFOX          59        0.0417         0.452   \n",
       "41038   7zkLpY72g6lKQbiHDqri1S          70        0.9410         0.526   \n",
       "150542  7zkLpY72g6lKQbiHDqri1S          70        0.9410         0.526   \n",
       "\n",
       "        duration_ms  energy  instrumentalness key  liveness  loudness   mode  \\\n",
       "40627        203967   0.474          0.029800   F    0.0667   -10.041  Major   \n",
       "111238       203967   0.474          0.029800   F    0.0667   -10.041  Major   \n",
       "41219        127733   0.424          0.000000   A    0.1910    -7.491  Major   \n",
       "113906       127733   0.424          0.000000   A    0.1910    -7.491  Major   \n",
       "40666        200800   0.436          0.459000  C#    0.1100   -12.245  Major   \n",
       "...             ...     ...               ...  ..       ...       ...    ...   \n",
       "112103       149560   0.622          0.000122  C#    0.1800    -5.492  Minor   \n",
       "41122        264213   0.834          0.000360   B    0.1190    -4.657  Major   \n",
       "113662       264213   0.834          0.000360   B    0.1190    -4.657  Major   \n",
       "41038        200627   0.299          0.097000  G#    0.1060   -13.797  Major   \n",
       "150542       200627   0.299          0.097000  G#    0.1060   -13.797  Major   \n",
       "\n",
       "        speechiness    tempo time_signature  valence  \n",
       "40627        0.0386   88.609            4/4    0.350  \n",
       "111238       0.0386   88.609            4/4    0.350  \n",
       "41219        0.0314   97.506            4/4    0.539  \n",
       "113906       0.0314   97.506            4/4    0.539  \n",
       "40666        0.0273   91.485            4/4    0.422  \n",
       "...             ...      ...            ...      ...  \n",
       "112103       0.0306   93.985            4/4    0.759  \n",
       "41122        0.0967  142.088            4/4    0.514  \n",
       "113662       0.0967  142.088            4/4    0.514  \n",
       "41038        0.0310  156.848            4/4    0.679  \n",
       "150542       0.0310  156.848            4/4    0.679  \n",
       "\n",
       "[1424 rows x 18 columns]"
      ]
     },
     "metadata": {},
     "output_type": "display_data"
    }
   ],
   "source": [
    "ids = df[\"track_id\"]\n",
    ">>> dup_df = df[ids.isin(ids[ids.duplicated()])].sort_values(\"track_id\")\n",
    "display(dup_df)"
   ]
  },
  {
   "cell_type": "code",
   "execution_count": 11,
   "id": "e6e96585",
   "metadata": {
    "execution": {
     "iopub.execute_input": "2022-09-07T08:45:40.237361Z",
     "iopub.status.busy": "2022-09-07T08:45:40.236342Z",
     "iopub.status.idle": "2022-09-07T08:45:40.270957Z",
     "shell.execute_reply": "2022-09-07T08:45:40.269957Z"
    },
    "papermill": {
     "duration": 0.051134,
     "end_time": "2022-09-07T08:45:40.273559",
     "exception": false,
     "start_time": "2022-09-07T08:45:40.222425",
     "status": "completed"
    },
    "tags": []
   },
   "outputs": [],
   "source": [
    "# Remove every duplicated track an put them in a separated dataframe\n",
    "df = df.drop_duplicates(subset = [\"track_id\"], keep=False)\n",
    "# Remove duplicates in the only duplicates dataframe and assign half to Pop and half to Folk (Classical doubles, since there are only 4, will be deleted)\n",
    "dup_df = dup_df.drop_duplicates(subset = [\"track_id\"])\n",
    "dup_df = dup_df[dup_df['genre'] != 'Classical']\n",
    "part_50 = dup_df.sample(frac = 0.5)\n",
    "rest_part_50 = dup_df.drop(part_50.index)\n",
    "part_50 = part_50.assign(genre = 'Pop')\n",
    "rest_part_50 = rest_part_50.assign(genre = 'Folk')\n",
    "df = pd.concat([df, part_50, rest_part_50])"
   ]
  },
  {
   "cell_type": "code",
   "execution_count": 12,
   "id": "88026903",
   "metadata": {
    "execution": {
     "iopub.execute_input": "2022-09-07T08:45:40.300979Z",
     "iopub.status.busy": "2022-09-07T08:45:40.300594Z",
     "iopub.status.idle": "2022-09-07T08:45:40.323420Z",
     "shell.execute_reply": "2022-09-07T08:45:40.322182Z"
    },
    "papermill": {
     "duration": 0.039541,
     "end_time": "2022-09-07T08:45:40.325940",
     "exception": false,
     "start_time": "2022-09-07T08:45:40.286399",
     "status": "completed"
    },
    "tags": []
   },
   "outputs": [
    {
     "data": {
      "text/html": [
       "<div>\n",
       "<style scoped>\n",
       "    .dataframe tbody tr th:only-of-type {\n",
       "        vertical-align: middle;\n",
       "    }\n",
       "\n",
       "    .dataframe tbody tr th {\n",
       "        vertical-align: top;\n",
       "    }\n",
       "\n",
       "    .dataframe thead th {\n",
       "        text-align: right;\n",
       "    }\n",
       "</style>\n",
       "<table border=\"1\" class=\"dataframe\">\n",
       "  <thead>\n",
       "    <tr style=\"text-align: right;\">\n",
       "      <th></th>\n",
       "      <th>genre</th>\n",
       "      <th>artist_name</th>\n",
       "      <th>track_name</th>\n",
       "      <th>track_id</th>\n",
       "      <th>popularity</th>\n",
       "      <th>acousticness</th>\n",
       "      <th>danceability</th>\n",
       "      <th>duration_ms</th>\n",
       "      <th>energy</th>\n",
       "      <th>instrumentalness</th>\n",
       "      <th>key</th>\n",
       "      <th>liveness</th>\n",
       "      <th>loudness</th>\n",
       "      <th>mode</th>\n",
       "      <th>speechiness</th>\n",
       "      <th>tempo</th>\n",
       "      <th>time_signature</th>\n",
       "      <th>valence</th>\n",
       "    </tr>\n",
       "  </thead>\n",
       "  <tbody>\n",
       "  </tbody>\n",
       "</table>\n",
       "</div>"
      ],
      "text/plain": [
       "Empty DataFrame\n",
       "Columns: [genre, artist_name, track_name, track_id, popularity, acousticness, danceability, duration_ms, energy, instrumentalness, key, liveness, loudness, mode, speechiness, tempo, time_signature, valence]\n",
       "Index: []"
      ]
     },
     "execution_count": 12,
     "metadata": {},
     "output_type": "execute_result"
    }
   ],
   "source": [
    "ids = df[\"track_id\"]\n",
    ">>> df[ids.isin(ids[ids.duplicated()])].sort_values(\"track_id\")"
   ]
  },
  {
   "cell_type": "code",
   "execution_count": 13,
   "id": "1c05a102",
   "metadata": {
    "execution": {
     "iopub.execute_input": "2022-09-07T08:45:40.354413Z",
     "iopub.status.busy": "2022-09-07T08:45:40.353220Z",
     "iopub.status.idle": "2022-09-07T08:45:40.373533Z",
     "shell.execute_reply": "2022-09-07T08:45:40.372167Z"
    },
    "papermill": {
     "duration": 0.037235,
     "end_time": "2022-09-07T08:45:40.376223",
     "exception": false,
     "start_time": "2022-09-07T08:45:40.338988",
     "status": "completed"
    },
    "tags": []
   },
   "outputs": [
    {
     "name": "stdout",
     "output_type": "stream",
     "text": [
      "Classical Tracks number: 9252\n",
      "Pop Tracks number: 9030\n",
      "Folk Tracks number: 8945\n",
      "Total Tracks number: 27227\n"
     ]
    }
   ],
   "source": [
    "print(\"Classical Tracks number: %s\" % len(df[df['genre'] == 'Classical']));\n",
    "print(\"Pop Tracks number: %s\" % len(df[df['genre'] == 'Pop']));\n",
    "print(\"Folk Tracks number: %s\" % len(df[df['genre'] == 'Folk']));\n",
    "\n",
    "print(\"Total Tracks number: %s\" % len(df));"
   ]
  },
  {
   "cell_type": "code",
   "execution_count": 14,
   "id": "24defe32",
   "metadata": {
    "execution": {
     "iopub.execute_input": "2022-09-07T08:45:40.405473Z",
     "iopub.status.busy": "2022-09-07T08:45:40.405052Z",
     "iopub.status.idle": "2022-09-07T08:45:40.801792Z",
     "shell.execute_reply": "2022-09-07T08:45:40.800535Z"
    },
    "papermill": {
     "duration": 0.414342,
     "end_time": "2022-09-07T08:45:40.804176",
     "exception": false,
     "start_time": "2022-09-07T08:45:40.389834",
     "status": "completed"
    },
    "tags": []
   },
   "outputs": [
    {
     "data": {
      "text/plain": [
       "Text(0.5, 1.0, 'Key usage for every genre')"
      ]
     },
     "execution_count": 14,
     "metadata": {},
     "output_type": "execute_result"
    },
    {
     "data": {
      "image/png": "[encoded data removed]",
      "text/plain": [
       "<Figure size 1584x432 with 1 Axes>"
      ]
     },
     "metadata": {
      "needs_background": "light"
     },
     "output_type": "display_data"
    }
   ],
   "source": [
    "plt.figure(figsize=(22, 6))\n",
    "sns.countplot(x = 'key', hue = 'genre', data = df)\n",
    "plt.title('Key usage for every genre')\n",
    "# This is the distribution of key usage for every genre, I decided at the end to drop this and the mode\n",
    "# features since they don't have much meaning in a genre prediction"
   ]
  },
  {
   "cell_type": "code",
   "execution_count": 15,
   "id": "cf216c82",
   "metadata": {
    "execution": {
     "iopub.execute_input": "2022-09-07T08:45:40.833147Z",
     "iopub.status.busy": "2022-09-07T08:45:40.832736Z",
     "iopub.status.idle": "2022-09-07T08:45:40.970432Z",
     "shell.execute_reply": "2022-09-07T08:45:40.969389Z"
    },
    "papermill": {
     "duration": 0.154964,
     "end_time": "2022-09-07T08:45:40.972725",
     "exception": false,
     "start_time": "2022-09-07T08:45:40.817761",
     "status": "completed"
    },
    "tags": []
   },
   "outputs": [
    {
     "data": {
      "text/html": [
       "<div>\n",
       "<style scoped>\n",
       "    .dataframe tbody tr th:only-of-type {\n",
       "        vertical-align: middle;\n",
       "    }\n",
       "\n",
       "    .dataframe tbody tr th {\n",
       "        vertical-align: top;\n",
       "    }\n",
       "\n",
       "    .dataframe thead th {\n",
       "        text-align: right;\n",
       "    }\n",
       "</style>\n",
       "<table border=\"1\" class=\"dataframe\">\n",
       "  <thead>\n",
       "    <tr style=\"text-align: right;\">\n",
       "      <th></th>\n",
       "      <th>genre</th>\n",
       "      <th>acousticness</th>\n",
       "      <th>danceability</th>\n",
       "      <th>energy</th>\n",
       "      <th>instrumentalness</th>\n",
       "      <th>liveness</th>\n",
       "      <th>loudness</th>\n",
       "      <th>speechiness</th>\n",
       "      <th>tempo</th>\n",
       "      <th>valence</th>\n",
       "      <th>time_signature_3</th>\n",
       "      <th>time_signature_4</th>\n",
       "      <th>time_signature_5</th>\n",
       "    </tr>\n",
       "  </thead>\n",
       "  <tbody>\n",
       "    <tr>\n",
       "      <th>130698</th>\n",
       "      <td>Classical</td>\n",
       "      <td>0.933000</td>\n",
       "      <td>0.240</td>\n",
       "      <td>0.1400</td>\n",
       "      <td>0.008760</td>\n",
       "      <td>0.1170</td>\n",
       "      <td>-19.212</td>\n",
       "      <td>0.0419</td>\n",
       "      <td>65.525</td>\n",
       "      <td>0.0304</td>\n",
       "      <td>0</td>\n",
       "      <td>1</td>\n",
       "      <td>0</td>\n",
       "    </tr>\n",
       "    <tr>\n",
       "      <th>128363</th>\n",
       "      <td>Classical</td>\n",
       "      <td>0.993000</td>\n",
       "      <td>0.508</td>\n",
       "      <td>0.0539</td>\n",
       "      <td>0.714000</td>\n",
       "      <td>0.1280</td>\n",
       "      <td>-26.079</td>\n",
       "      <td>0.0462</td>\n",
       "      <td>92.911</td>\n",
       "      <td>0.1130</td>\n",
       "      <td>1</td>\n",
       "      <td>0</td>\n",
       "      <td>0</td>\n",
       "    </tr>\n",
       "    <tr>\n",
       "      <th>111235</th>\n",
       "      <td>Pop</td>\n",
       "      <td>0.003750</td>\n",
       "      <td>0.476</td>\n",
       "      <td>0.8820</td>\n",
       "      <td>0.000000</td>\n",
       "      <td>0.1550</td>\n",
       "      <td>-3.028</td>\n",
       "      <td>0.0390</td>\n",
       "      <td>150.051</td>\n",
       "      <td>0.4770</td>\n",
       "      <td>0</td>\n",
       "      <td>1</td>\n",
       "      <td>0</td>\n",
       "    </tr>\n",
       "    <tr>\n",
       "      <th>42156</th>\n",
       "      <td>Folk</td>\n",
       "      <td>0.033700</td>\n",
       "      <td>0.623</td>\n",
       "      <td>0.6810</td>\n",
       "      <td>0.000111</td>\n",
       "      <td>0.0812</td>\n",
       "      <td>-6.012</td>\n",
       "      <td>0.1030</td>\n",
       "      <td>100.171</td>\n",
       "      <td>0.4990</td>\n",
       "      <td>0</td>\n",
       "      <td>1</td>\n",
       "      <td>0</td>\n",
       "    </tr>\n",
       "    <tr>\n",
       "      <th>65312</th>\n",
       "      <td>Folk</td>\n",
       "      <td>0.000005</td>\n",
       "      <td>0.320</td>\n",
       "      <td>0.6250</td>\n",
       "      <td>0.000280</td>\n",
       "      <td>0.3070</td>\n",
       "      <td>-4.987</td>\n",
       "      <td>0.0337</td>\n",
       "      <td>122.513</td>\n",
       "      <td>0.4570</td>\n",
       "      <td>0</td>\n",
       "      <td>1</td>\n",
       "      <td>0</td>\n",
       "    </tr>\n",
       "  </tbody>\n",
       "</table>\n",
       "</div>"
      ],
      "text/plain": [
       "            genre  acousticness  danceability  energy  instrumentalness  \\\n",
       "130698  Classical      0.933000         0.240  0.1400          0.008760   \n",
       "128363  Classical      0.993000         0.508  0.0539          0.714000   \n",
       "111235        Pop      0.003750         0.476  0.8820          0.000000   \n",
       "42156        Folk      0.033700         0.623  0.6810          0.000111   \n",
       "65312        Folk      0.000005         0.320  0.6250          0.000280   \n",
       "\n",
       "        liveness  loudness  speechiness    tempo  valence  time_signature_3  \\\n",
       "130698    0.1170   -19.212       0.0419   65.525   0.0304                 0   \n",
       "128363    0.1280   -26.079       0.0462   92.911   0.1130                 1   \n",
       "111235    0.1550    -3.028       0.0390  150.051   0.4770                 0   \n",
       "42156     0.0812    -6.012       0.1030  100.171   0.4990                 0   \n",
       "65312     0.3070    -4.987       0.0337  122.513   0.4570                 0   \n",
       "\n",
       "        time_signature_4  time_signature_5  \n",
       "130698                 1                 0  \n",
       "128363                 0                 0  \n",
       "111235                 1                 0  \n",
       "42156                  1                 0  \n",
       "65312                  1                 0  "
      ]
     },
     "metadata": {},
     "output_type": "display_data"
    }
   ],
   "source": [
    "# Let's now remove the unnecessary features\n",
    "new_df = df.drop(['artist_name','track_name','track_id','popularity','key','mode','duration_ms'],axis = 1)\n",
    "# Make a one hot encoding of the time signature\n",
    "new_df.time_signature = new_df.time_signature.map( {'3/4':3 , '4/4':4, '5/4':5} )\n",
    "new_df = pd.get_dummies(data= new_df, columns=['time_signature'])\n",
    "# Shuffle the dataset\n",
    "from sklearn.utils import shuffle\n",
    "new_df = shuffle(new_df)\n",
    "display(new_df.head())"
   ]
  },
  {
   "cell_type": "code",
   "execution_count": 16,
   "id": "ae02d180",
   "metadata": {
    "execution": {
     "iopub.execute_input": "2022-09-07T08:45:41.002320Z",
     "iopub.status.busy": "2022-09-07T08:45:41.001573Z",
     "iopub.status.idle": "2022-09-07T08:45:41.009465Z",
     "shell.execute_reply": "2022-09-07T08:45:41.008514Z"
    },
    "papermill": {
     "duration": 0.025321,
     "end_time": "2022-09-07T08:45:41.011688",
     "exception": false,
     "start_time": "2022-09-07T08:45:40.986367",
     "status": "completed"
    },
    "tags": []
   },
   "outputs": [
    {
     "data": {
      "text/plain": [
       "Index(['acousticness', 'danceability', 'energy', 'instrumentalness',\n",
       "       'liveness', 'loudness', 'speechiness', 'tempo', 'valence',\n",
       "       'time_signature_3', 'time_signature_4', 'time_signature_5'],\n",
       "      dtype='object')"
      ]
     },
     "metadata": {},
     "output_type": "display_data"
    }
   ],
   "source": [
    "features = new_df.keys().drop(['genre']);\n",
    "display(features)"
   ]
  },
  {
   "cell_type": "code",
   "execution_count": 17,
   "id": "94e6e1d5",
   "metadata": {
    "execution": {
     "iopub.execute_input": "2022-09-07T08:45:41.041478Z",
     "iopub.status.busy": "2022-09-07T08:45:41.040764Z",
     "iopub.status.idle": "2022-09-07T08:45:41.189950Z",
     "shell.execute_reply": "2022-09-07T08:45:41.188853Z"
    },
    "papermill": {
     "duration": 0.167201,
     "end_time": "2022-09-07T08:45:41.192755",
     "exception": false,
     "start_time": "2022-09-07T08:45:41.025554",
     "status": "completed"
    },
    "tags": []
   },
   "outputs": [
    {
     "data": {
      "text/html": [
       "<div>\n",
       "<style scoped>\n",
       "    .dataframe tbody tr th:only-of-type {\n",
       "        vertical-align: middle;\n",
       "    }\n",
       "\n",
       "    .dataframe tbody tr th {\n",
       "        vertical-align: top;\n",
       "    }\n",
       "\n",
       "    .dataframe thead th {\n",
       "        text-align: right;\n",
       "    }\n",
       "</style>\n",
       "<table border=\"1\" class=\"dataframe\">\n",
       "  <thead>\n",
       "    <tr style=\"text-align: right;\">\n",
       "      <th></th>\n",
       "      <th>acousticness</th>\n",
       "      <th>danceability</th>\n",
       "      <th>energy</th>\n",
       "      <th>instrumentalness</th>\n",
       "      <th>liveness</th>\n",
       "      <th>loudness</th>\n",
       "      <th>speechiness</th>\n",
       "      <th>tempo</th>\n",
       "      <th>valence</th>\n",
       "      <th>time_signature_3</th>\n",
       "      <th>time_signature_4</th>\n",
       "      <th>time_signature_5</th>\n",
       "    </tr>\n",
       "  </thead>\n",
       "  <tbody>\n",
       "    <tr>\n",
       "      <th>43328</th>\n",
       "      <td>0.8370</td>\n",
       "      <td>0.448</td>\n",
       "      <td>0.327</td>\n",
       "      <td>0.866000</td>\n",
       "      <td>0.1120</td>\n",
       "      <td>-12.457</td>\n",
       "      <td>0.0273</td>\n",
       "      <td>124.672</td>\n",
       "      <td>0.154</td>\n",
       "      <td>0</td>\n",
       "      <td>1</td>\n",
       "      <td>0</td>\n",
       "    </tr>\n",
       "    <tr>\n",
       "      <th>149984</th>\n",
       "      <td>0.0207</td>\n",
       "      <td>0.788</td>\n",
       "      <td>0.328</td>\n",
       "      <td>0.000003</td>\n",
       "      <td>0.1180</td>\n",
       "      <td>-9.991</td>\n",
       "      <td>0.3920</td>\n",
       "      <td>137.850</td>\n",
       "      <td>0.213</td>\n",
       "      <td>0</td>\n",
       "      <td>1</td>\n",
       "      <td>0</td>\n",
       "    </tr>\n",
       "    <tr>\n",
       "      <th>110582</th>\n",
       "      <td>0.0343</td>\n",
       "      <td>0.534</td>\n",
       "      <td>0.721</td>\n",
       "      <td>0.000006</td>\n",
       "      <td>0.1150</td>\n",
       "      <td>-7.307</td>\n",
       "      <td>0.0417</td>\n",
       "      <td>128.978</td>\n",
       "      <td>0.225</td>\n",
       "      <td>1</td>\n",
       "      <td>0</td>\n",
       "      <td>0</td>\n",
       "    </tr>\n",
       "    <tr>\n",
       "      <th>111255</th>\n",
       "      <td>0.1020</td>\n",
       "      <td>0.753</td>\n",
       "      <td>0.736</td>\n",
       "      <td>0.000000</td>\n",
       "      <td>0.1890</td>\n",
       "      <td>-6.157</td>\n",
       "      <td>0.0865</td>\n",
       "      <td>140.994</td>\n",
       "      <td>0.272</td>\n",
       "      <td>0</td>\n",
       "      <td>1</td>\n",
       "      <td>0</td>\n",
       "    </tr>\n",
       "    <tr>\n",
       "      <th>43892</th>\n",
       "      <td>0.7160</td>\n",
       "      <td>0.564</td>\n",
       "      <td>0.237</td>\n",
       "      <td>0.765000</td>\n",
       "      <td>0.0968</td>\n",
       "      <td>-14.653</td>\n",
       "      <td>0.0319</td>\n",
       "      <td>78.282</td>\n",
       "      <td>0.553</td>\n",
       "      <td>0</td>\n",
       "      <td>1</td>\n",
       "      <td>0</td>\n",
       "    </tr>\n",
       "  </tbody>\n",
       "</table>\n",
       "</div>"
      ],
      "text/plain": [
       "        acousticness  danceability  energy  instrumentalness  liveness  \\\n",
       "43328         0.8370         0.448   0.327          0.866000    0.1120   \n",
       "149984        0.0207         0.788   0.328          0.000003    0.1180   \n",
       "110582        0.0343         0.534   0.721          0.000006    0.1150   \n",
       "111255        0.1020         0.753   0.736          0.000000    0.1890   \n",
       "43892         0.7160         0.564   0.237          0.765000    0.0968   \n",
       "\n",
       "        loudness  speechiness    tempo  valence  time_signature_3  \\\n",
       "43328    -12.457       0.0273  124.672    0.154                 0   \n",
       "149984    -9.991       0.3920  137.850    0.213                 0   \n",
       "110582    -7.307       0.0417  128.978    0.225                 1   \n",
       "111255    -6.157       0.0865  140.994    0.272                 0   \n",
       "43892    -14.653       0.0319   78.282    0.553                 0   \n",
       "\n",
       "        time_signature_4  time_signature_5  \n",
       "43328                  1                 0  \n",
       "149984                 1                 0  \n",
       "110582                 0                 0  \n",
       "111255                 1                 0  \n",
       "43892                  1                 0  "
      ]
     },
     "metadata": {},
     "output_type": "display_data"
    },
    {
     "data": {
      "text/plain": [
       "43328     2\n",
       "149984    1\n",
       "110582    1\n",
       "111255    1\n",
       "43892     2\n",
       "Name: genre, dtype: int64"
      ]
     },
     "metadata": {},
     "output_type": "display_data"
    }
   ],
   "source": [
    "new_df.genre = new_df.genre.map( {'Classical':0 , 'Pop':1, 'Folk':2} )\n",
    "training1 = new_df.sample(frac = 0.8,random_state = 420)\n",
    "df_test = new_df.drop(training1.index)\n",
    "# Let's divide the label (genre) from the rest of the dataset and divide the dataset in a training and a testing dataset\n",
    "training2 = training1.sample(frac = 0.8,random_state = 420)\n",
    "X_train = training2[features]\n",
    "y_train = training2['genre']\n",
    "X_dev = new_df.drop(training2.index)[features]\n",
    "y_dev = new_df.drop(training2.index)['genre']\n",
    "X_test = new_df.drop(training1.index)[features]\n",
    "y_test = new_df.drop(training1.index)['genre']\n",
    "display(X_train.head())\n",
    "display(y_train.head())\n",
    "\n",
    "# Let's split the training set in training and a validation set\n",
    "from sklearn.model_selection import train_test_split\n",
    "X_train, X_valid, y_train, y_valid = train_test_split(X_train, y_train, test_size = 0.2, random_state = 1)"
   ]
  },
  {
   "cell_type": "code",
   "execution_count": 18,
   "id": "286d4e88",
   "metadata": {
    "_kg_hide-input": true,
    "execution": {
     "iopub.execute_input": "2022-09-07T08:45:41.223780Z",
     "iopub.status.busy": "2022-09-07T08:45:41.222598Z",
     "iopub.status.idle": "2022-09-07T08:45:41.258235Z",
     "shell.execute_reply": "2022-09-07T08:45:41.257406Z"
    },
    "papermill": {
     "duration": 0.053797,
     "end_time": "2022-09-07T08:45:41.260718",
     "exception": false,
     "start_time": "2022-09-07T08:45:41.206921",
     "status": "completed"
    },
    "tags": []
   },
   "outputs": [
    {
     "data": {
      "text/html": [
       "<div>\n",
       "<style scoped>\n",
       "    .dataframe tbody tr th:only-of-type {\n",
       "        vertical-align: middle;\n",
       "    }\n",
       "\n",
       "    .dataframe tbody tr th {\n",
       "        vertical-align: top;\n",
       "    }\n",
       "\n",
       "    .dataframe thead th {\n",
       "        text-align: right;\n",
       "    }\n",
       "</style>\n",
       "<table border=\"1\" class=\"dataframe\">\n",
       "  <thead>\n",
       "    <tr style=\"text-align: right;\">\n",
       "      <th></th>\n",
       "      <th>acousticness</th>\n",
       "      <th>danceability</th>\n",
       "      <th>energy</th>\n",
       "      <th>instrumentalness</th>\n",
       "      <th>liveness</th>\n",
       "      <th>loudness</th>\n",
       "      <th>speechiness</th>\n",
       "      <th>tempo</th>\n",
       "      <th>valence</th>\n",
       "      <th>time_signature_3</th>\n",
       "      <th>time_signature_4</th>\n",
       "      <th>time_signature_5</th>\n",
       "    </tr>\n",
       "  </thead>\n",
       "  <tbody>\n",
       "    <tr>\n",
       "      <th>44455</th>\n",
       "      <td>0.917671</td>\n",
       "      <td>0.253961</td>\n",
       "      <td>0.209029</td>\n",
       "      <td>0.000000</td>\n",
       "      <td>0.099255</td>\n",
       "      <td>0.252757</td>\n",
       "      <td>0.005418</td>\n",
       "      <td>0.292755</td>\n",
       "      <td>0.185671</td>\n",
       "      <td>0.0</td>\n",
       "      <td>1.0</td>\n",
       "      <td>0.0</td>\n",
       "    </tr>\n",
       "    <tr>\n",
       "      <th>112515</th>\n",
       "      <td>0.027810</td>\n",
       "      <td>0.474032</td>\n",
       "      <td>0.966833</td>\n",
       "      <td>0.000006</td>\n",
       "      <td>0.114557</td>\n",
       "      <td>0.058227</td>\n",
       "      <td>0.208929</td>\n",
       "      <td>0.394938</td>\n",
       "      <td>0.522704</td>\n",
       "      <td>0.0</td>\n",
       "      <td>1.0</td>\n",
       "      <td>0.0</td>\n",
       "    </tr>\n",
       "    <tr>\n",
       "      <th>109492</th>\n",
       "      <td>0.441766</td>\n",
       "      <td>0.508143</td>\n",
       "      <td>0.596977</td>\n",
       "      <td>0.000000</td>\n",
       "      <td>0.172702</td>\n",
       "      <td>0.188733</td>\n",
       "      <td>0.476593</td>\n",
       "      <td>0.533601</td>\n",
       "      <td>0.396569</td>\n",
       "      <td>0.0</td>\n",
       "      <td>0.0</td>\n",
       "      <td>1.0</td>\n",
       "    </tr>\n",
       "    <tr>\n",
       "      <th>126284</th>\n",
       "      <td>0.986948</td>\n",
       "      <td>0.348592</td>\n",
       "      <td>0.102494</td>\n",
       "      <td>0.153380</td>\n",
       "      <td>0.152300</td>\n",
       "      <td>0.410444</td>\n",
       "      <td>0.054508</td>\n",
       "      <td>0.271928</td>\n",
       "      <td>0.437941</td>\n",
       "      <td>1.0</td>\n",
       "      <td>0.0</td>\n",
       "      <td>0.0</td>\n",
       "    </tr>\n",
       "    <tr>\n",
       "      <th>151050</th>\n",
       "      <td>0.384537</td>\n",
       "      <td>0.840449</td>\n",
       "      <td>0.795976</td>\n",
       "      <td>0.137235</td>\n",
       "      <td>0.123738</td>\n",
       "      <td>0.096961</td>\n",
       "      <td>0.180754</td>\n",
       "      <td>0.538112</td>\n",
       "      <td>0.423814</td>\n",
       "      <td>0.0</td>\n",
       "      <td>1.0</td>\n",
       "      <td>0.0</td>\n",
       "    </tr>\n",
       "  </tbody>\n",
       "</table>\n",
       "</div>"
      ],
      "text/plain": [
       "        acousticness  danceability    energy  instrumentalness  liveness  \\\n",
       "44455       0.917671      0.253961  0.209029          0.000000  0.099255   \n",
       "112515      0.027810      0.474032  0.966833          0.000006  0.114557   \n",
       "109492      0.441766      0.508143  0.596977          0.000000  0.172702   \n",
       "126284      0.986948      0.348592  0.102494          0.153380  0.152300   \n",
       "151050      0.384537      0.840449  0.795976          0.137235  0.123738   \n",
       "\n",
       "        loudness  speechiness     tempo   valence  time_signature_3  \\\n",
       "44455   0.252757     0.005418  0.292755  0.185671               0.0   \n",
       "112515  0.058227     0.208929  0.394938  0.522704               0.0   \n",
       "109492  0.188733     0.476593  0.533601  0.396569               0.0   \n",
       "126284  0.410444     0.054508  0.271928  0.437941               1.0   \n",
       "151050  0.096961     0.180754  0.538112  0.423814               0.0   \n",
       "\n",
       "        time_signature_4  time_signature_5  \n",
       "44455                1.0               0.0  \n",
       "112515               1.0               0.0  \n",
       "109492               0.0               1.0  \n",
       "126284               0.0               0.0  \n",
       "151050               1.0               0.0  "
      ]
     },
     "metadata": {},
     "output_type": "display_data"
    }
   ],
   "source": [
    "# Let's do a MinMaxScaling of the dataset to make all the features in [0,1]\n",
    "from sklearn.preprocessing import MinMaxScaler\n",
    "pd.options.mode.chained_assignment = None  # default='warn'\n",
    "scaler = MinMaxScaler()\n",
    "# Loudness goes from -60 to 0 db, I will convert it to a positive value before normalizing it \n",
    "X_train['loudness'] *= -1\n",
    "X_train = pd.DataFrame(scaler.fit_transform(X_train), index=X_train.index, columns=X_train.columns)\n",
    "display(X_train.head())\n",
    "X_dev['loudness'] *= -1\n",
    "X_dev = pd.DataFrame(scaler.transform(X_dev), index=X_dev.index, columns=X_dev.columns)\n",
    "X_valid['loudness'] *= -1\n",
    "X_valid = pd.DataFrame(scaler.transform(X_valid), index=X_valid.index, columns=X_valid.columns)\n",
    "X_test['loudness'] *= -1\n",
    "X_test = pd.DataFrame(scaler.transform(X_test), index=X_test.index, columns=X_test.columns)"
   ]
  },
  {
   "cell_type": "code",
   "execution_count": 19,
   "id": "e3b58f4b",
   "metadata": {
    "execution": {
     "iopub.execute_input": "2022-09-07T08:45:41.291606Z",
     "iopub.status.busy": "2022-09-07T08:45:41.290846Z",
     "iopub.status.idle": "2022-09-07T08:45:41.635504Z",
     "shell.execute_reply": "2022-09-07T08:45:41.634026Z"
    },
    "papermill": {
     "duration": 0.362719,
     "end_time": "2022-09-07T08:45:41.638119",
     "exception": false,
     "start_time": "2022-09-07T08:45:41.275400",
     "status": "completed"
    },
    "tags": []
   },
   "outputs": [
    {
     "data": {
      "image/png": "[encoded data removed]",
      "text/plain": [
       "<Figure size 1584x432 with 1 Axes>"
      ]
     },
     "metadata": {
      "needs_background": "light"
     },
     "output_type": "display_data"
    }
   ],
   "source": [
    "# Let's check the distribution of the various countinuous features\n",
    "plt.figure(figsize=(22, 6))\n",
    "ax = sns.boxplot(data=X_train.drop([\"time_signature_3\",\"time_signature_4\",\"time_signature_5\"], axis=1), palette=\"Set2\")"
   ]
  },
  {
   "cell_type": "code",
   "execution_count": 20,
   "id": "eaa17e72",
   "metadata": {
    "execution": {
     "iopub.execute_input": "2022-09-07T08:45:41.670163Z",
     "iopub.status.busy": "2022-09-07T08:45:41.669044Z",
     "iopub.status.idle": "2022-09-07T08:45:42.638954Z",
     "shell.execute_reply": "2022-09-07T08:45:42.637674Z"
    },
    "papermill": {
     "duration": 0.98811,
     "end_time": "2022-09-07T08:45:42.641115",
     "exception": false,
     "start_time": "2022-09-07T08:45:41.653005",
     "status": "completed"
    },
    "tags": []
   },
   "outputs": [
    {
     "data": {
      "image/png": "[encoded data removed]",
      "text/plain": [
       "<Figure size 1584x432 with 1 Axes>"
      ]
     },
     "metadata": {
      "needs_background": "light"
     },
     "output_type": "display_data"
    },
    {
     "data": {
      "image/png": "[encoded data removed]",
      "text/plain": [
       "<Figure size 720x720 with 4 Axes>"
      ]
     },
     "metadata": {
      "needs_background": "light"
     },
     "output_type": "display_data"
    }
   ],
   "source": [
    "# We see that liveness, loudness, speechiness and tempo do have some HLPs on the upper values\n",
    "plt.figure(figsize=(22, 6))\n",
    "features_nout = [\"time_signature_3\",\"time_signature_4\",\"time_signature_5\",\"acousticness\",\"danceability\",\"energy\",\"instrumentalness\",\"valence\"]\n",
    "ax = sns.boxplot(data=X_train.drop(features_nout, axis=1), palette=\"Set2\")\n",
    "fig, axes = plt.subplots(4,1, figsize=(10, 10), sharey=False)\n",
    "fig.suptitle('Distribution of some continuous variables')\n",
    "sns.histplot(x= 'liveness', data = X_train, palette = 'Set2', ax = axes[0], bins = 10)\n",
    "axes[0].set_title(\"\")\n",
    "sns.histplot(x= 'loudness', data = X_train, palette = 'Set2', ax = axes[1], bins = 10)\n",
    "axes[1].set_title(\"\")\n",
    "sns.histplot(x= 'speechiness', data = X_train, palette = 'Set2', ax = axes[2], bins = 10)\n",
    "axes[2].set_title(\"\")\n",
    "sns.histplot(x= 'tempo', data = X_train, palette = 'Set2', ax = axes[3], bins = 10)\n",
    "axes[3].set_title(\"\")\n",
    "plt.tight_layout()"
   ]
  },
  {
   "cell_type": "code",
   "execution_count": 21,
   "id": "17a5e65d",
   "metadata": {
    "execution": {
     "iopub.execute_input": "2022-09-07T08:45:42.674953Z",
     "iopub.status.busy": "2022-09-07T08:45:42.673915Z",
     "iopub.status.idle": "2022-09-07T08:45:42.932828Z",
     "shell.execute_reply": "2022-09-07T08:45:42.931673Z"
    },
    "papermill": {
     "duration": 0.278643,
     "end_time": "2022-09-07T08:45:42.935630",
     "exception": false,
     "start_time": "2022-09-07T08:45:42.656987",
     "status": "completed"
    },
    "tags": []
   },
   "outputs": [
    {
     "name": "stdout",
     "output_type": "stream",
     "text": [
      "Total Tracks number before: 13940\n",
      "Total Tracks number after: 13390\n"
     ]
    },
    {
     "data": {
      "image/png": "[encoded data removed]",
      "text/plain": [
       "<Figure size 1584x432 with 1 Axes>"
      ]
     },
     "metadata": {
      "needs_background": "light"
     },
     "output_type": "display_data"
    }
   ],
   "source": [
    "# removing HLPs\n",
    "print(\"Total Tracks number before: %s\" % len(X_train));\n",
    "X_train['genre'] = y_train\n",
    "threshold = 0.01\n",
    "for col in ['liveness', 'loudness', 'speechiness', 'tempo']:\n",
    "    upper_threshold = X_train[col].quantile(1 - threshold)\n",
    "    X_train = X_train[(X_train[col] <= upper_threshold)]\n",
    "\n",
    "features = new_df.keys().drop(['genre']);\n",
    "y_train = X_train['genre']\n",
    "X_train = X_train[features]\n",
    "    \n",
    "plt.figure(figsize=(22, 6))\n",
    "features_nout = [\"time_signature_3\",\"time_signature_4\",\"time_signature_5\",\"acousticness\",\"danceability\",\"energy\",\"instrumentalness\",\"valence\"]\n",
    "ax = sns.boxplot(data=X_train.drop(features_nout, axis=1), palette=\"Set2\")\n",
    "print(\"Total Tracks number after: %s\" % len(X_train));"
   ]
  },
  {
   "cell_type": "code",
   "execution_count": 22,
   "id": "2023415b",
   "metadata": {
    "execution": {
     "iopub.execute_input": "2022-09-07T08:45:42.970489Z",
     "iopub.status.busy": "2022-09-07T08:45:42.969875Z",
     "iopub.status.idle": "2022-09-07T08:45:43.650713Z",
     "shell.execute_reply": "2022-09-07T08:45:43.649881Z"
    },
    "papermill": {
     "duration": 0.700758,
     "end_time": "2022-09-07T08:45:43.652828",
     "exception": false,
     "start_time": "2022-09-07T08:45:42.952070",
     "status": "completed"
    },
    "tags": []
   },
   "outputs": [
    {
     "data": {
      "image/png": "[encoded data removed]",
      "text/plain": [
       "<Figure size 792x1080 with 2 Axes>"
      ]
     },
     "metadata": {
      "needs_background": "light"
     },
     "output_type": "display_data"
    }
   ],
   "source": [
    "from sklearn.linear_model import LogisticRegression\n",
    "from sklearn.metrics import make_scorer, accuracy_score, roc_auc_score \n",
    "corr_heatmap(X_train.drop([\"time_signature_3\",\"time_signature_4\",\"time_signature_5\"], axis=1))"
   ]
  },
  {
   "cell_type": "code",
   "execution_count": 23,
   "id": "5392030b",
   "metadata": {
    "execution": {
     "iopub.execute_input": "2022-09-07T08:45:43.689648Z",
     "iopub.status.busy": "2022-09-07T08:45:43.688736Z",
     "iopub.status.idle": "2022-09-07T08:45:43.695027Z",
     "shell.execute_reply": "2022-09-07T08:45:43.693969Z"
    },
    "papermill": {
     "duration": 0.02672,
     "end_time": "2022-09-07T08:45:43.697188",
     "exception": false,
     "start_time": "2022-09-07T08:45:43.670468",
     "status": "completed"
    },
    "tags": []
   },
   "outputs": [],
   "source": [
    "# Currently the ‘multinomial’ option is supported only by the ‘lbfgs’, ‘sag’, ‘saga’ and ‘newton-cg’ solvers.\n",
    "# http://scikit-learn.org/stable/modules/generated/sklearn.linear_model.LogisticRegression.html#sklearn.linear_model.LogisticRegression\n",
    "param_grid = [    \n",
    "    {'penalty' : ['l2', 'none'],\n",
    "    'C' : np.logspace(-4, 4, 20),\n",
    "    'solver' : ['lbfgs','newton-cg', 'sag', 'saga'],\n",
    "    'max_iter' : [100, 1000,2500, 5000]\n",
    "    }\n",
    "]"
   ]
  },
  {
   "cell_type": "code",
   "execution_count": 24,
   "id": "9caa21bf",
   "metadata": {
    "execution": {
     "iopub.execute_input": "2022-09-07T08:45:43.732500Z",
     "iopub.status.busy": "2022-09-07T08:45:43.732062Z",
     "iopub.status.idle": "2022-09-07T08:45:43.736708Z",
     "shell.execute_reply": "2022-09-07T08:45:43.735566Z"
    },
    "papermill": {
     "duration": 0.024906,
     "end_time": "2022-09-07T08:45:43.738880",
     "exception": false,
     "start_time": "2022-09-07T08:45:43.713974",
     "status": "completed"
    },
    "tags": []
   },
   "outputs": [],
   "source": [
    "#from sklearn.model_selection import GridSearchCV\n",
    "#clf = GridSearchCV(LogisticRegression(multi_class = 'multinomial'), param_grid = param_grid, verbose=10, n_jobs=-1, error_score=\"raise\")\n",
    "#best_clf = clf.fit(X_train, y_train)"
   ]
  },
  {
   "cell_type": "code",
   "execution_count": 25,
   "id": "cf890c09",
   "metadata": {
    "execution": {
     "iopub.execute_input": "2022-09-07T08:45:43.774317Z",
     "iopub.status.busy": "2022-09-07T08:45:43.773638Z",
     "iopub.status.idle": "2022-09-07T08:45:43.778016Z",
     "shell.execute_reply": "2022-09-07T08:45:43.777266Z"
    },
    "papermill": {
     "duration": 0.024589,
     "end_time": "2022-09-07T08:45:43.780093",
     "exception": false,
     "start_time": "2022-09-07T08:45:43.755504",
     "status": "completed"
    },
    "tags": []
   },
   "outputs": [],
   "source": [
    "#print(best_clf.best_estimator_)\n",
    "#print(best_clf.cv_results_)\n",
    "#print (f'Accuracy - : {best_clf.score(X_train, y_train):.3f}')"
   ]
  },
  {
   "cell_type": "code",
   "execution_count": 26,
   "id": "033db12c",
   "metadata": {
    "execution": {
     "iopub.execute_input": "2022-09-07T08:45:43.815294Z",
     "iopub.status.busy": "2022-09-07T08:45:43.814648Z",
     "iopub.status.idle": "2022-09-07T08:45:44.874025Z",
     "shell.execute_reply": "2022-09-07T08:45:44.872515Z"
    },
    "papermill": {
     "duration": 1.081318,
     "end_time": "2022-09-07T08:45:44.878016",
     "exception": false,
     "start_time": "2022-09-07T08:45:43.796698",
     "status": "completed"
    },
    "tags": []
   },
   "outputs": [
    {
     "data": {
      "text/plain": [
       "LogisticRegression(C=78.47599703514607, multi_class='multinomial',\n",
       "                   solver='newton-cg')"
      ]
     },
     "execution_count": 26,
     "metadata": {},
     "output_type": "execute_result"
    }
   ],
   "source": [
    "# Thanks to GridSearch we know that the best choice is LogisticRegression(C=78.47599703514607, multi_class='multinomial', solver='newton-cg')\n",
    "model = LogisticRegression(C=78.47599703514607, multi_class='multinomial', solver='newton-cg')\n",
    "model.fit(X_train, y_train)"
   ]
  },
  {
   "cell_type": "code",
   "execution_count": 27,
   "id": "d0ce72fc",
   "metadata": {
    "execution": {
     "iopub.execute_input": "2022-09-07T08:45:44.964137Z",
     "iopub.status.busy": "2022-09-07T08:45:44.963469Z",
     "iopub.status.idle": "2022-09-07T08:45:45.032365Z",
     "shell.execute_reply": "2022-09-07T08:45:45.030717Z"
    },
    "papermill": {
     "duration": 0.117635,
     "end_time": "2022-09-07T08:45:45.037263",
     "exception": false,
     "start_time": "2022-09-07T08:45:44.919628",
     "status": "completed"
    },
    "tags": []
   },
   "outputs": [
    {
     "name": "stdout",
     "output_type": "stream",
     "text": [
      "              precision    recall  f1-score   support\n",
      "\n",
      "           0       0.92      0.88      0.90      4518\n",
      "           1       0.80      0.80      0.80      4369\n",
      "           2       0.73      0.75      0.74      4503\n",
      "\n",
      "    accuracy                           0.81     13390\n",
      "   macro avg       0.81      0.81      0.81     13390\n",
      "weighted avg       0.81      0.81      0.81     13390\n",
      "\n"
     ]
    }
   ],
   "source": [
    "y_pred = model.predict(X_train)\n",
    "from sklearn.metrics import classification_report\n",
    "print(classification_report(y_train, y_pred))"
   ]
  },
  {
   "cell_type": "code",
   "execution_count": 28,
   "id": "1c130d2e",
   "metadata": {
    "execution": {
     "iopub.execute_input": "2022-09-07T08:45:45.110194Z",
     "iopub.status.busy": "2022-09-07T08:45:45.109819Z",
     "iopub.status.idle": "2022-09-07T08:45:45.128963Z",
     "shell.execute_reply": "2022-09-07T08:45:45.127324Z"
    },
    "papermill": {
     "duration": 0.049929,
     "end_time": "2022-09-07T08:45:45.131467",
     "exception": false,
     "start_time": "2022-09-07T08:45:45.081538",
     "status": "completed"
    },
    "tags": []
   },
   "outputs": [
    {
     "name": "stdout",
     "output_type": "stream",
     "text": [
      "              precision    recall  f1-score   support\n",
      "\n",
      "           0       0.92      0.88      0.90      1146\n",
      "           1       0.78      0.80      0.79      1156\n",
      "           2       0.73      0.74      0.74      1184\n",
      "\n",
      "    accuracy                           0.81      3486\n",
      "   macro avg       0.81      0.81      0.81      3486\n",
      "weighted avg       0.81      0.81      0.81      3486\n",
      "\n"
     ]
    }
   ],
   "source": [
    "y_pred = model.predict(X_valid)\n",
    "from sklearn.metrics import classification_report\n",
    "print(classification_report(y_valid, y_pred))"
   ]
  },
  {
   "cell_type": "code",
   "execution_count": 29,
   "id": "81197b0a",
   "metadata": {
    "execution": {
     "iopub.execute_input": "2022-09-07T08:45:45.169307Z",
     "iopub.status.busy": "2022-09-07T08:45:45.168413Z",
     "iopub.status.idle": "2022-09-07T08:45:46.276838Z",
     "shell.execute_reply": "2022-09-07T08:45:46.275326Z"
    },
    "papermill": {
     "duration": 1.135005,
     "end_time": "2022-09-07T08:45:46.283471",
     "exception": false,
     "start_time": "2022-09-07T08:45:45.148466",
     "status": "completed"
    },
    "tags": []
   },
   "outputs": [
    {
     "name": "stdout",
     "output_type": "stream",
     "text": [
      "              precision    recall  f1-score   support\n",
      "\n",
      "           0       0.89      0.88      0.88      1146\n",
      "           1       0.75      0.74      0.75      1156\n",
      "           2       0.69      0.71      0.70      1184\n",
      "\n",
      "    accuracy                           0.77      3486\n",
      "   macro avg       0.78      0.78      0.78      3486\n",
      "weighted avg       0.78      0.77      0.78      3486\n",
      "\n"
     ]
    }
   ],
   "source": [
    "# Let's try without loudness\n",
    "X_train_loudness = X_train.drop(['loudness'], axis=1)\n",
    "X_valid_loudness = X_valid.drop(['loudness'], axis=1)\n",
    "lrm_cor = LogisticRegression(C=78.47599703514607, multi_class='multinomial',solver='newton-cg').fit(X_train_loudness, y_train)\n",
    "print(classification_report(y_valid, lrm_cor.predict(X_valid_loudness)))"
   ]
  },
  {
   "cell_type": "code",
   "execution_count": 30,
   "id": "4d723511",
   "metadata": {
    "execution": {
     "iopub.execute_input": "2022-09-07T08:45:46.371393Z",
     "iopub.status.busy": "2022-09-07T08:45:46.370548Z",
     "iopub.status.idle": "2022-09-07T08:45:47.645522Z",
     "shell.execute_reply": "2022-09-07T08:45:47.644327Z"
    },
    "papermill": {
     "duration": 1.326415,
     "end_time": "2022-09-07T08:45:47.651548",
     "exception": false,
     "start_time": "2022-09-07T08:45:46.325133",
     "status": "completed"
    },
    "tags": []
   },
   "outputs": [
    {
     "name": "stdout",
     "output_type": "stream",
     "text": [
      "              precision    recall  f1-score   support\n",
      "\n",
      "           0       0.91      0.88      0.90      1146\n",
      "           1       0.78      0.79      0.79      1156\n",
      "           2       0.73      0.75      0.74      1184\n",
      "\n",
      "    accuracy                           0.80      3486\n",
      "   macro avg       0.81      0.81      0.81      3486\n",
      "weighted avg       0.81      0.80      0.81      3486\n",
      "\n"
     ]
    }
   ],
   "source": [
    "# Let's try without energy\n",
    "X_train_energy = X_train.drop(['energy'], axis=1)\n",
    "X_valid_energy = X_valid.drop(['energy'], axis=1)\n",
    "lrm_cor = LogisticRegression(C=78.47599703514607, multi_class='multinomial',solver='newton-cg').fit(X_train_energy, y_train)\n",
    "print(classification_report(y_valid, lrm_cor.predict(X_valid_energy)))"
   ]
  },
  {
   "cell_type": "code",
   "execution_count": 31,
   "id": "4856d7fc",
   "metadata": {
    "execution": {
     "iopub.execute_input": "2022-09-07T08:45:47.737410Z",
     "iopub.status.busy": "2022-09-07T08:45:47.736742Z",
     "iopub.status.idle": "2022-09-07T08:45:48.894857Z",
     "shell.execute_reply": "2022-09-07T08:45:48.893665Z"
    },
    "papermill": {
     "duration": 1.207368,
     "end_time": "2022-09-07T08:45:48.900943",
     "exception": false,
     "start_time": "2022-09-07T08:45:47.693575",
     "status": "completed"
    },
    "tags": []
   },
   "outputs": [
    {
     "name": "stdout",
     "output_type": "stream",
     "text": [
      "              precision    recall  f1-score   support\n",
      "\n",
      "           0       0.92      0.87      0.89      1146\n",
      "           1       0.78      0.79      0.78      1156\n",
      "           2       0.72      0.74      0.73      1184\n",
      "\n",
      "    accuracy                           0.80      3486\n",
      "   macro avg       0.81      0.80      0.80      3486\n",
      "weighted avg       0.80      0.80      0.80      3486\n",
      "\n"
     ]
    }
   ],
   "source": [
    "# Let's try without acousticness\n",
    "X_train_acousticness = X_train.drop(['acousticness'], axis=1)\n",
    "X_valid_acousticness = X_valid.drop(['acousticness'], axis=1)\n",
    "lrm_cor = LogisticRegression(C=78.47599703514607, multi_class='multinomial',solver='newton-cg').fit(X_train_acousticness, y_train)\n",
    "print(classification_report(y_valid, lrm_cor.predict(X_valid_acousticness)))"
   ]
  },
  {
   "cell_type": "code",
   "execution_count": 32,
   "id": "3708f193",
   "metadata": {
    "execution": {
     "iopub.execute_input": "2022-09-07T08:45:48.987371Z",
     "iopub.status.busy": "2022-09-07T08:45:48.986707Z",
     "iopub.status.idle": "2022-09-07T08:45:50.689800Z",
     "shell.execute_reply": "2022-09-07T08:45:50.687344Z"
    },
    "papermill": {
     "duration": 1.751608,
     "end_time": "2022-09-07T08:45:50.694603",
     "exception": false,
     "start_time": "2022-09-07T08:45:48.942995",
     "status": "completed"
    },
    "tags": []
   },
   "outputs": [
    {
     "name": "stdout",
     "output_type": "stream",
     "text": [
      "              precision    recall  f1-score   support\n",
      "\n",
      "           0       0.92      0.88      0.90      3353\n",
      "           1       0.80      0.80      0.80      3309\n",
      "           2       0.72      0.75      0.73      3139\n",
      "\n",
      "    accuracy                           0.81      9801\n",
      "   macro avg       0.81      0.81      0.81      9801\n",
      "weighted avg       0.81      0.81      0.81      9801\n",
      "\n"
     ]
    }
   ],
   "source": [
    "# The accuracy changes between 0.81 and 0.79 in every situation, I'm going to just keep those features\n",
    "# I will now test the data with X_test and y_test\n",
    "X_train_lr = pd.concat([X_train, X_valid])\n",
    "y_train_lr = pd.concat([y_train, y_valid])\n",
    "X_train_lr, y_train_lr = shuffle(X_train_lr, y_train_lr)\n",
    "model = LogisticRegression(C=78.47599703514607, multi_class='multinomial', solver='newton-cg')\n",
    "model.fit(X_train_lr, y_train_lr)\n",
    "y_pred = model.predict(X_dev)\n",
    "print(classification_report(y_dev, y_pred))"
   ]
  },
  {
   "cell_type": "code",
   "execution_count": 33,
   "id": "ba4f10b0",
   "metadata": {
    "execution": {
     "iopub.execute_input": "2022-09-07T08:45:50.774663Z",
     "iopub.status.busy": "2022-09-07T08:45:50.774256Z",
     "iopub.status.idle": "2022-09-07T08:45:50.878938Z",
     "shell.execute_reply": "2022-09-07T08:45:50.877798Z"
    },
    "papermill": {
     "duration": 0.146236,
     "end_time": "2022-09-07T08:45:50.885024",
     "exception": false,
     "start_time": "2022-09-07T08:45:50.738788",
     "status": "completed"
    },
    "tags": []
   },
   "outputs": [
    {
     "name": "stdout",
     "output_type": "stream",
     "text": [
      "One-vs-One ROC AUC scores:\n",
      "0.932735 (macro),\n",
      "0.933350 (weighted by prevalence)\n",
      "One-vs-Rest ROC AUC scores:\n",
      "0.933528 (macro),\n",
      "0.934419 (weighted by prevalence)\n"
     ]
    }
   ],
   "source": [
    "y_prob = model.predict_proba(X_dev)\n",
    "\n",
    "macro_roc_auc_ovo = roc_auc_score(y_dev, y_prob, multi_class=\"ovo\", average=\"macro\")\n",
    "weighted_roc_auc_ovo = roc_auc_score(\n",
    "    y_dev, y_prob, multi_class=\"ovo\", average=\"weighted\"\n",
    ")\n",
    "macro_roc_auc_ovr = roc_auc_score(y_dev, y_prob, multi_class=\"ovr\", average=\"macro\")\n",
    "weighted_roc_auc_ovr = roc_auc_score(\n",
    "    y_dev, y_prob, multi_class=\"ovr\", average=\"weighted\"\n",
    ")\n",
    "print(\n",
    "    \"One-vs-One ROC AUC scores:\\n{:.6f} (macro),\\n{:.6f} \"\n",
    "    \"(weighted by prevalence)\".format(macro_roc_auc_ovo, weighted_roc_auc_ovo)\n",
    ")\n",
    "print(\n",
    "    \"One-vs-Rest ROC AUC scores:\\n{:.6f} (macro),\\n{:.6f} \"\n",
    "    \"(weighted by prevalence)\".format(macro_roc_auc_ovr, weighted_roc_auc_ovr)\n",
    ")\n",
    "# A macro-average will compute the metric independently for each class and then take the average (hence treating all classes equally),\n",
    "# whereas a micro-average will aggregate the contributions of all classes to compute the average metric."
   ]
  },
  {
   "cell_type": "code",
   "execution_count": 34,
   "id": "47fe5f13",
   "metadata": {
    "execution": {
     "iopub.execute_input": "2022-09-07T08:45:50.932119Z",
     "iopub.status.busy": "2022-09-07T08:45:50.931753Z",
     "iopub.status.idle": "2022-09-07T08:45:50.947181Z",
     "shell.execute_reply": "2022-09-07T08:45:50.946066Z"
    },
    "papermill": {
     "duration": 0.03612,
     "end_time": "2022-09-07T08:45:50.949528",
     "exception": false,
     "start_time": "2022-09-07T08:45:50.913408",
     "status": "completed"
    },
    "tags": []
   },
   "outputs": [],
   "source": [
    "# We see that the accuracy doesn't change much\n",
    "# We'll now try with a Neural Network\n",
    "from sklearn.neural_network import MLPClassifier\n",
    "mlp_gs = MLPClassifier()\n",
    "parameter_space = {\n",
    "    'hidden_layer_sizes': [(100, 100), (100, 100, 100), (100, 100, 100, 100)],\n",
    "    'activation': ['tanh', 'relu'],\n",
    "    'solver': ['sgd','adam'],\n",
    "    'alpha': [0.0001, 0.001, 0.01, 0.1],\n",
    "    'max_iter': [500]\n",
    "}\n",
    "#from sklearn.model_selection import GridSearchCV\n",
    "#from sklearn.metrics import classification_report\n",
    "#clf = GridSearchCV(mlp_gs, parameter_space, n_jobs=-1, cv=5, scoring='accuracy', verbose=10, error_score=\"raise\")\n",
    "#best_clf = clf.fit(X_train, y_train) # X is train samples and t is the corresponding labels\n",
    "\n",
    "# best score achieved during the GridSearchCV\n",
    "#print('GridSearch CV best score : {:.4f}\\n\\n'.format(clf.best_score_))\n",
    "\n",
    "# print parameters that give the best results\n",
    "#print('Parameters that give the best results :','\\n\\n', (clf.best_params_))\n",
    "\n",
    "# print estimator that was chosen by the GridSearch\n",
    "#print('\\n\\nEstimator that was chosen by the search :','\\n\\n', (clf.best_estimator_))\n",
    "\n",
    "# %% [code]\n",
    "# calculate GridSearch CV score on validation set\n",
    "#t_pred = clf.predict(X_valid)\n",
    "\n",
    "#print('Model classification report with GridSearcg CV: \\n', classification_report(y_valid, t_pred))"
   ]
  },
  {
   "cell_type": "code",
   "execution_count": 35,
   "id": "ff26b02a",
   "metadata": {
    "execution": {
     "iopub.execute_input": "2022-09-07T08:45:50.985982Z",
     "iopub.status.busy": "2022-09-07T08:45:50.985255Z",
     "iopub.status.idle": "2022-09-07T08:45:50.994067Z",
     "shell.execute_reply": "2022-09-07T08:45:50.993219Z"
    },
    "papermill": {
     "duration": 0.029534,
     "end_time": "2022-09-07T08:45:50.996221",
     "exception": false,
     "start_time": "2022-09-07T08:45:50.966687",
     "status": "completed"
    },
    "tags": []
   },
   "outputs": [],
   "source": [
    "# With GridSearch we can see that the estimatore whioch gives the best result is\n",
    "# MLPClassifier(alpha=0.01, hidden_layer_sizes=(100, 100), max_iter=500)\n",
    "# I will now perform a second Grid Search with hyperparameters more similar to the ones just found\n",
    "# and with early stopping in order to be more precise\n",
    "# I will merge train and valid sets and test on the testing set\n",
    "X_train, y_train = shuffle(X_train, y_train)\n",
    "parameter_space = {\n",
    "    'hidden_layer_sizes': [(100, 100), (100, 150), (150, 150)],\n",
    "    'activation': ['relu'],\n",
    "    'solver': ['adam'],\n",
    "    'alpha': [0.01, 0.02, 0.04, 0.08],\n",
    "    'early_stopping': [True, False],\n",
    "    'max_iter': [500]\n",
    "}\n",
    "#from sklearn.model_selection import GridSearchCV\n",
    "#from sklearn.metrics import classification_report\n",
    "#clf = GridSearchCV(mlp_gs, parameter_space, n_jobs=-1, cv=5, scoring='accuracy', verbose=10, error_score=\"raise\")\n",
    "#best_clf = clf.fit(X_train, y_train) # X is train samples and t is the corresponding labels\n",
    "\n",
    "# best score achieved during the GridSearchCV\n",
    "#print('GridSearch CV best score : {:.4f}\\n\\n'.format(clf.best_score_))\n",
    "\n",
    "# print parameters that give the best results\n",
    "#print('Parameters that give the best results :','\\n\\n', (clf.best_params_))\n",
    "\n",
    "# print estimator that was chosen by the GridSearch\n",
    "#print('\\n\\nEstimator that was chosen by the search :','\\n\\n', (clf.best_estimator_))\n",
    "\n",
    "# %% [code]\n",
    "# calculate GridSearch CV score on validation set\n",
    "#t_pred = clf.predict(X_valid)\n",
    "\n",
    "#print('Model classification report with GridSearcg CV: \\n', classification_report(y_valid, t_pred))\n",
    "#GridSearch_table_plot(best_clf, \"hidden_layer_sizes\", negative=False)"
   ]
  },
  {
   "cell_type": "code",
   "execution_count": 36,
   "id": "4076c957",
   "metadata": {
    "execution": {
     "iopub.execute_input": "2022-09-07T08:45:51.032161Z",
     "iopub.status.busy": "2022-09-07T08:45:51.031453Z",
     "iopub.status.idle": "2022-09-07T08:45:57.328173Z",
     "shell.execute_reply": "2022-09-07T08:45:57.326598Z"
    },
    "papermill": {
     "duration": 6.321276,
     "end_time": "2022-09-07T08:45:57.334416",
     "exception": false,
     "start_time": "2022-09-07T08:45:51.013140",
     "status": "completed"
    },
    "tags": []
   },
   "outputs": [
    {
     "name": "stdout",
     "output_type": "stream",
     "text": [
      "              precision    recall  f1-score   support\n",
      "\n",
      "           0       0.93      0.91      0.92      5664\n",
      "           1       0.82      0.78      0.80      5525\n",
      "           2       0.74      0.79      0.76      5687\n",
      "\n",
      "    accuracy                           0.83     16876\n",
      "   macro avg       0.83      0.83      0.83     16876\n",
      "weighted avg       0.83      0.83      0.83     16876\n",
      "\n"
     ]
    }
   ],
   "source": [
    "# Thanks to GridSearch we know that the best choice is MLPClassifier(alpha=0.01, hidden_layer_sizes=(150, 150), max_iter=500)\n",
    "# However from observing the results we notice that the first result with early stopping doesn't give a very different accuracy result, so for the sake of having\n",
    "# a lower computational cost model I'm going to use that MLPClassifier(alpha=0.01, hidden_layer_sizes=(100, 100), max_iter=500, early_stopping=True)\n",
    "X_train = pd.concat([X_train, X_valid])\n",
    "y_train = pd.concat([y_train, y_valid])\n",
    "X_train, y_train = shuffle(X_train, y_train)\n",
    "clf = MLPClassifier(alpha=0.01, hidden_layer_sizes=(100, 100), max_iter=500, early_stopping=True).fit(X_train.to_numpy(), y_train.to_numpy())\n",
    "y_pred=clf.predict(X_train.to_numpy())\n",
    "print(classification_report(y_train, y_pred))"
   ]
  },
  {
   "cell_type": "code",
   "execution_count": 37,
   "id": "41d5eef9",
   "metadata": {
    "execution": {
     "iopub.execute_input": "2022-09-07T08:45:57.399400Z",
     "iopub.status.busy": "2022-09-07T08:45:57.398966Z",
     "iopub.status.idle": "2022-09-07T08:45:57.473243Z",
     "shell.execute_reply": "2022-09-07T08:45:57.472071Z"
    },
    "papermill": {
     "duration": 0.099992,
     "end_time": "2022-09-07T08:45:57.477286",
     "exception": false,
     "start_time": "2022-09-07T08:45:57.377294",
     "status": "completed"
    },
    "tags": []
   },
   "outputs": [
    {
     "name": "stdout",
     "output_type": "stream",
     "text": [
      "              precision    recall  f1-score   support\n",
      "\n",
      "           0       0.93      0.90      0.92      3353\n",
      "           1       0.82      0.79      0.80      3309\n",
      "           2       0.72      0.78      0.75      3139\n",
      "\n",
      "    accuracy                           0.82      9801\n",
      "   macro avg       0.82      0.82      0.82      9801\n",
      "weighted avg       0.83      0.82      0.82      9801\n",
      "\n"
     ]
    }
   ],
   "source": [
    "y_pred = clf.predict(X_dev.to_numpy())\n",
    "print(classification_report(y_dev, y_pred))"
   ]
  },
  {
   "cell_type": "code",
   "execution_count": 38,
   "id": "79c829a2",
   "metadata": {
    "execution": {
     "iopub.execute_input": "2022-09-07T08:45:57.558863Z",
     "iopub.status.busy": "2022-09-07T08:45:57.558454Z",
     "iopub.status.idle": "2022-09-07T08:45:57.686627Z",
     "shell.execute_reply": "2022-09-07T08:45:57.685472Z"
    },
    "papermill": {
     "duration": 0.170821,
     "end_time": "2022-09-07T08:45:57.690769",
     "exception": false,
     "start_time": "2022-09-07T08:45:57.519948",
     "status": "completed"
    },
    "tags": []
   },
   "outputs": [
    {
     "name": "stdout",
     "output_type": "stream",
     "text": [
      "One-vs-One ROC AUC scores:\n",
      "0.940486 (macro),\n",
      "0.941064 (weighted by prevalence)\n",
      "One-vs-Rest ROC AUC scores:\n",
      "0.941229 (macro),\n",
      "0.942065 (weighted by prevalence)\n"
     ]
    }
   ],
   "source": [
    "y_prob = clf.predict_proba(X_dev.to_numpy())\n",
    "\n",
    "macro_roc_auc_ovo = roc_auc_score(y_dev, y_prob, multi_class=\"ovo\", average=\"macro\")\n",
    "weighted_roc_auc_ovo = roc_auc_score(\n",
    "    y_dev, y_prob, multi_class=\"ovo\", average=\"weighted\"\n",
    ")\n",
    "macro_roc_auc_ovr = roc_auc_score(y_dev, y_prob, multi_class=\"ovr\", average=\"macro\")\n",
    "weighted_roc_auc_ovr = roc_auc_score(\n",
    "    y_dev, y_prob, multi_class=\"ovr\", average=\"weighted\"\n",
    ")\n",
    "print(\n",
    "    \"One-vs-One ROC AUC scores:\\n{:.6f} (macro),\\n{:.6f} \"\n",
    "    \"(weighted by prevalence)\".format(macro_roc_auc_ovo, weighted_roc_auc_ovo)\n",
    ")\n",
    "print(\n",
    "    \"One-vs-Rest ROC AUC scores:\\n{:.6f} (macro),\\n{:.6f} \"\n",
    "    \"(weighted by prevalence)\".format(macro_roc_auc_ovr, weighted_roc_auc_ovr)\n",
    ")\n",
    "# A macro-average will compute the metric independently for each class and then take the average (hence treating all classes equally),\n",
    "# whereas a micro-average will aggregate the contributions of all classes to compute the average metric."
   ]
  },
  {
   "cell_type": "code",
   "execution_count": 39,
   "id": "8b581812",
   "metadata": {
    "execution": {
     "iopub.execute_input": "2022-09-07T08:45:57.739215Z",
     "iopub.status.busy": "2022-09-07T08:45:57.738793Z",
     "iopub.status.idle": "2022-09-07T08:45:57.787285Z",
     "shell.execute_reply": "2022-09-07T08:45:57.786117Z"
    },
    "papermill": {
     "duration": 0.071469,
     "end_time": "2022-09-07T08:45:57.791128",
     "exception": false,
     "start_time": "2022-09-07T08:45:57.719659",
     "status": "completed"
    },
    "tags": []
   },
   "outputs": [
    {
     "name": "stdout",
     "output_type": "stream",
     "text": [
      "              precision    recall  f1-score   support\n",
      "\n",
      "           0       0.92      0.89      0.91      1831\n",
      "           1       0.82      0.78      0.80      1886\n",
      "           2       0.71      0.77      0.74      1728\n",
      "\n",
      "    accuracy                           0.82      5445\n",
      "   macro avg       0.82      0.82      0.82      5445\n",
      "weighted avg       0.82      0.82      0.82      5445\n",
      "\n"
     ]
    }
   ],
   "source": [
    "# The MLPClassifier gives consistently a better result (usually 0.83 for MLP against a usual 0.82 for LR of accuracy)\n",
    "# both on accuracy and on ROC score\n",
    "# So we'll try this last one with the testing set\n",
    "y_pred = clf.predict(X_test.to_numpy())\n",
    "print(classification_report(y_test, y_pred))"
   ]
  }
 ],
 "metadata": {
  "kernelspec": {
   "display_name": "Python 3",
   "language": "python",
   "name": "python3"
  },
  "language_info": {
   "codemirror_mode": {
    "name": "ipython",
    "version": 3
   },
   "file_extension": ".py",
   "mimetype": "text/x-python",
   "name": "python",
   "nbconvert_exporter": "python",
   "pygments_lexer": "ipython3",
   "version": "3.7.12"
  },
  "papermill": {
   "default_parameters": {},
   "duration": 32.766146,
   "end_time": "2022-09-07T08:45:58.665785",
   "environment_variables": {},
   "exception": null,
   "input_path": "__notebook__.ipynb",
   "output_path": "__notebook__.ipynb",
   "parameters": {},
   "start_time": "2022-09-07T08:45:25.899639",
   "version": "2.3.4"
  }
 },
 "nbformat": 4,
 "nbformat_minor": 5
}
