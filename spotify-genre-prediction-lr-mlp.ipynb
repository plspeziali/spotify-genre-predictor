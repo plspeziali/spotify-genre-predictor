{
 "cells": [
  {
   "cell_type": "code",
   "execution_count": 1,
   "id": "9fe4fd76",
   "metadata": {
    "execution": {
     "iopub.execute_input": "2022-08-14T20:26:53.312084Z",
     "iopub.status.busy": "2022-08-14T20:26:53.311576Z",
     "iopub.status.idle": "2022-08-14T20:26:54.444587Z",
     "shell.execute_reply": "2022-08-14T20:26:54.443506Z"
    },
    "papermill": {
     "duration": 1.147847,
     "end_time": "2022-08-14T20:26:54.447733",
     "exception": false,
     "start_time": "2022-08-14T20:26:53.299886",
     "status": "completed"
    },
    "tags": []
   },
   "outputs": [],
   "source": [
    "import pandas as pd\n",
    "import seaborn as sns # for data visualization\n",
    "import matplotlib.pyplot as plt\n",
    "import numpy as np\n",
    "def corr_heatmap(data):\n",
    "    corr_matrix = data.corr()\n",
    "    mask = np.zeros_like(corr_matrix, dtype=bool)\n",
    "    mask[np.triu_indices_from(mask)]= True\n",
    "    f, ax = plt.subplots(figsize=(11, 15)) \n",
    "    heatmap = sns.heatmap(corr_matrix, \n",
    "                          mask = mask,\n",
    "                          square = True,\n",
    "                          linewidths = .5,\n",
    "                          cmap = 'coolwarm',\n",
    "                          cbar_kws = {'shrink': .4, \n",
    "                                    'ticks' : [-1, -.5, 0, 0.5, 1]},\n",
    "                          vmin = -1, \n",
    "                          vmax = 1,\n",
    "                          annot = True,\n",
    "                          annot_kws = {'size': 12})#add the column names as labels\n",
    "    ax.set_yticklabels(corr_matrix.columns, rotation = 0)\n",
    "    ax.set_xticklabels(corr_matrix.columns)\n",
    "    sns.set_style({'xtick.bottom': True}, {'ytick.left': True})"
   ]
  },
  {
   "cell_type": "code",
   "execution_count": 2,
   "id": "23578d53",
   "metadata": {
    "execution": {
     "iopub.execute_input": "2022-08-14T20:26:54.469504Z",
     "iopub.status.busy": "2022-08-14T20:26:54.468449Z",
     "iopub.status.idle": "2022-08-14T20:26:55.822393Z",
     "shell.execute_reply": "2022-08-14T20:26:55.821171Z"
    },
    "papermill": {
     "duration": 1.367788,
     "end_time": "2022-08-14T20:26:55.825592",
     "exception": false,
     "start_time": "2022-08-14T20:26:54.457804",
     "status": "completed"
    },
    "tags": []
   },
   "outputs": [
    {
     "data": {
      "text/html": [
       "<div>\n",
       "<style scoped>\n",
       "    .dataframe tbody tr th:only-of-type {\n",
       "        vertical-align: middle;\n",
       "    }\n",
       "\n",
       "    .dataframe tbody tr th {\n",
       "        vertical-align: top;\n",
       "    }\n",
       "\n",
       "    .dataframe thead th {\n",
       "        text-align: right;\n",
       "    }\n",
       "</style>\n",
       "<table border=\"1\" class=\"dataframe\">\n",
       "  <thead>\n",
       "    <tr style=\"text-align: right;\">\n",
       "      <th></th>\n",
       "      <th>genre</th>\n",
       "      <th>artist_name</th>\n",
       "      <th>track_name</th>\n",
       "      <th>track_id</th>\n",
       "      <th>popularity</th>\n",
       "      <th>acousticness</th>\n",
       "      <th>danceability</th>\n",
       "      <th>duration_ms</th>\n",
       "      <th>energy</th>\n",
       "      <th>instrumentalness</th>\n",
       "      <th>key</th>\n",
       "      <th>liveness</th>\n",
       "      <th>loudness</th>\n",
       "      <th>mode</th>\n",
       "      <th>speechiness</th>\n",
       "      <th>tempo</th>\n",
       "      <th>time_signature</th>\n",
       "      <th>valence</th>\n",
       "    </tr>\n",
       "  </thead>\n",
       "  <tbody>\n",
       "    <tr>\n",
       "      <th>0</th>\n",
       "      <td>Movie</td>\n",
       "      <td>Henri Salvador</td>\n",
       "      <td>C'est beau de faire un Show</td>\n",
       "      <td>0BRjO6ga9RKCKjfDqeFgWV</td>\n",
       "      <td>0</td>\n",
       "      <td>0.611</td>\n",
       "      <td>0.389</td>\n",
       "      <td>99373</td>\n",
       "      <td>0.910</td>\n",
       "      <td>0.000</td>\n",
       "      <td>C#</td>\n",
       "      <td>0.3460</td>\n",
       "      <td>-1.828</td>\n",
       "      <td>Major</td>\n",
       "      <td>0.0525</td>\n",
       "      <td>166.969</td>\n",
       "      <td>4/4</td>\n",
       "      <td>0.814</td>\n",
       "    </tr>\n",
       "    <tr>\n",
       "      <th>1</th>\n",
       "      <td>Movie</td>\n",
       "      <td>Martin &amp; les fées</td>\n",
       "      <td>Perdu d'avance (par Gad Elmaleh)</td>\n",
       "      <td>0BjC1NfoEOOusryehmNudP</td>\n",
       "      <td>1</td>\n",
       "      <td>0.246</td>\n",
       "      <td>0.590</td>\n",
       "      <td>137373</td>\n",
       "      <td>0.737</td>\n",
       "      <td>0.000</td>\n",
       "      <td>F#</td>\n",
       "      <td>0.1510</td>\n",
       "      <td>-5.559</td>\n",
       "      <td>Minor</td>\n",
       "      <td>0.0868</td>\n",
       "      <td>174.003</td>\n",
       "      <td>4/4</td>\n",
       "      <td>0.816</td>\n",
       "    </tr>\n",
       "    <tr>\n",
       "      <th>2</th>\n",
       "      <td>Movie</td>\n",
       "      <td>Joseph Williams</td>\n",
       "      <td>Don't Let Me Be Lonely Tonight</td>\n",
       "      <td>0CoSDzoNIKCRs124s9uTVy</td>\n",
       "      <td>3</td>\n",
       "      <td>0.952</td>\n",
       "      <td>0.663</td>\n",
       "      <td>170267</td>\n",
       "      <td>0.131</td>\n",
       "      <td>0.000</td>\n",
       "      <td>C</td>\n",
       "      <td>0.1030</td>\n",
       "      <td>-13.879</td>\n",
       "      <td>Minor</td>\n",
       "      <td>0.0362</td>\n",
       "      <td>99.488</td>\n",
       "      <td>5/4</td>\n",
       "      <td>0.368</td>\n",
       "    </tr>\n",
       "    <tr>\n",
       "      <th>3</th>\n",
       "      <td>Movie</td>\n",
       "      <td>Henri Salvador</td>\n",
       "      <td>Dis-moi Monsieur Gordon Cooper</td>\n",
       "      <td>0Gc6TVm52BwZD07Ki6tIvf</td>\n",
       "      <td>0</td>\n",
       "      <td>0.703</td>\n",
       "      <td>0.240</td>\n",
       "      <td>152427</td>\n",
       "      <td>0.326</td>\n",
       "      <td>0.000</td>\n",
       "      <td>C#</td>\n",
       "      <td>0.0985</td>\n",
       "      <td>-12.178</td>\n",
       "      <td>Major</td>\n",
       "      <td>0.0395</td>\n",
       "      <td>171.758</td>\n",
       "      <td>4/4</td>\n",
       "      <td>0.227</td>\n",
       "    </tr>\n",
       "    <tr>\n",
       "      <th>4</th>\n",
       "      <td>Movie</td>\n",
       "      <td>Fabien Nataf</td>\n",
       "      <td>Ouverture</td>\n",
       "      <td>0IuslXpMROHdEPvSl1fTQK</td>\n",
       "      <td>4</td>\n",
       "      <td>0.950</td>\n",
       "      <td>0.331</td>\n",
       "      <td>82625</td>\n",
       "      <td>0.225</td>\n",
       "      <td>0.123</td>\n",
       "      <td>F</td>\n",
       "      <td>0.2020</td>\n",
       "      <td>-21.150</td>\n",
       "      <td>Major</td>\n",
       "      <td>0.0456</td>\n",
       "      <td>140.576</td>\n",
       "      <td>4/4</td>\n",
       "      <td>0.390</td>\n",
       "    </tr>\n",
       "  </tbody>\n",
       "</table>\n",
       "</div>"
      ],
      "text/plain": [
       "   genre        artist_name                        track_name  \\\n",
       "0  Movie     Henri Salvador       C'est beau de faire un Show   \n",
       "1  Movie  Martin & les fées  Perdu d'avance (par Gad Elmaleh)   \n",
       "2  Movie    Joseph Williams    Don't Let Me Be Lonely Tonight   \n",
       "3  Movie     Henri Salvador    Dis-moi Monsieur Gordon Cooper   \n",
       "4  Movie       Fabien Nataf                         Ouverture   \n",
       "\n",
       "                 track_id  popularity  acousticness  danceability  \\\n",
       "0  0BRjO6ga9RKCKjfDqeFgWV           0         0.611         0.389   \n",
       "1  0BjC1NfoEOOusryehmNudP           1         0.246         0.590   \n",
       "2  0CoSDzoNIKCRs124s9uTVy           3         0.952         0.663   \n",
       "3  0Gc6TVm52BwZD07Ki6tIvf           0         0.703         0.240   \n",
       "4  0IuslXpMROHdEPvSl1fTQK           4         0.950         0.331   \n",
       "\n",
       "   duration_ms  energy  instrumentalness key  liveness  loudness   mode  \\\n",
       "0        99373   0.910             0.000  C#    0.3460    -1.828  Major   \n",
       "1       137373   0.737             0.000  F#    0.1510    -5.559  Minor   \n",
       "2       170267   0.131             0.000   C    0.1030   -13.879  Minor   \n",
       "3       152427   0.326             0.000  C#    0.0985   -12.178  Major   \n",
       "4        82625   0.225             0.123   F    0.2020   -21.150  Major   \n",
       "\n",
       "   speechiness    tempo time_signature  valence  \n",
       "0       0.0525  166.969            4/4    0.814  \n",
       "1       0.0868  174.003            4/4    0.816  \n",
       "2       0.0362   99.488            5/4    0.368  \n",
       "3       0.0395  171.758            4/4    0.227  \n",
       "4       0.0456  140.576            4/4    0.390  "
      ]
     },
     "metadata": {},
     "output_type": "display_data"
    }
   ],
   "source": [
    "df = pd.read_csv(\"../input/ultimate-spotify-tracks-db/SpotifyFeatures.csv\")\n",
    "display(df.head())"
   ]
  },
  {
   "cell_type": "code",
   "execution_count": 3,
   "id": "0fe08c7e",
   "metadata": {
    "execution": {
     "iopub.execute_input": "2022-08-14T20:26:55.843034Z",
     "iopub.status.busy": "2022-08-14T20:26:55.842617Z",
     "iopub.status.idle": "2022-08-14T20:26:55.848759Z",
     "shell.execute_reply": "2022-08-14T20:26:55.847686Z"
    },
    "papermill": {
     "duration": 0.0189,
     "end_time": "2022-08-14T20:26:55.852464",
     "exception": false,
     "start_time": "2022-08-14T20:26:55.833564",
     "status": "completed"
    },
    "tags": []
   },
   "outputs": [
    {
     "name": "stdout",
     "output_type": "stream",
     "text": [
      "Index(['genre', 'artist_name', 'track_name', 'track_id', 'popularity',\n",
      "       'acousticness', 'danceability', 'duration_ms', 'energy',\n",
      "       'instrumentalness', 'key', 'liveness', 'loudness', 'mode',\n",
      "       'speechiness', 'tempo', 'time_signature', 'valence'],\n",
      "      dtype='object')\n"
     ]
    }
   ],
   "source": [
    "# Prints the names of the features\n",
    "print(df.keys())"
   ]
  },
  {
   "cell_type": "code",
   "execution_count": 4,
   "id": "b10642fc",
   "metadata": {
    "execution": {
     "iopub.execute_input": "2022-08-14T20:26:55.871557Z",
     "iopub.status.busy": "2022-08-14T20:26:55.870861Z",
     "iopub.status.idle": "2022-08-14T20:26:56.054383Z",
     "shell.execute_reply": "2022-08-14T20:26:56.053259Z"
    },
    "papermill": {
     "duration": 0.195635,
     "end_time": "2022-08-14T20:26:56.056904",
     "exception": false,
     "start_time": "2022-08-14T20:26:55.861269",
     "status": "completed"
    },
    "tags": []
   },
   "outputs": [
    {
     "name": "stdout",
     "output_type": "stream",
     "text": [
      "genre               0\n",
      "artist_name         0\n",
      "track_name          0\n",
      "track_id            0\n",
      "popularity          0\n",
      "acousticness        0\n",
      "danceability        0\n",
      "duration_ms         0\n",
      "energy              0\n",
      "instrumentalness    0\n",
      "key                 0\n",
      "liveness            0\n",
      "loudness            0\n",
      "mode                0\n",
      "speechiness         0\n",
      "tempo               0\n",
      "time_signature      0\n",
      "valence             0\n",
      "dtype: int64\n"
     ]
    }
   ],
   "source": [
    "# Let's check for null values\n",
    "print(pd.isnull(df).sum())"
   ]
  },
  {
   "cell_type": "code",
   "execution_count": 5,
   "id": "fe44130e",
   "metadata": {
    "execution": {
     "iopub.execute_input": "2022-08-14T20:26:56.075354Z",
     "iopub.status.busy": "2022-08-14T20:26:56.074898Z",
     "iopub.status.idle": "2022-08-14T20:26:56.686798Z",
     "shell.execute_reply": "2022-08-14T20:26:56.685667Z"
    },
    "papermill": {
     "duration": 0.624088,
     "end_time": "2022-08-14T20:26:56.689453",
     "exception": false,
     "start_time": "2022-08-14T20:26:56.065365",
     "status": "completed"
    },
    "tags": []
   },
   "outputs": [
    {
     "data": {
      "text/plain": [
       "Text(0.5, 1.0, 'Time Signature Distribution')"
      ]
     },
     "execution_count": 5,
     "metadata": {},
     "output_type": "execute_result"
    },
    {
     "data": {
      "image/png": "[encoded data removed]",
      "text/plain": [
       "<Figure size 432x288 with 1 Axes>"
      ]
     },
     "metadata": {
      "needs_background": "light"
     },
     "output_type": "display_data"
    }
   ],
   "source": [
    "# There are no null values, thus there's no need to perform any kind of operation\n",
    "# in order to handle the missing values\n",
    "sns.histplot(df['time_signature']).set_title('Time Signature Distribution')"
   ]
  },
  {
   "cell_type": "code",
   "execution_count": 6,
   "id": "4df460ec",
   "metadata": {
    "execution": {
     "iopub.execute_input": "2022-08-14T20:26:56.708261Z",
     "iopub.status.busy": "2022-08-14T20:26:56.707505Z",
     "iopub.status.idle": "2022-08-14T20:26:57.390046Z",
     "shell.execute_reply": "2022-08-14T20:26:57.388999Z"
    },
    "papermill": {
     "duration": 0.694636,
     "end_time": "2022-08-14T20:26:57.392530",
     "exception": false,
     "start_time": "2022-08-14T20:26:56.697894",
     "status": "completed"
    },
    "tags": []
   },
   "outputs": [
    {
     "name": "stdout",
     "output_type": "stream",
     "text": [
      "Tracks with a 0/4 time signature: 8\n"
     ]
    },
    {
     "data": {
      "text/plain": [
       "Text(0.5, 1.0, 'Time Signature Distribution')"
      ]
     },
     "execution_count": 6,
     "metadata": {},
     "output_type": "execute_result"
    },
    {
     "data": {
      "image/png": "[encoded data removed]",
      "text/plain": [
       "<Figure size 432x288 with 1 Axes>"
      ]
     },
     "metadata": {
      "needs_background": "light"
     },
     "output_type": "display_data"
    }
   ],
   "source": [
    "# The samples in the dataframe where the field 'time_signature' is '1/4'\n",
    "# actually represent songs with mostly a 4/4 time signature, since it is\n",
    "# most likely an error by who created the dataframe we're going to change it\n",
    "# to the '4/4' value\n",
    "df['time_signature'] = df['time_signature'].replace(['1/4'],'4/4')\n",
    "\n",
    "print(\"Tracks with a 0/4 time signature: %s\" % len(df[df['time_signature'] == '0/4']));\n",
    "# Since there are just 8 samples with a '0/4' time signature,\n",
    "# and since it is clearly an error, I'm going to simply delete them\n",
    "df = df[df['time_signature'] != '0/4']\n",
    "\n",
    "sns.histplot(df['time_signature']).set_title('Time Signature Distribution')"
   ]
  },
  {
   "cell_type": "code",
   "execution_count": 7,
   "id": "2307d1ef",
   "metadata": {
    "execution": {
     "iopub.execute_input": "2022-08-14T20:26:57.413843Z",
     "iopub.status.busy": "2022-08-14T20:26:57.411398Z",
     "iopub.status.idle": "2022-08-14T20:26:58.119217Z",
     "shell.execute_reply": "2022-08-14T20:26:58.117948Z"
    },
    "papermill": {
     "duration": 0.720449,
     "end_time": "2022-08-14T20:26:58.121753",
     "exception": false,
     "start_time": "2022-08-14T20:26:57.401304",
     "status": "completed"
    },
    "tags": []
   },
   "outputs": [
    {
     "data": {
      "text/plain": [
       "Text(0.5, 1.0, 'Genre Distribution')"
      ]
     },
     "execution_count": 7,
     "metadata": {},
     "output_type": "execute_result"
    },
    {
     "data": {
      "image/png": "[encoded data removed]",
      "text/plain": [
       "<Figure size 1584x432 with 1 Axes>"
      ]
     },
     "metadata": {
      "needs_background": "light"
     },
     "output_type": "display_data"
    }
   ],
   "source": [
    "plt.figure(figsize=(22, 6))\n",
    "sns.histplot(df['genre']).set_title('Genre Distribution')"
   ]
  },
  {
   "cell_type": "code",
   "execution_count": 8,
   "id": "9ce49c18",
   "metadata": {
    "execution": {
     "iopub.execute_input": "2022-08-14T20:26:58.142423Z",
     "iopub.status.busy": "2022-08-14T20:26:58.142009Z",
     "iopub.status.idle": "2022-08-14T20:26:58.392269Z",
     "shell.execute_reply": "2022-08-14T20:26:58.390556Z"
    },
    "papermill": {
     "duration": 0.263465,
     "end_time": "2022-08-14T20:26:58.394752",
     "exception": false,
     "start_time": "2022-08-14T20:26:58.131287",
     "status": "completed"
    },
    "tags": []
   },
   "outputs": [
    {
     "name": "stdout",
     "output_type": "stream",
     "text": [
      "Classical Tracks number: 9256\n",
      "Pop Tracks number: 9385\n",
      "Folk Tracks number: 9299\n",
      "Total Tracks number: 27940\n"
     ]
    },
    {
     "data": {
      "image/png": "[encoded data removed]",
      "text/plain": [
       "<Figure size 432x288 with 1 Axes>"
      ]
     },
     "metadata": {
      "needs_background": "light"
     },
     "output_type": "display_data"
    }
   ],
   "source": [
    "# i'm going to pick the three genres of the Philip Tagg's axiomatic triangle:\n",
    "# Classical, Pop and Folk, as we can see they are pretty balanced\n",
    "\n",
    "taggGenres = ['Classical','Pop','Folk']\n",
    "df = df[df.genre.isin(taggGenres)];\n",
    "sns.histplot(df['genre']).set_title('Genre Distribution')\n",
    "\n",
    "print(\"Classical Tracks number: %s\" % len(df[df['genre'] == 'Classical']));\n",
    "print(\"Pop Tracks number: %s\" % len(df[df['genre'] == 'Pop']));\n",
    "print(\"Folk Tracks number: %s\" % len(df[df['genre'] == 'Folk']));\n",
    "\n",
    "print(\"Total Tracks number: %s\" % len(df));"
   ]
  },
  {
   "cell_type": "code",
   "execution_count": 9,
   "id": "717a0658",
   "metadata": {
    "execution": {
     "iopub.execute_input": "2022-08-14T20:26:58.416804Z",
     "iopub.status.busy": "2022-08-14T20:26:58.416193Z",
     "iopub.status.idle": "2022-08-14T20:26:58.801591Z",
     "shell.execute_reply": "2022-08-14T20:26:58.800546Z"
    },
    "papermill": {
     "duration": 0.399225,
     "end_time": "2022-08-14T20:26:58.803864",
     "exception": false,
     "start_time": "2022-08-14T20:26:58.404639",
     "status": "completed"
    },
    "tags": []
   },
   "outputs": [
    {
     "data": {
      "text/plain": [
       "Text(0.5, 1.0, 'Key usage for every genre')"
      ]
     },
     "execution_count": 9,
     "metadata": {},
     "output_type": "execute_result"
    },
    {
     "data": {
      "image/png": "[encoded data removed]",
      "text/plain": [
       "<Figure size 1584x432 with 1 Axes>"
      ]
     },
     "metadata": {
      "needs_background": "light"
     },
     "output_type": "display_data"
    }
   ],
   "source": [
    "plt.figure(figsize=(22, 6))\n",
    "sns.countplot(x = 'key', hue = 'genre', data = df)\n",
    "plt.title('Key usage for every genre')\n",
    "# This is the distribution of key usage for every genre, I decided at the end to drop this and the mode\n",
    "# features since they don't have much meaning in a genre prediction"
   ]
  },
  {
   "cell_type": "code",
   "execution_count": 10,
   "id": "aa3d8d77",
   "metadata": {
    "execution": {
     "iopub.execute_input": "2022-08-14T20:26:58.827560Z",
     "iopub.status.busy": "2022-08-14T20:26:58.827118Z",
     "iopub.status.idle": "2022-08-14T20:26:58.978139Z",
     "shell.execute_reply": "2022-08-14T20:26:58.977102Z"
    },
    "papermill": {
     "duration": 0.164976,
     "end_time": "2022-08-14T20:26:58.980526",
     "exception": false,
     "start_time": "2022-08-14T20:26:58.815550",
     "status": "completed"
    },
    "tags": []
   },
   "outputs": [
    {
     "data": {
      "text/html": [
       "<div>\n",
       "<style scoped>\n",
       "    .dataframe tbody tr th:only-of-type {\n",
       "        vertical-align: middle;\n",
       "    }\n",
       "\n",
       "    .dataframe tbody tr th {\n",
       "        vertical-align: top;\n",
       "    }\n",
       "\n",
       "    .dataframe thead th {\n",
       "        text-align: right;\n",
       "    }\n",
       "</style>\n",
       "<table border=\"1\" class=\"dataframe\">\n",
       "  <thead>\n",
       "    <tr style=\"text-align: right;\">\n",
       "      <th></th>\n",
       "      <th>genre</th>\n",
       "      <th>acousticness</th>\n",
       "      <th>danceability</th>\n",
       "      <th>energy</th>\n",
       "      <th>instrumentalness</th>\n",
       "      <th>liveness</th>\n",
       "      <th>loudness</th>\n",
       "      <th>speechiness</th>\n",
       "      <th>tempo</th>\n",
       "      <th>valence</th>\n",
       "      <th>time_signature_3</th>\n",
       "      <th>time_signature_4</th>\n",
       "      <th>time_signature_5</th>\n",
       "    </tr>\n",
       "  </thead>\n",
       "  <tbody>\n",
       "    <tr>\n",
       "      <th>126125</th>\n",
       "      <td>Classical</td>\n",
       "      <td>0.8570</td>\n",
       "      <td>0.177</td>\n",
       "      <td>0.1760</td>\n",
       "      <td>0.877000</td>\n",
       "      <td>0.1050</td>\n",
       "      <td>-17.595</td>\n",
       "      <td>0.0339</td>\n",
       "      <td>86.105</td>\n",
       "      <td>0.131</td>\n",
       "      <td>0</td>\n",
       "      <td>1</td>\n",
       "      <td>0</td>\n",
       "    </tr>\n",
       "    <tr>\n",
       "      <th>41818</th>\n",
       "      <td>Folk</td>\n",
       "      <td>0.9540</td>\n",
       "      <td>0.462</td>\n",
       "      <td>0.1870</td>\n",
       "      <td>0.847000</td>\n",
       "      <td>0.0985</td>\n",
       "      <td>-19.991</td>\n",
       "      <td>0.0304</td>\n",
       "      <td>140.096</td>\n",
       "      <td>0.252</td>\n",
       "      <td>0</td>\n",
       "      <td>1</td>\n",
       "      <td>0</td>\n",
       "    </tr>\n",
       "    <tr>\n",
       "      <th>41907</th>\n",
       "      <td>Folk</td>\n",
       "      <td>0.0234</td>\n",
       "      <td>0.786</td>\n",
       "      <td>0.6960</td>\n",
       "      <td>0.001900</td>\n",
       "      <td>0.0839</td>\n",
       "      <td>-5.796</td>\n",
       "      <td>0.0428</td>\n",
       "      <td>121.974</td>\n",
       "      <td>0.306</td>\n",
       "      <td>0</td>\n",
       "      <td>1</td>\n",
       "      <td>0</td>\n",
       "    </tr>\n",
       "    <tr>\n",
       "      <th>105278</th>\n",
       "      <td>Classical</td>\n",
       "      <td>0.9950</td>\n",
       "      <td>0.377</td>\n",
       "      <td>0.0187</td>\n",
       "      <td>0.881000</td>\n",
       "      <td>0.1200</td>\n",
       "      <td>-28.914</td>\n",
       "      <td>0.0451</td>\n",
       "      <td>70.708</td>\n",
       "      <td>0.114</td>\n",
       "      <td>0</td>\n",
       "      <td>1</td>\n",
       "      <td>0</td>\n",
       "    </tr>\n",
       "    <tr>\n",
       "      <th>150230</th>\n",
       "      <td>Pop</td>\n",
       "      <td>0.1390</td>\n",
       "      <td>0.963</td>\n",
       "      <td>0.8000</td>\n",
       "      <td>0.000458</td>\n",
       "      <td>0.1070</td>\n",
       "      <td>-6.803</td>\n",
       "      <td>0.0964</td>\n",
       "      <td>119.947</td>\n",
       "      <td>0.838</td>\n",
       "      <td>0</td>\n",
       "      <td>1</td>\n",
       "      <td>0</td>\n",
       "    </tr>\n",
       "  </tbody>\n",
       "</table>\n",
       "</div>"
      ],
      "text/plain": [
       "            genre  acousticness  danceability  energy  instrumentalness  \\\n",
       "126125  Classical        0.8570         0.177  0.1760          0.877000   \n",
       "41818        Folk        0.9540         0.462  0.1870          0.847000   \n",
       "41907        Folk        0.0234         0.786  0.6960          0.001900   \n",
       "105278  Classical        0.9950         0.377  0.0187          0.881000   \n",
       "150230        Pop        0.1390         0.963  0.8000          0.000458   \n",
       "\n",
       "        liveness  loudness  speechiness    tempo  valence  time_signature_3  \\\n",
       "126125    0.1050   -17.595       0.0339   86.105    0.131                 0   \n",
       "41818     0.0985   -19.991       0.0304  140.096    0.252                 0   \n",
       "41907     0.0839    -5.796       0.0428  121.974    0.306                 0   \n",
       "105278    0.1200   -28.914       0.0451   70.708    0.114                 0   \n",
       "150230    0.1070    -6.803       0.0964  119.947    0.838                 0   \n",
       "\n",
       "        time_signature_4  time_signature_5  \n",
       "126125                 1                 0  \n",
       "41818                  1                 0  \n",
       "41907                  1                 0  \n",
       "105278                 1                 0  \n",
       "150230                 1                 0  "
      ]
     },
     "metadata": {},
     "output_type": "display_data"
    }
   ],
   "source": [
    "# Let's now remove the unnecessary features\n",
    "new_df = df.drop(['artist_name','track_name','track_id','popularity','key','mode','duration_ms'],axis = 1)\n",
    "# Make a one hot encoding of the time signature\n",
    "new_df.time_signature = new_df.time_signature.map( {'3/4':3 , '4/4':4, '5/4':5} )\n",
    "new_df = pd.get_dummies(data= new_df, columns=['time_signature'])\n",
    "# Shuffle the dataset\n",
    "from sklearn.utils import shuffle\n",
    "new_df = shuffle(new_df)\n",
    "display(new_df.head())"
   ]
  },
  {
   "cell_type": "code",
   "execution_count": 11,
   "id": "66578ca5",
   "metadata": {
    "execution": {
     "iopub.execute_input": "2022-08-14T20:26:59.003098Z",
     "iopub.status.busy": "2022-08-14T20:26:59.002655Z",
     "iopub.status.idle": "2022-08-14T20:26:59.010472Z",
     "shell.execute_reply": "2022-08-14T20:26:59.009167Z"
    },
    "papermill": {
     "duration": 0.0218,
     "end_time": "2022-08-14T20:26:59.012892",
     "exception": false,
     "start_time": "2022-08-14T20:26:58.991092",
     "status": "completed"
    },
    "tags": []
   },
   "outputs": [
    {
     "data": {
      "text/plain": [
       "Index(['acousticness', 'danceability', 'energy', 'instrumentalness',\n",
       "       'liveness', 'loudness', 'speechiness', 'tempo', 'valence',\n",
       "       'time_signature_3', 'time_signature_4', 'time_signature_5'],\n",
       "      dtype='object')"
      ]
     },
     "metadata": {},
     "output_type": "display_data"
    }
   ],
   "source": [
    "features = new_df.keys().drop(['genre']);\n",
    "display(features)"
   ]
  },
  {
   "cell_type": "code",
   "execution_count": 12,
   "id": "d6d4e58b",
   "metadata": {
    "execution": {
     "iopub.execute_input": "2022-08-14T20:26:59.036065Z",
     "iopub.status.busy": "2022-08-14T20:26:59.035634Z",
     "iopub.status.idle": "2022-08-14T20:26:59.083304Z",
     "shell.execute_reply": "2022-08-14T20:26:59.082018Z"
    },
    "papermill": {
     "duration": 0.062369,
     "end_time": "2022-08-14T20:26:59.085854",
     "exception": false,
     "start_time": "2022-08-14T20:26:59.023485",
     "status": "completed"
    },
    "tags": []
   },
   "outputs": [
    {
     "data": {
      "text/html": [
       "<div>\n",
       "<style scoped>\n",
       "    .dataframe tbody tr th:only-of-type {\n",
       "        vertical-align: middle;\n",
       "    }\n",
       "\n",
       "    .dataframe tbody tr th {\n",
       "        vertical-align: top;\n",
       "    }\n",
       "\n",
       "    .dataframe thead th {\n",
       "        text-align: right;\n",
       "    }\n",
       "</style>\n",
       "<table border=\"1\" class=\"dataframe\">\n",
       "  <thead>\n",
       "    <tr style=\"text-align: right;\">\n",
       "      <th></th>\n",
       "      <th>acousticness</th>\n",
       "      <th>danceability</th>\n",
       "      <th>energy</th>\n",
       "      <th>instrumentalness</th>\n",
       "      <th>liveness</th>\n",
       "      <th>loudness</th>\n",
       "      <th>speechiness</th>\n",
       "      <th>tempo</th>\n",
       "      <th>valence</th>\n",
       "      <th>time_signature_3</th>\n",
       "      <th>time_signature_4</th>\n",
       "      <th>time_signature_5</th>\n",
       "    </tr>\n",
       "  </thead>\n",
       "  <tbody>\n",
       "    <tr>\n",
       "      <th>127177</th>\n",
       "      <td>0.83500</td>\n",
       "      <td>0.168</td>\n",
       "      <td>0.03880</td>\n",
       "      <td>0.088500</td>\n",
       "      <td>0.5310</td>\n",
       "      <td>-26.174</td>\n",
       "      <td>0.0387</td>\n",
       "      <td>80.688</td>\n",
       "      <td>0.1770</td>\n",
       "      <td>1</td>\n",
       "      <td>0</td>\n",
       "      <td>0</td>\n",
       "    </tr>\n",
       "    <tr>\n",
       "      <th>112828</th>\n",
       "      <td>0.00246</td>\n",
       "      <td>0.657</td>\n",
       "      <td>0.67900</td>\n",
       "      <td>0.000000</td>\n",
       "      <td>0.2110</td>\n",
       "      <td>-5.511</td>\n",
       "      <td>0.0269</td>\n",
       "      <td>120.007</td>\n",
       "      <td>0.3310</td>\n",
       "      <td>0</td>\n",
       "      <td>1</td>\n",
       "      <td>0</td>\n",
       "    </tr>\n",
       "    <tr>\n",
       "      <th>64359</th>\n",
       "      <td>0.38900</td>\n",
       "      <td>0.594</td>\n",
       "      <td>0.63300</td>\n",
       "      <td>0.000396</td>\n",
       "      <td>0.1070</td>\n",
       "      <td>-7.342</td>\n",
       "      <td>0.0625</td>\n",
       "      <td>106.016</td>\n",
       "      <td>0.5310</td>\n",
       "      <td>0</td>\n",
       "      <td>1</td>\n",
       "      <td>0</td>\n",
       "    </tr>\n",
       "    <tr>\n",
       "      <th>63933</th>\n",
       "      <td>0.57300</td>\n",
       "      <td>0.644</td>\n",
       "      <td>0.74000</td>\n",
       "      <td>0.000000</td>\n",
       "      <td>0.0696</td>\n",
       "      <td>-8.572</td>\n",
       "      <td>0.0658</td>\n",
       "      <td>120.182</td>\n",
       "      <td>0.3810</td>\n",
       "      <td>0</td>\n",
       "      <td>1</td>\n",
       "      <td>0</td>\n",
       "    </tr>\n",
       "    <tr>\n",
       "      <th>123987</th>\n",
       "      <td>0.99100</td>\n",
       "      <td>0.339</td>\n",
       "      <td>0.00778</td>\n",
       "      <td>0.899000</td>\n",
       "      <td>0.1080</td>\n",
       "      <td>-29.410</td>\n",
       "      <td>0.0445</td>\n",
       "      <td>72.548</td>\n",
       "      <td>0.0365</td>\n",
       "      <td>0</td>\n",
       "      <td>1</td>\n",
       "      <td>0</td>\n",
       "    </tr>\n",
       "  </tbody>\n",
       "</table>\n",
       "</div>"
      ],
      "text/plain": [
       "        acousticness  danceability   energy  instrumentalness  liveness  \\\n",
       "127177       0.83500         0.168  0.03880          0.088500    0.5310   \n",
       "112828       0.00246         0.657  0.67900          0.000000    0.2110   \n",
       "64359        0.38900         0.594  0.63300          0.000396    0.1070   \n",
       "63933        0.57300         0.644  0.74000          0.000000    0.0696   \n",
       "123987       0.99100         0.339  0.00778          0.899000    0.1080   \n",
       "\n",
       "        loudness  speechiness    tempo  valence  time_signature_3  \\\n",
       "127177   -26.174       0.0387   80.688   0.1770                 1   \n",
       "112828    -5.511       0.0269  120.007   0.3310                 0   \n",
       "64359     -7.342       0.0625  106.016   0.5310                 0   \n",
       "63933     -8.572       0.0658  120.182   0.3810                 0   \n",
       "123987   -29.410       0.0445   72.548   0.0365                 0   \n",
       "\n",
       "        time_signature_4  time_signature_5  \n",
       "127177                 0                 0  \n",
       "112828                 1                 0  \n",
       "64359                  1                 0  \n",
       "63933                  1                 0  \n",
       "123987                 1                 0  "
      ]
     },
     "metadata": {},
     "output_type": "display_data"
    },
    {
     "data": {
      "text/plain": [
       "127177    0\n",
       "112828    1\n",
       "64359     2\n",
       "63933     2\n",
       "123987    0\n",
       "Name: genre, dtype: int64"
      ]
     },
     "metadata": {},
     "output_type": "display_data"
    }
   ],
   "source": [
    "# Let's divide the label (genre) from the rest of the dataset and divide the dataset ina training and a testing dataset\n",
    "new_df.genre = new_df.genre.map( {'Classical':0 , 'Pop':1, 'Folk':2} )\n",
    "training = new_df.sample(frac = 0.8,random_state = 420)\n",
    "X_train = training[features]\n",
    "y_train = training['genre']\n",
    "X_test = new_df.drop(training.index)[features]\n",
    "y_test = new_df.drop(training.index)['genre']\n",
    "display(X_train.head())\n",
    "display(y_train.head())"
   ]
  },
  {
   "cell_type": "code",
   "execution_count": 13,
   "id": "3edd48dd",
   "metadata": {
    "_kg_hide-input": true,
    "execution": {
     "iopub.execute_input": "2022-08-14T20:26:59.110090Z",
     "iopub.status.busy": "2022-08-14T20:26:59.109655Z",
     "iopub.status.idle": "2022-08-14T20:26:59.188032Z",
     "shell.execute_reply": "2022-08-14T20:26:59.187156Z"
    },
    "papermill": {
     "duration": 0.093914,
     "end_time": "2022-08-14T20:26:59.191357",
     "exception": false,
     "start_time": "2022-08-14T20:26:59.097443",
     "status": "completed"
    },
    "tags": []
   },
   "outputs": [
    {
     "data": {
      "text/html": [
       "<div>\n",
       "<style scoped>\n",
       "    .dataframe tbody tr th:only-of-type {\n",
       "        vertical-align: middle;\n",
       "    }\n",
       "\n",
       "    .dataframe tbody tr th {\n",
       "        vertical-align: top;\n",
       "    }\n",
       "\n",
       "    .dataframe thead th {\n",
       "        text-align: right;\n",
       "    }\n",
       "</style>\n",
       "<table border=\"1\" class=\"dataframe\">\n",
       "  <thead>\n",
       "    <tr style=\"text-align: right;\">\n",
       "      <th></th>\n",
       "      <th>acousticness</th>\n",
       "      <th>danceability</th>\n",
       "      <th>energy</th>\n",
       "      <th>instrumentalness</th>\n",
       "      <th>liveness</th>\n",
       "      <th>loudness</th>\n",
       "      <th>speechiness</th>\n",
       "      <th>tempo</th>\n",
       "      <th>valence</th>\n",
       "      <th>time_signature_3</th>\n",
       "      <th>time_signature_4</th>\n",
       "      <th>time_signature_5</th>\n",
       "    </tr>\n",
       "  </thead>\n",
       "  <tbody>\n",
       "    <tr>\n",
       "      <th>127177</th>\n",
       "      <td>0.838353</td>\n",
       "      <td>0.120289</td>\n",
       "      <td>0.038858</td>\n",
       "      <td>0.089124</td>\n",
       "      <td>0.524585</td>\n",
       "      <td>0.555802</td>\n",
       "      <td>0.017667</td>\n",
       "      <td>0.229428</td>\n",
       "      <td>0.178607</td>\n",
       "      <td>1.0</td>\n",
       "      <td>0.0</td>\n",
       "      <td>0.0</td>\n",
       "    </tr>\n",
       "    <tr>\n",
       "      <th>112828</th>\n",
       "      <td>0.002469</td>\n",
       "      <td>0.656004</td>\n",
       "      <td>0.680354</td>\n",
       "      <td>0.000000</td>\n",
       "      <td>0.198819</td>\n",
       "      <td>0.127402</td>\n",
       "      <td>0.004878</td>\n",
       "      <td>0.423508</td>\n",
       "      <td>0.334006</td>\n",
       "      <td>0.0</td>\n",
       "      <td>1.0</td>\n",
       "      <td>0.0</td>\n",
       "    </tr>\n",
       "    <tr>\n",
       "      <th>64359</th>\n",
       "      <td>0.390561</td>\n",
       "      <td>0.586985</td>\n",
       "      <td>0.634261</td>\n",
       "      <td>0.000399</td>\n",
       "      <td>0.092945</td>\n",
       "      <td>0.165364</td>\n",
       "      <td>0.043464</td>\n",
       "      <td>0.354448</td>\n",
       "      <td>0.535822</td>\n",
       "      <td>0.0</td>\n",
       "      <td>1.0</td>\n",
       "      <td>0.0</td>\n",
       "    </tr>\n",
       "    <tr>\n",
       "      <th>63933</th>\n",
       "      <td>0.575301</td>\n",
       "      <td>0.641762</td>\n",
       "      <td>0.741478</td>\n",
       "      <td>0.000000</td>\n",
       "      <td>0.054871</td>\n",
       "      <td>0.190865</td>\n",
       "      <td>0.047041</td>\n",
       "      <td>0.424372</td>\n",
       "      <td>0.384460</td>\n",
       "      <td>0.0</td>\n",
       "      <td>1.0</td>\n",
       "      <td>0.0</td>\n",
       "    </tr>\n",
       "    <tr>\n",
       "      <th>123987</th>\n",
       "      <td>0.994980</td>\n",
       "      <td>0.307625</td>\n",
       "      <td>0.007775</td>\n",
       "      <td>0.905337</td>\n",
       "      <td>0.093963</td>\n",
       "      <td>0.622893</td>\n",
       "      <td>0.023954</td>\n",
       "      <td>0.189248</td>\n",
       "      <td>0.036831</td>\n",
       "      <td>0.0</td>\n",
       "      <td>1.0</td>\n",
       "      <td>0.0</td>\n",
       "    </tr>\n",
       "  </tbody>\n",
       "</table>\n",
       "</div>"
      ],
      "text/plain": [
       "        acousticness  danceability    energy  instrumentalness  liveness  \\\n",
       "127177      0.838353      0.120289  0.038858          0.089124  0.524585   \n",
       "112828      0.002469      0.656004  0.680354          0.000000  0.198819   \n",
       "64359       0.390561      0.586985  0.634261          0.000399  0.092945   \n",
       "63933       0.575301      0.641762  0.741478          0.000000  0.054871   \n",
       "123987      0.994980      0.307625  0.007775          0.905337  0.093963   \n",
       "\n",
       "        loudness  speechiness     tempo   valence  time_signature_3  \\\n",
       "127177  0.555802     0.017667  0.229428  0.178607               1.0   \n",
       "112828  0.127402     0.004878  0.423508  0.334006               0.0   \n",
       "64359   0.165364     0.043464  0.354448  0.535822               0.0   \n",
       "63933   0.190865     0.047041  0.424372  0.384460               0.0   \n",
       "123987  0.622893     0.023954  0.189248  0.036831               0.0   \n",
       "\n",
       "        time_signature_4  time_signature_5  \n",
       "127177               0.0               0.0  \n",
       "112828               1.0               0.0  \n",
       "64359                1.0               0.0  \n",
       "63933                1.0               0.0  \n",
       "123987               1.0               0.0  "
      ]
     },
     "metadata": {},
     "output_type": "display_data"
    },
    {
     "data": {
      "text/html": [
       "<div>\n",
       "<style scoped>\n",
       "    .dataframe tbody tr th:only-of-type {\n",
       "        vertical-align: middle;\n",
       "    }\n",
       "\n",
       "    .dataframe tbody tr th {\n",
       "        vertical-align: top;\n",
       "    }\n",
       "\n",
       "    .dataframe thead th {\n",
       "        text-align: right;\n",
       "    }\n",
       "</style>\n",
       "<table border=\"1\" class=\"dataframe\">\n",
       "  <thead>\n",
       "    <tr style=\"text-align: right;\">\n",
       "      <th></th>\n",
       "      <th>acousticness</th>\n",
       "      <th>danceability</th>\n",
       "      <th>energy</th>\n",
       "      <th>instrumentalness</th>\n",
       "      <th>liveness</th>\n",
       "      <th>loudness</th>\n",
       "      <th>speechiness</th>\n",
       "      <th>tempo</th>\n",
       "      <th>valence</th>\n",
       "      <th>time_signature_3</th>\n",
       "      <th>time_signature_4</th>\n",
       "      <th>time_signature_5</th>\n",
       "    </tr>\n",
       "  </thead>\n",
       "  <tbody>\n",
       "    <tr>\n",
       "      <th>126125</th>\n",
       "      <td>0.860442</td>\n",
       "      <td>0.130149</td>\n",
       "      <td>0.176336</td>\n",
       "      <td>0.883182</td>\n",
       "      <td>0.090909</td>\n",
       "      <td>0.377936</td>\n",
       "      <td>0.012465</td>\n",
       "      <td>0.256166</td>\n",
       "      <td>0.132190</td>\n",
       "      <td>0.0</td>\n",
       "      <td>1.0</td>\n",
       "      <td>0.0</td>\n",
       "    </tr>\n",
       "    <tr>\n",
       "      <th>150924</th>\n",
       "      <td>0.309236</td>\n",
       "      <td>0.545355</td>\n",
       "      <td>0.361710</td>\n",
       "      <td>0.000008</td>\n",
       "      <td>0.087855</td>\n",
       "      <td>0.174051</td>\n",
       "      <td>0.003577</td>\n",
       "      <td>0.249666</td>\n",
       "      <td>0.294652</td>\n",
       "      <td>0.0</td>\n",
       "      <td>1.0</td>\n",
       "      <td>0.0</td>\n",
       "    </tr>\n",
       "    <tr>\n",
       "      <th>124878</th>\n",
       "      <td>0.975904</td>\n",
       "      <td>0.322962</td>\n",
       "      <td>0.081344</td>\n",
       "      <td>0.896274</td>\n",
       "      <td>0.085819</td>\n",
       "      <td>0.586714</td>\n",
       "      <td>0.041730</td>\n",
       "      <td>0.373205</td>\n",
       "      <td>0.551968</td>\n",
       "      <td>1.0</td>\n",
       "      <td>0.0</td>\n",
       "      <td>0.0</td>\n",
       "    </tr>\n",
       "    <tr>\n",
       "      <th>108543</th>\n",
       "      <td>0.656626</td>\n",
       "      <td>0.497152</td>\n",
       "      <td>0.513016</td>\n",
       "      <td>0.000000</td>\n",
       "      <td>0.134684</td>\n",
       "      <td>0.137707</td>\n",
       "      <td>0.284630</td>\n",
       "      <td>0.300616</td>\n",
       "      <td>0.437941</td>\n",
       "      <td>0.0</td>\n",
       "      <td>1.0</td>\n",
       "      <td>0.0</td>\n",
       "    </tr>\n",
       "    <tr>\n",
       "      <th>104322</th>\n",
       "      <td>0.890562</td>\n",
       "      <td>0.122480</td>\n",
       "      <td>0.066514</td>\n",
       "      <td>0.563948</td>\n",
       "      <td>0.184567</td>\n",
       "      <td>0.511973</td>\n",
       "      <td>0.025688</td>\n",
       "      <td>0.527087</td>\n",
       "      <td>0.081332</td>\n",
       "      <td>1.0</td>\n",
       "      <td>0.0</td>\n",
       "      <td>0.0</td>\n",
       "    </tr>\n",
       "  </tbody>\n",
       "</table>\n",
       "</div>"
      ],
      "text/plain": [
       "        acousticness  danceability    energy  instrumentalness  liveness  \\\n",
       "126125      0.860442      0.130149  0.176336          0.883182  0.090909   \n",
       "150924      0.309236      0.545355  0.361710          0.000008  0.087855   \n",
       "124878      0.975904      0.322962  0.081344          0.896274  0.085819   \n",
       "108543      0.656626      0.497152  0.513016          0.000000  0.134684   \n",
       "104322      0.890562      0.122480  0.066514          0.563948  0.184567   \n",
       "\n",
       "        loudness  speechiness     tempo   valence  time_signature_3  \\\n",
       "126125  0.377936     0.012465  0.256166  0.132190               0.0   \n",
       "150924  0.174051     0.003577  0.249666  0.294652               0.0   \n",
       "124878  0.586714     0.041730  0.373205  0.551968               1.0   \n",
       "108543  0.137707     0.284630  0.300616  0.437941               0.0   \n",
       "104322  0.511973     0.025688  0.527087  0.081332               1.0   \n",
       "\n",
       "        time_signature_4  time_signature_5  \n",
       "126125               1.0               0.0  \n",
       "150924               1.0               0.0  \n",
       "124878               0.0               0.0  \n",
       "108543               1.0               0.0  \n",
       "104322               0.0               0.0  "
      ]
     },
     "metadata": {},
     "output_type": "display_data"
    }
   ],
   "source": [
    "# Let's do a MinMaxScaling of the dataset to make all the features in [0,1]\n",
    "from sklearn.preprocessing import MinMaxScaler\n",
    "pd.options.mode.chained_assignment = None  # default='warn'\n",
    "scaler = MinMaxScaler()\n",
    "# Loudness goes from -60 to 0 db, I will convert it to a positive value before normalizing it \n",
    "X_train['loudness'] *= -1\n",
    "X_train = pd.DataFrame(scaler.fit_transform(X_train), index=X_train.index, columns=X_train.columns)\n",
    "display(X_train.head())\n",
    "X_test['loudness'] *= -1\n",
    "X_test = pd.DataFrame(scaler.transform(X_test), index=X_test.index, columns=X_test.columns)\n",
    "display(X_test.head())"
   ]
  },
  {
   "cell_type": "code",
   "execution_count": 14,
   "id": "f8fed59b",
   "metadata": {
    "execution": {
     "iopub.execute_input": "2022-08-14T20:26:59.216523Z",
     "iopub.status.busy": "2022-08-14T20:26:59.216104Z",
     "iopub.status.idle": "2022-08-14T20:26:59.368013Z",
     "shell.execute_reply": "2022-08-14T20:26:59.367026Z"
    },
    "papermill": {
     "duration": 0.167716,
     "end_time": "2022-08-14T20:26:59.370852",
     "exception": false,
     "start_time": "2022-08-14T20:26:59.203136",
     "status": "completed"
    },
    "tags": []
   },
   "outputs": [],
   "source": [
    "# Let's split the training set in training and a development set (here called validation)\n",
    "from sklearn.model_selection import train_test_split\n",
    "from sklearn.linear_model import LogisticRegression\n",
    "from sklearn.metrics import make_scorer, accuracy_score, roc_auc_score \n",
    "X_train, X_valid, y_train, y_valid = train_test_split(X_train, y_train, test_size = 0.2, random_state = 1)"
   ]
  },
  {
   "cell_type": "code",
   "execution_count": 15,
   "id": "0ca7332c",
   "metadata": {
    "execution": {
     "iopub.execute_input": "2022-08-14T20:26:59.396012Z",
     "iopub.status.busy": "2022-08-14T20:26:59.394972Z",
     "iopub.status.idle": "2022-08-14T20:27:00.051908Z",
     "shell.execute_reply": "2022-08-14T20:27:00.050918Z"
    },
    "papermill": {
     "duration": 0.672091,
     "end_time": "2022-08-14T20:27:00.054172",
     "exception": false,
     "start_time": "2022-08-14T20:26:59.382081",
     "status": "completed"
    },
    "tags": []
   },
   "outputs": [
    {
     "data": {
      "image/png": "[encoded data removed]",
      "text/plain": [
       "<Figure size 792x1080 with 2 Axes>"
      ]
     },
     "metadata": {
      "needs_background": "light"
     },
     "output_type": "display_data"
    }
   ],
   "source": [
    "corr_heatmap(X_train)"
   ]
  },
  {
   "cell_type": "code",
   "execution_count": 16,
   "id": "57d74ef5",
   "metadata": {
    "execution": {
     "iopub.execute_input": "2022-08-14T20:27:00.082298Z",
     "iopub.status.busy": "2022-08-14T20:27:00.081329Z",
     "iopub.status.idle": "2022-08-14T20:27:00.087772Z",
     "shell.execute_reply": "2022-08-14T20:27:00.086963Z"
    },
    "papermill": {
     "duration": 0.023369,
     "end_time": "2022-08-14T20:27:00.090368",
     "exception": false,
     "start_time": "2022-08-14T20:27:00.066999",
     "status": "completed"
    },
    "tags": []
   },
   "outputs": [],
   "source": [
    "# Currently the ‘multinomial’ option is supported only by the ‘lbfgs’, ‘sag’, ‘saga’ and ‘newton-cg’ solvers.\n",
    "# http://scikit-learn.org/stable/modules/generated/sklearn.linear_model.LogisticRegression.html#sklearn.linear_model.LogisticRegression\n",
    "param_grid = [    \n",
    "    {'penalty' : ['l2', 'none'],\n",
    "    'C' : np.logspace(-4, 4, 20),\n",
    "    'solver' : ['lbfgs','newton-cg', 'sag', 'saga'],\n",
    "    'max_iter' : [100, 1000,2500, 5000]\n",
    "    }\n",
    "]"
   ]
  },
  {
   "cell_type": "code",
   "execution_count": 17,
   "id": "1d89740f",
   "metadata": {
    "execution": {
     "iopub.execute_input": "2022-08-14T20:27:00.118324Z",
     "iopub.status.busy": "2022-08-14T20:27:00.116565Z",
     "iopub.status.idle": "2022-08-14T20:27:00.121954Z",
     "shell.execute_reply": "2022-08-14T20:27:00.121153Z"
    },
    "papermill": {
     "duration": 0.021501,
     "end_time": "2022-08-14T20:27:00.124222",
     "exception": false,
     "start_time": "2022-08-14T20:27:00.102721",
     "status": "completed"
    },
    "tags": []
   },
   "outputs": [],
   "source": [
    "#from sklearn.model_selection import GridSearchCV\n",
    "#clf = GridSearchCV(LogisticRegression(multi_class = 'multinomial'), param_grid = param_grid, verbose=10, n_jobs=-1, error_score=\"raise\")\n",
    "#best_clf = clf.fit(X_train, y_train)"
   ]
  },
  {
   "cell_type": "code",
   "execution_count": 18,
   "id": "19f98b7a",
   "metadata": {
    "execution": {
     "iopub.execute_input": "2022-08-14T20:27:00.151500Z",
     "iopub.status.busy": "2022-08-14T20:27:00.150351Z",
     "iopub.status.idle": "2022-08-14T20:27:00.156499Z",
     "shell.execute_reply": "2022-08-14T20:27:00.155483Z"
    },
    "papermill": {
     "duration": 0.022403,
     "end_time": "2022-08-14T20:27:00.158917",
     "exception": false,
     "start_time": "2022-08-14T20:27:00.136514",
     "status": "completed"
    },
    "tags": []
   },
   "outputs": [],
   "source": [
    "#print(best_clf.best_estimator_)\n",
    "#print(best_clf.cv_results_)\n",
    "#print (f'Accuracy - : {best_clf.score(X_train, y_train):.3f}')"
   ]
  },
  {
   "cell_type": "code",
   "execution_count": 19,
   "id": "2d442e66",
   "metadata": {
    "execution": {
     "iopub.execute_input": "2022-08-14T20:27:00.186090Z",
     "iopub.status.busy": "2022-08-14T20:27:00.184865Z",
     "iopub.status.idle": "2022-08-14T20:27:01.378916Z",
     "shell.execute_reply": "2022-08-14T20:27:01.377405Z"
    },
    "papermill": {
     "duration": 1.211156,
     "end_time": "2022-08-14T20:27:01.382512",
     "exception": false,
     "start_time": "2022-08-14T20:27:00.171356",
     "status": "completed"
    },
    "tags": []
   },
   "outputs": [
    {
     "data": {
      "text/plain": [
       "LogisticRegression(C=78.47599703514607, multi_class='multinomial',\n",
       "                   solver='newton-cg')"
      ]
     },
     "execution_count": 19,
     "metadata": {},
     "output_type": "execute_result"
    }
   ],
   "source": [
    "# Thanks to GridSearch we know that the best choice is LogisticRegression(C=78.47599703514607, multi_class='multinomial', solver='newton-cg')\n",
    "model = LogisticRegression(C=78.47599703514607, multi_class='multinomial', solver='newton-cg')\n",
    "model.fit(X_train, y_train)"
   ]
  },
  {
   "cell_type": "code",
   "execution_count": 20,
   "id": "33dd231d",
   "metadata": {
    "execution": {
     "iopub.execute_input": "2022-08-14T20:27:01.428193Z",
     "iopub.status.busy": "2022-08-14T20:27:01.427536Z",
     "iopub.status.idle": "2022-08-14T20:27:01.462194Z",
     "shell.execute_reply": "2022-08-14T20:27:01.460878Z"
    },
    "papermill": {
     "duration": 0.062378,
     "end_time": "2022-08-14T20:27:01.465919",
     "exception": false,
     "start_time": "2022-08-14T20:27:01.403541",
     "status": "completed"
    },
    "tags": []
   },
   "outputs": [
    {
     "name": "stdout",
     "output_type": "stream",
     "text": [
      "              precision    recall  f1-score   support\n",
      "\n",
      "           0       0.91      0.89      0.90      1491\n",
      "           1       0.78      0.79      0.78      1503\n",
      "           2       0.72      0.73      0.73      1477\n",
      "\n",
      "    accuracy                           0.80      4471\n",
      "   macro avg       0.80      0.80      0.80      4471\n",
      "weighted avg       0.80      0.80      0.80      4471\n",
      "\n"
     ]
    }
   ],
   "source": [
    "y_pred = model.predict(X_valid)\n",
    "from sklearn.metrics import classification_report\n",
    "print(classification_report(y_valid, y_pred))"
   ]
  },
  {
   "cell_type": "code",
   "execution_count": 21,
   "id": "1cab201e",
   "metadata": {
    "execution": {
     "iopub.execute_input": "2022-08-14T20:27:01.503146Z",
     "iopub.status.busy": "2022-08-14T20:27:01.502725Z",
     "iopub.status.idle": "2022-08-14T20:27:02.597825Z",
     "shell.execute_reply": "2022-08-14T20:27:02.596507Z"
    },
    "papermill": {
     "duration": 1.114984,
     "end_time": "2022-08-14T20:27:02.602298",
     "exception": false,
     "start_time": "2022-08-14T20:27:01.487314",
     "status": "completed"
    },
    "tags": []
   },
   "outputs": [
    {
     "name": "stdout",
     "output_type": "stream",
     "text": [
      "              precision    recall  f1-score   support\n",
      "\n",
      "           0       0.89      0.89      0.89      1491\n",
      "           1       0.77      0.74      0.76      1503\n",
      "           2       0.69      0.73      0.71      1477\n",
      "\n",
      "    accuracy                           0.79      4471\n",
      "   macro avg       0.79      0.79      0.79      4471\n",
      "weighted avg       0.79      0.79      0.79      4471\n",
      "\n"
     ]
    }
   ],
   "source": [
    "# Let's try without loudness\n",
    "X_train_loudness = X_train.drop(['loudness'], axis=1)\n",
    "X_valid_loudness = X_valid.drop(['loudness'], axis=1)\n",
    "lrm_cor = LogisticRegression(C=11.288378916846883, multi_class='multinomial',solver='newton-cg').fit(X_train_loudness, y_train)\n",
    "print(classification_report(y_valid, lrm_cor.predict(X_valid_loudness)))"
   ]
  },
  {
   "cell_type": "code",
   "execution_count": 22,
   "id": "b2cc8c41",
   "metadata": {
    "execution": {
     "iopub.execute_input": "2022-08-14T20:27:02.646389Z",
     "iopub.status.busy": "2022-08-14T20:27:02.645845Z",
     "iopub.status.idle": "2022-08-14T20:27:03.711083Z",
     "shell.execute_reply": "2022-08-14T20:27:03.708773Z"
    },
    "papermill": {
     "duration": 1.091423,
     "end_time": "2022-08-14T20:27:03.714979",
     "exception": false,
     "start_time": "2022-08-14T20:27:02.623556",
     "status": "completed"
    },
    "tags": []
   },
   "outputs": [
    {
     "name": "stdout",
     "output_type": "stream",
     "text": [
      "              precision    recall  f1-score   support\n",
      "\n",
      "           0       0.91      0.89      0.90      1491\n",
      "           1       0.78      0.78      0.78      1503\n",
      "           2       0.72      0.74      0.73      1477\n",
      "\n",
      "    accuracy                           0.80      4471\n",
      "   macro avg       0.81      0.80      0.80      4471\n",
      "weighted avg       0.81      0.80      0.81      4471\n",
      "\n"
     ]
    }
   ],
   "source": [
    "# Let's try without energy\n",
    "X_train_energy = X_train.drop(['energy'], axis=1)\n",
    "X_valid_energy = X_valid.drop(['energy'], axis=1)\n",
    "lrm_cor = LogisticRegression(C=11.288378916846883, multi_class='multinomial',solver='newton-cg').fit(X_train_energy, y_train)\n",
    "print(classification_report(y_valid, lrm_cor.predict(X_valid_energy)))"
   ]
  },
  {
   "cell_type": "code",
   "execution_count": 23,
   "id": "002072ef",
   "metadata": {
    "execution": {
     "iopub.execute_input": "2022-08-14T20:27:03.759587Z",
     "iopub.status.busy": "2022-08-14T20:27:03.759058Z",
     "iopub.status.idle": "2022-08-14T20:27:04.921062Z",
     "shell.execute_reply": "2022-08-14T20:27:04.919010Z"
    },
    "papermill": {
     "duration": 1.18871,
     "end_time": "2022-08-14T20:27:04.925583",
     "exception": false,
     "start_time": "2022-08-14T20:27:03.736873",
     "status": "completed"
    },
    "tags": []
   },
   "outputs": [
    {
     "name": "stdout",
     "output_type": "stream",
     "text": [
      "              precision    recall  f1-score   support\n",
      "\n",
      "           0       0.91      0.89      0.90      1491\n",
      "           1       0.78      0.79      0.79      1503\n",
      "           2       0.72      0.73      0.72      1477\n",
      "\n",
      "    accuracy                           0.80      4471\n",
      "   macro avg       0.80      0.80      0.80      4471\n",
      "weighted avg       0.80      0.80      0.80      4471\n",
      "\n"
     ]
    }
   ],
   "source": [
    "# Let's try without acousticness\n",
    "X_train_acousticness = X_train.drop(['acousticness'], axis=1)\n",
    "X_valid_acousticness = X_valid.drop(['acousticness'], axis=1)\n",
    "lrm_cor = LogisticRegression(C=11.288378916846883, multi_class='multinomial',solver='newton-cg').fit(X_train_acousticness, y_train)\n",
    "print(classification_report(y_valid, lrm_cor.predict(X_valid_acousticness)))"
   ]
  },
  {
   "cell_type": "code",
   "execution_count": 24,
   "id": "d36e0ad7",
   "metadata": {
    "execution": {
     "iopub.execute_input": "2022-08-14T20:27:04.971539Z",
     "iopub.status.busy": "2022-08-14T20:27:04.970780Z",
     "iopub.status.idle": "2022-08-14T20:27:05.000523Z",
     "shell.execute_reply": "2022-08-14T20:27:04.999305Z"
    },
    "papermill": {
     "duration": 0.056687,
     "end_time": "2022-08-14T20:27:05.003995",
     "exception": false,
     "start_time": "2022-08-14T20:27:04.947308",
     "status": "completed"
    },
    "tags": []
   },
   "outputs": [
    {
     "name": "stdout",
     "output_type": "stream",
     "text": [
      "              precision    recall  f1-score   support\n",
      "\n",
      "           0       0.90      0.88      0.89      1818\n",
      "           1       0.79      0.80      0.79      1898\n",
      "           2       0.72      0.74      0.73      1872\n",
      "\n",
      "    accuracy                           0.80      5588\n",
      "   macro avg       0.81      0.80      0.80      5588\n",
      "weighted avg       0.80      0.80      0.80      5588\n",
      "\n"
     ]
    }
   ],
   "source": [
    "# The accuracy changes between 0.81 and 0.79 in every situation, I'm going to just keep those features\n",
    "# I will now test the data with X_test and y_test\n",
    "y_pred = model.predict(X_test)\n",
    "print(classification_report(y_test, y_pred))"
   ]
  },
  {
   "cell_type": "code",
   "execution_count": 25,
   "id": "9e1def30",
   "metadata": {
    "execution": {
     "iopub.execute_input": "2022-08-14T20:27:05.036558Z",
     "iopub.status.busy": "2022-08-14T20:27:05.036149Z",
     "iopub.status.idle": "2022-08-14T20:27:05.050139Z",
     "shell.execute_reply": "2022-08-14T20:27:05.049117Z"
    },
    "papermill": {
     "duration": 0.031041,
     "end_time": "2022-08-14T20:27:05.052843",
     "exception": false,
     "start_time": "2022-08-14T20:27:05.021802",
     "status": "completed"
    },
    "tags": []
   },
   "outputs": [],
   "source": [
    "# We see that the accuracy doesn't change much\n",
    "# We'll now try to get best results with a Neural Network\n",
    "from sklearn.neural_network import MLPClassifier\n",
    "\n",
    "mlp_gs = MLPClassifier()\n",
    "parameter_space = {\n",
    "    'hidden_layer_sizes': [(100, 100), (100, 100, 100), (100, 100, 100, 100)],\n",
    "    'activation': ['tanh', 'relu'],\n",
    "    'solver': ['sgd','adam'],\n",
    "    'alpha': [0.0001, 0.001, 0.01, 0.1],\n",
    "    'max_iter': [500]\n",
    "}\n",
    "#from sklearn.model_selection import GridSearchCV\n",
    "#from sklearn.metrics import classification_report\n",
    "#clf = GridSearchCV(mlp_gs, parameter_space, n_jobs=-1, cv=5, scoring='accuracy', verbose=10, error_score=\"raise\")\n",
    "#clf.fit(X_train, y_train) # X is train samples and t is the corresponding labels\n",
    "\n",
    "# best score achieved during the GridSearchCV\n",
    "#print('GridSearch CV best score : {:.4f}\\n\\n'.format(clf.best_score_))\n",
    "\n",
    "# print parameters that give the best results\n",
    "#print('Parameters that give the best results :','\\n\\n', (clf.best_params_))\n",
    "\n",
    "# print estimator that was chosen by the GridSearch\n",
    "#print('\\n\\nEstimator that was chosen by the search :','\\n\\n', (clf.best_estimator_))\n",
    "\n",
    "# %% [code]\n",
    "# calculate GridSearch CV score on test set\n",
    "#t_pred = clf.predict(X_valid)\n",
    "\n",
    "#print('Model classification report with GridSearcg CV: \\n', classification_report(y_valid, t_pred))"
   ]
  },
  {
   "cell_type": "code",
   "execution_count": 26,
   "id": "7fc5c9be",
   "metadata": {
    "execution": {
     "iopub.execute_input": "2022-08-14T20:27:05.081071Z",
     "iopub.status.busy": "2022-08-14T20:27:05.080282Z",
     "iopub.status.idle": "2022-08-14T20:27:05.094163Z",
     "shell.execute_reply": "2022-08-14T20:27:05.092774Z"
    },
    "papermill": {
     "duration": 0.030909,
     "end_time": "2022-08-14T20:27:05.096777",
     "exception": false,
     "start_time": "2022-08-14T20:27:05.065868",
     "status": "completed"
    },
    "tags": []
   },
   "outputs": [],
   "source": [
    "# With GridSearch we can see that the estimatore whioch gives the best result is\n",
    "# MLPClassifier(alpha=0.01, hidden_layer_sizes=(100, 100), max_iter=500)\n",
    "# I will now perform a second Grid Search with hyperparameters more similar to the ones just found\n",
    "# and with early stopping in order to be more precise\n",
    "# I will merge train and valid sets and test on the testing set\n",
    "X_train = pd.concat([X_train, X_valid])\n",
    "y_train = pd.concat([y_train, y_valid])\n",
    "X_train, y_train = shuffle(X_train, y_train)\n",
    "parameter_space = {\n",
    "    'hidden_layer_sizes': [(100, 100), (100, 150), (150, 150)],\n",
    "    'activation': ['relu'],\n",
    "    'solver': ['adam'],\n",
    "    'alpha': [0.01, 0.02, 0.04, 0.08],\n",
    "    'early_stopping': [True, False],\n",
    "    'max_iter': [500]\n",
    "}\n",
    "#from sklearn.model_selection import GridSearchCV\n",
    "#from sklearn.metrics import classification_report\n",
    "#clf = GridSearchCV(mlp_gs, parameter_space, n_jobs=-1, cv=5, scoring='accuracy', verbose=10, error_score=\"raise\")\n",
    "#clf.fit(X_train, y_train) # X is train samples and t is the corresponding labels\n",
    "\n",
    "# best score achieved during the GridSearchCV\n",
    "#print('GridSearch CV best score : {:.4f}\\n\\n'.format(clf.best_score_))\n",
    "\n",
    "# print parameters that give the best results\n",
    "#print('Parameters that give the best results :','\\n\\n', (clf.best_params_))\n",
    "\n",
    "# print estimator that was chosen by the GridSearch\n",
    "#print('\\n\\nEstimator that was chosen by the search :','\\n\\n', (clf.best_estimator_))\n",
    "\n",
    "# %% [code]\n",
    "# calculate GridSearch CV score on test set\n",
    "#t_pred = clf.predict(X_test)\n",
    "\n",
    "#print('Model classification report with GridSearcg CV: \\n', classification_report(y_test, t_pred))"
   ]
  },
  {
   "cell_type": "code",
   "execution_count": 27,
   "id": "40c449b0",
   "metadata": {
    "execution": {
     "iopub.execute_input": "2022-08-14T20:27:05.125164Z",
     "iopub.status.busy": "2022-08-14T20:27:05.124709Z",
     "iopub.status.idle": "2022-08-14T20:28:58.053314Z",
     "shell.execute_reply": "2022-08-14T20:28:58.051474Z"
    },
    "papermill": {
     "duration": 112.947381,
     "end_time": "2022-08-14T20:28:58.057363",
     "exception": false,
     "start_time": "2022-08-14T20:27:05.109982",
     "status": "completed"
    },
    "tags": []
   },
   "outputs": [],
   "source": [
    "# Thanks to GridSearch we know that the best choice is MLPClassifier(alpha=0.01, hidden_layer_sizes=(150, 150), max_iter=500)\n",
    "clf = MLPClassifier(alpha=0.01, hidden_layer_sizes=(150, 150), max_iter=500).fit(X_train, y_train)\n",
    "y_pred=clf.predict(X_train)"
   ]
  },
  {
   "cell_type": "code",
   "execution_count": 28,
   "id": "da478db8",
   "metadata": {
    "execution": {
     "iopub.execute_input": "2022-08-14T20:28:58.104489Z",
     "iopub.status.busy": "2022-08-14T20:28:58.102899Z",
     "iopub.status.idle": "2022-08-14T20:28:58.317425Z",
     "shell.execute_reply": "2022-08-14T20:28:58.316166Z"
    },
    "papermill": {
     "duration": 0.241444,
     "end_time": "2022-08-14T20:28:58.321116",
     "exception": false,
     "start_time": "2022-08-14T20:28:58.079672",
     "status": "completed"
    },
    "tags": []
   },
   "outputs": [
    {
     "name": "stdout",
     "output_type": "stream",
     "text": [
      "              precision    recall  f1-score   support\n",
      "\n",
      "           0       0.93      0.92      0.92      1818\n",
      "           1       0.80      0.81      0.81      1898\n",
      "           2       0.76      0.76      0.76      1872\n",
      "\n",
      "    accuracy                           0.83      5588\n",
      "   macro avg       0.83      0.83      0.83      5588\n",
      "weighted avg       0.83      0.83      0.83      5588\n",
      "\n"
     ]
    }
   ],
   "source": [
    "y_pred = clf.predict(X_test)\n",
    "print(classification_report(y_test, y_pred))"
   ]
  },
  {
   "cell_type": "code",
   "execution_count": 29,
   "id": "f2b7c5d7",
   "metadata": {
    "execution": {
     "iopub.execute_input": "2022-08-14T20:28:58.366861Z",
     "iopub.status.busy": "2022-08-14T20:28:58.366137Z",
     "iopub.status.idle": "2022-08-14T20:28:58.372472Z",
     "shell.execute_reply": "2022-08-14T20:28:58.371089Z"
    },
    "papermill": {
     "duration": 0.034002,
     "end_time": "2022-08-14T20:28:58.377020",
     "exception": false,
     "start_time": "2022-08-14T20:28:58.343018",
     "status": "completed"
    },
    "tags": []
   },
   "outputs": [],
   "source": [
    "# Usually the accuracy of the MLP is a bit better than the one of the Logistic Regression in this case"
   ]
  }
 ],
 "metadata": {
  "kernelspec": {
   "display_name": "Python 3",
   "language": "python",
   "name": "python3"
  },
  "language_info": {
   "codemirror_mode": {
    "name": "ipython",
    "version": 3
   },
   "file_extension": ".py",
   "mimetype": "text/x-python",
   "name": "python",
   "nbconvert_exporter": "python",
   "pygments_lexer": "ipython3",
   "version": "3.7.12"
  },
  "papermill": {
   "default_parameters": {},
   "duration": 134.977397,
   "end_time": "2022-08-14T20:28:59.123526",
   "environment_variables": {},
   "exception": null,
   "input_path": "__notebook__.ipynb",
   "output_path": "__notebook__.ipynb",
   "parameters": {},
   "start_time": "2022-08-14T20:26:44.146129",
   "version": "2.3.4"
  }
 },
 "nbformat": 4,
 "nbformat_minor": 5
}
