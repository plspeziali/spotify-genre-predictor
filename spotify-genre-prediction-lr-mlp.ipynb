{
 "cells": [
  {
   "cell_type": "code",
   "execution_count": 1,
   "id": "460b03d0",
   "metadata": {
    "execution": {
     "iopub.execute_input": "2022-08-14T08:51:32.141304Z",
     "iopub.status.busy": "2022-08-14T08:51:32.140832Z",
     "iopub.status.idle": "2022-08-14T08:51:33.177781Z",
     "shell.execute_reply": "2022-08-14T08:51:33.176727Z"
    },
    "papermill": {
     "duration": 1.050408,
     "end_time": "2022-08-14T08:51:33.180932",
     "exception": false,
     "start_time": "2022-08-14T08:51:32.130524",
     "status": "completed"
    },
    "tags": []
   },
   "outputs": [],
   "source": [
    "import pandas as pd\n",
    "import seaborn as sns # for data visualization\n",
    "import matplotlib.pyplot as plt\n",
    "import numpy as np\n",
    "def corr_heatmap(data):\n",
    "    corr_matrix = data.corr()\n",
    "    mask = np.zeros_like(corr_matrix, dtype=bool)\n",
    "    mask[np.triu_indices_from(mask)]= True\n",
    "    f, ax = plt.subplots(figsize=(11, 15)) \n",
    "    heatmap = sns.heatmap(corr_matrix, \n",
    "                          mask = mask,\n",
    "                          square = True,\n",
    "                          linewidths = .5,\n",
    "                          cmap = 'coolwarm',\n",
    "                          cbar_kws = {'shrink': .4, \n",
    "                                    'ticks' : [-1, -.5, 0, 0.5, 1]},\n",
    "                          vmin = -1, \n",
    "                          vmax = 1,\n",
    "                          annot = True,\n",
    "                          annot_kws = {'size': 12})#add the column names as labels\n",
    "    ax.set_yticklabels(corr_matrix.columns, rotation = 0)\n",
    "    ax.set_xticklabels(corr_matrix.columns)\n",
    "    sns.set_style({'xtick.bottom': True}, {'ytick.left': True})"
   ]
  },
  {
   "cell_type": "code",
   "execution_count": 2,
   "id": "3cbfbb39",
   "metadata": {
    "execution": {
     "iopub.execute_input": "2022-08-14T08:51:33.198324Z",
     "iopub.status.busy": "2022-08-14T08:51:33.197598Z",
     "iopub.status.idle": "2022-08-14T08:51:34.537409Z",
     "shell.execute_reply": "2022-08-14T08:51:34.536208Z"
    },
    "papermill": {
     "duration": 1.352172,
     "end_time": "2022-08-14T08:51:34.540794",
     "exception": false,
     "start_time": "2022-08-14T08:51:33.188622",
     "status": "completed"
    },
    "tags": []
   },
   "outputs": [
    {
     "data": {
      "text/html": [
       "<div>\n",
       "<style scoped>\n",
       "    .dataframe tbody tr th:only-of-type {\n",
       "        vertical-align: middle;\n",
       "    }\n",
       "\n",
       "    .dataframe tbody tr th {\n",
       "        vertical-align: top;\n",
       "    }\n",
       "\n",
       "    .dataframe thead th {\n",
       "        text-align: right;\n",
       "    }\n",
       "</style>\n",
       "<table border=\"1\" class=\"dataframe\">\n",
       "  <thead>\n",
       "    <tr style=\"text-align: right;\">\n",
       "      <th></th>\n",
       "      <th>genre</th>\n",
       "      <th>artist_name</th>\n",
       "      <th>track_name</th>\n",
       "      <th>track_id</th>\n",
       "      <th>popularity</th>\n",
       "      <th>acousticness</th>\n",
       "      <th>danceability</th>\n",
       "      <th>duration_ms</th>\n",
       "      <th>energy</th>\n",
       "      <th>instrumentalness</th>\n",
       "      <th>key</th>\n",
       "      <th>liveness</th>\n",
       "      <th>loudness</th>\n",
       "      <th>mode</th>\n",
       "      <th>speechiness</th>\n",
       "      <th>tempo</th>\n",
       "      <th>time_signature</th>\n",
       "      <th>valence</th>\n",
       "    </tr>\n",
       "  </thead>\n",
       "  <tbody>\n",
       "    <tr>\n",
       "      <th>0</th>\n",
       "      <td>Movie</td>\n",
       "      <td>Henri Salvador</td>\n",
       "      <td>C'est beau de faire un Show</td>\n",
       "      <td>0BRjO6ga9RKCKjfDqeFgWV</td>\n",
       "      <td>0</td>\n",
       "      <td>0.611</td>\n",
       "      <td>0.389</td>\n",
       "      <td>99373</td>\n",
       "      <td>0.910</td>\n",
       "      <td>0.000</td>\n",
       "      <td>C#</td>\n",
       "      <td>0.3460</td>\n",
       "      <td>-1.828</td>\n",
       "      <td>Major</td>\n",
       "      <td>0.0525</td>\n",
       "      <td>166.969</td>\n",
       "      <td>4/4</td>\n",
       "      <td>0.814</td>\n",
       "    </tr>\n",
       "    <tr>\n",
       "      <th>1</th>\n",
       "      <td>Movie</td>\n",
       "      <td>Martin &amp; les fées</td>\n",
       "      <td>Perdu d'avance (par Gad Elmaleh)</td>\n",
       "      <td>0BjC1NfoEOOusryehmNudP</td>\n",
       "      <td>1</td>\n",
       "      <td>0.246</td>\n",
       "      <td>0.590</td>\n",
       "      <td>137373</td>\n",
       "      <td>0.737</td>\n",
       "      <td>0.000</td>\n",
       "      <td>F#</td>\n",
       "      <td>0.1510</td>\n",
       "      <td>-5.559</td>\n",
       "      <td>Minor</td>\n",
       "      <td>0.0868</td>\n",
       "      <td>174.003</td>\n",
       "      <td>4/4</td>\n",
       "      <td>0.816</td>\n",
       "    </tr>\n",
       "    <tr>\n",
       "      <th>2</th>\n",
       "      <td>Movie</td>\n",
       "      <td>Joseph Williams</td>\n",
       "      <td>Don't Let Me Be Lonely Tonight</td>\n",
       "      <td>0CoSDzoNIKCRs124s9uTVy</td>\n",
       "      <td>3</td>\n",
       "      <td>0.952</td>\n",
       "      <td>0.663</td>\n",
       "      <td>170267</td>\n",
       "      <td>0.131</td>\n",
       "      <td>0.000</td>\n",
       "      <td>C</td>\n",
       "      <td>0.1030</td>\n",
       "      <td>-13.879</td>\n",
       "      <td>Minor</td>\n",
       "      <td>0.0362</td>\n",
       "      <td>99.488</td>\n",
       "      <td>5/4</td>\n",
       "      <td>0.368</td>\n",
       "    </tr>\n",
       "    <tr>\n",
       "      <th>3</th>\n",
       "      <td>Movie</td>\n",
       "      <td>Henri Salvador</td>\n",
       "      <td>Dis-moi Monsieur Gordon Cooper</td>\n",
       "      <td>0Gc6TVm52BwZD07Ki6tIvf</td>\n",
       "      <td>0</td>\n",
       "      <td>0.703</td>\n",
       "      <td>0.240</td>\n",
       "      <td>152427</td>\n",
       "      <td>0.326</td>\n",
       "      <td>0.000</td>\n",
       "      <td>C#</td>\n",
       "      <td>0.0985</td>\n",
       "      <td>-12.178</td>\n",
       "      <td>Major</td>\n",
       "      <td>0.0395</td>\n",
       "      <td>171.758</td>\n",
       "      <td>4/4</td>\n",
       "      <td>0.227</td>\n",
       "    </tr>\n",
       "    <tr>\n",
       "      <th>4</th>\n",
       "      <td>Movie</td>\n",
       "      <td>Fabien Nataf</td>\n",
       "      <td>Ouverture</td>\n",
       "      <td>0IuslXpMROHdEPvSl1fTQK</td>\n",
       "      <td>4</td>\n",
       "      <td>0.950</td>\n",
       "      <td>0.331</td>\n",
       "      <td>82625</td>\n",
       "      <td>0.225</td>\n",
       "      <td>0.123</td>\n",
       "      <td>F</td>\n",
       "      <td>0.2020</td>\n",
       "      <td>-21.150</td>\n",
       "      <td>Major</td>\n",
       "      <td>0.0456</td>\n",
       "      <td>140.576</td>\n",
       "      <td>4/4</td>\n",
       "      <td>0.390</td>\n",
       "    </tr>\n",
       "  </tbody>\n",
       "</table>\n",
       "</div>"
      ],
      "text/plain": [
       "   genre        artist_name                        track_name  \\\n",
       "0  Movie     Henri Salvador       C'est beau de faire un Show   \n",
       "1  Movie  Martin & les fées  Perdu d'avance (par Gad Elmaleh)   \n",
       "2  Movie    Joseph Williams    Don't Let Me Be Lonely Tonight   \n",
       "3  Movie     Henri Salvador    Dis-moi Monsieur Gordon Cooper   \n",
       "4  Movie       Fabien Nataf                         Ouverture   \n",
       "\n",
       "                 track_id  popularity  acousticness  danceability  \\\n",
       "0  0BRjO6ga9RKCKjfDqeFgWV           0         0.611         0.389   \n",
       "1  0BjC1NfoEOOusryehmNudP           1         0.246         0.590   \n",
       "2  0CoSDzoNIKCRs124s9uTVy           3         0.952         0.663   \n",
       "3  0Gc6TVm52BwZD07Ki6tIvf           0         0.703         0.240   \n",
       "4  0IuslXpMROHdEPvSl1fTQK           4         0.950         0.331   \n",
       "\n",
       "   duration_ms  energy  instrumentalness key  liveness  loudness   mode  \\\n",
       "0        99373   0.910             0.000  C#    0.3460    -1.828  Major   \n",
       "1       137373   0.737             0.000  F#    0.1510    -5.559  Minor   \n",
       "2       170267   0.131             0.000   C    0.1030   -13.879  Minor   \n",
       "3       152427   0.326             0.000  C#    0.0985   -12.178  Major   \n",
       "4        82625   0.225             0.123   F    0.2020   -21.150  Major   \n",
       "\n",
       "   speechiness    tempo time_signature  valence  \n",
       "0       0.0525  166.969            4/4    0.814  \n",
       "1       0.0868  174.003            4/4    0.816  \n",
       "2       0.0362   99.488            5/4    0.368  \n",
       "3       0.0395  171.758            4/4    0.227  \n",
       "4       0.0456  140.576            4/4    0.390  "
      ]
     },
     "metadata": {},
     "output_type": "display_data"
    }
   ],
   "source": [
    "df = pd.read_csv(\"../input/ultimate-spotify-tracks-db/SpotifyFeatures.csv\")\n",
    "display(df.head())"
   ]
  },
  {
   "cell_type": "code",
   "execution_count": 3,
   "id": "146a08c7",
   "metadata": {
    "execution": {
     "iopub.execute_input": "2022-08-14T08:51:34.558114Z",
     "iopub.status.busy": "2022-08-14T08:51:34.557723Z",
     "iopub.status.idle": "2022-08-14T08:51:34.564209Z",
     "shell.execute_reply": "2022-08-14T08:51:34.562975Z"
    },
    "papermill": {
     "duration": 0.018309,
     "end_time": "2022-08-14T08:51:34.567044",
     "exception": false,
     "start_time": "2022-08-14T08:51:34.548735",
     "status": "completed"
    },
    "tags": []
   },
   "outputs": [
    {
     "name": "stdout",
     "output_type": "stream",
     "text": [
      "Index(['genre', 'artist_name', 'track_name', 'track_id', 'popularity',\n",
      "       'acousticness', 'danceability', 'duration_ms', 'energy',\n",
      "       'instrumentalness', 'key', 'liveness', 'loudness', 'mode',\n",
      "       'speechiness', 'tempo', 'time_signature', 'valence'],\n",
      "      dtype='object')\n"
     ]
    }
   ],
   "source": [
    "# Prints the names of the features\n",
    "print(df.keys())"
   ]
  },
  {
   "cell_type": "code",
   "execution_count": 4,
   "id": "3d6c0db6",
   "metadata": {
    "execution": {
     "iopub.execute_input": "2022-08-14T08:51:34.584740Z",
     "iopub.status.busy": "2022-08-14T08:51:34.583929Z",
     "iopub.status.idle": "2022-08-14T08:51:34.667957Z",
     "shell.execute_reply": "2022-08-14T08:51:34.666627Z"
    },
    "papermill": {
     "duration": 0.095822,
     "end_time": "2022-08-14T08:51:34.670642",
     "exception": false,
     "start_time": "2022-08-14T08:51:34.574820",
     "status": "completed"
    },
    "tags": []
   },
   "outputs": [
    {
     "name": "stdout",
     "output_type": "stream",
     "text": [
      "genre               0\n",
      "artist_name         0\n",
      "track_name          0\n",
      "track_id            0\n",
      "popularity          0\n",
      "acousticness        0\n",
      "danceability        0\n",
      "duration_ms         0\n",
      "energy              0\n",
      "instrumentalness    0\n",
      "key                 0\n",
      "liveness            0\n",
      "loudness            0\n",
      "mode                0\n",
      "speechiness         0\n",
      "tempo               0\n",
      "time_signature      0\n",
      "valence             0\n",
      "dtype: int64\n"
     ]
    }
   ],
   "source": [
    "# Let's check for null values\n",
    "print(pd.isnull(df).sum())"
   ]
  },
  {
   "cell_type": "code",
   "execution_count": 5,
   "id": "8df970a5",
   "metadata": {
    "execution": {
     "iopub.execute_input": "2022-08-14T08:51:34.687885Z",
     "iopub.status.busy": "2022-08-14T08:51:34.687072Z",
     "iopub.status.idle": "2022-08-14T08:51:35.196772Z",
     "shell.execute_reply": "2022-08-14T08:51:35.195828Z"
    },
    "papermill": {
     "duration": 0.520815,
     "end_time": "2022-08-14T08:51:35.199135",
     "exception": false,
     "start_time": "2022-08-14T08:51:34.678320",
     "status": "completed"
    },
    "tags": []
   },
   "outputs": [
    {
     "data": {
      "text/plain": [
       "Text(0.5, 1.0, 'Time Signature Distribution')"
      ]
     },
     "execution_count": 5,
     "metadata": {},
     "output_type": "execute_result"
    },
    {
     "data": {
      "image/png": "[encoded data removed]",
      "text/plain": [
       "<Figure size 432x288 with 1 Axes>"
      ]
     },
     "metadata": {
      "needs_background": "light"
     },
     "output_type": "display_data"
    }
   ],
   "source": [
    "# There are no null values, thus there's no need to perform any kind of operation\n",
    "# in order to handle the missing values\n",
    "sns.histplot(df['time_signature']).set_title('Time Signature Distribution')"
   ]
  },
  {
   "cell_type": "code",
   "execution_count": 6,
   "id": "b5199661",
   "metadata": {
    "execution": {
     "iopub.execute_input": "2022-08-14T08:51:35.217171Z",
     "iopub.status.busy": "2022-08-14T08:51:35.216746Z",
     "iopub.status.idle": "2022-08-14T08:51:35.828189Z",
     "shell.execute_reply": "2022-08-14T08:51:35.827399Z"
    },
    "papermill": {
     "duration": 0.623433,
     "end_time": "2022-08-14T08:51:35.830666",
     "exception": false,
     "start_time": "2022-08-14T08:51:35.207233",
     "status": "completed"
    },
    "tags": []
   },
   "outputs": [
    {
     "name": "stdout",
     "output_type": "stream",
     "text": [
      "Tracks with a 0/4 time signature: 8\n"
     ]
    },
    {
     "data": {
      "text/plain": [
       "Text(0.5, 1.0, 'Time Signature Distribution')"
      ]
     },
     "execution_count": 6,
     "metadata": {},
     "output_type": "execute_result"
    },
    {
     "data": {
      "image/png": "[encoded data removed]",
      "text/plain": [
       "<Figure size 432x288 with 1 Axes>"
      ]
     },
     "metadata": {
      "needs_background": "light"
     },
     "output_type": "display_data"
    }
   ],
   "source": [
    "# The samples in the dataframe where the field 'time_signature' is '1/4'\n",
    "# actually represent songs with mostly a 4/4 time signature, since it is\n",
    "# most likely an error by who created the dataframe we're going to change it\n",
    "# to the '4/4' value\n",
    "df['time_signature'] = df['time_signature'].replace(['1/4'],'4/4')\n",
    "\n",
    "print(\"Tracks with a 0/4 time signature: %s\" % len(df[df['time_signature'] == '0/4']));\n",
    "# Since there are just 8 samples with a '0/4' time signature,\n",
    "# and since it is clearly an error, I'm going to simply delete them\n",
    "df = df[df['time_signature'] != '0/4']\n",
    "\n",
    "sns.histplot(df['time_signature']).set_title('Time Signature Distribution')"
   ]
  },
  {
   "cell_type": "code",
   "execution_count": 7,
   "id": "4cacd959",
   "metadata": {
    "execution": {
     "iopub.execute_input": "2022-08-14T08:51:35.850010Z",
     "iopub.status.busy": "2022-08-14T08:51:35.849230Z",
     "iopub.status.idle": "2022-08-14T08:51:36.513002Z",
     "shell.execute_reply": "2022-08-14T08:51:36.511847Z"
    },
    "papermill": {
     "duration": 0.676413,
     "end_time": "2022-08-14T08:51:36.515640",
     "exception": false,
     "start_time": "2022-08-14T08:51:35.839227",
     "status": "completed"
    },
    "tags": []
   },
   "outputs": [
    {
     "data": {
      "text/plain": [
       "Text(0.5, 1.0, 'Genre Distribution')"
      ]
     },
     "execution_count": 7,
     "metadata": {},
     "output_type": "execute_result"
    },
    {
     "data": {
      "image/png": "[encoded data removed]",
      "text/plain": [
       "<Figure size 1584x432 with 1 Axes>"
      ]
     },
     "metadata": {
      "needs_background": "light"
     },
     "output_type": "display_data"
    }
   ],
   "source": [
    "plt.figure(figsize=(22, 6))\n",
    "sns.histplot(df['genre']).set_title('Genre Distribution')"
   ]
  },
  {
   "cell_type": "code",
   "execution_count": 8,
   "id": "a7e4329e",
   "metadata": {
    "execution": {
     "iopub.execute_input": "2022-08-14T08:51:36.536636Z",
     "iopub.status.busy": "2022-08-14T08:51:36.536216Z",
     "iopub.status.idle": "2022-08-14T08:51:36.800113Z",
     "shell.execute_reply": "2022-08-14T08:51:36.798956Z"
    },
    "papermill": {
     "duration": 0.277555,
     "end_time": "2022-08-14T08:51:36.802530",
     "exception": false,
     "start_time": "2022-08-14T08:51:36.524975",
     "status": "completed"
    },
    "tags": []
   },
   "outputs": [
    {
     "name": "stdout",
     "output_type": "stream",
     "text": [
      "Classical Tracks number: 9256\n",
      "Pop Tracks number: 9385\n",
      "Folk Tracks number: 9299\n",
      "Total Tracks number: 27940\n"
     ]
    },
    {
     "data": {
      "image/png": "[encoded data removed]",
      "text/plain": [
       "<Figure size 432x288 with 1 Axes>"
      ]
     },
     "metadata": {
      "needs_background": "light"
     },
     "output_type": "display_data"
    }
   ],
   "source": [
    "# i'm going to pick the three genres of the Philip Tagg's axiomatic triangle:\n",
    "# Classical, Pop and Folk, as we can see they are pretty balanced\n",
    "\n",
    "taggGenres = ['Classical','Pop','Folk']\n",
    "df = df[df.genre.isin(taggGenres)];\n",
    "sns.histplot(df['genre']).set_title('Genre Distribution')\n",
    "\n",
    "print(\"Classical Tracks number: %s\" % len(df[df['genre'] == 'Classical']));\n",
    "print(\"Pop Tracks number: %s\" % len(df[df['genre'] == 'Pop']));\n",
    "print(\"Folk Tracks number: %s\" % len(df[df['genre'] == 'Folk']));\n",
    "\n",
    "print(\"Total Tracks number: %s\" % len(df));"
   ]
  },
  {
   "cell_type": "code",
   "execution_count": 9,
   "id": "e2d02605",
   "metadata": {
    "execution": {
     "iopub.execute_input": "2022-08-14T08:51:36.823224Z",
     "iopub.status.busy": "2022-08-14T08:51:36.822805Z",
     "iopub.status.idle": "2022-08-14T08:51:37.223945Z",
     "shell.execute_reply": "2022-08-14T08:51:37.222743Z"
    },
    "papermill": {
     "duration": 0.414774,
     "end_time": "2022-08-14T08:51:37.226651",
     "exception": false,
     "start_time": "2022-08-14T08:51:36.811877",
     "status": "completed"
    },
    "tags": []
   },
   "outputs": [
    {
     "data": {
      "text/plain": [
       "Text(0.5, 1.0, 'Key usage for every genre')"
      ]
     },
     "execution_count": 9,
     "metadata": {},
     "output_type": "execute_result"
    },
    {
     "data": {
      "image/png": "[encoded data removed]",
      "text/plain": [
       "<Figure size 1584x432 with 1 Axes>"
      ]
     },
     "metadata": {
      "needs_background": "light"
     },
     "output_type": "display_data"
    }
   ],
   "source": [
    "plt.figure(figsize=(22, 6))\n",
    "sns.countplot(x = 'key', hue = 'genre', data = df)\n",
    "plt.title('Key usage for every genre')\n",
    "# This is the distribution of key usage for every genre, I decided at the end to drop this an the mode\n",
    "# features since they don't have much meaning in a genre prediction"
   ]
  },
  {
   "cell_type": "code",
   "execution_count": 10,
   "id": "f394de7d",
   "metadata": {
    "execution": {
     "iopub.execute_input": "2022-08-14T08:51:37.251683Z",
     "iopub.status.busy": "2022-08-14T08:51:37.251002Z",
     "iopub.status.idle": "2022-08-14T08:51:37.375195Z",
     "shell.execute_reply": "2022-08-14T08:51:37.374005Z"
    },
    "papermill": {
     "duration": 0.140116,
     "end_time": "2022-08-14T08:51:37.377748",
     "exception": false,
     "start_time": "2022-08-14T08:51:37.237632",
     "status": "completed"
    },
    "tags": []
   },
   "outputs": [
    {
     "data": {
      "text/html": [
       "<div>\n",
       "<style scoped>\n",
       "    .dataframe tbody tr th:only-of-type {\n",
       "        vertical-align: middle;\n",
       "    }\n",
       "\n",
       "    .dataframe tbody tr th {\n",
       "        vertical-align: top;\n",
       "    }\n",
       "\n",
       "    .dataframe thead th {\n",
       "        text-align: right;\n",
       "    }\n",
       "</style>\n",
       "<table border=\"1\" class=\"dataframe\">\n",
       "  <thead>\n",
       "    <tr style=\"text-align: right;\">\n",
       "      <th></th>\n",
       "      <th>genre</th>\n",
       "      <th>acousticness</th>\n",
       "      <th>danceability</th>\n",
       "      <th>energy</th>\n",
       "      <th>instrumentalness</th>\n",
       "      <th>liveness</th>\n",
       "      <th>loudness</th>\n",
       "      <th>speechiness</th>\n",
       "      <th>tempo</th>\n",
       "      <th>valence</th>\n",
       "      <th>time_signature_3</th>\n",
       "      <th>time_signature_4</th>\n",
       "      <th>time_signature_5</th>\n",
       "    </tr>\n",
       "  </thead>\n",
       "  <tbody>\n",
       "    <tr>\n",
       "      <th>151736</th>\n",
       "      <td>Pop</td>\n",
       "      <td>0.04800</td>\n",
       "      <td>0.6340</td>\n",
       "      <td>0.92700</td>\n",
       "      <td>0.6870</td>\n",
       "      <td>0.0864</td>\n",
       "      <td>-3.282</td>\n",
       "      <td>0.1360</td>\n",
       "      <td>128.016</td>\n",
       "      <td>0.3500</td>\n",
       "      <td>0</td>\n",
       "      <td>1</td>\n",
       "      <td>0</td>\n",
       "    </tr>\n",
       "    <tr>\n",
       "      <th>61982</th>\n",
       "      <td>Folk</td>\n",
       "      <td>0.92000</td>\n",
       "      <td>0.3530</td>\n",
       "      <td>0.18500</td>\n",
       "      <td>0.0244</td>\n",
       "      <td>0.1060</td>\n",
       "      <td>-12.557</td>\n",
       "      <td>0.0388</td>\n",
       "      <td>118.467</td>\n",
       "      <td>0.1750</td>\n",
       "      <td>0</td>\n",
       "      <td>1</td>\n",
       "      <td>0</td>\n",
       "    </tr>\n",
       "    <tr>\n",
       "      <th>128418</th>\n",
       "      <td>Classical</td>\n",
       "      <td>0.91600</td>\n",
       "      <td>0.0993</td>\n",
       "      <td>0.07630</td>\n",
       "      <td>0.9370</td>\n",
       "      <td>0.3800</td>\n",
       "      <td>-27.210</td>\n",
       "      <td>0.0426</td>\n",
       "      <td>88.985</td>\n",
       "      <td>0.0670</td>\n",
       "      <td>0</td>\n",
       "      <td>1</td>\n",
       "      <td>0</td>\n",
       "    </tr>\n",
       "    <tr>\n",
       "      <th>151836</th>\n",
       "      <td>Pop</td>\n",
       "      <td>0.00499</td>\n",
       "      <td>0.6680</td>\n",
       "      <td>0.50800</td>\n",
       "      <td>0.0000</td>\n",
       "      <td>0.3180</td>\n",
       "      <td>-7.502</td>\n",
       "      <td>0.3560</td>\n",
       "      <td>160.225</td>\n",
       "      <td>0.3710</td>\n",
       "      <td>0</td>\n",
       "      <td>1</td>\n",
       "      <td>0</td>\n",
       "    </tr>\n",
       "    <tr>\n",
       "      <th>123429</th>\n",
       "      <td>Classical</td>\n",
       "      <td>0.98400</td>\n",
       "      <td>0.2370</td>\n",
       "      <td>0.00581</td>\n",
       "      <td>0.6330</td>\n",
       "      <td>0.1070</td>\n",
       "      <td>-24.167</td>\n",
       "      <td>0.0437</td>\n",
       "      <td>76.559</td>\n",
       "      <td>0.0669</td>\n",
       "      <td>0</td>\n",
       "      <td>1</td>\n",
       "      <td>0</td>\n",
       "    </tr>\n",
       "  </tbody>\n",
       "</table>\n",
       "</div>"
      ],
      "text/plain": [
       "            genre  acousticness  danceability   energy  instrumentalness  \\\n",
       "151736        Pop       0.04800        0.6340  0.92700            0.6870   \n",
       "61982        Folk       0.92000        0.3530  0.18500            0.0244   \n",
       "128418  Classical       0.91600        0.0993  0.07630            0.9370   \n",
       "151836        Pop       0.00499        0.6680  0.50800            0.0000   \n",
       "123429  Classical       0.98400        0.2370  0.00581            0.6330   \n",
       "\n",
       "        liveness  loudness  speechiness    tempo  valence  time_signature_3  \\\n",
       "151736    0.0864    -3.282       0.1360  128.016   0.3500                 0   \n",
       "61982     0.1060   -12.557       0.0388  118.467   0.1750                 0   \n",
       "128418    0.3800   -27.210       0.0426   88.985   0.0670                 0   \n",
       "151836    0.3180    -7.502       0.3560  160.225   0.3710                 0   \n",
       "123429    0.1070   -24.167       0.0437   76.559   0.0669                 0   \n",
       "\n",
       "        time_signature_4  time_signature_5  \n",
       "151736                 1                 0  \n",
       "61982                  1                 0  \n",
       "128418                 1                 0  \n",
       "151836                 1                 0  \n",
       "123429                 1                 0  "
      ]
     },
     "metadata": {},
     "output_type": "display_data"
    }
   ],
   "source": [
    "new_df = df.drop(['artist_name','track_name','track_id','popularity','key','mode','duration_ms'],axis = 1)\n",
    "new_df.time_signature = new_df.time_signature.map( {'3/4':3 , '4/4':4, '5/4':5} )\n",
    "new_df = pd.get_dummies(data= new_df, columns=['time_signature'])\n",
    "from sklearn.utils import shuffle\n",
    "new_df = shuffle(new_df)\n",
    "display(new_df.head())"
   ]
  },
  {
   "cell_type": "code",
   "execution_count": 11,
   "id": "80cfe973",
   "metadata": {
    "execution": {
     "iopub.execute_input": "2022-08-14T08:51:37.400542Z",
     "iopub.status.busy": "2022-08-14T08:51:37.399744Z",
     "iopub.status.idle": "2022-08-14T08:51:37.407610Z",
     "shell.execute_reply": "2022-08-14T08:51:37.406699Z"
    },
    "papermill": {
     "duration": 0.021811,
     "end_time": "2022-08-14T08:51:37.409835",
     "exception": false,
     "start_time": "2022-08-14T08:51:37.388024",
     "status": "completed"
    },
    "tags": []
   },
   "outputs": [
    {
     "data": {
      "text/plain": [
       "Index(['acousticness', 'danceability', 'energy', 'instrumentalness',\n",
       "       'liveness', 'loudness', 'speechiness', 'tempo', 'valence',\n",
       "       'time_signature_3', 'time_signature_4', 'time_signature_5'],\n",
       "      dtype='object')"
      ]
     },
     "metadata": {},
     "output_type": "display_data"
    }
   ],
   "source": [
    "features = new_df.keys().drop(['genre']);\n",
    "display(features)"
   ]
  },
  {
   "cell_type": "code",
   "execution_count": 12,
   "id": "fa9e13fd",
   "metadata": {
    "execution": {
     "iopub.execute_input": "2022-08-14T08:51:37.432522Z",
     "iopub.status.busy": "2022-08-14T08:51:37.431737Z",
     "iopub.status.idle": "2022-08-14T08:51:37.477773Z",
     "shell.execute_reply": "2022-08-14T08:51:37.476602Z"
    },
    "papermill": {
     "duration": 0.060184,
     "end_time": "2022-08-14T08:51:37.480247",
     "exception": false,
     "start_time": "2022-08-14T08:51:37.420063",
     "status": "completed"
    },
    "tags": []
   },
   "outputs": [
    {
     "data": {
      "text/html": [
       "<div>\n",
       "<style scoped>\n",
       "    .dataframe tbody tr th:only-of-type {\n",
       "        vertical-align: middle;\n",
       "    }\n",
       "\n",
       "    .dataframe tbody tr th {\n",
       "        vertical-align: top;\n",
       "    }\n",
       "\n",
       "    .dataframe thead th {\n",
       "        text-align: right;\n",
       "    }\n",
       "</style>\n",
       "<table border=\"1\" class=\"dataframe\">\n",
       "  <thead>\n",
       "    <tr style=\"text-align: right;\">\n",
       "      <th></th>\n",
       "      <th>acousticness</th>\n",
       "      <th>danceability</th>\n",
       "      <th>energy</th>\n",
       "      <th>instrumentalness</th>\n",
       "      <th>liveness</th>\n",
       "      <th>loudness</th>\n",
       "      <th>speechiness</th>\n",
       "      <th>tempo</th>\n",
       "      <th>valence</th>\n",
       "      <th>time_signature_3</th>\n",
       "      <th>time_signature_4</th>\n",
       "      <th>time_signature_5</th>\n",
       "    </tr>\n",
       "  </thead>\n",
       "  <tbody>\n",
       "    <tr>\n",
       "      <th>112624</th>\n",
       "      <td>0.512</td>\n",
       "      <td>0.689</td>\n",
       "      <td>0.860</td>\n",
       "      <td>0.000003</td>\n",
       "      <td>0.138</td>\n",
       "      <td>-3.063</td>\n",
       "      <td>0.0528</td>\n",
       "      <td>116.492</td>\n",
       "      <td>0.879</td>\n",
       "      <td>1</td>\n",
       "      <td>0</td>\n",
       "      <td>0</td>\n",
       "    </tr>\n",
       "    <tr>\n",
       "      <th>61929</th>\n",
       "      <td>0.220</td>\n",
       "      <td>0.384</td>\n",
       "      <td>0.949</td>\n",
       "      <td>0.000000</td>\n",
       "      <td>0.736</td>\n",
       "      <td>-3.688</td>\n",
       "      <td>0.0960</td>\n",
       "      <td>136.764</td>\n",
       "      <td>0.547</td>\n",
       "      <td>0</td>\n",
       "      <td>1</td>\n",
       "      <td>0</td>\n",
       "    </tr>\n",
       "    <tr>\n",
       "      <th>111564</th>\n",
       "      <td>0.281</td>\n",
       "      <td>0.754</td>\n",
       "      <td>0.823</td>\n",
       "      <td>0.000000</td>\n",
       "      <td>0.107</td>\n",
       "      <td>-5.502</td>\n",
       "      <td>0.2200</td>\n",
       "      <td>125.932</td>\n",
       "      <td>0.548</td>\n",
       "      <td>0</td>\n",
       "      <td>1</td>\n",
       "      <td>0</td>\n",
       "    </tr>\n",
       "    <tr>\n",
       "      <th>124429</th>\n",
       "      <td>0.948</td>\n",
       "      <td>0.265</td>\n",
       "      <td>0.270</td>\n",
       "      <td>0.126000</td>\n",
       "      <td>0.148</td>\n",
       "      <td>-13.995</td>\n",
       "      <td>0.0371</td>\n",
       "      <td>73.309</td>\n",
       "      <td>0.278</td>\n",
       "      <td>1</td>\n",
       "      <td>0</td>\n",
       "      <td>0</td>\n",
       "    </tr>\n",
       "    <tr>\n",
       "      <th>152011</th>\n",
       "      <td>0.466</td>\n",
       "      <td>0.653</td>\n",
       "      <td>0.425</td>\n",
       "      <td>0.000000</td>\n",
       "      <td>0.273</td>\n",
       "      <td>-6.253</td>\n",
       "      <td>0.0264</td>\n",
       "      <td>101.795</td>\n",
       "      <td>0.484</td>\n",
       "      <td>1</td>\n",
       "      <td>0</td>\n",
       "      <td>0</td>\n",
       "    </tr>\n",
       "  </tbody>\n",
       "</table>\n",
       "</div>"
      ],
      "text/plain": [
       "        acousticness  danceability  energy  instrumentalness  liveness  \\\n",
       "112624         0.512         0.689   0.860          0.000003     0.138   \n",
       "61929          0.220         0.384   0.949          0.000000     0.736   \n",
       "111564         0.281         0.754   0.823          0.000000     0.107   \n",
       "124429         0.948         0.265   0.270          0.126000     0.148   \n",
       "152011         0.466         0.653   0.425          0.000000     0.273   \n",
       "\n",
       "        loudness  speechiness    tempo  valence  time_signature_3  \\\n",
       "112624    -3.063       0.0528  116.492    0.879                 1   \n",
       "61929     -3.688       0.0960  136.764    0.547                 0   \n",
       "111564    -5.502       0.2200  125.932    0.548                 0   \n",
       "124429   -13.995       0.0371   73.309    0.278                 1   \n",
       "152011    -6.253       0.0264  101.795    0.484                 1   \n",
       "\n",
       "        time_signature_4  time_signature_5  \n",
       "112624                 0                 0  \n",
       "61929                  1                 0  \n",
       "111564                 1                 0  \n",
       "124429                 0                 0  \n",
       "152011                 0                 0  "
      ]
     },
     "metadata": {},
     "output_type": "display_data"
    },
    {
     "data": {
      "text/plain": [
       "112624    1\n",
       "61929     2\n",
       "111564    1\n",
       "124429    0\n",
       "152011    1\n",
       "Name: genre, dtype: int64"
      ]
     },
     "metadata": {},
     "output_type": "display_data"
    }
   ],
   "source": [
    "new_df.genre = new_df.genre.map( {'Classical':0 , 'Pop':1, 'Folk':2} )\n",
    "training = new_df.sample(frac = 0.8,random_state = 420)\n",
    "X_train = training[features]\n",
    "y_train = training['genre']\n",
    "X_test = new_df.drop(training.index)[features]\n",
    "y_test = new_df.drop(training.index)['genre']\n",
    "display(X_train.head())\n",
    "display(y_train.head())"
   ]
  },
  {
   "cell_type": "code",
   "execution_count": 13,
   "id": "e1f0cfbf",
   "metadata": {
    "_kg_hide-input": true,
    "execution": {
     "iopub.execute_input": "2022-08-14T08:51:37.503434Z",
     "iopub.status.busy": "2022-08-14T08:51:37.502998Z",
     "iopub.status.idle": "2022-08-14T08:51:37.577932Z",
     "shell.execute_reply": "2022-08-14T08:51:37.576812Z"
    },
    "papermill": {
     "duration": 0.089539,
     "end_time": "2022-08-14T08:51:37.580363",
     "exception": false,
     "start_time": "2022-08-14T08:51:37.490824",
     "status": "completed"
    },
    "tags": []
   },
   "outputs": [
    {
     "data": {
      "text/html": [
       "<div>\n",
       "<style scoped>\n",
       "    .dataframe tbody tr th:only-of-type {\n",
       "        vertical-align: middle;\n",
       "    }\n",
       "\n",
       "    .dataframe tbody tr th {\n",
       "        vertical-align: top;\n",
       "    }\n",
       "\n",
       "    .dataframe thead th {\n",
       "        text-align: right;\n",
       "    }\n",
       "</style>\n",
       "<table border=\"1\" class=\"dataframe\">\n",
       "  <thead>\n",
       "    <tr style=\"text-align: right;\">\n",
       "      <th></th>\n",
       "      <th>acousticness</th>\n",
       "      <th>danceability</th>\n",
       "      <th>energy</th>\n",
       "      <th>instrumentalness</th>\n",
       "      <th>liveness</th>\n",
       "      <th>loudness</th>\n",
       "      <th>speechiness</th>\n",
       "      <th>tempo</th>\n",
       "      <th>valence</th>\n",
       "      <th>time_signature_3</th>\n",
       "      <th>time_signature_4</th>\n",
       "      <th>time_signature_5</th>\n",
       "    </tr>\n",
       "  </thead>\n",
       "  <tbody>\n",
       "    <tr>\n",
       "      <th>112624</th>\n",
       "      <td>0.514056</td>\n",
       "      <td>0.690518</td>\n",
       "      <td>0.861721</td>\n",
       "      <td>0.000003</td>\n",
       "      <td>0.124504</td>\n",
       "      <td>0.076915</td>\n",
       "      <td>0.033160</td>\n",
       "      <td>0.406158</td>\n",
       "      <td>0.886983</td>\n",
       "      <td>1.0</td>\n",
       "      <td>0.0</td>\n",
       "      <td>0.0</td>\n",
       "    </tr>\n",
       "    <tr>\n",
       "      <th>61929</th>\n",
       "      <td>0.220883</td>\n",
       "      <td>0.355795</td>\n",
       "      <td>0.950901</td>\n",
       "      <td>0.000000</td>\n",
       "      <td>0.733279</td>\n",
       "      <td>0.089918</td>\n",
       "      <td>0.079974</td>\n",
       "      <td>0.506222</td>\n",
       "      <td>0.551968</td>\n",
       "      <td>0.0</td>\n",
       "      <td>1.0</td>\n",
       "      <td>0.0</td>\n",
       "    </tr>\n",
       "    <tr>\n",
       "      <th>111564</th>\n",
       "      <td>0.282128</td>\n",
       "      <td>0.761853</td>\n",
       "      <td>0.824646</td>\n",
       "      <td>0.000000</td>\n",
       "      <td>0.092945</td>\n",
       "      <td>0.127658</td>\n",
       "      <td>0.214348</td>\n",
       "      <td>0.452755</td>\n",
       "      <td>0.552977</td>\n",
       "      <td>0.0</td>\n",
       "      <td>1.0</td>\n",
       "      <td>0.0</td>\n",
       "    </tr>\n",
       "    <tr>\n",
       "      <th>124429</th>\n",
       "      <td>0.951807</td>\n",
       "      <td>0.225198</td>\n",
       "      <td>0.270526</td>\n",
       "      <td>0.126761</td>\n",
       "      <td>0.134684</td>\n",
       "      <td>0.304352</td>\n",
       "      <td>0.016147</td>\n",
       "      <td>0.193005</td>\n",
       "      <td>0.280525</td>\n",
       "      <td>1.0</td>\n",
       "      <td>0.0</td>\n",
       "      <td>0.0</td>\n",
       "    </tr>\n",
       "    <tr>\n",
       "      <th>152011</th>\n",
       "      <td>0.467871</td>\n",
       "      <td>0.651010</td>\n",
       "      <td>0.425840</td>\n",
       "      <td>0.000000</td>\n",
       "      <td>0.261936</td>\n",
       "      <td>0.143282</td>\n",
       "      <td>0.004551</td>\n",
       "      <td>0.333613</td>\n",
       "      <td>0.488396</td>\n",
       "      <td>1.0</td>\n",
       "      <td>0.0</td>\n",
       "      <td>0.0</td>\n",
       "    </tr>\n",
       "  </tbody>\n",
       "</table>\n",
       "</div>"
      ],
      "text/plain": [
       "        acousticness  danceability    energy  instrumentalness  liveness  \\\n",
       "112624      0.514056      0.690518  0.861721          0.000003  0.124504   \n",
       "61929       0.220883      0.355795  0.950901          0.000000  0.733279   \n",
       "111564      0.282128      0.761853  0.824646          0.000000  0.092945   \n",
       "124429      0.951807      0.225198  0.270526          0.126761  0.134684   \n",
       "152011      0.467871      0.651010  0.425840          0.000000  0.261936   \n",
       "\n",
       "        loudness  speechiness     tempo   valence  time_signature_3  \\\n",
       "112624  0.076915     0.033160  0.406158  0.886983               1.0   \n",
       "61929   0.089918     0.079974  0.506222  0.551968               0.0   \n",
       "111564  0.127658     0.214348  0.452755  0.552977               0.0   \n",
       "124429  0.304352     0.016147  0.193005  0.280525               1.0   \n",
       "152011  0.143282     0.004551  0.333613  0.488396               1.0   \n",
       "\n",
       "        time_signature_4  time_signature_5  \n",
       "112624               0.0               0.0  \n",
       "61929                1.0               0.0  \n",
       "111564               1.0               0.0  \n",
       "124429               0.0               0.0  \n",
       "152011               0.0               0.0  "
      ]
     },
     "metadata": {},
     "output_type": "display_data"
    },
    {
     "data": {
      "text/html": [
       "<div>\n",
       "<style scoped>\n",
       "    .dataframe tbody tr th:only-of-type {\n",
       "        vertical-align: middle;\n",
       "    }\n",
       "\n",
       "    .dataframe tbody tr th {\n",
       "        vertical-align: top;\n",
       "    }\n",
       "\n",
       "    .dataframe thead th {\n",
       "        text-align: right;\n",
       "    }\n",
       "</style>\n",
       "<table border=\"1\" class=\"dataframe\">\n",
       "  <thead>\n",
       "    <tr style=\"text-align: right;\">\n",
       "      <th></th>\n",
       "      <th>acousticness</th>\n",
       "      <th>danceability</th>\n",
       "      <th>energy</th>\n",
       "      <th>instrumentalness</th>\n",
       "      <th>liveness</th>\n",
       "      <th>loudness</th>\n",
       "      <th>speechiness</th>\n",
       "      <th>tempo</th>\n",
       "      <th>valence</th>\n",
       "      <th>time_signature_3</th>\n",
       "      <th>time_signature_4</th>\n",
       "      <th>time_signature_5</th>\n",
       "    </tr>\n",
       "  </thead>\n",
       "  <tbody>\n",
       "    <tr>\n",
       "      <th>151736</th>\n",
       "      <td>0.048191</td>\n",
       "      <td>0.633583</td>\n",
       "      <td>0.934437</td>\n",
       "      <td>0.695344</td>\n",
       "      <td>0.064153</td>\n",
       "      <td>0.080636</td>\n",
       "      <td>0.165934</td>\n",
       "      <td>0.529637</td>\n",
       "      <td>0.358607</td>\n",
       "      <td>0.0</td>\n",
       "      <td>1.0</td>\n",
       "      <td>0.0</td>\n",
       "    </tr>\n",
       "    <tr>\n",
       "      <th>124893</th>\n",
       "      <td>0.994980</td>\n",
       "      <td>0.152729</td>\n",
       "      <td>0.052558</td>\n",
       "      <td>0.956478</td>\n",
       "      <td>0.050302</td>\n",
       "      <td>0.527218</td>\n",
       "      <td>0.029903</td>\n",
       "      <td>0.273005</td>\n",
       "      <td>0.039549</td>\n",
       "      <td>0.0</td>\n",
       "      <td>1.0</td>\n",
       "      <td>0.0</td>\n",
       "    </tr>\n",
       "    <tr>\n",
       "      <th>65404</th>\n",
       "      <td>0.482931</td>\n",
       "      <td>0.729313</td>\n",
       "      <td>0.361513</td>\n",
       "      <td>0.000242</td>\n",
       "      <td>0.068527</td>\n",
       "      <td>0.199672</td>\n",
       "      <td>0.011287</td>\n",
       "      <td>0.404329</td>\n",
       "      <td>0.339139</td>\n",
       "      <td>0.0</td>\n",
       "      <td>1.0</td>\n",
       "      <td>0.0</td>\n",
       "    </tr>\n",
       "    <tr>\n",
       "      <th>123816</th>\n",
       "      <td>0.870482</td>\n",
       "      <td>0.090009</td>\n",
       "      <td>0.159779</td>\n",
       "      <td>0.928138</td>\n",
       "      <td>0.382420</td>\n",
       "      <td>0.382748</td>\n",
       "      <td>0.025359</td>\n",
       "      <td>0.610498</td>\n",
       "      <td>0.033914</td>\n",
       "      <td>1.0</td>\n",
       "      <td>0.0</td>\n",
       "      <td>0.0</td>\n",
       "    </tr>\n",
       "    <tr>\n",
       "      <th>43917</th>\n",
       "      <td>0.850401</td>\n",
       "      <td>0.513644</td>\n",
       "      <td>0.559212</td>\n",
       "      <td>0.000173</td>\n",
       "      <td>0.056967</td>\n",
       "      <td>0.193843</td>\n",
       "      <td>0.031076</td>\n",
       "      <td>0.751475</td>\n",
       "      <td>0.588115</td>\n",
       "      <td>0.0</td>\n",
       "      <td>1.0</td>\n",
       "      <td>0.0</td>\n",
       "    </tr>\n",
       "  </tbody>\n",
       "</table>\n",
       "</div>"
      ],
      "text/plain": [
       "        acousticness  danceability    energy  instrumentalness  liveness  \\\n",
       "151736      0.048191      0.633583  0.934437          0.695344  0.064153   \n",
       "124893      0.994980      0.152729  0.052558          0.956478  0.050302   \n",
       "65404       0.482931      0.729313  0.361513          0.000242  0.068527   \n",
       "123816      0.870482      0.090009  0.159779          0.928138  0.382420   \n",
       "43917       0.850401      0.513644  0.559212          0.000173  0.056967   \n",
       "\n",
       "        loudness  speechiness     tempo   valence  time_signature_3  \\\n",
       "151736  0.080636     0.165934  0.529637  0.358607               0.0   \n",
       "124893  0.527218     0.029903  0.273005  0.039549               0.0   \n",
       "65404   0.199672     0.011287  0.404329  0.339139               0.0   \n",
       "123816  0.382748     0.025359  0.610498  0.033914               1.0   \n",
       "43917   0.193843     0.031076  0.751475  0.588115               0.0   \n",
       "\n",
       "        time_signature_4  time_signature_5  \n",
       "151736               1.0               0.0  \n",
       "124893               1.0               0.0  \n",
       "65404                1.0               0.0  \n",
       "123816               0.0               0.0  \n",
       "43917                1.0               0.0  "
      ]
     },
     "metadata": {},
     "output_type": "display_data"
    }
   ],
   "source": [
    "from sklearn.preprocessing import MinMaxScaler\n",
    "pd.options.mode.chained_assignment = None  # default='warn'\n",
    "scaler = MinMaxScaler()\n",
    "# Loudness goes from -60 to 0 db, I will convert it to a positive value before normalizing it \n",
    "X_train['loudness'] *= -1\n",
    "X_train = pd.DataFrame(scaler.fit_transform(X_train), index=X_train.index, columns=X_train.columns)\n",
    "display(X_train.head())\n",
    "X_test['loudness'] *= -1\n",
    "X_test = pd.DataFrame(scaler.fit_transform(X_test), index=X_test.index, columns=X_test.columns)\n",
    "display(X_test.head())"
   ]
  },
  {
   "cell_type": "code",
   "execution_count": 14,
   "id": "d2a5c852",
   "metadata": {
    "execution": {
     "iopub.execute_input": "2022-08-14T08:51:37.605925Z",
     "iopub.status.busy": "2022-08-14T08:51:37.603591Z",
     "iopub.status.idle": "2022-08-14T08:51:37.731187Z",
     "shell.execute_reply": "2022-08-14T08:51:37.730298Z"
    },
    "papermill": {
     "duration": 0.142536,
     "end_time": "2022-08-14T08:51:37.733818",
     "exception": false,
     "start_time": "2022-08-14T08:51:37.591282",
     "status": "completed"
    },
    "tags": []
   },
   "outputs": [],
   "source": [
    "from sklearn.model_selection import train_test_split\n",
    "from sklearn.linear_model import LogisticRegression\n",
    "from sklearn.metrics import make_scorer, accuracy_score, roc_auc_score \n",
    "X_train, X_valid, y_train, y_valid = train_test_split(X_train, y_train, test_size = 0.2, random_state = 1)"
   ]
  },
  {
   "cell_type": "code",
   "execution_count": 15,
   "id": "fe5db643",
   "metadata": {
    "execution": {
     "iopub.execute_input": "2022-08-14T08:51:37.759281Z",
     "iopub.status.busy": "2022-08-14T08:51:37.758097Z",
     "iopub.status.idle": "2022-08-14T08:51:38.408229Z",
     "shell.execute_reply": "2022-08-14T08:51:38.406976Z"
    },
    "papermill": {
     "duration": 0.666015,
     "end_time": "2022-08-14T08:51:38.410956",
     "exception": false,
     "start_time": "2022-08-14T08:51:37.744941",
     "status": "completed"
    },
    "tags": []
   },
   "outputs": [
    {
     "data": {
      "image/png": "[encoded data removed]",
      "text/plain": [
       "<Figure size 792x1080 with 2 Axes>"
      ]
     },
     "metadata": {
      "needs_background": "light"
     },
     "output_type": "display_data"
    }
   ],
   "source": [
    "corr_heatmap(X_train)"
   ]
  },
  {
   "cell_type": "code",
   "execution_count": 16,
   "id": "3f7d92c5",
   "metadata": {
    "execution": {
     "iopub.execute_input": "2022-08-14T08:51:38.437728Z",
     "iopub.status.busy": "2022-08-14T08:51:38.437356Z",
     "iopub.status.idle": "2022-08-14T08:51:38.443265Z",
     "shell.execute_reply": "2022-08-14T08:51:38.442219Z"
    },
    "papermill": {
     "duration": 0.022072,
     "end_time": "2022-08-14T08:51:38.445467",
     "exception": false,
     "start_time": "2022-08-14T08:51:38.423395",
     "status": "completed"
    },
    "tags": []
   },
   "outputs": [],
   "source": [
    "# Currently the ‘multinomial’ option is supported only by the ‘lbfgs’, ‘sag’, ‘saga’ and ‘newton-cg’ solvers.\n",
    "# http://scikit-learn.org/stable/modules/generated/sklearn.linear_model.LogisticRegression.html#sklearn.linear_model.LogisticRegression\n",
    "param_grid = [    \n",
    "    {'penalty' : ['l2', 'none'],\n",
    "    'C' : np.logspace(-4, 4, 20),\n",
    "    'solver' : ['lbfgs','newton-cg', 'sag', 'saga'],\n",
    "    'max_iter' : [100, 1000,2500, 5000]\n",
    "    }\n",
    "]"
   ]
  },
  {
   "cell_type": "code",
   "execution_count": 17,
   "id": "257d0fb6",
   "metadata": {
    "execution": {
     "iopub.execute_input": "2022-08-14T08:51:38.471855Z",
     "iopub.status.busy": "2022-08-14T08:51:38.471458Z",
     "iopub.status.idle": "2022-08-14T08:51:38.475998Z",
     "shell.execute_reply": "2022-08-14T08:51:38.474942Z"
    },
    "papermill": {
     "duration": 0.020422,
     "end_time": "2022-08-14T08:51:38.478205",
     "exception": false,
     "start_time": "2022-08-14T08:51:38.457783",
     "status": "completed"
    },
    "tags": []
   },
   "outputs": [],
   "source": [
    "#from sklearn.model_selection import GridSearchCV\n",
    "#clf = GridSearchCV(LogisticRegression(multi_class = 'multinomial'), param_grid = param_grid, verbose=10, n_jobs=-1, error_score=\"raise\")\n",
    "#best_clf = clf.fit(X_train, y_train)"
   ]
  },
  {
   "cell_type": "code",
   "execution_count": 18,
   "id": "5b7a0d6c",
   "metadata": {
    "execution": {
     "iopub.execute_input": "2022-08-14T08:51:38.504694Z",
     "iopub.status.busy": "2022-08-14T08:51:38.504285Z",
     "iopub.status.idle": "2022-08-14T08:51:38.508519Z",
     "shell.execute_reply": "2022-08-14T08:51:38.507744Z"
    },
    "papermill": {
     "duration": 0.019728,
     "end_time": "2022-08-14T08:51:38.510490",
     "exception": false,
     "start_time": "2022-08-14T08:51:38.490762",
     "status": "completed"
    },
    "tags": []
   },
   "outputs": [],
   "source": [
    "#print(best_clf.best_estimator_)\n",
    "#print(best_clf.cv_results_)\n",
    "#print (f'Accuracy - : {best_clf.score(X_train, y_train):.3f}')"
   ]
  },
  {
   "cell_type": "code",
   "execution_count": 19,
   "id": "cb6aff73",
   "metadata": {
    "execution": {
     "iopub.execute_input": "2022-08-14T08:51:38.536746Z",
     "iopub.status.busy": "2022-08-14T08:51:38.536360Z",
     "iopub.status.idle": "2022-08-14T08:51:40.020977Z",
     "shell.execute_reply": "2022-08-14T08:51:40.019405Z"
    },
    "papermill": {
     "duration": 1.50255,
     "end_time": "2022-08-14T08:51:40.025358",
     "exception": false,
     "start_time": "2022-08-14T08:51:38.522808",
     "status": "completed"
    },
    "tags": []
   },
   "outputs": [
    {
     "data": {
      "text/plain": [
       "LogisticRegression(C=11.288378916846883, multi_class='multinomial',\n",
       "                   solver='newton-cg')"
      ]
     },
     "execution_count": 19,
     "metadata": {},
     "output_type": "execute_result"
    }
   ],
   "source": [
    "# Thanks to GridSearch we know that the best choice is LogisticRegression(C=11.288378916846883, multi_class='multinomial',solver='newton-cg')\n",
    "model = LogisticRegression(C=11.288378916846883, multi_class='multinomial',solver='newton-cg')\n",
    "model.fit(X_train, y_train)"
   ]
  },
  {
   "cell_type": "code",
   "execution_count": 20,
   "id": "97563d0b",
   "metadata": {
    "execution": {
     "iopub.execute_input": "2022-08-14T08:51:40.090128Z",
     "iopub.status.busy": "2022-08-14T08:51:40.089431Z",
     "iopub.status.idle": "2022-08-14T08:51:40.131402Z",
     "shell.execute_reply": "2022-08-14T08:51:40.130472Z"
    },
    "papermill": {
     "duration": 0.077275,
     "end_time": "2022-08-14T08:51:40.134079",
     "exception": false,
     "start_time": "2022-08-14T08:51:40.056804",
     "status": "completed"
    },
    "tags": []
   },
   "outputs": [
    {
     "name": "stdout",
     "output_type": "stream",
     "text": [
      "              precision    recall  f1-score   support\n",
      "\n",
      "           0       0.91      0.88      0.89      1434\n",
      "           1       0.77      0.77      0.77      1513\n",
      "           2       0.71      0.73      0.72      1524\n",
      "\n",
      "    accuracy                           0.79      4471\n",
      "   macro avg       0.80      0.79      0.80      4471\n",
      "weighted avg       0.79      0.79      0.79      4471\n",
      "\n"
     ]
    }
   ],
   "source": [
    "y_pred = model.predict(X_valid)\n",
    "from sklearn.metrics import classification_report\n",
    "print(classification_report(y_valid, y_pred))"
   ]
  },
  {
   "cell_type": "code",
   "execution_count": 21,
   "id": "f98fa7e5",
   "metadata": {
    "execution": {
     "iopub.execute_input": "2022-08-14T08:51:40.161274Z",
     "iopub.status.busy": "2022-08-14T08:51:40.160437Z",
     "iopub.status.idle": "2022-08-14T08:51:41.551855Z",
     "shell.execute_reply": "2022-08-14T08:51:41.550597Z"
    },
    "papermill": {
     "duration": 1.409038,
     "end_time": "2022-08-14T08:51:41.555700",
     "exception": false,
     "start_time": "2022-08-14T08:51:40.146662",
     "status": "completed"
    },
    "tags": []
   },
   "outputs": [
    {
     "name": "stdout",
     "output_type": "stream",
     "text": [
      "              precision    recall  f1-score   support\n",
      "\n",
      "           0       0.88      0.87      0.87      1434\n",
      "           1       0.75      0.74      0.74      1513\n",
      "           2       0.68      0.70      0.69      1524\n",
      "\n",
      "    accuracy                           0.77      4471\n",
      "   macro avg       0.77      0.77      0.77      4471\n",
      "weighted avg       0.77      0.77      0.77      4471\n",
      "\n"
     ]
    }
   ],
   "source": [
    "X_train_loudness = X_train.drop(['loudness'], axis=1)\n",
    "X_valid_loudness = X_valid.drop(['loudness'], axis=1)\n",
    "lrm_cor = LogisticRegression(C=11.288378916846883, multi_class='multinomial',solver='newton-cg').fit(X_train_loudness, y_train)\n",
    "print(classification_report(y_valid, lrm_cor.predict(X_valid_loudness)))"
   ]
  },
  {
   "cell_type": "code",
   "execution_count": 22,
   "id": "75c5f0d0",
   "metadata": {
    "execution": {
     "iopub.execute_input": "2022-08-14T08:51:41.621015Z",
     "iopub.status.busy": "2022-08-14T08:51:41.620347Z",
     "iopub.status.idle": "2022-08-14T08:51:42.833972Z",
     "shell.execute_reply": "2022-08-14T08:51:42.832369Z"
    },
    "papermill": {
     "duration": 1.251559,
     "end_time": "2022-08-14T08:51:42.838628",
     "exception": false,
     "start_time": "2022-08-14T08:51:41.587069",
     "status": "completed"
    },
    "tags": []
   },
   "outputs": [
    {
     "name": "stdout",
     "output_type": "stream",
     "text": [
      "              precision    recall  f1-score   support\n",
      "\n",
      "           0       0.91      0.88      0.89      1434\n",
      "           1       0.77      0.77      0.77      1513\n",
      "           2       0.71      0.73      0.72      1524\n",
      "\n",
      "    accuracy                           0.79      4471\n",
      "   macro avg       0.80      0.79      0.80      4471\n",
      "weighted avg       0.79      0.79      0.79      4471\n",
      "\n"
     ]
    }
   ],
   "source": [
    "X_train_energy = X_train.drop(['energy'], axis=1)\n",
    "X_valid_energy = X_valid.drop(['energy'], axis=1)\n",
    "lrm_cor = LogisticRegression(C=11.288378916846883, multi_class='multinomial',solver='newton-cg').fit(X_train_energy, y_train)\n",
    "print(classification_report(y_valid, lrm_cor.predict(X_valid_energy)))"
   ]
  },
  {
   "cell_type": "code",
   "execution_count": 23,
   "id": "9fdf7453",
   "metadata": {
    "execution": {
     "iopub.execute_input": "2022-08-14T08:51:42.908562Z",
     "iopub.status.busy": "2022-08-14T08:51:42.907814Z",
     "iopub.status.idle": "2022-08-14T08:51:44.827087Z",
     "shell.execute_reply": "2022-08-14T08:51:44.825205Z"
    },
    "papermill": {
     "duration": 1.960652,
     "end_time": "2022-08-14T08:51:44.832155",
     "exception": false,
     "start_time": "2022-08-14T08:51:42.871503",
     "status": "completed"
    },
    "tags": []
   },
   "outputs": [
    {
     "name": "stdout",
     "output_type": "stream",
     "text": [
      "              precision    recall  f1-score   support\n",
      "\n",
      "           0       0.91      0.87      0.89      1434\n",
      "           1       0.77      0.77      0.77      1513\n",
      "           2       0.71      0.73      0.72      1524\n",
      "\n",
      "    accuracy                           0.79      4471\n",
      "   macro avg       0.79      0.79      0.79      4471\n",
      "weighted avg       0.79      0.79      0.79      4471\n",
      "\n"
     ]
    }
   ],
   "source": [
    "X_train_acousticness = X_train.drop(['acousticness'], axis=1)\n",
    "X_valid_acousticness = X_valid.drop(['acousticness'], axis=1)\n",
    "lrm_cor = LogisticRegression(C=11.288378916846883, multi_class='multinomial',solver='newton-cg').fit(X_train_acousticness, y_train)\n",
    "print(classification_report(y_valid, lrm_cor.predict(X_valid_acousticness)))"
   ]
  },
  {
   "cell_type": "code",
   "execution_count": 24,
   "id": "0f395ac6",
   "metadata": {
    "execution": {
     "iopub.execute_input": "2022-08-14T08:51:44.901087Z",
     "iopub.status.busy": "2022-08-14T08:51:44.900384Z",
     "iopub.status.idle": "2022-08-14T08:51:44.926522Z",
     "shell.execute_reply": "2022-08-14T08:51:44.925017Z"
    },
    "papermill": {
     "duration": 0.06352,
     "end_time": "2022-08-14T08:51:44.928993",
     "exception": false,
     "start_time": "2022-08-14T08:51:44.865473",
     "status": "completed"
    },
    "tags": []
   },
   "outputs": [
    {
     "name": "stdout",
     "output_type": "stream",
     "text": [
      "              precision    recall  f1-score   support\n",
      "\n",
      "           0       0.93      0.88      0.90      1885\n",
      "           1       0.74      0.81      0.78      1821\n",
      "           2       0.73      0.70      0.71      1882\n",
      "\n",
      "    accuracy                           0.80      5588\n",
      "   macro avg       0.80      0.80      0.80      5588\n",
      "weighted avg       0.80      0.80      0.80      5588\n",
      "\n"
     ]
    }
   ],
   "source": [
    "# The accuracy changes between 0.81 and 0.79 in every situation, I'm going to just keep those features\n",
    "# I will now test the data with X_test and y_test\n",
    "y_pred = model.predict(X_test)\n",
    "print(classification_report(y_test, y_pred))"
   ]
  },
  {
   "cell_type": "code",
   "execution_count": 25,
   "id": "00f7fab3",
   "metadata": {
    "execution": {
     "iopub.execute_input": "2022-08-14T08:51:44.956331Z",
     "iopub.status.busy": "2022-08-14T08:51:44.955863Z",
     "iopub.status.idle": "2022-08-14T08:51:44.969352Z",
     "shell.execute_reply": "2022-08-14T08:51:44.968224Z"
    },
    "papermill": {
     "duration": 0.02998,
     "end_time": "2022-08-14T08:51:44.971878",
     "exception": false,
     "start_time": "2022-08-14T08:51:44.941898",
     "status": "completed"
    },
    "tags": []
   },
   "outputs": [],
   "source": [
    "# We see that the accuracy doesn't change much\n",
    "# We'll now try to get best results with a Neural Network\n",
    "from sklearn.neural_network import MLPClassifier\n",
    "\n",
    "#mlp_gs = MLPClassifier()\n",
    "parameter_space = {\n",
    "    'hidden_layer_sizes': [(100, 100), (100, 100, 100), (100, 100, 100, 100)],\n",
    "    'activation': ['tanh', 'relu'],\n",
    "    'solver': ['sgd','adam'],\n",
    "    'alpha': [0.0001, 0.001, 0.01, 0.1],\n",
    "}\n",
    "#from sklearn.model_selection import GridSearchCV\n",
    "#from sklearn.metrics import classification_report\n",
    "#clf = GridSearchCV(mlp_gs, parameter_space, n_jobs=-1, cv=5, scoring='accuracy', verbose=10, error_score=\"raise\")\n",
    "#clf.fit(X_train, y_train) # X is train samples and t is the corresponding labels\n",
    "\n",
    "# best score achieved during the GridSearchCV\n",
    "#print('GridSearch CV best score : {:.4f}\\n\\n'.format(clf.best_score_))\n",
    "\n",
    "# print parameters that give the best results\n",
    "#print('Parameters that give the best results :','\\n\\n', (clf.best_params_))\n",
    "\n",
    "# print estimator that was chosen by the GridSearch\n",
    "#print('\\n\\nEstimator that was chosen by the search :','\\n\\n', (clf.best_estimator_))\n",
    "\n",
    "# %% [code]\n",
    "# calculate GridSearch CV score on test set\n",
    "#t_pred = clf.predict(X_valid)\n",
    "\n",
    "#print('Model classification report with GridSearcg CV: \\n', classification_report(y_valid, t_pred))"
   ]
  },
  {
   "cell_type": "code",
   "execution_count": 26,
   "id": "379cc83d",
   "metadata": {
    "execution": {
     "iopub.execute_input": "2022-08-14T08:51:44.999441Z",
     "iopub.status.busy": "2022-08-14T08:51:44.999020Z",
     "iopub.status.idle": "2022-08-14T08:51:45.012372Z",
     "shell.execute_reply": "2022-08-14T08:51:45.011126Z"
    },
    "papermill": {
     "duration": 0.030076,
     "end_time": "2022-08-14T08:51:45.014705",
     "exception": false,
     "start_time": "2022-08-14T08:51:44.984629",
     "status": "completed"
    },
    "tags": []
   },
   "outputs": [],
   "source": [
    "# With GridSearch we can see that the estimatore whioch gives the best result is\n",
    "# MLPClassifier(activation='tanh', alpha=0.001, hidden_layer_sizes=(100, 100, 100, 100))\n",
    "# I will now perform a second Grid Search with hyperparameters more similar to the ones just found\n",
    "# and with early stopping in order to be more precise\n",
    "# I will merge train and valid sets and test on the testing set\n",
    "X_train = pd.concat([X_train, X_valid])\n",
    "y_train = pd.concat([y_train, y_valid])\n",
    "X_train, y_train = shuffle(X_train, y_train)\n",
    "parameter_space = {\n",
    "    'hidden_layer_sizes': [(100, 100, 100, 100), (100, 150, 200, 250), (100, 200, 300, 400)],\n",
    "    'activation': ['tanh'],\n",
    "    'solver': ['adam'],\n",
    "    'alpha': [0.0001, 0.0002, 0.0004, 0.0008],\n",
    "    'early_stopping': [True, False]\n",
    "}\n",
    "#from sklearn.model_selection import GridSearchCV\n",
    "#from sklearn.metrics import classification_report\n",
    "#clf = GridSearchCV(mlp_gs, parameter_space, n_jobs=-1, cv=5, scoring='accuracy', verbose=10, error_score=\"raise\")\n",
    "#clf.fit(X_train, y_train) # X is train samples and t is the corresponding labels\n",
    "\n",
    "# best score achieved during the GridSearchCV\n",
    "#print('GridSearch CV best score : {:.4f}\\n\\n'.format(clf.best_score_))\n",
    "\n",
    "# print parameters that give the best results\n",
    "#print('Parameters that give the best results :','\\n\\n', (clf.best_params_))\n",
    "\n",
    "# print estimator that was chosen by the GridSearch\n",
    "#print('\\n\\nEstimator that was chosen by the search :','\\n\\n', (clf.best_estimator_))\n",
    "\n",
    "# %% [code]\n",
    "# calculate GridSearch CV score on test set\n",
    "#t_pred = clf.predict(X_test)\n",
    "\n",
    "#print('Model classification report with GridSearcg CV: \\n', classification_report(y_test, t_pred))"
   ]
  },
  {
   "cell_type": "code",
   "execution_count": 27,
   "id": "cbcd15a8",
   "metadata": {
    "execution": {
     "iopub.execute_input": "2022-08-14T08:51:45.042128Z",
     "iopub.status.busy": "2022-08-14T08:51:45.041712Z",
     "iopub.status.idle": "2022-08-14T09:01:55.602195Z",
     "shell.execute_reply": "2022-08-14T09:01:55.600220Z"
    },
    "papermill": {
     "duration": 610.57948,
     "end_time": "2022-08-14T09:01:55.607086",
     "exception": false,
     "start_time": "2022-08-14T08:51:45.027606",
     "status": "completed"
    },
    "tags": []
   },
   "outputs": [],
   "source": [
    "# Thanks to GridSearch we know that the best choice is MLPClassifier(activation='tanh', alpha=0.0008, hidden_layer_sizes=(100, 150, 200, 250)).fit(X_train, y_train)\n",
    "clf = MLPClassifier(activation='tanh', alpha=0.0008, hidden_layer_sizes=(100, 150, 200, 250), max_iter = 500).fit(X_train, y_train)\n",
    "y_pred=clf.predict(X_train)"
   ]
  },
  {
   "cell_type": "code",
   "execution_count": 28,
   "id": "5dd93908",
   "metadata": {
    "execution": {
     "iopub.execute_input": "2022-08-14T09:01:55.673550Z",
     "iopub.status.busy": "2022-08-14T09:01:55.672582Z",
     "iopub.status.idle": "2022-08-14T09:01:56.006489Z",
     "shell.execute_reply": "2022-08-14T09:01:56.004811Z"
    },
    "papermill": {
     "duration": 0.371901,
     "end_time": "2022-08-14T09:01:56.011445",
     "exception": false,
     "start_time": "2022-08-14T09:01:55.639544",
     "status": "completed"
    },
    "tags": []
   },
   "outputs": [
    {
     "name": "stdout",
     "output_type": "stream",
     "text": [
      "              precision    recall  f1-score   support\n",
      "\n",
      "           0       0.91      0.90      0.91      1885\n",
      "           1       0.72      0.77      0.74      1821\n",
      "           2       0.70      0.66      0.68      1882\n",
      "\n",
      "    accuracy                           0.78      5588\n",
      "   macro avg       0.78      0.78      0.78      5588\n",
      "weighted avg       0.78      0.78      0.78      5588\n",
      "\n"
     ]
    }
   ],
   "source": [
    "y_pred = clf.predict(X_test)\n",
    "print(classification_report(y_test, y_pred))"
   ]
  },
  {
   "cell_type": "code",
   "execution_count": null,
   "id": "3f500b38",
   "metadata": {
    "papermill": {
     "duration": 0.031223,
     "end_time": "2022-08-14T09:01:56.075042",
     "exception": false,
     "start_time": "2022-08-14T09:01:56.043819",
     "status": "completed"
    },
    "tags": []
   },
   "outputs": [],
   "source": []
  }
 ],
 "metadata": {
  "kernelspec": {
   "display_name": "Python 3",
   "language": "python",
   "name": "python3"
  },
  "language_info": {
   "codemirror_mode": {
    "name": "ipython",
    "version": 3
   },
   "file_extension": ".py",
   "mimetype": "text/x-python",
   "name": "python",
   "nbconvert_exporter": "python",
   "pygments_lexer": "ipython3",
   "version": "3.7.12"
  },
  "papermill": {
   "default_parameters": {},
   "duration": 634.244392,
   "end_time": "2022-08-14T09:01:56.921847",
   "environment_variables": {},
   "exception": null,
   "input_path": "__notebook__.ipynb",
   "output_path": "__notebook__.ipynb",
   "parameters": {},
   "start_time": "2022-08-14T08:51:22.677455",
   "version": "2.3.4"
  }
 },
 "nbformat": 4,
 "nbformat_minor": 5
}
